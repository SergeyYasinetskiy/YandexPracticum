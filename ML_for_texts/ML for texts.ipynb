{
 "cells": [
  {
   "cell_type": "markdown",
   "metadata": {
    "toc": true
   },
   "source": [
    "<h1>Содержание<span class=\"tocSkip\"></span></h1>\n",
    "<div class=\"toc\"><ul class=\"toc-item\"><li><span><a href=\"#Подготовка\" data-toc-modified-id=\"Подготовка-1\"><span class=\"toc-item-num\">1&nbsp;&nbsp;</span>Подготовка</a></span></li><li><span><a href=\"#Обучение\" data-toc-modified-id=\"Обучение-2\"><span class=\"toc-item-num\">2&nbsp;&nbsp;</span>Обучение</a></span><ul class=\"toc-item\"><li><span><a href=\"#Логистическая-регрессия\" data-toc-modified-id=\"Логистическая-регрессия-2.1\"><span class=\"toc-item-num\">2.1&nbsp;&nbsp;</span>Логистическая регрессия</a></span></li><li><span><a href=\"#Дерево-решений\" data-toc-modified-id=\"Дерево-решений-2.2\"><span class=\"toc-item-num\">2.2&nbsp;&nbsp;</span>Дерево решений</a></span></li><li><span><a href=\"#CatBoost\" data-toc-modified-id=\"CatBoost-2.3\"><span class=\"toc-item-num\">2.3&nbsp;&nbsp;</span>CatBoost</a></span></li><li><span><a href=\"#Проверка-на-тестовой-выборке\" data-toc-modified-id=\"Проверка-на-тестовой-выборке-2.4\"><span class=\"toc-item-num\">2.4&nbsp;&nbsp;</span>Проверка на тестовой выборке</a></span></li></ul></li><li><span><a href=\"#Выводы\" data-toc-modified-id=\"Выводы-3\"><span class=\"toc-item-num\">3&nbsp;&nbsp;</span>Выводы</a></span></li><li><span><a href=\"#Чек-лист-проверки\" data-toc-modified-id=\"Чек-лист-проверки-4\"><span class=\"toc-item-num\">4&nbsp;&nbsp;</span>Чек-лист проверки</a></span></li></ul></div>"
   ]
  },
  {
   "cell_type": "markdown",
   "metadata": {},
   "source": [
    "# Проект для «Викишоп»"
   ]
  },
  {
   "cell_type": "markdown",
   "metadata": {},
   "source": [
    "Интернет-магазин «Викишоп» запускает новый сервис. Теперь пользователи могут редактировать и дополнять описания товаров, как в вики-сообществах. То есть клиенты предлагают свои правки и комментируют изменения других. Магазину нужен инструмент, который будет искать токсичные комментарии и отправлять их на модерацию. \n",
    "\n",
    "Наша задача - обучить модель классифицировать комментарии на позитивные и негативные. В нашем распоряжении набор данных с разметкой о токсичности правок.\n",
    "\n",
    "Построим модель со значением метрики качества *F1* не меньше 0.75. \n",
    "\n",
    "**План по выполнению проекта следующий:**\n",
    "\n",
    "1. Загрузка и подготовка данных.\n",
    "2. Обучение разных модели. \n",
    "3. Выводы.\n",
    "\n",
    "**Описание данных**\n",
    "\n",
    "Данные находятся в файле `toxic_comments.csv`. Столбец *text* в нём содержит текст комментария, а *toxic* — целевой признак."
   ]
  },
  {
   "cell_type": "markdown",
   "metadata": {},
   "source": [
    "## Подготовка"
   ]
  },
  {
   "cell_type": "markdown",
   "metadata": {},
   "source": [
    "Импортируем необходимые библиотеки:"
   ]
  },
  {
   "cell_type": "code",
   "execution_count": 1,
   "metadata": {
    "scrolled": true
   },
   "outputs": [
    {
     "name": "stderr",
     "output_type": "stream",
     "text": [
      "[nltk_data] Downloading package stopwords to /home/jovyan/nltk_data...\n",
      "[nltk_data]   Package stopwords is already up-to-date!\n",
      "[nltk_data] Downloading package averaged_perceptron_tagger to\n",
      "[nltk_data]     /home/jovyan/nltk_data...\n",
      "[nltk_data]   Package averaged_perceptron_tagger is already up-to-\n",
      "[nltk_data]       date!\n"
     ]
    }
   ],
   "source": [
    "import numpy as np\n",
    "import pandas as pd\n",
    "#import transformers\n",
    "import re\n",
    "import nltk\n",
    "nltk.download('stopwords')\n",
    "nltk.download('averaged_perceptron_tagger')\n",
    "from nltk.corpus import stopwords as nltk_stopwords\n",
    "from nltk.corpus import wordnet\n",
    "from nltk.stem import WordNetLemmatizer\n",
    "#from pymystem3 import Mystem\n",
    "#from tqdm import notebook\n",
    "\n",
    "from sklearn.linear_model import LogisticRegression\n",
    "from sklearn.model_selection import cross_val_score\n",
    "from sklearn.model_selection import train_test_split\n",
    "from sklearn.metrics import f1_score\n",
    "from sklearn.feature_extraction.text import TfidfVectorizer\n",
    "from sklearn.tree import DecisionTreeClassifier\n",
    "from catboost import CatBoostClassifier\n",
    "\n",
    "import warnings\n",
    "warnings.filterwarnings('ignore')"
   ]
  },
  {
   "cell_type": "code",
   "execution_count": 2,
   "metadata": {},
   "outputs": [],
   "source": [
    "data = pd.read_csv('/datasets/toxic_comments.csv', index_col=0)"
   ]
  },
  {
   "cell_type": "markdown",
   "metadata": {},
   "source": [
    "Посмотрим на наши данные:"
   ]
  },
  {
   "cell_type": "code",
   "execution_count": 3,
   "metadata": {},
   "outputs": [
    {
     "data": {
      "text/html": [
       "<div>\n",
       "<style scoped>\n",
       "    .dataframe tbody tr th:only-of-type {\n",
       "        vertical-align: middle;\n",
       "    }\n",
       "\n",
       "    .dataframe tbody tr th {\n",
       "        vertical-align: top;\n",
       "    }\n",
       "\n",
       "    .dataframe thead th {\n",
       "        text-align: right;\n",
       "    }\n",
       "</style>\n",
       "<table border=\"1\" class=\"dataframe\">\n",
       "  <thead>\n",
       "    <tr style=\"text-align: right;\">\n",
       "      <th></th>\n",
       "      <th>text</th>\n",
       "      <th>toxic</th>\n",
       "    </tr>\n",
       "  </thead>\n",
       "  <tbody>\n",
       "    <tr>\n",
       "      <th>0</th>\n",
       "      <td>Explanation\\nWhy the edits made under my usern...</td>\n",
       "      <td>0</td>\n",
       "    </tr>\n",
       "    <tr>\n",
       "      <th>1</th>\n",
       "      <td>D'aww! He matches this background colour I'm s...</td>\n",
       "      <td>0</td>\n",
       "    </tr>\n",
       "    <tr>\n",
       "      <th>2</th>\n",
       "      <td>Hey man, I'm really not trying to edit war. It...</td>\n",
       "      <td>0</td>\n",
       "    </tr>\n",
       "    <tr>\n",
       "      <th>3</th>\n",
       "      <td>\"\\nMore\\nI can't make any real suggestions on ...</td>\n",
       "      <td>0</td>\n",
       "    </tr>\n",
       "    <tr>\n",
       "      <th>4</th>\n",
       "      <td>You, sir, are my hero. Any chance you remember...</td>\n",
       "      <td>0</td>\n",
       "    </tr>\n",
       "    <tr>\n",
       "      <th>...</th>\n",
       "      <td>...</td>\n",
       "      <td>...</td>\n",
       "    </tr>\n",
       "    <tr>\n",
       "      <th>159446</th>\n",
       "      <td>\":::::And for the second time of asking, when ...</td>\n",
       "      <td>0</td>\n",
       "    </tr>\n",
       "    <tr>\n",
       "      <th>159447</th>\n",
       "      <td>You should be ashamed of yourself \\n\\nThat is ...</td>\n",
       "      <td>0</td>\n",
       "    </tr>\n",
       "    <tr>\n",
       "      <th>159448</th>\n",
       "      <td>Spitzer \\n\\nUmm, theres no actual article for ...</td>\n",
       "      <td>0</td>\n",
       "    </tr>\n",
       "    <tr>\n",
       "      <th>159449</th>\n",
       "      <td>And it looks like it was actually you who put ...</td>\n",
       "      <td>0</td>\n",
       "    </tr>\n",
       "    <tr>\n",
       "      <th>159450</th>\n",
       "      <td>\"\\nAnd ... I really don't think you understand...</td>\n",
       "      <td>0</td>\n",
       "    </tr>\n",
       "  </tbody>\n",
       "</table>\n",
       "<p>159292 rows × 2 columns</p>\n",
       "</div>"
      ],
      "text/plain": [
       "                                                     text  toxic\n",
       "0       Explanation\\nWhy the edits made under my usern...      0\n",
       "1       D'aww! He matches this background colour I'm s...      0\n",
       "2       Hey man, I'm really not trying to edit war. It...      0\n",
       "3       \"\\nMore\\nI can't make any real suggestions on ...      0\n",
       "4       You, sir, are my hero. Any chance you remember...      0\n",
       "...                                                   ...    ...\n",
       "159446  \":::::And for the second time of asking, when ...      0\n",
       "159447  You should be ashamed of yourself \\n\\nThat is ...      0\n",
       "159448  Spitzer \\n\\nUmm, theres no actual article for ...      0\n",
       "159449  And it looks like it was actually you who put ...      0\n",
       "159450  \"\\nAnd ... I really don't think you understand...      0\n",
       "\n",
       "[159292 rows x 2 columns]"
      ]
     },
     "execution_count": 3,
     "metadata": {},
     "output_type": "execute_result"
    }
   ],
   "source": [
    "data"
   ]
  },
  {
   "cell_type": "markdown",
   "metadata": {},
   "source": [
    "Посмотрим в каком отношении в датафрейме позитивные и негативные комментарии:"
   ]
  },
  {
   "cell_type": "code",
   "execution_count": 4,
   "metadata": {},
   "outputs": [
    {
     "data": {
      "text/plain": [
       "0    143106\n",
       "1     16186\n",
       "Name: toxic, dtype: int64"
      ]
     },
     "execution_count": 4,
     "metadata": {},
     "output_type": "execute_result"
    }
   ],
   "source": [
    "data['toxic'].value_counts()"
   ]
  },
  {
   "cell_type": "markdown",
   "metadata": {},
   "source": [
    "Наблюдается дисбаланс классов"
   ]
  },
  {
   "cell_type": "markdown",
   "metadata": {},
   "source": [
    "Проверим датафрейм на наличие пропусков:"
   ]
  },
  {
   "cell_type": "code",
   "execution_count": 5,
   "metadata": {},
   "outputs": [
    {
     "data": {
      "text/plain": [
       "text     0\n",
       "toxic    0\n",
       "dtype: int64"
      ]
     },
     "execution_count": 5,
     "metadata": {},
     "output_type": "execute_result"
    }
   ],
   "source": [
    "data.isna().sum()"
   ]
  },
  {
   "cell_type": "markdown",
   "metadata": {},
   "source": [
    "Пропусков нет, отлично!"
   ]
  },
  {
   "cell_type": "markdown",
   "metadata": {},
   "source": [
    "Создадим копию, чтобы не работать с исходными данными:"
   ]
  },
  {
   "cell_type": "code",
   "execution_count": 6,
   "metadata": {},
   "outputs": [],
   "source": [
    "df = data.copy()"
   ]
  },
  {
   "cell_type": "markdown",
   "metadata": {},
   "source": [
    "Очистим текст от лишних символов:"
   ]
  },
  {
   "cell_type": "code",
   "execution_count": 7,
   "metadata": {},
   "outputs": [],
   "source": [
    "def clear_text(text):\n",
    "    text = text.lower() #приведем к нижнему регистру\n",
    "    text = re.sub(r'[^a-zA-Z ]', ' ', text)\n",
    "    return \" \".join(text.split())"
   ]
  },
  {
   "cell_type": "code",
   "execution_count": 8,
   "metadata": {},
   "outputs": [],
   "source": [
    "df['text'] = df['text'].apply(clear_text)"
   ]
  },
  {
   "cell_type": "markdown",
   "metadata": {},
   "source": [
    "Проведем лемматизацию:"
   ]
  },
  {
   "cell_type": "code",
   "execution_count": 9,
   "metadata": {},
   "outputs": [],
   "source": [
    "#вводим функцию РОS тэг:\n",
    "def get_wordnet_pos(word):\n",
    "    tag = nltk.pos_tag([word])[0][1][0].upper()\n",
    "    tag_dict = {\"J\": wordnet.ADJ,               #прилагательное\n",
    "                \"N\": wordnet.NOUN,              #существительное\n",
    "                \"V\": wordnet.VERB,              #глагол\n",
    "                \"R\": wordnet.ADV                #наречие\n",
    "               }  \n",
    "    return tag_dict.get(tag, wordnet.NOUN)"
   ]
  },
  {
   "cell_type": "code",
   "execution_count": 10,
   "metadata": {},
   "outputs": [],
   "source": [
    "lemmatizer = WordNetLemmatizer()"
   ]
  },
  {
   "cell_type": "code",
   "execution_count": 11,
   "metadata": {},
   "outputs": [],
   "source": [
    "def lemm_text(text):\n",
    "    text = [lemmatizer.lemmatize(w, get_wordnet_pos(w)) for w in nltk.word_tokenize(text)]\n",
    "    return ' '.join(text)"
   ]
  },
  {
   "cell_type": "code",
   "execution_count": 12,
   "metadata": {},
   "outputs": [
    {
     "data": {
      "text/plain": [
       "0    explanation why the edits made under my userna...\n",
       "1    d aww he matches this background colour i m se...\n",
       "2    hey man i m really not trying to edit war it s...\n",
       "3    more i can t make any real suggestions on impr...\n",
       "4    you sir are my hero any chance you remember wh...\n",
       "Name: text, dtype: object"
      ]
     },
     "execution_count": 12,
     "metadata": {},
     "output_type": "execute_result"
    }
   ],
   "source": [
    "df.head()['text']"
   ]
  },
  {
   "cell_type": "markdown",
   "metadata": {},
   "source": [
    "Лемматизация занимает много времени, поэтому пока что проверим работоспособность кода:"
   ]
  },
  {
   "cell_type": "code",
   "execution_count": 13,
   "metadata": {},
   "outputs": [
    {
     "data": {
      "text/plain": [
       "0    explanation why the edits make under my userna...\n",
       "1    d aww he match this background colour i m seem...\n",
       "2    hey man i m really not try to edit war it s ju...\n",
       "3    more i can t make any real suggestion on impro...\n",
       "4    you sir be my hero any chance you remember wha...\n",
       "Name: text, dtype: object"
      ]
     },
     "execution_count": 13,
     "metadata": {},
     "output_type": "execute_result"
    }
   ],
   "source": [
    "df.head()['text'].apply(lemm_text)"
   ]
  },
  {
   "cell_type": "markdown",
   "metadata": {},
   "source": [
    "Лемматизация текста работает, проведем её после разделения выборки!"
   ]
  },
  {
   "cell_type": "markdown",
   "metadata": {},
   "source": [
    "## Обучение"
   ]
  },
  {
   "cell_type": "markdown",
   "metadata": {},
   "source": [
    "Разделим наши данные на обучающую (80%), валидационную (10%) и тестовую (10%) выборки."
   ]
  },
  {
   "cell_type": "code",
   "execution_count": 14,
   "metadata": {},
   "outputs": [],
   "source": [
    "df, test = train_test_split(\n",
    "    df, test_size=0.1, random_state=12345, stratify=df['toxic'])"
   ]
  },
  {
   "cell_type": "code",
   "execution_count": 15,
   "metadata": {},
   "outputs": [],
   "source": [
    "train, valid = train_test_split(\n",
    "    df, test_size=(1/9), random_state=12345, stratify=df['toxic'])"
   ]
  },
  {
   "cell_type": "markdown",
   "metadata": {},
   "source": [
    "Проверим правильность разбиения:"
   ]
  },
  {
   "cell_type": "code",
   "execution_count": 16,
   "metadata": {},
   "outputs": [
    {
     "data": {
      "text/plain": [
       "(127432, 15930, 15930)"
      ]
     },
     "execution_count": 16,
     "metadata": {},
     "output_type": "execute_result"
    }
   ],
   "source": [
    "train.shape[0], valid.shape[0], test.shape[0]"
   ]
  },
  {
   "cell_type": "code",
   "execution_count": 17,
   "metadata": {},
   "outputs": [
    {
     "data": {
      "text/plain": [
       "0    114484\n",
       "1     12948\n",
       "Name: toxic, dtype: int64"
      ]
     },
     "execution_count": 17,
     "metadata": {},
     "output_type": "execute_result"
    }
   ],
   "source": [
    "train['toxic'].value_counts()"
   ]
  },
  {
   "cell_type": "code",
   "execution_count": 18,
   "metadata": {},
   "outputs": [
    {
     "data": {
      "text/plain": [
       "0    14311\n",
       "1     1619\n",
       "Name: toxic, dtype: int64"
      ]
     },
     "execution_count": 18,
     "metadata": {},
     "output_type": "execute_result"
    }
   ],
   "source": [
    "valid['toxic'].value_counts()"
   ]
  },
  {
   "cell_type": "code",
   "execution_count": 19,
   "metadata": {},
   "outputs": [
    {
     "data": {
      "text/plain": [
       "0    14311\n",
       "1     1619\n",
       "Name: toxic, dtype: int64"
      ]
     },
     "execution_count": 19,
     "metadata": {},
     "output_type": "execute_result"
    }
   ],
   "source": [
    "test['toxic'].value_counts()"
   ]
  },
  {
   "cell_type": "markdown",
   "metadata": {},
   "source": [
    "Решим проблему дисбаланса классов для тренировочной выборки:"
   ]
  },
  {
   "cell_type": "code",
   "execution_count": 20,
   "metadata": {},
   "outputs": [],
   "source": [
    "train_toxic = train[train['toxic']==1]"
   ]
  },
  {
   "cell_type": "code",
   "execution_count": 21,
   "metadata": {},
   "outputs": [],
   "source": [
    "train_not_toxic = train[train['toxic']==0].sample(38844)"
   ]
  },
  {
   "cell_type": "code",
   "execution_count": 22,
   "metadata": {},
   "outputs": [],
   "source": [
    "train = train_toxic.append(train_not_toxic)"
   ]
  },
  {
   "cell_type": "code",
   "execution_count": 23,
   "metadata": {},
   "outputs": [
    {
     "data": {
      "text/plain": [
       "0    38844\n",
       "1    12948\n",
       "Name: toxic, dtype: int64"
      ]
     },
     "execution_count": 23,
     "metadata": {},
     "output_type": "execute_result"
    }
   ],
   "source": [
    "train['toxic'].value_counts()"
   ]
  },
  {
   "cell_type": "markdown",
   "metadata": {},
   "source": [
    "Теперь на уменьшенной выборке проведем лемматизацию текста:"
   ]
  },
  {
   "cell_type": "code",
   "execution_count": 24,
   "metadata": {},
   "outputs": [
    {
     "name": "stdout",
     "output_type": "stream",
     "text": [
      "CPU times: user 5min 41s, sys: 27.4 s, total: 6min 8s\n",
      "Wall time: 6min 9s\n"
     ]
    }
   ],
   "source": [
    "%%time\n",
    "train['text'] = train['text'].apply(lemm_text)"
   ]
  },
  {
   "cell_type": "code",
   "execution_count": 25,
   "metadata": {},
   "outputs": [
    {
     "name": "stdout",
     "output_type": "stream",
     "text": [
      "CPU times: user 1min 48s, sys: 8.8 s, total: 1min 56s\n",
      "Wall time: 1min 57s\n"
     ]
    }
   ],
   "source": [
    "%%time\n",
    "valid['text'] = valid['text'].apply(lemm_text)"
   ]
  },
  {
   "cell_type": "code",
   "execution_count": 26,
   "metadata": {},
   "outputs": [
    {
     "name": "stdout",
     "output_type": "stream",
     "text": [
      "CPU times: user 1min 47s, sys: 8.58 s, total: 1min 56s\n",
      "Wall time: 1min 56s\n"
     ]
    }
   ],
   "source": [
    "%%time\n",
    "test['text'] = test['text'].apply(lemm_text)"
   ]
  },
  {
   "cell_type": "markdown",
   "metadata": {},
   "source": [
    "Предсказать нам нужно столбец `toxic`. Назначим его целевым столбцом."
   ]
  },
  {
   "cell_type": "code",
   "execution_count": 27,
   "metadata": {},
   "outputs": [],
   "source": [
    "features_train = train.drop(['toxic'], axis=1)\n",
    "target_train = train['toxic']"
   ]
  },
  {
   "cell_type": "code",
   "execution_count": 28,
   "metadata": {},
   "outputs": [],
   "source": [
    "features_valid = valid.drop(['toxic'], axis=1)\n",
    "target_valid = valid['toxic']"
   ]
  },
  {
   "cell_type": "code",
   "execution_count": 29,
   "metadata": {},
   "outputs": [],
   "source": [
    "features_test = test.drop(['toxic'], axis=1)\n",
    "target_test = test['toxic']"
   ]
  },
  {
   "cell_type": "markdown",
   "metadata": {},
   "source": [
    "Всё верно"
   ]
  },
  {
   "cell_type": "markdown",
   "metadata": {},
   "source": [
    "Создадим множество из стоп слов:"
   ]
  },
  {
   "cell_type": "code",
   "execution_count": 30,
   "metadata": {},
   "outputs": [],
   "source": [
    "stopwords = set(nltk_stopwords.words('english'))"
   ]
  },
  {
   "cell_type": "markdown",
   "metadata": {},
   "source": [
    "Произведем TF-IDF векторизацию:"
   ]
  },
  {
   "cell_type": "code",
   "execution_count": 31,
   "metadata": {},
   "outputs": [],
   "source": [
    "count_tf_idf = TfidfVectorizer(stop_words=stopwords)\n",
    "features_train = count_tf_idf.fit_transform(features_train['text'])"
   ]
  },
  {
   "cell_type": "code",
   "execution_count": 32,
   "metadata": {},
   "outputs": [],
   "source": [
    "features_valid = count_tf_idf.transform(features_valid['text'])"
   ]
  },
  {
   "cell_type": "code",
   "execution_count": 33,
   "metadata": {},
   "outputs": [],
   "source": [
    "features_test = count_tf_idf.transform(features_test['text'])"
   ]
  },
  {
   "cell_type": "markdown",
   "metadata": {},
   "source": [
    "Можем приступать к обучению наших моделей!"
   ]
  },
  {
   "cell_type": "markdown",
   "metadata": {},
   "source": [
    "### Логистическая регрессия"
   ]
  },
  {
   "cell_type": "markdown",
   "metadata": {},
   "source": [
    "Первой моделью возьмем регрессию:"
   ]
  },
  {
   "cell_type": "code",
   "execution_count": 34,
   "metadata": {},
   "outputs": [],
   "source": [
    "regression_model = LogisticRegression(C=5,\n",
    "                                      random_state=1234,\n",
    "                                      solver='newton-cg',\n",
    "                                      max_iter=200,\n",
    "                                      class_weight='balanced')\n",
    "regression_model.fit(features_train, target_train)\n",
    "regression_predict = regression_model.predict(features_valid)"
   ]
  },
  {
   "cell_type": "code",
   "execution_count": 35,
   "metadata": {},
   "outputs": [
    {
     "data": {
      "text/plain": [
       "0.7230095336253543"
      ]
     },
     "execution_count": 35,
     "metadata": {},
     "output_type": "execute_result"
    }
   ],
   "source": [
    "f1_score(target_valid, regression_predict)"
   ]
  },
  {
   "cell_type": "markdown",
   "metadata": {},
   "source": [
    "Неплохое значение f1-меры, посмотрим на другие модели"
   ]
  },
  {
   "cell_type": "markdown",
   "metadata": {},
   "source": [
    "### Дерево решений"
   ]
  },
  {
   "cell_type": "markdown",
   "metadata": {},
   "source": [
    "Второй нашей моделью будет дерево:"
   ]
  },
  {
   "cell_type": "code",
   "execution_count": 36,
   "metadata": {},
   "outputs": [
    {
     "name": "stdout",
     "output_type": "stream",
     "text": [
      "f1-мера наилучшей модели на валидационной выборке: 0.5947242206235012\n",
      "Глубина дерева = 10\n"
     ]
    }
   ],
   "source": [
    "tree_model = None\n",
    "best_result = 0\n",
    "best_depth = 0\n",
    "for depth in range(1, 11):\n",
    "    model = DecisionTreeClassifier(random_state=12345, max_depth=depth)\n",
    "    model.fit(features_train, target_train) # обучаем модель\n",
    "    predictions_valid = model.predict(features_valid) # получаем предсказания модели\n",
    "    result = f1_score(target_valid, predictions_valid) # считаем качество модели\n",
    "    if result > best_result:\n",
    "        tree_model = model\n",
    "        best_result = result\n",
    "        best_depth = depth\n",
    "print('f1-мера наилучшей модели на валидационной выборке:', best_result)\n",
    "print('Глубина дерева =', best_depth)"
   ]
  },
  {
   "cell_type": "markdown",
   "metadata": {},
   "source": [
    "Значение метрики значительно хуже, чем у регресии"
   ]
  },
  {
   "cell_type": "markdown",
   "metadata": {},
   "source": [
    "### CatBoost"
   ]
  },
  {
   "cell_type": "markdown",
   "metadata": {},
   "source": [
    "И последняя модель - бустинг:"
   ]
  },
  {
   "cell_type": "code",
   "execution_count": 37,
   "metadata": {},
   "outputs": [
    {
     "name": "stdout",
     "output_type": "stream",
     "text": [
      "CPU times: user 31min 36s, sys: 3.81 s, total: 31min 39s\n",
      "Wall time: 31min 42s\n"
     ]
    },
    {
     "data": {
      "text/plain": [
       "0.772405297197413"
      ]
     },
     "execution_count": 37,
     "metadata": {},
     "output_type": "execute_result"
    }
   ],
   "source": [
    "%%time\n",
    "cat_model = CatBoostClassifier(learning_rate=0.3, depth=10, random_state=12345, verbose=False, iterations=200)\n",
    "\n",
    "cat_model.fit(features_train, target_train)\n",
    "cat_predict = cat_model.predict(features_valid)\n",
    "\n",
    "f1_score(target_valid, cat_predict)"
   ]
  },
  {
   "cell_type": "markdown",
   "metadata": {},
   "source": [
    "Это лучшее значение метрики!"
   ]
  },
  {
   "cell_type": "markdown",
   "metadata": {},
   "source": [
    "### Проверка на тестовой выборке"
   ]
  },
  {
   "cell_type": "markdown",
   "metadata": {},
   "source": [
    "Лучше всего себя показал бустинг. Сделаем проверку на тестовой выборке:"
   ]
  },
  {
   "cell_type": "code",
   "execution_count": 39,
   "metadata": {},
   "outputs": [
    {
     "data": {
      "text/plain": [
       "0.7777082028804008"
      ]
     },
     "execution_count": 39,
     "metadata": {},
     "output_type": "execute_result"
    }
   ],
   "source": [
    "cat_predict_test = cat_model.predict(features_test)\n",
    "f1_score(target_test, cat_predict_test)"
   ]
  },
  {
   "cell_type": "markdown",
   "metadata": {},
   "source": [
    "Отличное значение f1-меры, даже лучше чем на валидационной выборке, значит модель не переобучилась."
   ]
  },
  {
   "cell_type": "markdown",
   "metadata": {},
   "source": [
    "## Выводы"
   ]
  },
  {
   "cell_type": "markdown",
   "metadata": {},
   "source": [
    "В данной работе перед нами стояла задача обучить модель, способную классифицировать комментарии на позитивные и негативные.   \n",
    "Первым делом мы провели обработку текста, очистили его от ненужных символов.   \n",
    "Далее мы разделили наш датафрейм на тренировочную, валидационную и тестовую выборки, произвели TF-IDF векторизацию.   \n",
    "Затем мы приступили к обучению наших моделей, ориентируясь на значение метрики - f1-меры.   \n",
    "\n",
    "Первая модель - *Логистическая регрессия* показала значение f1-меры *0.7230095336253543* на валидационной выборке\n",
    "\n",
    "Вторая модель - *Дерево решений* показала значение *0.5947242206235012* на валидационной выборке, при глубине дерева 10.  \n",
    "\n",
    "И третья модель - *CatBoost* показала лучшее значение *0.772405297197413* на валидационной выборке.   \n",
    "\n",
    "В конечном итоге, нам удалось добиться значаения метрики в **0.7777082028804008** на тестовой выборке. Магазин может смело внедрять нашу модель, она поможет искать токсичные комментарии и отправлять их на модерацию."
   ]
  }
 ],
 "metadata": {
  "ExecuteTimeLog": [
   {
    "duration": 57,
    "start_time": "2023-11-14T20:35:49.416Z"
   },
   {
    "duration": 2660,
    "start_time": "2023-11-14T20:35:51.632Z"
   },
   {
    "duration": 198,
    "start_time": "2023-11-14T20:35:54.896Z"
   },
   {
    "duration": 64,
    "start_time": "2023-11-14T20:36:00.869Z"
   },
   {
    "duration": 3412,
    "start_time": "2023-11-14T20:36:38.061Z"
   },
   {
    "duration": 24,
    "start_time": "2023-11-14T20:36:46.566Z"
   },
   {
    "duration": 7,
    "start_time": "2023-11-14T20:37:20.981Z"
   },
   {
    "duration": 40,
    "start_time": "2023-11-14T20:37:24.150Z"
   },
   {
    "duration": 3,
    "start_time": "2023-11-14T20:37:32.602Z"
   },
   {
    "duration": 2394,
    "start_time": "2023-11-14T20:37:32.882Z"
   },
   {
    "duration": 3,
    "start_time": "2023-11-14T20:40:28.206Z"
   },
   {
    "duration": 2377,
    "start_time": "2023-11-14T20:40:28.566Z"
   },
   {
    "duration": 2376,
    "start_time": "2023-11-14T20:40:41.150Z"
   },
   {
    "duration": 5,
    "start_time": "2023-11-14T20:40:45.220Z"
   },
   {
    "duration": 2472,
    "start_time": "2023-11-14T20:42:00.587Z"
   },
   {
    "duration": 980,
    "start_time": "2023-11-14T20:42:03.061Z"
   },
   {
    "duration": 22,
    "start_time": "2023-11-14T20:42:04.043Z"
   },
   {
    "duration": 116,
    "start_time": "2023-11-14T20:42:04.067Z"
   },
   {
    "duration": 88,
    "start_time": "2023-11-14T20:42:04.184Z"
   },
   {
    "duration": 12,
    "start_time": "2023-11-14T20:42:04.275Z"
   },
   {
    "duration": 2427,
    "start_time": "2023-11-14T20:42:04.288Z"
   },
   {
    "duration": 2397,
    "start_time": "2023-11-15T19:32:20.887Z"
   },
   {
    "duration": 2396,
    "start_time": "2023-11-15T19:32:23.286Z"
   },
   {
    "duration": 18,
    "start_time": "2023-11-15T19:32:25.683Z"
   },
   {
    "duration": 10,
    "start_time": "2023-11-15T19:32:25.703Z"
   },
   {
    "duration": 25,
    "start_time": "2023-11-15T19:32:25.714Z"
   },
   {
    "duration": 3,
    "start_time": "2023-11-15T19:32:25.741Z"
   },
   {
    "duration": 2228,
    "start_time": "2023-11-15T19:32:25.746Z"
   },
   {
    "duration": 5,
    "start_time": "2023-11-15T19:32:43.635Z"
   },
   {
    "duration": 3,
    "start_time": "2023-11-15T19:32:57.189Z"
   },
   {
    "duration": 138,
    "start_time": "2023-11-15T19:32:57.623Z"
   },
   {
    "duration": 5,
    "start_time": "2023-11-15T19:32:58.018Z"
   },
   {
    "duration": 3,
    "start_time": "2023-11-15T19:33:07.584Z"
   },
   {
    "duration": 11,
    "start_time": "2023-11-15T19:33:08.049Z"
   },
   {
    "duration": 5,
    "start_time": "2023-11-15T19:33:08.667Z"
   },
   {
    "duration": 3,
    "start_time": "2023-11-15T19:33:14.798Z"
   },
   {
    "duration": 11,
    "start_time": "2023-11-15T19:33:15.179Z"
   },
   {
    "duration": 871,
    "start_time": "2023-11-15T19:33:22.108Z"
   },
   {
    "duration": 11,
    "start_time": "2023-11-15T19:33:23.470Z"
   },
   {
    "duration": 6,
    "start_time": "2023-11-15T19:33:29.532Z"
   },
   {
    "duration": 27,
    "start_time": "2023-11-15T19:33:30.181Z"
   },
   {
    "duration": 2,
    "start_time": "2023-11-15T19:33:32.559Z"
   },
   {
    "duration": 2204,
    "start_time": "2023-11-15T19:33:33.240Z"
   },
   {
    "duration": 5,
    "start_time": "2023-11-15T19:33:36.995Z"
   },
   {
    "duration": 3,
    "start_time": "2023-11-15T19:33:45.989Z"
   },
   {
    "duration": 2266,
    "start_time": "2023-11-15T19:33:47.920Z"
   },
   {
    "duration": 5,
    "start_time": "2023-11-15T19:33:50.917Z"
   },
   {
    "duration": 2223,
    "start_time": "2023-11-15T19:34:16.644Z"
   },
   {
    "duration": 999,
    "start_time": "2023-11-15T19:34:18.868Z"
   },
   {
    "duration": 17,
    "start_time": "2023-11-15T19:34:19.869Z"
   },
   {
    "duration": 26,
    "start_time": "2023-11-15T19:34:19.887Z"
   },
   {
    "duration": 25,
    "start_time": "2023-11-15T19:34:19.915Z"
   },
   {
    "duration": 4,
    "start_time": "2023-11-15T19:34:19.942Z"
   },
   {
    "duration": 2269,
    "start_time": "2023-11-15T19:34:19.947Z"
   },
   {
    "duration": 5,
    "start_time": "2023-11-15T19:34:22.218Z"
   },
   {
    "duration": 30,
    "start_time": "2023-11-15T19:39:22.582Z"
   },
   {
    "duration": 29,
    "start_time": "2023-11-15T19:39:25.153Z"
   },
   {
    "duration": 3,
    "start_time": "2023-11-15T19:39:55.127Z"
   },
   {
    "duration": 10,
    "start_time": "2023-11-15T19:40:47.456Z"
   },
   {
    "duration": 3,
    "start_time": "2023-11-15T19:40:50.192Z"
   },
   {
    "duration": 2233,
    "start_time": "2023-11-15T19:40:50.577Z"
   },
   {
    "duration": 5,
    "start_time": "2023-11-15T19:40:52.812Z"
   },
   {
    "duration": 145,
    "start_time": "2023-11-15T19:40:58.662Z"
   },
   {
    "duration": 4,
    "start_time": "2023-11-15T19:41:12.437Z"
   },
   {
    "duration": 12,
    "start_time": "2023-11-15T19:41:29.068Z"
   },
   {
    "duration": 14,
    "start_time": "2023-11-15T19:41:42.485Z"
   },
   {
    "duration": 12,
    "start_time": "2023-11-15T19:41:49.659Z"
   },
   {
    "duration": 20,
    "start_time": "2023-11-15T19:42:10.094Z"
   },
   {
    "duration": 3,
    "start_time": "2023-11-15T19:42:11.823Z"
   },
   {
    "duration": 13,
    "start_time": "2023-11-15T19:42:12.266Z"
   },
   {
    "duration": 6,
    "start_time": "2023-11-15T19:42:16.867Z"
   },
   {
    "duration": 2,
    "start_time": "2023-11-15T19:42:17.675Z"
   },
   {
    "duration": 2220,
    "start_time": "2023-11-15T19:42:18.034Z"
   },
   {
    "duration": 11,
    "start_time": "2023-11-15T19:42:22.513Z"
   },
   {
    "duration": 30,
    "start_time": "2023-11-15T19:42:26.593Z"
   },
   {
    "duration": 34,
    "start_time": "2023-11-15T19:43:10.403Z"
   },
   {
    "duration": 4,
    "start_time": "2023-11-15T19:43:40.955Z"
   },
   {
    "duration": 13,
    "start_time": "2023-11-15T19:43:56.673Z"
   },
   {
    "duration": 6,
    "start_time": "2023-11-15T19:44:09.169Z"
   },
   {
    "duration": 3,
    "start_time": "2023-11-15T19:44:11.955Z"
   },
   {
    "duration": 765,
    "start_time": "2023-11-15T19:44:12.481Z"
   },
   {
    "duration": 23,
    "start_time": "2023-11-15T19:44:20.530Z"
   },
   {
    "duration": 37,
    "start_time": "2023-11-15T19:44:37.671Z"
   },
   {
    "duration": 2402,
    "start_time": "2023-11-15T19:45:22.486Z"
   },
   {
    "duration": 4,
    "start_time": "2023-11-15T19:45:25.865Z"
   },
   {
    "duration": 31,
    "start_time": "2023-11-15T19:45:29.146Z"
   },
   {
    "duration": 21,
    "start_time": "2023-11-15T19:45:30.521Z"
   },
   {
    "duration": 21,
    "start_time": "2023-11-15T19:46:28.627Z"
   },
   {
    "duration": 2304,
    "start_time": "2023-11-15T19:46:44.191Z"
   },
   {
    "duration": 978,
    "start_time": "2023-11-15T19:46:46.497Z"
   },
   {
    "duration": 18,
    "start_time": "2023-11-15T19:46:47.477Z"
   },
   {
    "duration": 17,
    "start_time": "2023-11-15T19:46:47.497Z"
   },
   {
    "duration": 26,
    "start_time": "2023-11-15T19:46:47.516Z"
   },
   {
    "duration": 6,
    "start_time": "2023-11-15T19:46:47.544Z"
   },
   {
    "duration": 3,
    "start_time": "2023-11-15T19:46:47.552Z"
   },
   {
    "duration": 2342,
    "start_time": "2023-11-15T19:46:47.556Z"
   },
   {
    "duration": 30,
    "start_time": "2023-11-15T19:46:49.899Z"
   },
   {
    "duration": 5,
    "start_time": "2023-11-15T19:46:49.931Z"
   },
   {
    "duration": 731,
    "start_time": "2023-11-15T19:46:49.937Z"
   },
   {
    "duration": 5,
    "start_time": "2023-11-15T19:54:31.550Z"
   },
   {
    "duration": 2376,
    "start_time": "2023-11-15T19:54:39.879Z"
   },
   {
    "duration": 2259,
    "start_time": "2023-11-15T19:59:09.095Z"
   },
   {
    "duration": 1010,
    "start_time": "2023-11-15T19:59:11.356Z"
   },
   {
    "duration": 17,
    "start_time": "2023-11-15T19:59:12.368Z"
   },
   {
    "duration": 6,
    "start_time": "2023-11-15T19:59:12.387Z"
   },
   {
    "duration": 28,
    "start_time": "2023-11-15T19:59:12.410Z"
   },
   {
    "duration": 12,
    "start_time": "2023-11-15T19:59:12.439Z"
   },
   {
    "duration": 3,
    "start_time": "2023-11-15T19:59:12.452Z"
   },
   {
    "duration": 2299,
    "start_time": "2023-11-15T19:59:12.457Z"
   },
   {
    "duration": 2210,
    "start_time": "2023-11-15T19:59:14.758Z"
   },
   {
    "duration": 4,
    "start_time": "2023-11-15T19:59:16.970Z"
   },
   {
    "duration": 863,
    "start_time": "2023-11-15T19:59:16.975Z"
   },
   {
    "duration": 5,
    "start_time": "2023-11-15T19:59:22.478Z"
   },
   {
    "duration": 6,
    "start_time": "2023-11-15T19:59:46.019Z"
   },
   {
    "duration": 4,
    "start_time": "2023-11-15T19:59:52.934Z"
   },
   {
    "duration": 36,
    "start_time": "2023-11-15T20:00:06.506Z"
   },
   {
    "duration": 3,
    "start_time": "2023-11-15T20:00:07.289Z"
   },
   {
    "duration": 2288,
    "start_time": "2023-11-15T20:00:07.654Z"
   },
   {
    "duration": 6,
    "start_time": "2023-11-15T20:00:11.589Z"
   },
   {
    "duration": 52,
    "start_time": "2023-11-15T20:00:24.594Z"
   },
   {
    "duration": 2511,
    "start_time": "2023-11-15T20:00:34.971Z"
   },
   {
    "duration": 2488,
    "start_time": "2023-11-15T20:00:37.485Z"
   },
   {
    "duration": 19,
    "start_time": "2023-11-15T20:00:39.975Z"
   },
   {
    "duration": 7,
    "start_time": "2023-11-15T20:00:39.995Z"
   },
   {
    "duration": 28,
    "start_time": "2023-11-15T20:00:40.010Z"
   },
   {
    "duration": 6,
    "start_time": "2023-11-15T20:00:40.040Z"
   },
   {
    "duration": 4,
    "start_time": "2023-11-15T20:00:40.047Z"
   },
   {
    "duration": 2490,
    "start_time": "2023-11-15T20:00:40.053Z"
   },
   {
    "duration": 2244,
    "start_time": "2023-11-15T20:00:42.545Z"
   },
   {
    "duration": 6,
    "start_time": "2023-11-15T20:00:44.791Z"
   },
   {
    "duration": 871,
    "start_time": "2023-11-15T20:00:44.799Z"
   },
   {
    "duration": 5,
    "start_time": "2023-11-15T20:00:45.673Z"
   },
   {
    "duration": 10,
    "start_time": "2023-11-15T20:00:45.680Z"
   },
   {
    "duration": 5,
    "start_time": "2023-11-15T20:01:59.228Z"
   },
   {
    "duration": 4,
    "start_time": "2023-11-15T20:02:06.847Z"
   },
   {
    "duration": 2397,
    "start_time": "2023-11-15T20:02:34.465Z"
   },
   {
    "duration": 2423,
    "start_time": "2023-11-15T20:02:36.864Z"
   },
   {
    "duration": 19,
    "start_time": "2023-11-15T20:02:39.291Z"
   },
   {
    "duration": 6,
    "start_time": "2023-11-15T20:02:39.312Z"
   },
   {
    "duration": 26,
    "start_time": "2023-11-15T20:02:39.320Z"
   },
   {
    "duration": 6,
    "start_time": "2023-11-15T20:02:39.348Z"
   },
   {
    "duration": 3,
    "start_time": "2023-11-15T20:02:39.356Z"
   },
   {
    "duration": 2264,
    "start_time": "2023-11-15T20:02:39.361Z"
   },
   {
    "duration": 2229,
    "start_time": "2023-11-15T20:02:41.627Z"
   },
   {
    "duration": 9,
    "start_time": "2023-11-15T20:02:43.859Z"
   },
   {
    "duration": 3,
    "start_time": "2023-11-15T20:02:43.870Z"
   },
   {
    "duration": 824,
    "start_time": "2023-11-15T20:02:43.875Z"
   },
   {
    "duration": 11,
    "start_time": "2023-11-15T20:02:44.702Z"
   },
   {
    "duration": 5,
    "start_time": "2023-11-15T20:03:27.566Z"
   },
   {
    "duration": 75,
    "start_time": "2023-11-15T20:06:14.971Z"
   },
   {
    "duration": 7,
    "start_time": "2023-11-15T20:06:16.728Z"
   },
   {
    "duration": 181,
    "start_time": "2023-11-15T20:06:26.200Z"
   },
   {
    "duration": 11,
    "start_time": "2023-11-15T20:07:01.125Z"
   },
   {
    "duration": 4,
    "start_time": "2023-11-15T20:07:24.422Z"
   },
   {
    "duration": 83383,
    "start_time": "2023-11-15T20:10:05.352Z"
   },
   {
    "duration": 4,
    "start_time": "2023-11-15T20:11:32.004Z"
   },
   {
    "duration": 912,
    "start_time": "2023-11-15T20:11:32.909Z"
   },
   {
    "duration": 11,
    "start_time": "2023-11-15T20:11:34.778Z"
   },
   {
    "duration": 8,
    "start_time": "2023-11-15T20:11:36.069Z"
   },
   {
    "duration": 27,
    "start_time": "2023-11-15T20:11:37.203Z"
   },
   {
    "duration": 6,
    "start_time": "2023-11-15T20:11:38.885Z"
   },
   {
    "duration": 42954,
    "start_time": "2023-11-15T20:11:40.490Z"
   },
   {
    "duration": 37,
    "start_time": "2023-11-15T20:12:24.117Z"
   },
   {
    "duration": 3,
    "start_time": "2023-11-15T20:12:24.887Z"
   },
   {
    "duration": 2789,
    "start_time": "2023-11-15T20:13:09.472Z"
   },
   {
    "duration": 981,
    "start_time": "2023-11-15T20:13:12.263Z"
   },
   {
    "duration": 18,
    "start_time": "2023-11-15T20:13:13.246Z"
   },
   {
    "duration": 6,
    "start_time": "2023-11-15T20:13:13.265Z"
   },
   {
    "duration": 42,
    "start_time": "2023-11-15T20:13:13.273Z"
   },
   {
    "duration": 12,
    "start_time": "2023-11-15T20:13:13.317Z"
   },
   {
    "duration": 4,
    "start_time": "2023-11-15T20:13:13.330Z"
   },
   {
    "duration": 82331,
    "start_time": "2023-11-15T20:13:13.335Z"
   },
   {
    "duration": 0,
    "start_time": "2023-11-15T20:14:35.668Z"
   },
   {
    "duration": 0,
    "start_time": "2023-11-15T20:14:35.670Z"
   },
   {
    "duration": 2581,
    "start_time": "2023-11-15T20:14:42.884Z"
   },
   {
    "duration": 1006,
    "start_time": "2023-11-15T20:14:45.467Z"
   },
   {
    "duration": 18,
    "start_time": "2023-11-15T20:14:46.475Z"
   },
   {
    "duration": 19,
    "start_time": "2023-11-15T20:14:46.495Z"
   },
   {
    "duration": 28,
    "start_time": "2023-11-15T20:14:46.515Z"
   },
   {
    "duration": 6,
    "start_time": "2023-11-15T20:14:46.545Z"
   },
   {
    "duration": 3,
    "start_time": "2023-11-15T20:14:46.552Z"
   },
   {
    "duration": 2571,
    "start_time": "2023-11-15T20:14:46.557Z"
   },
   {
    "duration": 3,
    "start_time": "2023-11-15T20:14:49.130Z"
   },
   {
    "duration": 11618,
    "start_time": "2023-11-15T20:14:49.135Z"
   },
   {
    "duration": 15,
    "start_time": "2023-11-15T20:15:02.526Z"
   },
   {
    "duration": 2394,
    "start_time": "2023-11-15T20:16:18.197Z"
   },
   {
    "duration": 5,
    "start_time": "2023-11-15T20:16:38.143Z"
   },
   {
    "duration": 5,
    "start_time": "2023-11-15T20:16:43.118Z"
   },
   {
    "duration": 4,
    "start_time": "2023-11-15T20:16:46.354Z"
   },
   {
    "duration": 5,
    "start_time": "2023-11-15T20:16:51.111Z"
   },
   {
    "duration": 4,
    "start_time": "2023-11-15T20:16:53.956Z"
   },
   {
    "duration": 5,
    "start_time": "2023-11-15T20:16:57.827Z"
   },
   {
    "duration": 4,
    "start_time": "2023-11-15T20:18:42.979Z"
   },
   {
    "duration": 5,
    "start_time": "2023-11-15T20:18:54.314Z"
   },
   {
    "duration": 20,
    "start_time": "2023-11-15T20:19:05.516Z"
   },
   {
    "duration": 896,
    "start_time": "2023-11-15T20:19:12.954Z"
   },
   {
    "duration": 5,
    "start_time": "2023-11-15T20:20:03.255Z"
   },
   {
    "duration": 22,
    "start_time": "2023-11-15T20:20:10.339Z"
   },
   {
    "duration": 13,
    "start_time": "2023-11-15T20:20:24.011Z"
   },
   {
    "duration": 2317,
    "start_time": "2023-11-15T20:27:41.966Z"
   },
   {
    "duration": 1008,
    "start_time": "2023-11-15T20:27:44.285Z"
   },
   {
    "duration": 21,
    "start_time": "2023-11-15T20:27:45.295Z"
   },
   {
    "duration": 7,
    "start_time": "2023-11-15T20:27:45.318Z"
   },
   {
    "duration": 36,
    "start_time": "2023-11-15T20:27:45.327Z"
   },
   {
    "duration": 28,
    "start_time": "2023-11-15T20:27:45.364Z"
   },
   {
    "duration": 16,
    "start_time": "2023-11-15T20:27:45.394Z"
   },
   {
    "duration": 2547,
    "start_time": "2023-11-15T20:27:45.411Z"
   },
   {
    "duration": 2343,
    "start_time": "2023-11-15T20:27:47.960Z"
   },
   {
    "duration": 8,
    "start_time": "2023-11-15T20:27:50.305Z"
   },
   {
    "duration": 6,
    "start_time": "2023-11-15T20:27:50.314Z"
   },
   {
    "duration": 4,
    "start_time": "2023-11-15T20:27:50.322Z"
   },
   {
    "duration": 926,
    "start_time": "2023-11-15T20:28:13.017Z"
   },
   {
    "duration": 5,
    "start_time": "2023-11-15T20:29:02.492Z"
   },
   {
    "duration": 5,
    "start_time": "2023-11-15T20:29:15.473Z"
   },
   {
    "duration": 882,
    "start_time": "2023-11-15T20:29:16.377Z"
   },
   {
    "duration": 150,
    "start_time": "2023-11-15T20:29:39.063Z"
   },
   {
    "duration": 17,
    "start_time": "2023-11-15T20:29:43.232Z"
   },
   {
    "duration": 4,
    "start_time": "2023-11-15T20:29:52.280Z"
   },
   {
    "duration": 898,
    "start_time": "2023-11-15T20:29:53.193Z"
   },
   {
    "duration": 6,
    "start_time": "2023-11-15T20:30:04.084Z"
   },
   {
    "duration": 888,
    "start_time": "2023-11-15T20:30:04.447Z"
   },
   {
    "duration": 4,
    "start_time": "2023-11-15T20:33:02.828Z"
   },
   {
    "duration": 913,
    "start_time": "2023-11-15T20:33:03.403Z"
   },
   {
    "duration": 4,
    "start_time": "2023-11-15T20:33:36.449Z"
   },
   {
    "duration": 4,
    "start_time": "2023-11-15T20:33:41.384Z"
   },
   {
    "duration": 900,
    "start_time": "2023-11-15T20:34:08.935Z"
   },
   {
    "duration": 13,
    "start_time": "2023-11-15T20:35:21.685Z"
   },
   {
    "duration": 128634,
    "start_time": "2023-11-15T20:35:51.831Z"
   },
   {
    "duration": 5,
    "start_time": "2023-11-15T20:39:31.332Z"
   },
   {
    "duration": 891,
    "start_time": "2023-11-15T20:39:38.541Z"
   },
   {
    "duration": 2348,
    "start_time": "2023-11-15T20:44:39.945Z"
   },
   {
    "duration": 1010,
    "start_time": "2023-11-15T20:44:42.295Z"
   },
   {
    "duration": 20,
    "start_time": "2023-11-15T20:44:43.307Z"
   },
   {
    "duration": 7,
    "start_time": "2023-11-15T20:44:43.329Z"
   },
   {
    "duration": 30,
    "start_time": "2023-11-15T20:44:43.339Z"
   },
   {
    "duration": 6,
    "start_time": "2023-11-15T20:44:43.371Z"
   },
   {
    "duration": 4,
    "start_time": "2023-11-15T20:44:43.410Z"
   },
   {
    "duration": 2489,
    "start_time": "2023-11-15T20:44:43.415Z"
   },
   {
    "duration": 2323,
    "start_time": "2023-11-15T20:44:51.748Z"
   },
   {
    "duration": 998,
    "start_time": "2023-11-15T20:44:54.073Z"
   },
   {
    "duration": 18,
    "start_time": "2023-11-15T20:44:55.073Z"
   },
   {
    "duration": 18,
    "start_time": "2023-11-15T20:44:55.092Z"
   },
   {
    "duration": 28,
    "start_time": "2023-11-15T20:44:55.113Z"
   },
   {
    "duration": 6,
    "start_time": "2023-11-15T20:44:55.143Z"
   },
   {
    "duration": 4,
    "start_time": "2023-11-15T20:44:55.151Z"
   },
   {
    "duration": 2500,
    "start_time": "2023-11-15T20:44:55.157Z"
   },
   {
    "duration": 2293,
    "start_time": "2023-11-15T20:44:57.659Z"
   },
   {
    "duration": 15,
    "start_time": "2023-11-15T20:44:59.954Z"
   },
   {
    "duration": 13077,
    "start_time": "2023-11-15T20:44:59.971Z"
   },
   {
    "duration": 7,
    "start_time": "2023-11-15T20:45:13.050Z"
   },
   {
    "duration": 5,
    "start_time": "2023-11-15T20:45:13.059Z"
   },
   {
    "duration": 875,
    "start_time": "2023-11-15T20:45:13.067Z"
   },
   {
    "duration": 477,
    "start_time": "2023-11-15T20:47:05.207Z"
   },
   {
    "duration": 5,
    "start_time": "2023-11-15T20:59:08.552Z"
   },
   {
    "duration": 2907,
    "start_time": "2023-11-16T20:43:21.137Z"
   },
   {
    "duration": 2328,
    "start_time": "2023-11-16T20:43:24.046Z"
   },
   {
    "duration": 16,
    "start_time": "2023-11-16T20:43:26.376Z"
   },
   {
    "duration": 5,
    "start_time": "2023-11-16T20:43:26.394Z"
   },
   {
    "duration": 23,
    "start_time": "2023-11-16T20:43:26.400Z"
   },
   {
    "duration": 6,
    "start_time": "2023-11-16T20:43:26.425Z"
   },
   {
    "duration": 2,
    "start_time": "2023-11-16T20:43:26.433Z"
   },
   {
    "duration": 2260,
    "start_time": "2023-11-16T20:43:26.436Z"
   },
   {
    "duration": 2404,
    "start_time": "2023-11-16T20:43:28.697Z"
   },
   {
    "duration": 27,
    "start_time": "2023-11-16T20:43:31.103Z"
   },
   {
    "duration": 12254,
    "start_time": "2023-11-16T20:43:31.131Z"
   },
   {
    "duration": 5,
    "start_time": "2023-11-16T20:43:43.387Z"
   },
   {
    "duration": 853,
    "start_time": "2023-11-16T20:43:43.393Z"
   },
   {
    "duration": 4,
    "start_time": "2023-11-16T20:43:44.248Z"
   },
   {
    "duration": 12,
    "start_time": "2023-11-16T20:49:11.403Z"
   },
   {
    "duration": 35,
    "start_time": "2023-11-16T20:49:54.353Z"
   },
   {
    "duration": 5,
    "start_time": "2023-11-16T20:49:57.448Z"
   },
   {
    "duration": 9,
    "start_time": "2023-11-16T20:50:01.401Z"
   },
   {
    "duration": 10,
    "start_time": "2023-11-16T20:50:15.344Z"
   },
   {
    "duration": 10,
    "start_time": "2023-11-16T20:50:16.240Z"
   },
   {
    "duration": 7,
    "start_time": "2023-11-16T20:50:18.100Z"
   },
   {
    "duration": 5,
    "start_time": "2023-11-16T20:50:40.203Z"
   },
   {
    "duration": 25,
    "start_time": "2023-11-16T20:51:07.401Z"
   },
   {
    "duration": 20,
    "start_time": "2023-11-16T20:51:07.780Z"
   },
   {
    "duration": 4,
    "start_time": "2023-11-16T20:51:18.597Z"
   },
   {
    "duration": 173,
    "start_time": "2023-11-16T21:02:15.275Z"
   },
   {
    "duration": 24,
    "start_time": "2023-11-16T21:02:40.811Z"
   },
   {
    "duration": 11,
    "start_time": "2023-11-16T21:02:44.849Z"
   },
   {
    "duration": 4,
    "start_time": "2023-11-16T21:02:57.139Z"
   },
   {
    "duration": 2962,
    "start_time": "2023-11-16T21:03:02.293Z"
   },
   {
    "duration": 2800,
    "start_time": "2023-11-16T21:03:25.759Z"
   },
   {
    "duration": 11,
    "start_time": "2023-11-16T21:06:20.323Z"
   },
   {
    "duration": 5,
    "start_time": "2023-11-16T21:06:34.694Z"
   },
   {
    "duration": 13,
    "start_time": "2023-11-16T21:06:44.085Z"
   },
   {
    "duration": 18,
    "start_time": "2023-11-16T21:06:47.938Z"
   },
   {
    "duration": 4,
    "start_time": "2023-11-16T21:07:06.850Z"
   },
   {
    "duration": 5,
    "start_time": "2023-11-16T21:07:11.790Z"
   },
   {
    "duration": 20,
    "start_time": "2023-11-16T21:07:15.479Z"
   },
   {
    "duration": 4,
    "start_time": "2023-11-16T21:07:18.090Z"
   },
   {
    "duration": 4,
    "start_time": "2023-11-16T21:07:21.747Z"
   },
   {
    "duration": 10,
    "start_time": "2023-11-16T21:07:32.775Z"
   },
   {
    "duration": 4,
    "start_time": "2023-11-16T21:07:36.829Z"
   },
   {
    "duration": 4,
    "start_time": "2023-11-16T21:08:29.248Z"
   },
   {
    "duration": 2875,
    "start_time": "2023-11-17T08:39:02.682Z"
   },
   {
    "duration": 3345,
    "start_time": "2023-11-17T08:39:05.559Z"
   },
   {
    "duration": 19,
    "start_time": "2023-11-17T08:39:08.906Z"
   },
   {
    "duration": 6,
    "start_time": "2023-11-17T08:39:08.926Z"
   },
   {
    "duration": 27,
    "start_time": "2023-11-17T08:39:08.934Z"
   },
   {
    "duration": 10,
    "start_time": "2023-11-17T08:39:08.963Z"
   },
   {
    "duration": 9,
    "start_time": "2023-11-17T08:39:08.975Z"
   },
   {
    "duration": 2259,
    "start_time": "2023-11-17T08:39:08.985Z"
   },
   {
    "duration": 2641,
    "start_time": "2023-11-17T08:39:11.246Z"
   },
   {
    "duration": 21,
    "start_time": "2023-11-17T08:39:13.888Z"
   },
   {
    "duration": 11624,
    "start_time": "2023-11-17T08:39:13.911Z"
   },
   {
    "duration": 5,
    "start_time": "2023-11-17T08:39:25.537Z"
   },
   {
    "duration": 828,
    "start_time": "2023-11-17T08:39:25.544Z"
   },
   {
    "duration": 9,
    "start_time": "2023-11-17T08:39:26.375Z"
   },
   {
    "duration": 72,
    "start_time": "2023-11-17T08:39:26.385Z"
   },
   {
    "duration": 28,
    "start_time": "2023-11-17T08:39:26.458Z"
   },
   {
    "duration": 19,
    "start_time": "2023-11-17T08:39:26.487Z"
   },
   {
    "duration": 4,
    "start_time": "2023-11-17T08:39:26.507Z"
   },
   {
    "duration": 17,
    "start_time": "2023-11-17T08:39:26.512Z"
   },
   {
    "duration": 169,
    "start_time": "2023-11-17T08:39:26.531Z"
   },
   {
    "duration": 12,
    "start_time": "2023-11-17T08:40:35.824Z"
   },
   {
    "duration": 19,
    "start_time": "2023-11-17T08:44:15.715Z"
   },
   {
    "duration": 8,
    "start_time": "2023-11-17T08:46:38.666Z"
   },
   {
    "duration": 44,
    "start_time": "2023-11-17T08:46:47.036Z"
   },
   {
    "duration": 2794,
    "start_time": "2023-11-17T08:46:56.366Z"
   },
   {
    "duration": 3436,
    "start_time": "2023-11-17T08:46:59.162Z"
   },
   {
    "duration": 17,
    "start_time": "2023-11-17T08:47:02.600Z"
   },
   {
    "duration": 7,
    "start_time": "2023-11-17T08:47:02.618Z"
   },
   {
    "duration": 28,
    "start_time": "2023-11-17T08:47:02.627Z"
   },
   {
    "duration": 15,
    "start_time": "2023-11-17T08:47:02.656Z"
   },
   {
    "duration": 5,
    "start_time": "2023-11-17T08:47:02.673Z"
   },
   {
    "duration": 2281,
    "start_time": "2023-11-17T08:47:02.680Z"
   },
   {
    "duration": 2284,
    "start_time": "2023-11-17T08:47:04.963Z"
   },
   {
    "duration": 10,
    "start_time": "2023-11-17T08:47:07.249Z"
   },
   {
    "duration": 1053,
    "start_time": "2023-11-17T08:47:07.260Z"
   },
   {
    "duration": 4,
    "start_time": "2023-11-17T08:47:08.314Z"
   },
   {
    "duration": 793,
    "start_time": "2023-11-17T08:47:08.320Z"
   },
   {
    "duration": 6,
    "start_time": "2023-11-17T08:47:09.116Z"
   },
   {
    "duration": 48,
    "start_time": "2023-11-17T08:47:43.572Z"
   },
   {
    "duration": 9,
    "start_time": "2023-11-17T08:47:48.824Z"
   },
   {
    "duration": 6,
    "start_time": "2023-11-17T08:47:52.604Z"
   },
   {
    "duration": 2921,
    "start_time": "2023-11-17T08:47:57.135Z"
   },
   {
    "duration": 3366,
    "start_time": "2023-11-17T08:48:01.280Z"
   },
   {
    "duration": 17,
    "start_time": "2023-11-17T08:48:06.516Z"
   },
   {
    "duration": 6,
    "start_time": "2023-11-17T08:48:07.644Z"
   },
   {
    "duration": 25,
    "start_time": "2023-11-17T08:48:08.279Z"
   },
   {
    "duration": 5,
    "start_time": "2023-11-17T08:48:09.177Z"
   },
   {
    "duration": 3,
    "start_time": "2023-11-17T08:48:10.760Z"
   },
   {
    "duration": 2245,
    "start_time": "2023-11-17T08:48:11.105Z"
   },
   {
    "duration": 2161,
    "start_time": "2023-11-17T08:48:13.352Z"
   },
   {
    "duration": 280,
    "start_time": "2023-11-17T08:48:26.082Z"
   },
   {
    "duration": 3,
    "start_time": "2023-11-17T08:48:30.359Z"
   },
   {
    "duration": 955,
    "start_time": "2023-11-17T08:48:31.274Z"
   },
   {
    "duration": 3013,
    "start_time": "2023-11-17T08:49:00.933Z"
   },
   {
    "duration": 3355,
    "start_time": "2023-11-17T08:49:05.260Z"
   },
   {
    "duration": 18,
    "start_time": "2023-11-17T08:49:08.617Z"
   },
   {
    "duration": 6,
    "start_time": "2023-11-17T08:49:09.828Z"
   },
   {
    "duration": 26,
    "start_time": "2023-11-17T08:49:11.074Z"
   },
   {
    "duration": 5,
    "start_time": "2023-11-17T08:49:11.909Z"
   },
   {
    "duration": 2,
    "start_time": "2023-11-17T08:49:12.787Z"
   },
   {
    "duration": 2303,
    "start_time": "2023-11-17T08:49:13.446Z"
   },
   {
    "duration": 2135,
    "start_time": "2023-11-17T08:49:17.595Z"
   },
   {
    "duration": 15,
    "start_time": "2023-11-17T08:49:19.732Z"
   },
   {
    "duration": 252,
    "start_time": "2023-11-17T08:49:24.967Z"
   },
   {
    "duration": 3279,
    "start_time": "2023-11-17T08:49:34.773Z"
   },
   {
    "duration": 3360,
    "start_time": "2023-11-17T08:49:39.077Z"
   },
   {
    "duration": 17,
    "start_time": "2023-11-17T08:49:42.438Z"
   },
   {
    "duration": 5,
    "start_time": "2023-11-17T08:49:42.457Z"
   },
   {
    "duration": 27,
    "start_time": "2023-11-17T08:49:42.464Z"
   },
   {
    "duration": 6,
    "start_time": "2023-11-17T08:49:42.512Z"
   },
   {
    "duration": 3,
    "start_time": "2023-11-17T08:49:44.812Z"
   },
   {
    "duration": 2321,
    "start_time": "2023-11-17T08:49:45.106Z"
   },
   {
    "duration": 2147,
    "start_time": "2023-11-17T08:49:47.429Z"
   },
   {
    "duration": 30,
    "start_time": "2023-11-17T08:49:49.578Z"
   },
   {
    "duration": 2764,
    "start_time": "2023-11-17T08:50:18.819Z"
   },
   {
    "duration": 3334,
    "start_time": "2023-11-17T08:50:21.585Z"
   },
   {
    "duration": 18,
    "start_time": "2023-11-17T08:50:24.921Z"
   },
   {
    "duration": 16,
    "start_time": "2023-11-17T08:50:24.941Z"
   },
   {
    "duration": 29,
    "start_time": "2023-11-17T08:50:24.960Z"
   },
   {
    "duration": 22,
    "start_time": "2023-11-17T08:50:24.991Z"
   },
   {
    "duration": 33,
    "start_time": "2023-11-17T08:50:25.015Z"
   },
   {
    "duration": 2316,
    "start_time": "2023-11-17T08:50:25.049Z"
   },
   {
    "duration": 2128,
    "start_time": "2023-11-17T08:50:27.366Z"
   },
   {
    "duration": 14,
    "start_time": "2023-11-17T08:50:29.495Z"
   },
   {
    "duration": 7969,
    "start_time": "2023-11-17T08:50:29.511Z"
   },
   {
    "duration": 5,
    "start_time": "2023-11-17T08:50:37.482Z"
   },
   {
    "duration": 897,
    "start_time": "2023-11-17T08:50:37.488Z"
   },
   {
    "duration": 6,
    "start_time": "2023-11-17T08:50:38.388Z"
   },
   {
    "duration": 2819,
    "start_time": "2023-11-17T08:51:11.980Z"
   },
   {
    "duration": 3377,
    "start_time": "2023-11-17T08:51:14.801Z"
   },
   {
    "duration": 18,
    "start_time": "2023-11-17T08:51:18.179Z"
   },
   {
    "duration": 6,
    "start_time": "2023-11-17T08:51:18.199Z"
   },
   {
    "duration": 28,
    "start_time": "2023-11-17T08:51:18.207Z"
   },
   {
    "duration": 14,
    "start_time": "2023-11-17T08:51:18.236Z"
   },
   {
    "duration": 3,
    "start_time": "2023-11-17T08:51:18.252Z"
   },
   {
    "duration": 2361,
    "start_time": "2023-11-17T08:51:18.257Z"
   },
   {
    "duration": 2153,
    "start_time": "2023-11-17T08:51:20.622Z"
   },
   {
    "duration": 5,
    "start_time": "2023-11-17T08:51:22.777Z"
   },
   {
    "duration": 7980,
    "start_time": "2023-11-17T08:51:22.783Z"
   },
   {
    "duration": 6,
    "start_time": "2023-11-17T08:51:30.765Z"
   },
   {
    "duration": 876,
    "start_time": "2023-11-17T08:51:30.773Z"
   },
   {
    "duration": 7,
    "start_time": "2023-11-17T08:51:31.653Z"
   },
   {
    "duration": 72,
    "start_time": "2023-11-17T08:51:31.661Z"
   },
   {
    "duration": 45,
    "start_time": "2023-11-17T08:51:31.735Z"
   },
   {
    "duration": 39,
    "start_time": "2023-11-17T08:51:31.782Z"
   },
   {
    "duration": 54,
    "start_time": "2023-11-17T08:51:31.823Z"
   },
   {
    "duration": 26,
    "start_time": "2023-11-17T08:51:31.880Z"
   },
   {
    "duration": 33,
    "start_time": "2023-11-17T08:51:31.908Z"
   },
   {
    "duration": 192,
    "start_time": "2023-11-17T08:51:31.943Z"
   },
   {
    "duration": 0,
    "start_time": "2023-11-17T08:51:32.137Z"
   },
   {
    "duration": 2745,
    "start_time": "2023-11-17T08:53:50.753Z"
   },
   {
    "duration": 3368,
    "start_time": "2023-11-17T08:53:53.501Z"
   },
   {
    "duration": 19,
    "start_time": "2023-11-17T08:53:56.871Z"
   },
   {
    "duration": 14,
    "start_time": "2023-11-17T08:53:56.892Z"
   },
   {
    "duration": 27,
    "start_time": "2023-11-17T08:53:56.907Z"
   },
   {
    "duration": 12,
    "start_time": "2023-11-17T08:53:56.936Z"
   },
   {
    "duration": 5,
    "start_time": "2023-11-17T08:53:56.950Z"
   },
   {
    "duration": 2298,
    "start_time": "2023-11-17T08:53:56.957Z"
   },
   {
    "duration": 2169,
    "start_time": "2023-11-17T08:53:59.257Z"
   },
   {
    "duration": 51,
    "start_time": "2023-11-17T08:54:01.428Z"
   },
   {
    "duration": 7822,
    "start_time": "2023-11-17T08:54:01.480Z"
   },
   {
    "duration": 5,
    "start_time": "2023-11-17T08:54:09.304Z"
   },
   {
    "duration": 798,
    "start_time": "2023-11-17T08:54:09.310Z"
   },
   {
    "duration": 7,
    "start_time": "2023-11-17T08:54:10.109Z"
   },
   {
    "duration": 64,
    "start_time": "2023-11-17T08:54:10.117Z"
   },
   {
    "duration": 27,
    "start_time": "2023-11-17T08:54:10.182Z"
   },
   {
    "duration": 52,
    "start_time": "2023-11-17T08:54:10.211Z"
   },
   {
    "duration": 6,
    "start_time": "2023-11-17T08:54:10.264Z"
   },
   {
    "duration": 54,
    "start_time": "2023-11-17T08:54:10.271Z"
   },
   {
    "duration": 66,
    "start_time": "2023-11-17T08:54:10.327Z"
   },
   {
    "duration": 276,
    "start_time": "2023-11-17T08:54:10.394Z"
   },
   {
    "duration": 0,
    "start_time": "2023-11-17T08:54:10.671Z"
   },
   {
    "duration": 5,
    "start_time": "2023-11-17T08:54:37.076Z"
   },
   {
    "duration": 6,
    "start_time": "2023-11-17T08:54:38.953Z"
   },
   {
    "duration": 2801,
    "start_time": "2023-11-17T08:57:37.503Z"
   },
   {
    "duration": 3382,
    "start_time": "2023-11-17T08:57:40.306Z"
   },
   {
    "duration": 21,
    "start_time": "2023-11-17T08:57:43.690Z"
   },
   {
    "duration": 19,
    "start_time": "2023-11-17T08:57:43.712Z"
   },
   {
    "duration": 40,
    "start_time": "2023-11-17T08:57:43.733Z"
   },
   {
    "duration": 26,
    "start_time": "2023-11-17T08:57:43.775Z"
   },
   {
    "duration": 4,
    "start_time": "2023-11-17T08:57:43.803Z"
   },
   {
    "duration": 2396,
    "start_time": "2023-11-17T08:57:43.808Z"
   },
   {
    "duration": 2170,
    "start_time": "2023-11-17T08:57:46.205Z"
   },
   {
    "duration": 5,
    "start_time": "2023-11-17T08:57:48.376Z"
   },
   {
    "duration": 7774,
    "start_time": "2023-11-17T08:57:48.382Z"
   },
   {
    "duration": 5,
    "start_time": "2023-11-17T08:57:56.158Z"
   },
   {
    "duration": 789,
    "start_time": "2023-11-17T08:57:56.164Z"
   },
   {
    "duration": 7,
    "start_time": "2023-11-17T08:57:56.956Z"
   },
   {
    "duration": 44,
    "start_time": "2023-11-17T08:57:56.965Z"
   },
   {
    "duration": 2948,
    "start_time": "2023-11-17T09:02:50.782Z"
   },
   {
    "duration": 3357,
    "start_time": "2023-11-17T09:02:53.732Z"
   },
   {
    "duration": 19,
    "start_time": "2023-11-17T09:02:57.091Z"
   },
   {
    "duration": 16,
    "start_time": "2023-11-17T09:02:57.112Z"
   },
   {
    "duration": 31,
    "start_time": "2023-11-17T09:02:57.130Z"
   },
   {
    "duration": 25,
    "start_time": "2023-11-17T09:02:57.162Z"
   },
   {
    "duration": 12,
    "start_time": "2023-11-17T09:02:57.189Z"
   },
   {
    "duration": 2337,
    "start_time": "2023-11-17T09:02:57.203Z"
   },
   {
    "duration": 2200,
    "start_time": "2023-11-17T09:02:59.542Z"
   },
   {
    "duration": 26,
    "start_time": "2023-11-17T09:03:01.744Z"
   },
   {
    "duration": 7973,
    "start_time": "2023-11-17T09:03:01.772Z"
   },
   {
    "duration": 5,
    "start_time": "2023-11-17T09:03:09.748Z"
   },
   {
    "duration": 807,
    "start_time": "2023-11-17T09:03:09.754Z"
   },
   {
    "duration": 40,
    "start_time": "2023-11-17T09:03:10.563Z"
   },
   {
    "duration": 77,
    "start_time": "2023-11-17T09:03:10.605Z"
   },
   {
    "duration": 34,
    "start_time": "2023-11-17T09:03:10.683Z"
   },
   {
    "duration": 4,
    "start_time": "2023-11-17T09:03:10.719Z"
   },
   {
    "duration": 24,
    "start_time": "2023-11-17T09:03:10.724Z"
   },
   {
    "duration": 2743,
    "start_time": "2023-11-17T09:04:00.451Z"
   },
   {
    "duration": 3351,
    "start_time": "2023-11-17T09:04:03.845Z"
   },
   {
    "duration": 18,
    "start_time": "2023-11-17T09:04:07.198Z"
   },
   {
    "duration": 5,
    "start_time": "2023-11-17T09:04:07.217Z"
   },
   {
    "duration": 39,
    "start_time": "2023-11-17T09:04:07.223Z"
   },
   {
    "duration": 5,
    "start_time": "2023-11-17T09:04:07.264Z"
   },
   {
    "duration": 4,
    "start_time": "2023-11-17T09:04:10.908Z"
   },
   {
    "duration": 2312,
    "start_time": "2023-11-17T09:04:11.277Z"
   },
   {
    "duration": 2181,
    "start_time": "2023-11-17T09:04:13.591Z"
   },
   {
    "duration": 11,
    "start_time": "2023-11-17T09:04:15.774Z"
   },
   {
    "duration": 8245,
    "start_time": "2023-11-17T09:04:16.937Z"
   },
   {
    "duration": 5,
    "start_time": "2023-11-17T09:04:25.185Z"
   },
   {
    "duration": 867,
    "start_time": "2023-11-17T09:04:25.191Z"
   },
   {
    "duration": 36,
    "start_time": "2023-11-17T09:04:31.186Z"
   },
   {
    "duration": 29,
    "start_time": "2023-11-17T09:04:32.111Z"
   },
   {
    "duration": 21,
    "start_time": "2023-11-17T09:04:32.429Z"
   },
   {
    "duration": 4,
    "start_time": "2023-11-17T09:04:34.466Z"
   },
   {
    "duration": 8,
    "start_time": "2023-11-17T09:04:36.457Z"
   },
   {
    "duration": 9,
    "start_time": "2023-11-17T09:04:42.450Z"
   },
   {
    "duration": 6,
    "start_time": "2023-11-17T09:04:49.021Z"
   },
   {
    "duration": 6,
    "start_time": "2023-11-17T09:04:54.526Z"
   },
   {
    "duration": 5,
    "start_time": "2023-11-17T09:05:08.991Z"
   },
   {
    "duration": 5,
    "start_time": "2023-11-17T09:05:14.072Z"
   },
   {
    "duration": 5670,
    "start_time": "2023-11-17T09:18:51.131Z"
   },
   {
    "duration": 3494,
    "start_time": "2023-11-17T09:18:56.809Z"
   },
   {
    "duration": 24,
    "start_time": "2023-11-17T09:19:00.307Z"
   },
   {
    "duration": 46,
    "start_time": "2023-11-17T09:19:00.334Z"
   },
   {
    "duration": 77,
    "start_time": "2023-11-17T09:19:00.382Z"
   },
   {
    "duration": 50,
    "start_time": "2023-11-17T09:19:00.461Z"
   },
   {
    "duration": 30,
    "start_time": "2023-11-17T09:19:00.515Z"
   },
   {
    "duration": 2600,
    "start_time": "2023-11-17T09:19:00.547Z"
   },
   {
    "duration": 2341,
    "start_time": "2023-11-17T09:19:03.149Z"
   },
   {
    "duration": 17,
    "start_time": "2023-11-17T09:19:05.498Z"
   },
   {
    "duration": 8210,
    "start_time": "2023-11-17T09:19:05.518Z"
   },
   {
    "duration": 4,
    "start_time": "2023-11-17T09:19:13.730Z"
   },
   {
    "duration": 857,
    "start_time": "2023-11-17T09:19:13.735Z"
   },
   {
    "duration": 41,
    "start_time": "2023-11-17T09:19:14.593Z"
   },
   {
    "duration": 34,
    "start_time": "2023-11-17T09:19:14.635Z"
   },
   {
    "duration": 36,
    "start_time": "2023-11-17T09:19:14.671Z"
   },
   {
    "duration": 5,
    "start_time": "2023-11-17T09:19:14.713Z"
   },
   {
    "duration": 21,
    "start_time": "2023-11-17T09:19:14.719Z"
   },
   {
    "duration": 4866,
    "start_time": "2023-11-17T09:20:05.116Z"
   },
   {
    "duration": 3450,
    "start_time": "2023-11-17T09:20:09.985Z"
   },
   {
    "duration": 23,
    "start_time": "2023-11-17T09:20:13.437Z"
   },
   {
    "duration": 8,
    "start_time": "2023-11-17T09:20:13.463Z"
   },
   {
    "duration": 30,
    "start_time": "2023-11-17T09:20:14.796Z"
   },
   {
    "duration": 6,
    "start_time": "2023-11-17T09:20:15.619Z"
   },
   {
    "duration": 5,
    "start_time": "2023-11-17T09:20:17.566Z"
   },
   {
    "duration": 4,
    "start_time": "2023-11-17T09:20:43.025Z"
   },
   {
    "duration": 3174,
    "start_time": "2023-11-17T09:20:45.562Z"
   },
   {
    "duration": 2156,
    "start_time": "2023-11-17T09:20:56.555Z"
   },
   {
    "duration": 13,
    "start_time": "2023-11-17T09:20:58.715Z"
   },
   {
    "duration": 8208,
    "start_time": "2023-11-17T09:20:58.730Z"
   },
   {
    "duration": 5,
    "start_time": "2023-11-17T09:21:08.327Z"
   },
   {
    "duration": 892,
    "start_time": "2023-11-17T09:21:08.522Z"
   },
   {
    "duration": 34,
    "start_time": "2023-11-17T09:21:18.727Z"
   },
   {
    "duration": 28,
    "start_time": "2023-11-17T09:21:20.463Z"
   },
   {
    "duration": 20,
    "start_time": "2023-11-17T09:21:20.733Z"
   },
   {
    "duration": 5,
    "start_time": "2023-11-17T09:21:22.761Z"
   },
   {
    "duration": 9,
    "start_time": "2023-11-17T09:21:28.715Z"
   },
   {
    "duration": 9,
    "start_time": "2023-11-17T09:21:35.359Z"
   },
   {
    "duration": 12,
    "start_time": "2023-11-17T09:21:45.212Z"
   },
   {
    "duration": 819,
    "start_time": "2023-11-17T09:22:12.360Z"
   },
   {
    "duration": 4,
    "start_time": "2023-11-17T09:22:18.370Z"
   },
   {
    "duration": 2868,
    "start_time": "2023-11-17T09:22:58.554Z"
   },
   {
    "duration": 3429,
    "start_time": "2023-11-17T09:23:01.424Z"
   },
   {
    "duration": 19,
    "start_time": "2023-11-17T09:23:04.855Z"
   },
   {
    "duration": 8,
    "start_time": "2023-11-17T09:23:04.876Z"
   },
   {
    "duration": 41,
    "start_time": "2023-11-17T09:23:04.887Z"
   },
   {
    "duration": 5,
    "start_time": "2023-11-17T09:23:04.930Z"
   },
   {
    "duration": 9,
    "start_time": "2023-11-17T09:23:04.937Z"
   },
   {
    "duration": 3205,
    "start_time": "2023-11-17T09:23:04.948Z"
   },
   {
    "duration": 2175,
    "start_time": "2023-11-17T09:23:08.155Z"
   },
   {
    "duration": 5,
    "start_time": "2023-11-17T09:23:10.332Z"
   },
   {
    "duration": 8075,
    "start_time": "2023-11-17T09:23:10.339Z"
   },
   {
    "duration": 5,
    "start_time": "2023-11-17T09:23:18.416Z"
   },
   {
    "duration": 843,
    "start_time": "2023-11-17T09:23:18.423Z"
   },
   {
    "duration": 43,
    "start_time": "2023-11-17T09:23:19.270Z"
   },
   {
    "duration": 37,
    "start_time": "2023-11-17T09:23:19.315Z"
   },
   {
    "duration": 18,
    "start_time": "2023-11-17T09:23:19.353Z"
   },
   {
    "duration": 4,
    "start_time": "2023-11-17T09:23:19.373Z"
   },
   {
    "duration": 29,
    "start_time": "2023-11-17T09:23:19.378Z"
   },
   {
    "duration": 863,
    "start_time": "2023-11-17T09:23:19.409Z"
   },
   {
    "duration": 246,
    "start_time": "2023-11-17T09:23:20.274Z"
   },
   {
    "duration": 249,
    "start_time": "2023-11-17T09:23:20.522Z"
   },
   {
    "duration": 181,
    "start_time": "2023-11-17T09:23:20.773Z"
   },
   {
    "duration": 0,
    "start_time": "2023-11-17T09:23:20.956Z"
   },
   {
    "duration": 13,
    "start_time": "2023-11-17T09:24:28.562Z"
   },
   {
    "duration": 17,
    "start_time": "2023-11-17T09:24:55.740Z"
   },
   {
    "duration": 74,
    "start_time": "2023-11-17T09:25:04.441Z"
   },
   {
    "duration": 49,
    "start_time": "2023-11-17T09:25:14.093Z"
   },
   {
    "duration": 14,
    "start_time": "2023-11-17T09:25:17.025Z"
   },
   {
    "duration": 13,
    "start_time": "2023-11-17T09:25:20.847Z"
   },
   {
    "duration": 13,
    "start_time": "2023-11-17T09:25:26.745Z"
   },
   {
    "duration": 11,
    "start_time": "2023-11-17T09:25:29.341Z"
   },
   {
    "duration": 6,
    "start_time": "2023-11-17T09:26:31.726Z"
   },
   {
    "duration": 16,
    "start_time": "2023-11-17T09:27:12.339Z"
   },
   {
    "duration": 22,
    "start_time": "2023-11-17T09:27:19.734Z"
   },
   {
    "duration": 15,
    "start_time": "2023-11-17T09:27:20.068Z"
   },
   {
    "duration": 858,
    "start_time": "2023-11-17T09:27:21.117Z"
   },
   {
    "duration": 16,
    "start_time": "2023-11-17T09:27:41.351Z"
   },
   {
    "duration": 18,
    "start_time": "2023-11-17T09:27:44.166Z"
   },
   {
    "duration": 14,
    "start_time": "2023-11-17T09:27:44.422Z"
   },
   {
    "duration": 11,
    "start_time": "2023-11-17T09:27:48.420Z"
   },
   {
    "duration": 29,
    "start_time": "2023-11-17T09:27:49.479Z"
   },
   {
    "duration": 20,
    "start_time": "2023-11-17T09:27:49.827Z"
   },
   {
    "duration": 5,
    "start_time": "2023-11-17T09:27:50.857Z"
   },
   {
    "duration": 2960,
    "start_time": "2023-11-17T09:28:07.290Z"
   },
   {
    "duration": 3488,
    "start_time": "2023-11-17T09:28:10.252Z"
   },
   {
    "duration": 20,
    "start_time": "2023-11-17T09:28:13.741Z"
   },
   {
    "duration": 9,
    "start_time": "2023-11-17T09:28:13.763Z"
   },
   {
    "duration": 37,
    "start_time": "2023-11-17T09:28:13.773Z"
   },
   {
    "duration": 14,
    "start_time": "2023-11-17T09:28:13.812Z"
   },
   {
    "duration": 3,
    "start_time": "2023-11-17T09:28:14.646Z"
   },
   {
    "duration": 2478,
    "start_time": "2023-11-17T09:28:15.406Z"
   },
   {
    "duration": 2265,
    "start_time": "2023-11-17T09:28:17.885Z"
   },
   {
    "duration": 62,
    "start_time": "2023-11-17T09:28:20.152Z"
   },
   {
    "duration": 7,
    "start_time": "2023-11-17T09:28:21.096Z"
   },
   {
    "duration": 832,
    "start_time": "2023-11-17T09:28:21.269Z"
   },
   {
    "duration": 38,
    "start_time": "2023-11-17T09:28:27.582Z"
   },
   {
    "duration": 28,
    "start_time": "2023-11-17T09:28:28.915Z"
   },
   {
    "duration": 20,
    "start_time": "2023-11-17T09:28:29.114Z"
   },
   {
    "duration": 6,
    "start_time": "2023-11-17T09:28:29.967Z"
   },
   {
    "duration": 2906,
    "start_time": "2023-11-17T09:28:54.428Z"
   },
   {
    "duration": 3466,
    "start_time": "2023-11-17T09:28:58.086Z"
   },
   {
    "duration": 20,
    "start_time": "2023-11-17T09:29:01.554Z"
   },
   {
    "duration": 30,
    "start_time": "2023-11-17T09:29:01.575Z"
   },
   {
    "duration": 54,
    "start_time": "2023-11-17T09:29:01.612Z"
   },
   {
    "duration": 24,
    "start_time": "2023-11-17T09:29:01.668Z"
   },
   {
    "duration": 3,
    "start_time": "2023-11-17T09:29:02.313Z"
   },
   {
    "duration": 2476,
    "start_time": "2023-11-17T09:29:04.905Z"
   },
   {
    "duration": 2218,
    "start_time": "2023-11-17T09:29:08.426Z"
   },
   {
    "duration": 24,
    "start_time": "2023-11-17T09:29:10.646Z"
   },
   {
    "duration": 4,
    "start_time": "2023-11-17T09:29:11.169Z"
   },
   {
    "duration": 845,
    "start_time": "2023-11-17T09:29:11.363Z"
   },
   {
    "duration": 7,
    "start_time": "2023-11-17T09:29:13.910Z"
   },
   {
    "duration": 36,
    "start_time": "2023-11-17T09:29:16.381Z"
   },
   {
    "duration": 29,
    "start_time": "2023-11-17T09:29:16.964Z"
   },
   {
    "duration": 21,
    "start_time": "2023-11-17T09:29:17.154Z"
   },
   {
    "duration": 4,
    "start_time": "2023-11-17T09:29:18.377Z"
   },
   {
    "duration": 7,
    "start_time": "2023-11-17T09:29:19.460Z"
   },
   {
    "duration": 1750,
    "start_time": "2023-11-17T09:29:20.184Z"
   },
   {
    "duration": 15,
    "start_time": "2023-11-17T09:30:15.727Z"
   },
   {
    "duration": 6,
    "start_time": "2023-11-17T09:30:16.360Z"
   },
   {
    "duration": 6,
    "start_time": "2023-11-17T09:30:23.251Z"
   },
   {
    "duration": 15,
    "start_time": "2023-11-17T09:30:23.868Z"
   },
   {
    "duration": 11,
    "start_time": "2023-11-17T09:30:25.186Z"
   },
   {
    "duration": 11,
    "start_time": "2023-11-17T09:30:25.431Z"
   },
   {
    "duration": 4,
    "start_time": "2023-11-17T09:30:25.951Z"
   },
   {
    "duration": 3,
    "start_time": "2023-11-17T09:30:27.639Z"
   },
   {
    "duration": 475,
    "start_time": "2023-11-17T09:30:28.767Z"
   },
   {
    "duration": 70,
    "start_time": "2023-11-17T09:30:39.322Z"
   },
   {
    "duration": 1686,
    "start_time": "2023-11-17T09:30:43.731Z"
   },
   {
    "duration": 519,
    "start_time": "2023-11-17T09:30:45.832Z"
   },
   {
    "duration": 539,
    "start_time": "2023-11-17T09:30:46.353Z"
   },
   {
    "duration": 2869,
    "start_time": "2023-11-17T09:31:05.976Z"
   },
   {
    "duration": 903,
    "start_time": "2023-11-17T09:31:09.687Z"
   },
   {
    "duration": 26,
    "start_time": "2023-11-17T09:31:10.592Z"
   },
   {
    "duration": 7,
    "start_time": "2023-11-17T09:31:11.130Z"
   },
   {
    "duration": 26,
    "start_time": "2023-11-17T09:31:12.843Z"
   },
   {
    "duration": 5,
    "start_time": "2023-11-17T09:31:13.727Z"
   },
   {
    "duration": 3,
    "start_time": "2023-11-17T09:31:16.119Z"
   },
   {
    "duration": 2491,
    "start_time": "2023-11-17T09:31:16.309Z"
   },
   {
    "duration": 2182,
    "start_time": "2023-11-17T09:31:18.802Z"
   },
   {
    "duration": 3,
    "start_time": "2023-11-17T09:31:22.836Z"
   },
   {
    "duration": 4,
    "start_time": "2023-11-17T09:31:24.036Z"
   },
   {
    "duration": 830,
    "start_time": "2023-11-17T09:31:24.241Z"
   },
   {
    "duration": 48,
    "start_time": "2023-11-17T09:31:26.613Z"
   },
   {
    "duration": 6,
    "start_time": "2023-11-17T09:31:27.057Z"
   },
   {
    "duration": 8,
    "start_time": "2023-11-17T09:31:28.440Z"
   },
   {
    "duration": 9,
    "start_time": "2023-11-17T09:31:30.152Z"
   },
   {
    "duration": 7,
    "start_time": "2023-11-17T09:31:30.342Z"
   },
   {
    "duration": 4,
    "start_time": "2023-11-17T09:31:31.332Z"
   },
   {
    "duration": 5,
    "start_time": "2023-11-17T09:31:32.369Z"
   },
   {
    "duration": 1669,
    "start_time": "2023-11-17T09:31:34.021Z"
   },
   {
    "duration": 523,
    "start_time": "2023-11-17T09:31:35.695Z"
   },
   {
    "duration": 523,
    "start_time": "2023-11-17T09:31:36.219Z"
   },
   {
    "duration": 165,
    "start_time": "2023-11-17T09:31:56.913Z"
   },
   {
    "duration": 6,
    "start_time": "2023-11-17T09:32:07.865Z"
   },
   {
    "duration": 7,
    "start_time": "2023-11-17T09:32:08.753Z"
   },
   {
    "duration": 9,
    "start_time": "2023-11-17T09:32:10.071Z"
   },
   {
    "duration": 7,
    "start_time": "2023-11-17T09:32:10.356Z"
   },
   {
    "duration": 5,
    "start_time": "2023-11-17T09:32:10.890Z"
   },
   {
    "duration": 3,
    "start_time": "2023-11-17T09:32:12.260Z"
   },
   {
    "duration": 1600,
    "start_time": "2023-11-17T09:32:12.890Z"
   },
   {
    "duration": 534,
    "start_time": "2023-11-17T09:32:15.144Z"
   },
   {
    "duration": 555,
    "start_time": "2023-11-17T09:32:15.680Z"
   },
   {
    "duration": 13,
    "start_time": "2023-11-17T09:32:41.682Z"
   },
   {
    "duration": 8,
    "start_time": "2023-11-17T09:32:43.695Z"
   },
   {
    "duration": 66,
    "start_time": "2023-11-17T09:32:45.866Z"
   },
   {
    "duration": 7,
    "start_time": "2023-11-17T09:32:47.314Z"
   },
   {
    "duration": 3,
    "start_time": "2023-11-17T09:32:49.320Z"
   },
   {
    "duration": 2583,
    "start_time": "2023-11-17T09:32:49.807Z"
   },
   {
    "duration": 9,
    "start_time": "2023-11-17T09:32:59.378Z"
   },
   {
    "duration": 2903,
    "start_time": "2023-11-17T09:33:04.226Z"
   },
   {
    "duration": 3447,
    "start_time": "2023-11-17T09:33:08.032Z"
   },
   {
    "duration": 18,
    "start_time": "2023-11-17T09:33:12.775Z"
   },
   {
    "duration": 6,
    "start_time": "2023-11-17T09:33:14.153Z"
   },
   {
    "duration": 27,
    "start_time": "2023-11-17T09:33:14.816Z"
   },
   {
    "duration": 6,
    "start_time": "2023-11-17T09:33:15.690Z"
   },
   {
    "duration": 3,
    "start_time": "2023-11-17T09:33:18.272Z"
   },
   {
    "duration": 2525,
    "start_time": "2023-11-17T09:33:19.638Z"
   },
   {
    "duration": 2244,
    "start_time": "2023-11-17T09:33:24.592Z"
   },
   {
    "duration": 3,
    "start_time": "2023-11-17T09:33:27.813Z"
   },
   {
    "duration": 5,
    "start_time": "2023-11-17T09:33:30.049Z"
   },
   {
    "duration": 896,
    "start_time": "2023-11-17T09:33:30.283Z"
   },
   {
    "duration": 12,
    "start_time": "2023-11-17T09:33:40.678Z"
   },
   {
    "duration": 30,
    "start_time": "2023-11-17T09:33:55.096Z"
   },
   {
    "duration": 17,
    "start_time": "2023-11-17T09:34:30.097Z"
   },
   {
    "duration": 36,
    "start_time": "2023-11-17T09:34:48.081Z"
   },
   {
    "duration": 15,
    "start_time": "2023-11-17T09:34:56.813Z"
   },
   {
    "duration": 28,
    "start_time": "2023-11-17T09:35:12.779Z"
   },
   {
    "duration": 11,
    "start_time": "2023-11-17T09:35:13.783Z"
   },
   {
    "duration": 12,
    "start_time": "2023-11-17T09:35:22.931Z"
   },
   {
    "duration": 20,
    "start_time": "2023-11-17T09:35:31.329Z"
   },
   {
    "duration": 16,
    "start_time": "2023-11-17T09:35:35.805Z"
   },
   {
    "duration": 44,
    "start_time": "2023-11-17T09:36:01.726Z"
   },
   {
    "duration": 3,
    "start_time": "2023-11-17T09:36:03.388Z"
   },
   {
    "duration": 2701,
    "start_time": "2023-11-17T09:36:03.672Z"
   },
   {
    "duration": 10,
    "start_time": "2023-11-17T09:36:09.716Z"
   },
   {
    "duration": 21,
    "start_time": "2023-11-17T09:36:10.114Z"
   },
   {
    "duration": 187,
    "start_time": "2023-11-17T09:36:11.537Z"
   },
   {
    "duration": 6,
    "start_time": "2023-11-17T09:36:21.386Z"
   },
   {
    "duration": 15,
    "start_time": "2023-11-17T09:36:21.940Z"
   },
   {
    "duration": 8,
    "start_time": "2023-11-17T09:36:43.929Z"
   },
   {
    "duration": 17,
    "start_time": "2023-11-17T09:36:52.136Z"
   },
   {
    "duration": 12,
    "start_time": "2023-11-17T09:36:52.542Z"
   },
   {
    "duration": 7,
    "start_time": "2023-11-17T09:36:55.946Z"
   },
   {
    "duration": 12,
    "start_time": "2023-11-17T09:36:57.206Z"
   },
   {
    "duration": 12,
    "start_time": "2023-11-17T09:37:02.507Z"
   },
   {
    "duration": 6,
    "start_time": "2023-11-17T09:37:11.592Z"
   },
   {
    "duration": 13,
    "start_time": "2023-11-17T09:37:13.459Z"
   },
   {
    "duration": 11,
    "start_time": "2023-11-17T09:37:13.768Z"
   },
   {
    "duration": 6,
    "start_time": "2023-11-17T09:37:14.338Z"
   },
   {
    "duration": 8,
    "start_time": "2023-11-17T09:37:16.511Z"
   },
   {
    "duration": 1580,
    "start_time": "2023-11-17T09:37:17.138Z"
   },
   {
    "duration": 544,
    "start_time": "2023-11-17T09:37:19.407Z"
   },
   {
    "duration": 512,
    "start_time": "2023-11-17T09:37:19.953Z"
   },
   {
    "duration": 3780,
    "start_time": "2023-11-17T09:37:22.320Z"
   },
   {
    "duration": 17,
    "start_time": "2023-11-17T09:40:29.222Z"
   },
   {
    "duration": 5,
    "start_time": "2023-11-17T09:40:47.664Z"
   },
   {
    "duration": 16,
    "start_time": "2023-11-17T09:40:51.199Z"
   },
   {
    "duration": 30072,
    "start_time": "2023-11-17T09:41:04.664Z"
   },
   {
    "duration": 3094,
    "start_time": "2023-11-17T09:42:03.393Z"
   },
   {
    "duration": 2622,
    "start_time": "2023-11-17T09:42:06.488Z"
   },
   {
    "duration": 23,
    "start_time": "2023-11-17T09:42:09.111Z"
   },
   {
    "duration": 13,
    "start_time": "2023-11-17T09:42:09.136Z"
   },
   {
    "duration": 31,
    "start_time": "2023-11-17T09:42:09.150Z"
   },
   {
    "duration": 8,
    "start_time": "2023-11-17T09:42:09.182Z"
   },
   {
    "duration": 16,
    "start_time": "2023-11-17T09:42:09.191Z"
   },
   {
    "duration": 2528,
    "start_time": "2023-11-17T09:42:09.209Z"
   },
   {
    "duration": 2404,
    "start_time": "2023-11-17T09:42:11.739Z"
   },
   {
    "duration": 15,
    "start_time": "2023-11-17T09:42:14.147Z"
   },
   {
    "duration": 8610,
    "start_time": "2023-11-17T09:42:14.164Z"
   },
   {
    "duration": 5,
    "start_time": "2023-11-17T09:42:22.777Z"
   },
   {
    "duration": 947,
    "start_time": "2023-11-17T09:42:22.783Z"
   },
   {
    "duration": 21,
    "start_time": "2023-11-17T09:42:23.733Z"
   },
   {
    "duration": 60,
    "start_time": "2023-11-17T09:42:23.755Z"
   },
   {
    "duration": 16,
    "start_time": "2023-11-17T09:42:23.818Z"
   },
   {
    "duration": 31,
    "start_time": "2023-11-17T09:42:23.837Z"
   },
   {
    "duration": 23,
    "start_time": "2023-11-17T09:42:23.870Z"
   },
   {
    "duration": 27,
    "start_time": "2023-11-17T09:42:23.894Z"
   },
   {
    "duration": 34,
    "start_time": "2023-11-17T09:42:23.923Z"
   },
   {
    "duration": 33,
    "start_time": "2023-11-17T09:42:23.959Z"
   },
   {
    "duration": 26,
    "start_time": "2023-11-17T09:42:23.993Z"
   },
   {
    "duration": 15,
    "start_time": "2023-11-17T09:42:24.021Z"
   },
   {
    "duration": 1641,
    "start_time": "2023-11-17T09:42:24.038Z"
   },
   {
    "duration": 513,
    "start_time": "2023-11-17T09:42:25.681Z"
   },
   {
    "duration": 516,
    "start_time": "2023-11-17T09:42:26.198Z"
   },
   {
    "duration": 1985,
    "start_time": "2023-11-17T09:42:26.716Z"
   },
   {
    "duration": 15,
    "start_time": "2023-11-17T09:42:28.705Z"
   },
   {
    "duration": 103979,
    "start_time": "2023-11-17T09:42:28.722Z"
   },
   {
    "duration": 11,
    "start_time": "2023-11-17T09:44:12.703Z"
   },
   {
    "duration": 46066,
    "start_time": "2023-11-17T10:20:49.320Z"
   },
   {
    "duration": 102235,
    "start_time": "2023-11-17T10:21:35.389Z"
   },
   {
    "duration": 933190,
    "start_time": "2023-11-17T10:23:17.625Z"
   },
   {
    "duration": 47076,
    "start_time": "2023-11-17T10:38:50.818Z"
   },
   {
    "duration": 101919,
    "start_time": "2023-11-17T10:39:37.896Z"
   },
   {
    "duration": 927904,
    "start_time": "2023-11-17T10:41:19.817Z"
   },
   {
    "duration": 45227,
    "start_time": "2023-11-17T10:56:47.724Z"
   },
   {
    "duration": 100179,
    "start_time": "2023-11-17T10:57:32.953Z"
   },
   {
    "duration": 107178,
    "start_time": "2023-11-17T10:59:13.135Z"
   },
   {
    "duration": 20,
    "start_time": "2023-11-17T11:01:00.315Z"
   },
   {
    "duration": 2993,
    "start_time": "2023-11-17T11:01:07.189Z"
   },
   {
    "duration": 3380,
    "start_time": "2023-11-17T11:01:10.184Z"
   },
   {
    "duration": 18,
    "start_time": "2023-11-17T11:01:13.568Z"
   },
   {
    "duration": 21,
    "start_time": "2023-11-17T11:01:13.588Z"
   },
   {
    "duration": 39,
    "start_time": "2023-11-17T11:01:13.613Z"
   },
   {
    "duration": 25,
    "start_time": "2023-11-17T11:01:13.654Z"
   },
   {
    "duration": 36,
    "start_time": "2023-11-17T11:01:13.680Z"
   },
   {
    "duration": 2482,
    "start_time": "2023-11-17T11:01:13.718Z"
   },
   {
    "duration": 2627,
    "start_time": "2023-11-17T11:01:16.213Z"
   },
   {
    "duration": 7,
    "start_time": "2023-11-17T11:01:18.842Z"
   },
   {
    "duration": 8279,
    "start_time": "2023-11-17T11:01:18.851Z"
   },
   {
    "duration": 4,
    "start_time": "2023-11-17T11:01:27.132Z"
   },
   {
    "duration": 854,
    "start_time": "2023-11-17T11:01:27.138Z"
   },
   {
    "duration": 28,
    "start_time": "2023-11-17T11:01:27.994Z"
   },
   {
    "duration": 45,
    "start_time": "2023-11-17T11:01:28.024Z"
   },
   {
    "duration": 42,
    "start_time": "2023-11-17T11:01:28.070Z"
   },
   {
    "duration": 7,
    "start_time": "2023-11-17T11:01:28.118Z"
   },
   {
    "duration": 10,
    "start_time": "2023-11-17T11:01:28.126Z"
   },
   {
    "duration": 9,
    "start_time": "2023-11-17T11:01:28.137Z"
   },
   {
    "duration": 8,
    "start_time": "2023-11-17T11:01:28.148Z"
   },
   {
    "duration": 4,
    "start_time": "2023-11-17T11:01:28.158Z"
   },
   {
    "duration": 6,
    "start_time": "2023-11-17T11:01:28.164Z"
   },
   {
    "duration": 1582,
    "start_time": "2023-11-17T11:01:28.171Z"
   },
   {
    "duration": 503,
    "start_time": "2023-11-17T11:01:29.755Z"
   },
   {
    "duration": 503,
    "start_time": "2023-11-17T11:01:30.260Z"
   },
   {
    "duration": 2238,
    "start_time": "2023-11-17T11:01:30.765Z"
   },
   {
    "duration": 92,
    "start_time": "2023-11-17T11:01:33.008Z"
   },
   {
    "duration": 199,
    "start_time": "2023-11-17T11:01:33.104Z"
   },
   {
    "duration": 0,
    "start_time": "2023-11-17T11:01:33.309Z"
   },
   {
    "duration": 0,
    "start_time": "2023-11-17T11:01:33.314Z"
   },
   {
    "duration": 0,
    "start_time": "2023-11-17T11:01:33.314Z"
   },
   {
    "duration": 0,
    "start_time": "2023-11-17T11:01:33.316Z"
   },
   {
    "duration": 0,
    "start_time": "2023-11-17T11:01:33.318Z"
   },
   {
    "duration": 0,
    "start_time": "2023-11-17T11:01:33.319Z"
   },
   {
    "duration": 25,
    "start_time": "2023-11-17T11:02:05.834Z"
   },
   {
    "duration": 3300,
    "start_time": "2023-11-17T11:02:10.390Z"
   },
   {
    "duration": 46077,
    "start_time": "2023-11-17T11:02:20.209Z"
   },
   {
    "duration": 102267,
    "start_time": "2023-11-17T11:03:06.288Z"
   },
   {
    "duration": 942015,
    "start_time": "2023-11-17T11:04:48.557Z"
   },
   {
    "duration": 47271,
    "start_time": "2023-11-17T11:20:30.574Z"
   },
   {
    "duration": 187,
    "start_time": "2023-11-17T12:06:26.715Z"
   },
   {
    "duration": 129,
    "start_time": "2023-11-17T12:06:27.187Z"
   },
   {
    "duration": 3678,
    "start_time": "2023-11-17T12:06:38.052Z"
   },
   {
    "duration": 3608,
    "start_time": "2023-11-17T12:06:41.732Z"
   },
   {
    "duration": 21,
    "start_time": "2023-11-17T12:06:45.342Z"
   },
   {
    "duration": 10,
    "start_time": "2023-11-17T12:06:45.366Z"
   },
   {
    "duration": 65,
    "start_time": "2023-11-17T12:06:45.378Z"
   },
   {
    "duration": 7,
    "start_time": "2023-11-17T12:06:45.445Z"
   },
   {
    "duration": 3,
    "start_time": "2023-11-17T12:06:47.062Z"
   },
   {
    "duration": 2509,
    "start_time": "2023-11-17T12:06:47.336Z"
   },
   {
    "duration": 2617,
    "start_time": "2023-11-17T12:06:49.847Z"
   },
   {
    "duration": 10,
    "start_time": "2023-11-17T12:06:52.467Z"
   },
   {
    "duration": 42,
    "start_time": "2023-11-17T12:06:52.479Z"
   },
   {
    "duration": 16,
    "start_time": "2023-11-17T12:06:52.523Z"
   },
   {
    "duration": 6,
    "start_time": "2023-11-17T12:06:52.757Z"
   },
   {
    "duration": 6,
    "start_time": "2023-11-17T12:06:57.542Z"
   },
   {
    "duration": 15,
    "start_time": "2023-11-17T12:06:59.102Z"
   },
   {
    "duration": 8,
    "start_time": "2023-11-17T12:06:59.322Z"
   },
   {
    "duration": 4,
    "start_time": "2023-11-17T12:06:59.751Z"
   },
   {
    "duration": 14,
    "start_time": "2023-11-17T12:07:01.474Z"
   },
   {
    "duration": 1649,
    "start_time": "2023-11-17T12:07:01.932Z"
   },
   {
    "duration": 483,
    "start_time": "2023-11-17T12:07:03.583Z"
   },
   {
    "duration": 474,
    "start_time": "2023-11-17T12:07:04.067Z"
   },
   {
    "duration": 3448,
    "start_time": "2023-11-17T12:07:06.553Z"
   },
   {
    "duration": 101,
    "start_time": "2023-11-17T12:07:10.004Z"
   },
   {
    "duration": 3327,
    "start_time": "2023-11-17T12:07:12.202Z"
   },
   {
    "duration": 104006,
    "start_time": "2023-11-17T12:07:26.017Z"
   },
   {
    "duration": 974790,
    "start_time": "2023-11-17T12:09:10.025Z"
   },
   {
    "duration": 8,
    "start_time": "2023-11-17T12:49:24.876Z"
   },
   {
    "duration": 8,
    "start_time": "2023-11-17T12:50:27.086Z"
   },
   {
    "duration": 97,
    "start_time": "2023-11-17T12:50:55.526Z"
   },
   {
    "duration": 161,
    "start_time": "2023-11-17T12:50:59.620Z"
   },
   {
    "duration": 14,
    "start_time": "2023-11-17T12:51:19.370Z"
   },
   {
    "duration": 17,
    "start_time": "2023-11-17T12:51:37.590Z"
   },
   {
    "duration": 10,
    "start_time": "2023-11-17T12:51:38.129Z"
   },
   {
    "duration": 11,
    "start_time": "2023-11-17T12:51:38.624Z"
   },
   {
    "duration": 10,
    "start_time": "2023-11-17T12:51:39.477Z"
   },
   {
    "duration": 75,
    "start_time": "2023-11-17T12:51:40.150Z"
   },
   {
    "duration": 83,
    "start_time": "2023-11-17T12:51:40.554Z"
   },
   {
    "duration": 47168,
    "start_time": "2023-11-17T12:51:49.915Z"
   },
   {
    "duration": 4007,
    "start_time": "2023-11-17T12:53:06.673Z"
   },
   {
    "duration": 3791,
    "start_time": "2023-11-17T12:53:12.384Z"
   },
   {
    "duration": 17,
    "start_time": "2023-11-17T12:53:16.177Z"
   },
   {
    "duration": 19,
    "start_time": "2023-11-17T12:53:16.195Z"
   },
   {
    "duration": 26,
    "start_time": "2023-11-17T12:53:16.217Z"
   },
   {
    "duration": 6,
    "start_time": "2023-11-17T12:53:16.245Z"
   },
   {
    "duration": 10,
    "start_time": "2023-11-17T12:53:16.252Z"
   },
   {
    "duration": 2474,
    "start_time": "2023-11-17T12:53:16.474Z"
   },
   {
    "duration": 2434,
    "start_time": "2023-11-17T12:53:18.949Z"
   },
   {
    "duration": 3,
    "start_time": "2023-11-17T12:53:25.480Z"
   },
   {
    "duration": 4,
    "start_time": "2023-11-17T12:53:27.874Z"
   },
   {
    "duration": 871,
    "start_time": "2023-11-17T12:53:28.848Z"
   },
   {
    "duration": 25,
    "start_time": "2023-11-17T12:53:31.598Z"
   },
   {
    "duration": 47,
    "start_time": "2023-11-17T12:53:31.917Z"
   },
   {
    "duration": 16,
    "start_time": "2023-11-17T12:53:32.167Z"
   },
   {
    "duration": 6,
    "start_time": "2023-11-17T12:53:32.453Z"
   },
   {
    "duration": 9,
    "start_time": "2023-11-17T12:53:34.005Z"
   },
   {
    "duration": 9,
    "start_time": "2023-11-17T12:53:35.014Z"
   },
   {
    "duration": 7,
    "start_time": "2023-11-17T12:53:35.646Z"
   },
   {
    "duration": 5,
    "start_time": "2023-11-17T12:53:36.130Z"
   },
   {
    "duration": 12,
    "start_time": "2023-11-17T12:53:37.623Z"
   },
   {
    "duration": 1561,
    "start_time": "2023-11-17T12:53:38.742Z"
   },
   {
    "duration": 483,
    "start_time": "2023-11-17T12:53:40.305Z"
   },
   {
    "duration": 492,
    "start_time": "2023-11-17T12:53:40.790Z"
   },
   {
    "duration": 2065,
    "start_time": "2023-11-17T12:53:42.838Z"
   },
   {
    "duration": 98,
    "start_time": "2023-11-17T12:53:44.909Z"
   },
   {
    "duration": 3449,
    "start_time": "2023-11-17T12:53:47.970Z"
   },
   {
    "duration": 45935,
    "start_time": "2023-11-17T12:54:05.885Z"
   },
   {
    "duration": 103041,
    "start_time": "2023-11-17T12:54:51.822Z"
   },
   {
    "duration": 991688,
    "start_time": "2023-11-17T12:56:34.865Z"
   },
   {
    "duration": 48310,
    "start_time": "2023-11-17T13:13:06.555Z"
   },
   {
    "duration": 9,
    "start_time": "2023-11-17T13:14:00.221Z"
   },
   {
    "duration": 88,
    "start_time": "2023-11-17T13:14:01.839Z"
   },
   {
    "duration": 98,
    "start_time": "2023-11-17T13:14:02.611Z"
   },
   {
    "duration": 113,
    "start_time": "2023-11-17T13:14:03.495Z"
   },
   {
    "duration": 78,
    "start_time": "2023-11-17T13:14:05.625Z"
   },
   {
    "duration": 5,
    "start_time": "2023-11-17T13:24:52.400Z"
   },
   {
    "duration": 74,
    "start_time": "2023-11-17T13:26:48.369Z"
   },
   {
    "duration": 74,
    "start_time": "2023-11-17T13:31:39.565Z"
   },
   {
    "duration": 1937,
    "start_time": "2023-11-18T08:07:05.693Z"
   },
   {
    "duration": 2534,
    "start_time": "2023-11-18T08:07:13.705Z"
   },
   {
    "duration": 15,
    "start_time": "2023-11-18T08:07:21.017Z"
   },
   {
    "duration": 6,
    "start_time": "2023-11-18T08:07:29.892Z"
   },
   {
    "duration": 26,
    "start_time": "2023-11-18T08:07:57.775Z"
   },
   {
    "duration": 5,
    "start_time": "2023-11-18T08:08:01.232Z"
   },
   {
    "duration": 3,
    "start_time": "2023-11-18T08:08:04.674Z"
   },
   {
    "duration": 2359,
    "start_time": "2023-11-18T08:08:07.887Z"
   },
   {
    "duration": 11,
    "start_time": "2023-11-18T08:11:51.622Z"
   },
   {
    "duration": 27,
    "start_time": "2023-11-18T08:11:56.785Z"
   },
   {
    "duration": 19,
    "start_time": "2023-11-18T08:11:57.108Z"
   },
   {
    "duration": 4,
    "start_time": "2023-11-18T08:11:57.702Z"
   },
   {
    "duration": 3,
    "start_time": "2023-11-18T08:26:51.174Z"
   },
   {
    "duration": 206,
    "start_time": "2023-11-18T08:26:55.715Z"
   },
   {
    "duration": 9,
    "start_time": "2023-11-18T08:27:16.250Z"
   },
   {
    "duration": 81,
    "start_time": "2023-11-18T08:27:26.680Z"
   },
   {
    "duration": 4,
    "start_time": "2023-11-18T08:27:36.854Z"
   },
   {
    "duration": 1248,
    "start_time": "2023-11-18T08:27:44.790Z"
   },
   {
    "duration": 6,
    "start_time": "2023-11-18T08:28:00.952Z"
   },
   {
    "duration": 64,
    "start_time": "2023-11-18T08:28:22.085Z"
   },
   {
    "duration": 72,
    "start_time": "2023-11-18T08:28:28.282Z"
   },
   {
    "duration": 5,
    "start_time": "2023-11-18T08:28:34.584Z"
   },
   {
    "duration": 5,
    "start_time": "2023-11-18T08:28:43.339Z"
   },
   {
    "duration": 1592,
    "start_time": "2023-11-18T08:35:40.444Z"
   },
   {
    "duration": 1034,
    "start_time": "2023-11-18T08:35:49.026Z"
   },
   {
    "duration": 17,
    "start_time": "2023-11-18T08:35:54.255Z"
   },
   {
    "duration": 9,
    "start_time": "2023-11-18T08:35:55.388Z"
   },
   {
    "duration": 26,
    "start_time": "2023-11-18T08:35:59.438Z"
   },
   {
    "duration": 6,
    "start_time": "2023-11-18T08:36:04.298Z"
   },
   {
    "duration": 3,
    "start_time": "2023-11-18T08:36:05.526Z"
   },
   {
    "duration": 2492,
    "start_time": "2023-11-18T08:36:06.449Z"
   },
   {
    "duration": 3,
    "start_time": "2023-11-18T08:36:13.839Z"
   },
   {
    "duration": 4,
    "start_time": "2023-11-18T08:43:49.439Z"
   },
   {
    "duration": 3,
    "start_time": "2023-11-18T08:43:50.890Z"
   },
   {
    "duration": 6,
    "start_time": "2023-11-18T08:43:52.037Z"
   },
   {
    "duration": 254,
    "start_time": "2023-11-18T08:43:55.784Z"
   },
   {
    "duration": 25,
    "start_time": "2023-11-18T08:44:36.275Z"
   },
   {
    "duration": 6,
    "start_time": "2023-11-18T08:45:43.512Z"
   },
   {
    "duration": 23,
    "start_time": "2023-11-18T08:46:03.208Z"
   },
   {
    "duration": 4,
    "start_time": "2023-11-18T08:46:13.636Z"
   },
   {
    "duration": 3,
    "start_time": "2023-11-18T08:46:14.131Z"
   },
   {
    "duration": 5,
    "start_time": "2023-11-18T08:46:14.603Z"
   },
   {
    "duration": 24,
    "start_time": "2023-11-18T08:46:15.981Z"
   },
   {
    "duration": 5,
    "start_time": "2023-11-18T08:47:25.806Z"
   },
   {
    "duration": 3,
    "start_time": "2023-11-18T08:48:53.780Z"
   },
   {
    "duration": 4,
    "start_time": "2023-11-18T08:48:54.240Z"
   },
   {
    "duration": 3,
    "start_time": "2023-11-18T08:48:54.889Z"
   },
   {
    "duration": 5,
    "start_time": "2023-11-18T08:48:55.999Z"
   },
   {
    "duration": 26,
    "start_time": "2023-11-18T08:48:56.730Z"
   },
   {
    "duration": 3,
    "start_time": "2023-11-18T08:50:06.249Z"
   },
   {
    "duration": 6,
    "start_time": "2023-11-18T08:50:07.586Z"
   },
   {
    "duration": 24,
    "start_time": "2023-11-18T08:50:08.205Z"
   },
   {
    "duration": 10,
    "start_time": "2023-11-18T08:51:25.973Z"
   },
   {
    "duration": 365,
    "start_time": "2023-11-18T08:51:44.438Z"
   },
   {
    "duration": 7,
    "start_time": "2023-11-18T08:52:57.297Z"
   },
   {
    "duration": 4,
    "start_time": "2023-11-18T08:55:09.409Z"
   },
   {
    "duration": 2,
    "start_time": "2023-11-18T08:55:10.008Z"
   },
   {
    "duration": 3,
    "start_time": "2023-11-18T08:56:12.560Z"
   },
   {
    "duration": 5,
    "start_time": "2023-11-18T08:56:13.052Z"
   },
   {
    "duration": 381,
    "start_time": "2023-11-18T08:56:15.467Z"
   },
   {
    "duration": 407,
    "start_time": "2023-11-18T08:57:05.031Z"
   },
   {
    "duration": 1547,
    "start_time": "2023-11-18T08:57:22.743Z"
   },
   {
    "duration": 1007,
    "start_time": "2023-11-18T08:57:24.292Z"
   },
   {
    "duration": 16,
    "start_time": "2023-11-18T08:57:25.301Z"
   },
   {
    "duration": 17,
    "start_time": "2023-11-18T08:57:25.320Z"
   },
   {
    "duration": 35,
    "start_time": "2023-11-18T08:57:25.339Z"
   },
   {
    "duration": 25,
    "start_time": "2023-11-18T08:57:25.376Z"
   },
   {
    "duration": 3,
    "start_time": "2023-11-18T08:57:25.403Z"
   },
   {
    "duration": 2367,
    "start_time": "2023-11-18T08:57:25.407Z"
   },
   {
    "duration": 3,
    "start_time": "2023-11-18T08:57:27.775Z"
   },
   {
    "duration": 6,
    "start_time": "2023-11-18T08:57:27.780Z"
   },
   {
    "duration": 5,
    "start_time": "2023-11-18T08:57:27.788Z"
   },
   {
    "duration": 11,
    "start_time": "2023-11-18T08:57:27.794Z"
   },
   {
    "duration": 13,
    "start_time": "2023-11-18T08:57:27.807Z"
   },
   {
    "duration": 484,
    "start_time": "2023-11-18T08:57:27.822Z"
   },
   {
    "duration": 0,
    "start_time": "2023-11-18T08:57:28.308Z"
   },
   {
    "duration": 0,
    "start_time": "2023-11-18T08:57:28.309Z"
   },
   {
    "duration": 0,
    "start_time": "2023-11-18T08:57:28.310Z"
   },
   {
    "duration": 0,
    "start_time": "2023-11-18T08:57:28.311Z"
   },
   {
    "duration": 0,
    "start_time": "2023-11-18T08:57:28.312Z"
   },
   {
    "duration": 0,
    "start_time": "2023-11-18T08:57:28.313Z"
   },
   {
    "duration": 0,
    "start_time": "2023-11-18T08:57:28.314Z"
   },
   {
    "duration": 0,
    "start_time": "2023-11-18T08:57:28.316Z"
   },
   {
    "duration": 0,
    "start_time": "2023-11-18T08:57:28.317Z"
   },
   {
    "duration": 0,
    "start_time": "2023-11-18T08:57:28.318Z"
   },
   {
    "duration": 0,
    "start_time": "2023-11-18T08:57:28.319Z"
   },
   {
    "duration": 0,
    "start_time": "2023-11-18T08:57:28.320Z"
   },
   {
    "duration": 0,
    "start_time": "2023-11-18T08:57:28.321Z"
   },
   {
    "duration": 0,
    "start_time": "2023-11-18T08:57:28.322Z"
   },
   {
    "duration": 0,
    "start_time": "2023-11-18T08:57:28.323Z"
   },
   {
    "duration": 0,
    "start_time": "2023-11-18T08:57:28.324Z"
   },
   {
    "duration": 0,
    "start_time": "2023-11-18T08:57:28.325Z"
   },
   {
    "duration": 550,
    "start_time": "2023-11-18T08:58:50.116Z"
   },
   {
    "duration": 5,
    "start_time": "2023-11-18T09:00:06.830Z"
   },
   {
    "duration": 572,
    "start_time": "2023-11-18T09:00:24.472Z"
   },
   {
    "duration": 8,
    "start_time": "2023-11-18T09:03:16.944Z"
   },
   {
    "duration": 8,
    "start_time": "2023-11-18T09:03:20.528Z"
   },
   {
    "duration": 1534,
    "start_time": "2023-11-18T09:04:04.068Z"
   },
   {
    "duration": 1054,
    "start_time": "2023-11-18T09:04:05.604Z"
   },
   {
    "duration": 20,
    "start_time": "2023-11-18T09:04:06.659Z"
   },
   {
    "duration": 6,
    "start_time": "2023-11-18T09:04:06.680Z"
   },
   {
    "duration": 26,
    "start_time": "2023-11-18T09:04:06.688Z"
   },
   {
    "duration": 15,
    "start_time": "2023-11-18T09:04:06.716Z"
   },
   {
    "duration": 11,
    "start_time": "2023-11-18T09:04:06.733Z"
   },
   {
    "duration": 2520,
    "start_time": "2023-11-18T09:04:06.745Z"
   },
   {
    "duration": 2,
    "start_time": "2023-11-18T09:04:09.267Z"
   },
   {
    "duration": 9,
    "start_time": "2023-11-18T09:04:09.272Z"
   },
   {
    "duration": 11,
    "start_time": "2023-11-18T09:04:09.283Z"
   },
   {
    "duration": 18,
    "start_time": "2023-11-18T09:04:09.296Z"
   },
   {
    "duration": 5,
    "start_time": "2023-11-18T09:04:09.315Z"
   },
   {
    "duration": 604,
    "start_time": "2023-11-18T09:04:09.322Z"
   },
   {
    "duration": 7,
    "start_time": "2023-11-18T09:04:09.927Z"
   },
   {
    "duration": 19,
    "start_time": "2023-11-18T09:04:09.936Z"
   },
   {
    "duration": 5,
    "start_time": "2023-11-18T09:04:09.957Z"
   },
   {
    "duration": 7,
    "start_time": "2023-11-18T09:04:09.964Z"
   },
   {
    "duration": 5,
    "start_time": "2023-11-18T09:04:09.973Z"
   },
   {
    "duration": 21,
    "start_time": "2023-11-18T09:04:09.979Z"
   },
   {
    "duration": 30,
    "start_time": "2023-11-18T09:04:10.001Z"
   },
   {
    "duration": 4,
    "start_time": "2023-11-18T09:04:10.033Z"
   },
   {
    "duration": 5,
    "start_time": "2023-11-18T09:04:10.039Z"
   },
   {
    "duration": 1513,
    "start_time": "2023-11-18T09:04:10.046Z"
   },
   {
    "duration": 461,
    "start_time": "2023-11-18T09:04:11.561Z"
   },
   {
    "duration": 482,
    "start_time": "2023-11-18T09:04:12.024Z"
   },
   {
    "duration": 1871,
    "start_time": "2023-11-18T09:04:12.508Z"
   },
   {
    "duration": 98,
    "start_time": "2023-11-18T09:04:14.468Z"
   },
   {
    "duration": 3742,
    "start_time": "2023-11-18T09:04:14.568Z"
   },
   {
    "duration": 326688,
    "start_time": "2023-11-18T09:04:18.312Z"
   },
   {
    "duration": 18,
    "start_time": "2023-11-18T09:09:45.001Z"
   },
   {
    "duration": 0,
    "start_time": "2023-11-18T09:09:45.021Z"
   },
   {
    "duration": 1492,
    "start_time": "2023-11-18T09:09:50.261Z"
   },
   {
    "duration": 992,
    "start_time": "2023-11-18T09:09:51.756Z"
   },
   {
    "duration": 17,
    "start_time": "2023-11-18T09:09:52.749Z"
   },
   {
    "duration": 6,
    "start_time": "2023-11-18T09:09:52.768Z"
   },
   {
    "duration": 27,
    "start_time": "2023-11-18T09:09:52.776Z"
   },
   {
    "duration": 6,
    "start_time": "2023-11-18T09:09:52.804Z"
   },
   {
    "duration": 7,
    "start_time": "2023-11-18T09:09:52.812Z"
   },
   {
    "duration": 2473,
    "start_time": "2023-11-18T09:09:52.821Z"
   },
   {
    "duration": 3,
    "start_time": "2023-11-18T09:09:55.296Z"
   },
   {
    "duration": 7,
    "start_time": "2023-11-18T09:09:55.301Z"
   },
   {
    "duration": 4,
    "start_time": "2023-11-18T09:09:55.310Z"
   },
   {
    "duration": 8,
    "start_time": "2023-11-18T09:09:55.317Z"
   },
   {
    "duration": 7,
    "start_time": "2023-11-18T09:09:55.327Z"
   },
   {
    "duration": 635,
    "start_time": "2023-11-18T09:09:55.335Z"
   },
   {
    "duration": 7,
    "start_time": "2023-11-18T09:09:55.972Z"
   },
   {
    "duration": 21,
    "start_time": "2023-11-18T09:09:55.980Z"
   },
   {
    "duration": 6,
    "start_time": "2023-11-18T09:09:56.002Z"
   },
   {
    "duration": 12,
    "start_time": "2023-11-18T09:09:56.009Z"
   },
   {
    "duration": 10,
    "start_time": "2023-11-18T09:09:56.023Z"
   },
   {
    "duration": 31,
    "start_time": "2023-11-18T09:09:56.034Z"
   },
   {
    "duration": 7,
    "start_time": "2023-11-18T09:09:56.067Z"
   },
   {
    "duration": 4,
    "start_time": "2023-11-18T09:09:56.076Z"
   },
   {
    "duration": 4,
    "start_time": "2023-11-18T09:09:56.082Z"
   },
   {
    "duration": 1470,
    "start_time": "2023-11-18T09:09:56.088Z"
   },
   {
    "duration": 468,
    "start_time": "2023-11-18T09:09:57.559Z"
   },
   {
    "duration": 470,
    "start_time": "2023-11-18T09:09:58.029Z"
   },
   {
    "duration": 2766,
    "start_time": "2023-11-18T09:09:58.501Z"
   },
   {
    "duration": 94,
    "start_time": "2023-11-18T09:10:01.272Z"
   },
   {
    "duration": 3404,
    "start_time": "2023-11-18T09:10:01.368Z"
   },
   {
    "duration": 59317,
    "start_time": "2023-11-18T09:10:04.774Z"
   },
   {
    "duration": 19,
    "start_time": "2023-11-18T09:11:04.093Z"
   },
   {
    "duration": 0,
    "start_time": "2023-11-18T09:11:04.113Z"
   },
   {
    "duration": 1827,
    "start_time": "2023-11-18T09:11:13.119Z"
   },
   {
    "duration": 1027,
    "start_time": "2023-11-18T09:11:14.948Z"
   },
   {
    "duration": 16,
    "start_time": "2023-11-18T09:11:15.977Z"
   },
   {
    "duration": 8,
    "start_time": "2023-11-18T09:11:15.995Z"
   },
   {
    "duration": 37,
    "start_time": "2023-11-18T09:11:16.005Z"
   },
   {
    "duration": 20,
    "start_time": "2023-11-18T09:11:16.045Z"
   },
   {
    "duration": 4,
    "start_time": "2023-11-18T09:11:16.067Z"
   },
   {
    "duration": 2459,
    "start_time": "2023-11-18T09:11:16.073Z"
   },
   {
    "duration": 3,
    "start_time": "2023-11-18T09:11:18.533Z"
   },
   {
    "duration": 9,
    "start_time": "2023-11-18T09:11:18.538Z"
   },
   {
    "duration": 19,
    "start_time": "2023-11-18T09:11:18.549Z"
   },
   {
    "duration": 6,
    "start_time": "2023-11-18T09:11:18.570Z"
   },
   {
    "duration": 6,
    "start_time": "2023-11-18T09:11:18.578Z"
   },
   {
    "duration": 854240,
    "start_time": "2023-11-18T09:11:18.586Z"
   },
   {
    "duration": 7,
    "start_time": "2023-11-18T09:25:32.828Z"
   },
   {
    "duration": 18,
    "start_time": "2023-11-18T09:25:32.837Z"
   },
   {
    "duration": 5,
    "start_time": "2023-11-18T09:25:32.857Z"
   },
   {
    "duration": 6,
    "start_time": "2023-11-18T09:25:32.863Z"
   },
   {
    "duration": 7,
    "start_time": "2023-11-18T09:25:32.871Z"
   },
   {
    "duration": 10,
    "start_time": "2023-11-18T09:25:32.879Z"
   },
   {
    "duration": 6,
    "start_time": "2023-11-18T09:25:32.891Z"
   },
   {
    "duration": 4,
    "start_time": "2023-11-18T09:25:32.899Z"
   },
   {
    "duration": 4,
    "start_time": "2023-11-18T09:25:32.904Z"
   },
   {
    "duration": 1490,
    "start_time": "2023-11-18T09:25:32.909Z"
   },
   {
    "duration": 454,
    "start_time": "2023-11-18T09:25:34.401Z"
   },
   {
    "duration": 450,
    "start_time": "2023-11-18T09:25:34.857Z"
   },
   {
    "duration": 1658,
    "start_time": "2023-11-18T09:25:35.309Z"
   },
   {
    "duration": 95,
    "start_time": "2023-11-18T09:25:36.972Z"
   },
   {
    "duration": 3366,
    "start_time": "2023-11-18T09:25:37.069Z"
   },
   {
    "duration": 1553,
    "start_time": "2023-11-18T09:26:54.414Z"
   },
   {
    "duration": 1007,
    "start_time": "2023-11-18T09:26:59.165Z"
   },
   {
    "duration": 16,
    "start_time": "2023-11-18T09:27:02.802Z"
   },
   {
    "duration": 6,
    "start_time": "2023-11-18T09:27:03.845Z"
   },
   {
    "duration": 27,
    "start_time": "2023-11-18T09:27:05.212Z"
   },
   {
    "duration": 6,
    "start_time": "2023-11-18T09:27:06.919Z"
   },
   {
    "duration": 3,
    "start_time": "2023-11-18T09:27:10.553Z"
   },
   {
    "duration": 2394,
    "start_time": "2023-11-18T09:27:10.857Z"
   },
   {
    "duration": 2,
    "start_time": "2023-11-18T09:27:16.015Z"
   },
   {
    "duration": 7,
    "start_time": "2023-11-18T09:27:19.720Z"
   },
   {
    "duration": 3,
    "start_time": "2023-11-18T09:27:20.016Z"
   },
   {
    "duration": 3,
    "start_time": "2023-11-18T09:27:20.778Z"
   },
   {
    "duration": 3,
    "start_time": "2023-11-18T09:27:21.708Z"
   },
   {
    "duration": 5,
    "start_time": "2023-11-18T09:27:32.111Z"
   },
   {
    "duration": 5,
    "start_time": "2023-11-18T09:27:39.468Z"
   },
   {
    "duration": 7,
    "start_time": "2023-11-18T09:27:48.449Z"
   },
   {
    "duration": 1490,
    "start_time": "2023-11-18T09:28:08.087Z"
   },
   {
    "duration": 10,
    "start_time": "2023-11-18T09:30:08.408Z"
   },
   {
    "duration": 8,
    "start_time": "2023-11-18T09:30:19.800Z"
   },
   {
    "duration": 37,
    "start_time": "2023-11-18T09:30:28.847Z"
   },
   {
    "duration": 21,
    "start_time": "2023-11-18T09:30:29.828Z"
   },
   {
    "duration": 4,
    "start_time": "2023-11-18T09:30:32.676Z"
   },
   {
    "duration": 5,
    "start_time": "2023-11-18T09:30:41.470Z"
   },
   {
    "duration": 4547,
    "start_time": "2023-11-18T09:30:42.957Z"
   },
   {
    "duration": 1402,
    "start_time": "2023-11-18T09:30:48.920Z"
   },
   {
    "duration": 1394,
    "start_time": "2023-11-18T09:30:50.323Z"
   },
   {
    "duration": 4,
    "start_time": "2023-11-18T09:31:44.905Z"
   },
   {
    "duration": 7875,
    "start_time": "2023-11-18T09:31:54.303Z"
   },
   {
    "duration": 13,
    "start_time": "2023-11-18T09:32:02.180Z"
   },
   {
    "duration": 18,
    "start_time": "2023-11-18T09:33:12.267Z"
   },
   {
    "duration": 4,
    "start_time": "2023-11-18T09:36:59.907Z"
   },
   {
    "duration": 14,
    "start_time": "2023-11-18T09:37:09.048Z"
   },
   {
    "duration": 24,
    "start_time": "2023-11-18T09:37:09.868Z"
   },
   {
    "duration": 25,
    "start_time": "2023-11-18T09:37:10.229Z"
   },
   {
    "duration": 5,
    "start_time": "2023-11-18T09:37:10.977Z"
   },
   {
    "duration": 10,
    "start_time": "2023-11-18T09:37:16.524Z"
   },
   {
    "duration": 652,
    "start_time": "2023-11-18T09:37:24.685Z"
   },
   {
    "duration": 7,
    "start_time": "2023-11-18T09:38:41.950Z"
   },
   {
    "duration": 5,
    "start_time": "2023-11-18T09:38:56.286Z"
   },
   {
    "duration": 7,
    "start_time": "2023-11-18T09:39:08.853Z"
   },
   {
    "duration": 10,
    "start_time": "2023-11-18T09:45:04.449Z"
   },
   {
    "duration": 4,
    "start_time": "2023-11-18T09:45:06.542Z"
   },
   {
    "duration": 2432,
    "start_time": "2023-11-18T09:45:07.663Z"
   },
   {
    "duration": 22,
    "start_time": "2023-11-18T09:45:27.051Z"
   },
   {
    "duration": 9,
    "start_time": "2023-11-18T09:45:32.104Z"
   },
   {
    "duration": 20,
    "start_time": "2023-11-18T09:46:08.948Z"
   },
   {
    "duration": 4,
    "start_time": "2023-11-18T09:46:36.236Z"
   },
   {
    "duration": 9,
    "start_time": "2023-11-18T09:48:53.424Z"
   },
   {
    "duration": 374,
    "start_time": "2023-11-18T09:49:03.666Z"
   },
   {
    "duration": 107,
    "start_time": "2023-11-18T09:49:13.090Z"
   },
   {
    "duration": 12,
    "start_time": "2023-11-18T09:49:18.852Z"
   },
   {
    "duration": 10,
    "start_time": "2023-11-18T09:49:28.978Z"
   },
   {
    "duration": 4,
    "start_time": "2023-11-18T09:51:52.554Z"
   },
   {
    "duration": 9,
    "start_time": "2023-11-18T09:52:27.633Z"
   },
   {
    "duration": 4,
    "start_time": "2023-11-18T09:52:28.474Z"
   },
   {
    "duration": 2530,
    "start_time": "2023-11-18T09:52:28.793Z"
   },
   {
    "duration": 39,
    "start_time": "2023-11-18T09:52:55.279Z"
   },
   {
    "duration": 22,
    "start_time": "2023-11-18T09:52:56.766Z"
   },
   {
    "duration": 4,
    "start_time": "2023-11-18T09:52:57.441Z"
   },
   {
    "duration": 8,
    "start_time": "2023-11-18T09:54:27.753Z"
   },
   {
    "duration": 7,
    "start_time": "2023-11-18T09:56:14.379Z"
   },
   {
    "duration": 9,
    "start_time": "2023-11-18T09:56:18.560Z"
   },
   {
    "duration": 13,
    "start_time": "2023-11-18T09:56:37.215Z"
   },
   {
    "duration": 12,
    "start_time": "2023-11-18T09:56:41.825Z"
   },
   {
    "duration": 9,
    "start_time": "2023-11-18T09:56:45.907Z"
   },
   {
    "duration": 16,
    "start_time": "2023-11-18T09:57:07.753Z"
   },
   {
    "duration": 18,
    "start_time": "2023-11-18T09:57:24.954Z"
   },
   {
    "duration": 8,
    "start_time": "2023-11-18T09:57:27.110Z"
   },
   {
    "duration": 10,
    "start_time": "2023-11-18T09:57:32.781Z"
   },
   {
    "duration": 6,
    "start_time": "2023-11-18T09:57:49.012Z"
   },
   {
    "duration": 5,
    "start_time": "2023-11-18T09:58:29.440Z"
   },
   {
    "duration": 7,
    "start_time": "2023-11-18T09:58:29.825Z"
   },
   {
    "duration": 8,
    "start_time": "2023-11-18T09:58:30.073Z"
   },
   {
    "duration": 4,
    "start_time": "2023-11-18T09:58:34.755Z"
   },
   {
    "duration": 1110,
    "start_time": "2023-11-18T09:58:42.696Z"
   },
   {
    "duration": 689,
    "start_time": "2023-11-18T09:58:43.808Z"
   },
   {
    "duration": 672,
    "start_time": "2023-11-18T09:58:44.499Z"
   },
   {
    "duration": 4216,
    "start_time": "2023-11-18T09:58:49.553Z"
   },
   {
    "duration": 14,
    "start_time": "2023-11-18T09:58:53.771Z"
   },
   {
    "duration": 4736,
    "start_time": "2023-11-18T09:59:06.196Z"
   },
   {
    "duration": 1158105,
    "start_time": "2023-11-18T10:01:49.160Z"
   },
   {
    "duration": 176,
    "start_time": "2023-11-18T10:21:07.267Z"
   },
   {
    "duration": 5,
    "start_time": "2023-11-18T10:35:24.300Z"
   },
   {
    "duration": 5,
    "start_time": "2023-11-18T10:35:25.516Z"
   },
   {
    "duration": 24,
    "start_time": "2023-11-18T10:59:20.628Z"
   },
   {
    "duration": 10593,
    "start_time": "2023-11-18T11:01:38.656Z"
   },
   {
    "duration": 0,
    "start_time": "2023-11-18T11:01:49.251Z"
   },
   {
    "duration": 0,
    "start_time": "2023-11-18T11:01:49.252Z"
   },
   {
    "duration": 1774,
    "start_time": "2023-11-18T11:02:14.231Z"
   },
   {
    "duration": 978,
    "start_time": "2023-11-18T11:02:16.007Z"
   },
   {
    "duration": 17,
    "start_time": "2023-11-18T11:02:16.987Z"
   },
   {
    "duration": 6,
    "start_time": "2023-11-18T11:02:17.006Z"
   },
   {
    "duration": 27,
    "start_time": "2023-11-18T11:02:17.013Z"
   },
   {
    "duration": 6,
    "start_time": "2023-11-18T11:02:17.065Z"
   },
   {
    "duration": 10,
    "start_time": "2023-11-18T11:02:17.072Z"
   },
   {
    "duration": 2421,
    "start_time": "2023-11-18T11:02:17.084Z"
   },
   {
    "duration": 3,
    "start_time": "2023-11-18T11:02:19.507Z"
   },
   {
    "duration": 8,
    "start_time": "2023-11-18T11:02:19.513Z"
   },
   {
    "duration": 4,
    "start_time": "2023-11-18T11:02:19.523Z"
   },
   {
    "duration": 10,
    "start_time": "2023-11-18T11:02:19.528Z"
   },
   {
    "duration": 1422,
    "start_time": "2023-11-18T11:02:19.539Z"
   },
   {
    "duration": 24,
    "start_time": "2023-11-18T11:02:20.964Z"
   },
   {
    "duration": 22,
    "start_time": "2023-11-18T11:02:20.991Z"
   },
   {
    "duration": 4,
    "start_time": "2023-11-18T11:02:21.015Z"
   },
   {
    "duration": 17,
    "start_time": "2023-11-18T11:02:21.021Z"
   },
   {
    "duration": 26,
    "start_time": "2023-11-18T11:02:21.040Z"
   },
   {
    "duration": 19,
    "start_time": "2023-11-18T11:02:21.067Z"
   },
   {
    "duration": 7,
    "start_time": "2023-11-18T11:02:21.088Z"
   },
   {
    "duration": 12,
    "start_time": "2023-11-18T11:02:21.097Z"
   },
   {
    "duration": 176845,
    "start_time": "2023-11-18T11:02:21.110Z"
   },
   {
    "duration": 116088,
    "start_time": "2023-11-18T11:05:17.956Z"
   },
   {
    "duration": 115148,
    "start_time": "2023-11-18T11:07:14.046Z"
   },
   {
    "duration": 4,
    "start_time": "2023-11-18T11:09:09.196Z"
   },
   {
    "duration": 13,
    "start_time": "2023-11-18T11:09:09.202Z"
   },
   {
    "duration": 11,
    "start_time": "2023-11-18T11:09:09.216Z"
   },
   {
    "duration": 4,
    "start_time": "2023-11-18T11:09:09.230Z"
   },
   {
    "duration": 1101,
    "start_time": "2023-11-18T11:09:09.235Z"
   },
   {
    "duration": 636,
    "start_time": "2023-11-18T11:09:10.338Z"
   },
   {
    "duration": 640,
    "start_time": "2023-11-18T11:09:10.976Z"
   },
   {
    "duration": 2047,
    "start_time": "2023-11-18T11:09:11.618Z"
   },
   {
    "duration": 103,
    "start_time": "2023-11-18T11:09:13.667Z"
   },
   {
    "duration": 4531,
    "start_time": "2023-11-18T11:09:13.771Z"
   },
   {
    "duration": 19274,
    "start_time": "2023-11-18T11:09:18.304Z"
   },
   {
    "duration": 10,
    "start_time": "2023-11-18T11:09:37.580Z"
   },
   {
    "duration": 18,
    "start_time": "2023-11-18T11:09:37.592Z"
   },
   {
    "duration": 5,
    "start_time": "2023-11-18T11:15:56.011Z"
   },
   {
    "duration": 5,
    "start_time": "2023-11-18T11:16:12.895Z"
   },
   {
    "duration": 56,
    "start_time": "2023-11-18T11:17:43.396Z"
   },
   {
    "duration": 10,
    "start_time": "2023-11-18T11:17:52.347Z"
   },
   {
    "duration": 3,
    "start_time": "2023-11-18T11:17:53.827Z"
   },
   {
    "duration": 2344,
    "start_time": "2023-11-18T11:17:54.147Z"
   },
   {
    "duration": 3,
    "start_time": "2023-11-18T11:17:57.630Z"
   },
   {
    "duration": 2,
    "start_time": "2023-11-18T11:18:00.228Z"
   },
   {
    "duration": 3,
    "start_time": "2023-11-18T11:18:00.507Z"
   },
   {
    "duration": 6,
    "start_time": "2023-11-18T11:18:00.776Z"
   },
   {
    "duration": 35,
    "start_time": "2023-11-18T11:18:02.454Z"
   },
   {
    "duration": 64,
    "start_time": "2023-11-18T11:18:12.622Z"
   },
   {
    "duration": 56,
    "start_time": "2023-11-18T11:18:13.169Z"
   },
   {
    "duration": 5,
    "start_time": "2023-11-18T11:18:14.168Z"
   },
   {
    "duration": 7,
    "start_time": "2023-11-18T11:18:16.695Z"
   },
   {
    "duration": 6,
    "start_time": "2023-11-18T11:18:17.160Z"
   },
   {
    "duration": 6,
    "start_time": "2023-11-18T11:18:17.585Z"
   },
   {
    "duration": 6,
    "start_time": "2023-11-18T11:18:34.299Z"
   },
   {
    "duration": 18,
    "start_time": "2023-11-18T11:18:34.708Z"
   },
   {
    "duration": 8,
    "start_time": "2023-11-18T11:18:37.181Z"
   },
   {
    "duration": 6,
    "start_time": "2023-11-18T11:18:37.515Z"
   },
   {
    "duration": 175520,
    "start_time": "2023-11-18T11:18:45.140Z"
   },
   {
    "duration": 117157,
    "start_time": "2023-11-18T11:21:40.664Z"
   },
   {
    "duration": 117024,
    "start_time": "2023-11-18T11:23:37.823Z"
   },
   {
    "duration": 5,
    "start_time": "2023-11-18T11:25:34.849Z"
   },
   {
    "duration": 5,
    "start_time": "2023-11-18T11:25:34.864Z"
   },
   {
    "duration": 5,
    "start_time": "2023-11-18T11:25:34.870Z"
   },
   {
    "duration": 3,
    "start_time": "2023-11-18T11:25:34.877Z"
   },
   {
    "duration": 1034,
    "start_time": "2023-11-18T11:25:34.882Z"
   },
   {
    "duration": 658,
    "start_time": "2023-11-18T11:25:35.918Z"
   },
   {
    "duration": 655,
    "start_time": "2023-11-18T11:25:36.579Z"
   },
   {
    "duration": 2129,
    "start_time": "2023-11-18T11:25:37.236Z"
   },
   {
    "duration": 99,
    "start_time": "2023-11-18T11:25:39.367Z"
   },
   {
    "duration": 4559,
    "start_time": "2023-11-18T11:26:00.274Z"
   },
   {
    "duration": 5167,
    "start_time": "2023-11-18T11:31:38.003Z"
   },
   {
    "duration": 93,
    "start_time": "2023-11-18T11:31:43.173Z"
   },
   {
    "duration": 7396,
    "start_time": "2023-11-18T11:36:26.176Z"
   },
   {
    "duration": 10,
    "start_time": "2023-11-18T11:36:33.574Z"
   },
   {
    "duration": 1633,
    "start_time": "2023-11-18T11:36:44.624Z"
   },
   {
    "duration": 945,
    "start_time": "2023-11-18T11:36:46.259Z"
   },
   {
    "duration": 16,
    "start_time": "2023-11-18T11:36:47.207Z"
   },
   {
    "duration": 7,
    "start_time": "2023-11-18T11:36:47.224Z"
   },
   {
    "duration": 45,
    "start_time": "2023-11-18T11:36:47.234Z"
   },
   {
    "duration": 7,
    "start_time": "2023-11-18T11:36:47.281Z"
   },
   {
    "duration": 4,
    "start_time": "2023-11-18T11:36:47.289Z"
   },
   {
    "duration": 2344,
    "start_time": "2023-11-18T11:36:47.294Z"
   },
   {
    "duration": 4,
    "start_time": "2023-11-18T11:36:49.640Z"
   },
   {
    "duration": 5,
    "start_time": "2023-11-18T11:36:49.645Z"
   },
   {
    "duration": 4,
    "start_time": "2023-11-18T11:36:49.652Z"
   },
   {
    "duration": 5,
    "start_time": "2023-11-18T11:36:49.665Z"
   },
   {
    "duration": 1419,
    "start_time": "2023-11-18T11:36:49.672Z"
   },
   {
    "duration": 61,
    "start_time": "2023-11-18T11:36:51.094Z"
   },
   {
    "duration": 59,
    "start_time": "2023-11-18T11:36:51.156Z"
   },
   {
    "duration": 4,
    "start_time": "2023-11-18T11:36:51.217Z"
   },
   {
    "duration": 8,
    "start_time": "2023-11-18T11:36:51.223Z"
   },
   {
    "duration": 5,
    "start_time": "2023-11-18T11:36:51.233Z"
   },
   {
    "duration": 29,
    "start_time": "2023-11-18T11:36:51.239Z"
   },
   {
    "duration": 7,
    "start_time": "2023-11-18T11:36:51.270Z"
   },
   {
    "duration": 20,
    "start_time": "2023-11-18T11:36:51.278Z"
   },
   {
    "duration": 9,
    "start_time": "2023-11-18T11:36:51.299Z"
   },
   {
    "duration": 7,
    "start_time": "2023-11-18T11:36:51.309Z"
   },
   {
    "duration": 369183,
    "start_time": "2023-11-18T11:36:51.318Z"
   },
   {
    "duration": 117127,
    "start_time": "2023-11-18T11:43:00.503Z"
   },
   {
    "duration": 116356,
    "start_time": "2023-11-18T11:44:57.631Z"
   },
   {
    "duration": 5,
    "start_time": "2023-11-18T11:46:53.989Z"
   },
   {
    "duration": 10,
    "start_time": "2023-11-18T11:46:53.996Z"
   },
   {
    "duration": 5,
    "start_time": "2023-11-18T11:46:54.007Z"
   },
   {
    "duration": 7,
    "start_time": "2023-11-18T11:46:54.014Z"
   },
   {
    "duration": 2169,
    "start_time": "2023-11-18T11:46:54.022Z"
   },
   {
    "duration": 618,
    "start_time": "2023-11-18T11:46:56.193Z"
   },
   {
    "duration": 641,
    "start_time": "2023-11-18T11:46:56.812Z"
   },
   {
    "duration": 17529,
    "start_time": "2023-11-18T11:46:57.455Z"
   },
   {
    "duration": 8,
    "start_time": "2023-11-18T11:47:14.986Z"
   },
   {
    "duration": 10024,
    "start_time": "2023-11-18T11:47:14.996Z"
   },
   {
    "duration": 1902064,
    "start_time": "2023-11-18T11:47:25.021Z"
   },
   {
    "duration": 11,
    "start_time": "2023-11-18T12:19:07.087Z"
   },
   {
    "duration": 198,
    "start_time": "2023-11-18T12:19:07.099Z"
   }
  ],
  "kernelspec": {
   "display_name": "Python 3 (ipykernel)",
   "language": "python",
   "name": "python3"
  },
  "language_info": {
   "codemirror_mode": {
    "name": "ipython",
    "version": 3
   },
   "file_extension": ".py",
   "mimetype": "text/x-python",
   "name": "python",
   "nbconvert_exporter": "python",
   "pygments_lexer": "ipython3",
   "version": "3.10.9"
  },
  "toc": {
   "base_numbering": 1,
   "nav_menu": {},
   "number_sections": true,
   "sideBar": true,
   "skip_h1_title": true,
   "title_cell": "Содержание",
   "title_sidebar": "Contents",
   "toc_cell": true,
   "toc_position": {
    "height": "calc(100% - 180px)",
    "left": "10px",
    "top": "150px",
    "width": "302.391px"
   },
   "toc_section_display": true,
   "toc_window_display": false
  }
 },
 "nbformat": 4,
 "nbformat_minor": 2
}
