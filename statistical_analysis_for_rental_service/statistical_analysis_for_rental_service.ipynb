{
 "cells": [
  {
   "cell_type": "markdown",
   "id": "f541d232",
   "metadata": {},
   "source": [
    "# Исследование сервиса аренды самокатов GoFast"
   ]
  },
  {
   "cell_type": "markdown",
   "id": "fa16f93e",
   "metadata": {},
   "source": [
    "В нашем распоряжении данные сервиса аренды самокатов GoFast. Нам передали данные о некоторых пользователях из нескольких городов, а также об их поездках. Наша задача - проанализировать данные и проверить некоторые гипотезы, которые могут помочь бизнесу вырасти.  \n",
    "  \n",
    "**Цель исследования:**  \n",
    "1. Определить прибыль, которую приносят разные группы пользователей.\n",
    "2. Установить, какие пользователи могут быть \"выгоднее\" для компании.\n",
    "3. Проверить некоторые гипотезы, которые могут помочь бизнесу вырасти.\n",
    "  \n",
    "**Ход исследования**  \n",
    "Данные о пользователях мы получим из файла `'/datasets/users_go.csv'`, а данные о поездках - `'rides_go.csv'`. О качестве данных ничего не известно, поэтому перед исследованием понадобится обзор данных.  \n",
    "Проверим данные на наличие пропусков и дубликатов. Далее создадим необходимые столбцы и приступим к проведению исследовательского анализа.  \n",
    "Таким образом, наше исследование пройдет в семь этапов:  \n",
    "- Загрузка данных\n",
    "- Предобработка данных\n",
    "- Исследовательский анализ данных\n",
    "- Объединение данных\n",
    "- Подсчёт выручки\n",
    "- Проверка гипотез\n",
    "- Распределения"
   ]
  },
  {
   "cell_type": "code",
   "execution_count": 1,
   "id": "72576667",
   "metadata": {},
   "outputs": [],
   "source": [
    "import pandas as pd\n",
    "import matplotlib.pyplot as plt\n",
    "import numpy as np\n",
    "from scipy import stats as st\n",
    "from scipy.stats import binom, norm\n",
    "from math import sqrt"
   ]
  },
  {
   "cell_type": "markdown",
   "id": "c42cbe00",
   "metadata": {},
   "source": [
    "### Шаг 1. Загрузка данных"
   ]
  },
  {
   "cell_type": "markdown",
   "id": "0dd69912",
   "metadata": {},
   "source": [
    "Откроем датафреймы и изучим общую информацию, которую они содержат."
   ]
  },
  {
   "cell_type": "code",
   "execution_count": 2,
   "id": "eff9f206",
   "metadata": {},
   "outputs": [],
   "source": [
    "data_users = pd.read_csv('/datasets/users_go.csv', sep=',')\n",
    "data_rides = pd.read_csv('/datasets/rides_go.csv', sep=',')\n",
    "data_subscriptions = pd.read_csv('/datasets/subscriptions_go.csv', sep=',')\n",
    "data = [data_users, data_rides, data_subscriptions]"
   ]
  },
  {
   "cell_type": "code",
   "execution_count": 3,
   "id": "7c9a967d",
   "metadata": {},
   "outputs": [
    {
     "data": {
      "text/html": [
       "<div>\n",
       "<style scoped>\n",
       "    .dataframe tbody tr th:only-of-type {\n",
       "        vertical-align: middle;\n",
       "    }\n",
       "\n",
       "    .dataframe tbody tr th {\n",
       "        vertical-align: top;\n",
       "    }\n",
       "\n",
       "    .dataframe thead th {\n",
       "        text-align: right;\n",
       "    }\n",
       "</style>\n",
       "<table border=\"1\" class=\"dataframe\">\n",
       "  <thead>\n",
       "    <tr style=\"text-align: right;\">\n",
       "      <th></th>\n",
       "      <th>user_id</th>\n",
       "      <th>name</th>\n",
       "      <th>age</th>\n",
       "      <th>city</th>\n",
       "      <th>subscription_type</th>\n",
       "    </tr>\n",
       "  </thead>\n",
       "  <tbody>\n",
       "    <tr>\n",
       "      <th>0</th>\n",
       "      <td>1</td>\n",
       "      <td>Кира</td>\n",
       "      <td>22</td>\n",
       "      <td>Тюмень</td>\n",
       "      <td>ultra</td>\n",
       "    </tr>\n",
       "    <tr>\n",
       "      <th>1</th>\n",
       "      <td>2</td>\n",
       "      <td>Станислав</td>\n",
       "      <td>31</td>\n",
       "      <td>Омск</td>\n",
       "      <td>ultra</td>\n",
       "    </tr>\n",
       "    <tr>\n",
       "      <th>2</th>\n",
       "      <td>3</td>\n",
       "      <td>Алексей</td>\n",
       "      <td>20</td>\n",
       "      <td>Москва</td>\n",
       "      <td>ultra</td>\n",
       "    </tr>\n",
       "    <tr>\n",
       "      <th>3</th>\n",
       "      <td>4</td>\n",
       "      <td>Константин</td>\n",
       "      <td>26</td>\n",
       "      <td>Ростов-на-Дону</td>\n",
       "      <td>ultra</td>\n",
       "    </tr>\n",
       "    <tr>\n",
       "      <th>4</th>\n",
       "      <td>5</td>\n",
       "      <td>Адель</td>\n",
       "      <td>28</td>\n",
       "      <td>Омск</td>\n",
       "      <td>ultra</td>\n",
       "    </tr>\n",
       "    <tr>\n",
       "      <th>5</th>\n",
       "      <td>6</td>\n",
       "      <td>Регина</td>\n",
       "      <td>25</td>\n",
       "      <td>Краснодар</td>\n",
       "      <td>ultra</td>\n",
       "    </tr>\n",
       "    <tr>\n",
       "      <th>6</th>\n",
       "      <td>7</td>\n",
       "      <td>Игорь</td>\n",
       "      <td>23</td>\n",
       "      <td>Омск</td>\n",
       "      <td>ultra</td>\n",
       "    </tr>\n",
       "    <tr>\n",
       "      <th>7</th>\n",
       "      <td>8</td>\n",
       "      <td>Юрий</td>\n",
       "      <td>23</td>\n",
       "      <td>Краснодар</td>\n",
       "      <td>ultra</td>\n",
       "    </tr>\n",
       "    <tr>\n",
       "      <th>8</th>\n",
       "      <td>9</td>\n",
       "      <td>Ян</td>\n",
       "      <td>21</td>\n",
       "      <td>Пятигорск</td>\n",
       "      <td>ultra</td>\n",
       "    </tr>\n",
       "    <tr>\n",
       "      <th>9</th>\n",
       "      <td>10</td>\n",
       "      <td>Валерий</td>\n",
       "      <td>18</td>\n",
       "      <td>Екатеринбург</td>\n",
       "      <td>ultra</td>\n",
       "    </tr>\n",
       "  </tbody>\n",
       "</table>\n",
       "</div>"
      ],
      "text/plain": [
       "   user_id        name  age            city subscription_type\n",
       "0        1        Кира   22          Тюмень             ultra\n",
       "1        2   Станислав   31            Омск             ultra\n",
       "2        3     Алексей   20          Москва             ultra\n",
       "3        4  Константин   26  Ростов-на-Дону             ultra\n",
       "4        5       Адель   28            Омск             ultra\n",
       "5        6      Регина   25       Краснодар             ultra\n",
       "6        7       Игорь   23            Омск             ultra\n",
       "7        8        Юрий   23       Краснодар             ultra\n",
       "8        9          Ян   21       Пятигорск             ultra\n",
       "9       10     Валерий   18    Екатеринбург             ultra"
      ]
     },
     "metadata": {},
     "output_type": "display_data"
    },
    {
     "data": {
      "text/html": [
       "<div>\n",
       "<style scoped>\n",
       "    .dataframe tbody tr th:only-of-type {\n",
       "        vertical-align: middle;\n",
       "    }\n",
       "\n",
       "    .dataframe tbody tr th {\n",
       "        vertical-align: top;\n",
       "    }\n",
       "\n",
       "    .dataframe thead th {\n",
       "        text-align: right;\n",
       "    }\n",
       "</style>\n",
       "<table border=\"1\" class=\"dataframe\">\n",
       "  <thead>\n",
       "    <tr style=\"text-align: right;\">\n",
       "      <th></th>\n",
       "      <th>user_id</th>\n",
       "      <th>distance</th>\n",
       "      <th>duration</th>\n",
       "      <th>date</th>\n",
       "    </tr>\n",
       "  </thead>\n",
       "  <tbody>\n",
       "    <tr>\n",
       "      <th>0</th>\n",
       "      <td>1</td>\n",
       "      <td>4409.919140</td>\n",
       "      <td>25.599769</td>\n",
       "      <td>2021-01-01</td>\n",
       "    </tr>\n",
       "    <tr>\n",
       "      <th>1</th>\n",
       "      <td>1</td>\n",
       "      <td>2617.592153</td>\n",
       "      <td>15.816871</td>\n",
       "      <td>2021-01-18</td>\n",
       "    </tr>\n",
       "    <tr>\n",
       "      <th>2</th>\n",
       "      <td>1</td>\n",
       "      <td>754.159807</td>\n",
       "      <td>6.232113</td>\n",
       "      <td>2021-04-20</td>\n",
       "    </tr>\n",
       "    <tr>\n",
       "      <th>3</th>\n",
       "      <td>1</td>\n",
       "      <td>2694.783254</td>\n",
       "      <td>18.511000</td>\n",
       "      <td>2021-08-11</td>\n",
       "    </tr>\n",
       "    <tr>\n",
       "      <th>4</th>\n",
       "      <td>1</td>\n",
       "      <td>4028.687306</td>\n",
       "      <td>26.265803</td>\n",
       "      <td>2021-08-28</td>\n",
       "    </tr>\n",
       "    <tr>\n",
       "      <th>5</th>\n",
       "      <td>1</td>\n",
       "      <td>2770.890808</td>\n",
       "      <td>16.650138</td>\n",
       "      <td>2021-10-09</td>\n",
       "    </tr>\n",
       "    <tr>\n",
       "      <th>6</th>\n",
       "      <td>1</td>\n",
       "      <td>3039.020292</td>\n",
       "      <td>14.927879</td>\n",
       "      <td>2021-10-19</td>\n",
       "    </tr>\n",
       "    <tr>\n",
       "      <th>7</th>\n",
       "      <td>1</td>\n",
       "      <td>2842.118050</td>\n",
       "      <td>23.117468</td>\n",
       "      <td>2021-11-06</td>\n",
       "    </tr>\n",
       "    <tr>\n",
       "      <th>8</th>\n",
       "      <td>1</td>\n",
       "      <td>3412.690668</td>\n",
       "      <td>15.238072</td>\n",
       "      <td>2021-11-14</td>\n",
       "    </tr>\n",
       "    <tr>\n",
       "      <th>9</th>\n",
       "      <td>1</td>\n",
       "      <td>748.690645</td>\n",
       "      <td>15.041884</td>\n",
       "      <td>2021-11-22</td>\n",
       "    </tr>\n",
       "  </tbody>\n",
       "</table>\n",
       "</div>"
      ],
      "text/plain": [
       "   user_id     distance   duration        date\n",
       "0        1  4409.919140  25.599769  2021-01-01\n",
       "1        1  2617.592153  15.816871  2021-01-18\n",
       "2        1   754.159807   6.232113  2021-04-20\n",
       "3        1  2694.783254  18.511000  2021-08-11\n",
       "4        1  4028.687306  26.265803  2021-08-28\n",
       "5        1  2770.890808  16.650138  2021-10-09\n",
       "6        1  3039.020292  14.927879  2021-10-19\n",
       "7        1  2842.118050  23.117468  2021-11-06\n",
       "8        1  3412.690668  15.238072  2021-11-14\n",
       "9        1   748.690645  15.041884  2021-11-22"
      ]
     },
     "metadata": {},
     "output_type": "display_data"
    },
    {
     "data": {
      "text/html": [
       "<div>\n",
       "<style scoped>\n",
       "    .dataframe tbody tr th:only-of-type {\n",
       "        vertical-align: middle;\n",
       "    }\n",
       "\n",
       "    .dataframe tbody tr th {\n",
       "        vertical-align: top;\n",
       "    }\n",
       "\n",
       "    .dataframe thead th {\n",
       "        text-align: right;\n",
       "    }\n",
       "</style>\n",
       "<table border=\"1\" class=\"dataframe\">\n",
       "  <thead>\n",
       "    <tr style=\"text-align: right;\">\n",
       "      <th></th>\n",
       "      <th>subscription_type</th>\n",
       "      <th>minute_price</th>\n",
       "      <th>start_ride_price</th>\n",
       "      <th>subscription_fee</th>\n",
       "    </tr>\n",
       "  </thead>\n",
       "  <tbody>\n",
       "    <tr>\n",
       "      <th>0</th>\n",
       "      <td>free</td>\n",
       "      <td>8</td>\n",
       "      <td>50</td>\n",
       "      <td>0</td>\n",
       "    </tr>\n",
       "    <tr>\n",
       "      <th>1</th>\n",
       "      <td>ultra</td>\n",
       "      <td>6</td>\n",
       "      <td>0</td>\n",
       "      <td>199</td>\n",
       "    </tr>\n",
       "  </tbody>\n",
       "</table>\n",
       "</div>"
      ],
      "text/plain": [
       "  subscription_type  minute_price  start_ride_price  subscription_fee\n",
       "0              free             8                50                 0\n",
       "1             ultra             6                 0               199"
      ]
     },
     "metadata": {},
     "output_type": "display_data"
    }
   ],
   "source": [
    "for i in data:\n",
    "    display(i.head(10))"
   ]
  },
  {
   "cell_type": "markdown",
   "id": "078fe0d6",
   "metadata": {},
   "source": [
    "В первом датафрейме содержится общая информация о пользователях: уникальный номер, имя, возраст, город и информация о наличии или отсутствии подписки.  \n",
    "Во втором датафрейме содержится информация о поездках пользователей, по уникальному номеру можно соотнести первый и второй датафреймы.  \n",
    "В третьем датафрейме содержится информация о стоимости поездок в зависимости от наличия подписки."
   ]
  },
  {
   "cell_type": "markdown",
   "id": "e95ebca7",
   "metadata": {},
   "source": [
    "### Шаг 2. Предобработка данных"
   ]
  },
  {
   "cell_type": "markdown",
   "id": "b1bf2ac9",
   "metadata": {},
   "source": [
    "#### Изменение типа данных"
   ]
  },
  {
   "cell_type": "code",
   "execution_count": 4,
   "id": "4ca15419",
   "metadata": {},
   "outputs": [
    {
     "name": "stdout",
     "output_type": "stream",
     "text": [
      "<class 'pandas.core.frame.DataFrame'>\n",
      "RangeIndex: 18068 entries, 0 to 18067\n",
      "Data columns (total 4 columns):\n",
      " #   Column    Non-Null Count  Dtype  \n",
      "---  ------    --------------  -----  \n",
      " 0   user_id   18068 non-null  int64  \n",
      " 1   distance  18068 non-null  float64\n",
      " 2   duration  18068 non-null  float64\n",
      " 3   date      18068 non-null  object \n",
      "dtypes: float64(2), int64(1), object(1)\n",
      "memory usage: 564.8+ KB\n"
     ]
    }
   ],
   "source": [
    "data_rides.info()"
   ]
  },
  {
   "cell_type": "markdown",
   "id": "04dc0f68",
   "metadata": {},
   "source": [
    "Заметим, что столбец date имеет тип object, приведем его к типу даты pandas."
   ]
  },
  {
   "cell_type": "code",
   "execution_count": 5,
   "id": "f5a57925",
   "metadata": {},
   "outputs": [],
   "source": [
    "data_rides['date'] = pd.to_datetime(data_rides['date'],\n",
    "                                              format='%Y-%m-%d')"
   ]
  },
  {
   "cell_type": "code",
   "execution_count": 6,
   "id": "32200655",
   "metadata": {},
   "outputs": [
    {
     "name": "stdout",
     "output_type": "stream",
     "text": [
      "<class 'pandas.core.frame.DataFrame'>\n",
      "RangeIndex: 18068 entries, 0 to 18067\n",
      "Data columns (total 4 columns):\n",
      " #   Column    Non-Null Count  Dtype         \n",
      "---  ------    --------------  -----         \n",
      " 0   user_id   18068 non-null  int64         \n",
      " 1   distance  18068 non-null  float64       \n",
      " 2   duration  18068 non-null  float64       \n",
      " 3   date      18068 non-null  datetime64[ns]\n",
      "dtypes: datetime64[ns](1), float64(2), int64(1)\n",
      "memory usage: 564.8 KB\n"
     ]
    }
   ],
   "source": [
    "data_rides.info()"
   ]
  },
  {
   "cell_type": "markdown",
   "id": "a0b589e9",
   "metadata": {},
   "source": [
    "Теперь всё верно!"
   ]
  },
  {
   "cell_type": "markdown",
   "id": "58b2e096",
   "metadata": {},
   "source": [
    "Проверим за какой период содержатся данные о прокате."
   ]
  },
  {
   "cell_type": "code",
   "execution_count": 7,
   "id": "49bfd185",
   "metadata": {},
   "outputs": [
    {
     "name": "stdout",
     "output_type": "stream",
     "text": [
      "2021-01-01 00:00:00\n"
     ]
    },
    {
     "data": {
      "text/plain": [
       "Timestamp('2021-12-30 00:00:00')"
      ]
     },
     "execution_count": 7,
     "metadata": {},
     "output_type": "execute_result"
    }
   ],
   "source": [
    "print(data_rides['date'].min())\n",
    "data_rides['date'].max()"
   ]
  },
  {
   "cell_type": "markdown",
   "id": "bb010418",
   "metadata": {},
   "source": [
    "Здесь мы видим, что данные о прокате предоставлены только за 2021 год."
   ]
  },
  {
   "cell_type": "markdown",
   "id": "830046c1",
   "metadata": {},
   "source": [
    "#### Новый столбец"
   ]
  },
  {
   "cell_type": "markdown",
   "id": "50900881",
   "metadata": {},
   "source": [
    "На основе столбца date создадим новый столбец, который содержит только номер месяца."
   ]
  },
  {
   "cell_type": "code",
   "execution_count": 8,
   "id": "485d9b57",
   "metadata": {},
   "outputs": [
    {
     "data": {
      "text/html": [
       "<div>\n",
       "<style scoped>\n",
       "    .dataframe tbody tr th:only-of-type {\n",
       "        vertical-align: middle;\n",
       "    }\n",
       "\n",
       "    .dataframe tbody tr th {\n",
       "        vertical-align: top;\n",
       "    }\n",
       "\n",
       "    .dataframe thead th {\n",
       "        text-align: right;\n",
       "    }\n",
       "</style>\n",
       "<table border=\"1\" class=\"dataframe\">\n",
       "  <thead>\n",
       "    <tr style=\"text-align: right;\">\n",
       "      <th></th>\n",
       "      <th>user_id</th>\n",
       "      <th>distance</th>\n",
       "      <th>duration</th>\n",
       "      <th>date</th>\n",
       "      <th>month</th>\n",
       "    </tr>\n",
       "  </thead>\n",
       "  <tbody>\n",
       "    <tr>\n",
       "      <th>0</th>\n",
       "      <td>1</td>\n",
       "      <td>4409.919140</td>\n",
       "      <td>25.599769</td>\n",
       "      <td>2021-01-01</td>\n",
       "      <td>1</td>\n",
       "    </tr>\n",
       "    <tr>\n",
       "      <th>1</th>\n",
       "      <td>1</td>\n",
       "      <td>2617.592153</td>\n",
       "      <td>15.816871</td>\n",
       "      <td>2021-01-18</td>\n",
       "      <td>1</td>\n",
       "    </tr>\n",
       "    <tr>\n",
       "      <th>2</th>\n",
       "      <td>1</td>\n",
       "      <td>754.159807</td>\n",
       "      <td>6.232113</td>\n",
       "      <td>2021-04-20</td>\n",
       "      <td>4</td>\n",
       "    </tr>\n",
       "    <tr>\n",
       "      <th>3</th>\n",
       "      <td>1</td>\n",
       "      <td>2694.783254</td>\n",
       "      <td>18.511000</td>\n",
       "      <td>2021-08-11</td>\n",
       "      <td>8</td>\n",
       "    </tr>\n",
       "    <tr>\n",
       "      <th>4</th>\n",
       "      <td>1</td>\n",
       "      <td>4028.687306</td>\n",
       "      <td>26.265803</td>\n",
       "      <td>2021-08-28</td>\n",
       "      <td>8</td>\n",
       "    </tr>\n",
       "    <tr>\n",
       "      <th>5</th>\n",
       "      <td>1</td>\n",
       "      <td>2770.890808</td>\n",
       "      <td>16.650138</td>\n",
       "      <td>2021-10-09</td>\n",
       "      <td>10</td>\n",
       "    </tr>\n",
       "    <tr>\n",
       "      <th>6</th>\n",
       "      <td>1</td>\n",
       "      <td>3039.020292</td>\n",
       "      <td>14.927879</td>\n",
       "      <td>2021-10-19</td>\n",
       "      <td>10</td>\n",
       "    </tr>\n",
       "    <tr>\n",
       "      <th>7</th>\n",
       "      <td>1</td>\n",
       "      <td>2842.118050</td>\n",
       "      <td>23.117468</td>\n",
       "      <td>2021-11-06</td>\n",
       "      <td>11</td>\n",
       "    </tr>\n",
       "    <tr>\n",
       "      <th>8</th>\n",
       "      <td>1</td>\n",
       "      <td>3412.690668</td>\n",
       "      <td>15.238072</td>\n",
       "      <td>2021-11-14</td>\n",
       "      <td>11</td>\n",
       "    </tr>\n",
       "    <tr>\n",
       "      <th>9</th>\n",
       "      <td>1</td>\n",
       "      <td>748.690645</td>\n",
       "      <td>15.041884</td>\n",
       "      <td>2021-11-22</td>\n",
       "      <td>11</td>\n",
       "    </tr>\n",
       "  </tbody>\n",
       "</table>\n",
       "</div>"
      ],
      "text/plain": [
       "   user_id     distance   duration       date  month\n",
       "0        1  4409.919140  25.599769 2021-01-01      1\n",
       "1        1  2617.592153  15.816871 2021-01-18      1\n",
       "2        1   754.159807   6.232113 2021-04-20      4\n",
       "3        1  2694.783254  18.511000 2021-08-11      8\n",
       "4        1  4028.687306  26.265803 2021-08-28      8\n",
       "5        1  2770.890808  16.650138 2021-10-09     10\n",
       "6        1  3039.020292  14.927879 2021-10-19     10\n",
       "7        1  2842.118050  23.117468 2021-11-06     11\n",
       "8        1  3412.690668  15.238072 2021-11-14     11\n",
       "9        1   748.690645  15.041884 2021-11-22     11"
      ]
     },
     "execution_count": 8,
     "metadata": {},
     "output_type": "execute_result"
    }
   ],
   "source": [
    "data_rides['month'] = data_rides['date'].dt.month\n",
    "data_rides.head(10)"
   ]
  },
  {
   "cell_type": "markdown",
   "id": "059e772c",
   "metadata": {},
   "source": [
    "#### Проверка данных на наличие аномалий"
   ]
  },
  {
   "cell_type": "code",
   "execution_count": 9,
   "id": "a26eeb41",
   "metadata": {},
   "outputs": [
    {
     "name": "stdout",
     "output_type": "stream",
     "text": [
      "40.82396261922424\n"
     ]
    },
    {
     "data": {
      "text/plain": [
       "0.5"
      ]
     },
     "execution_count": 9,
     "metadata": {},
     "output_type": "execute_result"
    }
   ],
   "source": [
    "print(data_rides['duration'].max())\n",
    "data_rides['duration'].min()"
   ]
  },
  {
   "cell_type": "markdown",
   "id": "9796c4fd",
   "metadata": {},
   "source": [
    "Максимальное время аренды составляет почти 41 минута, ничего необычного. Минимальное время аренды пол минуты, скорее всего самокат оказался сломан, узнаем сколько таких значений."
   ]
  },
  {
   "cell_type": "code",
   "execution_count": 10,
   "id": "96521171",
   "metadata": {},
   "outputs": [
    {
     "data": {
      "text/html": [
       "<div>\n",
       "<style scoped>\n",
       "    .dataframe tbody tr th:only-of-type {\n",
       "        vertical-align: middle;\n",
       "    }\n",
       "\n",
       "    .dataframe tbody tr th {\n",
       "        vertical-align: top;\n",
       "    }\n",
       "\n",
       "    .dataframe thead th {\n",
       "        text-align: right;\n",
       "    }\n",
       "</style>\n",
       "<table border=\"1\" class=\"dataframe\">\n",
       "  <thead>\n",
       "    <tr style=\"text-align: right;\">\n",
       "      <th></th>\n",
       "      <th>user_id</th>\n",
       "    </tr>\n",
       "    <tr>\n",
       "      <th>duration</th>\n",
       "      <th></th>\n",
       "    </tr>\n",
       "  </thead>\n",
       "  <tbody>\n",
       "    <tr>\n",
       "      <th>0.500000</th>\n",
       "      <td>95</td>\n",
       "    </tr>\n",
       "    <tr>\n",
       "      <th>2.035632</th>\n",
       "      <td>1</td>\n",
       "    </tr>\n",
       "    <tr>\n",
       "      <th>2.053251</th>\n",
       "      <td>1</td>\n",
       "    </tr>\n",
       "    <tr>\n",
       "      <th>2.180879</th>\n",
       "      <td>1</td>\n",
       "    </tr>\n",
       "    <tr>\n",
       "      <th>2.222598</th>\n",
       "      <td>1</td>\n",
       "    </tr>\n",
       "    <tr>\n",
       "      <th>...</th>\n",
       "      <td>...</td>\n",
       "    </tr>\n",
       "    <tr>\n",
       "      <th>38.265229</th>\n",
       "      <td>1</td>\n",
       "    </tr>\n",
       "    <tr>\n",
       "      <th>38.352763</th>\n",
       "      <td>1</td>\n",
       "    </tr>\n",
       "    <tr>\n",
       "      <th>39.526602</th>\n",
       "      <td>1</td>\n",
       "    </tr>\n",
       "    <tr>\n",
       "      <th>39.873856</th>\n",
       "      <td>1</td>\n",
       "    </tr>\n",
       "    <tr>\n",
       "      <th>40.823963</th>\n",
       "      <td>1</td>\n",
       "    </tr>\n",
       "  </tbody>\n",
       "</table>\n",
       "<p>17974 rows × 1 columns</p>\n",
       "</div>"
      ],
      "text/plain": [
       "           user_id\n",
       "duration          \n",
       "0.500000        95\n",
       "2.035632         1\n",
       "2.053251         1\n",
       "2.180879         1\n",
       "2.222598         1\n",
       "...            ...\n",
       "38.265229        1\n",
       "38.352763        1\n",
       "39.526602        1\n",
       "39.873856        1\n",
       "40.823963        1\n",
       "\n",
       "[17974 rows x 1 columns]"
      ]
     },
     "execution_count": 10,
     "metadata": {},
     "output_type": "execute_result"
    }
   ],
   "source": [
    "data_rides.groupby('duration').agg({'user_id':'count'})"
   ]
  },
  {
   "cell_type": "markdown",
   "id": "7c9cc7ce",
   "metadata": {},
   "source": [
    "Таких значений 95, можно просто избавится от этих поездок."
   ]
  },
  {
   "cell_type": "code",
   "execution_count": 11,
   "id": "3d66a8ab",
   "metadata": {},
   "outputs": [],
   "source": [
    "data_rides = data_rides[data_rides['duration'] > 0.5]"
   ]
  },
  {
   "cell_type": "markdown",
   "id": "d541f99b",
   "metadata": {},
   "source": [
    "#### Избавление от пропущенных значений и дубликатов"
   ]
  },
  {
   "cell_type": "markdown",
   "id": "03e8c57e",
   "metadata": {},
   "source": [
    "Найдём и избавимся от пропущенных значений и дубликатов, если таковые имеются."
   ]
  },
  {
   "cell_type": "code",
   "execution_count": 12,
   "id": "5a495bb9",
   "metadata": {},
   "outputs": [
    {
     "data": {
      "text/plain": [
       "user_id              0\n",
       "name                 0\n",
       "age                  0\n",
       "city                 0\n",
       "subscription_type    0\n",
       "dtype: int64"
      ]
     },
     "execution_count": 12,
     "metadata": {},
     "output_type": "execute_result"
    }
   ],
   "source": [
    "data_users.isna().sum()"
   ]
  },
  {
   "cell_type": "markdown",
   "id": "e63cdee9",
   "metadata": {},
   "source": [
    "В первом датафрейме пропущенных значений нет, отлично!"
   ]
  },
  {
   "cell_type": "code",
   "execution_count": 13,
   "id": "62ad3954",
   "metadata": {},
   "outputs": [
    {
     "data": {
      "text/plain": [
       "31"
      ]
     },
     "execution_count": 13,
     "metadata": {},
     "output_type": "execute_result"
    }
   ],
   "source": [
    "data_users.duplicated().sum()"
   ]
  },
  {
   "cell_type": "markdown",
   "id": "3a921923",
   "metadata": {},
   "source": [
    "А вот дубликаты присутствуют, избавимся от них:"
   ]
  },
  {
   "cell_type": "code",
   "execution_count": 14,
   "id": "51b28583",
   "metadata": {},
   "outputs": [
    {
     "data": {
      "text/plain": [
       "0"
      ]
     },
     "execution_count": 14,
     "metadata": {},
     "output_type": "execute_result"
    }
   ],
   "source": [
    "data_users = data_users.drop_duplicates().reset_index(drop=True)\n",
    "data_users.duplicated().sum()"
   ]
  },
  {
   "cell_type": "markdown",
   "id": "90b60857",
   "metadata": {},
   "source": [
    "Отлично, идем дальше."
   ]
  },
  {
   "cell_type": "code",
   "execution_count": 15,
   "id": "dacce257",
   "metadata": {},
   "outputs": [
    {
     "name": "stdout",
     "output_type": "stream",
     "text": [
      "0\n"
     ]
    },
    {
     "data": {
      "text/plain": [
       "user_id     0\n",
       "distance    0\n",
       "duration    0\n",
       "date        0\n",
       "month       0\n",
       "dtype: int64"
      ]
     },
     "execution_count": 15,
     "metadata": {},
     "output_type": "execute_result"
    }
   ],
   "source": [
    "print(data_rides.duplicated().sum())\n",
    "data_rides.isna().sum()"
   ]
  },
  {
   "cell_type": "markdown",
   "id": "5a3ad33c",
   "metadata": {},
   "source": [
    "Во втором датафрейме ни дубликатов, ни пропущенных значений нет."
   ]
  },
  {
   "cell_type": "markdown",
   "id": "93503e7e",
   "metadata": {},
   "source": [
    "Третий датафрейм можно не проверять, он содержит всего 2 строки и это данные о стоимости тарифов."
   ]
  },
  {
   "cell_type": "markdown",
   "id": "212593c7",
   "metadata": {},
   "source": [
    "### Шаг 3. Исследовательский анализ данных"
   ]
  },
  {
   "cell_type": "markdown",
   "id": "1f9dea7b",
   "metadata": {},
   "source": [
    "Постараемся описать и визуализировать общую информацию о пользователях и поездках:"
   ]
  },
  {
   "cell_type": "markdown",
   "id": "9b8389fc",
   "metadata": {},
   "source": [
    "#### Частота встречаемости городов"
   ]
  },
  {
   "cell_type": "code",
   "execution_count": 16,
   "id": "ea9f2a32",
   "metadata": {},
   "outputs": [
    {
     "data": {
      "text/plain": [
       "Пятигорск         219\n",
       "Екатеринбург      204\n",
       "Ростов-на-Дону    198\n",
       "Краснодар         193\n",
       "Сочи              189\n",
       "Омск              183\n",
       "Тюмень            180\n",
       "Москва            168\n",
       "Name: city, dtype: int64"
      ]
     },
     "execution_count": 16,
     "metadata": {},
     "output_type": "execute_result"
    },
    {
     "data": {
      "image/png": "[encoded data removed]",
      "text/plain": [
       "<Figure size 720x288 with 1 Axes>"
      ]
     },
     "metadata": {
      "needs_background": "light"
     },
     "output_type": "display_data"
    }
   ],
   "source": [
    "ax = plt.figure(figsize=(10,4)).gca()\n",
    "data_users['city'].hist(bins=8, ax=ax, edgecolor='black')\n",
    "plt.title(\"Частота встречаемости городов\")\n",
    "plt.xlabel(\"Город\")\n",
    "plt.ylabel(\"Количество поездок\")\n",
    "data_users['city'].value_counts()"
   ]
  },
  {
   "cell_type": "markdown",
   "id": "a4427ea1",
   "metadata": {},
   "source": [
    "По графику видно, что в нашей выборке пользователи совершили больше всего поездок в Пятигорске, а меньше всего в Москве."
   ]
  },
  {
   "cell_type": "markdown",
   "id": "9e65f377",
   "metadata": {},
   "source": [
    "#### Соотношение пользователей с подпиской и без подписки"
   ]
  },
  {
   "cell_type": "code",
   "execution_count": 17,
   "id": "c3a0f20e",
   "metadata": {},
   "outputs": [
    {
     "name": "stdout",
     "output_type": "stream",
     "text": [
      "free     835\n",
      "ultra    699\n",
      "Name: subscription_type, dtype: int64\n"
     ]
    },
    {
     "data": {
      "text/plain": [
       "1.1945636623748213"
      ]
     },
     "execution_count": 17,
     "metadata": {},
     "output_type": "execute_result"
    },
    {
     "data": {
      "image/png": "[encoded data removed]",
      "text/plain": [
       "<Figure size 432x288 with 1 Axes>"
      ]
     },
     "metadata": {
      "needs_background": "light"
     },
     "output_type": "display_data"
    }
   ],
   "source": [
    "data_users['subscription_type'].hist()\n",
    "plt.title(\"Соотношение пользователей с подпиской и без подписки\")\n",
    "plt.xlabel(\"Подписка\")\n",
    "plt.ylabel(\"Количество пользователей\")\n",
    "print(data_users['subscription_type'].value_counts())\n",
    "len(data_users[data_users['subscription_type']=='free']) / len(data_users[data_users['subscription_type']=='ultra'])"
   ]
  },
  {
   "cell_type": "markdown",
   "id": "58b60277",
   "metadata": {},
   "source": [
    "Как мы видим, пользователей без подписки всего в 1,2 раза больше, разница совсем небольшая."
   ]
  },
  {
   "cell_type": "markdown",
   "id": "6802d866",
   "metadata": {},
   "source": [
    "#### Соотношение возраста пользователей"
   ]
  },
  {
   "cell_type": "code",
   "execution_count": 18,
   "id": "f702e929",
   "metadata": {},
   "outputs": [
    {
     "data": {
      "text/plain": [
       "count    1534.000000\n",
       "mean       24.903520\n",
       "std         4.572367\n",
       "min        12.000000\n",
       "25%        22.000000\n",
       "50%        25.000000\n",
       "75%        28.000000\n",
       "max        43.000000\n",
       "Name: age, dtype: float64"
      ]
     },
     "execution_count": 18,
     "metadata": {},
     "output_type": "execute_result"
    },
    {
     "data": {
      "image/png": "[encoded data removed]",
      "text/plain": [
       "<Figure size 432x288 with 1 Axes>"
      ]
     },
     "metadata": {
      "needs_background": "light"
     },
     "output_type": "display_data"
    }
   ],
   "source": [
    "data_users['age'].hist(bins=32)\n",
    "plt.title(\"Соотношение возраста пользователей\")\n",
    "plt.xlabel(\"Возраст\")\n",
    "plt.ylabel(\"Количество пользователей\")\n",
    "data_users['age'].describe()"
   ]
  },
  {
   "cell_type": "markdown",
   "id": "27711083",
   "metadata": {},
   "source": [
    "Заметим, что распределение возраста пользователей напоминает нормальное распределение, медина и среднее практически равны между собой, что составляет 25 лет."
   ]
  },
  {
   "cell_type": "markdown",
   "id": "ca2069ee",
   "metadata": {},
   "source": [
    "#### Расстояние, которое пользователь преодолел за одну поездку"
   ]
  },
  {
   "cell_type": "code",
   "execution_count": 19,
   "id": "b4448c48",
   "metadata": {},
   "outputs": [
    {
     "data": {
      "text/plain": [
       "count    17973.000000\n",
       "mean      3059.863833\n",
       "std       1108.814612\n",
       "min          0.855683\n",
       "25%       2538.839628\n",
       "50%       3129.029255\n",
       "75%       3762.636244\n",
       "max       7066.003772\n",
       "Name: distance, dtype: float64"
      ]
     },
     "execution_count": 19,
     "metadata": {},
     "output_type": "execute_result"
    },
    {
     "data": {
      "image/png": "[encoded data removed]",
      "text/plain": [
       "<Figure size 432x288 with 1 Axes>"
      ]
     },
     "metadata": {
      "needs_background": "light"
     },
     "output_type": "display_data"
    }
   ],
   "source": [
    "data_rides['distance'].hist(bins=100)\n",
    "plt.title(\"Расстояние, которое пользователь преодолел за одну поездку\")\n",
    "plt.xlabel(\"Расстояние\")\n",
    "plt.ylabel(\"Количество поездок\")\n",
    "data_rides['distance'].describe()"
   ]
  },
  {
   "cell_type": "code",
   "execution_count": 20,
   "id": "e1dceca1",
   "metadata": {},
   "outputs": [
    {
     "data": {
      "image/png": "[encoded data removed]",
      "text/plain": [
       "<Figure size 432x288 with 1 Axes>"
      ]
     },
     "metadata": {
      "needs_background": "light"
     },
     "output_type": "display_data"
    }
   ],
   "source": [
    "ax=data_rides['distance'].plot.box()\n",
    "plt.show()"
   ]
  },
  {
   "cell_type": "markdown",
   "id": "6fcec3bc",
   "metadata": {},
   "source": [
    "В среднем пользователь проезжает 3 км, но наблюдается небольшой пик в начале, интересно с чем же это связано."
   ]
  },
  {
   "cell_type": "markdown",
   "id": "7b05975d",
   "metadata": {},
   "source": [
    "#### Продолжительность поездок"
   ]
  },
  {
   "cell_type": "code",
   "execution_count": 21,
   "id": "1bbc3574",
   "metadata": {},
   "outputs": [
    {
     "data": {
      "text/plain": [
       "count    17973.000000\n",
       "mean        17.896480\n",
       "std          5.975424\n",
       "min          2.035632\n",
       "25%         13.670439\n",
       "50%         17.714122\n",
       "75%         21.747016\n",
       "max         40.823963\n",
       "Name: duration, dtype: float64"
      ]
     },
     "execution_count": 21,
     "metadata": {},
     "output_type": "execute_result"
    },
    {
     "data": {
      "image/png": "[encoded data removed]",
      "text/plain": [
       "<Figure size 432x288 with 1 Axes>"
      ]
     },
     "metadata": {
      "needs_background": "light"
     },
     "output_type": "display_data"
    }
   ],
   "source": [
    "data_rides['duration'].hist(bins=200)\n",
    "plt.title(\"Соотношение продолжительности поездок\")\n",
    "plt.xlabel(\"Продолжительность\")\n",
    "plt.ylabel(\"Количество поездок\")\n",
    "data_rides['duration'].describe()"
   ]
  },
  {
   "cell_type": "code",
   "execution_count": 22,
   "id": "209b89a1",
   "metadata": {},
   "outputs": [
    {
     "data": {
      "image/png": "[encoded data removed]",
      "text/plain": [
       "<Figure size 432x288 with 1 Axes>"
      ]
     },
     "metadata": {
      "needs_background": "light"
     },
     "output_type": "display_data"
    }
   ],
   "source": [
    "ax=data_rides['duration'].plot.box()\n",
    "plt.show()"
   ]
  },
  {
   "cell_type": "markdown",
   "id": "97693e84",
   "metadata": {},
   "source": [
    "Средняя продолжительность сессии составляет почти 18 минут."
   ]
  },
  {
   "cell_type": "markdown",
   "id": "4ef51331",
   "metadata": {},
   "source": [
    "### Шаг 4. Объединение данных"
   ]
  },
  {
   "cell_type": "markdown",
   "id": "4cdf87d7",
   "metadata": {},
   "source": [
    "#### Объединим данные о пользователях, поездках и подписках в один датафрейм"
   ]
  },
  {
   "cell_type": "markdown",
   "id": "59e99679",
   "metadata": {},
   "source": [
    "Перед тем как объединять датафреймы проверим их размерность:"
   ]
  },
  {
   "cell_type": "code",
   "execution_count": 23,
   "id": "d0a2e8b7",
   "metadata": {},
   "outputs": [
    {
     "name": "stdout",
     "output_type": "stream",
     "text": [
      "<class 'pandas.core.frame.DataFrame'>\n",
      "RangeIndex: 1534 entries, 0 to 1533\n",
      "Data columns (total 5 columns):\n",
      " #   Column             Non-Null Count  Dtype \n",
      "---  ------             --------------  ----- \n",
      " 0   user_id            1534 non-null   int64 \n",
      " 1   name               1534 non-null   object\n",
      " 2   age                1534 non-null   int64 \n",
      " 3   city               1534 non-null   object\n",
      " 4   subscription_type  1534 non-null   object\n",
      "dtypes: int64(2), object(3)\n",
      "memory usage: 60.0+ KB\n",
      "<class 'pandas.core.frame.DataFrame'>\n",
      "Int64Index: 17973 entries, 0 to 18067\n",
      "Data columns (total 5 columns):\n",
      " #   Column    Non-Null Count  Dtype         \n",
      "---  ------    --------------  -----         \n",
      " 0   user_id   17973 non-null  int64         \n",
      " 1   distance  17973 non-null  float64       \n",
      " 2   duration  17973 non-null  float64       \n",
      " 3   date      17973 non-null  datetime64[ns]\n",
      " 4   month     17973 non-null  int64         \n",
      "dtypes: datetime64[ns](1), float64(2), int64(2)\n",
      "memory usage: 842.5 KB\n"
     ]
    }
   ],
   "source": [
    "data_users.info()\n",
    "data_rides.info()"
   ]
  },
  {
   "cell_type": "markdown",
   "id": "a0f4643c",
   "metadata": {},
   "source": [
    "1534 строки с данными о пользователях и 17973 строки с данными о поездках."
   ]
  },
  {
   "cell_type": "markdown",
   "id": "c3f569d2",
   "metadata": {},
   "source": [
    "Объединим данные о пользователях, поездках и подписках в один датафрейм:"
   ]
  },
  {
   "cell_type": "code",
   "execution_count": 24,
   "id": "446e27da",
   "metadata": {},
   "outputs": [
    {
     "data": {
      "text/html": [
       "<div>\n",
       "<style scoped>\n",
       "    .dataframe tbody tr th:only-of-type {\n",
       "        vertical-align: middle;\n",
       "    }\n",
       "\n",
       "    .dataframe tbody tr th {\n",
       "        vertical-align: top;\n",
       "    }\n",
       "\n",
       "    .dataframe thead th {\n",
       "        text-align: right;\n",
       "    }\n",
       "</style>\n",
       "<table border=\"1\" class=\"dataframe\">\n",
       "  <thead>\n",
       "    <tr style=\"text-align: right;\">\n",
       "      <th></th>\n",
       "      <th>user_id</th>\n",
       "      <th>name</th>\n",
       "      <th>age</th>\n",
       "      <th>city</th>\n",
       "      <th>subscription_type</th>\n",
       "      <th>distance</th>\n",
       "      <th>duration</th>\n",
       "      <th>date</th>\n",
       "      <th>month</th>\n",
       "    </tr>\n",
       "  </thead>\n",
       "  <tbody>\n",
       "    <tr>\n",
       "      <th>10182</th>\n",
       "      <td>972</td>\n",
       "      <td>Анна</td>\n",
       "      <td>16</td>\n",
       "      <td>Сочи</td>\n",
       "      <td>free</td>\n",
       "      <td>1227.501766</td>\n",
       "      <td>16.603132</td>\n",
       "      <td>2021-10-22</td>\n",
       "      <td>10</td>\n",
       "    </tr>\n",
       "    <tr>\n",
       "      <th>15886</th>\n",
       "      <td>1387</td>\n",
       "      <td>Борис</td>\n",
       "      <td>27</td>\n",
       "      <td>Москва</td>\n",
       "      <td>free</td>\n",
       "      <td>4041.329925</td>\n",
       "      <td>18.154987</td>\n",
       "      <td>2021-02-17</td>\n",
       "      <td>2</td>\n",
       "    </tr>\n",
       "    <tr>\n",
       "      <th>6431</th>\n",
       "      <td>692</td>\n",
       "      <td>Денис</td>\n",
       "      <td>21</td>\n",
       "      <td>Сочи</td>\n",
       "      <td>ultra</td>\n",
       "      <td>3300.363169</td>\n",
       "      <td>18.901090</td>\n",
       "      <td>2021-02-01</td>\n",
       "      <td>2</td>\n",
       "    </tr>\n",
       "    <tr>\n",
       "      <th>12135</th>\n",
       "      <td>1115</td>\n",
       "      <td>Анна</td>\n",
       "      <td>29</td>\n",
       "      <td>Екатеринбург</td>\n",
       "      <td>free</td>\n",
       "      <td>3640.676705</td>\n",
       "      <td>29.803123</td>\n",
       "      <td>2021-08-23</td>\n",
       "      <td>8</td>\n",
       "    </tr>\n",
       "    <tr>\n",
       "      <th>8943</th>\n",
       "      <td>884</td>\n",
       "      <td>Александра</td>\n",
       "      <td>20</td>\n",
       "      <td>Москва</td>\n",
       "      <td>free</td>\n",
       "      <td>3861.523645</td>\n",
       "      <td>15.073540</td>\n",
       "      <td>2021-07-01</td>\n",
       "      <td>7</td>\n",
       "    </tr>\n",
       "    <tr>\n",
       "      <th>12350</th>\n",
       "      <td>1132</td>\n",
       "      <td>Наталия</td>\n",
       "      <td>20</td>\n",
       "      <td>Москва</td>\n",
       "      <td>free</td>\n",
       "      <td>3713.113060</td>\n",
       "      <td>22.568722</td>\n",
       "      <td>2021-03-23</td>\n",
       "      <td>3</td>\n",
       "    </tr>\n",
       "    <tr>\n",
       "      <th>4287</th>\n",
       "      <td>461</td>\n",
       "      <td>Яромир</td>\n",
       "      <td>20</td>\n",
       "      <td>Пятигорск</td>\n",
       "      <td>ultra</td>\n",
       "      <td>980.349369</td>\n",
       "      <td>5.100749</td>\n",
       "      <td>2021-12-13</td>\n",
       "      <td>12</td>\n",
       "    </tr>\n",
       "    <tr>\n",
       "      <th>1742</th>\n",
       "      <td>188</td>\n",
       "      <td>Жанна</td>\n",
       "      <td>21</td>\n",
       "      <td>Сочи</td>\n",
       "      <td>ultra</td>\n",
       "      <td>3009.395034</td>\n",
       "      <td>10.850596</td>\n",
       "      <td>2021-10-14</td>\n",
       "      <td>10</td>\n",
       "    </tr>\n",
       "    <tr>\n",
       "      <th>10194</th>\n",
       "      <td>973</td>\n",
       "      <td>Александр</td>\n",
       "      <td>27</td>\n",
       "      <td>Омск</td>\n",
       "      <td>free</td>\n",
       "      <td>2909.323026</td>\n",
       "      <td>19.468527</td>\n",
       "      <td>2021-10-15</td>\n",
       "      <td>10</td>\n",
       "    </tr>\n",
       "    <tr>\n",
       "      <th>15910</th>\n",
       "      <td>1389</td>\n",
       "      <td>Виолетта</td>\n",
       "      <td>25</td>\n",
       "      <td>Омск</td>\n",
       "      <td>free</td>\n",
       "      <td>2186.678299</td>\n",
       "      <td>16.288928</td>\n",
       "      <td>2021-01-20</td>\n",
       "      <td>1</td>\n",
       "    </tr>\n",
       "  </tbody>\n",
       "</table>\n",
       "</div>"
      ],
      "text/plain": [
       "       user_id        name  age          city subscription_type     distance  \\\n",
       "10182      972        Анна   16          Сочи              free  1227.501766   \n",
       "15886     1387       Борис   27        Москва              free  4041.329925   \n",
       "6431       692       Денис   21          Сочи             ultra  3300.363169   \n",
       "12135     1115        Анна   29  Екатеринбург              free  3640.676705   \n",
       "8943       884  Александра   20        Москва              free  3861.523645   \n",
       "12350     1132     Наталия   20        Москва              free  3713.113060   \n",
       "4287       461      Яромир   20     Пятигорск             ultra   980.349369   \n",
       "1742       188       Жанна   21          Сочи             ultra  3009.395034   \n",
       "10194      973   Александр   27          Омск              free  2909.323026   \n",
       "15910     1389    Виолетта   25          Омск              free  2186.678299   \n",
       "\n",
       "        duration       date  month  \n",
       "10182  16.603132 2021-10-22     10  \n",
       "15886  18.154987 2021-02-17      2  \n",
       "6431   18.901090 2021-02-01      2  \n",
       "12135  29.803123 2021-08-23      8  \n",
       "8943   15.073540 2021-07-01      7  \n",
       "12350  22.568722 2021-03-23      3  \n",
       "4287    5.100749 2021-12-13     12  \n",
       "1742   10.850596 2021-10-14     10  \n",
       "10194  19.468527 2021-10-15     10  \n",
       "15910  16.288928 2021-01-20      1  "
      ]
     },
     "execution_count": 24,
     "metadata": {},
     "output_type": "execute_result"
    }
   ],
   "source": [
    "big_data = data_users.merge(data_rides, on='user_id') # аргумент how по умлочанию 'inner', что значит пересечение данных\n",
    "big_data.sample(10)"
   ]
  },
  {
   "cell_type": "markdown",
   "id": "580b2685",
   "metadata": {},
   "source": [
    "Проверим размерность полученного датафрейма:"
   ]
  },
  {
   "cell_type": "code",
   "execution_count": 25,
   "id": "f9a8b589",
   "metadata": {},
   "outputs": [
    {
     "name": "stdout",
     "output_type": "stream",
     "text": [
      "<class 'pandas.core.frame.DataFrame'>\n",
      "Int64Index: 17973 entries, 0 to 17972\n",
      "Data columns (total 9 columns):\n",
      " #   Column             Non-Null Count  Dtype         \n",
      "---  ------             --------------  -----         \n",
      " 0   user_id            17973 non-null  int64         \n",
      " 1   name               17973 non-null  object        \n",
      " 2   age                17973 non-null  int64         \n",
      " 3   city               17973 non-null  object        \n",
      " 4   subscription_type  17973 non-null  object        \n",
      " 5   distance           17973 non-null  float64       \n",
      " 6   duration           17973 non-null  float64       \n",
      " 7   date               17973 non-null  datetime64[ns]\n",
      " 8   month              17973 non-null  int64         \n",
      "dtypes: datetime64[ns](1), float64(2), int64(3), object(3)\n",
      "memory usage: 1.4+ MB\n"
     ]
    }
   ],
   "source": [
    "big_data.info()"
   ]
  },
  {
   "cell_type": "markdown",
   "id": "899a6122",
   "metadata": {},
   "source": [
    "17973 строки, всё верно, данные по каждой поездке вошли в общий датафрейм."
   ]
  },
  {
   "cell_type": "markdown",
   "id": "8b440120",
   "metadata": {},
   "source": [
    "#### Создадим ещё два датафрейма с данными о пользователях с подпиской (ultra) и без подписки (free)"
   ]
  },
  {
   "cell_type": "code",
   "execution_count": 26,
   "id": "a0f264be",
   "metadata": {},
   "outputs": [
    {
     "name": "stdout",
     "output_type": "stream",
     "text": [
      "<class 'pandas.core.frame.DataFrame'>\n",
      "Int64Index: 11473 entries, 6500 to 17972\n",
      "Data columns (total 9 columns):\n",
      " #   Column             Non-Null Count  Dtype         \n",
      "---  ------             --------------  -----         \n",
      " 0   user_id            11473 non-null  int64         \n",
      " 1   name               11473 non-null  object        \n",
      " 2   age                11473 non-null  int64         \n",
      " 3   city               11473 non-null  object        \n",
      " 4   subscription_type  11473 non-null  object        \n",
      " 5   distance           11473 non-null  float64       \n",
      " 6   duration           11473 non-null  float64       \n",
      " 7   date               11473 non-null  datetime64[ns]\n",
      " 8   month              11473 non-null  int64         \n",
      "dtypes: datetime64[ns](1), float64(2), int64(3), object(3)\n",
      "memory usage: 896.3+ KB\n"
     ]
    }
   ],
   "source": [
    "users_free = big_data[big_data['subscription_type']=='free']\n",
    "users_free.info()"
   ]
  },
  {
   "cell_type": "code",
   "execution_count": 27,
   "id": "d2774ff2",
   "metadata": {},
   "outputs": [
    {
     "name": "stdout",
     "output_type": "stream",
     "text": [
      "<class 'pandas.core.frame.DataFrame'>\n",
      "Int64Index: 6500 entries, 0 to 6499\n",
      "Data columns (total 9 columns):\n",
      " #   Column             Non-Null Count  Dtype         \n",
      "---  ------             --------------  -----         \n",
      " 0   user_id            6500 non-null   int64         \n",
      " 1   name               6500 non-null   object        \n",
      " 2   age                6500 non-null   int64         \n",
      " 3   city               6500 non-null   object        \n",
      " 4   subscription_type  6500 non-null   object        \n",
      " 5   distance           6500 non-null   float64       \n",
      " 6   duration           6500 non-null   float64       \n",
      " 7   date               6500 non-null   datetime64[ns]\n",
      " 8   month              6500 non-null   int64         \n",
      "dtypes: datetime64[ns](1), float64(2), int64(3), object(3)\n",
      "memory usage: 507.8+ KB\n"
     ]
    }
   ],
   "source": [
    "users_ultra = big_data[big_data['subscription_type']=='ultra']\n",
    "users_ultra.info()"
   ]
  },
  {
   "cell_type": "markdown",
   "id": "8dd47afc",
   "metadata": {},
   "source": [
    "Сразу можно заметить, что поездок без подписки почти в 2 раза больше."
   ]
  },
  {
   "cell_type": "markdown",
   "id": "915a4edc",
   "metadata": {},
   "source": [
    "#### Визуализируем информацию о расстоянии и времени поездок для пользователей обеих категорий"
   ]
  },
  {
   "cell_type": "code",
   "execution_count": 28,
   "id": "77a7e693",
   "metadata": {},
   "outputs": [
    {
     "name": "stdout",
     "output_type": "stream",
     "text": [
      "count    11473.000000\n",
      "mean      3028.374239\n",
      "std       1235.541051\n",
      "min          0.855683\n",
      "25%       2360.878149\n",
      "50%       3102.083025\n",
      "75%       3883.979311\n",
      "max       7066.003772\n",
      "Name: distance, dtype: float64\n"
     ]
    },
    {
     "data": {
      "text/plain": [
       "count    6500.000000\n",
       "mean     3115.445388\n",
       "std       836.895330\n",
       "min       244.210438\n",
       "25%      2785.444017\n",
       "50%      3148.637229\n",
       "75%      3560.574425\n",
       "max      5699.769662\n",
       "Name: distance, dtype: float64"
      ]
     },
     "execution_count": 28,
     "metadata": {},
     "output_type": "execute_result"
    },
    {
     "data": {
      "image/png": "[encoded data removed]",
      "text/plain": [
       "<Figure size 432x288 with 1 Axes>"
      ]
     },
     "metadata": {
      "needs_background": "light"
     },
     "output_type": "display_data"
    }
   ],
   "source": [
    "users_free['distance'].hist(bins=100)\n",
    "users_ultra['distance'].hist(bins=100)\n",
    "\n",
    "plt.title(\"Расстояние поездок пользователей\")\n",
    "plt.xlabel(\"Расстояние\")\n",
    "plt.ylabel(\"Количество поездок\")\n",
    "\n",
    "print(users_free['distance'].describe())\n",
    "users_ultra['distance'].describe()"
   ]
  },
  {
   "cell_type": "markdown",
   "id": "307a08c0",
   "metadata": {},
   "source": [
    "Поездки пользователей с подпиской оранжевого цвета"
   ]
  },
  {
   "cell_type": "markdown",
   "id": "cb97a211",
   "metadata": {},
   "source": [
    "Медианы практически равны и распределения имеют схожую форму, но у пользователей без подписки значительно больше коротких поездок - до 1 км и в целом максимальная дальность поездки выше, чем у платных пользователей."
   ]
  },
  {
   "cell_type": "code",
   "execution_count": 29,
   "id": "7e275c7f",
   "metadata": {},
   "outputs": [
    {
     "name": "stdout",
     "output_type": "stream",
     "text": [
      "count    11473.000000\n",
      "mean        17.530771\n",
      "std          6.162609\n",
      "min          2.035632\n",
      "25%         13.085688\n",
      "50%         17.383807\n",
      "75%         21.638038\n",
      "max         34.948498\n",
      "Name: duration, dtype: float64\n"
     ]
    },
    {
     "data": {
      "text/plain": [
       "count    6500.000000\n",
       "mean       18.541985\n",
       "std         5.572048\n",
       "min         3.760353\n",
       "25%        14.524654\n",
       "50%        18.178153\n",
       "75%        21.884129\n",
       "max        40.823963\n",
       "Name: duration, dtype: float64"
      ]
     },
     "execution_count": 29,
     "metadata": {},
     "output_type": "execute_result"
    },
    {
     "data": {
      "image/png": "[encoded data removed]",
      "text/plain": [
       "<Figure size 432x288 with 1 Axes>"
      ]
     },
     "metadata": {
      "needs_background": "light"
     },
     "output_type": "display_data"
    }
   ],
   "source": [
    "users_free['duration'].hist(bins=100)\n",
    "users_ultra['duration'].hist(bins=100)\n",
    "\n",
    "plt.title(\"Длительность поездок пользователей\")\n",
    "plt.xlabel(\"Длительность\")\n",
    "plt.ylabel(\"Количество поездок\")\n",
    "\n",
    "print(users_free['duration'].describe())\n",
    "users_ultra['duration'].describe()"
   ]
  },
  {
   "cell_type": "markdown",
   "id": "b6cb095e",
   "metadata": {},
   "source": [
    "Можно сделать вывод, что поведения пользователей с подпиской и без неё очень схожи, но в каждом из диапазонов бесплатных пользователей чуть больше, но их, как мы помним, и в целом больше."
   ]
  },
  {
   "cell_type": "markdown",
   "id": "402d620f",
   "metadata": {},
   "source": [
    "### Шаг 5. Подсчёт выручки"
   ]
  },
  {
   "cell_type": "code",
   "execution_count": 30,
   "id": "59b938fd",
   "metadata": {},
   "outputs": [
    {
     "data": {
      "text/plain": [
       "user_id              0\n",
       "name                 0\n",
       "age                  0\n",
       "city                 0\n",
       "subscription_type    0\n",
       "distance             0\n",
       "duration             0\n",
       "date                 0\n",
       "month                0\n",
       "dtype: int64"
      ]
     },
     "execution_count": 30,
     "metadata": {},
     "output_type": "execute_result"
    }
   ],
   "source": [
    "big_data.isna().sum()"
   ]
  },
  {
   "cell_type": "markdown",
   "id": "bd124006",
   "metadata": {},
   "source": [
    "В сводной таблице нет пропусков. Выведем её на экран:"
   ]
  },
  {
   "cell_type": "code",
   "execution_count": 31,
   "id": "3e07c951",
   "metadata": {},
   "outputs": [
    {
     "data": {
      "text/html": [
       "<div>\n",
       "<style scoped>\n",
       "    .dataframe tbody tr th:only-of-type {\n",
       "        vertical-align: middle;\n",
       "    }\n",
       "\n",
       "    .dataframe tbody tr th {\n",
       "        vertical-align: top;\n",
       "    }\n",
       "\n",
       "    .dataframe thead th {\n",
       "        text-align: right;\n",
       "    }\n",
       "</style>\n",
       "<table border=\"1\" class=\"dataframe\">\n",
       "  <thead>\n",
       "    <tr style=\"text-align: right;\">\n",
       "      <th></th>\n",
       "      <th>user_id</th>\n",
       "      <th>name</th>\n",
       "      <th>age</th>\n",
       "      <th>city</th>\n",
       "      <th>subscription_type</th>\n",
       "      <th>distance</th>\n",
       "      <th>duration</th>\n",
       "      <th>date</th>\n",
       "      <th>month</th>\n",
       "    </tr>\n",
       "  </thead>\n",
       "  <tbody>\n",
       "    <tr>\n",
       "      <th>6492</th>\n",
       "      <td>699</td>\n",
       "      <td>Оксана</td>\n",
       "      <td>22</td>\n",
       "      <td>Москва</td>\n",
       "      <td>ultra</td>\n",
       "      <td>3433.522627</td>\n",
       "      <td>19.734091</td>\n",
       "      <td>2021-03-29</td>\n",
       "      <td>3</td>\n",
       "    </tr>\n",
       "    <tr>\n",
       "      <th>6493</th>\n",
       "      <td>699</td>\n",
       "      <td>Оксана</td>\n",
       "      <td>22</td>\n",
       "      <td>Москва</td>\n",
       "      <td>ultra</td>\n",
       "      <td>4072.797406</td>\n",
       "      <td>16.575991</td>\n",
       "      <td>2021-06-02</td>\n",
       "      <td>6</td>\n",
       "    </tr>\n",
       "    <tr>\n",
       "      <th>6494</th>\n",
       "      <td>699</td>\n",
       "      <td>Оксана</td>\n",
       "      <td>22</td>\n",
       "      <td>Москва</td>\n",
       "      <td>ultra</td>\n",
       "      <td>3045.277646</td>\n",
       "      <td>19.610605</td>\n",
       "      <td>2021-08-25</td>\n",
       "      <td>8</td>\n",
       "    </tr>\n",
       "    <tr>\n",
       "      <th>6495</th>\n",
       "      <td>699</td>\n",
       "      <td>Оксана</td>\n",
       "      <td>22</td>\n",
       "      <td>Москва</td>\n",
       "      <td>ultra</td>\n",
       "      <td>3973.046497</td>\n",
       "      <td>24.671163</td>\n",
       "      <td>2021-08-29</td>\n",
       "      <td>8</td>\n",
       "    </tr>\n",
       "    <tr>\n",
       "      <th>6496</th>\n",
       "      <td>699</td>\n",
       "      <td>Оксана</td>\n",
       "      <td>22</td>\n",
       "      <td>Москва</td>\n",
       "      <td>ultra</td>\n",
       "      <td>3288.702563</td>\n",
       "      <td>15.892886</td>\n",
       "      <td>2021-09-12</td>\n",
       "      <td>9</td>\n",
       "    </tr>\n",
       "    <tr>\n",
       "      <th>6497</th>\n",
       "      <td>699</td>\n",
       "      <td>Оксана</td>\n",
       "      <td>22</td>\n",
       "      <td>Москва</td>\n",
       "      <td>ultra</td>\n",
       "      <td>3076.159348</td>\n",
       "      <td>14.389525</td>\n",
       "      <td>2021-09-26</td>\n",
       "      <td>9</td>\n",
       "    </tr>\n",
       "    <tr>\n",
       "      <th>6498</th>\n",
       "      <td>699</td>\n",
       "      <td>Оксана</td>\n",
       "      <td>22</td>\n",
       "      <td>Москва</td>\n",
       "      <td>ultra</td>\n",
       "      <td>4707.845501</td>\n",
       "      <td>15.839579</td>\n",
       "      <td>2021-10-17</td>\n",
       "      <td>10</td>\n",
       "    </tr>\n",
       "    <tr>\n",
       "      <th>6499</th>\n",
       "      <td>699</td>\n",
       "      <td>Оксана</td>\n",
       "      <td>22</td>\n",
       "      <td>Москва</td>\n",
       "      <td>ultra</td>\n",
       "      <td>3202.890770</td>\n",
       "      <td>25.217345</td>\n",
       "      <td>2021-12-03</td>\n",
       "      <td>12</td>\n",
       "    </tr>\n",
       "    <tr>\n",
       "      <th>6500</th>\n",
       "      <td>700</td>\n",
       "      <td>Айдар</td>\n",
       "      <td>22</td>\n",
       "      <td>Омск</td>\n",
       "      <td>free</td>\n",
       "      <td>2515.690719</td>\n",
       "      <td>14.944286</td>\n",
       "      <td>2021-01-02</td>\n",
       "      <td>1</td>\n",
       "    </tr>\n",
       "    <tr>\n",
       "      <th>6501</th>\n",
       "      <td>700</td>\n",
       "      <td>Айдар</td>\n",
       "      <td>22</td>\n",
       "      <td>Омск</td>\n",
       "      <td>free</td>\n",
       "      <td>846.932642</td>\n",
       "      <td>16.234663</td>\n",
       "      <td>2021-02-01</td>\n",
       "      <td>2</td>\n",
       "    </tr>\n",
       "    <tr>\n",
       "      <th>6502</th>\n",
       "      <td>700</td>\n",
       "      <td>Айдар</td>\n",
       "      <td>22</td>\n",
       "      <td>Омск</td>\n",
       "      <td>free</td>\n",
       "      <td>4004.434142</td>\n",
       "      <td>20.016628</td>\n",
       "      <td>2021-02-04</td>\n",
       "      <td>2</td>\n",
       "    </tr>\n",
       "    <tr>\n",
       "      <th>6503</th>\n",
       "      <td>700</td>\n",
       "      <td>Айдар</td>\n",
       "      <td>22</td>\n",
       "      <td>Омск</td>\n",
       "      <td>free</td>\n",
       "      <td>1205.911290</td>\n",
       "      <td>9.782872</td>\n",
       "      <td>2021-02-10</td>\n",
       "      <td>2</td>\n",
       "    </tr>\n",
       "    <tr>\n",
       "      <th>6504</th>\n",
       "      <td>700</td>\n",
       "      <td>Айдар</td>\n",
       "      <td>22</td>\n",
       "      <td>Омск</td>\n",
       "      <td>free</td>\n",
       "      <td>3047.379435</td>\n",
       "      <td>17.427673</td>\n",
       "      <td>2021-02-14</td>\n",
       "      <td>2</td>\n",
       "    </tr>\n",
       "  </tbody>\n",
       "</table>\n",
       "</div>"
      ],
      "text/plain": [
       "      user_id    name  age    city subscription_type     distance   duration  \\\n",
       "6492      699  Оксана   22  Москва             ultra  3433.522627  19.734091   \n",
       "6493      699  Оксана   22  Москва             ultra  4072.797406  16.575991   \n",
       "6494      699  Оксана   22  Москва             ultra  3045.277646  19.610605   \n",
       "6495      699  Оксана   22  Москва             ultra  3973.046497  24.671163   \n",
       "6496      699  Оксана   22  Москва             ultra  3288.702563  15.892886   \n",
       "6497      699  Оксана   22  Москва             ultra  3076.159348  14.389525   \n",
       "6498      699  Оксана   22  Москва             ultra  4707.845501  15.839579   \n",
       "6499      699  Оксана   22  Москва             ultra  3202.890770  25.217345   \n",
       "6500      700   Айдар   22    Омск              free  2515.690719  14.944286   \n",
       "6501      700   Айдар   22    Омск              free   846.932642  16.234663   \n",
       "6502      700   Айдар   22    Омск              free  4004.434142  20.016628   \n",
       "6503      700   Айдар   22    Омск              free  1205.911290   9.782872   \n",
       "6504      700   Айдар   22    Омск              free  3047.379435  17.427673   \n",
       "\n",
       "           date  month  \n",
       "6492 2021-03-29      3  \n",
       "6493 2021-06-02      6  \n",
       "6494 2021-08-25      8  \n",
       "6495 2021-08-29      8  \n",
       "6496 2021-09-12      9  \n",
       "6497 2021-09-26      9  \n",
       "6498 2021-10-17     10  \n",
       "6499 2021-12-03     12  \n",
       "6500 2021-01-02      1  \n",
       "6501 2021-02-01      2  \n",
       "6502 2021-02-04      2  \n",
       "6503 2021-02-10      2  \n",
       "6504 2021-02-14      2  "
      ]
     },
     "execution_count": 31,
     "metadata": {},
     "output_type": "execute_result"
    }
   ],
   "source": [
    "big_data[big_data['user_id'] > 698].head(13)"
   ]
  },
  {
   "cell_type": "markdown",
   "id": "f09e6303",
   "metadata": {},
   "source": [
    "Заметим, что начиная с 700 пользователя начинаются пользователи без подписки."
   ]
  },
  {
   "cell_type": "markdown",
   "id": "7f78da52",
   "metadata": {},
   "source": [
    "#### Найдём суммарное расстояние, количество поездок и суммарное время для каждого пользователя за каждый месяц"
   ]
  },
  {
   "cell_type": "code",
   "execution_count": 32,
   "id": "605e26bb",
   "metadata": {},
   "outputs": [
    {
     "data": {
      "text/html": [
       "<div>\n",
       "<style scoped>\n",
       "    .dataframe tbody tr th:only-of-type {\n",
       "        vertical-align: middle;\n",
       "    }\n",
       "\n",
       "    .dataframe tbody tr th {\n",
       "        vertical-align: top;\n",
       "    }\n",
       "\n",
       "    .dataframe thead th {\n",
       "        text-align: right;\n",
       "    }\n",
       "</style>\n",
       "<table border=\"1\" class=\"dataframe\">\n",
       "  <thead>\n",
       "    <tr style=\"text-align: right;\">\n",
       "      <th></th>\n",
       "      <th></th>\n",
       "      <th>distance</th>\n",
       "      <th>duration</th>\n",
       "      <th>count</th>\n",
       "    </tr>\n",
       "    <tr>\n",
       "      <th>user_id</th>\n",
       "      <th>month</th>\n",
       "      <th></th>\n",
       "      <th></th>\n",
       "      <th></th>\n",
       "    </tr>\n",
       "  </thead>\n",
       "  <tbody>\n",
       "    <tr>\n",
       "      <th rowspan=\"6\" valign=\"top\">1</th>\n",
       "      <th>1</th>\n",
       "      <td>7027.511294</td>\n",
       "      <td>41.416640</td>\n",
       "      <td>2</td>\n",
       "    </tr>\n",
       "    <tr>\n",
       "      <th>4</th>\n",
       "      <td>754.159807</td>\n",
       "      <td>6.232113</td>\n",
       "      <td>1</td>\n",
       "    </tr>\n",
       "    <tr>\n",
       "      <th>8</th>\n",
       "      <td>6723.470560</td>\n",
       "      <td>44.776802</td>\n",
       "      <td>2</td>\n",
       "    </tr>\n",
       "    <tr>\n",
       "      <th>10</th>\n",
       "      <td>5809.911100</td>\n",
       "      <td>31.578017</td>\n",
       "      <td>2</td>\n",
       "    </tr>\n",
       "    <tr>\n",
       "      <th>11</th>\n",
       "      <td>7003.499363</td>\n",
       "      <td>53.397424</td>\n",
       "      <td>3</td>\n",
       "    </tr>\n",
       "    <tr>\n",
       "      <th>12</th>\n",
       "      <td>6751.629942</td>\n",
       "      <td>27.203912</td>\n",
       "      <td>2</td>\n",
       "    </tr>\n",
       "    <tr>\n",
       "      <th rowspan=\"7\" valign=\"top\">2</th>\n",
       "      <th>3</th>\n",
       "      <td>10187.723006</td>\n",
       "      <td>60.959959</td>\n",
       "      <td>3</td>\n",
       "    </tr>\n",
       "    <tr>\n",
       "      <th>4</th>\n",
       "      <td>6164.381824</td>\n",
       "      <td>39.048633</td>\n",
       "      <td>2</td>\n",
       "    </tr>\n",
       "    <tr>\n",
       "      <th>6</th>\n",
       "      <td>3255.338202</td>\n",
       "      <td>13.851127</td>\n",
       "      <td>1</td>\n",
       "    </tr>\n",
       "    <tr>\n",
       "      <th>7</th>\n",
       "      <td>6780.722964</td>\n",
       "      <td>46.170157</td>\n",
       "      <td>2</td>\n",
       "    </tr>\n",
       "    <tr>\n",
       "      <th>8</th>\n",
       "      <td>923.007439</td>\n",
       "      <td>6.914760</td>\n",
       "      <td>1</td>\n",
       "    </tr>\n",
       "    <tr>\n",
       "      <th>10</th>\n",
       "      <td>2824.636598</td>\n",
       "      <td>18.779128</td>\n",
       "      <td>1</td>\n",
       "    </tr>\n",
       "    <tr>\n",
       "      <th>12</th>\n",
       "      <td>3828.248580</td>\n",
       "      <td>11.920514</td>\n",
       "      <td>1</td>\n",
       "    </tr>\n",
       "  </tbody>\n",
       "</table>\n",
       "</div>"
      ],
      "text/plain": [
       "                   distance   duration  count\n",
       "user_id month                                \n",
       "1       1       7027.511294  41.416640      2\n",
       "        4        754.159807   6.232113      1\n",
       "        8       6723.470560  44.776802      2\n",
       "        10      5809.911100  31.578017      2\n",
       "        11      7003.499363  53.397424      3\n",
       "        12      6751.629942  27.203912      2\n",
       "2       3      10187.723006  60.959959      3\n",
       "        4       6164.381824  39.048633      2\n",
       "        6       3255.338202  13.851127      1\n",
       "        7       6780.722964  46.170157      2\n",
       "        8        923.007439   6.914760      1\n",
       "        10      2824.636598  18.779128      1\n",
       "        12      3828.248580  11.920514      1"
      ]
     },
     "execution_count": 32,
     "metadata": {},
     "output_type": "execute_result"
    }
   ],
   "source": [
    "users_by_month = big_data.groupby(['user_id', 'month']).agg({'distance':'sum',\n",
    "                                                             'duration':'sum',\n",
    "                                                             'name':'count'})\n",
    "users_by_month.columns=['distance', 'duration', 'count']\n",
    "users_by_month.head(13)"
   ]
  },
  {
   "cell_type": "markdown",
   "id": "b3e1c2fe",
   "metadata": {},
   "source": [
    "#### Вычислим помесячную выручку, которую принёс каждый пользователь"
   ]
  },
  {
   "cell_type": "code",
   "execution_count": 33,
   "id": "ad8c1848",
   "metadata": {},
   "outputs": [],
   "source": [
    "users_by_month = users_by_month.reset_index() #Сбросим индексы"
   ]
  },
  {
   "cell_type": "markdown",
   "id": "ffcc48a8",
   "metadata": {},
   "source": [
    "Перед агрегацией продолжительность поездки должна быьб округлена в большую сторону:"
   ]
  },
  {
   "cell_type": "code",
   "execution_count": 34,
   "id": "1751f5be",
   "metadata": {},
   "outputs": [],
   "source": [
    "users_by_month['duration'] = np.ceil(users_by_month['duration'])"
   ]
  },
  {
   "cell_type": "markdown",
   "id": "8a0e638d",
   "metadata": {},
   "source": [
    "Зная, что с 700 пользователя находятся пользователи без подписки, рассчитаем прибыль каждого пользователя."
   ]
  },
  {
   "cell_type": "code",
   "execution_count": 35,
   "id": "60a425f2",
   "metadata": {},
   "outputs": [],
   "source": [
    "first_free_user_id = 700"
   ]
  },
  {
   "cell_type": "code",
   "execution_count": 36,
   "id": "155bbf9b",
   "metadata": {},
   "outputs": [],
   "source": [
    "users_by_month.loc[users_by_month['user_id'] < first_free_user_id, 'profit'] =\\\n",
    "    users_by_month['duration']*6 + 199\n",
    "users_by_month.loc[users_by_month['user_id'] >= first_free_user_id, 'profit'] =\\\n",
    "    users_by_month['duration']*8 + users_by_month['count']*50"
   ]
  },
  {
   "cell_type": "code",
   "execution_count": 37,
   "id": "7579fde7",
   "metadata": {},
   "outputs": [
    {
     "data": {
      "text/html": [
       "<div>\n",
       "<style scoped>\n",
       "    .dataframe tbody tr th:only-of-type {\n",
       "        vertical-align: middle;\n",
       "    }\n",
       "\n",
       "    .dataframe tbody tr th {\n",
       "        vertical-align: top;\n",
       "    }\n",
       "\n",
       "    .dataframe thead th {\n",
       "        text-align: right;\n",
       "    }\n",
       "</style>\n",
       "<table border=\"1\" class=\"dataframe\">\n",
       "  <thead>\n",
       "    <tr style=\"text-align: right;\">\n",
       "      <th></th>\n",
       "      <th>user_id</th>\n",
       "      <th>month</th>\n",
       "      <th>distance</th>\n",
       "      <th>duration</th>\n",
       "      <th>count</th>\n",
       "      <th>profit</th>\n",
       "    </tr>\n",
       "  </thead>\n",
       "  <tbody>\n",
       "    <tr>\n",
       "      <th>0</th>\n",
       "      <td>1</td>\n",
       "      <td>1</td>\n",
       "      <td>7027.511294</td>\n",
       "      <td>42.0</td>\n",
       "      <td>2</td>\n",
       "      <td>451.0</td>\n",
       "    </tr>\n",
       "    <tr>\n",
       "      <th>1</th>\n",
       "      <td>1</td>\n",
       "      <td>4</td>\n",
       "      <td>754.159807</td>\n",
       "      <td>7.0</td>\n",
       "      <td>1</td>\n",
       "      <td>241.0</td>\n",
       "    </tr>\n",
       "    <tr>\n",
       "      <th>2</th>\n",
       "      <td>1</td>\n",
       "      <td>8</td>\n",
       "      <td>6723.470560</td>\n",
       "      <td>45.0</td>\n",
       "      <td>2</td>\n",
       "      <td>469.0</td>\n",
       "    </tr>\n",
       "    <tr>\n",
       "      <th>3</th>\n",
       "      <td>1</td>\n",
       "      <td>10</td>\n",
       "      <td>5809.911100</td>\n",
       "      <td>32.0</td>\n",
       "      <td>2</td>\n",
       "      <td>391.0</td>\n",
       "    </tr>\n",
       "    <tr>\n",
       "      <th>4</th>\n",
       "      <td>1</td>\n",
       "      <td>11</td>\n",
       "      <td>7003.499363</td>\n",
       "      <td>54.0</td>\n",
       "      <td>3</td>\n",
       "      <td>523.0</td>\n",
       "    </tr>\n",
       "    <tr>\n",
       "      <th>5</th>\n",
       "      <td>1</td>\n",
       "      <td>12</td>\n",
       "      <td>6751.629942</td>\n",
       "      <td>28.0</td>\n",
       "      <td>2</td>\n",
       "      <td>367.0</td>\n",
       "    </tr>\n",
       "    <tr>\n",
       "      <th>6</th>\n",
       "      <td>2</td>\n",
       "      <td>3</td>\n",
       "      <td>10187.723006</td>\n",
       "      <td>61.0</td>\n",
       "      <td>3</td>\n",
       "      <td>565.0</td>\n",
       "    </tr>\n",
       "    <tr>\n",
       "      <th>7</th>\n",
       "      <td>2</td>\n",
       "      <td>4</td>\n",
       "      <td>6164.381824</td>\n",
       "      <td>40.0</td>\n",
       "      <td>2</td>\n",
       "      <td>439.0</td>\n",
       "    </tr>\n",
       "    <tr>\n",
       "      <th>8</th>\n",
       "      <td>2</td>\n",
       "      <td>6</td>\n",
       "      <td>3255.338202</td>\n",
       "      <td>14.0</td>\n",
       "      <td>1</td>\n",
       "      <td>283.0</td>\n",
       "    </tr>\n",
       "    <tr>\n",
       "      <th>9</th>\n",
       "      <td>2</td>\n",
       "      <td>7</td>\n",
       "      <td>6780.722964</td>\n",
       "      <td>47.0</td>\n",
       "      <td>2</td>\n",
       "      <td>481.0</td>\n",
       "    </tr>\n",
       "    <tr>\n",
       "      <th>10</th>\n",
       "      <td>2</td>\n",
       "      <td>8</td>\n",
       "      <td>923.007439</td>\n",
       "      <td>7.0</td>\n",
       "      <td>1</td>\n",
       "      <td>241.0</td>\n",
       "    </tr>\n",
       "    <tr>\n",
       "      <th>11</th>\n",
       "      <td>2</td>\n",
       "      <td>10</td>\n",
       "      <td>2824.636598</td>\n",
       "      <td>19.0</td>\n",
       "      <td>1</td>\n",
       "      <td>313.0</td>\n",
       "    </tr>\n",
       "    <tr>\n",
       "      <th>12</th>\n",
       "      <td>2</td>\n",
       "      <td>12</td>\n",
       "      <td>3828.248580</td>\n",
       "      <td>12.0</td>\n",
       "      <td>1</td>\n",
       "      <td>271.0</td>\n",
       "    </tr>\n",
       "  </tbody>\n",
       "</table>\n",
       "</div>"
      ],
      "text/plain": [
       "    user_id  month      distance  duration  count  profit\n",
       "0         1      1   7027.511294      42.0      2   451.0\n",
       "1         1      4    754.159807       7.0      1   241.0\n",
       "2         1      8   6723.470560      45.0      2   469.0\n",
       "3         1     10   5809.911100      32.0      2   391.0\n",
       "4         1     11   7003.499363      54.0      3   523.0\n",
       "5         1     12   6751.629942      28.0      2   367.0\n",
       "6         2      3  10187.723006      61.0      3   565.0\n",
       "7         2      4   6164.381824      40.0      2   439.0\n",
       "8         2      6   3255.338202      14.0      1   283.0\n",
       "9         2      7   6780.722964      47.0      2   481.0\n",
       "10        2      8    923.007439       7.0      1   241.0\n",
       "11        2     10   2824.636598      19.0      1   313.0\n",
       "12        2     12   3828.248580      12.0      1   271.0"
      ]
     },
     "execution_count": 37,
     "metadata": {},
     "output_type": "execute_result"
    }
   ],
   "source": [
    "users_by_month.head(13)"
   ]
  },
  {
   "cell_type": "markdown",
   "id": "94acc4a2",
   "metadata": {},
   "source": [
    "Рассчитанная выручка пригодится нам при дальнейшем анализе."
   ]
  },
  {
   "cell_type": "markdown",
   "id": "41545ac0",
   "metadata": {},
   "source": [
    "### Шаг 6. Проверка гипотез"
   ]
  },
  {
   "cell_type": "markdown",
   "id": "3d449245",
   "metadata": {},
   "source": [
    "#### Проверим, тратят ли пользователи с подпиской больше времени на поездки"
   ]
  },
  {
   "cell_type": "markdown",
   "id": "f2ce65d1",
   "metadata": {},
   "source": [
    "Проведем односторонний t-тест для сравнения средних двух выборок.  \n",
    "*Нулевая гипотеза:* время, которое тратят пользователи с подпиской равно времени, которое тратят на поездки пользователи без подписки.  \n",
    "*Альтернативная гипотеза:* среднее значение времени, которое тратят пользователи с подпиской больше среднего значения времени, которое тратят на поездки пользователи без подписки.  \n",
    "Выборки разного размера и мы не уверены в равенстве их дисперсий, поэтому equal_var=False."
   ]
  },
  {
   "cell_type": "code",
   "execution_count": 38,
   "id": "300b7901",
   "metadata": {},
   "outputs": [
    {
     "name": "stdout",
     "output_type": "stream",
     "text": [
      "p-значение: 1.6162210195311063e-29\n",
      "Отвергаем гипотезу о равенстве средних в пользу альтернативной гипотезы\n"
     ]
    }
   ],
   "source": [
    "result = st.ttest_ind(users_ultra['duration'],\n",
    "                      users_free['duration'],\n",
    "                      equal_var=False,\n",
    "                      alternative='greater')\n",
    "print('p-значение:', result.pvalue)\n",
    "if result.pvalue < 0.01:\n",
    "    print('Отвергаем гипотезу о равенстве средних в пользу альтернативной гипотезы')\n",
    "else:\n",
    "    print('Не получилось отвергнуть нулевую гипотезу') "
   ]
  },
  {
   "cell_type": "markdown",
   "id": "4cb1a2dd",
   "metadata": {},
   "source": [
    "Не важно какой уровень статистической значимости 1% или 5%, p-значение крайне мало, а это значит что, *пользователи, у которых есть подписка, действительно тратят в среднем больше времени на поездки.*"
   ]
  },
  {
   "cell_type": "markdown",
   "id": "7f139f17",
   "metadata": {},
   "source": [
    "#### Узнаем какое расстояние проезжают пользователи с подпиской"
   ]
  },
  {
   "cell_type": "markdown",
   "id": "fb5ec11a",
   "metadata": {},
   "source": [
    "Проведем односторонний t-тест с правосторонней альтернативной гипотезой.  \n",
    "*Нулевая гипотеза:* среднее растояние, которое проезжают пользователи с подпиской равно 3130 метров.  \n",
    "*Альтернативная гипотеза:* среднее растояние, которое проезжают пользователи с подпиской больше 3130 метров."
   ]
  },
  {
   "cell_type": "code",
   "execution_count": 39,
   "id": "899ff23d",
   "metadata": {},
   "outputs": [
    {
     "name": "stdout",
     "output_type": "stream",
     "text": [
      "p-значение: 0.9195368847849785\n",
      "Не получилось отвергнуть нулевую гипотезу\n"
     ]
    }
   ],
   "source": [
    "result = st.ttest_1samp(users_ultra['distance'],\n",
    "                      3130,\n",
    "                      alternative='greater')\n",
    "print('p-значение:', result.pvalue)\n",
    "if result.pvalue < 0.05:\n",
    "    print('Отвергаем гипотезу о равенстве средних')\n",
    "else:\n",
    "    print('Не получилось отвергнуть нулевую гипотезу')"
   ]
  },
  {
   "cell_type": "markdown",
   "id": "7a56d330",
   "metadata": {},
   "source": [
    "T-тест показал, что *среднее расстояние, которое проезжают пользователи с подпиской не превышает 3130 метров.*"
   ]
  },
  {
   "cell_type": "markdown",
   "id": "88305c11",
   "metadata": {},
   "source": [
    "#### Проверим гипотезу о том, будет ли помесячная выручка от пользователей с подпиской по месяцам выше, чем выручка от пользователей без подписки"
   ]
  },
  {
   "cell_type": "markdown",
   "id": "981f0aaf",
   "metadata": {},
   "source": [
    "Проведем односторонний t-тест для сравнения средних двух выборок.  \n",
    "Нулевая гипотеза: выручка от пользователей с подпиской  равно выручке от пользователей без подписки.  \n",
    "Альтернативная гипотеза: выручка от пользователей с подпиской больше выручки от пользователей без подписки.  \n",
    "Выборки разного размера и мы не уверены в равенстве их дисперсий, поэтому equal_var=False."
   ]
  },
  {
   "cell_type": "code",
   "execution_count": 40,
   "id": "aa81fbe6",
   "metadata": {},
   "outputs": [],
   "source": [
    "profit_free = users_by_month[users_by_month['user_id'] >= 700]\n",
    "profit_free = profit_free['profit']"
   ]
  },
  {
   "cell_type": "code",
   "execution_count": 41,
   "id": "02780a6b",
   "metadata": {},
   "outputs": [],
   "source": [
    "profit_ultra = users_by_month[users_by_month['user_id'] < 700]\n",
    "profit_ultra = profit_ultra['profit']"
   ]
  },
  {
   "cell_type": "code",
   "execution_count": 42,
   "id": "95dbb30b",
   "metadata": {},
   "outputs": [
    {
     "name": "stdout",
     "output_type": "stream",
     "text": [
      "p-значение: 4.358240071530384e-43\n",
      "Отвергаем гипотезу о равенстве средних в пользу альтернативной гипотезы\n"
     ]
    }
   ],
   "source": [
    "result = st.ttest_ind(profit_ultra,\n",
    "                      profit_free,\n",
    "                      equal_var=False,\n",
    "                      alternative='greater')\n",
    "print('p-значение:', result.pvalue)\n",
    "if result.pvalue < 0.01:\n",
    "    print('Отвергаем гипотезу о равенстве средних в пользу альтернативной гипотезы')\n",
    "else:\n",
    "    print('Не получилось отвергнуть нулевую гипотезу') "
   ]
  },
  {
   "cell_type": "markdown",
   "id": "a0ad27b8",
   "metadata": {},
   "source": [
    "T-тест показал, что в среднем выручка от пользователей с подпиской выше выручки от пользователей без подписки, получается, что пользователи с подпиской \"выгоднее\" для компании."
   ]
  },
  {
   "cell_type": "markdown",
   "id": "c8eddd1e",
   "metadata": {},
   "source": [
    "#### Техническая команда сервиса обновила сервера, с которыми взаимодействует мобильное приложение. Она надеется, что из-за этого количество обращений в техподдержку значимо снизилось. Некоторый файл содержит для каждого пользователя данные о количестве обращений до обновления и после него. Какой тест вам понадобился бы для проверки этой гипотезы?"
   ]
  },
  {
   "cell_type": "markdown",
   "id": "fb9129f0",
   "metadata": {},
   "source": [
    "Для проверки данной гипотезы необходимо провести t-тест на равенство средних для двух зависимых выборок, первая выборка - количество обращений каждого пользователя до обновления, вторая выборка - количество обращений каждого пользователя после обновления.  \n",
    "Нулевая гипотеза: средние генеральных совокупностей равны.  \n",
    "Альтернативная гипотеза: среднее значение обращений до обновления больше среднего значения обращений после обновления.  \n",
    "Код выглядел бы примерно так: result = st.ttest_rel(array1, array2, alternative='greater')  \n",
    "Если p-value получилось бы меньше 5%, то всё хорошо, нулевая гипотеза отвергнута в пользу альтернативной, кол-во обращений действительно снизилось.  \n",
    "Если p-value получилось бы больше 5%, то это значит, что кол-во обращений не уменьшилось и технической команде нужно ещё поработать над обновлением."
   ]
  },
  {
   "cell_type": "markdown",
   "id": "61213c5e",
   "metadata": {},
   "source": [
    "### Шаг 7. Распределения"
   ]
  },
  {
   "cell_type": "markdown",
   "id": "8a955269",
   "metadata": {},
   "source": [
    "#### Проведем акцию и узнаем какое кол-во промокодов нужно разослать, чтобы с вероятностью 95% при вероятности оформления подписки в 10% после бесплатного пробного периода 100 клиентов продлили подписку."
   ]
  },
  {
   "cell_type": "markdown",
   "id": "410c4684",
   "metadata": {},
   "source": [
    "В данном случае у нас биномиальное распределение, клиент либо оформит подписку, либо нет.  \n",
    "Будем менять число n (кол-во промокодов) так, чтобы вероятность не выполнить план была примерно 5%"
   ]
  },
  {
   "cell_type": "code",
   "execution_count": 43,
   "id": "b9076127",
   "metadata": {},
   "outputs": [
    {
     "data": {
      "text/plain": [
       "0.04971489312694162"
      ]
     },
     "execution_count": 43,
     "metadata": {},
     "output_type": "execute_result"
    }
   ],
   "source": [
    "n = 1169 #кол-во экспериментов\n",
    "p = 0.1 #вероятность, что клиент оставит подписку\n",
    "mu = n * p #мат. ожидание\n",
    "sigma = sqrt(n * p * (1-p)) #стандартное отклонение\n",
    "distr = st.norm(mu, sigma) #первый аргумент - мат. ожидание, второй - стандартное отклонение\n",
    "\n",
    "x = 100 #число клиентов, которое хотим заполучить\n",
    "\n",
    "distr.cdf(x) #вероятность того, что кол-во клиентов, продливших подписку окажется меньше x"
   ]
  },
  {
   "cell_type": "markdown",
   "id": "80452a08",
   "metadata": {},
   "source": [
    "Построим график распределения:"
   ]
  },
  {
   "cell_type": "code",
   "execution_count": 44,
   "id": "038544a3",
   "metadata": {},
   "outputs": [
    {
     "data": {
      "image/png": "[encoded data removed]",
      "text/plain": [
       "<Figure size 432x288 with 1 Axes>"
      ]
     },
     "metadata": {
      "needs_background": "light"
     },
     "output_type": "display_data"
    }
   ],
   "source": [
    "n = 1169 #задаём параметры биномиального распределения\n",
    "p = 0.1\n",
    "\n",
    "left = int(n * p - 4 * sqrt(n * p * (1 - p))) #задаём границы промежутка\n",
    "right = int(n * p + 4 * sqrt(n * p * (1 - p)))\n",
    "\n",
    "x = list(range(left, right))\n",
    "ax = plt.subplot()\n",
    "ax.plot(x, binom.pmf(x, n, p));"
   ]
  },
  {
   "cell_type": "markdown",
   "id": "71016506",
   "metadata": {},
   "source": [
    "Таким образом, необходимо разослать 1169 промокодов, чтобы больше 100 клиентов продлили подписку с вероятностью 95%."
   ]
  },
  {
   "cell_type": "markdown",
   "id": "e6fbce32",
   "metadata": {},
   "source": [
    "#### Отдел маркетинга рассылает клиентам push-уведомления в мобильном приложении. Клиенты могут открыть его или не открывать. Известно, что уведомления открывают около 40% получивших клиентов. Отдел планирует разослать 1 млн уведомлений. С помощью аппроксимации построим примерный график распределения и оценим вероятность того, что уведомление откроют не более 399,5 тыс. пользователей."
   ]
  },
  {
   "cell_type": "markdown",
   "id": "ca5b417a",
   "metadata": {},
   "source": [
    "В данном случае мы снова имеет дело с биномиальным распределением."
   ]
  },
  {
   "cell_type": "code",
   "execution_count": 45,
   "id": "63d93f39",
   "metadata": {},
   "outputs": [
    {
     "data": {
      "image/png": "[encoded data removed]",
      "text/plain": [
       "<Figure size 432x288 with 1 Axes>"
      ]
     },
     "metadata": {
      "needs_background": "light"
     },
     "output_type": "display_data"
    }
   ],
   "source": [
    "n = 1000000 #задаём параметры биномиального распределения\n",
    "p = 0.4\n",
    "\n",
    "left = int(n * p - 4 * sqrt(n * p * (1 - p))) #задаём границы промежутка\n",
    "right = int(n * p + 4 * sqrt(n * p * (1 - p)))\n",
    "\n",
    "x = list(range(left, right))\n",
    "ax = plt.subplot()\n",
    "ax.plot(x, binom.pmf(x, n, p));"
   ]
  },
  {
   "cell_type": "code",
   "execution_count": 46,
   "id": "61aef8bb",
   "metadata": {},
   "outputs": [
    {
     "data": {
      "text/plain": [
       "0.15371708296369768"
      ]
     },
     "execution_count": 46,
     "metadata": {},
     "output_type": "execute_result"
    }
   ],
   "source": [
    "n = 1000000 #кол-во экспериментов\n",
    "p = 0.4 #вероятность, что клиент откроет уведомление\n",
    "mu = n * p #мат. ожидание\n",
    "sigma = sqrt(n * p * (1-p)) #стандартное отклонение\n",
    "distr = st.norm(mu, sigma) #первый аргумент - мат. ожидание, второй - стандартное отклонение\n",
    "\n",
    "x = 399500\n",
    "\n",
    "distr.cdf(x) #вероятность того, что кол-во клиентов, открывших уведомление окажется меньше x"
   ]
  },
  {
   "cell_type": "markdown",
   "id": "2588e531",
   "metadata": {},
   "source": [
    "Таким образом, вероятность того, что уведомление откроют не более 399,5 тыс. пользователей равняется примерно 15%"
   ]
  },
  {
   "cell_type": "markdown",
   "id": "87c97607",
   "metadata": {},
   "source": [
    "### Общий вывод"
   ]
  },
  {
   "cell_type": "markdown",
   "id": "6a95e4f2",
   "metadata": {},
   "source": [
    "В данной работе у нас стояла задача проанализировать данные и проверить некоторые гипотезы, которые помогли бы бизнесу вырасти.\n",
    "\n",
    "При предобработке данных, были исключены аномалии и дубликаты.\n",
    "Далее мы приступили к анализу полученных данных, для описания данных были использованы гистограммы (метод hist()), боксплоты (метод plot.box()).\n",
    "\n",
    "Далее был создан датафрейм с агрегированными данными и рассчитана помесячная выручка, которую принёс каждый пользователь.\n",
    "\n",
    "Затем мы приступили к проверке гипотез. В ходе исследования было проведено несколько t-тестов и были выявлены следующие зависимости:  \n",
    "- пользователи, у которых есть подписка, тратят в среднем больше времени на поездки, \n",
    "- расстояние, которое проезжают пользователи с подпиской за одну поездку, в среднем не превышает 3130 метров,  \n",
    "- в среднем выручка от пользователей с подпиской выше выручки от пользователей без подписки,  \n",
    "  \n",
    "В конце было проведено ещё несколько исследований для отдела маркетинга. Выяснилось, что необходимо разослать 1169 промокодов, чтобы с вероятностью 95% больше 100 клиентов продлили подписку. А также, если отдел планирует разослать 1 млн уведомлений, то с вероятностью 15% уведомление откроют не более 399,5 тыс. пользователей.  \n",
    "\n",
    "В заключение можно сказать, что компания может смело привлекать новых клиентов и стараться сделать так, чтобы пользователи оформляли подписку. Так выручка компании может вырасти и бизнес выйдет на новый уровень."
   ]
  }
 ],
 "metadata": {
  "ExecuteTimeLog": [
   {
    "duration": 44,
    "start_time": "2023-07-16T09:00:59.580Z"
   },
   {
    "duration": 417,
    "start_time": "2023-07-16T09:01:01.168Z"
   },
   {
    "duration": 110,
    "start_time": "2023-07-16T09:01:02.349Z"
   },
   {
    "duration": 36,
    "start_time": "2023-07-16T09:01:14.122Z"
   },
   {
    "duration": 39,
    "start_time": "2023-07-16T09:02:29.912Z"
   },
   {
    "duration": 169,
    "start_time": "2023-07-16T09:03:06.349Z"
   },
   {
    "duration": 69,
    "start_time": "2023-07-16T09:03:45.827Z"
   },
   {
    "duration": 30,
    "start_time": "2023-07-16T09:03:58.338Z"
   },
   {
    "duration": 369,
    "start_time": "2023-07-17T17:50:05.223Z"
   },
   {
    "duration": 84,
    "start_time": "2023-07-17T17:50:17.602Z"
   },
   {
    "duration": 70,
    "start_time": "2023-07-17T17:52:17.650Z"
   },
   {
    "duration": 79,
    "start_time": "2023-07-17T17:52:23.059Z"
   },
   {
    "duration": 68,
    "start_time": "2023-07-17T17:52:24.811Z"
   },
   {
    "duration": 15,
    "start_time": "2023-07-17T17:52:26.919Z"
   },
   {
    "duration": 6,
    "start_time": "2023-07-17T17:54:46.778Z"
   },
   {
    "duration": 9,
    "start_time": "2023-07-17T17:54:56.999Z"
   },
   {
    "duration": 10,
    "start_time": "2023-07-17T17:55:02.902Z"
   },
   {
    "duration": 9,
    "start_time": "2023-07-17T17:55:15.662Z"
   },
   {
    "duration": 9,
    "start_time": "2023-07-17T18:01:25.353Z"
   },
   {
    "duration": 6,
    "start_time": "2023-07-17T18:11:01.480Z"
   },
   {
    "duration": 6,
    "start_time": "2023-07-17T18:11:47.868Z"
   },
   {
    "duration": 7,
    "start_time": "2023-07-17T18:11:58.212Z"
   },
   {
    "duration": 6,
    "start_time": "2023-07-17T18:12:04.896Z"
   },
   {
    "duration": 7,
    "start_time": "2023-07-17T18:12:18.512Z"
   },
   {
    "duration": 17,
    "start_time": "2023-07-17T18:12:22.572Z"
   },
   {
    "duration": 7,
    "start_time": "2023-07-17T18:13:01.906Z"
   },
   {
    "duration": 11,
    "start_time": "2023-07-17T18:13:16.580Z"
   },
   {
    "duration": 6,
    "start_time": "2023-07-17T18:13:47.720Z"
   },
   {
    "duration": 5,
    "start_time": "2023-07-17T18:14:32.048Z"
   },
   {
    "duration": 7,
    "start_time": "2023-07-17T18:14:36.472Z"
   },
   {
    "duration": 8,
    "start_time": "2023-07-17T18:16:32.948Z"
   },
   {
    "duration": 7,
    "start_time": "2023-07-17T18:17:18.647Z"
   },
   {
    "duration": 8,
    "start_time": "2023-07-17T18:17:36.484Z"
   },
   {
    "duration": 618,
    "start_time": "2023-07-17T18:33:00.874Z"
   },
   {
    "duration": 212,
    "start_time": "2023-07-17T18:33:23.696Z"
   },
   {
    "duration": 249,
    "start_time": "2023-07-17T18:33:48.509Z"
   },
   {
    "duration": 101,
    "start_time": "2023-07-17T18:34:04.233Z"
   },
   {
    "duration": 172,
    "start_time": "2023-07-17T18:37:37.894Z"
   },
   {
    "duration": 116,
    "start_time": "2023-07-17T18:37:44.766Z"
   },
   {
    "duration": 10,
    "start_time": "2023-07-17T18:38:22.054Z"
   },
   {
    "duration": 3,
    "start_time": "2023-07-17T18:38:31.541Z"
   },
   {
    "duration": 156,
    "start_time": "2023-07-17T18:38:36.078Z"
   },
   {
    "duration": 116,
    "start_time": "2023-07-17T18:39:10.425Z"
   },
   {
    "duration": 15,
    "start_time": "2023-07-17T18:39:23.250Z"
   },
   {
    "duration": 120,
    "start_time": "2023-07-17T18:39:29.034Z"
   },
   {
    "duration": 117,
    "start_time": "2023-07-17T18:39:47.742Z"
   },
   {
    "duration": 116,
    "start_time": "2023-07-17T18:39:52.819Z"
   },
   {
    "duration": 154,
    "start_time": "2023-07-17T18:40:18.553Z"
   },
   {
    "duration": 188,
    "start_time": "2023-07-17T18:40:25.958Z"
   },
   {
    "duration": 126,
    "start_time": "2023-07-17T18:40:58.114Z"
   },
   {
    "duration": 111,
    "start_time": "2023-07-17T18:41:09.849Z"
   },
   {
    "duration": 143,
    "start_time": "2023-07-17T18:41:38.670Z"
   },
   {
    "duration": 110,
    "start_time": "2023-07-17T18:41:43.726Z"
   },
   {
    "duration": 126,
    "start_time": "2023-07-17T18:41:53.078Z"
   },
   {
    "duration": 110,
    "start_time": "2023-07-17T18:42:00.462Z"
   },
   {
    "duration": 144,
    "start_time": "2023-07-17T18:42:05.319Z"
   },
   {
    "duration": 108,
    "start_time": "2023-07-17T18:42:14.210Z"
   },
   {
    "duration": 121,
    "start_time": "2023-07-17T18:42:28.170Z"
   },
   {
    "duration": 157,
    "start_time": "2023-07-17T18:42:34.242Z"
   },
   {
    "duration": 116,
    "start_time": "2023-07-17T18:42:41.574Z"
   },
   {
    "duration": 11,
    "start_time": "2023-07-17T18:44:04.798Z"
   },
   {
    "duration": 11,
    "start_time": "2023-07-17T18:44:10.001Z"
   },
   {
    "duration": 109,
    "start_time": "2023-07-17T18:49:23.445Z"
   },
   {
    "duration": 98,
    "start_time": "2023-07-17T18:49:36.733Z"
   },
   {
    "duration": 111,
    "start_time": "2023-07-17T18:49:44.333Z"
   },
   {
    "duration": 126,
    "start_time": "2023-07-17T18:49:52.589Z"
   },
   {
    "duration": 111,
    "start_time": "2023-07-17T18:52:53.717Z"
   },
   {
    "duration": 112,
    "start_time": "2023-07-17T18:53:21.506Z"
   },
   {
    "duration": 1280,
    "start_time": "2023-07-17T18:53:50.414Z"
   },
   {
    "duration": 95,
    "start_time": "2023-07-17T18:54:21.268Z"
   },
   {
    "duration": 10,
    "start_time": "2023-07-17T18:54:32.379Z"
   },
   {
    "duration": 13,
    "start_time": "2023-07-17T18:54:43.932Z"
   },
   {
    "duration": 1257,
    "start_time": "2023-07-17T18:55:08.041Z"
   },
   {
    "duration": 86,
    "start_time": "2023-07-17T18:55:10.089Z"
   },
   {
    "duration": 76,
    "start_time": "2023-07-17T18:55:10.988Z"
   },
   {
    "duration": 29,
    "start_time": "2023-07-17T18:55:11.932Z"
   },
   {
    "duration": 11,
    "start_time": "2023-07-17T18:55:14.244Z"
   },
   {
    "duration": 8,
    "start_time": "2023-07-17T18:55:15.514Z"
   },
   {
    "duration": 12,
    "start_time": "2023-07-17T18:55:16.253Z"
   },
   {
    "duration": 16,
    "start_time": "2023-07-17T18:55:19.497Z"
   },
   {
    "duration": 11,
    "start_time": "2023-07-17T18:55:21.314Z"
   },
   {
    "duration": 9,
    "start_time": "2023-07-17T18:55:22.832Z"
   },
   {
    "duration": 11,
    "start_time": "2023-07-17T18:55:37.557Z"
   },
   {
    "duration": 17,
    "start_time": "2023-07-17T18:55:38.381Z"
   },
   {
    "duration": 646,
    "start_time": "2023-07-17T18:56:06.485Z"
   },
   {
    "duration": 35,
    "start_time": "2023-07-17T18:56:07.133Z"
   },
   {
    "duration": 32,
    "start_time": "2023-07-17T18:56:07.436Z"
   },
   {
    "duration": 29,
    "start_time": "2023-07-17T18:56:07.789Z"
   },
   {
    "duration": 24,
    "start_time": "2023-07-17T18:56:08.785Z"
   },
   {
    "duration": 8,
    "start_time": "2023-07-17T18:56:10.344Z"
   },
   {
    "duration": 10,
    "start_time": "2023-07-17T18:56:10.595Z"
   },
   {
    "duration": 10,
    "start_time": "2023-07-17T18:56:13.052Z"
   },
   {
    "duration": 6,
    "start_time": "2023-07-17T18:56:14.084Z"
   },
   {
    "duration": 6,
    "start_time": "2023-07-17T18:56:15.372Z"
   },
   {
    "duration": 8,
    "start_time": "2023-07-17T18:56:17.073Z"
   },
   {
    "duration": 11,
    "start_time": "2023-07-17T18:56:19.773Z"
   },
   {
    "duration": 593,
    "start_time": "2023-07-17T18:56:57.956Z"
   },
   {
    "duration": 43,
    "start_time": "2023-07-17T18:56:58.784Z"
   },
   {
    "duration": 31,
    "start_time": "2023-07-17T18:56:59.040Z"
   },
   {
    "duration": 28,
    "start_time": "2023-07-17T18:56:59.292Z"
   },
   {
    "duration": 12,
    "start_time": "2023-07-17T18:57:00.052Z"
   },
   {
    "duration": 6,
    "start_time": "2023-07-17T18:57:00.584Z"
   },
   {
    "duration": 11,
    "start_time": "2023-07-17T18:57:00.893Z"
   },
   {
    "duration": 14,
    "start_time": "2023-07-17T18:57:03.611Z"
   },
   {
    "duration": 7,
    "start_time": "2023-07-17T18:57:05.372Z"
   },
   {
    "duration": 8,
    "start_time": "2023-07-17T18:57:06.344Z"
   },
   {
    "duration": 16,
    "start_time": "2023-07-17T18:57:08.648Z"
   },
   {
    "duration": 87,
    "start_time": "2023-07-17T18:57:46.591Z"
   },
   {
    "duration": 11,
    "start_time": "2023-07-17T18:57:51.152Z"
   },
   {
    "duration": 7,
    "start_time": "2023-07-17T18:58:14.147Z"
   },
   {
    "duration": 11,
    "start_time": "2023-07-17T18:58:15.643Z"
   },
   {
    "duration": 10,
    "start_time": "2023-07-17T18:58:25.855Z"
   },
   {
    "duration": 130,
    "start_time": "2023-07-17T18:58:28.992Z"
   },
   {
    "duration": 117,
    "start_time": "2023-07-17T18:58:30.514Z"
   },
   {
    "duration": 138,
    "start_time": "2023-07-17T18:59:09.131Z"
   },
   {
    "duration": 112,
    "start_time": "2023-07-17T19:00:27.671Z"
   },
   {
    "duration": 137,
    "start_time": "2023-07-17T19:00:41.951Z"
   },
   {
    "duration": 116,
    "start_time": "2023-07-17T19:01:31.481Z"
   },
   {
    "duration": 99,
    "start_time": "2023-07-17T19:01:38.546Z"
   },
   {
    "duration": 127,
    "start_time": "2023-07-17T19:02:18.138Z"
   },
   {
    "duration": 108,
    "start_time": "2023-07-17T19:02:23.062Z"
   },
   {
    "duration": 103,
    "start_time": "2023-07-17T19:04:17.834Z"
   },
   {
    "duration": 142,
    "start_time": "2023-07-17T19:06:08.283Z"
   },
   {
    "duration": 141,
    "start_time": "2023-07-17T19:06:15.490Z"
   },
   {
    "duration": 106,
    "start_time": "2023-07-17T19:08:54.571Z"
   },
   {
    "duration": 234,
    "start_time": "2023-07-17T19:10:45.246Z"
   },
   {
    "duration": 180,
    "start_time": "2023-07-17T19:10:52.684Z"
   },
   {
    "duration": 167,
    "start_time": "2023-07-17T19:11:20.054Z"
   },
   {
    "duration": 180,
    "start_time": "2023-07-17T19:11:32.090Z"
   },
   {
    "duration": 139,
    "start_time": "2023-07-17T19:11:47.766Z"
   },
   {
    "duration": 127,
    "start_time": "2023-07-17T19:15:24.227Z"
   },
   {
    "duration": 225,
    "start_time": "2023-07-17T19:16:07.986Z"
   },
   {
    "duration": 250,
    "start_time": "2023-07-17T19:18:46.978Z"
   },
   {
    "duration": 1259,
    "start_time": "2023-07-17T19:18:54.738Z"
   },
   {
    "duration": 292,
    "start_time": "2023-07-17T19:19:00.198Z"
   },
   {
    "duration": 1209,
    "start_time": "2023-07-17T19:19:32.026Z"
   },
   {
    "duration": 446,
    "start_time": "2023-07-17T19:19:38.382Z"
   },
   {
    "duration": 375,
    "start_time": "2023-07-17T19:19:47.174Z"
   },
   {
    "duration": 103,
    "start_time": "2023-07-17T19:58:34.449Z"
   },
   {
    "duration": 147,
    "start_time": "2023-07-17T19:58:47.879Z"
   },
   {
    "duration": 206,
    "start_time": "2023-07-17T19:58:54.385Z"
   },
   {
    "duration": 131,
    "start_time": "2023-07-17T19:58:58.298Z"
   },
   {
    "duration": 127,
    "start_time": "2023-07-17T19:59:09.616Z"
   },
   {
    "duration": 175,
    "start_time": "2023-07-17T19:59:14.887Z"
   },
   {
    "duration": 110,
    "start_time": "2023-07-17T19:59:22.048Z"
   },
   {
    "duration": 3,
    "start_time": "2023-07-17T20:10:00.093Z"
   },
   {
    "duration": 8,
    "start_time": "2023-07-17T20:10:30.100Z"
   },
   {
    "duration": 9,
    "start_time": "2023-07-17T20:10:40.371Z"
   },
   {
    "duration": 13,
    "start_time": "2023-07-17T20:10:41.962Z"
   },
   {
    "duration": 12,
    "start_time": "2023-07-17T20:11:22.112Z"
   },
   {
    "duration": 33,
    "start_time": "2023-07-17T20:11:29.083Z"
   },
   {
    "duration": 32,
    "start_time": "2023-07-17T20:11:54.149Z"
   },
   {
    "duration": 27,
    "start_time": "2023-07-17T20:12:38.172Z"
   },
   {
    "duration": 26,
    "start_time": "2023-07-17T20:13:00.626Z"
   },
   {
    "duration": 19,
    "start_time": "2023-07-17T20:13:44.996Z"
   },
   {
    "duration": 5,
    "start_time": "2023-07-17T20:15:04.496Z"
   },
   {
    "duration": 16,
    "start_time": "2023-07-17T20:15:10.708Z"
   },
   {
    "duration": 17,
    "start_time": "2023-07-17T20:15:47.533Z"
   },
   {
    "duration": 13,
    "start_time": "2023-07-17T20:16:27.573Z"
   },
   {
    "duration": 14,
    "start_time": "2023-07-17T20:16:32.466Z"
   },
   {
    "duration": 293,
    "start_time": "2023-07-17T20:19:54.079Z"
   },
   {
    "duration": 285,
    "start_time": "2023-07-17T20:20:06.663Z"
   },
   {
    "duration": 357,
    "start_time": "2023-07-17T20:20:09.898Z"
   },
   {
    "duration": 357,
    "start_time": "2023-07-17T20:20:15.603Z"
   },
   {
    "duration": 283,
    "start_time": "2023-07-17T20:20:18.166Z"
   },
   {
    "duration": 198,
    "start_time": "2023-07-17T20:21:02.489Z"
   },
   {
    "duration": 183,
    "start_time": "2023-07-17T20:21:07.056Z"
   },
   {
    "duration": 241,
    "start_time": "2023-07-17T20:21:09.816Z"
   },
   {
    "duration": 215,
    "start_time": "2023-07-17T20:21:45.319Z"
   },
   {
    "duration": 227,
    "start_time": "2023-07-17T20:21:47.981Z"
   },
   {
    "duration": 255,
    "start_time": "2023-07-17T20:21:56.015Z"
   },
   {
    "duration": 224,
    "start_time": "2023-07-17T20:22:08.199Z"
   },
   {
    "duration": 367,
    "start_time": "2023-07-17T20:26:08.809Z"
   },
   {
    "duration": 302,
    "start_time": "2023-07-17T20:26:17.755Z"
   },
   {
    "duration": 290,
    "start_time": "2023-07-17T20:36:59.089Z"
   },
   {
    "duration": 12,
    "start_time": "2023-07-17T20:43:12.756Z"
   },
   {
    "duration": 294,
    "start_time": "2023-07-17T20:43:51.582Z"
   },
   {
    "duration": 372,
    "start_time": "2023-07-17T20:43:58.338Z"
   },
   {
    "duration": 338,
    "start_time": "2023-07-17T20:44:07.250Z"
   },
   {
    "duration": 310,
    "start_time": "2023-07-17T20:44:18.623Z"
   },
   {
    "duration": 210,
    "start_time": "2023-07-17T20:44:35.699Z"
   },
   {
    "duration": 851,
    "start_time": "2023-07-18T09:38:57.358Z"
   },
   {
    "duration": 105,
    "start_time": "2023-07-18T09:38:59.884Z"
   },
   {
    "duration": 188,
    "start_time": "2023-07-18T09:39:05.682Z"
   },
   {
    "duration": 74,
    "start_time": "2023-07-18T09:39:06.820Z"
   },
   {
    "duration": 13,
    "start_time": "2023-07-18T09:39:18.487Z"
   },
   {
    "duration": 6,
    "start_time": "2023-07-18T09:39:20.639Z"
   },
   {
    "duration": 10,
    "start_time": "2023-07-18T09:39:25.030Z"
   },
   {
    "duration": 12,
    "start_time": "2023-07-18T09:39:38.738Z"
   },
   {
    "duration": 6,
    "start_time": "2023-07-18T09:39:40.655Z"
   },
   {
    "duration": 7,
    "start_time": "2023-07-18T09:39:42.334Z"
   },
   {
    "duration": 9,
    "start_time": "2023-07-18T09:39:44.260Z"
   },
   {
    "duration": 13,
    "start_time": "2023-07-18T09:39:45.726Z"
   },
   {
    "duration": 144,
    "start_time": "2023-07-18T09:39:54.361Z"
   },
   {
    "duration": 112,
    "start_time": "2023-07-18T09:39:57.443Z"
   },
   {
    "duration": 145,
    "start_time": "2023-07-18T09:39:59.476Z"
   },
   {
    "duration": 313,
    "start_time": "2023-07-18T09:40:02.282Z"
   },
   {
    "duration": 339,
    "start_time": "2023-07-18T09:40:15.010Z"
   },
   {
    "duration": 24,
    "start_time": "2023-07-18T09:40:21.768Z"
   },
   {
    "duration": 13,
    "start_time": "2023-07-18T09:43:16.952Z"
   },
   {
    "duration": 13,
    "start_time": "2023-07-18T09:43:18.010Z"
   },
   {
    "duration": 334,
    "start_time": "2023-07-18T09:43:20.476Z"
   },
   {
    "duration": 347,
    "start_time": "2023-07-18T09:45:04.763Z"
   },
   {
    "duration": 69,
    "start_time": "2023-07-18T09:58:49.800Z"
   },
   {
    "duration": 7,
    "start_time": "2023-07-18T09:58:54.769Z"
   },
   {
    "duration": 4020,
    "start_time": "2023-07-18T10:01:02.516Z"
   },
   {
    "duration": 3181,
    "start_time": "2023-07-18T10:01:07.884Z"
   },
   {
    "duration": 14,
    "start_time": "2023-07-18T10:01:40.860Z"
   },
   {
    "duration": 14,
    "start_time": "2023-07-18T10:02:05.560Z"
   },
   {
    "duration": 14,
    "start_time": "2023-07-18T10:02:16.981Z"
   },
   {
    "duration": 12,
    "start_time": "2023-07-18T10:02:28.137Z"
   },
   {
    "duration": 6,
    "start_time": "2023-07-18T10:03:43.740Z"
   },
   {
    "duration": 13,
    "start_time": "2023-07-18T10:04:01.148Z"
   },
   {
    "duration": 16,
    "start_time": "2023-07-18T10:04:22.196Z"
   },
   {
    "duration": 17,
    "start_time": "2023-07-18T10:05:18.939Z"
   },
   {
    "duration": 14,
    "start_time": "2023-07-18T10:05:32.068Z"
   },
   {
    "duration": 15,
    "start_time": "2023-07-18T10:06:07.836Z"
   },
   {
    "duration": 15,
    "start_time": "2023-07-18T10:06:12.608Z"
   },
   {
    "duration": 19,
    "start_time": "2023-07-18T10:07:08.391Z"
   },
   {
    "duration": 66,
    "start_time": "2023-07-18T10:07:49.488Z"
   },
   {
    "duration": 17,
    "start_time": "2023-07-18T10:07:57.376Z"
   },
   {
    "duration": 23,
    "start_time": "2023-07-18T10:08:00.702Z"
   },
   {
    "duration": 12,
    "start_time": "2023-07-18T10:08:39.344Z"
   },
   {
    "duration": 27,
    "start_time": "2023-07-18T10:32:07.855Z"
   },
   {
    "duration": 23,
    "start_time": "2023-07-18T10:32:20.104Z"
   },
   {
    "duration": 25,
    "start_time": "2023-07-18T10:32:32.628Z"
   },
   {
    "duration": 32,
    "start_time": "2023-07-18T10:34:54.377Z"
   },
   {
    "duration": 15,
    "start_time": "2023-07-18T10:36:12.183Z"
   },
   {
    "duration": 31,
    "start_time": "2023-07-18T10:36:23.464Z"
   },
   {
    "duration": 20,
    "start_time": "2023-07-18T10:37:02.459Z"
   },
   {
    "duration": 20,
    "start_time": "2023-07-18T10:37:55.887Z"
   },
   {
    "duration": 76,
    "start_time": "2023-07-18T10:40:10.056Z"
   },
   {
    "duration": 27,
    "start_time": "2023-07-18T10:40:17.952Z"
   },
   {
    "duration": 19,
    "start_time": "2023-07-18T10:41:04.319Z"
   },
   {
    "duration": 33,
    "start_time": "2023-07-18T10:41:58.592Z"
   },
   {
    "duration": 300,
    "start_time": "2023-07-18T10:43:13.603Z"
   },
   {
    "duration": 31,
    "start_time": "2023-07-18T10:43:22.512Z"
   },
   {
    "duration": 37,
    "start_time": "2023-07-18T10:43:44.490Z"
   },
   {
    "duration": 32,
    "start_time": "2023-07-18T10:43:48.143Z"
   },
   {
    "duration": 31,
    "start_time": "2023-07-18T10:43:57.346Z"
   },
   {
    "duration": 12,
    "start_time": "2023-07-18T10:44:17.810Z"
   },
   {
    "duration": 13,
    "start_time": "2023-07-18T10:44:46.151Z"
   },
   {
    "duration": 13,
    "start_time": "2023-07-18T10:44:54.893Z"
   },
   {
    "duration": 7,
    "start_time": "2023-07-18T10:46:57.512Z"
   },
   {
    "duration": 14,
    "start_time": "2023-07-18T10:47:34.860Z"
   },
   {
    "duration": 9,
    "start_time": "2023-07-18T10:47:41.264Z"
   },
   {
    "duration": 13,
    "start_time": "2023-07-18T10:47:47.956Z"
   },
   {
    "duration": 13,
    "start_time": "2023-07-18T10:47:55.387Z"
   },
   {
    "duration": 12,
    "start_time": "2023-07-18T10:47:59.656Z"
   },
   {
    "duration": 7,
    "start_time": "2023-07-18T10:48:23.761Z"
   },
   {
    "duration": 13,
    "start_time": "2023-07-18T10:48:27.016Z"
   },
   {
    "duration": 13,
    "start_time": "2023-07-18T10:48:53.499Z"
   },
   {
    "duration": 20,
    "start_time": "2023-07-18T10:49:01.490Z"
   },
   {
    "duration": 1124,
    "start_time": "2023-07-18T10:49:33.971Z"
   },
   {
    "duration": 63,
    "start_time": "2023-07-18T10:49:40.699Z"
   },
   {
    "duration": 69,
    "start_time": "2023-07-18T10:49:45.363Z"
   },
   {
    "duration": 4,
    "start_time": "2023-07-18T10:49:50.609Z"
   },
   {
    "duration": 1126,
    "start_time": "2023-07-18T10:49:57.497Z"
   },
   {
    "duration": 17,
    "start_time": "2023-07-18T10:50:20.252Z"
   },
   {
    "duration": 18,
    "start_time": "2023-07-18T10:50:31.077Z"
   },
   {
    "duration": 20,
    "start_time": "2023-07-18T10:50:37.209Z"
   },
   {
    "duration": 17,
    "start_time": "2023-07-18T10:50:42.058Z"
   },
   {
    "duration": 17,
    "start_time": "2023-07-18T10:50:48.971Z"
   },
   {
    "duration": 21,
    "start_time": "2023-07-18T10:50:53.059Z"
   },
   {
    "duration": 17,
    "start_time": "2023-07-18T10:50:57.476Z"
   },
   {
    "duration": 17,
    "start_time": "2023-07-18T10:51:00.967Z"
   },
   {
    "duration": 16,
    "start_time": "2023-07-18T10:51:08.352Z"
   },
   {
    "duration": 17,
    "start_time": "2023-07-18T10:51:13.892Z"
   },
   {
    "duration": 13,
    "start_time": "2023-07-18T10:51:21.501Z"
   },
   {
    "duration": 15,
    "start_time": "2023-07-18T10:51:28.059Z"
   },
   {
    "duration": 15,
    "start_time": "2023-07-18T10:51:37.362Z"
   },
   {
    "duration": 14,
    "start_time": "2023-07-18T10:51:43.052Z"
   },
   {
    "duration": 15,
    "start_time": "2023-07-18T10:51:50.486Z"
   },
   {
    "duration": 15,
    "start_time": "2023-07-18T10:51:58.660Z"
   },
   {
    "duration": 14,
    "start_time": "2023-07-18T10:52:03.491Z"
   },
   {
    "duration": 14,
    "start_time": "2023-07-18T10:52:13.580Z"
   },
   {
    "duration": 13,
    "start_time": "2023-07-18T10:53:10.299Z"
   },
   {
    "duration": 14,
    "start_time": "2023-07-18T10:53:14.154Z"
   },
   {
    "duration": 14,
    "start_time": "2023-07-18T10:53:26.856Z"
   },
   {
    "duration": 34,
    "start_time": "2023-07-18T11:00:16.319Z"
   },
   {
    "duration": 897,
    "start_time": "2023-07-18T12:34:08.346Z"
   },
   {
    "duration": 91,
    "start_time": "2023-07-18T12:34:10.797Z"
   },
   {
    "duration": 90,
    "start_time": "2023-07-18T12:34:12.049Z"
   },
   {
    "duration": 61,
    "start_time": "2023-07-18T12:34:12.659Z"
   },
   {
    "duration": 14,
    "start_time": "2023-07-18T12:34:15.187Z"
   },
   {
    "duration": 8,
    "start_time": "2023-07-18T12:34:16.490Z"
   },
   {
    "duration": 13,
    "start_time": "2023-07-18T12:34:16.846Z"
   },
   {
    "duration": 14,
    "start_time": "2023-07-18T12:34:19.043Z"
   },
   {
    "duration": 8,
    "start_time": "2023-07-18T12:34:21.085Z"
   },
   {
    "duration": 7,
    "start_time": "2023-07-18T12:34:21.995Z"
   },
   {
    "duration": 9,
    "start_time": "2023-07-18T12:34:22.994Z"
   },
   {
    "duration": 13,
    "start_time": "2023-07-18T12:34:24.347Z"
   },
   {
    "duration": 185,
    "start_time": "2023-07-18T12:34:27.591Z"
   },
   {
    "duration": 145,
    "start_time": "2023-07-18T12:34:35.491Z"
   },
   {
    "duration": 211,
    "start_time": "2023-07-18T12:34:37.913Z"
   },
   {
    "duration": 381,
    "start_time": "2023-07-18T12:34:41.846Z"
   },
   {
    "duration": 436,
    "start_time": "2023-07-18T12:34:43.759Z"
   },
   {
    "duration": 25,
    "start_time": "2023-07-18T12:34:47.686Z"
   },
   {
    "duration": 17,
    "start_time": "2023-07-18T12:34:58.405Z"
   },
   {
    "duration": 15,
    "start_time": "2023-07-18T12:34:59.718Z"
   },
   {
    "duration": 424,
    "start_time": "2023-07-18T12:35:02.898Z"
   },
   {
    "duration": 428,
    "start_time": "2023-07-18T12:35:05.569Z"
   },
   {
    "duration": 99,
    "start_time": "2023-07-18T12:35:11.174Z"
   },
   {
    "duration": 39,
    "start_time": "2023-07-18T12:35:28.452Z"
   },
   {
    "duration": 18,
    "start_time": "2023-07-18T12:36:23.838Z"
   },
   {
    "duration": 13,
    "start_time": "2023-07-18T12:36:40.196Z"
   },
   {
    "duration": 14,
    "start_time": "2023-07-18T12:37:02.496Z"
   },
   {
    "duration": 4,
    "start_time": "2023-07-18T12:38:40.897Z"
   },
   {
    "duration": 16,
    "start_time": "2023-07-18T12:38:47.820Z"
   },
   {
    "duration": 3577,
    "start_time": "2023-07-18T12:41:09.150Z"
   },
   {
    "duration": 40,
    "start_time": "2023-07-18T12:41:17.083Z"
   },
   {
    "duration": 41,
    "start_time": "2023-07-18T12:41:34.009Z"
   },
   {
    "duration": 2709,
    "start_time": "2023-07-18T12:41:38.547Z"
   },
   {
    "duration": 2222,
    "start_time": "2023-07-18T12:41:51.324Z"
   },
   {
    "duration": 33,
    "start_time": "2023-07-18T12:41:58.947Z"
   },
   {
    "duration": 13,
    "start_time": "2023-07-18T12:42:23.320Z"
   },
   {
    "duration": 14,
    "start_time": "2023-07-18T12:44:04.579Z"
   },
   {
    "duration": 118,
    "start_time": "2023-07-18T12:46:35.558Z"
   },
   {
    "duration": 1785,
    "start_time": "2023-07-18T12:46:45.279Z"
   },
   {
    "duration": 20,
    "start_time": "2023-07-18T12:49:07.107Z"
   },
   {
    "duration": 17,
    "start_time": "2023-07-18T12:52:35.249Z"
   },
   {
    "duration": 31,
    "start_time": "2023-07-18T12:52:57.374Z"
   },
   {
    "duration": 27,
    "start_time": "2023-07-18T12:55:02.168Z"
   },
   {
    "duration": 1880,
    "start_time": "2023-07-18T12:56:50.689Z"
   },
   {
    "duration": 2509,
    "start_time": "2023-07-18T12:59:16.720Z"
   },
   {
    "duration": 19,
    "start_time": "2023-07-18T13:12:02.257Z"
   },
   {
    "duration": 34,
    "start_time": "2023-07-18T13:14:03.943Z"
   },
   {
    "duration": 39,
    "start_time": "2023-07-18T13:14:54.455Z"
   },
   {
    "duration": 35,
    "start_time": "2023-07-18T13:19:44.411Z"
   },
   {
    "duration": 27,
    "start_time": "2023-07-18T13:19:53.606Z"
   },
   {
    "duration": 4,
    "start_time": "2023-07-18T13:20:17.078Z"
   },
   {
    "duration": 29,
    "start_time": "2023-07-18T13:20:26.043Z"
   },
   {
    "duration": 23,
    "start_time": "2023-07-18T13:20:45.743Z"
   },
   {
    "duration": 34,
    "start_time": "2023-07-18T13:21:30.632Z"
   },
   {
    "duration": 34,
    "start_time": "2023-07-18T13:21:47.254Z"
   },
   {
    "duration": 35,
    "start_time": "2023-07-18T13:22:28.439Z"
   },
   {
    "duration": 38,
    "start_time": "2023-07-18T13:22:30.874Z"
   },
   {
    "duration": 9,
    "start_time": "2023-07-18T13:27:06.382Z"
   },
   {
    "duration": 9,
    "start_time": "2023-07-18T13:27:09.804Z"
   },
   {
    "duration": 11,
    "start_time": "2023-07-18T13:27:36.070Z"
   },
   {
    "duration": 21,
    "start_time": "2023-07-18T13:33:01.289Z"
   },
   {
    "duration": 19,
    "start_time": "2023-07-18T13:33:06.144Z"
   },
   {
    "duration": 18,
    "start_time": "2023-07-18T13:33:36.439Z"
   },
   {
    "duration": 12,
    "start_time": "2023-07-18T13:34:06.046Z"
   },
   {
    "duration": 34,
    "start_time": "2023-07-18T13:34:13.459Z"
   },
   {
    "duration": 38,
    "start_time": "2023-07-18T13:34:14.857Z"
   },
   {
    "duration": 29,
    "start_time": "2023-07-18T13:34:17.078Z"
   },
   {
    "duration": 14,
    "start_time": "2023-07-18T13:35:23.850Z"
   },
   {
    "duration": 15,
    "start_time": "2023-07-18T13:35:27.192Z"
   },
   {
    "duration": 10,
    "start_time": "2023-07-18T13:40:31.578Z"
   },
   {
    "duration": 10,
    "start_time": "2023-07-18T13:41:17.700Z"
   },
   {
    "duration": 9,
    "start_time": "2023-07-18T13:43:57.563Z"
   },
   {
    "duration": 35,
    "start_time": "2023-07-18T13:44:38.636Z"
   },
   {
    "duration": 39,
    "start_time": "2023-07-18T13:44:39.146Z"
   },
   {
    "duration": 8,
    "start_time": "2023-07-18T13:44:40.220Z"
   },
   {
    "duration": 126,
    "start_time": "2023-07-18T13:49:46.597Z"
   },
   {
    "duration": 3,
    "start_time": "2023-07-18T13:49:50.504Z"
   },
   {
    "duration": 41,
    "start_time": "2023-07-18T13:50:11.423Z"
   },
   {
    "duration": 38,
    "start_time": "2023-07-18T13:50:53.907Z"
   },
   {
    "duration": 19,
    "start_time": "2023-07-18T13:55:06.934Z"
   },
   {
    "duration": 9,
    "start_time": "2023-07-18T13:58:01.103Z"
   },
   {
    "duration": 19,
    "start_time": "2023-07-18T13:58:06.692Z"
   },
   {
    "duration": 19,
    "start_time": "2023-07-18T13:58:28.425Z"
   },
   {
    "duration": 15,
    "start_time": "2023-07-18T13:58:42.921Z"
   },
   {
    "duration": 17,
    "start_time": "2023-07-18T13:59:42.716Z"
   },
   {
    "duration": 19,
    "start_time": "2023-07-18T13:59:57.018Z"
   },
   {
    "duration": 18,
    "start_time": "2023-07-18T14:00:40.925Z"
   },
   {
    "duration": 18,
    "start_time": "2023-07-18T14:01:00.469Z"
   },
   {
    "duration": 19,
    "start_time": "2023-07-18T14:01:09.148Z"
   },
   {
    "duration": 12,
    "start_time": "2023-07-18T14:02:36.687Z"
   },
   {
    "duration": 2393,
    "start_time": "2023-07-18T14:02:42.333Z"
   },
   {
    "duration": 3258,
    "start_time": "2023-07-18T14:03:02.293Z"
   },
   {
    "duration": 2522,
    "start_time": "2023-07-18T14:03:08.490Z"
   },
   {
    "duration": 123,
    "start_time": "2023-07-18T14:03:13.520Z"
   },
   {
    "duration": 2530,
    "start_time": "2023-07-18T14:03:19.000Z"
   },
   {
    "duration": 5,
    "start_time": "2023-07-18T14:03:32.395Z"
   },
   {
    "duration": 20,
    "start_time": "2023-07-18T14:03:36.585Z"
   },
   {
    "duration": 110,
    "start_time": "2023-07-18T14:08:20.400Z"
   },
   {
    "duration": 222,
    "start_time": "2023-07-18T14:08:42.556Z"
   },
   {
    "duration": 97,
    "start_time": "2023-07-18T14:08:49.395Z"
   },
   {
    "duration": 20,
    "start_time": "2023-07-18T14:09:05.203Z"
   },
   {
    "duration": 20,
    "start_time": "2023-07-18T14:09:33.844Z"
   },
   {
    "duration": 19,
    "start_time": "2023-07-18T14:09:54.531Z"
   },
   {
    "duration": 20,
    "start_time": "2023-07-18T14:10:37.611Z"
   },
   {
    "duration": 19,
    "start_time": "2023-07-18T14:11:37.603Z"
   },
   {
    "duration": 21,
    "start_time": "2023-07-18T14:11:55.625Z"
   },
   {
    "duration": 25,
    "start_time": "2023-07-18T14:12:02.631Z"
   },
   {
    "duration": 19,
    "start_time": "2023-07-18T14:12:06.506Z"
   },
   {
    "duration": 19,
    "start_time": "2023-07-18T14:12:09.062Z"
   },
   {
    "duration": 4,
    "start_time": "2023-07-18T14:26:03.556Z"
   },
   {
    "duration": 18,
    "start_time": "2023-07-18T14:26:07.684Z"
   },
   {
    "duration": 17,
    "start_time": "2023-07-18T14:26:18.595Z"
   },
   {
    "duration": 1735,
    "start_time": "2023-07-18T14:29:24.657Z"
   },
   {
    "duration": 17,
    "start_time": "2023-07-18T14:29:43.159Z"
   },
   {
    "duration": 16,
    "start_time": "2023-07-18T14:30:22.261Z"
   },
   {
    "duration": 15,
    "start_time": "2023-07-18T14:32:08.758Z"
   },
   {
    "duration": 15,
    "start_time": "2023-07-18T14:32:20.307Z"
   },
   {
    "duration": 12,
    "start_time": "2023-07-18T14:32:30.664Z"
   },
   {
    "duration": 18,
    "start_time": "2023-07-18T14:32:39.209Z"
   },
   {
    "duration": 15,
    "start_time": "2023-07-18T14:32:42.070Z"
   },
   {
    "duration": 19,
    "start_time": "2023-07-18T14:33:45.647Z"
   },
   {
    "duration": 532,
    "start_time": "2023-07-18T14:33:59.663Z"
   },
   {
    "duration": 19,
    "start_time": "2023-07-18T14:34:13.385Z"
   },
   {
    "duration": 20,
    "start_time": "2023-07-18T14:34:15.019Z"
   },
   {
    "duration": 20,
    "start_time": "2023-07-18T14:34:42.745Z"
   },
   {
    "duration": 22,
    "start_time": "2023-07-18T14:34:48.132Z"
   },
   {
    "duration": 13,
    "start_time": "2023-07-18T14:34:54.083Z"
   },
   {
    "duration": 14,
    "start_time": "2023-07-18T14:34:55.958Z"
   },
   {
    "duration": 19,
    "start_time": "2023-07-18T14:35:04.166Z"
   },
   {
    "duration": 21,
    "start_time": "2023-07-18T14:35:05.777Z"
   },
   {
    "duration": 21,
    "start_time": "2023-07-18T14:35:18.697Z"
   },
   {
    "duration": 17,
    "start_time": "2023-07-18T14:35:24.443Z"
   },
   {
    "duration": 19,
    "start_time": "2023-07-18T14:36:07.358Z"
   },
   {
    "duration": 15,
    "start_time": "2023-07-18T14:36:08.691Z"
   },
   {
    "duration": 17,
    "start_time": "2023-07-18T14:36:14.077Z"
   },
   {
    "duration": 20,
    "start_time": "2023-07-18T14:36:40.579Z"
   },
   {
    "duration": 19,
    "start_time": "2023-07-18T14:37:03.803Z"
   },
   {
    "duration": 20,
    "start_time": "2023-07-18T14:37:05.789Z"
   },
   {
    "duration": 30,
    "start_time": "2023-07-18T14:37:18.321Z"
   },
   {
    "duration": 23,
    "start_time": "2023-07-18T14:37:23.738Z"
   },
   {
    "duration": 30,
    "start_time": "2023-07-18T14:37:27.102Z"
   },
   {
    "duration": 21,
    "start_time": "2023-07-18T14:37:37.933Z"
   },
   {
    "duration": 1968,
    "start_time": "2023-07-18T14:37:40.947Z"
   },
   {
    "duration": 20,
    "start_time": "2023-07-18T14:37:47.520Z"
   },
   {
    "duration": 14,
    "start_time": "2023-07-18T14:38:30.675Z"
   },
   {
    "duration": 14,
    "start_time": "2023-07-18T14:38:35.564Z"
   },
   {
    "duration": 18,
    "start_time": "2023-07-18T14:38:49.619Z"
   },
   {
    "duration": 21,
    "start_time": "2023-07-18T14:38:59.468Z"
   },
   {
    "duration": 21,
    "start_time": "2023-07-18T14:39:01.355Z"
   },
   {
    "duration": 18,
    "start_time": "2023-07-18T14:39:18.316Z"
   },
   {
    "duration": 5,
    "start_time": "2023-07-18T14:39:19.697Z"
   },
   {
    "duration": 16,
    "start_time": "2023-07-18T14:39:20.864Z"
   },
   {
    "duration": 17,
    "start_time": "2023-07-18T14:40:35.948Z"
   },
   {
    "duration": 21,
    "start_time": "2023-07-18T14:40:38.461Z"
   },
   {
    "duration": 5,
    "start_time": "2023-07-18T14:40:40.167Z"
   },
   {
    "duration": 17,
    "start_time": "2023-07-18T14:40:40.752Z"
   },
   {
    "duration": 22,
    "start_time": "2023-07-18T14:40:48.988Z"
   },
   {
    "duration": 5,
    "start_time": "2023-07-18T14:40:50.819Z"
   },
   {
    "duration": 21,
    "start_time": "2023-07-18T14:40:51.558Z"
   },
   {
    "duration": 14,
    "start_time": "2023-07-18T14:41:04.578Z"
   },
   {
    "duration": 23,
    "start_time": "2023-07-18T14:41:12.804Z"
   },
   {
    "duration": 5,
    "start_time": "2023-07-18T14:41:17.419Z"
   },
   {
    "duration": 20,
    "start_time": "2023-07-18T14:41:18.569Z"
   },
   {
    "duration": 109,
    "start_time": "2023-07-18T14:42:32.517Z"
   },
   {
    "duration": 8,
    "start_time": "2023-07-18T14:42:39.303Z"
   },
   {
    "duration": 15,
    "start_time": "2023-07-18T14:42:52.010Z"
   },
   {
    "duration": 14,
    "start_time": "2023-07-18T14:44:28.396Z"
   },
   {
    "duration": 2,
    "start_time": "2023-07-18T14:44:39.086Z"
   },
   {
    "duration": 22,
    "start_time": "2023-07-18T14:44:45.955Z"
   },
   {
    "duration": 8,
    "start_time": "2023-07-18T14:45:12.508Z"
   },
   {
    "duration": 12,
    "start_time": "2023-07-18T14:45:13.695Z"
   },
   {
    "duration": 13,
    "start_time": "2023-07-18T14:48:04.743Z"
   },
   {
    "duration": 14,
    "start_time": "2023-07-18T14:48:10.281Z"
   },
   {
    "duration": 10,
    "start_time": "2023-07-18T15:47:21.675Z"
   },
   {
    "duration": 9,
    "start_time": "2023-07-18T15:47:38.056Z"
   },
   {
    "duration": 9,
    "start_time": "2023-07-18T15:47:48.902Z"
   },
   {
    "duration": 266,
    "start_time": "2023-07-18T15:52:02.905Z"
   },
   {
    "duration": 9,
    "start_time": "2023-07-18T15:52:29.744Z"
   },
   {
    "duration": 6,
    "start_time": "2023-07-18T16:00:17.030Z"
   },
   {
    "duration": 9,
    "start_time": "2023-07-18T16:00:27.336Z"
   },
   {
    "duration": 19,
    "start_time": "2023-07-18T16:01:54.601Z"
   },
   {
    "duration": 5,
    "start_time": "2023-07-18T16:02:12.102Z"
   },
   {
    "duration": 18,
    "start_time": "2023-07-18T16:02:14.734Z"
   },
   {
    "duration": 4,
    "start_time": "2023-07-18T16:02:17.124Z"
   },
   {
    "duration": 11,
    "start_time": "2023-07-18T16:02:21.477Z"
   },
   {
    "duration": 15,
    "start_time": "2023-07-18T16:02:26.307Z"
   },
   {
    "duration": 10,
    "start_time": "2023-07-18T16:02:37.777Z"
   },
   {
    "duration": 10,
    "start_time": "2023-07-18T16:03:08.454Z"
   },
   {
    "duration": 8,
    "start_time": "2023-07-18T16:03:54.146Z"
   },
   {
    "duration": 8,
    "start_time": "2023-07-18T16:03:59.333Z"
   },
   {
    "duration": 12,
    "start_time": "2023-07-18T16:04:20.554Z"
   },
   {
    "duration": 10,
    "start_time": "2023-07-18T16:04:23.938Z"
   },
   {
    "duration": 13,
    "start_time": "2023-07-18T16:06:44.591Z"
   },
   {
    "duration": 10,
    "start_time": "2023-07-18T16:06:51.819Z"
   },
   {
    "duration": 9,
    "start_time": "2023-07-18T16:06:54.144Z"
   },
   {
    "duration": 409,
    "start_time": "2023-07-18T16:18:42.351Z"
   },
   {
    "duration": 114,
    "start_time": "2023-07-18T16:22:36.561Z"
   },
   {
    "duration": 191,
    "start_time": "2023-07-18T16:23:20.914Z"
   },
   {
    "duration": 5,
    "start_time": "2023-07-18T16:23:33.189Z"
   },
   {
    "duration": 4,
    "start_time": "2023-07-18T16:23:44.986Z"
   },
   {
    "duration": 6,
    "start_time": "2023-07-18T16:23:49.796Z"
   },
   {
    "duration": 6,
    "start_time": "2023-07-18T16:24:05.369Z"
   },
   {
    "duration": 10,
    "start_time": "2023-07-18T16:24:12.361Z"
   },
   {
    "duration": 6,
    "start_time": "2023-07-18T16:24:27.248Z"
   },
   {
    "duration": 7,
    "start_time": "2023-07-18T16:25:28.837Z"
   },
   {
    "duration": 5,
    "start_time": "2023-07-18T16:26:39.091Z"
   },
   {
    "duration": 7,
    "start_time": "2023-07-18T16:26:42.934Z"
   },
   {
    "duration": 6,
    "start_time": "2023-07-18T16:26:53.275Z"
   },
   {
    "duration": 7,
    "start_time": "2023-07-18T16:27:12.046Z"
   },
   {
    "duration": 6,
    "start_time": "2023-07-18T16:27:54.731Z"
   },
   {
    "duration": 7,
    "start_time": "2023-07-18T16:29:02.800Z"
   },
   {
    "duration": 8,
    "start_time": "2023-07-18T16:29:11.333Z"
   },
   {
    "duration": 8,
    "start_time": "2023-07-18T16:30:05.933Z"
   },
   {
    "duration": 5,
    "start_time": "2023-07-18T16:30:27.449Z"
   },
   {
    "duration": 6,
    "start_time": "2023-07-18T16:31:25.291Z"
   },
   {
    "duration": 14,
    "start_time": "2023-07-18T16:44:35.834Z"
   },
   {
    "duration": 6,
    "start_time": "2023-07-18T16:44:47.591Z"
   },
   {
    "duration": 120,
    "start_time": "2023-07-18T16:46:28.609Z"
   },
   {
    "duration": 106,
    "start_time": "2023-07-18T16:46:37.250Z"
   },
   {
    "duration": 6,
    "start_time": "2023-07-18T16:46:43.540Z"
   },
   {
    "duration": 5,
    "start_time": "2023-07-18T16:46:51.934Z"
   },
   {
    "duration": 15,
    "start_time": "2023-07-18T16:50:32.309Z"
   },
   {
    "duration": 5,
    "start_time": "2023-07-18T16:51:37.940Z"
   },
   {
    "duration": 6,
    "start_time": "2023-07-18T16:53:45.471Z"
   },
   {
    "duration": 6,
    "start_time": "2023-07-18T16:54:06.075Z"
   },
   {
    "duration": 6,
    "start_time": "2023-07-18T16:55:12.056Z"
   },
   {
    "duration": 6,
    "start_time": "2023-07-18T16:56:37.738Z"
   },
   {
    "duration": 6,
    "start_time": "2023-07-18T16:59:38.574Z"
   },
   {
    "duration": 6,
    "start_time": "2023-07-18T16:59:48.830Z"
   },
   {
    "duration": 17,
    "start_time": "2023-07-18T17:04:26.006Z"
   },
   {
    "duration": 3,
    "start_time": "2023-07-18T17:15:43.995Z"
   },
   {
    "duration": 36,
    "start_time": "2023-07-18T17:15:47.045Z"
   },
   {
    "duration": 1232,
    "start_time": "2023-07-18T17:15:53.596Z"
   },
   {
    "duration": 44,
    "start_time": "2023-07-18T17:15:56.239Z"
   },
   {
    "duration": 41,
    "start_time": "2023-07-18T17:15:56.784Z"
   },
   {
    "duration": 24,
    "start_time": "2023-07-18T17:15:57.144Z"
   },
   {
    "duration": 14,
    "start_time": "2023-07-18T17:15:57.861Z"
   },
   {
    "duration": 9,
    "start_time": "2023-07-18T17:15:58.220Z"
   },
   {
    "duration": 12,
    "start_time": "2023-07-18T17:15:58.394Z"
   },
   {
    "duration": 13,
    "start_time": "2023-07-18T17:15:59.160Z"
   },
   {
    "duration": 7,
    "start_time": "2023-07-18T17:16:00.157Z"
   },
   {
    "duration": 15,
    "start_time": "2023-07-18T17:16:01.808Z"
   },
   {
    "duration": 10,
    "start_time": "2023-07-18T17:16:07.186Z"
   },
   {
    "duration": 56,
    "start_time": "2023-07-18T17:16:07.198Z"
   },
   {
    "duration": 196,
    "start_time": "2023-07-18T17:16:07.321Z"
   },
   {
    "duration": 133,
    "start_time": "2023-07-18T17:16:09.832Z"
   },
   {
    "duration": 199,
    "start_time": "2023-07-18T17:16:10.884Z"
   },
   {
    "duration": 303,
    "start_time": "2023-07-18T17:16:11.509Z"
   },
   {
    "duration": 418,
    "start_time": "2023-07-18T17:16:12.124Z"
   },
   {
    "duration": 25,
    "start_time": "2023-07-18T17:16:13.230Z"
   },
   {
    "duration": 16,
    "start_time": "2023-07-18T17:16:14.033Z"
   },
   {
    "duration": 15,
    "start_time": "2023-07-18T17:16:14.337Z"
   },
   {
    "duration": 530,
    "start_time": "2023-07-18T17:16:17.438Z"
   },
   {
    "duration": 433,
    "start_time": "2023-07-18T17:16:19.784Z"
   },
   {
    "duration": 17,
    "start_time": "2023-07-18T17:16:23.372Z"
   },
   {
    "duration": 21,
    "start_time": "2023-07-18T17:16:26.583Z"
   },
   {
    "duration": 6,
    "start_time": "2023-07-18T17:16:28.720Z"
   },
   {
    "duration": 9,
    "start_time": "2023-07-18T17:16:30.879Z"
   },
   {
    "duration": 15,
    "start_time": "2023-07-18T17:16:39.527Z"
   },
   {
    "duration": 7,
    "start_time": "2023-07-18T17:16:42.285Z"
   },
   {
    "duration": 6,
    "start_time": "2023-07-18T17:16:47.496Z"
   },
   {
    "duration": 49,
    "start_time": "2023-07-19T07:02:00.168Z"
   },
   {
    "duration": 1238,
    "start_time": "2023-07-19T07:02:09.031Z"
   },
   {
    "duration": 85,
    "start_time": "2023-07-19T07:02:11.662Z"
   },
   {
    "duration": 75,
    "start_time": "2023-07-19T07:02:12.247Z"
   },
   {
    "duration": 56,
    "start_time": "2023-07-19T07:02:12.451Z"
   },
   {
    "duration": 18,
    "start_time": "2023-07-19T07:02:13.065Z"
   },
   {
    "duration": 8,
    "start_time": "2023-07-19T07:02:13.556Z"
   },
   {
    "duration": 13,
    "start_time": "2023-07-19T07:02:13.804Z"
   },
   {
    "duration": 17,
    "start_time": "2023-07-19T07:02:14.804Z"
   },
   {
    "duration": 7,
    "start_time": "2023-07-19T07:02:15.586Z"
   },
   {
    "duration": 6,
    "start_time": "2023-07-19T07:02:16.076Z"
   },
   {
    "duration": 9,
    "start_time": "2023-07-19T07:02:16.580Z"
   },
   {
    "duration": 12,
    "start_time": "2023-07-19T07:02:17.094Z"
   },
   {
    "duration": 140,
    "start_time": "2023-07-19T07:02:18.881Z"
   },
   {
    "duration": 124,
    "start_time": "2023-07-19T07:02:20.318Z"
   },
   {
    "duration": 183,
    "start_time": "2023-07-19T07:02:21.606Z"
   },
   {
    "duration": 257,
    "start_time": "2023-07-19T07:02:23.059Z"
   },
   {
    "duration": 447,
    "start_time": "2023-07-19T07:02:24.659Z"
   },
   {
    "duration": 22,
    "start_time": "2023-07-19T07:02:26.756Z"
   },
   {
    "duration": 14,
    "start_time": "2023-07-19T07:02:29.084Z"
   },
   {
    "duration": 15,
    "start_time": "2023-07-19T07:02:29.705Z"
   },
   {
    "duration": 465,
    "start_time": "2023-07-19T07:02:31.651Z"
   },
   {
    "duration": 420,
    "start_time": "2023-07-19T07:02:33.406Z"
   },
   {
    "duration": 15,
    "start_time": "2023-07-19T07:02:35.555Z"
   },
   {
    "duration": 21,
    "start_time": "2023-07-19T07:02:37.643Z"
   },
   {
    "duration": 6,
    "start_time": "2023-07-19T07:02:40.404Z"
   },
   {
    "duration": 13,
    "start_time": "2023-07-19T07:02:41.298Z"
   },
   {
    "duration": 16,
    "start_time": "2023-07-19T07:02:42.817Z"
   },
   {
    "duration": 8,
    "start_time": "2023-07-19T07:02:44.447Z"
   },
   {
    "duration": 6,
    "start_time": "2023-07-19T07:14:03.384Z"
   },
   {
    "duration": 4,
    "start_time": "2023-07-19T07:14:04.076Z"
   },
   {
    "duration": 18,
    "start_time": "2023-07-19T07:14:20.892Z"
   },
   {
    "duration": 5,
    "start_time": "2023-07-19T07:14:22.197Z"
   },
   {
    "duration": 9,
    "start_time": "2023-07-19T07:14:22.764Z"
   },
   {
    "duration": 16,
    "start_time": "2023-07-19T07:14:22.970Z"
   },
   {
    "duration": 6,
    "start_time": "2023-07-19T07:14:24.570Z"
   },
   {
    "duration": 14,
    "start_time": "2023-07-19T07:14:28.214Z"
   },
   {
    "duration": 5,
    "start_time": "2023-07-19T07:14:30.148Z"
   },
   {
    "duration": 5,
    "start_time": "2023-07-19T07:14:30.705Z"
   },
   {
    "duration": 7,
    "start_time": "2023-07-19T07:14:57.395Z"
   },
   {
    "duration": 19,
    "start_time": "2023-07-19T07:17:03.318Z"
   },
   {
    "duration": 6,
    "start_time": "2023-07-19T07:17:04.097Z"
   },
   {
    "duration": 8,
    "start_time": "2023-07-19T07:17:05.716Z"
   },
   {
    "duration": 3,
    "start_time": "2023-07-19T08:05:15.317Z"
   },
   {
    "duration": 8,
    "start_time": "2023-07-19T09:09:30.561Z"
   },
   {
    "duration": 6,
    "start_time": "2023-07-19T09:10:40.672Z"
   },
   {
    "duration": 125,
    "start_time": "2023-07-19T09:11:29.629Z"
   },
   {
    "duration": 6,
    "start_time": "2023-07-19T09:11:41.890Z"
   },
   {
    "duration": 163,
    "start_time": "2023-07-19T09:12:45.285Z"
   },
   {
    "duration": 10,
    "start_time": "2023-07-19T09:12:57.405Z"
   },
   {
    "duration": 7,
    "start_time": "2023-07-19T09:13:05.248Z"
   },
   {
    "duration": 6,
    "start_time": "2023-07-19T09:13:25.485Z"
   },
   {
    "duration": 6,
    "start_time": "2023-07-19T09:16:18.082Z"
   },
   {
    "duration": 7,
    "start_time": "2023-07-19T09:16:31.390Z"
   },
   {
    "duration": 8,
    "start_time": "2023-07-19T09:16:38.862Z"
   },
   {
    "duration": 9,
    "start_time": "2023-07-19T09:17:08.605Z"
   },
   {
    "duration": 10,
    "start_time": "2023-07-19T09:17:38.067Z"
   },
   {
    "duration": 13,
    "start_time": "2023-07-19T09:17:52.217Z"
   },
   {
    "duration": 8,
    "start_time": "2023-07-19T09:17:56.357Z"
   },
   {
    "duration": 7,
    "start_time": "2023-07-19T09:18:09.304Z"
   },
   {
    "duration": 10,
    "start_time": "2023-07-19T09:18:15.841Z"
   },
   {
    "duration": 17,
    "start_time": "2023-07-19T09:23:29.835Z"
   },
   {
    "duration": 9,
    "start_time": "2023-07-19T09:24:06.342Z"
   },
   {
    "duration": 51,
    "start_time": "2023-07-19T11:03:45.645Z"
   },
   {
    "duration": 1540,
    "start_time": "2023-07-19T11:03:59.272Z"
   },
   {
    "duration": 1105,
    "start_time": "2023-07-19T11:04:05.174Z"
   },
   {
    "duration": 7,
    "start_time": "2023-07-19T11:04:09.658Z"
   },
   {
    "duration": 6,
    "start_time": "2023-07-19T11:04:13.861Z"
   },
   {
    "duration": 8,
    "start_time": "2023-07-19T11:04:20.581Z"
   },
   {
    "duration": 6,
    "start_time": "2023-07-19T11:04:27.218Z"
   },
   {
    "duration": 237,
    "start_time": "2023-07-19T11:05:58.831Z"
   },
   {
    "duration": 10,
    "start_time": "2023-07-19T11:06:10.378Z"
   },
   {
    "duration": 123,
    "start_time": "2023-07-19T11:07:29.488Z"
   },
   {
    "duration": 109,
    "start_time": "2023-07-19T11:10:16.884Z"
   },
   {
    "duration": 5,
    "start_time": "2023-07-19T11:12:52.323Z"
   },
   {
    "duration": 4,
    "start_time": "2023-07-19T11:13:05.212Z"
   },
   {
    "duration": 4,
    "start_time": "2023-07-19T11:13:08.502Z"
   },
   {
    "duration": 9,
    "start_time": "2023-07-19T11:35:08.595Z"
   },
   {
    "duration": 12,
    "start_time": "2023-07-19T11:35:34.719Z"
   },
   {
    "duration": 7,
    "start_time": "2023-07-19T11:37:17.184Z"
   },
   {
    "duration": 9,
    "start_time": "2023-07-19T11:37:34.359Z"
   },
   {
    "duration": 4,
    "start_time": "2023-07-19T11:37:53.105Z"
   },
   {
    "duration": 1684,
    "start_time": "2023-07-19T11:37:57.080Z"
   },
   {
    "duration": 1722,
    "start_time": "2023-07-19T11:38:02.698Z"
   },
   {
    "duration": 450,
    "start_time": "2023-07-19T11:39:01.030Z"
   },
   {
    "duration": 1808,
    "start_time": "2023-07-19T11:39:05.679Z"
   },
   {
    "duration": 582,
    "start_time": "2023-07-19T11:39:19.871Z"
   },
   {
    "duration": 1670,
    "start_time": "2023-07-19T11:39:28.840Z"
   },
   {
    "duration": 140,
    "start_time": "2023-07-19T11:39:56.034Z"
   },
   {
    "duration": 1804,
    "start_time": "2023-07-19T11:40:43.776Z"
   },
   {
    "duration": 1747,
    "start_time": "2023-07-19T11:41:02.879Z"
   },
   {
    "duration": 6,
    "start_time": "2023-07-19T11:43:49.310Z"
   },
   {
    "duration": 101,
    "start_time": "2023-07-19T11:43:50.878Z"
   },
   {
    "duration": 1866,
    "start_time": "2023-07-19T11:43:59.302Z"
   },
   {
    "duration": 7,
    "start_time": "2023-07-19T11:50:01.378Z"
   },
   {
    "duration": 6,
    "start_time": "2023-07-19T11:50:18.402Z"
   },
   {
    "duration": 3,
    "start_time": "2023-07-19T11:52:35.734Z"
   },
   {
    "duration": 6,
    "start_time": "2023-07-19T11:52:53.479Z"
   },
   {
    "duration": 134,
    "start_time": "2023-07-19T11:53:26.825Z"
   },
   {
    "duration": 134,
    "start_time": "2023-07-19T11:53:47.232Z"
   },
   {
    "duration": 124,
    "start_time": "2023-07-19T11:53:52.449Z"
   },
   {
    "duration": 141,
    "start_time": "2023-07-19T11:53:59.531Z"
   },
   {
    "duration": 6,
    "start_time": "2023-07-19T11:54:20.612Z"
   },
   {
    "duration": 130,
    "start_time": "2023-07-19T11:55:01.747Z"
   },
   {
    "duration": 123,
    "start_time": "2023-07-19T11:55:17.382Z"
   },
   {
    "duration": 123,
    "start_time": "2023-07-19T11:55:29.084Z"
   },
   {
    "duration": 126,
    "start_time": "2023-07-19T11:56:33.428Z"
   },
   {
    "duration": 6,
    "start_time": "2023-07-19T11:56:46.515Z"
   },
   {
    "duration": 139,
    "start_time": "2023-07-19T11:57:04.102Z"
   },
   {
    "duration": 259,
    "start_time": "2023-07-19T11:57:11.483Z"
   },
   {
    "duration": 126,
    "start_time": "2023-07-19T11:57:15.277Z"
   },
   {
    "duration": 5,
    "start_time": "2023-07-19T11:57:28.090Z"
   },
   {
    "duration": 139,
    "start_time": "2023-07-19T11:57:35.297Z"
   },
   {
    "duration": 10,
    "start_time": "2023-07-19T11:57:46.021Z"
   },
   {
    "duration": 131,
    "start_time": "2023-07-19T11:58:08.863Z"
   },
   {
    "duration": 135,
    "start_time": "2023-07-19T12:01:22.367Z"
   },
   {
    "duration": 9,
    "start_time": "2023-07-19T12:01:54.751Z"
   },
   {
    "duration": 5,
    "start_time": "2023-07-19T12:03:21.460Z"
   },
   {
    "duration": 7,
    "start_time": "2023-07-19T12:03:28.490Z"
   },
   {
    "duration": 6,
    "start_time": "2023-07-19T12:06:52.168Z"
   },
   {
    "duration": 7,
    "start_time": "2023-07-19T12:07:09.137Z"
   },
   {
    "duration": 6,
    "start_time": "2023-07-19T12:07:16.592Z"
   },
   {
    "duration": 1071,
    "start_time": "2023-07-19T12:09:39.591Z"
   },
   {
    "duration": 96,
    "start_time": "2023-07-19T12:09:42.580Z"
   },
   {
    "duration": 75,
    "start_time": "2023-07-19T12:09:43.246Z"
   },
   {
    "duration": 69,
    "start_time": "2023-07-19T12:09:43.716Z"
   },
   {
    "duration": 11,
    "start_time": "2023-07-19T12:09:44.598Z"
   },
   {
    "duration": 11,
    "start_time": "2023-07-19T12:09:44.943Z"
   },
   {
    "duration": 11,
    "start_time": "2023-07-19T12:09:45.127Z"
   },
   {
    "duration": 11,
    "start_time": "2023-07-19T12:09:45.931Z"
   },
   {
    "duration": 5,
    "start_time": "2023-07-19T12:09:46.736Z"
   },
   {
    "duration": 8,
    "start_time": "2023-07-19T12:09:47.389Z"
   },
   {
    "duration": 9,
    "start_time": "2023-07-19T12:09:47.794Z"
   },
   {
    "duration": 10,
    "start_time": "2023-07-19T12:09:48.189Z"
   },
   {
    "duration": 130,
    "start_time": "2023-07-19T12:09:49.771Z"
   },
   {
    "duration": 105,
    "start_time": "2023-07-19T12:09:50.685Z"
   },
   {
    "duration": 165,
    "start_time": "2023-07-19T12:09:51.589Z"
   },
   {
    "duration": 237,
    "start_time": "2023-07-19T12:09:52.434Z"
   },
   {
    "duration": 370,
    "start_time": "2023-07-19T12:09:53.062Z"
   },
   {
    "duration": 20,
    "start_time": "2023-07-19T12:09:54.102Z"
   },
   {
    "duration": 14,
    "start_time": "2023-07-19T12:09:54.974Z"
   },
   {
    "duration": 14,
    "start_time": "2023-07-19T12:09:55.224Z"
   },
   {
    "duration": 431,
    "start_time": "2023-07-19T12:09:56.382Z"
   },
   {
    "duration": 368,
    "start_time": "2023-07-19T12:09:57.716Z"
   },
   {
    "duration": 15,
    "start_time": "2023-07-19T12:09:59.318Z"
   },
   {
    "duration": 17,
    "start_time": "2023-07-19T12:10:00.143Z"
   },
   {
    "duration": 5,
    "start_time": "2023-07-19T12:10:00.751Z"
   },
   {
    "duration": 9,
    "start_time": "2023-07-19T12:10:01.446Z"
   },
   {
    "duration": 11,
    "start_time": "2023-07-19T12:10:02.130Z"
   },
   {
    "duration": 5,
    "start_time": "2023-07-19T12:10:03.532Z"
   },
   {
    "duration": 7,
    "start_time": "2023-07-19T12:10:04.911Z"
   },
   {
    "duration": 5,
    "start_time": "2023-07-19T12:10:06.324Z"
   },
   {
    "duration": 5,
    "start_time": "2023-07-19T12:10:06.733Z"
   },
   {
    "duration": 5,
    "start_time": "2023-07-19T12:10:07.202Z"
   },
   {
    "duration": 6,
    "start_time": "2023-07-19T12:10:21.033Z"
   },
   {
    "duration": 135,
    "start_time": "2023-07-19T12:10:38.357Z"
   },
   {
    "duration": 171,
    "start_time": "2023-07-19T12:10:44.559Z"
   },
   {
    "duration": 6,
    "start_time": "2023-07-19T12:10:49.597Z"
   },
   {
    "duration": 1102,
    "start_time": "2023-07-19T12:37:20.148Z"
   },
   {
    "duration": 40,
    "start_time": "2023-07-19T12:37:21.252Z"
   },
   {
    "duration": 43,
    "start_time": "2023-07-19T12:37:21.293Z"
   },
   {
    "duration": 20,
    "start_time": "2023-07-19T12:37:21.338Z"
   },
   {
    "duration": 18,
    "start_time": "2023-07-19T12:37:21.360Z"
   },
   {
    "duration": 9,
    "start_time": "2023-07-19T12:37:21.380Z"
   },
   {
    "duration": 31,
    "start_time": "2023-07-19T12:37:21.390Z"
   },
   {
    "duration": 38,
    "start_time": "2023-07-19T12:37:21.423Z"
   },
   {
    "duration": 38,
    "start_time": "2023-07-19T12:37:21.463Z"
   },
   {
    "duration": 43,
    "start_time": "2023-07-19T12:37:21.502Z"
   },
   {
    "duration": 51,
    "start_time": "2023-07-19T12:37:21.547Z"
   },
   {
    "duration": 31,
    "start_time": "2023-07-19T12:37:21.600Z"
   },
   {
    "duration": 147,
    "start_time": "2023-07-19T12:37:21.633Z"
   },
   {
    "duration": 137,
    "start_time": "2023-07-19T12:37:21.784Z"
   },
   {
    "duration": 154,
    "start_time": "2023-07-19T12:37:21.923Z"
   },
   {
    "duration": 231,
    "start_time": "2023-07-19T12:37:22.078Z"
   },
   {
    "duration": 333,
    "start_time": "2023-07-19T12:37:22.310Z"
   },
   {
    "duration": 21,
    "start_time": "2023-07-19T12:37:22.645Z"
   },
   {
    "duration": 27,
    "start_time": "2023-07-19T12:37:22.668Z"
   },
   {
    "duration": 26,
    "start_time": "2023-07-19T12:37:22.699Z"
   },
   {
    "duration": 390,
    "start_time": "2023-07-19T12:37:22.727Z"
   },
   {
    "duration": 334,
    "start_time": "2023-07-19T12:37:23.119Z"
   },
   {
    "duration": 15,
    "start_time": "2023-07-19T12:37:23.454Z"
   },
   {
    "duration": 31,
    "start_time": "2023-07-19T12:37:23.470Z"
   },
   {
    "duration": 5,
    "start_time": "2023-07-19T12:37:23.502Z"
   },
   {
    "duration": 14,
    "start_time": "2023-07-19T12:37:23.509Z"
   },
   {
    "duration": 32,
    "start_time": "2023-07-19T12:37:23.524Z"
   },
   {
    "duration": 17,
    "start_time": "2023-07-19T12:37:23.557Z"
   },
   {
    "duration": 15,
    "start_time": "2023-07-19T12:37:23.575Z"
   },
   {
    "duration": 25,
    "start_time": "2023-07-19T12:37:23.591Z"
   },
   {
    "duration": 26,
    "start_time": "2023-07-19T12:37:23.617Z"
   },
   {
    "duration": 25,
    "start_time": "2023-07-19T12:37:23.644Z"
   },
   {
    "duration": 20,
    "start_time": "2023-07-19T12:37:23.670Z"
   },
   {
    "duration": 147,
    "start_time": "2023-07-19T12:37:23.692Z"
   },
   {
    "duration": 141,
    "start_time": "2023-07-19T12:37:23.841Z"
   },
   {
    "duration": 6,
    "start_time": "2023-07-19T12:37:23.983Z"
   },
   {
    "duration": 6,
    "start_time": "2023-07-19T12:40:39.992Z"
   },
   {
    "duration": 5,
    "start_time": "2023-07-19T12:40:42.449Z"
   },
   {
    "duration": 1569,
    "start_time": "2023-07-22T09:30:00.212Z"
   },
   {
    "duration": 356,
    "start_time": "2023-07-22T09:30:17.961Z"
   },
   {
    "duration": 88,
    "start_time": "2023-07-22T09:30:50.904Z"
   },
   {
    "duration": 17,
    "start_time": "2023-07-22T09:31:21.944Z"
   },
   {
    "duration": 32,
    "start_time": "2023-07-22T09:31:39.131Z"
   },
   {
    "duration": 4,
    "start_time": "2023-07-22T09:32:35.730Z"
   },
   {
    "duration": 30,
    "start_time": "2023-07-22T09:32:44.374Z"
   },
   {
    "duration": 6,
    "start_time": "2023-07-22T09:40:14.687Z"
   },
   {
    "duration": 3,
    "start_time": "2023-07-22T09:51:16.758Z"
   },
   {
    "duration": 1326,
    "start_time": "2023-07-22T09:51:25.831Z"
   },
   {
    "duration": 108,
    "start_time": "2023-07-22T09:51:32.823Z"
   },
   {
    "duration": 34,
    "start_time": "2023-07-22T09:51:34.534Z"
   },
   {
    "duration": 25,
    "start_time": "2023-07-22T09:51:40.964Z"
   },
   {
    "duration": 11,
    "start_time": "2023-07-22T09:51:42.546Z"
   },
   {
    "duration": 13,
    "start_time": "2023-07-22T09:51:43.341Z"
   },
   {
    "duration": 16,
    "start_time": "2023-07-22T09:51:51.294Z"
   },
   {
    "duration": 7,
    "start_time": "2023-07-22T09:52:12.194Z"
   },
   {
    "duration": 7,
    "start_time": "2023-07-22T09:52:27.662Z"
   },
   {
    "duration": 8,
    "start_time": "2023-07-22T09:54:55.107Z"
   },
   {
    "duration": 6,
    "start_time": "2023-07-22T09:57:27.754Z"
   },
   {
    "duration": 7,
    "start_time": "2023-07-22T09:57:58.501Z"
   },
   {
    "duration": 7,
    "start_time": "2023-07-22T09:59:01.402Z"
   },
   {
    "duration": 9,
    "start_time": "2023-07-22T09:59:09.194Z"
   },
   {
    "duration": 10,
    "start_time": "2023-07-22T09:59:14.819Z"
   },
   {
    "duration": 14,
    "start_time": "2023-07-22T09:59:37.056Z"
   },
   {
    "duration": 8,
    "start_time": "2023-07-22T10:00:40.636Z"
   },
   {
    "duration": 9,
    "start_time": "2023-07-22T10:00:51.919Z"
   },
   {
    "duration": 129,
    "start_time": "2023-07-22T10:01:14.755Z"
   },
   {
    "duration": 7,
    "start_time": "2023-07-22T10:01:19.924Z"
   },
   {
    "duration": 21,
    "start_time": "2023-07-22T10:01:34.917Z"
   },
   {
    "duration": 8,
    "start_time": "2023-07-22T10:01:38.802Z"
   },
   {
    "duration": 11,
    "start_time": "2023-07-22T10:01:56.099Z"
   },
   {
    "duration": 6,
    "start_time": "2023-07-22T10:02:23.610Z"
   },
   {
    "duration": 5,
    "start_time": "2023-07-22T10:02:32.204Z"
   },
   {
    "duration": 10,
    "start_time": "2023-07-22T10:02:56.912Z"
   },
   {
    "duration": 32,
    "start_time": "2023-07-22T10:03:02.182Z"
   },
   {
    "duration": 15,
    "start_time": "2023-07-22T10:04:45.712Z"
   },
   {
    "duration": 25,
    "start_time": "2023-07-22T10:04:49.652Z"
   },
   {
    "duration": 14,
    "start_time": "2023-07-22T10:05:16.027Z"
   },
   {
    "duration": 18,
    "start_time": "2023-07-22T10:05:19.906Z"
   },
   {
    "duration": 20,
    "start_time": "2023-07-22T10:05:52.406Z"
   },
   {
    "duration": 5,
    "start_time": "2023-07-22T10:10:40.713Z"
   },
   {
    "duration": 12,
    "start_time": "2023-07-22T10:10:57.502Z"
   },
   {
    "duration": 6,
    "start_time": "2023-07-22T10:11:31.032Z"
   },
   {
    "duration": 13,
    "start_time": "2023-07-22T10:11:34.180Z"
   },
   {
    "duration": 15,
    "start_time": "2023-07-22T10:11:34.567Z"
   },
   {
    "duration": 6,
    "start_time": "2023-07-22T10:11:40.444Z"
   },
   {
    "duration": 13,
    "start_time": "2023-07-22T10:11:41.999Z"
   },
   {
    "duration": 12,
    "start_time": "2023-07-22T10:11:43.820Z"
   },
   {
    "duration": 73,
    "start_time": "2023-07-22T17:11:42.392Z"
   },
   {
    "duration": 1652,
    "start_time": "2023-07-22T17:11:54.391Z"
   },
   {
    "duration": 273,
    "start_time": "2023-07-22T17:11:59.451Z"
   },
   {
    "duration": 31,
    "start_time": "2023-07-22T17:12:03.713Z"
   },
   {
    "duration": 25,
    "start_time": "2023-07-22T17:12:26.452Z"
   },
   {
    "duration": 9,
    "start_time": "2023-07-22T17:12:33.682Z"
   },
   {
    "duration": 19,
    "start_time": "2023-07-22T17:12:34.634Z"
   },
   {
    "duration": 5,
    "start_time": "2023-07-22T17:12:57.289Z"
   },
   {
    "duration": 14,
    "start_time": "2023-07-22T17:13:00.787Z"
   },
   {
    "duration": 6,
    "start_time": "2023-07-22T17:13:05.281Z"
   },
   {
    "duration": 20,
    "start_time": "2023-07-22T17:13:09.547Z"
   },
   {
    "duration": 9,
    "start_time": "2023-07-22T17:13:28.675Z"
   },
   {
    "duration": 7,
    "start_time": "2023-07-22T17:13:31.786Z"
   },
   {
    "duration": 7,
    "start_time": "2023-07-22T17:13:33.509Z"
   },
   {
    "duration": 11,
    "start_time": "2023-07-22T17:13:34.260Z"
   },
   {
    "duration": 20,
    "start_time": "2023-07-22T17:13:35.529Z"
   },
   {
    "duration": 308,
    "start_time": "2023-07-22T17:15:25.006Z"
   },
   {
    "duration": 187,
    "start_time": "2023-07-22T17:15:32.308Z"
   },
   {
    "duration": 167,
    "start_time": "2023-07-22T17:15:37.234Z"
   },
   {
    "duration": 201,
    "start_time": "2023-07-22T17:15:44.679Z"
   },
   {
    "duration": 186,
    "start_time": "2023-07-22T17:16:02.435Z"
   },
   {
    "duration": 193,
    "start_time": "2023-07-22T17:16:12.517Z"
   },
   {
    "duration": 208,
    "start_time": "2023-07-22T17:16:17.696Z"
   },
   {
    "duration": 198,
    "start_time": "2023-07-22T17:16:27.302Z"
   },
   {
    "duration": 157,
    "start_time": "2023-07-22T17:17:58.548Z"
   },
   {
    "duration": 270,
    "start_time": "2023-07-22T17:18:08.730Z"
   },
   {
    "duration": 190,
    "start_time": "2023-07-22T17:18:19.305Z"
   },
   {
    "duration": 144,
    "start_time": "2023-07-22T17:18:39.155Z"
   },
   {
    "duration": 129,
    "start_time": "2023-07-22T17:18:44.182Z"
   },
   {
    "duration": 175,
    "start_time": "2023-07-22T17:19:11.322Z"
   },
   {
    "duration": 153,
    "start_time": "2023-07-22T17:19:30.852Z"
   },
   {
    "duration": 227,
    "start_time": "2023-07-22T17:21:54.670Z"
   },
   {
    "duration": 169,
    "start_time": "2023-07-22T17:22:38.954Z"
   },
   {
    "duration": 237,
    "start_time": "2023-07-22T17:23:17.647Z"
   },
   {
    "duration": 207,
    "start_time": "2023-07-22T17:23:45.596Z"
   },
   {
    "duration": 199,
    "start_time": "2023-07-22T17:23:53.530Z"
   },
   {
    "duration": 380,
    "start_time": "2023-07-22T17:24:26.741Z"
   },
   {
    "duration": 393,
    "start_time": "2023-07-22T17:25:35.478Z"
   },
   {
    "duration": 279,
    "start_time": "2023-07-22T17:25:41.459Z"
   },
   {
    "duration": 158,
    "start_time": "2023-07-22T17:27:08.460Z"
   },
   {
    "duration": 143,
    "start_time": "2023-07-22T17:27:16.972Z"
   },
   {
    "duration": 114,
    "start_time": "2023-07-22T17:28:22.370Z"
   },
   {
    "duration": 113,
    "start_time": "2023-07-22T17:28:37.458Z"
   },
   {
    "duration": 574,
    "start_time": "2023-07-22T17:28:47.611Z"
   },
   {
    "duration": 104,
    "start_time": "2023-07-22T17:28:53.062Z"
   },
   {
    "duration": 15,
    "start_time": "2023-07-22T17:29:38.270Z"
   },
   {
    "duration": 7,
    "start_time": "2023-07-22T17:30:06.793Z"
   },
   {
    "duration": 19,
    "start_time": "2023-07-22T17:30:09.882Z"
   },
   {
    "duration": 12,
    "start_time": "2023-07-22T17:30:10.696Z"
   },
   {
    "duration": 17,
    "start_time": "2023-07-22T17:35:37.056Z"
   },
   {
    "duration": 19,
    "start_time": "2023-07-22T17:39:31.584Z"
   },
   {
    "duration": 13,
    "start_time": "2023-07-22T17:39:32.896Z"
   },
   {
    "duration": 22,
    "start_time": "2023-07-22T17:39:34.356Z"
   },
   {
    "duration": 25,
    "start_time": "2023-07-22T17:39:35.137Z"
   },
   {
    "duration": 404,
    "start_time": "2023-07-22T17:39:39.955Z"
   },
   {
    "duration": 423,
    "start_time": "2023-07-22T17:41:20.254Z"
   },
   {
    "duration": 550,
    "start_time": "2023-07-22T17:41:31.774Z"
   },
   {
    "duration": 10,
    "start_time": "2023-07-22T17:43:50.954Z"
   },
   {
    "duration": 9,
    "start_time": "2023-07-22T17:43:57.258Z"
   },
   {
    "duration": 17,
    "start_time": "2023-07-22T17:44:03.231Z"
   },
   {
    "duration": 22,
    "start_time": "2023-07-22T17:44:05.223Z"
   },
   {
    "duration": 12,
    "start_time": "2023-07-22T17:44:06.628Z"
   },
   {
    "duration": 2,
    "start_time": "2023-07-22T17:44:08.091Z"
   },
   {
    "duration": 9,
    "start_time": "2023-07-22T17:44:08.861Z"
   },
   {
    "duration": 13,
    "start_time": "2023-07-22T17:44:10.388Z"
   },
   {
    "duration": 415,
    "start_time": "2023-07-22T17:46:58.160Z"
   },
   {
    "duration": 501,
    "start_time": "2023-07-22T17:47:13.701Z"
   },
   {
    "duration": 434,
    "start_time": "2023-07-22T17:47:51.119Z"
   },
   {
    "duration": 9,
    "start_time": "2023-07-22T17:49:18.685Z"
   },
   {
    "duration": 8,
    "start_time": "2023-07-22T17:49:28.385Z"
   },
   {
    "duration": 1135,
    "start_time": "2023-07-22T17:52:10.535Z"
   },
   {
    "duration": 93,
    "start_time": "2023-07-22T17:52:12.292Z"
   },
   {
    "duration": 23,
    "start_time": "2023-07-22T17:52:13.162Z"
   },
   {
    "duration": 20,
    "start_time": "2023-07-22T17:52:14.149Z"
   },
   {
    "duration": 8,
    "start_time": "2023-07-22T17:52:14.608Z"
   },
   {
    "duration": 12,
    "start_time": "2023-07-22T17:52:14.795Z"
   },
   {
    "duration": 6,
    "start_time": "2023-07-22T17:52:15.382Z"
   },
   {
    "duration": 14,
    "start_time": "2023-07-22T17:52:16.377Z"
   },
   {
    "duration": 9,
    "start_time": "2023-07-22T17:52:16.953Z"
   },
   {
    "duration": 14,
    "start_time": "2023-07-22T17:52:17.358Z"
   },
   {
    "duration": 7,
    "start_time": "2023-07-22T17:52:17.808Z"
   },
   {
    "duration": 7,
    "start_time": "2023-07-22T17:52:18.558Z"
   },
   {
    "duration": 7,
    "start_time": "2023-07-22T17:52:19.085Z"
   },
   {
    "duration": 12,
    "start_time": "2023-07-22T17:52:19.556Z"
   },
   {
    "duration": 11,
    "start_time": "2023-07-22T17:52:19.960Z"
   },
   {
    "duration": 183,
    "start_time": "2023-07-22T17:52:21.626Z"
   },
   {
    "duration": 141,
    "start_time": "2023-07-22T17:52:22.918Z"
   },
   {
    "duration": 181,
    "start_time": "2023-07-22T17:52:24.072Z"
   },
   {
    "duration": 419,
    "start_time": "2023-07-22T17:52:25.253Z"
   },
   {
    "duration": 142,
    "start_time": "2023-07-22T17:52:25.674Z"
   },
   {
    "duration": 398,
    "start_time": "2023-07-22T17:52:27.177Z"
   },
   {
    "duration": 204,
    "start_time": "2023-07-22T17:52:27.576Z"
   },
   {
    "duration": 21,
    "start_time": "2023-07-22T17:52:29.656Z"
   },
   {
    "duration": 18,
    "start_time": "2023-07-22T17:52:31.102Z"
   },
   {
    "duration": 16,
    "start_time": "2023-07-22T17:52:32.055Z"
   },
   {
    "duration": 18,
    "start_time": "2023-07-22T17:52:33.553Z"
   },
   {
    "duration": 20,
    "start_time": "2023-07-22T17:52:33.953Z"
   },
   {
    "duration": 409,
    "start_time": "2023-07-22T17:52:35.315Z"
   },
   {
    "duration": 398,
    "start_time": "2023-07-22T17:52:37.263Z"
   },
   {
    "duration": 427,
    "start_time": "2023-07-22T17:58:18.196Z"
   },
   {
    "duration": 590,
    "start_time": "2023-07-22T18:03:30.680Z"
   },
   {
    "duration": 279,
    "start_time": "2023-07-22T18:04:28.757Z"
   },
   {
    "duration": 29,
    "start_time": "2023-07-22T18:04:45.192Z"
   },
   {
    "duration": 390,
    "start_time": "2023-07-22T18:04:50.591Z"
   },
   {
    "duration": 507,
    "start_time": "2023-07-22T18:05:03.620Z"
   },
   {
    "duration": 518,
    "start_time": "2023-07-22T18:06:01.480Z"
   },
   {
    "duration": 368,
    "start_time": "2023-07-22T18:06:10.320Z"
   },
   {
    "duration": 674,
    "start_time": "2023-07-22T18:07:05.496Z"
   },
   {
    "duration": 15,
    "start_time": "2023-07-22T18:09:41.514Z"
   },
   {
    "duration": 459,
    "start_time": "2023-07-22T18:10:05.300Z"
   },
   {
    "duration": 24,
    "start_time": "2023-07-22T18:13:09.249Z"
   },
   {
    "duration": 13,
    "start_time": "2023-07-22T18:13:41.854Z"
   },
   {
    "duration": 13,
    "start_time": "2023-07-22T18:14:52.972Z"
   },
   {
    "duration": 26,
    "start_time": "2023-07-22T18:14:55.187Z"
   },
   {
    "duration": 5,
    "start_time": "2023-07-22T18:14:56.873Z"
   },
   {
    "duration": 3,
    "start_time": "2023-07-22T18:14:57.891Z"
   },
   {
    "duration": 8,
    "start_time": "2023-07-22T18:14:58.701Z"
   },
   {
    "duration": 12,
    "start_time": "2023-07-22T18:15:02.085Z"
   },
   {
    "duration": 16,
    "start_time": "2023-07-22T18:16:42.049Z"
   },
   {
    "duration": 35,
    "start_time": "2023-07-22T18:16:55.636Z"
   },
   {
    "duration": 10,
    "start_time": "2023-07-22T18:16:57.682Z"
   },
   {
    "duration": 3,
    "start_time": "2023-07-22T18:16:58.731Z"
   },
   {
    "duration": 12,
    "start_time": "2023-07-22T18:16:59.549Z"
   },
   {
    "duration": 11,
    "start_time": "2023-07-22T18:17:01.102Z"
   },
   {
    "duration": 4,
    "start_time": "2023-07-22T18:17:57.505Z"
   },
   {
    "duration": 3,
    "start_time": "2023-07-22T18:18:06.727Z"
   },
   {
    "duration": 2,
    "start_time": "2023-07-22T18:18:07.665Z"
   },
   {
    "duration": 9,
    "start_time": "2023-07-22T18:18:08.161Z"
   },
   {
    "duration": 22,
    "start_time": "2023-07-22T18:18:09.836Z"
   },
   {
    "duration": 26,
    "start_time": "2023-07-22T18:18:57.269Z"
   },
   {
    "duration": 6,
    "start_time": "2023-07-22T18:18:58.586Z"
   },
   {
    "duration": 9,
    "start_time": "2023-07-22T18:18:59.782Z"
   },
   {
    "duration": 2,
    "start_time": "2023-07-22T18:19:01.027Z"
   },
   {
    "duration": 11,
    "start_time": "2023-07-22T18:19:01.649Z"
   },
   {
    "duration": 22,
    "start_time": "2023-07-22T18:19:06.725Z"
   },
   {
    "duration": 6,
    "start_time": "2023-07-22T18:20:14.819Z"
   },
   {
    "duration": 4,
    "start_time": "2023-07-22T18:20:39.192Z"
   },
   {
    "duration": 5,
    "start_time": "2023-07-22T18:20:43.097Z"
   },
   {
    "duration": 4,
    "start_time": "2023-07-22T18:20:43.300Z"
   },
   {
    "duration": 6,
    "start_time": "2023-07-22T18:20:43.520Z"
   },
   {
    "duration": 8,
    "start_time": "2023-07-22T18:23:29.357Z"
   },
   {
    "duration": 146,
    "start_time": "2023-07-22T18:23:32.078Z"
   },
   {
    "duration": 177,
    "start_time": "2023-07-22T18:23:35.331Z"
   },
   {
    "duration": 10,
    "start_time": "2023-07-22T18:23:36.757Z"
   },
   {
    "duration": 1410,
    "start_time": "2023-07-22T18:25:35.107Z"
   },
   {
    "duration": 92,
    "start_time": "2023-07-22T18:25:38.686Z"
   },
   {
    "duration": 33,
    "start_time": "2023-07-22T18:25:40.691Z"
   },
   {
    "duration": 16,
    "start_time": "2023-07-22T18:25:52.068Z"
   },
   {
    "duration": 11,
    "start_time": "2023-07-22T18:25:52.989Z"
   },
   {
    "duration": 12,
    "start_time": "2023-07-22T18:25:53.355Z"
   },
   {
    "duration": 11,
    "start_time": "2023-07-22T18:25:54.768Z"
   },
   {
    "duration": 22,
    "start_time": "2023-07-22T18:25:56.039Z"
   },
   {
    "duration": 6,
    "start_time": "2023-07-22T18:25:59.297Z"
   },
   {
    "duration": 17,
    "start_time": "2023-07-22T18:26:00.457Z"
   },
   {
    "duration": 5,
    "start_time": "2023-07-22T18:26:01.615Z"
   },
   {
    "duration": 8,
    "start_time": "2023-07-22T18:26:02.568Z"
   },
   {
    "duration": 12,
    "start_time": "2023-07-22T18:26:03.823Z"
   },
   {
    "duration": 9,
    "start_time": "2023-07-22T18:26:04.566Z"
   },
   {
    "duration": 13,
    "start_time": "2023-07-22T18:26:06.286Z"
   },
   {
    "duration": 269,
    "start_time": "2023-07-22T18:26:13.324Z"
   },
   {
    "duration": 183,
    "start_time": "2023-07-22T18:26:20.205Z"
   },
   {
    "duration": 218,
    "start_time": "2023-07-22T18:26:23.200Z"
   },
   {
    "duration": 307,
    "start_time": "2023-07-22T18:26:26.577Z"
   },
   {
    "duration": 304,
    "start_time": "2023-07-22T18:26:29.106Z"
   },
   {
    "duration": 139,
    "start_time": "2023-07-22T18:26:38.151Z"
   },
   {
    "duration": 581,
    "start_time": "2023-07-22T18:26:40.977Z"
   },
   {
    "duration": 123,
    "start_time": "2023-07-22T18:26:43.092Z"
   },
   {
    "duration": 23,
    "start_time": "2023-07-22T18:26:46.931Z"
   },
   {
    "duration": 24,
    "start_time": "2023-07-22T18:26:49.262Z"
   },
   {
    "duration": 19,
    "start_time": "2023-07-22T18:26:51.034Z"
   },
   {
    "duration": 17,
    "start_time": "2023-07-22T18:26:56.670Z"
   },
   {
    "duration": 20,
    "start_time": "2023-07-22T18:26:58.019Z"
   },
   {
    "duration": 539,
    "start_time": "2023-07-22T18:27:01.549Z"
   },
   {
    "duration": 627,
    "start_time": "2023-07-22T18:27:04.772Z"
   },
   {
    "duration": 9,
    "start_time": "2023-07-22T18:27:08.688Z"
   },
   {
    "duration": 23,
    "start_time": "2023-07-22T18:27:10.459Z"
   },
   {
    "duration": 24,
    "start_time": "2023-07-22T18:27:19.644Z"
   },
   {
    "duration": 5,
    "start_time": "2023-07-22T18:27:23.177Z"
   },
   {
    "duration": 5,
    "start_time": "2023-07-22T18:27:24.692Z"
   },
   {
    "duration": 3,
    "start_time": "2023-07-22T18:27:29.356Z"
   },
   {
    "duration": 10,
    "start_time": "2023-07-22T18:27:35.757Z"
   },
   {
    "duration": 22,
    "start_time": "2023-07-22T18:27:37.770Z"
   },
   {
    "duration": 28,
    "start_time": "2023-07-22T18:27:42.157Z"
   },
   {
    "duration": 6,
    "start_time": "2023-07-22T18:28:04.994Z"
   },
   {
    "duration": 11,
    "start_time": "2023-07-22T18:28:14.935Z"
   },
   {
    "duration": 5,
    "start_time": "2023-07-22T18:28:15.296Z"
   },
   {
    "duration": 8,
    "start_time": "2023-07-22T18:28:15.853Z"
   },
   {
    "duration": 6,
    "start_time": "2023-07-22T18:28:21.506Z"
   },
   {
    "duration": 5,
    "start_time": "2023-07-22T18:29:20.120Z"
   },
   {
    "duration": 4,
    "start_time": "2023-07-22T18:29:29.615Z"
   },
   {
    "duration": 13,
    "start_time": "2023-07-22T18:29:30.152Z"
   },
   {
    "duration": 6,
    "start_time": "2023-07-22T18:29:30.606Z"
   },
   {
    "duration": 7,
    "start_time": "2023-07-22T18:29:36.912Z"
   },
   {
    "duration": 196,
    "start_time": "2023-07-22T18:29:37.890Z"
   },
   {
    "duration": 173,
    "start_time": "2023-07-22T18:29:40.529Z"
   },
   {
    "duration": 6,
    "start_time": "2023-07-22T18:29:41.778Z"
   },
   {
    "duration": 1127,
    "start_time": "2023-07-23T10:05:16.810Z"
   },
   {
    "duration": 352,
    "start_time": "2023-07-23T10:05:17.938Z"
   },
   {
    "duration": 26,
    "start_time": "2023-07-23T10:05:18.292Z"
   },
   {
    "duration": 14,
    "start_time": "2023-07-23T10:05:18.322Z"
   },
   {
    "duration": 5,
    "start_time": "2023-07-23T10:05:18.339Z"
   },
   {
    "duration": 9,
    "start_time": "2023-07-23T10:05:18.345Z"
   },
   {
    "duration": 8,
    "start_time": "2023-07-23T10:05:18.355Z"
   },
   {
    "duration": 15,
    "start_time": "2023-07-23T10:05:18.364Z"
   },
   {
    "duration": 4,
    "start_time": "2023-07-23T10:05:18.380Z"
   },
   {
    "duration": 34,
    "start_time": "2023-07-23T10:05:18.387Z"
   },
   {
    "duration": 20,
    "start_time": "2023-07-23T10:05:18.422Z"
   },
   {
    "duration": 20,
    "start_time": "2023-07-23T10:05:18.444Z"
   },
   {
    "duration": 8,
    "start_time": "2023-07-23T10:05:18.466Z"
   },
   {
    "duration": 7,
    "start_time": "2023-07-23T10:05:18.475Z"
   },
   {
    "duration": 10,
    "start_time": "2023-07-23T10:05:18.483Z"
   },
   {
    "duration": 155,
    "start_time": "2023-07-23T10:05:18.494Z"
   },
   {
    "duration": 139,
    "start_time": "2023-07-23T10:05:18.650Z"
   },
   {
    "duration": 188,
    "start_time": "2023-07-23T10:05:18.790Z"
   },
   {
    "duration": 267,
    "start_time": "2023-07-23T10:05:18.980Z"
   },
   {
    "duration": 122,
    "start_time": "2023-07-23T10:05:19.249Z"
   },
   {
    "duration": 415,
    "start_time": "2023-07-23T10:05:19.372Z"
   },
   {
    "duration": 198,
    "start_time": "2023-07-23T10:05:19.788Z"
   },
   {
    "duration": 23,
    "start_time": "2023-07-23T10:05:19.987Z"
   },
   {
    "duration": 23,
    "start_time": "2023-07-23T10:05:20.012Z"
   },
   {
    "duration": 13,
    "start_time": "2023-07-23T10:05:20.039Z"
   },
   {
    "duration": 16,
    "start_time": "2023-07-23T10:05:20.053Z"
   },
   {
    "duration": 36,
    "start_time": "2023-07-23T10:05:20.071Z"
   },
   {
    "duration": 457,
    "start_time": "2023-07-23T10:05:20.115Z"
   },
   {
    "duration": 451,
    "start_time": "2023-07-23T10:05:20.574Z"
   },
   {
    "duration": 12,
    "start_time": "2023-07-23T10:05:21.027Z"
   },
   {
    "duration": 22,
    "start_time": "2023-07-23T10:05:21.045Z"
   },
   {
    "duration": 17,
    "start_time": "2023-07-23T10:05:21.068Z"
   },
   {
    "duration": 12,
    "start_time": "2023-07-23T10:05:21.087Z"
   },
   {
    "duration": 30,
    "start_time": "2023-07-23T10:05:21.101Z"
   },
   {
    "duration": 14,
    "start_time": "2023-07-23T10:05:21.133Z"
   },
   {
    "duration": 32,
    "start_time": "2023-07-23T10:05:21.148Z"
   },
   {
    "duration": 25,
    "start_time": "2023-07-23T10:05:21.181Z"
   },
   {
    "duration": 35,
    "start_time": "2023-07-23T10:05:21.210Z"
   },
   {
    "duration": 18,
    "start_time": "2023-07-23T10:05:21.247Z"
   },
   {
    "duration": 10,
    "start_time": "2023-07-23T10:05:21.267Z"
   },
   {
    "duration": 9,
    "start_time": "2023-07-23T10:05:21.279Z"
   },
   {
    "duration": 36,
    "start_time": "2023-07-23T10:05:21.289Z"
   },
   {
    "duration": 18,
    "start_time": "2023-07-23T10:05:21.326Z"
   },
   {
    "duration": 152,
    "start_time": "2023-07-23T10:05:21.346Z"
   },
   {
    "duration": 159,
    "start_time": "2023-07-23T10:05:21.499Z"
   },
   {
    "duration": 8,
    "start_time": "2023-07-23T10:05:21.660Z"
   }
  ],
  "kernelspec": {
   "display_name": "Python 3 (ipykernel)",
   "language": "python",
   "name": "python3"
  },
  "language_info": {
   "codemirror_mode": {
    "name": "ipython",
    "version": 3
   },
   "file_extension": ".py",
   "mimetype": "text/x-python",
   "name": "python",
   "nbconvert_exporter": "python",
   "pygments_lexer": "ipython3",
   "version": "3.10.9"
  },
  "toc": {
   "base_numbering": 1,
   "nav_menu": {},
   "number_sections": true,
   "sideBar": true,
   "skip_h1_title": true,
   "title_cell": "Table of Contents",
   "title_sidebar": "Contents",
   "toc_cell": false,
   "toc_position": {
    "height": "729px",
    "left": "21px",
    "top": "111.125px",
    "width": "165px"
   },
   "toc_section_display": true,
   "toc_window_display": true
  }
 },
 "nbformat": 4,
 "nbformat_minor": 5
}
