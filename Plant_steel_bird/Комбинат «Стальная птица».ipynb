{
 "cells": [
  {
   "cell_type": "markdown",
   "id": "4078b88c",
   "metadata": {},
   "source": [
    "# Уменьшение потребления электроэнергии на металлургическом комбинате «Стальная птица»"
   ]
  },
  {
   "cell_type": "markdown",
   "id": "261deb9f",
   "metadata": {},
   "source": [
    "Чтобы оптимизировать производственные расходы, металлургический комбинат «Стальная птица» решил уменьшить потребление электроэнергии на этапе обработки стали. Для этого комбинату нужно контролировать температуру сплава. Наша задача — построить модель, которая будет её предсказывать. В нашем распоряжении: данные об электродах, данные о подаче сыпучих материалов (объём и время), данные о продувке сплава газом, результаты измерения температуры, данные о проволочных материалах (объём и время). Нам нужно построить модель для определения конечной температуры сплава.\n",
    "\n",
    "Заказчику важны:\n",
    "\n",
    "- качество предсказания;\n",
    "- скорость предсказания;\n",
    "- время обучения.\n",
    "\n",
    "**Цель исследования:**  \n",
    "Построить модель с наименьшим значением *MAE*. Значение метрики должно быть меньше 6,8. В конце проверим *MAE* на тестовой выборке.\n",
    "\n",
    "**Ход исследования**  \n",
    "Данные о протекании процессов мы получим из следующих файлов:  \n",
    "`'/datasets/data_arc_new.csv'`  \n",
    "`'/datasets/data_bulk_new.csv'`  \n",
    "`'/datasets/data_bulk_time_new.csv'`  \n",
    "`'/datasets/data_gas_new.csv'`  \n",
    "`'/datasets/data_temp_new.csv'`  \n",
    "`'/datasets/data_wire_new.csv'`  \n",
    "`'/datasets/data_wire_time_new.csv'`  \n",
    " \n",
    "Исследуем данные, проведем предобработку, объединим данные по ключу, разобьем данные на выборки и приступим к прогнозированию на нескольких моделях.  \n",
    "Таким образом, наше исследование пройдет в семь этапов:  \n",
    "- Загрузка данных\n",
    "- Исследовательский анализ и предобработка данных\n",
    "- Объединение данных\n",
    "- Исследовательский анализ и предобработка данных объединённого датафрейма\n",
    "- Подготовка данных\n",
    "- Обучение моделей машинного обучения\n",
    "- Выбор лучшей модели"
   ]
  },
  {
   "cell_type": "markdown",
   "id": "63dd566a",
   "metadata": {},
   "source": [
    "## Загрузка данных"
   ]
  },
  {
   "cell_type": "markdown",
   "id": "058491e6",
   "metadata": {},
   "source": [
    "Загрузим данные и выполним их первичный осмотр:"
   ]
  },
  {
   "cell_type": "code",
   "execution_count": 1,
   "id": "cf5937f4",
   "metadata": {},
   "outputs": [],
   "source": [
    "import pandas as pd\n",
    "import numpy as np\n",
    "import matplotlib.pyplot as plt\n",
    "import seaborn as sns\n",
    "\n",
    "from sklearn.model_selection import train_test_split, TimeSeriesSplit, cross_val_score, GridSearchCV\n",
    "from sklearn.metrics import mean_absolute_error, r2_score\n",
    "\n",
    "from sklearn.tree import DecisionTreeRegressor\n",
    "from catboost import CatBoostRegressor\n",
    "from lightgbm import LGBMRegressor\n",
    "from sklearn.dummy import DummyRegressor"
   ]
  },
  {
   "cell_type": "code",
   "execution_count": 2,
   "id": "045a4135",
   "metadata": {},
   "outputs": [],
   "source": [
    "pd.set_option('display.max_columns', None)"
   ]
  },
  {
   "cell_type": "code",
   "execution_count": 3,
   "id": "f8e5ae51",
   "metadata": {},
   "outputs": [],
   "source": [
    "data_arc = pd.read_csv('/datasets/data_arc_new.csv')\n",
    "data_bulk = pd.read_csv('/datasets/data_bulk_new.csv')\n",
    "data_bulk_time = pd.read_csv('/datasets/data_bulk_time_new.csv')\n",
    "data_gas = pd.read_csv('/datasets/data_gas_new.csv')\n",
    "data_temp = pd.read_csv('/datasets/data_temp_new.csv')\n",
    "data_wire = pd.read_csv('/datasets/data_wire_new.csv')\n",
    "data_wire_time = pd.read_csv('/datasets/data_wire_time_new.csv')"
   ]
  },
  {
   "cell_type": "code",
   "execution_count": 4,
   "id": "bf3447be",
   "metadata": {},
   "outputs": [],
   "source": [
    "data = [data_arc, data_bulk, data_bulk_time, data_gas, data_temp, data_wire, data_wire_time]"
   ]
  },
  {
   "cell_type": "code",
   "execution_count": 5,
   "id": "490e26de",
   "metadata": {},
   "outputs": [],
   "source": [
    "name = ['data_arc', 'data_bulk', 'data_bulk_time', 'data_gas', 'data_temp', 'data_wire', 'data_wire_time']"
   ]
  },
  {
   "cell_type": "code",
   "execution_count": 6,
   "id": "a2d71484",
   "metadata": {
    "scrolled": false
   },
   "outputs": [
    {
     "name": "stdout",
     "output_type": "stream",
     "text": [
      "                 data_arc\n"
     ]
    },
    {
     "data": {
      "text/html": [
       "<div>\n",
       "<style scoped>\n",
       "    .dataframe tbody tr th:only-of-type {\n",
       "        vertical-align: middle;\n",
       "    }\n",
       "\n",
       "    .dataframe tbody tr th {\n",
       "        vertical-align: top;\n",
       "    }\n",
       "\n",
       "    .dataframe thead th {\n",
       "        text-align: right;\n",
       "    }\n",
       "</style>\n",
       "<table border=\"1\" class=\"dataframe\">\n",
       "  <thead>\n",
       "    <tr style=\"text-align: right;\">\n",
       "      <th></th>\n",
       "      <th>key</th>\n",
       "      <th>Начало нагрева дугой</th>\n",
       "      <th>Конец нагрева дугой</th>\n",
       "      <th>Активная мощность</th>\n",
       "      <th>Реактивная мощность</th>\n",
       "    </tr>\n",
       "  </thead>\n",
       "  <tbody>\n",
       "    <tr>\n",
       "      <th>0</th>\n",
       "      <td>1</td>\n",
       "      <td>2019-05-03 11:02:14</td>\n",
       "      <td>2019-05-03 11:06:02</td>\n",
       "      <td>0.305130</td>\n",
       "      <td>0.211253</td>\n",
       "    </tr>\n",
       "    <tr>\n",
       "      <th>1</th>\n",
       "      <td>1</td>\n",
       "      <td>2019-05-03 11:07:28</td>\n",
       "      <td>2019-05-03 11:10:33</td>\n",
       "      <td>0.765658</td>\n",
       "      <td>0.477438</td>\n",
       "    </tr>\n",
       "    <tr>\n",
       "      <th>2</th>\n",
       "      <td>1</td>\n",
       "      <td>2019-05-03 11:11:44</td>\n",
       "      <td>2019-05-03 11:14:36</td>\n",
       "      <td>0.580313</td>\n",
       "      <td>0.430460</td>\n",
       "    </tr>\n",
       "    <tr>\n",
       "      <th>3</th>\n",
       "      <td>1</td>\n",
       "      <td>2019-05-03 11:18:14</td>\n",
       "      <td>2019-05-03 11:24:19</td>\n",
       "      <td>0.518496</td>\n",
       "      <td>0.379979</td>\n",
       "    </tr>\n",
       "    <tr>\n",
       "      <th>4</th>\n",
       "      <td>1</td>\n",
       "      <td>2019-05-03 11:26:09</td>\n",
       "      <td>2019-05-03 11:28:37</td>\n",
       "      <td>0.867133</td>\n",
       "      <td>0.643691</td>\n",
       "    </tr>\n",
       "  </tbody>\n",
       "</table>\n",
       "</div>"
      ],
      "text/plain": [
       "   key Начало нагрева дугой  Конец нагрева дугой  Активная мощность  \\\n",
       "0    1  2019-05-03 11:02:14  2019-05-03 11:06:02           0.305130   \n",
       "1    1  2019-05-03 11:07:28  2019-05-03 11:10:33           0.765658   \n",
       "2    1  2019-05-03 11:11:44  2019-05-03 11:14:36           0.580313   \n",
       "3    1  2019-05-03 11:18:14  2019-05-03 11:24:19           0.518496   \n",
       "4    1  2019-05-03 11:26:09  2019-05-03 11:28:37           0.867133   \n",
       "\n",
       "   Реактивная мощность  \n",
       "0             0.211253  \n",
       "1             0.477438  \n",
       "2             0.430460  \n",
       "3             0.379979  \n",
       "4             0.643691  "
      ]
     },
     "metadata": {},
     "output_type": "display_data"
    },
    {
     "name": "stdout",
     "output_type": "stream",
     "text": [
      "                 data_bulk\n"
     ]
    },
    {
     "data": {
      "text/html": [
       "<div>\n",
       "<style scoped>\n",
       "    .dataframe tbody tr th:only-of-type {\n",
       "        vertical-align: middle;\n",
       "    }\n",
       "\n",
       "    .dataframe tbody tr th {\n",
       "        vertical-align: top;\n",
       "    }\n",
       "\n",
       "    .dataframe thead th {\n",
       "        text-align: right;\n",
       "    }\n",
       "</style>\n",
       "<table border=\"1\" class=\"dataframe\">\n",
       "  <thead>\n",
       "    <tr style=\"text-align: right;\">\n",
       "      <th></th>\n",
       "      <th>key</th>\n",
       "      <th>Bulk 1</th>\n",
       "      <th>Bulk 2</th>\n",
       "      <th>Bulk 3</th>\n",
       "      <th>Bulk 4</th>\n",
       "      <th>Bulk 5</th>\n",
       "      <th>Bulk 6</th>\n",
       "      <th>Bulk 7</th>\n",
       "      <th>Bulk 8</th>\n",
       "      <th>Bulk 9</th>\n",
       "      <th>Bulk 10</th>\n",
       "      <th>Bulk 11</th>\n",
       "      <th>Bulk 12</th>\n",
       "      <th>Bulk 13</th>\n",
       "      <th>Bulk 14</th>\n",
       "      <th>Bulk 15</th>\n",
       "    </tr>\n",
       "  </thead>\n",
       "  <tbody>\n",
       "    <tr>\n",
       "      <th>0</th>\n",
       "      <td>1</td>\n",
       "      <td>NaN</td>\n",
       "      <td>NaN</td>\n",
       "      <td>NaN</td>\n",
       "      <td>43.0</td>\n",
       "      <td>NaN</td>\n",
       "      <td>NaN</td>\n",
       "      <td>NaN</td>\n",
       "      <td>NaN</td>\n",
       "      <td>NaN</td>\n",
       "      <td>NaN</td>\n",
       "      <td>NaN</td>\n",
       "      <td>206.0</td>\n",
       "      <td>NaN</td>\n",
       "      <td>150.0</td>\n",
       "      <td>154.0</td>\n",
       "    </tr>\n",
       "    <tr>\n",
       "      <th>1</th>\n",
       "      <td>2</td>\n",
       "      <td>NaN</td>\n",
       "      <td>NaN</td>\n",
       "      <td>NaN</td>\n",
       "      <td>73.0</td>\n",
       "      <td>NaN</td>\n",
       "      <td>NaN</td>\n",
       "      <td>NaN</td>\n",
       "      <td>NaN</td>\n",
       "      <td>NaN</td>\n",
       "      <td>NaN</td>\n",
       "      <td>NaN</td>\n",
       "      <td>206.0</td>\n",
       "      <td>NaN</td>\n",
       "      <td>149.0</td>\n",
       "      <td>154.0</td>\n",
       "    </tr>\n",
       "    <tr>\n",
       "      <th>2</th>\n",
       "      <td>3</td>\n",
       "      <td>NaN</td>\n",
       "      <td>NaN</td>\n",
       "      <td>NaN</td>\n",
       "      <td>34.0</td>\n",
       "      <td>NaN</td>\n",
       "      <td>NaN</td>\n",
       "      <td>NaN</td>\n",
       "      <td>NaN</td>\n",
       "      <td>NaN</td>\n",
       "      <td>NaN</td>\n",
       "      <td>NaN</td>\n",
       "      <td>205.0</td>\n",
       "      <td>NaN</td>\n",
       "      <td>152.0</td>\n",
       "      <td>153.0</td>\n",
       "    </tr>\n",
       "    <tr>\n",
       "      <th>3</th>\n",
       "      <td>4</td>\n",
       "      <td>NaN</td>\n",
       "      <td>NaN</td>\n",
       "      <td>NaN</td>\n",
       "      <td>81.0</td>\n",
       "      <td>NaN</td>\n",
       "      <td>NaN</td>\n",
       "      <td>NaN</td>\n",
       "      <td>NaN</td>\n",
       "      <td>NaN</td>\n",
       "      <td>NaN</td>\n",
       "      <td>NaN</td>\n",
       "      <td>207.0</td>\n",
       "      <td>NaN</td>\n",
       "      <td>153.0</td>\n",
       "      <td>154.0</td>\n",
       "    </tr>\n",
       "    <tr>\n",
       "      <th>4</th>\n",
       "      <td>5</td>\n",
       "      <td>NaN</td>\n",
       "      <td>NaN</td>\n",
       "      <td>NaN</td>\n",
       "      <td>78.0</td>\n",
       "      <td>NaN</td>\n",
       "      <td>NaN</td>\n",
       "      <td>NaN</td>\n",
       "      <td>NaN</td>\n",
       "      <td>NaN</td>\n",
       "      <td>NaN</td>\n",
       "      <td>NaN</td>\n",
       "      <td>203.0</td>\n",
       "      <td>NaN</td>\n",
       "      <td>151.0</td>\n",
       "      <td>152.0</td>\n",
       "    </tr>\n",
       "  </tbody>\n",
       "</table>\n",
       "</div>"
      ],
      "text/plain": [
       "   key  Bulk 1  Bulk 2  Bulk 3  Bulk 4  Bulk 5  Bulk 6  Bulk 7  Bulk 8  \\\n",
       "0    1     NaN     NaN     NaN    43.0     NaN     NaN     NaN     NaN   \n",
       "1    2     NaN     NaN     NaN    73.0     NaN     NaN     NaN     NaN   \n",
       "2    3     NaN     NaN     NaN    34.0     NaN     NaN     NaN     NaN   \n",
       "3    4     NaN     NaN     NaN    81.0     NaN     NaN     NaN     NaN   \n",
       "4    5     NaN     NaN     NaN    78.0     NaN     NaN     NaN     NaN   \n",
       "\n",
       "   Bulk 9  Bulk 10  Bulk 11  Bulk 12  Bulk 13  Bulk 14  Bulk 15  \n",
       "0     NaN      NaN      NaN    206.0      NaN    150.0    154.0  \n",
       "1     NaN      NaN      NaN    206.0      NaN    149.0    154.0  \n",
       "2     NaN      NaN      NaN    205.0      NaN    152.0    153.0  \n",
       "3     NaN      NaN      NaN    207.0      NaN    153.0    154.0  \n",
       "4     NaN      NaN      NaN    203.0      NaN    151.0    152.0  "
      ]
     },
     "metadata": {},
     "output_type": "display_data"
    },
    {
     "name": "stdout",
     "output_type": "stream",
     "text": [
      "                 data_bulk_time\n"
     ]
    },
    {
     "data": {
      "text/html": [
       "<div>\n",
       "<style scoped>\n",
       "    .dataframe tbody tr th:only-of-type {\n",
       "        vertical-align: middle;\n",
       "    }\n",
       "\n",
       "    .dataframe tbody tr th {\n",
       "        vertical-align: top;\n",
       "    }\n",
       "\n",
       "    .dataframe thead th {\n",
       "        text-align: right;\n",
       "    }\n",
       "</style>\n",
       "<table border=\"1\" class=\"dataframe\">\n",
       "  <thead>\n",
       "    <tr style=\"text-align: right;\">\n",
       "      <th></th>\n",
       "      <th>key</th>\n",
       "      <th>Bulk 1</th>\n",
       "      <th>Bulk 2</th>\n",
       "      <th>Bulk 3</th>\n",
       "      <th>Bulk 4</th>\n",
       "      <th>Bulk 5</th>\n",
       "      <th>Bulk 6</th>\n",
       "      <th>Bulk 7</th>\n",
       "      <th>Bulk 8</th>\n",
       "      <th>Bulk 9</th>\n",
       "      <th>Bulk 10</th>\n",
       "      <th>Bulk 11</th>\n",
       "      <th>Bulk 12</th>\n",
       "      <th>Bulk 13</th>\n",
       "      <th>Bulk 14</th>\n",
       "      <th>Bulk 15</th>\n",
       "    </tr>\n",
       "  </thead>\n",
       "  <tbody>\n",
       "    <tr>\n",
       "      <th>0</th>\n",
       "      <td>1</td>\n",
       "      <td>NaN</td>\n",
       "      <td>NaN</td>\n",
       "      <td>NaN</td>\n",
       "      <td>2019-05-03 11:28:48</td>\n",
       "      <td>NaN</td>\n",
       "      <td>NaN</td>\n",
       "      <td>NaN</td>\n",
       "      <td>NaN</td>\n",
       "      <td>NaN</td>\n",
       "      <td>NaN</td>\n",
       "      <td>NaN</td>\n",
       "      <td>2019-05-03 11:24:31</td>\n",
       "      <td>NaN</td>\n",
       "      <td>2019-05-03 11:14:50</td>\n",
       "      <td>2019-05-03 11:10:43</td>\n",
       "    </tr>\n",
       "    <tr>\n",
       "      <th>1</th>\n",
       "      <td>2</td>\n",
       "      <td>NaN</td>\n",
       "      <td>NaN</td>\n",
       "      <td>NaN</td>\n",
       "      <td>2019-05-03 11:36:50</td>\n",
       "      <td>NaN</td>\n",
       "      <td>NaN</td>\n",
       "      <td>NaN</td>\n",
       "      <td>NaN</td>\n",
       "      <td>NaN</td>\n",
       "      <td>NaN</td>\n",
       "      <td>NaN</td>\n",
       "      <td>2019-05-03 11:53:30</td>\n",
       "      <td>NaN</td>\n",
       "      <td>2019-05-03 11:48:37</td>\n",
       "      <td>2019-05-03 11:44:39</td>\n",
       "    </tr>\n",
       "    <tr>\n",
       "      <th>2</th>\n",
       "      <td>3</td>\n",
       "      <td>NaN</td>\n",
       "      <td>NaN</td>\n",
       "      <td>NaN</td>\n",
       "      <td>2019-05-03 12:32:39</td>\n",
       "      <td>NaN</td>\n",
       "      <td>NaN</td>\n",
       "      <td>NaN</td>\n",
       "      <td>NaN</td>\n",
       "      <td>NaN</td>\n",
       "      <td>NaN</td>\n",
       "      <td>NaN</td>\n",
       "      <td>2019-05-03 12:27:13</td>\n",
       "      <td>NaN</td>\n",
       "      <td>2019-05-03 12:21:01</td>\n",
       "      <td>2019-05-03 12:16:16</td>\n",
       "    </tr>\n",
       "    <tr>\n",
       "      <th>3</th>\n",
       "      <td>4</td>\n",
       "      <td>NaN</td>\n",
       "      <td>NaN</td>\n",
       "      <td>NaN</td>\n",
       "      <td>2019-05-03 12:43:22</td>\n",
       "      <td>NaN</td>\n",
       "      <td>NaN</td>\n",
       "      <td>NaN</td>\n",
       "      <td>NaN</td>\n",
       "      <td>NaN</td>\n",
       "      <td>NaN</td>\n",
       "      <td>NaN</td>\n",
       "      <td>2019-05-03 12:58:00</td>\n",
       "      <td>NaN</td>\n",
       "      <td>2019-05-03 12:51:11</td>\n",
       "      <td>2019-05-03 12:46:36</td>\n",
       "    </tr>\n",
       "    <tr>\n",
       "      <th>4</th>\n",
       "      <td>5</td>\n",
       "      <td>NaN</td>\n",
       "      <td>NaN</td>\n",
       "      <td>NaN</td>\n",
       "      <td>2019-05-03 13:30:47</td>\n",
       "      <td>NaN</td>\n",
       "      <td>NaN</td>\n",
       "      <td>NaN</td>\n",
       "      <td>NaN</td>\n",
       "      <td>NaN</td>\n",
       "      <td>NaN</td>\n",
       "      <td>NaN</td>\n",
       "      <td>2019-05-03 13:30:47</td>\n",
       "      <td>NaN</td>\n",
       "      <td>2019-05-03 13:34:12</td>\n",
       "      <td>2019-05-03 13:30:47</td>\n",
       "    </tr>\n",
       "  </tbody>\n",
       "</table>\n",
       "</div>"
      ],
      "text/plain": [
       "   key Bulk 1 Bulk 2 Bulk 3               Bulk 4 Bulk 5 Bulk 6 Bulk 7 Bulk 8  \\\n",
       "0    1    NaN    NaN    NaN  2019-05-03 11:28:48    NaN    NaN    NaN    NaN   \n",
       "1    2    NaN    NaN    NaN  2019-05-03 11:36:50    NaN    NaN    NaN    NaN   \n",
       "2    3    NaN    NaN    NaN  2019-05-03 12:32:39    NaN    NaN    NaN    NaN   \n",
       "3    4    NaN    NaN    NaN  2019-05-03 12:43:22    NaN    NaN    NaN    NaN   \n",
       "4    5    NaN    NaN    NaN  2019-05-03 13:30:47    NaN    NaN    NaN    NaN   \n",
       "\n",
       "  Bulk 9 Bulk 10 Bulk 11              Bulk 12 Bulk 13              Bulk 14  \\\n",
       "0    NaN     NaN     NaN  2019-05-03 11:24:31     NaN  2019-05-03 11:14:50   \n",
       "1    NaN     NaN     NaN  2019-05-03 11:53:30     NaN  2019-05-03 11:48:37   \n",
       "2    NaN     NaN     NaN  2019-05-03 12:27:13     NaN  2019-05-03 12:21:01   \n",
       "3    NaN     NaN     NaN  2019-05-03 12:58:00     NaN  2019-05-03 12:51:11   \n",
       "4    NaN     NaN     NaN  2019-05-03 13:30:47     NaN  2019-05-03 13:34:12   \n",
       "\n",
       "               Bulk 15  \n",
       "0  2019-05-03 11:10:43  \n",
       "1  2019-05-03 11:44:39  \n",
       "2  2019-05-03 12:16:16  \n",
       "3  2019-05-03 12:46:36  \n",
       "4  2019-05-03 13:30:47  "
      ]
     },
     "metadata": {},
     "output_type": "display_data"
    },
    {
     "name": "stdout",
     "output_type": "stream",
     "text": [
      "                 data_gas\n"
     ]
    },
    {
     "data": {
      "text/html": [
       "<div>\n",
       "<style scoped>\n",
       "    .dataframe tbody tr th:only-of-type {\n",
       "        vertical-align: middle;\n",
       "    }\n",
       "\n",
       "    .dataframe tbody tr th {\n",
       "        vertical-align: top;\n",
       "    }\n",
       "\n",
       "    .dataframe thead th {\n",
       "        text-align: right;\n",
       "    }\n",
       "</style>\n",
       "<table border=\"1\" class=\"dataframe\">\n",
       "  <thead>\n",
       "    <tr style=\"text-align: right;\">\n",
       "      <th></th>\n",
       "      <th>key</th>\n",
       "      <th>Газ 1</th>\n",
       "    </tr>\n",
       "  </thead>\n",
       "  <tbody>\n",
       "    <tr>\n",
       "      <th>0</th>\n",
       "      <td>1</td>\n",
       "      <td>29.749986</td>\n",
       "    </tr>\n",
       "    <tr>\n",
       "      <th>1</th>\n",
       "      <td>2</td>\n",
       "      <td>12.555561</td>\n",
       "    </tr>\n",
       "    <tr>\n",
       "      <th>2</th>\n",
       "      <td>3</td>\n",
       "      <td>28.554793</td>\n",
       "    </tr>\n",
       "    <tr>\n",
       "      <th>3</th>\n",
       "      <td>4</td>\n",
       "      <td>18.841219</td>\n",
       "    </tr>\n",
       "    <tr>\n",
       "      <th>4</th>\n",
       "      <td>5</td>\n",
       "      <td>5.413692</td>\n",
       "    </tr>\n",
       "  </tbody>\n",
       "</table>\n",
       "</div>"
      ],
      "text/plain": [
       "   key      Газ 1\n",
       "0    1  29.749986\n",
       "1    2  12.555561\n",
       "2    3  28.554793\n",
       "3    4  18.841219\n",
       "4    5   5.413692"
      ]
     },
     "metadata": {},
     "output_type": "display_data"
    },
    {
     "name": "stdout",
     "output_type": "stream",
     "text": [
      "                 data_temp\n"
     ]
    },
    {
     "data": {
      "text/html": [
       "<div>\n",
       "<style scoped>\n",
       "    .dataframe tbody tr th:only-of-type {\n",
       "        vertical-align: middle;\n",
       "    }\n",
       "\n",
       "    .dataframe tbody tr th {\n",
       "        vertical-align: top;\n",
       "    }\n",
       "\n",
       "    .dataframe thead th {\n",
       "        text-align: right;\n",
       "    }\n",
       "</style>\n",
       "<table border=\"1\" class=\"dataframe\">\n",
       "  <thead>\n",
       "    <tr style=\"text-align: right;\">\n",
       "      <th></th>\n",
       "      <th>key</th>\n",
       "      <th>Время замера</th>\n",
       "      <th>Температура</th>\n",
       "    </tr>\n",
       "  </thead>\n",
       "  <tbody>\n",
       "    <tr>\n",
       "      <th>0</th>\n",
       "      <td>1</td>\n",
       "      <td>2019-05-03 11:02:04</td>\n",
       "      <td>1571.0</td>\n",
       "    </tr>\n",
       "    <tr>\n",
       "      <th>1</th>\n",
       "      <td>1</td>\n",
       "      <td>2019-05-03 11:07:18</td>\n",
       "      <td>1604.0</td>\n",
       "    </tr>\n",
       "    <tr>\n",
       "      <th>2</th>\n",
       "      <td>1</td>\n",
       "      <td>2019-05-03 11:11:34</td>\n",
       "      <td>1618.0</td>\n",
       "    </tr>\n",
       "    <tr>\n",
       "      <th>3</th>\n",
       "      <td>1</td>\n",
       "      <td>2019-05-03 11:18:04</td>\n",
       "      <td>1601.0</td>\n",
       "    </tr>\n",
       "    <tr>\n",
       "      <th>4</th>\n",
       "      <td>1</td>\n",
       "      <td>2019-05-03 11:25:59</td>\n",
       "      <td>1606.0</td>\n",
       "    </tr>\n",
       "  </tbody>\n",
       "</table>\n",
       "</div>"
      ],
      "text/plain": [
       "   key         Время замера  Температура\n",
       "0    1  2019-05-03 11:02:04       1571.0\n",
       "1    1  2019-05-03 11:07:18       1604.0\n",
       "2    1  2019-05-03 11:11:34       1618.0\n",
       "3    1  2019-05-03 11:18:04       1601.0\n",
       "4    1  2019-05-03 11:25:59       1606.0"
      ]
     },
     "metadata": {},
     "output_type": "display_data"
    },
    {
     "name": "stdout",
     "output_type": "stream",
     "text": [
      "                 data_wire\n"
     ]
    },
    {
     "data": {
      "text/html": [
       "<div>\n",
       "<style scoped>\n",
       "    .dataframe tbody tr th:only-of-type {\n",
       "        vertical-align: middle;\n",
       "    }\n",
       "\n",
       "    .dataframe tbody tr th {\n",
       "        vertical-align: top;\n",
       "    }\n",
       "\n",
       "    .dataframe thead th {\n",
       "        text-align: right;\n",
       "    }\n",
       "</style>\n",
       "<table border=\"1\" class=\"dataframe\">\n",
       "  <thead>\n",
       "    <tr style=\"text-align: right;\">\n",
       "      <th></th>\n",
       "      <th>key</th>\n",
       "      <th>Wire 1</th>\n",
       "      <th>Wire 2</th>\n",
       "      <th>Wire 3</th>\n",
       "      <th>Wire 4</th>\n",
       "      <th>Wire 5</th>\n",
       "      <th>Wire 6</th>\n",
       "      <th>Wire 7</th>\n",
       "      <th>Wire 8</th>\n",
       "      <th>Wire 9</th>\n",
       "    </tr>\n",
       "  </thead>\n",
       "  <tbody>\n",
       "    <tr>\n",
       "      <th>0</th>\n",
       "      <td>1</td>\n",
       "      <td>60.059998</td>\n",
       "      <td>NaN</td>\n",
       "      <td>NaN</td>\n",
       "      <td>NaN</td>\n",
       "      <td>NaN</td>\n",
       "      <td>NaN</td>\n",
       "      <td>NaN</td>\n",
       "      <td>NaN</td>\n",
       "      <td>NaN</td>\n",
       "    </tr>\n",
       "    <tr>\n",
       "      <th>1</th>\n",
       "      <td>2</td>\n",
       "      <td>96.052315</td>\n",
       "      <td>NaN</td>\n",
       "      <td>NaN</td>\n",
       "      <td>NaN</td>\n",
       "      <td>NaN</td>\n",
       "      <td>NaN</td>\n",
       "      <td>NaN</td>\n",
       "      <td>NaN</td>\n",
       "      <td>NaN</td>\n",
       "    </tr>\n",
       "    <tr>\n",
       "      <th>2</th>\n",
       "      <td>3</td>\n",
       "      <td>91.160157</td>\n",
       "      <td>NaN</td>\n",
       "      <td>NaN</td>\n",
       "      <td>NaN</td>\n",
       "      <td>NaN</td>\n",
       "      <td>NaN</td>\n",
       "      <td>NaN</td>\n",
       "      <td>NaN</td>\n",
       "      <td>NaN</td>\n",
       "    </tr>\n",
       "    <tr>\n",
       "      <th>3</th>\n",
       "      <td>4</td>\n",
       "      <td>89.063515</td>\n",
       "      <td>NaN</td>\n",
       "      <td>NaN</td>\n",
       "      <td>NaN</td>\n",
       "      <td>NaN</td>\n",
       "      <td>NaN</td>\n",
       "      <td>NaN</td>\n",
       "      <td>NaN</td>\n",
       "      <td>NaN</td>\n",
       "    </tr>\n",
       "    <tr>\n",
       "      <th>4</th>\n",
       "      <td>5</td>\n",
       "      <td>89.238236</td>\n",
       "      <td>9.11456</td>\n",
       "      <td>NaN</td>\n",
       "      <td>NaN</td>\n",
       "      <td>NaN</td>\n",
       "      <td>NaN</td>\n",
       "      <td>NaN</td>\n",
       "      <td>NaN</td>\n",
       "      <td>NaN</td>\n",
       "    </tr>\n",
       "  </tbody>\n",
       "</table>\n",
       "</div>"
      ],
      "text/plain": [
       "   key     Wire 1   Wire 2  Wire 3  Wire 4  Wire 5  Wire 6  Wire 7  Wire 8  \\\n",
       "0    1  60.059998      NaN     NaN     NaN     NaN     NaN     NaN     NaN   \n",
       "1    2  96.052315      NaN     NaN     NaN     NaN     NaN     NaN     NaN   \n",
       "2    3  91.160157      NaN     NaN     NaN     NaN     NaN     NaN     NaN   \n",
       "3    4  89.063515      NaN     NaN     NaN     NaN     NaN     NaN     NaN   \n",
       "4    5  89.238236  9.11456     NaN     NaN     NaN     NaN     NaN     NaN   \n",
       "\n",
       "   Wire 9  \n",
       "0     NaN  \n",
       "1     NaN  \n",
       "2     NaN  \n",
       "3     NaN  \n",
       "4     NaN  "
      ]
     },
     "metadata": {},
     "output_type": "display_data"
    },
    {
     "name": "stdout",
     "output_type": "stream",
     "text": [
      "                 data_wire_time\n"
     ]
    },
    {
     "data": {
      "text/html": [
       "<div>\n",
       "<style scoped>\n",
       "    .dataframe tbody tr th:only-of-type {\n",
       "        vertical-align: middle;\n",
       "    }\n",
       "\n",
       "    .dataframe tbody tr th {\n",
       "        vertical-align: top;\n",
       "    }\n",
       "\n",
       "    .dataframe thead th {\n",
       "        text-align: right;\n",
       "    }\n",
       "</style>\n",
       "<table border=\"1\" class=\"dataframe\">\n",
       "  <thead>\n",
       "    <tr style=\"text-align: right;\">\n",
       "      <th></th>\n",
       "      <th>key</th>\n",
       "      <th>Wire 1</th>\n",
       "      <th>Wire 2</th>\n",
       "      <th>Wire 3</th>\n",
       "      <th>Wire 4</th>\n",
       "      <th>Wire 5</th>\n",
       "      <th>Wire 6</th>\n",
       "      <th>Wire 7</th>\n",
       "      <th>Wire 8</th>\n",
       "      <th>Wire 9</th>\n",
       "    </tr>\n",
       "  </thead>\n",
       "  <tbody>\n",
       "    <tr>\n",
       "      <th>0</th>\n",
       "      <td>1</td>\n",
       "      <td>2019-05-03 11:06:19</td>\n",
       "      <td>NaN</td>\n",
       "      <td>NaN</td>\n",
       "      <td>NaN</td>\n",
       "      <td>NaN</td>\n",
       "      <td>NaN</td>\n",
       "      <td>NaN</td>\n",
       "      <td>NaN</td>\n",
       "      <td>NaN</td>\n",
       "    </tr>\n",
       "    <tr>\n",
       "      <th>1</th>\n",
       "      <td>2</td>\n",
       "      <td>2019-05-03 11:36:50</td>\n",
       "      <td>NaN</td>\n",
       "      <td>NaN</td>\n",
       "      <td>NaN</td>\n",
       "      <td>NaN</td>\n",
       "      <td>NaN</td>\n",
       "      <td>NaN</td>\n",
       "      <td>NaN</td>\n",
       "      <td>NaN</td>\n",
       "    </tr>\n",
       "    <tr>\n",
       "      <th>2</th>\n",
       "      <td>3</td>\n",
       "      <td>2019-05-03 12:11:46</td>\n",
       "      <td>NaN</td>\n",
       "      <td>NaN</td>\n",
       "      <td>NaN</td>\n",
       "      <td>NaN</td>\n",
       "      <td>NaN</td>\n",
       "      <td>NaN</td>\n",
       "      <td>NaN</td>\n",
       "      <td>NaN</td>\n",
       "    </tr>\n",
       "    <tr>\n",
       "      <th>3</th>\n",
       "      <td>4</td>\n",
       "      <td>2019-05-03 12:43:22</td>\n",
       "      <td>NaN</td>\n",
       "      <td>NaN</td>\n",
       "      <td>NaN</td>\n",
       "      <td>NaN</td>\n",
       "      <td>NaN</td>\n",
       "      <td>NaN</td>\n",
       "      <td>NaN</td>\n",
       "      <td>NaN</td>\n",
       "    </tr>\n",
       "    <tr>\n",
       "      <th>4</th>\n",
       "      <td>5</td>\n",
       "      <td>2019-05-03 13:20:44</td>\n",
       "      <td>2019-05-03 13:15:34</td>\n",
       "      <td>NaN</td>\n",
       "      <td>NaN</td>\n",
       "      <td>NaN</td>\n",
       "      <td>NaN</td>\n",
       "      <td>NaN</td>\n",
       "      <td>NaN</td>\n",
       "      <td>NaN</td>\n",
       "    </tr>\n",
       "  </tbody>\n",
       "</table>\n",
       "</div>"
      ],
      "text/plain": [
       "   key               Wire 1               Wire 2 Wire 3 Wire 4 Wire 5 Wire 6  \\\n",
       "0    1  2019-05-03 11:06:19                  NaN    NaN    NaN    NaN    NaN   \n",
       "1    2  2019-05-03 11:36:50                  NaN    NaN    NaN    NaN    NaN   \n",
       "2    3  2019-05-03 12:11:46                  NaN    NaN    NaN    NaN    NaN   \n",
       "3    4  2019-05-03 12:43:22                  NaN    NaN    NaN    NaN    NaN   \n",
       "4    5  2019-05-03 13:20:44  2019-05-03 13:15:34    NaN    NaN    NaN    NaN   \n",
       "\n",
       "  Wire 7 Wire 8 Wire 9  \n",
       "0    NaN    NaN    NaN  \n",
       "1    NaN    NaN    NaN  \n",
       "2    NaN    NaN    NaN  \n",
       "3    NaN    NaN    NaN  \n",
       "4    NaN    NaN    NaN  "
      ]
     },
     "metadata": {},
     "output_type": "display_data"
    }
   ],
   "source": [
    "for i in range(len(data)):\n",
    "    print('                ',name[i])\n",
    "    display(data[i].head())"
   ]
  },
  {
   "cell_type": "markdown",
   "id": "0a06b65d",
   "metadata": {},
   "source": [
    "Имеется 7 датафреймов, в которых есть общий столбец - это ключ."
   ]
  },
  {
   "cell_type": "markdown",
   "id": "4126d688",
   "metadata": {},
   "source": [
    "## Исследовательский анализ и предобработка данных"
   ]
  },
  {
   "cell_type": "markdown",
   "id": "349a5455",
   "metadata": {},
   "source": [
    "Выполним исследовательский анализ каждого датафрейма и при необходимости выполним предобработку."
   ]
  },
  {
   "cell_type": "markdown",
   "id": "c5b3d6c2",
   "metadata": {},
   "source": [
    "### Данные об электродах"
   ]
  },
  {
   "cell_type": "code",
   "execution_count": 7,
   "id": "375850fa",
   "metadata": {},
   "outputs": [
    {
     "data": {
      "text/html": [
       "<div>\n",
       "<style scoped>\n",
       "    .dataframe tbody tr th:only-of-type {\n",
       "        vertical-align: middle;\n",
       "    }\n",
       "\n",
       "    .dataframe tbody tr th {\n",
       "        vertical-align: top;\n",
       "    }\n",
       "\n",
       "    .dataframe thead th {\n",
       "        text-align: right;\n",
       "    }\n",
       "</style>\n",
       "<table border=\"1\" class=\"dataframe\">\n",
       "  <thead>\n",
       "    <tr style=\"text-align: right;\">\n",
       "      <th></th>\n",
       "      <th>key</th>\n",
       "      <th>Начало нагрева дугой</th>\n",
       "      <th>Конец нагрева дугой</th>\n",
       "      <th>Активная мощность</th>\n",
       "      <th>Реактивная мощность</th>\n",
       "    </tr>\n",
       "  </thead>\n",
       "  <tbody>\n",
       "    <tr>\n",
       "      <th>0</th>\n",
       "      <td>1</td>\n",
       "      <td>2019-05-03 11:02:14</td>\n",
       "      <td>2019-05-03 11:06:02</td>\n",
       "      <td>0.305130</td>\n",
       "      <td>0.211253</td>\n",
       "    </tr>\n",
       "    <tr>\n",
       "      <th>1</th>\n",
       "      <td>1</td>\n",
       "      <td>2019-05-03 11:07:28</td>\n",
       "      <td>2019-05-03 11:10:33</td>\n",
       "      <td>0.765658</td>\n",
       "      <td>0.477438</td>\n",
       "    </tr>\n",
       "    <tr>\n",
       "      <th>2</th>\n",
       "      <td>1</td>\n",
       "      <td>2019-05-03 11:11:44</td>\n",
       "      <td>2019-05-03 11:14:36</td>\n",
       "      <td>0.580313</td>\n",
       "      <td>0.430460</td>\n",
       "    </tr>\n",
       "    <tr>\n",
       "      <th>3</th>\n",
       "      <td>1</td>\n",
       "      <td>2019-05-03 11:18:14</td>\n",
       "      <td>2019-05-03 11:24:19</td>\n",
       "      <td>0.518496</td>\n",
       "      <td>0.379979</td>\n",
       "    </tr>\n",
       "    <tr>\n",
       "      <th>4</th>\n",
       "      <td>1</td>\n",
       "      <td>2019-05-03 11:26:09</td>\n",
       "      <td>2019-05-03 11:28:37</td>\n",
       "      <td>0.867133</td>\n",
       "      <td>0.643691</td>\n",
       "    </tr>\n",
       "    <tr>\n",
       "      <th>...</th>\n",
       "      <td>...</td>\n",
       "      <td>...</td>\n",
       "      <td>...</td>\n",
       "      <td>...</td>\n",
       "      <td>...</td>\n",
       "    </tr>\n",
       "    <tr>\n",
       "      <th>14871</th>\n",
       "      <td>3241</td>\n",
       "      <td>2019-09-06 16:49:05</td>\n",
       "      <td>2019-09-06 16:51:42</td>\n",
       "      <td>0.439735</td>\n",
       "      <td>0.299579</td>\n",
       "    </tr>\n",
       "    <tr>\n",
       "      <th>14872</th>\n",
       "      <td>3241</td>\n",
       "      <td>2019-09-06 16:55:11</td>\n",
       "      <td>2019-09-06 16:58:11</td>\n",
       "      <td>0.646498</td>\n",
       "      <td>0.458240</td>\n",
       "    </tr>\n",
       "    <tr>\n",
       "      <th>14873</th>\n",
       "      <td>3241</td>\n",
       "      <td>2019-09-06 17:06:48</td>\n",
       "      <td>2019-09-06 17:09:52</td>\n",
       "      <td>1.039726</td>\n",
       "      <td>0.769302</td>\n",
       "    </tr>\n",
       "    <tr>\n",
       "      <th>14874</th>\n",
       "      <td>3241</td>\n",
       "      <td>2019-09-06 17:21:58</td>\n",
       "      <td>2019-09-06 17:22:55</td>\n",
       "      <td>0.530267</td>\n",
       "      <td>0.361543</td>\n",
       "    </tr>\n",
       "    <tr>\n",
       "      <th>14875</th>\n",
       "      <td>3241</td>\n",
       "      <td>2019-09-06 17:24:54</td>\n",
       "      <td>2019-09-06 17:26:15</td>\n",
       "      <td>0.389057</td>\n",
       "      <td>0.251347</td>\n",
       "    </tr>\n",
       "  </tbody>\n",
       "</table>\n",
       "<p>14876 rows × 5 columns</p>\n",
       "</div>"
      ],
      "text/plain": [
       "        key Начало нагрева дугой  Конец нагрева дугой  Активная мощность  \\\n",
       "0         1  2019-05-03 11:02:14  2019-05-03 11:06:02           0.305130   \n",
       "1         1  2019-05-03 11:07:28  2019-05-03 11:10:33           0.765658   \n",
       "2         1  2019-05-03 11:11:44  2019-05-03 11:14:36           0.580313   \n",
       "3         1  2019-05-03 11:18:14  2019-05-03 11:24:19           0.518496   \n",
       "4         1  2019-05-03 11:26:09  2019-05-03 11:28:37           0.867133   \n",
       "...     ...                  ...                  ...                ...   \n",
       "14871  3241  2019-09-06 16:49:05  2019-09-06 16:51:42           0.439735   \n",
       "14872  3241  2019-09-06 16:55:11  2019-09-06 16:58:11           0.646498   \n",
       "14873  3241  2019-09-06 17:06:48  2019-09-06 17:09:52           1.039726   \n",
       "14874  3241  2019-09-06 17:21:58  2019-09-06 17:22:55           0.530267   \n",
       "14875  3241  2019-09-06 17:24:54  2019-09-06 17:26:15           0.389057   \n",
       "\n",
       "       Реактивная мощность  \n",
       "0                 0.211253  \n",
       "1                 0.477438  \n",
       "2                 0.430460  \n",
       "3                 0.379979  \n",
       "4                 0.643691  \n",
       "...                    ...  \n",
       "14871             0.299579  \n",
       "14872             0.458240  \n",
       "14873             0.769302  \n",
       "14874             0.361543  \n",
       "14875             0.251347  \n",
       "\n",
       "[14876 rows x 5 columns]"
      ]
     },
     "execution_count": 7,
     "metadata": {},
     "output_type": "execute_result"
    }
   ],
   "source": [
    "data_arc"
   ]
  },
  {
   "cell_type": "code",
   "execution_count": 8,
   "id": "36776676",
   "metadata": {},
   "outputs": [
    {
     "name": "stdout",
     "output_type": "stream",
     "text": [
      "<class 'pandas.core.frame.DataFrame'>\n",
      "RangeIndex: 14876 entries, 0 to 14875\n",
      "Data columns (total 5 columns):\n",
      " #   Column                Non-Null Count  Dtype  \n",
      "---  ------                --------------  -----  \n",
      " 0   key                   14876 non-null  int64  \n",
      " 1   Начало нагрева дугой  14876 non-null  object \n",
      " 2   Конец нагрева дугой   14876 non-null  object \n",
      " 3   Активная мощность     14876 non-null  float64\n",
      " 4   Реактивная мощность   14876 non-null  float64\n",
      "dtypes: float64(2), int64(1), object(2)\n",
      "memory usage: 581.2+ KB\n"
     ]
    }
   ],
   "source": [
    "data_arc.info()"
   ]
  },
  {
   "cell_type": "markdown",
   "id": "501f8e12",
   "metadata": {},
   "source": [
    "**Пропусков нет.** Начало нагрева дугой и Конец нагрева дугой должны быть типа datetime, а не object."
   ]
  },
  {
   "cell_type": "code",
   "execution_count": 9,
   "id": "e3558bf5",
   "metadata": {},
   "outputs": [],
   "source": [
    "data_arc['Начало нагрева дугой']=pd.to_datetime(data_arc['Начало нагрева дугой'])\n",
    "data_arc['Конец нагрева дугой']=pd.to_datetime(data_arc['Конец нагрева дугой'])"
   ]
  },
  {
   "cell_type": "code",
   "execution_count": 10,
   "id": "5704dddd",
   "metadata": {},
   "outputs": [
    {
     "name": "stdout",
     "output_type": "stream",
     "text": [
      "<class 'pandas.core.frame.DataFrame'>\n",
      "RangeIndex: 14876 entries, 0 to 14875\n",
      "Data columns (total 5 columns):\n",
      " #   Column                Non-Null Count  Dtype         \n",
      "---  ------                --------------  -----         \n",
      " 0   key                   14876 non-null  int64         \n",
      " 1   Начало нагрева дугой  14876 non-null  datetime64[ns]\n",
      " 2   Конец нагрева дугой   14876 non-null  datetime64[ns]\n",
      " 3   Активная мощность     14876 non-null  float64       \n",
      " 4   Реактивная мощность   14876 non-null  float64       \n",
      "dtypes: datetime64[ns](2), float64(2), int64(1)\n",
      "memory usage: 581.2 KB\n"
     ]
    }
   ],
   "source": [
    "data_arc.info()"
   ]
  },
  {
   "cell_type": "markdown",
   "id": "a162d7aa",
   "metadata": {},
   "source": [
    "Посмотрим на столбец реактивная мощность:"
   ]
  },
  {
   "cell_type": "code",
   "execution_count": 11,
   "id": "52fba0a3",
   "metadata": {},
   "outputs": [
    {
     "data": {
      "text/html": [
       "<div>\n",
       "<style scoped>\n",
       "    .dataframe tbody tr th:only-of-type {\n",
       "        vertical-align: middle;\n",
       "    }\n",
       "\n",
       "    .dataframe tbody tr th {\n",
       "        vertical-align: top;\n",
       "    }\n",
       "\n",
       "    .dataframe thead th {\n",
       "        text-align: right;\n",
       "    }\n",
       "</style>\n",
       "<table border=\"1\" class=\"dataframe\">\n",
       "  <thead>\n",
       "    <tr style=\"text-align: right;\">\n",
       "      <th></th>\n",
       "      <th>key</th>\n",
       "      <th>Начало нагрева дугой</th>\n",
       "      <th>Конец нагрева дугой</th>\n",
       "      <th>Активная мощность</th>\n",
       "      <th>Реактивная мощность</th>\n",
       "    </tr>\n",
       "  </thead>\n",
       "  <tbody>\n",
       "    <tr>\n",
       "      <th>9780</th>\n",
       "      <td>2116</td>\n",
       "      <td>2019-07-28 02:22:08</td>\n",
       "      <td>2019-07-28 02:23:57</td>\n",
       "      <td>0.705344</td>\n",
       "      <td>-715.479924</td>\n",
       "    </tr>\n",
       "  </tbody>\n",
       "</table>\n",
       "</div>"
      ],
      "text/plain": [
       "       key Начало нагрева дугой Конец нагрева дугой  Активная мощность  \\\n",
       "9780  2116  2019-07-28 02:22:08 2019-07-28 02:23:57           0.705344   \n",
       "\n",
       "      Реактивная мощность  \n",
       "9780          -715.479924  "
      ]
     },
     "execution_count": 11,
     "metadata": {},
     "output_type": "execute_result"
    }
   ],
   "source": [
    "data_arc[data_arc['Реактивная мощность'] < 0]"
   ]
  },
  {
   "cell_type": "markdown",
   "id": "63c4459e",
   "metadata": {},
   "source": [
    "По требованию заказчика, необходимо удалить данный ключ."
   ]
  },
  {
   "cell_type": "code",
   "execution_count": 12,
   "id": "27a6e3a0",
   "metadata": {},
   "outputs": [],
   "source": [
    "data_arc = data_arc[data_arc['key'] !=2116]"
   ]
  },
  {
   "cell_type": "code",
   "execution_count": 13,
   "id": "0eb61500",
   "metadata": {},
   "outputs": [
    {
     "data": {
      "text/html": [
       "<div>\n",
       "<style scoped>\n",
       "    .dataframe tbody tr th:only-of-type {\n",
       "        vertical-align: middle;\n",
       "    }\n",
       "\n",
       "    .dataframe tbody tr th {\n",
       "        vertical-align: top;\n",
       "    }\n",
       "\n",
       "    .dataframe thead th {\n",
       "        text-align: right;\n",
       "    }\n",
       "</style>\n",
       "<table border=\"1\" class=\"dataframe\">\n",
       "  <thead>\n",
       "    <tr style=\"text-align: right;\">\n",
       "      <th></th>\n",
       "      <th>key</th>\n",
       "      <th>Начало нагрева дугой</th>\n",
       "      <th>Конец нагрева дугой</th>\n",
       "      <th>Активная мощность</th>\n",
       "      <th>Реактивная мощность</th>\n",
       "    </tr>\n",
       "  </thead>\n",
       "  <tbody>\n",
       "    <tr>\n",
       "      <th>0</th>\n",
       "      <td>1</td>\n",
       "      <td>2019-05-03 11:02:14</td>\n",
       "      <td>2019-05-03 11:06:02</td>\n",
       "      <td>0.305130</td>\n",
       "      <td>0.211253</td>\n",
       "    </tr>\n",
       "    <tr>\n",
       "      <th>1</th>\n",
       "      <td>1</td>\n",
       "      <td>2019-05-03 11:07:28</td>\n",
       "      <td>2019-05-03 11:10:33</td>\n",
       "      <td>0.765658</td>\n",
       "      <td>0.477438</td>\n",
       "    </tr>\n",
       "    <tr>\n",
       "      <th>2</th>\n",
       "      <td>1</td>\n",
       "      <td>2019-05-03 11:11:44</td>\n",
       "      <td>2019-05-03 11:14:36</td>\n",
       "      <td>0.580313</td>\n",
       "      <td>0.430460</td>\n",
       "    </tr>\n",
       "    <tr>\n",
       "      <th>3</th>\n",
       "      <td>1</td>\n",
       "      <td>2019-05-03 11:18:14</td>\n",
       "      <td>2019-05-03 11:24:19</td>\n",
       "      <td>0.518496</td>\n",
       "      <td>0.379979</td>\n",
       "    </tr>\n",
       "    <tr>\n",
       "      <th>4</th>\n",
       "      <td>1</td>\n",
       "      <td>2019-05-03 11:26:09</td>\n",
       "      <td>2019-05-03 11:28:37</td>\n",
       "      <td>0.867133</td>\n",
       "      <td>0.643691</td>\n",
       "    </tr>\n",
       "    <tr>\n",
       "      <th>...</th>\n",
       "      <td>...</td>\n",
       "      <td>...</td>\n",
       "      <td>...</td>\n",
       "      <td>...</td>\n",
       "      <td>...</td>\n",
       "    </tr>\n",
       "    <tr>\n",
       "      <th>14871</th>\n",
       "      <td>3241</td>\n",
       "      <td>2019-09-06 16:49:05</td>\n",
       "      <td>2019-09-06 16:51:42</td>\n",
       "      <td>0.439735</td>\n",
       "      <td>0.299579</td>\n",
       "    </tr>\n",
       "    <tr>\n",
       "      <th>14872</th>\n",
       "      <td>3241</td>\n",
       "      <td>2019-09-06 16:55:11</td>\n",
       "      <td>2019-09-06 16:58:11</td>\n",
       "      <td>0.646498</td>\n",
       "      <td>0.458240</td>\n",
       "    </tr>\n",
       "    <tr>\n",
       "      <th>14873</th>\n",
       "      <td>3241</td>\n",
       "      <td>2019-09-06 17:06:48</td>\n",
       "      <td>2019-09-06 17:09:52</td>\n",
       "      <td>1.039726</td>\n",
       "      <td>0.769302</td>\n",
       "    </tr>\n",
       "    <tr>\n",
       "      <th>14874</th>\n",
       "      <td>3241</td>\n",
       "      <td>2019-09-06 17:21:58</td>\n",
       "      <td>2019-09-06 17:22:55</td>\n",
       "      <td>0.530267</td>\n",
       "      <td>0.361543</td>\n",
       "    </tr>\n",
       "    <tr>\n",
       "      <th>14875</th>\n",
       "      <td>3241</td>\n",
       "      <td>2019-09-06 17:24:54</td>\n",
       "      <td>2019-09-06 17:26:15</td>\n",
       "      <td>0.389057</td>\n",
       "      <td>0.251347</td>\n",
       "    </tr>\n",
       "  </tbody>\n",
       "</table>\n",
       "<p>14872 rows × 5 columns</p>\n",
       "</div>"
      ],
      "text/plain": [
       "        key Начало нагрева дугой Конец нагрева дугой  Активная мощность  \\\n",
       "0         1  2019-05-03 11:02:14 2019-05-03 11:06:02           0.305130   \n",
       "1         1  2019-05-03 11:07:28 2019-05-03 11:10:33           0.765658   \n",
       "2         1  2019-05-03 11:11:44 2019-05-03 11:14:36           0.580313   \n",
       "3         1  2019-05-03 11:18:14 2019-05-03 11:24:19           0.518496   \n",
       "4         1  2019-05-03 11:26:09 2019-05-03 11:28:37           0.867133   \n",
       "...     ...                  ...                 ...                ...   \n",
       "14871  3241  2019-09-06 16:49:05 2019-09-06 16:51:42           0.439735   \n",
       "14872  3241  2019-09-06 16:55:11 2019-09-06 16:58:11           0.646498   \n",
       "14873  3241  2019-09-06 17:06:48 2019-09-06 17:09:52           1.039726   \n",
       "14874  3241  2019-09-06 17:21:58 2019-09-06 17:22:55           0.530267   \n",
       "14875  3241  2019-09-06 17:24:54 2019-09-06 17:26:15           0.389057   \n",
       "\n",
       "       Реактивная мощность  \n",
       "0                 0.211253  \n",
       "1                 0.477438  \n",
       "2                 0.430460  \n",
       "3                 0.379979  \n",
       "4                 0.643691  \n",
       "...                    ...  \n",
       "14871             0.299579  \n",
       "14872             0.458240  \n",
       "14873             0.769302  \n",
       "14874             0.361543  \n",
       "14875             0.251347  \n",
       "\n",
       "[14872 rows x 5 columns]"
      ]
     },
     "execution_count": 13,
     "metadata": {},
     "output_type": "execute_result"
    }
   ],
   "source": [
    "data_arc"
   ]
  },
  {
   "cell_type": "markdown",
   "id": "a5763811",
   "metadata": {},
   "source": [
    "Добавим столбец `Время нагрева дугой` и переведем сразу в секунды:"
   ]
  },
  {
   "cell_type": "code",
   "execution_count": 14,
   "id": "9ae8f8a9",
   "metadata": {},
   "outputs": [
    {
     "name": "stderr",
     "output_type": "stream",
     "text": [
      "/tmp/ipykernel_113/3217754260.py:1: SettingWithCopyWarning: \n",
      "A value is trying to be set on a copy of a slice from a DataFrame.\n",
      "Try using .loc[row_indexer,col_indexer] = value instead\n",
      "\n",
      "See the caveats in the documentation: https://pandas.pydata.org/pandas-docs/stable/user_guide/indexing.html#returning-a-view-versus-a-copy\n",
      "  data_arc['Время нагрева дугой'] = data_arc['Конец нагрева дугой'] - data_arc['Начало нагрева дугой']\n",
      "/tmp/ipykernel_113/3217754260.py:2: SettingWithCopyWarning: \n",
      "A value is trying to be set on a copy of a slice from a DataFrame.\n",
      "Try using .loc[row_indexer,col_indexer] = value instead\n",
      "\n",
      "See the caveats in the documentation: https://pandas.pydata.org/pandas-docs/stable/user_guide/indexing.html#returning-a-view-versus-a-copy\n",
      "  data_arc['Время нагрева дугой'] = data_arc['Время нагрева дугой'].dt.total_seconds()\n"
     ]
    }
   ],
   "source": [
    "data_arc['Время нагрева дугой'] = data_arc['Конец нагрева дугой'] - data_arc['Начало нагрева дугой']\n",
    "data_arc['Время нагрева дугой'] = data_arc['Время нагрева дугой'].dt.total_seconds()"
   ]
  },
  {
   "cell_type": "markdown",
   "id": "b3801887",
   "metadata": {},
   "source": [
    "Сосчитаем число итераций нагрева и произведем агрегацию данных по ключу:"
   ]
  },
  {
   "cell_type": "code",
   "execution_count": 15,
   "id": "749bd53d",
   "metadata": {},
   "outputs": [
    {
     "name": "stderr",
     "output_type": "stream",
     "text": [
      "/tmp/ipykernel_113/4288785803.py:1: SettingWithCopyWarning: \n",
      "A value is trying to be set on a copy of a slice from a DataFrame.\n",
      "Try using .loc[row_indexer,col_indexer] = value instead\n",
      "\n",
      "See the caveats in the documentation: https://pandas.pydata.org/pandas-docs/stable/user_guide/indexing.html#returning-a-view-versus-a-copy\n",
      "  data_arc['Число итераций нагрева']=1\n"
     ]
    }
   ],
   "source": [
    "data_arc['Число итераций нагрева']=1\n",
    "data_arc = data_arc.groupby('key').agg({'Начало нагрева дугой':'first',\n",
    "                                        'Конец нагрева дугой':'last',\n",
    "                                        'Активная мощность':'mean',\n",
    "                                        'Реактивная мощность':'mean',\n",
    "                                        'Время нагрева дугой':'sum',\n",
    "                                        'Число итераций нагрева':'count'})"
   ]
  },
  {
   "cell_type": "code",
   "execution_count": 16,
   "id": "b7d8f367",
   "metadata": {},
   "outputs": [],
   "source": [
    "data_arc = data_arc.reset_index()"
   ]
  },
  {
   "cell_type": "code",
   "execution_count": 17,
   "id": "a32c13b9",
   "metadata": {},
   "outputs": [
    {
     "data": {
      "text/html": [
       "<div>\n",
       "<style scoped>\n",
       "    .dataframe tbody tr th:only-of-type {\n",
       "        vertical-align: middle;\n",
       "    }\n",
       "\n",
       "    .dataframe tbody tr th {\n",
       "        vertical-align: top;\n",
       "    }\n",
       "\n",
       "    .dataframe thead th {\n",
       "        text-align: right;\n",
       "    }\n",
       "</style>\n",
       "<table border=\"1\" class=\"dataframe\">\n",
       "  <thead>\n",
       "    <tr style=\"text-align: right;\">\n",
       "      <th></th>\n",
       "      <th>key</th>\n",
       "      <th>Начало нагрева дугой</th>\n",
       "      <th>Конец нагрева дугой</th>\n",
       "      <th>Активная мощность</th>\n",
       "      <th>Реактивная мощность</th>\n",
       "      <th>Время нагрева дугой</th>\n",
       "      <th>Число итераций нагрева</th>\n",
       "    </tr>\n",
       "  </thead>\n",
       "  <tbody>\n",
       "    <tr>\n",
       "      <th>0</th>\n",
       "      <td>1</td>\n",
       "      <td>2019-05-03 11:02:14</td>\n",
       "      <td>2019-05-03 11:28:37</td>\n",
       "      <td>0.607346</td>\n",
       "      <td>0.428564</td>\n",
       "      <td>1098.0</td>\n",
       "      <td>5</td>\n",
       "    </tr>\n",
       "    <tr>\n",
       "      <th>1</th>\n",
       "      <td>2</td>\n",
       "      <td>2019-05-03 11:34:14</td>\n",
       "      <td>2019-05-03 11:53:18</td>\n",
       "      <td>0.534852</td>\n",
       "      <td>0.363339</td>\n",
       "      <td>811.0</td>\n",
       "      <td>4</td>\n",
       "    </tr>\n",
       "    <tr>\n",
       "      <th>2</th>\n",
       "      <td>3</td>\n",
       "      <td>2019-05-03 12:06:54</td>\n",
       "      <td>2019-05-03 12:32:19</td>\n",
       "      <td>0.812728</td>\n",
       "      <td>0.587491</td>\n",
       "      <td>655.0</td>\n",
       "      <td>5</td>\n",
       "    </tr>\n",
       "    <tr>\n",
       "      <th>3</th>\n",
       "      <td>4</td>\n",
       "      <td>2019-05-03 12:39:37</td>\n",
       "      <td>2019-05-03 12:57:50</td>\n",
       "      <td>0.676622</td>\n",
       "      <td>0.514248</td>\n",
       "      <td>741.0</td>\n",
       "      <td>4</td>\n",
       "    </tr>\n",
       "    <tr>\n",
       "      <th>4</th>\n",
       "      <td>5</td>\n",
       "      <td>2019-05-03 13:11:13</td>\n",
       "      <td>2019-05-03 13:33:55</td>\n",
       "      <td>0.563238</td>\n",
       "      <td>0.421998</td>\n",
       "      <td>869.0</td>\n",
       "      <td>4</td>\n",
       "    </tr>\n",
       "    <tr>\n",
       "      <th>...</th>\n",
       "      <td>...</td>\n",
       "      <td>...</td>\n",
       "      <td>...</td>\n",
       "      <td>...</td>\n",
       "      <td>...</td>\n",
       "      <td>...</td>\n",
       "      <td>...</td>\n",
       "    </tr>\n",
       "    <tr>\n",
       "      <th>3208</th>\n",
       "      <td>3237</td>\n",
       "      <td>2019-09-06 11:31:25</td>\n",
       "      <td>2019-09-06 11:53:55</td>\n",
       "      <td>0.508374</td>\n",
       "      <td>0.405083</td>\n",
       "      <td>909.0</td>\n",
       "      <td>5</td>\n",
       "    </tr>\n",
       "    <tr>\n",
       "      <th>3209</th>\n",
       "      <td>3238</td>\n",
       "      <td>2019-09-06 12:16:25</td>\n",
       "      <td>2019-09-06 12:31:35</td>\n",
       "      <td>0.458274</td>\n",
       "      <td>0.346034</td>\n",
       "      <td>546.0</td>\n",
       "      <td>3</td>\n",
       "    </tr>\n",
       "    <tr>\n",
       "      <th>3210</th>\n",
       "      <td>3239</td>\n",
       "      <td>2019-09-06 14:17:00</td>\n",
       "      <td>2019-09-06 15:05:50</td>\n",
       "      <td>0.606001</td>\n",
       "      <td>0.442693</td>\n",
       "      <td>1216.0</td>\n",
       "      <td>8</td>\n",
       "    </tr>\n",
       "    <tr>\n",
       "      <th>3211</th>\n",
       "      <td>3240</td>\n",
       "      <td>2019-09-06 15:25:31</td>\n",
       "      <td>2019-09-06 16:24:15</td>\n",
       "      <td>0.663536</td>\n",
       "      <td>0.474710</td>\n",
       "      <td>839.0</td>\n",
       "      <td>5</td>\n",
       "    </tr>\n",
       "    <tr>\n",
       "      <th>3212</th>\n",
       "      <td>3241</td>\n",
       "      <td>2019-09-06 16:49:05</td>\n",
       "      <td>2019-09-06 17:26:15</td>\n",
       "      <td>0.609057</td>\n",
       "      <td>0.428002</td>\n",
       "      <td>659.0</td>\n",
       "      <td>5</td>\n",
       "    </tr>\n",
       "  </tbody>\n",
       "</table>\n",
       "<p>3213 rows × 7 columns</p>\n",
       "</div>"
      ],
      "text/plain": [
       "       key Начало нагрева дугой Конец нагрева дугой  Активная мощность  \\\n",
       "0        1  2019-05-03 11:02:14 2019-05-03 11:28:37           0.607346   \n",
       "1        2  2019-05-03 11:34:14 2019-05-03 11:53:18           0.534852   \n",
       "2        3  2019-05-03 12:06:54 2019-05-03 12:32:19           0.812728   \n",
       "3        4  2019-05-03 12:39:37 2019-05-03 12:57:50           0.676622   \n",
       "4        5  2019-05-03 13:11:13 2019-05-03 13:33:55           0.563238   \n",
       "...    ...                  ...                 ...                ...   \n",
       "3208  3237  2019-09-06 11:31:25 2019-09-06 11:53:55           0.508374   \n",
       "3209  3238  2019-09-06 12:16:25 2019-09-06 12:31:35           0.458274   \n",
       "3210  3239  2019-09-06 14:17:00 2019-09-06 15:05:50           0.606001   \n",
       "3211  3240  2019-09-06 15:25:31 2019-09-06 16:24:15           0.663536   \n",
       "3212  3241  2019-09-06 16:49:05 2019-09-06 17:26:15           0.609057   \n",
       "\n",
       "      Реактивная мощность  Время нагрева дугой  Число итераций нагрева  \n",
       "0                0.428564               1098.0                       5  \n",
       "1                0.363339                811.0                       4  \n",
       "2                0.587491                655.0                       5  \n",
       "3                0.514248                741.0                       4  \n",
       "4                0.421998                869.0                       4  \n",
       "...                   ...                  ...                     ...  \n",
       "3208             0.405083                909.0                       5  \n",
       "3209             0.346034                546.0                       3  \n",
       "3210             0.442693               1216.0                       8  \n",
       "3211             0.474710                839.0                       5  \n",
       "3212             0.428002                659.0                       5  \n",
       "\n",
       "[3213 rows x 7 columns]"
      ]
     },
     "execution_count": 17,
     "metadata": {},
     "output_type": "execute_result"
    }
   ],
   "source": [
    "data_arc"
   ]
  },
  {
   "cell_type": "markdown",
   "id": "e2861d03",
   "metadata": {},
   "source": [
    "### Данные о подаче сыпучих материалов (объём)"
   ]
  },
  {
   "cell_type": "code",
   "execution_count": 18,
   "id": "5be47c1b",
   "metadata": {},
   "outputs": [
    {
     "data": {
      "text/html": [
       "<div>\n",
       "<style scoped>\n",
       "    .dataframe tbody tr th:only-of-type {\n",
       "        vertical-align: middle;\n",
       "    }\n",
       "\n",
       "    .dataframe tbody tr th {\n",
       "        vertical-align: top;\n",
       "    }\n",
       "\n",
       "    .dataframe thead th {\n",
       "        text-align: right;\n",
       "    }\n",
       "</style>\n",
       "<table border=\"1\" class=\"dataframe\">\n",
       "  <thead>\n",
       "    <tr style=\"text-align: right;\">\n",
       "      <th></th>\n",
       "      <th>key</th>\n",
       "      <th>Bulk 1</th>\n",
       "      <th>Bulk 2</th>\n",
       "      <th>Bulk 3</th>\n",
       "      <th>Bulk 4</th>\n",
       "      <th>Bulk 5</th>\n",
       "      <th>Bulk 6</th>\n",
       "      <th>Bulk 7</th>\n",
       "      <th>Bulk 8</th>\n",
       "      <th>Bulk 9</th>\n",
       "      <th>Bulk 10</th>\n",
       "      <th>Bulk 11</th>\n",
       "      <th>Bulk 12</th>\n",
       "      <th>Bulk 13</th>\n",
       "      <th>Bulk 14</th>\n",
       "      <th>Bulk 15</th>\n",
       "    </tr>\n",
       "  </thead>\n",
       "  <tbody>\n",
       "    <tr>\n",
       "      <th>0</th>\n",
       "      <td>1</td>\n",
       "      <td>NaN</td>\n",
       "      <td>NaN</td>\n",
       "      <td>NaN</td>\n",
       "      <td>43.0</td>\n",
       "      <td>NaN</td>\n",
       "      <td>NaN</td>\n",
       "      <td>NaN</td>\n",
       "      <td>NaN</td>\n",
       "      <td>NaN</td>\n",
       "      <td>NaN</td>\n",
       "      <td>NaN</td>\n",
       "      <td>206.0</td>\n",
       "      <td>NaN</td>\n",
       "      <td>150.0</td>\n",
       "      <td>154.0</td>\n",
       "    </tr>\n",
       "    <tr>\n",
       "      <th>1</th>\n",
       "      <td>2</td>\n",
       "      <td>NaN</td>\n",
       "      <td>NaN</td>\n",
       "      <td>NaN</td>\n",
       "      <td>73.0</td>\n",
       "      <td>NaN</td>\n",
       "      <td>NaN</td>\n",
       "      <td>NaN</td>\n",
       "      <td>NaN</td>\n",
       "      <td>NaN</td>\n",
       "      <td>NaN</td>\n",
       "      <td>NaN</td>\n",
       "      <td>206.0</td>\n",
       "      <td>NaN</td>\n",
       "      <td>149.0</td>\n",
       "      <td>154.0</td>\n",
       "    </tr>\n",
       "    <tr>\n",
       "      <th>2</th>\n",
       "      <td>3</td>\n",
       "      <td>NaN</td>\n",
       "      <td>NaN</td>\n",
       "      <td>NaN</td>\n",
       "      <td>34.0</td>\n",
       "      <td>NaN</td>\n",
       "      <td>NaN</td>\n",
       "      <td>NaN</td>\n",
       "      <td>NaN</td>\n",
       "      <td>NaN</td>\n",
       "      <td>NaN</td>\n",
       "      <td>NaN</td>\n",
       "      <td>205.0</td>\n",
       "      <td>NaN</td>\n",
       "      <td>152.0</td>\n",
       "      <td>153.0</td>\n",
       "    </tr>\n",
       "    <tr>\n",
       "      <th>3</th>\n",
       "      <td>4</td>\n",
       "      <td>NaN</td>\n",
       "      <td>NaN</td>\n",
       "      <td>NaN</td>\n",
       "      <td>81.0</td>\n",
       "      <td>NaN</td>\n",
       "      <td>NaN</td>\n",
       "      <td>NaN</td>\n",
       "      <td>NaN</td>\n",
       "      <td>NaN</td>\n",
       "      <td>NaN</td>\n",
       "      <td>NaN</td>\n",
       "      <td>207.0</td>\n",
       "      <td>NaN</td>\n",
       "      <td>153.0</td>\n",
       "      <td>154.0</td>\n",
       "    </tr>\n",
       "    <tr>\n",
       "      <th>4</th>\n",
       "      <td>5</td>\n",
       "      <td>NaN</td>\n",
       "      <td>NaN</td>\n",
       "      <td>NaN</td>\n",
       "      <td>78.0</td>\n",
       "      <td>NaN</td>\n",
       "      <td>NaN</td>\n",
       "      <td>NaN</td>\n",
       "      <td>NaN</td>\n",
       "      <td>NaN</td>\n",
       "      <td>NaN</td>\n",
       "      <td>NaN</td>\n",
       "      <td>203.0</td>\n",
       "      <td>NaN</td>\n",
       "      <td>151.0</td>\n",
       "      <td>152.0</td>\n",
       "    </tr>\n",
       "    <tr>\n",
       "      <th>...</th>\n",
       "      <td>...</td>\n",
       "      <td>...</td>\n",
       "      <td>...</td>\n",
       "      <td>...</td>\n",
       "      <td>...</td>\n",
       "      <td>...</td>\n",
       "      <td>...</td>\n",
       "      <td>...</td>\n",
       "      <td>...</td>\n",
       "      <td>...</td>\n",
       "      <td>...</td>\n",
       "      <td>...</td>\n",
       "      <td>...</td>\n",
       "      <td>...</td>\n",
       "      <td>...</td>\n",
       "      <td>...</td>\n",
       "    </tr>\n",
       "    <tr>\n",
       "      <th>3124</th>\n",
       "      <td>3237</td>\n",
       "      <td>NaN</td>\n",
       "      <td>NaN</td>\n",
       "      <td>170.0</td>\n",
       "      <td>NaN</td>\n",
       "      <td>NaN</td>\n",
       "      <td>NaN</td>\n",
       "      <td>NaN</td>\n",
       "      <td>NaN</td>\n",
       "      <td>NaN</td>\n",
       "      <td>NaN</td>\n",
       "      <td>NaN</td>\n",
       "      <td>252.0</td>\n",
       "      <td>NaN</td>\n",
       "      <td>130.0</td>\n",
       "      <td>206.0</td>\n",
       "    </tr>\n",
       "    <tr>\n",
       "      <th>3125</th>\n",
       "      <td>3238</td>\n",
       "      <td>NaN</td>\n",
       "      <td>NaN</td>\n",
       "      <td>126.0</td>\n",
       "      <td>NaN</td>\n",
       "      <td>NaN</td>\n",
       "      <td>NaN</td>\n",
       "      <td>NaN</td>\n",
       "      <td>NaN</td>\n",
       "      <td>NaN</td>\n",
       "      <td>NaN</td>\n",
       "      <td>NaN</td>\n",
       "      <td>254.0</td>\n",
       "      <td>NaN</td>\n",
       "      <td>108.0</td>\n",
       "      <td>106.0</td>\n",
       "    </tr>\n",
       "    <tr>\n",
       "      <th>3126</th>\n",
       "      <td>3239</td>\n",
       "      <td>NaN</td>\n",
       "      <td>NaN</td>\n",
       "      <td>NaN</td>\n",
       "      <td>NaN</td>\n",
       "      <td>NaN</td>\n",
       "      <td>114.0</td>\n",
       "      <td>NaN</td>\n",
       "      <td>NaN</td>\n",
       "      <td>NaN</td>\n",
       "      <td>NaN</td>\n",
       "      <td>NaN</td>\n",
       "      <td>158.0</td>\n",
       "      <td>NaN</td>\n",
       "      <td>270.0</td>\n",
       "      <td>88.0</td>\n",
       "    </tr>\n",
       "    <tr>\n",
       "      <th>3127</th>\n",
       "      <td>3240</td>\n",
       "      <td>NaN</td>\n",
       "      <td>NaN</td>\n",
       "      <td>NaN</td>\n",
       "      <td>NaN</td>\n",
       "      <td>NaN</td>\n",
       "      <td>26.0</td>\n",
       "      <td>NaN</td>\n",
       "      <td>NaN</td>\n",
       "      <td>NaN</td>\n",
       "      <td>NaN</td>\n",
       "      <td>NaN</td>\n",
       "      <td>NaN</td>\n",
       "      <td>NaN</td>\n",
       "      <td>192.0</td>\n",
       "      <td>54.0</td>\n",
       "    </tr>\n",
       "    <tr>\n",
       "      <th>3128</th>\n",
       "      <td>3241</td>\n",
       "      <td>NaN</td>\n",
       "      <td>NaN</td>\n",
       "      <td>NaN</td>\n",
       "      <td>NaN</td>\n",
       "      <td>NaN</td>\n",
       "      <td>NaN</td>\n",
       "      <td>NaN</td>\n",
       "      <td>NaN</td>\n",
       "      <td>NaN</td>\n",
       "      <td>NaN</td>\n",
       "      <td>NaN</td>\n",
       "      <td>NaN</td>\n",
       "      <td>NaN</td>\n",
       "      <td>180.0</td>\n",
       "      <td>52.0</td>\n",
       "    </tr>\n",
       "  </tbody>\n",
       "</table>\n",
       "<p>3129 rows × 16 columns</p>\n",
       "</div>"
      ],
      "text/plain": [
       "       key  Bulk 1  Bulk 2  Bulk 3  Bulk 4  Bulk 5  Bulk 6  Bulk 7  Bulk 8  \\\n",
       "0        1     NaN     NaN     NaN    43.0     NaN     NaN     NaN     NaN   \n",
       "1        2     NaN     NaN     NaN    73.0     NaN     NaN     NaN     NaN   \n",
       "2        3     NaN     NaN     NaN    34.0     NaN     NaN     NaN     NaN   \n",
       "3        4     NaN     NaN     NaN    81.0     NaN     NaN     NaN     NaN   \n",
       "4        5     NaN     NaN     NaN    78.0     NaN     NaN     NaN     NaN   \n",
       "...    ...     ...     ...     ...     ...     ...     ...     ...     ...   \n",
       "3124  3237     NaN     NaN   170.0     NaN     NaN     NaN     NaN     NaN   \n",
       "3125  3238     NaN     NaN   126.0     NaN     NaN     NaN     NaN     NaN   \n",
       "3126  3239     NaN     NaN     NaN     NaN     NaN   114.0     NaN     NaN   \n",
       "3127  3240     NaN     NaN     NaN     NaN     NaN    26.0     NaN     NaN   \n",
       "3128  3241     NaN     NaN     NaN     NaN     NaN     NaN     NaN     NaN   \n",
       "\n",
       "      Bulk 9  Bulk 10  Bulk 11  Bulk 12  Bulk 13  Bulk 14  Bulk 15  \n",
       "0        NaN      NaN      NaN    206.0      NaN    150.0    154.0  \n",
       "1        NaN      NaN      NaN    206.0      NaN    149.0    154.0  \n",
       "2        NaN      NaN      NaN    205.0      NaN    152.0    153.0  \n",
       "3        NaN      NaN      NaN    207.0      NaN    153.0    154.0  \n",
       "4        NaN      NaN      NaN    203.0      NaN    151.0    152.0  \n",
       "...      ...      ...      ...      ...      ...      ...      ...  \n",
       "3124     NaN      NaN      NaN    252.0      NaN    130.0    206.0  \n",
       "3125     NaN      NaN      NaN    254.0      NaN    108.0    106.0  \n",
       "3126     NaN      NaN      NaN    158.0      NaN    270.0     88.0  \n",
       "3127     NaN      NaN      NaN      NaN      NaN    192.0     54.0  \n",
       "3128     NaN      NaN      NaN      NaN      NaN    180.0     52.0  \n",
       "\n",
       "[3129 rows x 16 columns]"
      ]
     },
     "execution_count": 18,
     "metadata": {},
     "output_type": "execute_result"
    }
   ],
   "source": [
    "data_bulk"
   ]
  },
  {
   "cell_type": "markdown",
   "id": "1cc8e24d",
   "metadata": {},
   "source": [
    "Если значение пропущенно, значит подачи материала не было и можно заменить пропуск нулями"
   ]
  },
  {
   "cell_type": "code",
   "execution_count": 19,
   "id": "83b1e271",
   "metadata": {},
   "outputs": [],
   "source": [
    "data_bulk = data_bulk.fillna(0)"
   ]
  },
  {
   "cell_type": "markdown",
   "id": "14df66ad",
   "metadata": {},
   "source": [
    "### Данные о подаче сыпучих материалов (время)"
   ]
  },
  {
   "cell_type": "code",
   "execution_count": 20,
   "id": "0765d04e",
   "metadata": {},
   "outputs": [
    {
     "data": {
      "text/html": [
       "<div>\n",
       "<style scoped>\n",
       "    .dataframe tbody tr th:only-of-type {\n",
       "        vertical-align: middle;\n",
       "    }\n",
       "\n",
       "    .dataframe tbody tr th {\n",
       "        vertical-align: top;\n",
       "    }\n",
       "\n",
       "    .dataframe thead th {\n",
       "        text-align: right;\n",
       "    }\n",
       "</style>\n",
       "<table border=\"1\" class=\"dataframe\">\n",
       "  <thead>\n",
       "    <tr style=\"text-align: right;\">\n",
       "      <th></th>\n",
       "      <th>key</th>\n",
       "      <th>Bulk 1</th>\n",
       "      <th>Bulk 2</th>\n",
       "      <th>Bulk 3</th>\n",
       "      <th>Bulk 4</th>\n",
       "      <th>Bulk 5</th>\n",
       "      <th>Bulk 6</th>\n",
       "      <th>Bulk 7</th>\n",
       "      <th>Bulk 8</th>\n",
       "      <th>Bulk 9</th>\n",
       "      <th>Bulk 10</th>\n",
       "      <th>Bulk 11</th>\n",
       "      <th>Bulk 12</th>\n",
       "      <th>Bulk 13</th>\n",
       "      <th>Bulk 14</th>\n",
       "      <th>Bulk 15</th>\n",
       "    </tr>\n",
       "  </thead>\n",
       "  <tbody>\n",
       "    <tr>\n",
       "      <th>0</th>\n",
       "      <td>1</td>\n",
       "      <td>NaN</td>\n",
       "      <td>NaN</td>\n",
       "      <td>NaN</td>\n",
       "      <td>2019-05-03 11:28:48</td>\n",
       "      <td>NaN</td>\n",
       "      <td>NaN</td>\n",
       "      <td>NaN</td>\n",
       "      <td>NaN</td>\n",
       "      <td>NaN</td>\n",
       "      <td>NaN</td>\n",
       "      <td>NaN</td>\n",
       "      <td>2019-05-03 11:24:31</td>\n",
       "      <td>NaN</td>\n",
       "      <td>2019-05-03 11:14:50</td>\n",
       "      <td>2019-05-03 11:10:43</td>\n",
       "    </tr>\n",
       "    <tr>\n",
       "      <th>1</th>\n",
       "      <td>2</td>\n",
       "      <td>NaN</td>\n",
       "      <td>NaN</td>\n",
       "      <td>NaN</td>\n",
       "      <td>2019-05-03 11:36:50</td>\n",
       "      <td>NaN</td>\n",
       "      <td>NaN</td>\n",
       "      <td>NaN</td>\n",
       "      <td>NaN</td>\n",
       "      <td>NaN</td>\n",
       "      <td>NaN</td>\n",
       "      <td>NaN</td>\n",
       "      <td>2019-05-03 11:53:30</td>\n",
       "      <td>NaN</td>\n",
       "      <td>2019-05-03 11:48:37</td>\n",
       "      <td>2019-05-03 11:44:39</td>\n",
       "    </tr>\n",
       "    <tr>\n",
       "      <th>2</th>\n",
       "      <td>3</td>\n",
       "      <td>NaN</td>\n",
       "      <td>NaN</td>\n",
       "      <td>NaN</td>\n",
       "      <td>2019-05-03 12:32:39</td>\n",
       "      <td>NaN</td>\n",
       "      <td>NaN</td>\n",
       "      <td>NaN</td>\n",
       "      <td>NaN</td>\n",
       "      <td>NaN</td>\n",
       "      <td>NaN</td>\n",
       "      <td>NaN</td>\n",
       "      <td>2019-05-03 12:27:13</td>\n",
       "      <td>NaN</td>\n",
       "      <td>2019-05-03 12:21:01</td>\n",
       "      <td>2019-05-03 12:16:16</td>\n",
       "    </tr>\n",
       "    <tr>\n",
       "      <th>3</th>\n",
       "      <td>4</td>\n",
       "      <td>NaN</td>\n",
       "      <td>NaN</td>\n",
       "      <td>NaN</td>\n",
       "      <td>2019-05-03 12:43:22</td>\n",
       "      <td>NaN</td>\n",
       "      <td>NaN</td>\n",
       "      <td>NaN</td>\n",
       "      <td>NaN</td>\n",
       "      <td>NaN</td>\n",
       "      <td>NaN</td>\n",
       "      <td>NaN</td>\n",
       "      <td>2019-05-03 12:58:00</td>\n",
       "      <td>NaN</td>\n",
       "      <td>2019-05-03 12:51:11</td>\n",
       "      <td>2019-05-03 12:46:36</td>\n",
       "    </tr>\n",
       "    <tr>\n",
       "      <th>4</th>\n",
       "      <td>5</td>\n",
       "      <td>NaN</td>\n",
       "      <td>NaN</td>\n",
       "      <td>NaN</td>\n",
       "      <td>2019-05-03 13:30:47</td>\n",
       "      <td>NaN</td>\n",
       "      <td>NaN</td>\n",
       "      <td>NaN</td>\n",
       "      <td>NaN</td>\n",
       "      <td>NaN</td>\n",
       "      <td>NaN</td>\n",
       "      <td>NaN</td>\n",
       "      <td>2019-05-03 13:30:47</td>\n",
       "      <td>NaN</td>\n",
       "      <td>2019-05-03 13:34:12</td>\n",
       "      <td>2019-05-03 13:30:47</td>\n",
       "    </tr>\n",
       "    <tr>\n",
       "      <th>...</th>\n",
       "      <td>...</td>\n",
       "      <td>...</td>\n",
       "      <td>...</td>\n",
       "      <td>...</td>\n",
       "      <td>...</td>\n",
       "      <td>...</td>\n",
       "      <td>...</td>\n",
       "      <td>...</td>\n",
       "      <td>...</td>\n",
       "      <td>...</td>\n",
       "      <td>...</td>\n",
       "      <td>...</td>\n",
       "      <td>...</td>\n",
       "      <td>...</td>\n",
       "      <td>...</td>\n",
       "      <td>...</td>\n",
       "    </tr>\n",
       "    <tr>\n",
       "      <th>3124</th>\n",
       "      <td>3237</td>\n",
       "      <td>NaN</td>\n",
       "      <td>NaN</td>\n",
       "      <td>2019-09-06 11:54:15</td>\n",
       "      <td>NaN</td>\n",
       "      <td>NaN</td>\n",
       "      <td>NaN</td>\n",
       "      <td>NaN</td>\n",
       "      <td>NaN</td>\n",
       "      <td>NaN</td>\n",
       "      <td>NaN</td>\n",
       "      <td>NaN</td>\n",
       "      <td>2019-09-06 11:49:45</td>\n",
       "      <td>NaN</td>\n",
       "      <td>2019-09-06 11:45:22</td>\n",
       "      <td>2019-09-06 11:40:06</td>\n",
       "    </tr>\n",
       "    <tr>\n",
       "      <th>3125</th>\n",
       "      <td>3238</td>\n",
       "      <td>NaN</td>\n",
       "      <td>NaN</td>\n",
       "      <td>2019-09-06 12:26:52</td>\n",
       "      <td>NaN</td>\n",
       "      <td>NaN</td>\n",
       "      <td>NaN</td>\n",
       "      <td>NaN</td>\n",
       "      <td>NaN</td>\n",
       "      <td>NaN</td>\n",
       "      <td>NaN</td>\n",
       "      <td>NaN</td>\n",
       "      <td>2019-09-06 12:18:35</td>\n",
       "      <td>NaN</td>\n",
       "      <td>2019-09-06 12:31:49</td>\n",
       "      <td>2019-09-06 12:26:52</td>\n",
       "    </tr>\n",
       "    <tr>\n",
       "      <th>3126</th>\n",
       "      <td>3239</td>\n",
       "      <td>NaN</td>\n",
       "      <td>NaN</td>\n",
       "      <td>NaN</td>\n",
       "      <td>NaN</td>\n",
       "      <td>NaN</td>\n",
       "      <td>2019-09-06 15:06:00</td>\n",
       "      <td>NaN</td>\n",
       "      <td>NaN</td>\n",
       "      <td>NaN</td>\n",
       "      <td>NaN</td>\n",
       "      <td>NaN</td>\n",
       "      <td>2019-09-06 15:01:44</td>\n",
       "      <td>NaN</td>\n",
       "      <td>2019-09-06 14:58:15</td>\n",
       "      <td>2019-09-06 14:48:06</td>\n",
       "    </tr>\n",
       "    <tr>\n",
       "      <th>3127</th>\n",
       "      <td>3240</td>\n",
       "      <td>NaN</td>\n",
       "      <td>NaN</td>\n",
       "      <td>NaN</td>\n",
       "      <td>NaN</td>\n",
       "      <td>NaN</td>\n",
       "      <td>2019-09-06 16:24:28</td>\n",
       "      <td>NaN</td>\n",
       "      <td>NaN</td>\n",
       "      <td>NaN</td>\n",
       "      <td>NaN</td>\n",
       "      <td>NaN</td>\n",
       "      <td>NaN</td>\n",
       "      <td>NaN</td>\n",
       "      <td>2019-09-06 16:07:29</td>\n",
       "      <td>2019-09-06 16:01:34</td>\n",
       "    </tr>\n",
       "    <tr>\n",
       "      <th>3128</th>\n",
       "      <td>3241</td>\n",
       "      <td>NaN</td>\n",
       "      <td>NaN</td>\n",
       "      <td>NaN</td>\n",
       "      <td>NaN</td>\n",
       "      <td>NaN</td>\n",
       "      <td>NaN</td>\n",
       "      <td>NaN</td>\n",
       "      <td>NaN</td>\n",
       "      <td>NaN</td>\n",
       "      <td>NaN</td>\n",
       "      <td>NaN</td>\n",
       "      <td>NaN</td>\n",
       "      <td>NaN</td>\n",
       "      <td>2019-09-06 17:26:33</td>\n",
       "      <td>2019-09-06 17:23:15</td>\n",
       "    </tr>\n",
       "  </tbody>\n",
       "</table>\n",
       "<p>3129 rows × 16 columns</p>\n",
       "</div>"
      ],
      "text/plain": [
       "       key Bulk 1 Bulk 2               Bulk 3               Bulk 4 Bulk 5  \\\n",
       "0        1    NaN    NaN                  NaN  2019-05-03 11:28:48    NaN   \n",
       "1        2    NaN    NaN                  NaN  2019-05-03 11:36:50    NaN   \n",
       "2        3    NaN    NaN                  NaN  2019-05-03 12:32:39    NaN   \n",
       "3        4    NaN    NaN                  NaN  2019-05-03 12:43:22    NaN   \n",
       "4        5    NaN    NaN                  NaN  2019-05-03 13:30:47    NaN   \n",
       "...    ...    ...    ...                  ...                  ...    ...   \n",
       "3124  3237    NaN    NaN  2019-09-06 11:54:15                  NaN    NaN   \n",
       "3125  3238    NaN    NaN  2019-09-06 12:26:52                  NaN    NaN   \n",
       "3126  3239    NaN    NaN                  NaN                  NaN    NaN   \n",
       "3127  3240    NaN    NaN                  NaN                  NaN    NaN   \n",
       "3128  3241    NaN    NaN                  NaN                  NaN    NaN   \n",
       "\n",
       "                   Bulk 6 Bulk 7 Bulk 8 Bulk 9 Bulk 10 Bulk 11  \\\n",
       "0                     NaN    NaN    NaN    NaN     NaN     NaN   \n",
       "1                     NaN    NaN    NaN    NaN     NaN     NaN   \n",
       "2                     NaN    NaN    NaN    NaN     NaN     NaN   \n",
       "3                     NaN    NaN    NaN    NaN     NaN     NaN   \n",
       "4                     NaN    NaN    NaN    NaN     NaN     NaN   \n",
       "...                   ...    ...    ...    ...     ...     ...   \n",
       "3124                  NaN    NaN    NaN    NaN     NaN     NaN   \n",
       "3125                  NaN    NaN    NaN    NaN     NaN     NaN   \n",
       "3126  2019-09-06 15:06:00    NaN    NaN    NaN     NaN     NaN   \n",
       "3127  2019-09-06 16:24:28    NaN    NaN    NaN     NaN     NaN   \n",
       "3128                  NaN    NaN    NaN    NaN     NaN     NaN   \n",
       "\n",
       "                  Bulk 12 Bulk 13              Bulk 14              Bulk 15  \n",
       "0     2019-05-03 11:24:31     NaN  2019-05-03 11:14:50  2019-05-03 11:10:43  \n",
       "1     2019-05-03 11:53:30     NaN  2019-05-03 11:48:37  2019-05-03 11:44:39  \n",
       "2     2019-05-03 12:27:13     NaN  2019-05-03 12:21:01  2019-05-03 12:16:16  \n",
       "3     2019-05-03 12:58:00     NaN  2019-05-03 12:51:11  2019-05-03 12:46:36  \n",
       "4     2019-05-03 13:30:47     NaN  2019-05-03 13:34:12  2019-05-03 13:30:47  \n",
       "...                   ...     ...                  ...                  ...  \n",
       "3124  2019-09-06 11:49:45     NaN  2019-09-06 11:45:22  2019-09-06 11:40:06  \n",
       "3125  2019-09-06 12:18:35     NaN  2019-09-06 12:31:49  2019-09-06 12:26:52  \n",
       "3126  2019-09-06 15:01:44     NaN  2019-09-06 14:58:15  2019-09-06 14:48:06  \n",
       "3127                  NaN     NaN  2019-09-06 16:07:29  2019-09-06 16:01:34  \n",
       "3128                  NaN     NaN  2019-09-06 17:26:33  2019-09-06 17:23:15  \n",
       "\n",
       "[3129 rows x 16 columns]"
      ]
     },
     "execution_count": 20,
     "metadata": {},
     "output_type": "execute_result"
    }
   ],
   "source": [
    "data_bulk_time"
   ]
  },
  {
   "cell_type": "code",
   "execution_count": 21,
   "id": "834c5875",
   "metadata": {},
   "outputs": [
    {
     "name": "stdout",
     "output_type": "stream",
     "text": [
      "<class 'pandas.core.frame.DataFrame'>\n",
      "RangeIndex: 3129 entries, 0 to 3128\n",
      "Data columns (total 16 columns):\n",
      " #   Column   Non-Null Count  Dtype \n",
      "---  ------   --------------  ----- \n",
      " 0   key      3129 non-null   int64 \n",
      " 1   Bulk 1   252 non-null    object\n",
      " 2   Bulk 2   22 non-null     object\n",
      " 3   Bulk 3   1298 non-null   object\n",
      " 4   Bulk 4   1014 non-null   object\n",
      " 5   Bulk 5   77 non-null     object\n",
      " 6   Bulk 6   576 non-null    object\n",
      " 7   Bulk 7   25 non-null     object\n",
      " 8   Bulk 8   1 non-null      object\n",
      " 9   Bulk 9   19 non-null     object\n",
      " 10  Bulk 10  176 non-null    object\n",
      " 11  Bulk 11  177 non-null    object\n",
      " 12  Bulk 12  2450 non-null   object\n",
      " 13  Bulk 13  18 non-null     object\n",
      " 14  Bulk 14  2806 non-null   object\n",
      " 15  Bulk 15  2248 non-null   object\n",
      "dtypes: int64(1), object(15)\n",
      "memory usage: 391.2+ KB\n"
     ]
    }
   ],
   "source": [
    "data_bulk_time.info()"
   ]
  },
  {
   "cell_type": "markdown",
   "id": "a6e50638",
   "metadata": {},
   "source": [
    "Аналогично предыдущему пункту заменим пропуски нулями"
   ]
  },
  {
   "cell_type": "code",
   "execution_count": 22,
   "id": "aed77d60",
   "metadata": {},
   "outputs": [],
   "source": [
    "data_bulk_time = data_bulk_time.fillna(0)"
   ]
  },
  {
   "cell_type": "markdown",
   "id": "e4115e93",
   "metadata": {},
   "source": [
    "### Данные о продувке сплава газом"
   ]
  },
  {
   "cell_type": "code",
   "execution_count": 23,
   "id": "e7d98912",
   "metadata": {},
   "outputs": [
    {
     "data": {
      "text/html": [
       "<div>\n",
       "<style scoped>\n",
       "    .dataframe tbody tr th:only-of-type {\n",
       "        vertical-align: middle;\n",
       "    }\n",
       "\n",
       "    .dataframe tbody tr th {\n",
       "        vertical-align: top;\n",
       "    }\n",
       "\n",
       "    .dataframe thead th {\n",
       "        text-align: right;\n",
       "    }\n",
       "</style>\n",
       "<table border=\"1\" class=\"dataframe\">\n",
       "  <thead>\n",
       "    <tr style=\"text-align: right;\">\n",
       "      <th></th>\n",
       "      <th>key</th>\n",
       "      <th>Газ 1</th>\n",
       "    </tr>\n",
       "  </thead>\n",
       "  <tbody>\n",
       "    <tr>\n",
       "      <th>0</th>\n",
       "      <td>1</td>\n",
       "      <td>29.749986</td>\n",
       "    </tr>\n",
       "    <tr>\n",
       "      <th>1</th>\n",
       "      <td>2</td>\n",
       "      <td>12.555561</td>\n",
       "    </tr>\n",
       "    <tr>\n",
       "      <th>2</th>\n",
       "      <td>3</td>\n",
       "      <td>28.554793</td>\n",
       "    </tr>\n",
       "    <tr>\n",
       "      <th>3</th>\n",
       "      <td>4</td>\n",
       "      <td>18.841219</td>\n",
       "    </tr>\n",
       "    <tr>\n",
       "      <th>4</th>\n",
       "      <td>5</td>\n",
       "      <td>5.413692</td>\n",
       "    </tr>\n",
       "    <tr>\n",
       "      <th>...</th>\n",
       "      <td>...</td>\n",
       "      <td>...</td>\n",
       "    </tr>\n",
       "    <tr>\n",
       "      <th>3234</th>\n",
       "      <td>3237</td>\n",
       "      <td>5.543905</td>\n",
       "    </tr>\n",
       "    <tr>\n",
       "      <th>3235</th>\n",
       "      <td>3238</td>\n",
       "      <td>6.745669</td>\n",
       "    </tr>\n",
       "    <tr>\n",
       "      <th>3236</th>\n",
       "      <td>3239</td>\n",
       "      <td>16.023518</td>\n",
       "    </tr>\n",
       "    <tr>\n",
       "      <th>3237</th>\n",
       "      <td>3240</td>\n",
       "      <td>11.863103</td>\n",
       "    </tr>\n",
       "    <tr>\n",
       "      <th>3238</th>\n",
       "      <td>3241</td>\n",
       "      <td>12.680959</td>\n",
       "    </tr>\n",
       "  </tbody>\n",
       "</table>\n",
       "<p>3239 rows × 2 columns</p>\n",
       "</div>"
      ],
      "text/plain": [
       "       key      Газ 1\n",
       "0        1  29.749986\n",
       "1        2  12.555561\n",
       "2        3  28.554793\n",
       "3        4  18.841219\n",
       "4        5   5.413692\n",
       "...    ...        ...\n",
       "3234  3237   5.543905\n",
       "3235  3238   6.745669\n",
       "3236  3239  16.023518\n",
       "3237  3240  11.863103\n",
       "3238  3241  12.680959\n",
       "\n",
       "[3239 rows x 2 columns]"
      ]
     },
     "execution_count": 23,
     "metadata": {},
     "output_type": "execute_result"
    }
   ],
   "source": [
    "data_gas"
   ]
  },
  {
   "cell_type": "code",
   "execution_count": 24,
   "id": "5375a4c0",
   "metadata": {},
   "outputs": [
    {
     "name": "stdout",
     "output_type": "stream",
     "text": [
      "<class 'pandas.core.frame.DataFrame'>\n",
      "RangeIndex: 3239 entries, 0 to 3238\n",
      "Data columns (total 2 columns):\n",
      " #   Column  Non-Null Count  Dtype  \n",
      "---  ------  --------------  -----  \n",
      " 0   key     3239 non-null   int64  \n",
      " 1   Газ 1   3239 non-null   float64\n",
      "dtypes: float64(1), int64(1)\n",
      "memory usage: 50.7 KB\n"
     ]
    }
   ],
   "source": [
    "data_gas.info()"
   ]
  },
  {
   "cell_type": "markdown",
   "id": "03de34e4",
   "metadata": {},
   "source": [
    "Пропусков нет"
   ]
  },
  {
   "cell_type": "markdown",
   "id": "71221ded",
   "metadata": {},
   "source": [
    "### Результаты измерения температуры"
   ]
  },
  {
   "cell_type": "code",
   "execution_count": 25,
   "id": "8842b359",
   "metadata": {},
   "outputs": [
    {
     "data": {
      "text/html": [
       "<div>\n",
       "<style scoped>\n",
       "    .dataframe tbody tr th:only-of-type {\n",
       "        vertical-align: middle;\n",
       "    }\n",
       "\n",
       "    .dataframe tbody tr th {\n",
       "        vertical-align: top;\n",
       "    }\n",
       "\n",
       "    .dataframe thead th {\n",
       "        text-align: right;\n",
       "    }\n",
       "</style>\n",
       "<table border=\"1\" class=\"dataframe\">\n",
       "  <thead>\n",
       "    <tr style=\"text-align: right;\">\n",
       "      <th></th>\n",
       "      <th>key</th>\n",
       "      <th>Время замера</th>\n",
       "      <th>Температура</th>\n",
       "    </tr>\n",
       "  </thead>\n",
       "  <tbody>\n",
       "    <tr>\n",
       "      <th>0</th>\n",
       "      <td>1</td>\n",
       "      <td>2019-05-03 11:02:04</td>\n",
       "      <td>1571.0</td>\n",
       "    </tr>\n",
       "    <tr>\n",
       "      <th>1</th>\n",
       "      <td>1</td>\n",
       "      <td>2019-05-03 11:07:18</td>\n",
       "      <td>1604.0</td>\n",
       "    </tr>\n",
       "    <tr>\n",
       "      <th>2</th>\n",
       "      <td>1</td>\n",
       "      <td>2019-05-03 11:11:34</td>\n",
       "      <td>1618.0</td>\n",
       "    </tr>\n",
       "    <tr>\n",
       "      <th>3</th>\n",
       "      <td>1</td>\n",
       "      <td>2019-05-03 11:18:04</td>\n",
       "      <td>1601.0</td>\n",
       "    </tr>\n",
       "    <tr>\n",
       "      <th>4</th>\n",
       "      <td>1</td>\n",
       "      <td>2019-05-03 11:25:59</td>\n",
       "      <td>1606.0</td>\n",
       "    </tr>\n",
       "    <tr>\n",
       "      <th>...</th>\n",
       "      <td>...</td>\n",
       "      <td>...</td>\n",
       "      <td>...</td>\n",
       "    </tr>\n",
       "    <tr>\n",
       "      <th>18087</th>\n",
       "      <td>3241</td>\n",
       "      <td>2019-09-06 16:55:01</td>\n",
       "      <td>NaN</td>\n",
       "    </tr>\n",
       "    <tr>\n",
       "      <th>18088</th>\n",
       "      <td>3241</td>\n",
       "      <td>2019-09-06 17:06:38</td>\n",
       "      <td>NaN</td>\n",
       "    </tr>\n",
       "    <tr>\n",
       "      <th>18089</th>\n",
       "      <td>3241</td>\n",
       "      <td>2019-09-06 17:21:48</td>\n",
       "      <td>NaN</td>\n",
       "    </tr>\n",
       "    <tr>\n",
       "      <th>18090</th>\n",
       "      <td>3241</td>\n",
       "      <td>2019-09-06 17:24:44</td>\n",
       "      <td>NaN</td>\n",
       "    </tr>\n",
       "    <tr>\n",
       "      <th>18091</th>\n",
       "      <td>3241</td>\n",
       "      <td>2019-09-06 17:30:05</td>\n",
       "      <td>NaN</td>\n",
       "    </tr>\n",
       "  </tbody>\n",
       "</table>\n",
       "<p>18092 rows × 3 columns</p>\n",
       "</div>"
      ],
      "text/plain": [
       "        key         Время замера  Температура\n",
       "0         1  2019-05-03 11:02:04       1571.0\n",
       "1         1  2019-05-03 11:07:18       1604.0\n",
       "2         1  2019-05-03 11:11:34       1618.0\n",
       "3         1  2019-05-03 11:18:04       1601.0\n",
       "4         1  2019-05-03 11:25:59       1606.0\n",
       "...     ...                  ...          ...\n",
       "18087  3241  2019-09-06 16:55:01          NaN\n",
       "18088  3241  2019-09-06 17:06:38          NaN\n",
       "18089  3241  2019-09-06 17:21:48          NaN\n",
       "18090  3241  2019-09-06 17:24:44          NaN\n",
       "18091  3241  2019-09-06 17:30:05          NaN\n",
       "\n",
       "[18092 rows x 3 columns]"
      ]
     },
     "execution_count": 25,
     "metadata": {},
     "output_type": "execute_result"
    }
   ],
   "source": [
    "data_temp"
   ]
  },
  {
   "cell_type": "code",
   "execution_count": 26,
   "id": "29ba1588",
   "metadata": {},
   "outputs": [
    {
     "name": "stdout",
     "output_type": "stream",
     "text": [
      "<class 'pandas.core.frame.DataFrame'>\n",
      "RangeIndex: 18092 entries, 0 to 18091\n",
      "Data columns (total 3 columns):\n",
      " #   Column        Non-Null Count  Dtype  \n",
      "---  ------        --------------  -----  \n",
      " 0   key           18092 non-null  int64  \n",
      " 1   Время замера  18092 non-null  object \n",
      " 2   Температура   14665 non-null  float64\n",
      "dtypes: float64(1), int64(1), object(1)\n",
      "memory usage: 424.2+ KB\n"
     ]
    }
   ],
   "source": [
    "data_temp.info()"
   ]
  },
  {
   "cell_type": "markdown",
   "id": "6065fa9e",
   "metadata": {},
   "source": [
    "Удалим строки, где есть пропуски:"
   ]
  },
  {
   "cell_type": "code",
   "execution_count": 27,
   "id": "1e0ee18d",
   "metadata": {},
   "outputs": [],
   "source": [
    "data_temp = data_temp.dropna()"
   ]
  },
  {
   "cell_type": "markdown",
   "id": "e3e1fbd8",
   "metadata": {},
   "source": [
    "По требованию заказчика необходимо удалить все ключи, если есть замеры температуры < 1500 градусов"
   ]
  },
  {
   "cell_type": "code",
   "execution_count": 28,
   "id": "2739e775",
   "metadata": {},
   "outputs": [
    {
     "data": {
      "text/html": [
       "<div>\n",
       "<style scoped>\n",
       "    .dataframe tbody tr th:only-of-type {\n",
       "        vertical-align: middle;\n",
       "    }\n",
       "\n",
       "    .dataframe tbody tr th {\n",
       "        vertical-align: top;\n",
       "    }\n",
       "\n",
       "    .dataframe thead th {\n",
       "        text-align: right;\n",
       "    }\n",
       "</style>\n",
       "<table border=\"1\" class=\"dataframe\">\n",
       "  <thead>\n",
       "    <tr style=\"text-align: right;\">\n",
       "      <th></th>\n",
       "      <th>key</th>\n",
       "      <th>Время замера</th>\n",
       "      <th>Температура</th>\n",
       "    </tr>\n",
       "  </thead>\n",
       "  <tbody>\n",
       "    <tr>\n",
       "      <th>4883</th>\n",
       "      <td>867</td>\n",
       "      <td>2019-06-06 08:03:39</td>\n",
       "      <td>1191.0</td>\n",
       "    </tr>\n",
       "    <tr>\n",
       "      <th>6784</th>\n",
       "      <td>1214</td>\n",
       "      <td>2019-06-18 08:01:03</td>\n",
       "      <td>1208.0</td>\n",
       "    </tr>\n",
       "    <tr>\n",
       "      <th>9050</th>\n",
       "      <td>1619</td>\n",
       "      <td>2019-07-03 02:34:41</td>\n",
       "      <td>1218.0</td>\n",
       "    </tr>\n",
       "    <tr>\n",
       "      <th>11495</th>\n",
       "      <td>2052</td>\n",
       "      <td>2019-07-25 08:49:15</td>\n",
       "      <td>1227.0</td>\n",
       "    </tr>\n",
       "    <tr>\n",
       "      <th>14283</th>\n",
       "      <td>2561</td>\n",
       "      <td>2019-08-12 18:49:29</td>\n",
       "      <td>1204.0</td>\n",
       "    </tr>\n",
       "  </tbody>\n",
       "</table>\n",
       "</div>"
      ],
      "text/plain": [
       "        key         Время замера  Температура\n",
       "4883    867  2019-06-06 08:03:39       1191.0\n",
       "6784   1214  2019-06-18 08:01:03       1208.0\n",
       "9050   1619  2019-07-03 02:34:41       1218.0\n",
       "11495  2052  2019-07-25 08:49:15       1227.0\n",
       "14283  2561  2019-08-12 18:49:29       1204.0"
      ]
     },
     "execution_count": 28,
     "metadata": {},
     "output_type": "execute_result"
    }
   ],
   "source": [
    "data_temp[data_temp['Температура']<1500]"
   ]
  },
  {
   "cell_type": "code",
   "execution_count": 29,
   "id": "df39e7e0",
   "metadata": {},
   "outputs": [],
   "source": [
    "data_temp = data_temp[(data_temp['key']!=867) &\n",
    "                      (data_temp['key']!=1214) &\n",
    "                      (data_temp['key']!=1619) &\n",
    "                      (data_temp['key']!=2052) &\n",
    "                      (data_temp['key']!=2561)]"
   ]
  },
  {
   "cell_type": "markdown",
   "id": "a69e857b",
   "metadata": {},
   "source": [
    "Также по требованию заказчика необходимо удалить все ключи, где только один замер температуры:"
   ]
  },
  {
   "cell_type": "code",
   "execution_count": 30,
   "id": "eed54325",
   "metadata": {},
   "outputs": [],
   "source": [
    "data_temp = data_temp[data_temp['key'].isin(data_temp['key'].value_counts()[data_temp['key'].value_counts() > 1].index)]"
   ]
  },
  {
   "cell_type": "markdown",
   "id": "f63282bb",
   "metadata": {},
   "source": [
    "Поскольку мы можем использовать только первую температуру, то создадим отдельный столбец, который позже будем подавать на вход нашей модели:"
   ]
  },
  {
   "cell_type": "code",
   "execution_count": 31,
   "id": "7fd209c2",
   "metadata": {},
   "outputs": [],
   "source": [
    "data_temp['Начальная температура'] = data_temp['Температура']"
   ]
  },
  {
   "cell_type": "markdown",
   "id": "566029b8",
   "metadata": {},
   "source": [
    "Предсказать нам нужно последнюю температуру по всей партии, произведем агрегацию данных:"
   ]
  },
  {
   "cell_type": "code",
   "execution_count": 32,
   "id": "b464760a",
   "metadata": {},
   "outputs": [],
   "source": [
    "data_temp = data_temp\\\n",
    "            .groupby('key')\\\n",
    "            .agg({'Время замера':'last', 'Температура':'last', 'Начальная температура': 'first'})\\\n",
    "            .reset_index()"
   ]
  },
  {
   "cell_type": "code",
   "execution_count": 33,
   "id": "e04abaca",
   "metadata": {},
   "outputs": [
    {
     "data": {
      "text/html": [
       "<div>\n",
       "<style scoped>\n",
       "    .dataframe tbody tr th:only-of-type {\n",
       "        vertical-align: middle;\n",
       "    }\n",
       "\n",
       "    .dataframe tbody tr th {\n",
       "        vertical-align: top;\n",
       "    }\n",
       "\n",
       "    .dataframe thead th {\n",
       "        text-align: right;\n",
       "    }\n",
       "</style>\n",
       "<table border=\"1\" class=\"dataframe\">\n",
       "  <thead>\n",
       "    <tr style=\"text-align: right;\">\n",
       "      <th></th>\n",
       "      <th>key</th>\n",
       "      <th>Время замера</th>\n",
       "      <th>Температура</th>\n",
       "      <th>Начальная температура</th>\n",
       "    </tr>\n",
       "  </thead>\n",
       "  <tbody>\n",
       "    <tr>\n",
       "      <th>0</th>\n",
       "      <td>1</td>\n",
       "      <td>2019-05-03 11:30:38</td>\n",
       "      <td>1613.0</td>\n",
       "      <td>1571.0</td>\n",
       "    </tr>\n",
       "    <tr>\n",
       "      <th>1</th>\n",
       "      <td>2</td>\n",
       "      <td>2019-05-03 11:55:09</td>\n",
       "      <td>1602.0</td>\n",
       "      <td>1581.0</td>\n",
       "    </tr>\n",
       "    <tr>\n",
       "      <th>2</th>\n",
       "      <td>3</td>\n",
       "      <td>2019-05-03 12:35:57</td>\n",
       "      <td>1599.0</td>\n",
       "      <td>1596.0</td>\n",
       "    </tr>\n",
       "    <tr>\n",
       "      <th>3</th>\n",
       "      <td>4</td>\n",
       "      <td>2019-05-03 12:59:47</td>\n",
       "      <td>1625.0</td>\n",
       "      <td>1601.0</td>\n",
       "    </tr>\n",
       "    <tr>\n",
       "      <th>4</th>\n",
       "      <td>5</td>\n",
       "      <td>2019-05-03 13:36:39</td>\n",
       "      <td>1602.0</td>\n",
       "      <td>1576.0</td>\n",
       "    </tr>\n",
       "    <tr>\n",
       "      <th>...</th>\n",
       "      <td>...</td>\n",
       "      <td>...</td>\n",
       "      <td>...</td>\n",
       "      <td>...</td>\n",
       "    </tr>\n",
       "    <tr>\n",
       "      <th>2466</th>\n",
       "      <td>2495</td>\n",
       "      <td>2019-08-10 11:50:47</td>\n",
       "      <td>1591.0</td>\n",
       "      <td>1570.0</td>\n",
       "    </tr>\n",
       "    <tr>\n",
       "      <th>2467</th>\n",
       "      <td>2496</td>\n",
       "      <td>2019-08-10 12:25:13</td>\n",
       "      <td>1591.0</td>\n",
       "      <td>1554.0</td>\n",
       "    </tr>\n",
       "    <tr>\n",
       "      <th>2468</th>\n",
       "      <td>2497</td>\n",
       "      <td>2019-08-10 12:53:28</td>\n",
       "      <td>1589.0</td>\n",
       "      <td>1571.0</td>\n",
       "    </tr>\n",
       "    <tr>\n",
       "      <th>2469</th>\n",
       "      <td>2498</td>\n",
       "      <td>2019-08-10 13:23:31</td>\n",
       "      <td>1594.0</td>\n",
       "      <td>1591.0</td>\n",
       "    </tr>\n",
       "    <tr>\n",
       "      <th>2470</th>\n",
       "      <td>2499</td>\n",
       "      <td>2019-08-10 13:58:58</td>\n",
       "      <td>1603.0</td>\n",
       "      <td>1569.0</td>\n",
       "    </tr>\n",
       "  </tbody>\n",
       "</table>\n",
       "<p>2471 rows × 4 columns</p>\n",
       "</div>"
      ],
      "text/plain": [
       "       key         Время замера  Температура  Начальная температура\n",
       "0        1  2019-05-03 11:30:38       1613.0                 1571.0\n",
       "1        2  2019-05-03 11:55:09       1602.0                 1581.0\n",
       "2        3  2019-05-03 12:35:57       1599.0                 1596.0\n",
       "3        4  2019-05-03 12:59:47       1625.0                 1601.0\n",
       "4        5  2019-05-03 13:36:39       1602.0                 1576.0\n",
       "...    ...                  ...          ...                    ...\n",
       "2466  2495  2019-08-10 11:50:47       1591.0                 1570.0\n",
       "2467  2496  2019-08-10 12:25:13       1591.0                 1554.0\n",
       "2468  2497  2019-08-10 12:53:28       1589.0                 1571.0\n",
       "2469  2498  2019-08-10 13:23:31       1594.0                 1591.0\n",
       "2470  2499  2019-08-10 13:58:58       1603.0                 1569.0\n",
       "\n",
       "[2471 rows x 4 columns]"
      ]
     },
     "execution_count": 33,
     "metadata": {},
     "output_type": "execute_result"
    }
   ],
   "source": [
    "data_temp"
   ]
  },
  {
   "cell_type": "markdown",
   "id": "c3fee845",
   "metadata": {},
   "source": [
    "### Данные о проволочных материалах (объём)"
   ]
  },
  {
   "cell_type": "code",
   "execution_count": 34,
   "id": "920e7092",
   "metadata": {},
   "outputs": [
    {
     "data": {
      "text/html": [
       "<div>\n",
       "<style scoped>\n",
       "    .dataframe tbody tr th:only-of-type {\n",
       "        vertical-align: middle;\n",
       "    }\n",
       "\n",
       "    .dataframe tbody tr th {\n",
       "        vertical-align: top;\n",
       "    }\n",
       "\n",
       "    .dataframe thead th {\n",
       "        text-align: right;\n",
       "    }\n",
       "</style>\n",
       "<table border=\"1\" class=\"dataframe\">\n",
       "  <thead>\n",
       "    <tr style=\"text-align: right;\">\n",
       "      <th></th>\n",
       "      <th>key</th>\n",
       "      <th>Wire 1</th>\n",
       "      <th>Wire 2</th>\n",
       "      <th>Wire 3</th>\n",
       "      <th>Wire 4</th>\n",
       "      <th>Wire 5</th>\n",
       "      <th>Wire 6</th>\n",
       "      <th>Wire 7</th>\n",
       "      <th>Wire 8</th>\n",
       "      <th>Wire 9</th>\n",
       "    </tr>\n",
       "  </thead>\n",
       "  <tbody>\n",
       "    <tr>\n",
       "      <th>0</th>\n",
       "      <td>1</td>\n",
       "      <td>60.059998</td>\n",
       "      <td>NaN</td>\n",
       "      <td>NaN</td>\n",
       "      <td>NaN</td>\n",
       "      <td>NaN</td>\n",
       "      <td>NaN</td>\n",
       "      <td>NaN</td>\n",
       "      <td>NaN</td>\n",
       "      <td>NaN</td>\n",
       "    </tr>\n",
       "    <tr>\n",
       "      <th>1</th>\n",
       "      <td>2</td>\n",
       "      <td>96.052315</td>\n",
       "      <td>NaN</td>\n",
       "      <td>NaN</td>\n",
       "      <td>NaN</td>\n",
       "      <td>NaN</td>\n",
       "      <td>NaN</td>\n",
       "      <td>NaN</td>\n",
       "      <td>NaN</td>\n",
       "      <td>NaN</td>\n",
       "    </tr>\n",
       "    <tr>\n",
       "      <th>2</th>\n",
       "      <td>3</td>\n",
       "      <td>91.160157</td>\n",
       "      <td>NaN</td>\n",
       "      <td>NaN</td>\n",
       "      <td>NaN</td>\n",
       "      <td>NaN</td>\n",
       "      <td>NaN</td>\n",
       "      <td>NaN</td>\n",
       "      <td>NaN</td>\n",
       "      <td>NaN</td>\n",
       "    </tr>\n",
       "    <tr>\n",
       "      <th>3</th>\n",
       "      <td>4</td>\n",
       "      <td>89.063515</td>\n",
       "      <td>NaN</td>\n",
       "      <td>NaN</td>\n",
       "      <td>NaN</td>\n",
       "      <td>NaN</td>\n",
       "      <td>NaN</td>\n",
       "      <td>NaN</td>\n",
       "      <td>NaN</td>\n",
       "      <td>NaN</td>\n",
       "    </tr>\n",
       "    <tr>\n",
       "      <th>4</th>\n",
       "      <td>5</td>\n",
       "      <td>89.238236</td>\n",
       "      <td>9.11456</td>\n",
       "      <td>NaN</td>\n",
       "      <td>NaN</td>\n",
       "      <td>NaN</td>\n",
       "      <td>NaN</td>\n",
       "      <td>NaN</td>\n",
       "      <td>NaN</td>\n",
       "      <td>NaN</td>\n",
       "    </tr>\n",
       "    <tr>\n",
       "      <th>...</th>\n",
       "      <td>...</td>\n",
       "      <td>...</td>\n",
       "      <td>...</td>\n",
       "      <td>...</td>\n",
       "      <td>...</td>\n",
       "      <td>...</td>\n",
       "      <td>...</td>\n",
       "      <td>...</td>\n",
       "      <td>...</td>\n",
       "      <td>...</td>\n",
       "    </tr>\n",
       "    <tr>\n",
       "      <th>3076</th>\n",
       "      <td>3237</td>\n",
       "      <td>38.088959</td>\n",
       "      <td>NaN</td>\n",
       "      <td>NaN</td>\n",
       "      <td>NaN</td>\n",
       "      <td>NaN</td>\n",
       "      <td>NaN</td>\n",
       "      <td>NaN</td>\n",
       "      <td>NaN</td>\n",
       "      <td>NaN</td>\n",
       "    </tr>\n",
       "    <tr>\n",
       "      <th>3077</th>\n",
       "      <td>3238</td>\n",
       "      <td>56.128799</td>\n",
       "      <td>NaN</td>\n",
       "      <td>NaN</td>\n",
       "      <td>NaN</td>\n",
       "      <td>NaN</td>\n",
       "      <td>NaN</td>\n",
       "      <td>NaN</td>\n",
       "      <td>NaN</td>\n",
       "      <td>NaN</td>\n",
       "    </tr>\n",
       "    <tr>\n",
       "      <th>3078</th>\n",
       "      <td>3239</td>\n",
       "      <td>143.357761</td>\n",
       "      <td>NaN</td>\n",
       "      <td>NaN</td>\n",
       "      <td>NaN</td>\n",
       "      <td>NaN</td>\n",
       "      <td>NaN</td>\n",
       "      <td>NaN</td>\n",
       "      <td>NaN</td>\n",
       "      <td>NaN</td>\n",
       "    </tr>\n",
       "    <tr>\n",
       "      <th>3079</th>\n",
       "      <td>3240</td>\n",
       "      <td>34.070400</td>\n",
       "      <td>NaN</td>\n",
       "      <td>NaN</td>\n",
       "      <td>NaN</td>\n",
       "      <td>NaN</td>\n",
       "      <td>NaN</td>\n",
       "      <td>NaN</td>\n",
       "      <td>NaN</td>\n",
       "      <td>NaN</td>\n",
       "    </tr>\n",
       "    <tr>\n",
       "      <th>3080</th>\n",
       "      <td>3241</td>\n",
       "      <td>63.117595</td>\n",
       "      <td>NaN</td>\n",
       "      <td>NaN</td>\n",
       "      <td>NaN</td>\n",
       "      <td>NaN</td>\n",
       "      <td>NaN</td>\n",
       "      <td>NaN</td>\n",
       "      <td>NaN</td>\n",
       "      <td>NaN</td>\n",
       "    </tr>\n",
       "  </tbody>\n",
       "</table>\n",
       "<p>3081 rows × 10 columns</p>\n",
       "</div>"
      ],
      "text/plain": [
       "       key      Wire 1   Wire 2  Wire 3  Wire 4  Wire 5  Wire 6  Wire 7  \\\n",
       "0        1   60.059998      NaN     NaN     NaN     NaN     NaN     NaN   \n",
       "1        2   96.052315      NaN     NaN     NaN     NaN     NaN     NaN   \n",
       "2        3   91.160157      NaN     NaN     NaN     NaN     NaN     NaN   \n",
       "3        4   89.063515      NaN     NaN     NaN     NaN     NaN     NaN   \n",
       "4        5   89.238236  9.11456     NaN     NaN     NaN     NaN     NaN   \n",
       "...    ...         ...      ...     ...     ...     ...     ...     ...   \n",
       "3076  3237   38.088959      NaN     NaN     NaN     NaN     NaN     NaN   \n",
       "3077  3238   56.128799      NaN     NaN     NaN     NaN     NaN     NaN   \n",
       "3078  3239  143.357761      NaN     NaN     NaN     NaN     NaN     NaN   \n",
       "3079  3240   34.070400      NaN     NaN     NaN     NaN     NaN     NaN   \n",
       "3080  3241   63.117595      NaN     NaN     NaN     NaN     NaN     NaN   \n",
       "\n",
       "      Wire 8  Wire 9  \n",
       "0        NaN     NaN  \n",
       "1        NaN     NaN  \n",
       "2        NaN     NaN  \n",
       "3        NaN     NaN  \n",
       "4        NaN     NaN  \n",
       "...      ...     ...  \n",
       "3076     NaN     NaN  \n",
       "3077     NaN     NaN  \n",
       "3078     NaN     NaN  \n",
       "3079     NaN     NaN  \n",
       "3080     NaN     NaN  \n",
       "\n",
       "[3081 rows x 10 columns]"
      ]
     },
     "execution_count": 34,
     "metadata": {},
     "output_type": "execute_result"
    }
   ],
   "source": [
    "data_wire"
   ]
  },
  {
   "cell_type": "code",
   "execution_count": 35,
   "id": "6f712e14",
   "metadata": {},
   "outputs": [
    {
     "name": "stdout",
     "output_type": "stream",
     "text": [
      "<class 'pandas.core.frame.DataFrame'>\n",
      "RangeIndex: 3081 entries, 0 to 3080\n",
      "Data columns (total 10 columns):\n",
      " #   Column  Non-Null Count  Dtype  \n",
      "---  ------  --------------  -----  \n",
      " 0   key     3081 non-null   int64  \n",
      " 1   Wire 1  3055 non-null   float64\n",
      " 2   Wire 2  1079 non-null   float64\n",
      " 3   Wire 3  63 non-null     float64\n",
      " 4   Wire 4  14 non-null     float64\n",
      " 5   Wire 5  1 non-null      float64\n",
      " 6   Wire 6  73 non-null     float64\n",
      " 7   Wire 7  11 non-null     float64\n",
      " 8   Wire 8  19 non-null     float64\n",
      " 9   Wire 9  29 non-null     float64\n",
      "dtypes: float64(9), int64(1)\n",
      "memory usage: 240.8 KB\n"
     ]
    }
   ],
   "source": [
    "data_wire.info()"
   ]
  },
  {
   "cell_type": "markdown",
   "id": "63e4fa53",
   "metadata": {},
   "source": [
    "Заполним пропуски нулями:"
   ]
  },
  {
   "cell_type": "code",
   "execution_count": 36,
   "id": "245a5abe",
   "metadata": {},
   "outputs": [],
   "source": [
    "data_wire = data_wire.fillna(0)"
   ]
  },
  {
   "cell_type": "markdown",
   "id": "0ad2f8a2",
   "metadata": {},
   "source": [
    "### Данные о проволочных материалах (время)"
   ]
  },
  {
   "cell_type": "code",
   "execution_count": 37,
   "id": "0bd0d348",
   "metadata": {},
   "outputs": [
    {
     "data": {
      "text/html": [
       "<div>\n",
       "<style scoped>\n",
       "    .dataframe tbody tr th:only-of-type {\n",
       "        vertical-align: middle;\n",
       "    }\n",
       "\n",
       "    .dataframe tbody tr th {\n",
       "        vertical-align: top;\n",
       "    }\n",
       "\n",
       "    .dataframe thead th {\n",
       "        text-align: right;\n",
       "    }\n",
       "</style>\n",
       "<table border=\"1\" class=\"dataframe\">\n",
       "  <thead>\n",
       "    <tr style=\"text-align: right;\">\n",
       "      <th></th>\n",
       "      <th>key</th>\n",
       "      <th>Wire 1</th>\n",
       "      <th>Wire 2</th>\n",
       "      <th>Wire 3</th>\n",
       "      <th>Wire 4</th>\n",
       "      <th>Wire 5</th>\n",
       "      <th>Wire 6</th>\n",
       "      <th>Wire 7</th>\n",
       "      <th>Wire 8</th>\n",
       "      <th>Wire 9</th>\n",
       "    </tr>\n",
       "  </thead>\n",
       "  <tbody>\n",
       "    <tr>\n",
       "      <th>0</th>\n",
       "      <td>1</td>\n",
       "      <td>2019-05-03 11:06:19</td>\n",
       "      <td>NaN</td>\n",
       "      <td>NaN</td>\n",
       "      <td>NaN</td>\n",
       "      <td>NaN</td>\n",
       "      <td>NaN</td>\n",
       "      <td>NaN</td>\n",
       "      <td>NaN</td>\n",
       "      <td>NaN</td>\n",
       "    </tr>\n",
       "    <tr>\n",
       "      <th>1</th>\n",
       "      <td>2</td>\n",
       "      <td>2019-05-03 11:36:50</td>\n",
       "      <td>NaN</td>\n",
       "      <td>NaN</td>\n",
       "      <td>NaN</td>\n",
       "      <td>NaN</td>\n",
       "      <td>NaN</td>\n",
       "      <td>NaN</td>\n",
       "      <td>NaN</td>\n",
       "      <td>NaN</td>\n",
       "    </tr>\n",
       "    <tr>\n",
       "      <th>2</th>\n",
       "      <td>3</td>\n",
       "      <td>2019-05-03 12:11:46</td>\n",
       "      <td>NaN</td>\n",
       "      <td>NaN</td>\n",
       "      <td>NaN</td>\n",
       "      <td>NaN</td>\n",
       "      <td>NaN</td>\n",
       "      <td>NaN</td>\n",
       "      <td>NaN</td>\n",
       "      <td>NaN</td>\n",
       "    </tr>\n",
       "    <tr>\n",
       "      <th>3</th>\n",
       "      <td>4</td>\n",
       "      <td>2019-05-03 12:43:22</td>\n",
       "      <td>NaN</td>\n",
       "      <td>NaN</td>\n",
       "      <td>NaN</td>\n",
       "      <td>NaN</td>\n",
       "      <td>NaN</td>\n",
       "      <td>NaN</td>\n",
       "      <td>NaN</td>\n",
       "      <td>NaN</td>\n",
       "    </tr>\n",
       "    <tr>\n",
       "      <th>4</th>\n",
       "      <td>5</td>\n",
       "      <td>2019-05-03 13:20:44</td>\n",
       "      <td>2019-05-03 13:15:34</td>\n",
       "      <td>NaN</td>\n",
       "      <td>NaN</td>\n",
       "      <td>NaN</td>\n",
       "      <td>NaN</td>\n",
       "      <td>NaN</td>\n",
       "      <td>NaN</td>\n",
       "      <td>NaN</td>\n",
       "    </tr>\n",
       "    <tr>\n",
       "      <th>...</th>\n",
       "      <td>...</td>\n",
       "      <td>...</td>\n",
       "      <td>...</td>\n",
       "      <td>...</td>\n",
       "      <td>...</td>\n",
       "      <td>...</td>\n",
       "      <td>...</td>\n",
       "      <td>...</td>\n",
       "      <td>...</td>\n",
       "      <td>...</td>\n",
       "    </tr>\n",
       "    <tr>\n",
       "      <th>3076</th>\n",
       "      <td>3237</td>\n",
       "      <td>2019-09-06 11:33:38</td>\n",
       "      <td>NaN</td>\n",
       "      <td>NaN</td>\n",
       "      <td>NaN</td>\n",
       "      <td>NaN</td>\n",
       "      <td>NaN</td>\n",
       "      <td>NaN</td>\n",
       "      <td>NaN</td>\n",
       "      <td>NaN</td>\n",
       "    </tr>\n",
       "    <tr>\n",
       "      <th>3077</th>\n",
       "      <td>3238</td>\n",
       "      <td>2019-09-06 12:18:35</td>\n",
       "      <td>NaN</td>\n",
       "      <td>NaN</td>\n",
       "      <td>NaN</td>\n",
       "      <td>NaN</td>\n",
       "      <td>NaN</td>\n",
       "      <td>NaN</td>\n",
       "      <td>NaN</td>\n",
       "      <td>NaN</td>\n",
       "    </tr>\n",
       "    <tr>\n",
       "      <th>3078</th>\n",
       "      <td>3239</td>\n",
       "      <td>2019-09-06 14:36:11</td>\n",
       "      <td>NaN</td>\n",
       "      <td>NaN</td>\n",
       "      <td>NaN</td>\n",
       "      <td>NaN</td>\n",
       "      <td>NaN</td>\n",
       "      <td>NaN</td>\n",
       "      <td>NaN</td>\n",
       "      <td>NaN</td>\n",
       "    </tr>\n",
       "    <tr>\n",
       "      <th>3079</th>\n",
       "      <td>3240</td>\n",
       "      <td>2019-09-06 15:33:55</td>\n",
       "      <td>NaN</td>\n",
       "      <td>NaN</td>\n",
       "      <td>NaN</td>\n",
       "      <td>NaN</td>\n",
       "      <td>NaN</td>\n",
       "      <td>NaN</td>\n",
       "      <td>NaN</td>\n",
       "      <td>NaN</td>\n",
       "    </tr>\n",
       "    <tr>\n",
       "      <th>3080</th>\n",
       "      <td>3241</td>\n",
       "      <td>2019-09-06 17:10:06</td>\n",
       "      <td>NaN</td>\n",
       "      <td>NaN</td>\n",
       "      <td>NaN</td>\n",
       "      <td>NaN</td>\n",
       "      <td>NaN</td>\n",
       "      <td>NaN</td>\n",
       "      <td>NaN</td>\n",
       "      <td>NaN</td>\n",
       "    </tr>\n",
       "  </tbody>\n",
       "</table>\n",
       "<p>3081 rows × 10 columns</p>\n",
       "</div>"
      ],
      "text/plain": [
       "       key               Wire 1               Wire 2 Wire 3 Wire 4 Wire 5  \\\n",
       "0        1  2019-05-03 11:06:19                  NaN    NaN    NaN    NaN   \n",
       "1        2  2019-05-03 11:36:50                  NaN    NaN    NaN    NaN   \n",
       "2        3  2019-05-03 12:11:46                  NaN    NaN    NaN    NaN   \n",
       "3        4  2019-05-03 12:43:22                  NaN    NaN    NaN    NaN   \n",
       "4        5  2019-05-03 13:20:44  2019-05-03 13:15:34    NaN    NaN    NaN   \n",
       "...    ...                  ...                  ...    ...    ...    ...   \n",
       "3076  3237  2019-09-06 11:33:38                  NaN    NaN    NaN    NaN   \n",
       "3077  3238  2019-09-06 12:18:35                  NaN    NaN    NaN    NaN   \n",
       "3078  3239  2019-09-06 14:36:11                  NaN    NaN    NaN    NaN   \n",
       "3079  3240  2019-09-06 15:33:55                  NaN    NaN    NaN    NaN   \n",
       "3080  3241  2019-09-06 17:10:06                  NaN    NaN    NaN    NaN   \n",
       "\n",
       "     Wire 6 Wire 7 Wire 8 Wire 9  \n",
       "0       NaN    NaN    NaN    NaN  \n",
       "1       NaN    NaN    NaN    NaN  \n",
       "2       NaN    NaN    NaN    NaN  \n",
       "3       NaN    NaN    NaN    NaN  \n",
       "4       NaN    NaN    NaN    NaN  \n",
       "...     ...    ...    ...    ...  \n",
       "3076    NaN    NaN    NaN    NaN  \n",
       "3077    NaN    NaN    NaN    NaN  \n",
       "3078    NaN    NaN    NaN    NaN  \n",
       "3079    NaN    NaN    NaN    NaN  \n",
       "3080    NaN    NaN    NaN    NaN  \n",
       "\n",
       "[3081 rows x 10 columns]"
      ]
     },
     "execution_count": 37,
     "metadata": {},
     "output_type": "execute_result"
    }
   ],
   "source": [
    "data_wire_time"
   ]
  },
  {
   "cell_type": "code",
   "execution_count": 38,
   "id": "31e3ccdd",
   "metadata": {},
   "outputs": [
    {
     "name": "stdout",
     "output_type": "stream",
     "text": [
      "<class 'pandas.core.frame.DataFrame'>\n",
      "RangeIndex: 3081 entries, 0 to 3080\n",
      "Data columns (total 10 columns):\n",
      " #   Column  Non-Null Count  Dtype \n",
      "---  ------  --------------  ----- \n",
      " 0   key     3081 non-null   int64 \n",
      " 1   Wire 1  3055 non-null   object\n",
      " 2   Wire 2  1079 non-null   object\n",
      " 3   Wire 3  63 non-null     object\n",
      " 4   Wire 4  14 non-null     object\n",
      " 5   Wire 5  1 non-null      object\n",
      " 6   Wire 6  73 non-null     object\n",
      " 7   Wire 7  11 non-null     object\n",
      " 8   Wire 8  19 non-null     object\n",
      " 9   Wire 9  29 non-null     object\n",
      "dtypes: int64(1), object(9)\n",
      "memory usage: 240.8+ KB\n"
     ]
    }
   ],
   "source": [
    "data_wire_time.info()"
   ]
  },
  {
   "cell_type": "markdown",
   "id": "e1ab7830",
   "metadata": {},
   "source": [
    "Заполним пропуски нулями:"
   ]
  },
  {
   "cell_type": "code",
   "execution_count": 39,
   "id": "5468ae66",
   "metadata": {},
   "outputs": [],
   "source": [
    "data_wire_time = data_wire_time.fillna(0)"
   ]
  },
  {
   "cell_type": "markdown",
   "id": "ecb0ca64",
   "metadata": {},
   "source": [
    "Мы провели предобработку данных, заполнили пропуски, где это возможно, провели агрегацию данных по ключу. Также по требованию заказчика удалили полностью некоторые ключи. В следующей главе займемся формированием общей таблицы."
   ]
  },
  {
   "cell_type": "markdown",
   "id": "fedf673c",
   "metadata": {},
   "source": [
    "## Объединение данных"
   ]
  },
  {
   "cell_type": "markdown",
   "id": "7365c85f",
   "metadata": {},
   "source": [
    "Данные о том в какое конкретно время были добавлены сыпучие материалы и проволочные нам не так важны, как в каком объеме они были добавлены, поэтому в итоговую таблицу не войдут `data_bulk_time` и `data_wire_time`."
   ]
  },
  {
   "cell_type": "code",
   "execution_count": 40,
   "id": "fdac1e6b",
   "metadata": {},
   "outputs": [
    {
     "data": {
      "text/plain": [
       "(       key Начало нагрева дугой Конец нагрева дугой  Активная мощность  \\\n",
       " 0        1  2019-05-03 11:02:14 2019-05-03 11:28:37           0.607346   \n",
       " 1        2  2019-05-03 11:34:14 2019-05-03 11:53:18           0.534852   \n",
       " 2        3  2019-05-03 12:06:54 2019-05-03 12:32:19           0.812728   \n",
       " 3        4  2019-05-03 12:39:37 2019-05-03 12:57:50           0.676622   \n",
       " 4        5  2019-05-03 13:11:13 2019-05-03 13:33:55           0.563238   \n",
       " ...    ...                  ...                 ...                ...   \n",
       " 3208  3237  2019-09-06 11:31:25 2019-09-06 11:53:55           0.508374   \n",
       " 3209  3238  2019-09-06 12:16:25 2019-09-06 12:31:35           0.458274   \n",
       " 3210  3239  2019-09-06 14:17:00 2019-09-06 15:05:50           0.606001   \n",
       " 3211  3240  2019-09-06 15:25:31 2019-09-06 16:24:15           0.663536   \n",
       " 3212  3241  2019-09-06 16:49:05 2019-09-06 17:26:15           0.609057   \n",
       " \n",
       "       Реактивная мощность  Время нагрева дугой  Число итераций нагрева  \n",
       " 0                0.428564               1098.0                       5  \n",
       " 1                0.363339                811.0                       4  \n",
       " 2                0.587491                655.0                       5  \n",
       " 3                0.514248                741.0                       4  \n",
       " 4                0.421998                869.0                       4  \n",
       " ...                   ...                  ...                     ...  \n",
       " 3208             0.405083                909.0                       5  \n",
       " 3209             0.346034                546.0                       3  \n",
       " 3210             0.442693               1216.0                       8  \n",
       " 3211             0.474710                839.0                       5  \n",
       " 3212             0.428002                659.0                       5  \n",
       " \n",
       " [3213 rows x 7 columns],\n",
       "        key  Bulk 1  Bulk 2  Bulk 3  Bulk 4  Bulk 5  Bulk 6  Bulk 7  Bulk 8  \\\n",
       " 0        1     0.0     0.0     0.0    43.0     0.0     0.0     0.0     0.0   \n",
       " 1        2     0.0     0.0     0.0    73.0     0.0     0.0     0.0     0.0   \n",
       " 2        3     0.0     0.0     0.0    34.0     0.0     0.0     0.0     0.0   \n",
       " 3        4     0.0     0.0     0.0    81.0     0.0     0.0     0.0     0.0   \n",
       " 4        5     0.0     0.0     0.0    78.0     0.0     0.0     0.0     0.0   \n",
       " ...    ...     ...     ...     ...     ...     ...     ...     ...     ...   \n",
       " 3124  3237     0.0     0.0   170.0     0.0     0.0     0.0     0.0     0.0   \n",
       " 3125  3238     0.0     0.0   126.0     0.0     0.0     0.0     0.0     0.0   \n",
       " 3126  3239     0.0     0.0     0.0     0.0     0.0   114.0     0.0     0.0   \n",
       " 3127  3240     0.0     0.0     0.0     0.0     0.0    26.0     0.0     0.0   \n",
       " 3128  3241     0.0     0.0     0.0     0.0     0.0     0.0     0.0     0.0   \n",
       " \n",
       "       Bulk 9  Bulk 10  Bulk 11  Bulk 12  Bulk 13  Bulk 14  Bulk 15  \n",
       " 0        0.0      0.0      0.0    206.0      0.0    150.0    154.0  \n",
       " 1        0.0      0.0      0.0    206.0      0.0    149.0    154.0  \n",
       " 2        0.0      0.0      0.0    205.0      0.0    152.0    153.0  \n",
       " 3        0.0      0.0      0.0    207.0      0.0    153.0    154.0  \n",
       " 4        0.0      0.0      0.0    203.0      0.0    151.0    152.0  \n",
       " ...      ...      ...      ...      ...      ...      ...      ...  \n",
       " 3124     0.0      0.0      0.0    252.0      0.0    130.0    206.0  \n",
       " 3125     0.0      0.0      0.0    254.0      0.0    108.0    106.0  \n",
       " 3126     0.0      0.0      0.0    158.0      0.0    270.0     88.0  \n",
       " 3127     0.0      0.0      0.0      0.0      0.0    192.0     54.0  \n",
       " 3128     0.0      0.0      0.0      0.0      0.0    180.0     52.0  \n",
       " \n",
       " [3129 rows x 16 columns],\n",
       "        key      Газ 1\n",
       " 0        1  29.749986\n",
       " 1        2  12.555561\n",
       " 2        3  28.554793\n",
       " 3        4  18.841219\n",
       " 4        5   5.413692\n",
       " ...    ...        ...\n",
       " 3234  3237   5.543905\n",
       " 3235  3238   6.745669\n",
       " 3236  3239  16.023518\n",
       " 3237  3240  11.863103\n",
       " 3238  3241  12.680959\n",
       " \n",
       " [3239 rows x 2 columns],\n",
       "        key         Время замера  Температура  Начальная температура\n",
       " 0        1  2019-05-03 11:30:38       1613.0                 1571.0\n",
       " 1        2  2019-05-03 11:55:09       1602.0                 1581.0\n",
       " 2        3  2019-05-03 12:35:57       1599.0                 1596.0\n",
       " 3        4  2019-05-03 12:59:47       1625.0                 1601.0\n",
       " 4        5  2019-05-03 13:36:39       1602.0                 1576.0\n",
       " ...    ...                  ...          ...                    ...\n",
       " 2466  2495  2019-08-10 11:50:47       1591.0                 1570.0\n",
       " 2467  2496  2019-08-10 12:25:13       1591.0                 1554.0\n",
       " 2468  2497  2019-08-10 12:53:28       1589.0                 1571.0\n",
       " 2469  2498  2019-08-10 13:23:31       1594.0                 1591.0\n",
       " 2470  2499  2019-08-10 13:58:58       1603.0                 1569.0\n",
       " \n",
       " [2471 rows x 4 columns],\n",
       "        key      Wire 1   Wire 2  Wire 3  Wire 4  Wire 5  Wire 6  Wire 7  \\\n",
       " 0        1   60.059998  0.00000     0.0     0.0     0.0     0.0     0.0   \n",
       " 1        2   96.052315  0.00000     0.0     0.0     0.0     0.0     0.0   \n",
       " 2        3   91.160157  0.00000     0.0     0.0     0.0     0.0     0.0   \n",
       " 3        4   89.063515  0.00000     0.0     0.0     0.0     0.0     0.0   \n",
       " 4        5   89.238236  9.11456     0.0     0.0     0.0     0.0     0.0   \n",
       " ...    ...         ...      ...     ...     ...     ...     ...     ...   \n",
       " 3076  3237   38.088959  0.00000     0.0     0.0     0.0     0.0     0.0   \n",
       " 3077  3238   56.128799  0.00000     0.0     0.0     0.0     0.0     0.0   \n",
       " 3078  3239  143.357761  0.00000     0.0     0.0     0.0     0.0     0.0   \n",
       " 3079  3240   34.070400  0.00000     0.0     0.0     0.0     0.0     0.0   \n",
       " 3080  3241   63.117595  0.00000     0.0     0.0     0.0     0.0     0.0   \n",
       " \n",
       "       Wire 8  Wire 9  \n",
       " 0        0.0     0.0  \n",
       " 1        0.0     0.0  \n",
       " 2        0.0     0.0  \n",
       " 3        0.0     0.0  \n",
       " 4        0.0     0.0  \n",
       " ...      ...     ...  \n",
       " 3076     0.0     0.0  \n",
       " 3077     0.0     0.0  \n",
       " 3078     0.0     0.0  \n",
       " 3079     0.0     0.0  \n",
       " 3080     0.0     0.0  \n",
       " \n",
       " [3081 rows x 10 columns])"
      ]
     },
     "execution_count": 40,
     "metadata": {},
     "output_type": "execute_result"
    }
   ],
   "source": [
    "data_arc, data_bulk, data_gas, data_temp, data_wire"
   ]
  },
  {
   "cell_type": "markdown",
   "id": "96f8216f",
   "metadata": {},
   "source": [
    "Объединим датафреймы в один по ключу:"
   ]
  },
  {
   "cell_type": "code",
   "execution_count": 41,
   "id": "0e5ac361",
   "metadata": {},
   "outputs": [],
   "source": [
    "data = data_arc.merge(data_bulk,on='key').merge(data_wire, on='key').merge(data_gas, on='key').merge(data_temp, on='key')"
   ]
  },
  {
   "cell_type": "markdown",
   "id": "aaf85446",
   "metadata": {},
   "source": [
    "Посмотрим на таблицу:"
   ]
  },
  {
   "cell_type": "code",
   "execution_count": 42,
   "id": "cc42fc24",
   "metadata": {
    "scrolled": false
   },
   "outputs": [
    {
     "data": {
      "text/html": [
       "<div>\n",
       "<style scoped>\n",
       "    .dataframe tbody tr th:only-of-type {\n",
       "        vertical-align: middle;\n",
       "    }\n",
       "\n",
       "    .dataframe tbody tr th {\n",
       "        vertical-align: top;\n",
       "    }\n",
       "\n",
       "    .dataframe thead th {\n",
       "        text-align: right;\n",
       "    }\n",
       "</style>\n",
       "<table border=\"1\" class=\"dataframe\">\n",
       "  <thead>\n",
       "    <tr style=\"text-align: right;\">\n",
       "      <th></th>\n",
       "      <th>key</th>\n",
       "      <th>Начало нагрева дугой</th>\n",
       "      <th>Конец нагрева дугой</th>\n",
       "      <th>Активная мощность</th>\n",
       "      <th>Реактивная мощность</th>\n",
       "      <th>Время нагрева дугой</th>\n",
       "      <th>Число итераций нагрева</th>\n",
       "      <th>Bulk 1</th>\n",
       "      <th>Bulk 2</th>\n",
       "      <th>Bulk 3</th>\n",
       "      <th>Bulk 4</th>\n",
       "      <th>Bulk 5</th>\n",
       "      <th>Bulk 6</th>\n",
       "      <th>Bulk 7</th>\n",
       "      <th>Bulk 8</th>\n",
       "      <th>Bulk 9</th>\n",
       "      <th>Bulk 10</th>\n",
       "      <th>Bulk 11</th>\n",
       "      <th>Bulk 12</th>\n",
       "      <th>Bulk 13</th>\n",
       "      <th>Bulk 14</th>\n",
       "      <th>Bulk 15</th>\n",
       "      <th>Wire 1</th>\n",
       "      <th>Wire 2</th>\n",
       "      <th>Wire 3</th>\n",
       "      <th>Wire 4</th>\n",
       "      <th>Wire 5</th>\n",
       "      <th>Wire 6</th>\n",
       "      <th>Wire 7</th>\n",
       "      <th>Wire 8</th>\n",
       "      <th>Wire 9</th>\n",
       "      <th>Газ 1</th>\n",
       "      <th>Время замера</th>\n",
       "      <th>Температура</th>\n",
       "      <th>Начальная температура</th>\n",
       "    </tr>\n",
       "  </thead>\n",
       "  <tbody>\n",
       "    <tr>\n",
       "      <th>0</th>\n",
       "      <td>1</td>\n",
       "      <td>2019-05-03 11:02:14</td>\n",
       "      <td>2019-05-03 11:28:37</td>\n",
       "      <td>0.607346</td>\n",
       "      <td>0.428564</td>\n",
       "      <td>1098.0</td>\n",
       "      <td>5</td>\n",
       "      <td>0.0</td>\n",
       "      <td>0.0</td>\n",
       "      <td>0.0</td>\n",
       "      <td>43.0</td>\n",
       "      <td>0.0</td>\n",
       "      <td>0.0</td>\n",
       "      <td>0.0</td>\n",
       "      <td>0.0</td>\n",
       "      <td>0.0</td>\n",
       "      <td>0.0</td>\n",
       "      <td>0.0</td>\n",
       "      <td>206.0</td>\n",
       "      <td>0.0</td>\n",
       "      <td>150.0</td>\n",
       "      <td>154.0</td>\n",
       "      <td>60.059998</td>\n",
       "      <td>0.00000</td>\n",
       "      <td>0.0</td>\n",
       "      <td>0.0</td>\n",
       "      <td>0.0</td>\n",
       "      <td>0.0</td>\n",
       "      <td>0.0</td>\n",
       "      <td>0.0</td>\n",
       "      <td>0.0</td>\n",
       "      <td>29.749986</td>\n",
       "      <td>2019-05-03 11:30:38</td>\n",
       "      <td>1613.0</td>\n",
       "      <td>1571.0</td>\n",
       "    </tr>\n",
       "    <tr>\n",
       "      <th>1</th>\n",
       "      <td>2</td>\n",
       "      <td>2019-05-03 11:34:14</td>\n",
       "      <td>2019-05-03 11:53:18</td>\n",
       "      <td>0.534852</td>\n",
       "      <td>0.363339</td>\n",
       "      <td>811.0</td>\n",
       "      <td>4</td>\n",
       "      <td>0.0</td>\n",
       "      <td>0.0</td>\n",
       "      <td>0.0</td>\n",
       "      <td>73.0</td>\n",
       "      <td>0.0</td>\n",
       "      <td>0.0</td>\n",
       "      <td>0.0</td>\n",
       "      <td>0.0</td>\n",
       "      <td>0.0</td>\n",
       "      <td>0.0</td>\n",
       "      <td>0.0</td>\n",
       "      <td>206.0</td>\n",
       "      <td>0.0</td>\n",
       "      <td>149.0</td>\n",
       "      <td>154.0</td>\n",
       "      <td>96.052315</td>\n",
       "      <td>0.00000</td>\n",
       "      <td>0.0</td>\n",
       "      <td>0.0</td>\n",
       "      <td>0.0</td>\n",
       "      <td>0.0</td>\n",
       "      <td>0.0</td>\n",
       "      <td>0.0</td>\n",
       "      <td>0.0</td>\n",
       "      <td>12.555561</td>\n",
       "      <td>2019-05-03 11:55:09</td>\n",
       "      <td>1602.0</td>\n",
       "      <td>1581.0</td>\n",
       "    </tr>\n",
       "    <tr>\n",
       "      <th>2</th>\n",
       "      <td>3</td>\n",
       "      <td>2019-05-03 12:06:54</td>\n",
       "      <td>2019-05-03 12:32:19</td>\n",
       "      <td>0.812728</td>\n",
       "      <td>0.587491</td>\n",
       "      <td>655.0</td>\n",
       "      <td>5</td>\n",
       "      <td>0.0</td>\n",
       "      <td>0.0</td>\n",
       "      <td>0.0</td>\n",
       "      <td>34.0</td>\n",
       "      <td>0.0</td>\n",
       "      <td>0.0</td>\n",
       "      <td>0.0</td>\n",
       "      <td>0.0</td>\n",
       "      <td>0.0</td>\n",
       "      <td>0.0</td>\n",
       "      <td>0.0</td>\n",
       "      <td>205.0</td>\n",
       "      <td>0.0</td>\n",
       "      <td>152.0</td>\n",
       "      <td>153.0</td>\n",
       "      <td>91.160157</td>\n",
       "      <td>0.00000</td>\n",
       "      <td>0.0</td>\n",
       "      <td>0.0</td>\n",
       "      <td>0.0</td>\n",
       "      <td>0.0</td>\n",
       "      <td>0.0</td>\n",
       "      <td>0.0</td>\n",
       "      <td>0.0</td>\n",
       "      <td>28.554793</td>\n",
       "      <td>2019-05-03 12:35:57</td>\n",
       "      <td>1599.0</td>\n",
       "      <td>1596.0</td>\n",
       "    </tr>\n",
       "    <tr>\n",
       "      <th>3</th>\n",
       "      <td>4</td>\n",
       "      <td>2019-05-03 12:39:37</td>\n",
       "      <td>2019-05-03 12:57:50</td>\n",
       "      <td>0.676622</td>\n",
       "      <td>0.514248</td>\n",
       "      <td>741.0</td>\n",
       "      <td>4</td>\n",
       "      <td>0.0</td>\n",
       "      <td>0.0</td>\n",
       "      <td>0.0</td>\n",
       "      <td>81.0</td>\n",
       "      <td>0.0</td>\n",
       "      <td>0.0</td>\n",
       "      <td>0.0</td>\n",
       "      <td>0.0</td>\n",
       "      <td>0.0</td>\n",
       "      <td>0.0</td>\n",
       "      <td>0.0</td>\n",
       "      <td>207.0</td>\n",
       "      <td>0.0</td>\n",
       "      <td>153.0</td>\n",
       "      <td>154.0</td>\n",
       "      <td>89.063515</td>\n",
       "      <td>0.00000</td>\n",
       "      <td>0.0</td>\n",
       "      <td>0.0</td>\n",
       "      <td>0.0</td>\n",
       "      <td>0.0</td>\n",
       "      <td>0.0</td>\n",
       "      <td>0.0</td>\n",
       "      <td>0.0</td>\n",
       "      <td>18.841219</td>\n",
       "      <td>2019-05-03 12:59:47</td>\n",
       "      <td>1625.0</td>\n",
       "      <td>1601.0</td>\n",
       "    </tr>\n",
       "    <tr>\n",
       "      <th>4</th>\n",
       "      <td>5</td>\n",
       "      <td>2019-05-03 13:11:13</td>\n",
       "      <td>2019-05-03 13:33:55</td>\n",
       "      <td>0.563238</td>\n",
       "      <td>0.421998</td>\n",
       "      <td>869.0</td>\n",
       "      <td>4</td>\n",
       "      <td>0.0</td>\n",
       "      <td>0.0</td>\n",
       "      <td>0.0</td>\n",
       "      <td>78.0</td>\n",
       "      <td>0.0</td>\n",
       "      <td>0.0</td>\n",
       "      <td>0.0</td>\n",
       "      <td>0.0</td>\n",
       "      <td>0.0</td>\n",
       "      <td>0.0</td>\n",
       "      <td>0.0</td>\n",
       "      <td>203.0</td>\n",
       "      <td>0.0</td>\n",
       "      <td>151.0</td>\n",
       "      <td>152.0</td>\n",
       "      <td>89.238236</td>\n",
       "      <td>9.11456</td>\n",
       "      <td>0.0</td>\n",
       "      <td>0.0</td>\n",
       "      <td>0.0</td>\n",
       "      <td>0.0</td>\n",
       "      <td>0.0</td>\n",
       "      <td>0.0</td>\n",
       "      <td>0.0</td>\n",
       "      <td>5.413692</td>\n",
       "      <td>2019-05-03 13:36:39</td>\n",
       "      <td>1602.0</td>\n",
       "      <td>1576.0</td>\n",
       "    </tr>\n",
       "    <tr>\n",
       "      <th>...</th>\n",
       "      <td>...</td>\n",
       "      <td>...</td>\n",
       "      <td>...</td>\n",
       "      <td>...</td>\n",
       "      <td>...</td>\n",
       "      <td>...</td>\n",
       "      <td>...</td>\n",
       "      <td>...</td>\n",
       "      <td>...</td>\n",
       "      <td>...</td>\n",
       "      <td>...</td>\n",
       "      <td>...</td>\n",
       "      <td>...</td>\n",
       "      <td>...</td>\n",
       "      <td>...</td>\n",
       "      <td>...</td>\n",
       "      <td>...</td>\n",
       "      <td>...</td>\n",
       "      <td>...</td>\n",
       "      <td>...</td>\n",
       "      <td>...</td>\n",
       "      <td>...</td>\n",
       "      <td>...</td>\n",
       "      <td>...</td>\n",
       "      <td>...</td>\n",
       "      <td>...</td>\n",
       "      <td>...</td>\n",
       "      <td>...</td>\n",
       "      <td>...</td>\n",
       "      <td>...</td>\n",
       "      <td>...</td>\n",
       "      <td>...</td>\n",
       "      <td>...</td>\n",
       "      <td>...</td>\n",
       "      <td>...</td>\n",
       "    </tr>\n",
       "    <tr>\n",
       "      <th>2319</th>\n",
       "      <td>2495</td>\n",
       "      <td>2019-08-10 11:27:57</td>\n",
       "      <td>2019-08-10 11:48:05</td>\n",
       "      <td>0.792033</td>\n",
       "      <td>0.552734</td>\n",
       "      <td>723.0</td>\n",
       "      <td>4</td>\n",
       "      <td>0.0</td>\n",
       "      <td>0.0</td>\n",
       "      <td>21.0</td>\n",
       "      <td>0.0</td>\n",
       "      <td>0.0</td>\n",
       "      <td>0.0</td>\n",
       "      <td>0.0</td>\n",
       "      <td>0.0</td>\n",
       "      <td>0.0</td>\n",
       "      <td>90.0</td>\n",
       "      <td>0.0</td>\n",
       "      <td>256.0</td>\n",
       "      <td>0.0</td>\n",
       "      <td>129.0</td>\n",
       "      <td>223.0</td>\n",
       "      <td>89.150879</td>\n",
       "      <td>0.00000</td>\n",
       "      <td>0.0</td>\n",
       "      <td>0.0</td>\n",
       "      <td>0.0</td>\n",
       "      <td>0.0</td>\n",
       "      <td>0.0</td>\n",
       "      <td>0.0</td>\n",
       "      <td>0.0</td>\n",
       "      <td>7.125735</td>\n",
       "      <td>2019-08-10 11:50:47</td>\n",
       "      <td>1591.0</td>\n",
       "      <td>1570.0</td>\n",
       "    </tr>\n",
       "    <tr>\n",
       "      <th>2320</th>\n",
       "      <td>2496</td>\n",
       "      <td>2019-08-10 11:56:58</td>\n",
       "      <td>2019-08-10 12:23:07</td>\n",
       "      <td>0.695820</td>\n",
       "      <td>0.478672</td>\n",
       "      <td>940.0</td>\n",
       "      <td>6</td>\n",
       "      <td>0.0</td>\n",
       "      <td>0.0</td>\n",
       "      <td>0.0</td>\n",
       "      <td>63.0</td>\n",
       "      <td>0.0</td>\n",
       "      <td>0.0</td>\n",
       "      <td>0.0</td>\n",
       "      <td>0.0</td>\n",
       "      <td>0.0</td>\n",
       "      <td>122.0</td>\n",
       "      <td>0.0</td>\n",
       "      <td>256.0</td>\n",
       "      <td>0.0</td>\n",
       "      <td>129.0</td>\n",
       "      <td>226.0</td>\n",
       "      <td>114.179527</td>\n",
       "      <td>0.00000</td>\n",
       "      <td>0.0</td>\n",
       "      <td>0.0</td>\n",
       "      <td>0.0</td>\n",
       "      <td>0.0</td>\n",
       "      <td>0.0</td>\n",
       "      <td>0.0</td>\n",
       "      <td>0.0</td>\n",
       "      <td>9.412616</td>\n",
       "      <td>2019-08-10 12:25:13</td>\n",
       "      <td>1591.0</td>\n",
       "      <td>1554.0</td>\n",
       "    </tr>\n",
       "    <tr>\n",
       "      <th>2321</th>\n",
       "      <td>2497</td>\n",
       "      <td>2019-08-10 12:37:36</td>\n",
       "      <td>2019-08-10 12:51:20</td>\n",
       "      <td>1.201746</td>\n",
       "      <td>0.817364</td>\n",
       "      <td>569.0</td>\n",
       "      <td>3</td>\n",
       "      <td>0.0</td>\n",
       "      <td>0.0</td>\n",
       "      <td>0.0</td>\n",
       "      <td>85.0</td>\n",
       "      <td>0.0</td>\n",
       "      <td>0.0</td>\n",
       "      <td>0.0</td>\n",
       "      <td>0.0</td>\n",
       "      <td>0.0</td>\n",
       "      <td>0.0</td>\n",
       "      <td>0.0</td>\n",
       "      <td>230.0</td>\n",
       "      <td>0.0</td>\n",
       "      <td>124.0</td>\n",
       "      <td>226.0</td>\n",
       "      <td>94.086723</td>\n",
       "      <td>9.04800</td>\n",
       "      <td>0.0</td>\n",
       "      <td>0.0</td>\n",
       "      <td>0.0</td>\n",
       "      <td>0.0</td>\n",
       "      <td>0.0</td>\n",
       "      <td>0.0</td>\n",
       "      <td>0.0</td>\n",
       "      <td>6.271699</td>\n",
       "      <td>2019-08-10 12:53:28</td>\n",
       "      <td>1589.0</td>\n",
       "      <td>1571.0</td>\n",
       "    </tr>\n",
       "    <tr>\n",
       "      <th>2322</th>\n",
       "      <td>2498</td>\n",
       "      <td>2019-08-10 12:58:21</td>\n",
       "      <td>2019-08-10 13:20:59</td>\n",
       "      <td>0.640462</td>\n",
       "      <td>0.447964</td>\n",
       "      <td>750.0</td>\n",
       "      <td>5</td>\n",
       "      <td>0.0</td>\n",
       "      <td>0.0</td>\n",
       "      <td>90.0</td>\n",
       "      <td>0.0</td>\n",
       "      <td>0.0</td>\n",
       "      <td>0.0</td>\n",
       "      <td>0.0</td>\n",
       "      <td>0.0</td>\n",
       "      <td>0.0</td>\n",
       "      <td>101.0</td>\n",
       "      <td>0.0</td>\n",
       "      <td>206.0</td>\n",
       "      <td>0.0</td>\n",
       "      <td>129.0</td>\n",
       "      <td>207.0</td>\n",
       "      <td>118.110717</td>\n",
       "      <td>0.00000</td>\n",
       "      <td>0.0</td>\n",
       "      <td>0.0</td>\n",
       "      <td>0.0</td>\n",
       "      <td>0.0</td>\n",
       "      <td>0.0</td>\n",
       "      <td>0.0</td>\n",
       "      <td>0.0</td>\n",
       "      <td>14.953657</td>\n",
       "      <td>2019-08-10 13:23:31</td>\n",
       "      <td>1594.0</td>\n",
       "      <td>1591.0</td>\n",
       "    </tr>\n",
       "    <tr>\n",
       "      <th>2323</th>\n",
       "      <td>2499</td>\n",
       "      <td>2019-08-10 13:33:31</td>\n",
       "      <td>2019-08-10 13:56:17</td>\n",
       "      <td>0.434271</td>\n",
       "      <td>0.324209</td>\n",
       "      <td>883.0</td>\n",
       "      <td>4</td>\n",
       "      <td>0.0</td>\n",
       "      <td>0.0</td>\n",
       "      <td>47.0</td>\n",
       "      <td>0.0</td>\n",
       "      <td>0.0</td>\n",
       "      <td>0.0</td>\n",
       "      <td>0.0</td>\n",
       "      <td>0.0</td>\n",
       "      <td>0.0</td>\n",
       "      <td>0.0</td>\n",
       "      <td>0.0</td>\n",
       "      <td>233.0</td>\n",
       "      <td>0.0</td>\n",
       "      <td>126.0</td>\n",
       "      <td>227.0</td>\n",
       "      <td>110.160958</td>\n",
       "      <td>50.00528</td>\n",
       "      <td>0.0</td>\n",
       "      <td>0.0</td>\n",
       "      <td>0.0</td>\n",
       "      <td>0.0</td>\n",
       "      <td>0.0</td>\n",
       "      <td>0.0</td>\n",
       "      <td>0.0</td>\n",
       "      <td>11.336151</td>\n",
       "      <td>2019-08-10 13:58:58</td>\n",
       "      <td>1603.0</td>\n",
       "      <td>1569.0</td>\n",
       "    </tr>\n",
       "  </tbody>\n",
       "</table>\n",
       "<p>2324 rows × 35 columns</p>\n",
       "</div>"
      ],
      "text/plain": [
       "       key Начало нагрева дугой Конец нагрева дугой  Активная мощность  \\\n",
       "0        1  2019-05-03 11:02:14 2019-05-03 11:28:37           0.607346   \n",
       "1        2  2019-05-03 11:34:14 2019-05-03 11:53:18           0.534852   \n",
       "2        3  2019-05-03 12:06:54 2019-05-03 12:32:19           0.812728   \n",
       "3        4  2019-05-03 12:39:37 2019-05-03 12:57:50           0.676622   \n",
       "4        5  2019-05-03 13:11:13 2019-05-03 13:33:55           0.563238   \n",
       "...    ...                  ...                 ...                ...   \n",
       "2319  2495  2019-08-10 11:27:57 2019-08-10 11:48:05           0.792033   \n",
       "2320  2496  2019-08-10 11:56:58 2019-08-10 12:23:07           0.695820   \n",
       "2321  2497  2019-08-10 12:37:36 2019-08-10 12:51:20           1.201746   \n",
       "2322  2498  2019-08-10 12:58:21 2019-08-10 13:20:59           0.640462   \n",
       "2323  2499  2019-08-10 13:33:31 2019-08-10 13:56:17           0.434271   \n",
       "\n",
       "      Реактивная мощность  Время нагрева дугой  Число итераций нагрева  \\\n",
       "0                0.428564               1098.0                       5   \n",
       "1                0.363339                811.0                       4   \n",
       "2                0.587491                655.0                       5   \n",
       "3                0.514248                741.0                       4   \n",
       "4                0.421998                869.0                       4   \n",
       "...                   ...                  ...                     ...   \n",
       "2319             0.552734                723.0                       4   \n",
       "2320             0.478672                940.0                       6   \n",
       "2321             0.817364                569.0                       3   \n",
       "2322             0.447964                750.0                       5   \n",
       "2323             0.324209                883.0                       4   \n",
       "\n",
       "      Bulk 1  Bulk 2  Bulk 3  Bulk 4  Bulk 5  Bulk 6  Bulk 7  Bulk 8  Bulk 9  \\\n",
       "0        0.0     0.0     0.0    43.0     0.0     0.0     0.0     0.0     0.0   \n",
       "1        0.0     0.0     0.0    73.0     0.0     0.0     0.0     0.0     0.0   \n",
       "2        0.0     0.0     0.0    34.0     0.0     0.0     0.0     0.0     0.0   \n",
       "3        0.0     0.0     0.0    81.0     0.0     0.0     0.0     0.0     0.0   \n",
       "4        0.0     0.0     0.0    78.0     0.0     0.0     0.0     0.0     0.0   \n",
       "...      ...     ...     ...     ...     ...     ...     ...     ...     ...   \n",
       "2319     0.0     0.0    21.0     0.0     0.0     0.0     0.0     0.0     0.0   \n",
       "2320     0.0     0.0     0.0    63.0     0.0     0.0     0.0     0.0     0.0   \n",
       "2321     0.0     0.0     0.0    85.0     0.0     0.0     0.0     0.0     0.0   \n",
       "2322     0.0     0.0    90.0     0.0     0.0     0.0     0.0     0.0     0.0   \n",
       "2323     0.0     0.0    47.0     0.0     0.0     0.0     0.0     0.0     0.0   \n",
       "\n",
       "      Bulk 10  Bulk 11  Bulk 12  Bulk 13  Bulk 14  Bulk 15      Wire 1  \\\n",
       "0         0.0      0.0    206.0      0.0    150.0    154.0   60.059998   \n",
       "1         0.0      0.0    206.0      0.0    149.0    154.0   96.052315   \n",
       "2         0.0      0.0    205.0      0.0    152.0    153.0   91.160157   \n",
       "3         0.0      0.0    207.0      0.0    153.0    154.0   89.063515   \n",
       "4         0.0      0.0    203.0      0.0    151.0    152.0   89.238236   \n",
       "...       ...      ...      ...      ...      ...      ...         ...   \n",
       "2319     90.0      0.0    256.0      0.0    129.0    223.0   89.150879   \n",
       "2320    122.0      0.0    256.0      0.0    129.0    226.0  114.179527   \n",
       "2321      0.0      0.0    230.0      0.0    124.0    226.0   94.086723   \n",
       "2322    101.0      0.0    206.0      0.0    129.0    207.0  118.110717   \n",
       "2323      0.0      0.0    233.0      0.0    126.0    227.0  110.160958   \n",
       "\n",
       "        Wire 2  Wire 3  Wire 4  Wire 5  Wire 6  Wire 7  Wire 8  Wire 9  \\\n",
       "0      0.00000     0.0     0.0     0.0     0.0     0.0     0.0     0.0   \n",
       "1      0.00000     0.0     0.0     0.0     0.0     0.0     0.0     0.0   \n",
       "2      0.00000     0.0     0.0     0.0     0.0     0.0     0.0     0.0   \n",
       "3      0.00000     0.0     0.0     0.0     0.0     0.0     0.0     0.0   \n",
       "4      9.11456     0.0     0.0     0.0     0.0     0.0     0.0     0.0   \n",
       "...        ...     ...     ...     ...     ...     ...     ...     ...   \n",
       "2319   0.00000     0.0     0.0     0.0     0.0     0.0     0.0     0.0   \n",
       "2320   0.00000     0.0     0.0     0.0     0.0     0.0     0.0     0.0   \n",
       "2321   9.04800     0.0     0.0     0.0     0.0     0.0     0.0     0.0   \n",
       "2322   0.00000     0.0     0.0     0.0     0.0     0.0     0.0     0.0   \n",
       "2323  50.00528     0.0     0.0     0.0     0.0     0.0     0.0     0.0   \n",
       "\n",
       "          Газ 1         Время замера  Температура  Начальная температура  \n",
       "0     29.749986  2019-05-03 11:30:38       1613.0                 1571.0  \n",
       "1     12.555561  2019-05-03 11:55:09       1602.0                 1581.0  \n",
       "2     28.554793  2019-05-03 12:35:57       1599.0                 1596.0  \n",
       "3     18.841219  2019-05-03 12:59:47       1625.0                 1601.0  \n",
       "4      5.413692  2019-05-03 13:36:39       1602.0                 1576.0  \n",
       "...         ...                  ...          ...                    ...  \n",
       "2319   7.125735  2019-08-10 11:50:47       1591.0                 1570.0  \n",
       "2320   9.412616  2019-08-10 12:25:13       1591.0                 1554.0  \n",
       "2321   6.271699  2019-08-10 12:53:28       1589.0                 1571.0  \n",
       "2322  14.953657  2019-08-10 13:23:31       1594.0                 1591.0  \n",
       "2323  11.336151  2019-08-10 13:58:58       1603.0                 1569.0  \n",
       "\n",
       "[2324 rows x 35 columns]"
      ]
     },
     "execution_count": 42,
     "metadata": {},
     "output_type": "execute_result"
    }
   ],
   "source": [
    "data"
   ]
  },
  {
   "cell_type": "markdown",
   "id": "3fa26113",
   "metadata": {},
   "source": [
    "Все данные объединены в одну таблицу, в следующем пункте проведем анализ, удалим ненужные признаки и добавим новые."
   ]
  },
  {
   "cell_type": "markdown",
   "id": "bed1f73f",
   "metadata": {},
   "source": [
    "## Исследовательский анализ и предобработка данных объединённого датафрейма"
   ]
  },
  {
   "cell_type": "markdown",
   "id": "2c231752",
   "metadata": {},
   "source": [
    "Прежде чем генерировать новые признаки, создадим копию датафрейма:"
   ]
  },
  {
   "cell_type": "code",
   "execution_count": 43,
   "id": "61347f7d",
   "metadata": {},
   "outputs": [],
   "source": [
    "df = data.copy()"
   ]
  },
  {
   "cell_type": "markdown",
   "id": "b112b0d3",
   "metadata": {},
   "source": [
    "Время замера температуры нам неважно, можно удалить этот признак:"
   ]
  },
  {
   "cell_type": "code",
   "execution_count": 44,
   "id": "82198590",
   "metadata": {},
   "outputs": [],
   "source": [
    "df = df.drop(['Время замера'], axis=1)"
   ]
  },
  {
   "cell_type": "markdown",
   "id": "4c0591b3",
   "metadata": {},
   "source": [
    "Сгенерируем новые признаки: время нагрева дугой, полную мощность и работу:"
   ]
  },
  {
   "cell_type": "markdown",
   "id": "4ebbe2f6",
   "metadata": {},
   "source": [
    "Время между замерами температур сразу переведем в секунды:"
   ]
  },
  {
   "cell_type": "code",
   "execution_count": 45,
   "id": "4b55d5f8",
   "metadata": {},
   "outputs": [],
   "source": [
    "df['Время между замерами температур'] = df['Конец нагрева дугой'] - df['Начало нагрева дугой']\n",
    "df['Время между замерами температур'] = df['Время между замерами температур'].dt.total_seconds()"
   ]
  },
  {
   "cell_type": "code",
   "execution_count": 46,
   "id": "48aac2ba",
   "metadata": {},
   "outputs": [
    {
     "data": {
      "text/html": [
       "<div>\n",
       "<style scoped>\n",
       "    .dataframe tbody tr th:only-of-type {\n",
       "        vertical-align: middle;\n",
       "    }\n",
       "\n",
       "    .dataframe tbody tr th {\n",
       "        vertical-align: top;\n",
       "    }\n",
       "\n",
       "    .dataframe thead th {\n",
       "        text-align: right;\n",
       "    }\n",
       "</style>\n",
       "<table border=\"1\" class=\"dataframe\">\n",
       "  <thead>\n",
       "    <tr style=\"text-align: right;\">\n",
       "      <th></th>\n",
       "      <th>key</th>\n",
       "      <th>Начало нагрева дугой</th>\n",
       "      <th>Конец нагрева дугой</th>\n",
       "      <th>Активная мощность</th>\n",
       "      <th>Реактивная мощность</th>\n",
       "      <th>Время нагрева дугой</th>\n",
       "      <th>Число итераций нагрева</th>\n",
       "      <th>Bulk 1</th>\n",
       "      <th>Bulk 2</th>\n",
       "      <th>Bulk 3</th>\n",
       "      <th>Bulk 4</th>\n",
       "      <th>Bulk 5</th>\n",
       "      <th>Bulk 6</th>\n",
       "      <th>Bulk 7</th>\n",
       "      <th>Bulk 8</th>\n",
       "      <th>Bulk 9</th>\n",
       "      <th>Bulk 10</th>\n",
       "      <th>Bulk 11</th>\n",
       "      <th>Bulk 12</th>\n",
       "      <th>Bulk 13</th>\n",
       "      <th>Bulk 14</th>\n",
       "      <th>Bulk 15</th>\n",
       "      <th>Wire 1</th>\n",
       "      <th>Wire 2</th>\n",
       "      <th>Wire 3</th>\n",
       "      <th>Wire 4</th>\n",
       "      <th>Wire 5</th>\n",
       "      <th>Wire 6</th>\n",
       "      <th>Wire 7</th>\n",
       "      <th>Wire 8</th>\n",
       "      <th>Wire 9</th>\n",
       "      <th>Газ 1</th>\n",
       "      <th>Температура</th>\n",
       "      <th>Начальная температура</th>\n",
       "      <th>Время между замерами температур</th>\n",
       "    </tr>\n",
       "  </thead>\n",
       "  <tbody>\n",
       "    <tr>\n",
       "      <th>0</th>\n",
       "      <td>1</td>\n",
       "      <td>2019-05-03 11:02:14</td>\n",
       "      <td>2019-05-03 11:28:37</td>\n",
       "      <td>0.607346</td>\n",
       "      <td>0.428564</td>\n",
       "      <td>1098.0</td>\n",
       "      <td>5</td>\n",
       "      <td>0.0</td>\n",
       "      <td>0.0</td>\n",
       "      <td>0.0</td>\n",
       "      <td>43.0</td>\n",
       "      <td>0.0</td>\n",
       "      <td>0.0</td>\n",
       "      <td>0.0</td>\n",
       "      <td>0.0</td>\n",
       "      <td>0.0</td>\n",
       "      <td>0.0</td>\n",
       "      <td>0.0</td>\n",
       "      <td>206.0</td>\n",
       "      <td>0.0</td>\n",
       "      <td>150.0</td>\n",
       "      <td>154.0</td>\n",
       "      <td>60.059998</td>\n",
       "      <td>0.00000</td>\n",
       "      <td>0.0</td>\n",
       "      <td>0.0</td>\n",
       "      <td>0.0</td>\n",
       "      <td>0.0</td>\n",
       "      <td>0.0</td>\n",
       "      <td>0.0</td>\n",
       "      <td>0.0</td>\n",
       "      <td>29.749986</td>\n",
       "      <td>1613.0</td>\n",
       "      <td>1571.0</td>\n",
       "      <td>1583.0</td>\n",
       "    </tr>\n",
       "    <tr>\n",
       "      <th>1</th>\n",
       "      <td>2</td>\n",
       "      <td>2019-05-03 11:34:14</td>\n",
       "      <td>2019-05-03 11:53:18</td>\n",
       "      <td>0.534852</td>\n",
       "      <td>0.363339</td>\n",
       "      <td>811.0</td>\n",
       "      <td>4</td>\n",
       "      <td>0.0</td>\n",
       "      <td>0.0</td>\n",
       "      <td>0.0</td>\n",
       "      <td>73.0</td>\n",
       "      <td>0.0</td>\n",
       "      <td>0.0</td>\n",
       "      <td>0.0</td>\n",
       "      <td>0.0</td>\n",
       "      <td>0.0</td>\n",
       "      <td>0.0</td>\n",
       "      <td>0.0</td>\n",
       "      <td>206.0</td>\n",
       "      <td>0.0</td>\n",
       "      <td>149.0</td>\n",
       "      <td>154.0</td>\n",
       "      <td>96.052315</td>\n",
       "      <td>0.00000</td>\n",
       "      <td>0.0</td>\n",
       "      <td>0.0</td>\n",
       "      <td>0.0</td>\n",
       "      <td>0.0</td>\n",
       "      <td>0.0</td>\n",
       "      <td>0.0</td>\n",
       "      <td>0.0</td>\n",
       "      <td>12.555561</td>\n",
       "      <td>1602.0</td>\n",
       "      <td>1581.0</td>\n",
       "      <td>1144.0</td>\n",
       "    </tr>\n",
       "    <tr>\n",
       "      <th>2</th>\n",
       "      <td>3</td>\n",
       "      <td>2019-05-03 12:06:54</td>\n",
       "      <td>2019-05-03 12:32:19</td>\n",
       "      <td>0.812728</td>\n",
       "      <td>0.587491</td>\n",
       "      <td>655.0</td>\n",
       "      <td>5</td>\n",
       "      <td>0.0</td>\n",
       "      <td>0.0</td>\n",
       "      <td>0.0</td>\n",
       "      <td>34.0</td>\n",
       "      <td>0.0</td>\n",
       "      <td>0.0</td>\n",
       "      <td>0.0</td>\n",
       "      <td>0.0</td>\n",
       "      <td>0.0</td>\n",
       "      <td>0.0</td>\n",
       "      <td>0.0</td>\n",
       "      <td>205.0</td>\n",
       "      <td>0.0</td>\n",
       "      <td>152.0</td>\n",
       "      <td>153.0</td>\n",
       "      <td>91.160157</td>\n",
       "      <td>0.00000</td>\n",
       "      <td>0.0</td>\n",
       "      <td>0.0</td>\n",
       "      <td>0.0</td>\n",
       "      <td>0.0</td>\n",
       "      <td>0.0</td>\n",
       "      <td>0.0</td>\n",
       "      <td>0.0</td>\n",
       "      <td>28.554793</td>\n",
       "      <td>1599.0</td>\n",
       "      <td>1596.0</td>\n",
       "      <td>1525.0</td>\n",
       "    </tr>\n",
       "    <tr>\n",
       "      <th>3</th>\n",
       "      <td>4</td>\n",
       "      <td>2019-05-03 12:39:37</td>\n",
       "      <td>2019-05-03 12:57:50</td>\n",
       "      <td>0.676622</td>\n",
       "      <td>0.514248</td>\n",
       "      <td>741.0</td>\n",
       "      <td>4</td>\n",
       "      <td>0.0</td>\n",
       "      <td>0.0</td>\n",
       "      <td>0.0</td>\n",
       "      <td>81.0</td>\n",
       "      <td>0.0</td>\n",
       "      <td>0.0</td>\n",
       "      <td>0.0</td>\n",
       "      <td>0.0</td>\n",
       "      <td>0.0</td>\n",
       "      <td>0.0</td>\n",
       "      <td>0.0</td>\n",
       "      <td>207.0</td>\n",
       "      <td>0.0</td>\n",
       "      <td>153.0</td>\n",
       "      <td>154.0</td>\n",
       "      <td>89.063515</td>\n",
       "      <td>0.00000</td>\n",
       "      <td>0.0</td>\n",
       "      <td>0.0</td>\n",
       "      <td>0.0</td>\n",
       "      <td>0.0</td>\n",
       "      <td>0.0</td>\n",
       "      <td>0.0</td>\n",
       "      <td>0.0</td>\n",
       "      <td>18.841219</td>\n",
       "      <td>1625.0</td>\n",
       "      <td>1601.0</td>\n",
       "      <td>1093.0</td>\n",
       "    </tr>\n",
       "    <tr>\n",
       "      <th>4</th>\n",
       "      <td>5</td>\n",
       "      <td>2019-05-03 13:11:13</td>\n",
       "      <td>2019-05-03 13:33:55</td>\n",
       "      <td>0.563238</td>\n",
       "      <td>0.421998</td>\n",
       "      <td>869.0</td>\n",
       "      <td>4</td>\n",
       "      <td>0.0</td>\n",
       "      <td>0.0</td>\n",
       "      <td>0.0</td>\n",
       "      <td>78.0</td>\n",
       "      <td>0.0</td>\n",
       "      <td>0.0</td>\n",
       "      <td>0.0</td>\n",
       "      <td>0.0</td>\n",
       "      <td>0.0</td>\n",
       "      <td>0.0</td>\n",
       "      <td>0.0</td>\n",
       "      <td>203.0</td>\n",
       "      <td>0.0</td>\n",
       "      <td>151.0</td>\n",
       "      <td>152.0</td>\n",
       "      <td>89.238236</td>\n",
       "      <td>9.11456</td>\n",
       "      <td>0.0</td>\n",
       "      <td>0.0</td>\n",
       "      <td>0.0</td>\n",
       "      <td>0.0</td>\n",
       "      <td>0.0</td>\n",
       "      <td>0.0</td>\n",
       "      <td>0.0</td>\n",
       "      <td>5.413692</td>\n",
       "      <td>1602.0</td>\n",
       "      <td>1576.0</td>\n",
       "      <td>1362.0</td>\n",
       "    </tr>\n",
       "  </tbody>\n",
       "</table>\n",
       "</div>"
      ],
      "text/plain": [
       "   key Начало нагрева дугой Конец нагрева дугой  Активная мощность  \\\n",
       "0    1  2019-05-03 11:02:14 2019-05-03 11:28:37           0.607346   \n",
       "1    2  2019-05-03 11:34:14 2019-05-03 11:53:18           0.534852   \n",
       "2    3  2019-05-03 12:06:54 2019-05-03 12:32:19           0.812728   \n",
       "3    4  2019-05-03 12:39:37 2019-05-03 12:57:50           0.676622   \n",
       "4    5  2019-05-03 13:11:13 2019-05-03 13:33:55           0.563238   \n",
       "\n",
       "   Реактивная мощность  Время нагрева дугой  Число итераций нагрева  Bulk 1  \\\n",
       "0             0.428564               1098.0                       5     0.0   \n",
       "1             0.363339                811.0                       4     0.0   \n",
       "2             0.587491                655.0                       5     0.0   \n",
       "3             0.514248                741.0                       4     0.0   \n",
       "4             0.421998                869.0                       4     0.0   \n",
       "\n",
       "   Bulk 2  Bulk 3  Bulk 4  Bulk 5  Bulk 6  Bulk 7  Bulk 8  Bulk 9  Bulk 10  \\\n",
       "0     0.0     0.0    43.0     0.0     0.0     0.0     0.0     0.0      0.0   \n",
       "1     0.0     0.0    73.0     0.0     0.0     0.0     0.0     0.0      0.0   \n",
       "2     0.0     0.0    34.0     0.0     0.0     0.0     0.0     0.0      0.0   \n",
       "3     0.0     0.0    81.0     0.0     0.0     0.0     0.0     0.0      0.0   \n",
       "4     0.0     0.0    78.0     0.0     0.0     0.0     0.0     0.0      0.0   \n",
       "\n",
       "   Bulk 11  Bulk 12  Bulk 13  Bulk 14  Bulk 15     Wire 1   Wire 2  Wire 3  \\\n",
       "0      0.0    206.0      0.0    150.0    154.0  60.059998  0.00000     0.0   \n",
       "1      0.0    206.0      0.0    149.0    154.0  96.052315  0.00000     0.0   \n",
       "2      0.0    205.0      0.0    152.0    153.0  91.160157  0.00000     0.0   \n",
       "3      0.0    207.0      0.0    153.0    154.0  89.063515  0.00000     0.0   \n",
       "4      0.0    203.0      0.0    151.0    152.0  89.238236  9.11456     0.0   \n",
       "\n",
       "   Wire 4  Wire 5  Wire 6  Wire 7  Wire 8  Wire 9      Газ 1  Температура  \\\n",
       "0     0.0     0.0     0.0     0.0     0.0     0.0  29.749986       1613.0   \n",
       "1     0.0     0.0     0.0     0.0     0.0     0.0  12.555561       1602.0   \n",
       "2     0.0     0.0     0.0     0.0     0.0     0.0  28.554793       1599.0   \n",
       "3     0.0     0.0     0.0     0.0     0.0     0.0  18.841219       1625.0   \n",
       "4     0.0     0.0     0.0     0.0     0.0     0.0   5.413692       1602.0   \n",
       "\n",
       "   Начальная температура  Время между замерами температур  \n",
       "0                 1571.0                           1583.0  \n",
       "1                 1581.0                           1144.0  \n",
       "2                 1596.0                           1525.0  \n",
       "3                 1601.0                           1093.0  \n",
       "4                 1576.0                           1362.0  "
      ]
     },
     "execution_count": 46,
     "metadata": {},
     "output_type": "execute_result"
    }
   ],
   "source": [
    "df.head()"
   ]
  },
  {
   "cell_type": "markdown",
   "id": "63275bc6",
   "metadata": {},
   "source": [
    "Время начала и окончания нагрева дугой нам больше не потребуется, можем удалить данные столбцы:"
   ]
  },
  {
   "cell_type": "code",
   "execution_count": 47,
   "id": "f34dcc93",
   "metadata": {},
   "outputs": [],
   "source": [
    "df = df.drop(['Начало нагрева дугой', 'Конец нагрева дугой'], axis=1)"
   ]
  },
  {
   "cell_type": "markdown",
   "id": "b99c05fc",
   "metadata": {},
   "source": [
    "Полная мощность:"
   ]
  },
  {
   "cell_type": "code",
   "execution_count": 48,
   "id": "7b188273",
   "metadata": {},
   "outputs": [],
   "source": [
    "df['Полная мощность'] = (df['Активная мощность']**2 + df['Реактивная мощность']**2) **0.5"
   ]
  },
  {
   "cell_type": "markdown",
   "id": "895325ba",
   "metadata": {},
   "source": [
    "Работа:"
   ]
  },
  {
   "cell_type": "code",
   "execution_count": 49,
   "id": "2f1f45b8",
   "metadata": {},
   "outputs": [],
   "source": [
    "df['Работа'] = df['Время нагрева дугой'] * df['Полная мощность']"
   ]
  },
  {
   "cell_type": "code",
   "execution_count": 50,
   "id": "f5da7d79",
   "metadata": {},
   "outputs": [
    {
     "data": {
      "text/html": [
       "<div>\n",
       "<style scoped>\n",
       "    .dataframe tbody tr th:only-of-type {\n",
       "        vertical-align: middle;\n",
       "    }\n",
       "\n",
       "    .dataframe tbody tr th {\n",
       "        vertical-align: top;\n",
       "    }\n",
       "\n",
       "    .dataframe thead th {\n",
       "        text-align: right;\n",
       "    }\n",
       "</style>\n",
       "<table border=\"1\" class=\"dataframe\">\n",
       "  <thead>\n",
       "    <tr style=\"text-align: right;\">\n",
       "      <th></th>\n",
       "      <th>key</th>\n",
       "      <th>Активная мощность</th>\n",
       "      <th>Реактивная мощность</th>\n",
       "      <th>Время нагрева дугой</th>\n",
       "      <th>Число итераций нагрева</th>\n",
       "      <th>Bulk 1</th>\n",
       "      <th>Bulk 2</th>\n",
       "      <th>Bulk 3</th>\n",
       "      <th>Bulk 4</th>\n",
       "      <th>Bulk 5</th>\n",
       "      <th>Bulk 6</th>\n",
       "      <th>Bulk 7</th>\n",
       "      <th>Bulk 8</th>\n",
       "      <th>Bulk 9</th>\n",
       "      <th>Bulk 10</th>\n",
       "      <th>Bulk 11</th>\n",
       "      <th>Bulk 12</th>\n",
       "      <th>Bulk 13</th>\n",
       "      <th>Bulk 14</th>\n",
       "      <th>Bulk 15</th>\n",
       "      <th>Wire 1</th>\n",
       "      <th>Wire 2</th>\n",
       "      <th>Wire 3</th>\n",
       "      <th>Wire 4</th>\n",
       "      <th>Wire 5</th>\n",
       "      <th>Wire 6</th>\n",
       "      <th>Wire 7</th>\n",
       "      <th>Wire 8</th>\n",
       "      <th>Wire 9</th>\n",
       "      <th>Газ 1</th>\n",
       "      <th>Температура</th>\n",
       "      <th>Начальная температура</th>\n",
       "      <th>Время между замерами температур</th>\n",
       "      <th>Полная мощность</th>\n",
       "      <th>Работа</th>\n",
       "    </tr>\n",
       "  </thead>\n",
       "  <tbody>\n",
       "    <tr>\n",
       "      <th>0</th>\n",
       "      <td>1</td>\n",
       "      <td>0.607346</td>\n",
       "      <td>0.428564</td>\n",
       "      <td>1098.0</td>\n",
       "      <td>5</td>\n",
       "      <td>0.0</td>\n",
       "      <td>0.0</td>\n",
       "      <td>0.0</td>\n",
       "      <td>43.0</td>\n",
       "      <td>0.0</td>\n",
       "      <td>0.0</td>\n",
       "      <td>0.0</td>\n",
       "      <td>0.0</td>\n",
       "      <td>0.0</td>\n",
       "      <td>0.0</td>\n",
       "      <td>0.0</td>\n",
       "      <td>206.0</td>\n",
       "      <td>0.0</td>\n",
       "      <td>150.0</td>\n",
       "      <td>154.0</td>\n",
       "      <td>60.059998</td>\n",
       "      <td>0.00000</td>\n",
       "      <td>0.0</td>\n",
       "      <td>0.0</td>\n",
       "      <td>0.0</td>\n",
       "      <td>0.0</td>\n",
       "      <td>0.0</td>\n",
       "      <td>0.0</td>\n",
       "      <td>0.0</td>\n",
       "      <td>29.749986</td>\n",
       "      <td>1613.0</td>\n",
       "      <td>1571.0</td>\n",
       "      <td>1583.0</td>\n",
       "      <td>0.743328</td>\n",
       "      <td>816.174086</td>\n",
       "    </tr>\n",
       "    <tr>\n",
       "      <th>1</th>\n",
       "      <td>2</td>\n",
       "      <td>0.534852</td>\n",
       "      <td>0.363339</td>\n",
       "      <td>811.0</td>\n",
       "      <td>4</td>\n",
       "      <td>0.0</td>\n",
       "      <td>0.0</td>\n",
       "      <td>0.0</td>\n",
       "      <td>73.0</td>\n",
       "      <td>0.0</td>\n",
       "      <td>0.0</td>\n",
       "      <td>0.0</td>\n",
       "      <td>0.0</td>\n",
       "      <td>0.0</td>\n",
       "      <td>0.0</td>\n",
       "      <td>0.0</td>\n",
       "      <td>206.0</td>\n",
       "      <td>0.0</td>\n",
       "      <td>149.0</td>\n",
       "      <td>154.0</td>\n",
       "      <td>96.052315</td>\n",
       "      <td>0.00000</td>\n",
       "      <td>0.0</td>\n",
       "      <td>0.0</td>\n",
       "      <td>0.0</td>\n",
       "      <td>0.0</td>\n",
       "      <td>0.0</td>\n",
       "      <td>0.0</td>\n",
       "      <td>0.0</td>\n",
       "      <td>12.555561</td>\n",
       "      <td>1602.0</td>\n",
       "      <td>1581.0</td>\n",
       "      <td>1144.0</td>\n",
       "      <td>0.646593</td>\n",
       "      <td>524.386650</td>\n",
       "    </tr>\n",
       "    <tr>\n",
       "      <th>2</th>\n",
       "      <td>3</td>\n",
       "      <td>0.812728</td>\n",
       "      <td>0.587491</td>\n",
       "      <td>655.0</td>\n",
       "      <td>5</td>\n",
       "      <td>0.0</td>\n",
       "      <td>0.0</td>\n",
       "      <td>0.0</td>\n",
       "      <td>34.0</td>\n",
       "      <td>0.0</td>\n",
       "      <td>0.0</td>\n",
       "      <td>0.0</td>\n",
       "      <td>0.0</td>\n",
       "      <td>0.0</td>\n",
       "      <td>0.0</td>\n",
       "      <td>0.0</td>\n",
       "      <td>205.0</td>\n",
       "      <td>0.0</td>\n",
       "      <td>152.0</td>\n",
       "      <td>153.0</td>\n",
       "      <td>91.160157</td>\n",
       "      <td>0.00000</td>\n",
       "      <td>0.0</td>\n",
       "      <td>0.0</td>\n",
       "      <td>0.0</td>\n",
       "      <td>0.0</td>\n",
       "      <td>0.0</td>\n",
       "      <td>0.0</td>\n",
       "      <td>0.0</td>\n",
       "      <td>28.554793</td>\n",
       "      <td>1599.0</td>\n",
       "      <td>1596.0</td>\n",
       "      <td>1525.0</td>\n",
       "      <td>1.002833</td>\n",
       "      <td>656.855369</td>\n",
       "    </tr>\n",
       "    <tr>\n",
       "      <th>3</th>\n",
       "      <td>4</td>\n",
       "      <td>0.676622</td>\n",
       "      <td>0.514248</td>\n",
       "      <td>741.0</td>\n",
       "      <td>4</td>\n",
       "      <td>0.0</td>\n",
       "      <td>0.0</td>\n",
       "      <td>0.0</td>\n",
       "      <td>81.0</td>\n",
       "      <td>0.0</td>\n",
       "      <td>0.0</td>\n",
       "      <td>0.0</td>\n",
       "      <td>0.0</td>\n",
       "      <td>0.0</td>\n",
       "      <td>0.0</td>\n",
       "      <td>0.0</td>\n",
       "      <td>207.0</td>\n",
       "      <td>0.0</td>\n",
       "      <td>153.0</td>\n",
       "      <td>154.0</td>\n",
       "      <td>89.063515</td>\n",
       "      <td>0.00000</td>\n",
       "      <td>0.0</td>\n",
       "      <td>0.0</td>\n",
       "      <td>0.0</td>\n",
       "      <td>0.0</td>\n",
       "      <td>0.0</td>\n",
       "      <td>0.0</td>\n",
       "      <td>0.0</td>\n",
       "      <td>18.841219</td>\n",
       "      <td>1625.0</td>\n",
       "      <td>1601.0</td>\n",
       "      <td>1093.0</td>\n",
       "      <td>0.849864</td>\n",
       "      <td>629.749161</td>\n",
       "    </tr>\n",
       "    <tr>\n",
       "      <th>4</th>\n",
       "      <td>5</td>\n",
       "      <td>0.563238</td>\n",
       "      <td>0.421998</td>\n",
       "      <td>869.0</td>\n",
       "      <td>4</td>\n",
       "      <td>0.0</td>\n",
       "      <td>0.0</td>\n",
       "      <td>0.0</td>\n",
       "      <td>78.0</td>\n",
       "      <td>0.0</td>\n",
       "      <td>0.0</td>\n",
       "      <td>0.0</td>\n",
       "      <td>0.0</td>\n",
       "      <td>0.0</td>\n",
       "      <td>0.0</td>\n",
       "      <td>0.0</td>\n",
       "      <td>203.0</td>\n",
       "      <td>0.0</td>\n",
       "      <td>151.0</td>\n",
       "      <td>152.0</td>\n",
       "      <td>89.238236</td>\n",
       "      <td>9.11456</td>\n",
       "      <td>0.0</td>\n",
       "      <td>0.0</td>\n",
       "      <td>0.0</td>\n",
       "      <td>0.0</td>\n",
       "      <td>0.0</td>\n",
       "      <td>0.0</td>\n",
       "      <td>0.0</td>\n",
       "      <td>5.413692</td>\n",
       "      <td>1602.0</td>\n",
       "      <td>1576.0</td>\n",
       "      <td>1362.0</td>\n",
       "      <td>0.703789</td>\n",
       "      <td>611.592410</td>\n",
       "    </tr>\n",
       "    <tr>\n",
       "      <th>...</th>\n",
       "      <td>...</td>\n",
       "      <td>...</td>\n",
       "      <td>...</td>\n",
       "      <td>...</td>\n",
       "      <td>...</td>\n",
       "      <td>...</td>\n",
       "      <td>...</td>\n",
       "      <td>...</td>\n",
       "      <td>...</td>\n",
       "      <td>...</td>\n",
       "      <td>...</td>\n",
       "      <td>...</td>\n",
       "      <td>...</td>\n",
       "      <td>...</td>\n",
       "      <td>...</td>\n",
       "      <td>...</td>\n",
       "      <td>...</td>\n",
       "      <td>...</td>\n",
       "      <td>...</td>\n",
       "      <td>...</td>\n",
       "      <td>...</td>\n",
       "      <td>...</td>\n",
       "      <td>...</td>\n",
       "      <td>...</td>\n",
       "      <td>...</td>\n",
       "      <td>...</td>\n",
       "      <td>...</td>\n",
       "      <td>...</td>\n",
       "      <td>...</td>\n",
       "      <td>...</td>\n",
       "      <td>...</td>\n",
       "      <td>...</td>\n",
       "      <td>...</td>\n",
       "      <td>...</td>\n",
       "      <td>...</td>\n",
       "    </tr>\n",
       "    <tr>\n",
       "      <th>2319</th>\n",
       "      <td>2495</td>\n",
       "      <td>0.792033</td>\n",
       "      <td>0.552734</td>\n",
       "      <td>723.0</td>\n",
       "      <td>4</td>\n",
       "      <td>0.0</td>\n",
       "      <td>0.0</td>\n",
       "      <td>21.0</td>\n",
       "      <td>0.0</td>\n",
       "      <td>0.0</td>\n",
       "      <td>0.0</td>\n",
       "      <td>0.0</td>\n",
       "      <td>0.0</td>\n",
       "      <td>0.0</td>\n",
       "      <td>90.0</td>\n",
       "      <td>0.0</td>\n",
       "      <td>256.0</td>\n",
       "      <td>0.0</td>\n",
       "      <td>129.0</td>\n",
       "      <td>223.0</td>\n",
       "      <td>89.150879</td>\n",
       "      <td>0.00000</td>\n",
       "      <td>0.0</td>\n",
       "      <td>0.0</td>\n",
       "      <td>0.0</td>\n",
       "      <td>0.0</td>\n",
       "      <td>0.0</td>\n",
       "      <td>0.0</td>\n",
       "      <td>0.0</td>\n",
       "      <td>7.125735</td>\n",
       "      <td>1591.0</td>\n",
       "      <td>1570.0</td>\n",
       "      <td>1208.0</td>\n",
       "      <td>0.965832</td>\n",
       "      <td>698.296570</td>\n",
       "    </tr>\n",
       "    <tr>\n",
       "      <th>2320</th>\n",
       "      <td>2496</td>\n",
       "      <td>0.695820</td>\n",
       "      <td>0.478672</td>\n",
       "      <td>940.0</td>\n",
       "      <td>6</td>\n",
       "      <td>0.0</td>\n",
       "      <td>0.0</td>\n",
       "      <td>0.0</td>\n",
       "      <td>63.0</td>\n",
       "      <td>0.0</td>\n",
       "      <td>0.0</td>\n",
       "      <td>0.0</td>\n",
       "      <td>0.0</td>\n",
       "      <td>0.0</td>\n",
       "      <td>122.0</td>\n",
       "      <td>0.0</td>\n",
       "      <td>256.0</td>\n",
       "      <td>0.0</td>\n",
       "      <td>129.0</td>\n",
       "      <td>226.0</td>\n",
       "      <td>114.179527</td>\n",
       "      <td>0.00000</td>\n",
       "      <td>0.0</td>\n",
       "      <td>0.0</td>\n",
       "      <td>0.0</td>\n",
       "      <td>0.0</td>\n",
       "      <td>0.0</td>\n",
       "      <td>0.0</td>\n",
       "      <td>0.0</td>\n",
       "      <td>9.412616</td>\n",
       "      <td>1591.0</td>\n",
       "      <td>1554.0</td>\n",
       "      <td>1569.0</td>\n",
       "      <td>0.844566</td>\n",
       "      <td>793.892042</td>\n",
       "    </tr>\n",
       "    <tr>\n",
       "      <th>2321</th>\n",
       "      <td>2497</td>\n",
       "      <td>1.201746</td>\n",
       "      <td>0.817364</td>\n",
       "      <td>569.0</td>\n",
       "      <td>3</td>\n",
       "      <td>0.0</td>\n",
       "      <td>0.0</td>\n",
       "      <td>0.0</td>\n",
       "      <td>85.0</td>\n",
       "      <td>0.0</td>\n",
       "      <td>0.0</td>\n",
       "      <td>0.0</td>\n",
       "      <td>0.0</td>\n",
       "      <td>0.0</td>\n",
       "      <td>0.0</td>\n",
       "      <td>0.0</td>\n",
       "      <td>230.0</td>\n",
       "      <td>0.0</td>\n",
       "      <td>124.0</td>\n",
       "      <td>226.0</td>\n",
       "      <td>94.086723</td>\n",
       "      <td>9.04800</td>\n",
       "      <td>0.0</td>\n",
       "      <td>0.0</td>\n",
       "      <td>0.0</td>\n",
       "      <td>0.0</td>\n",
       "      <td>0.0</td>\n",
       "      <td>0.0</td>\n",
       "      <td>0.0</td>\n",
       "      <td>6.271699</td>\n",
       "      <td>1589.0</td>\n",
       "      <td>1571.0</td>\n",
       "      <td>824.0</td>\n",
       "      <td>1.453368</td>\n",
       "      <td>826.966317</td>\n",
       "    </tr>\n",
       "    <tr>\n",
       "      <th>2322</th>\n",
       "      <td>2498</td>\n",
       "      <td>0.640462</td>\n",
       "      <td>0.447964</td>\n",
       "      <td>750.0</td>\n",
       "      <td>5</td>\n",
       "      <td>0.0</td>\n",
       "      <td>0.0</td>\n",
       "      <td>90.0</td>\n",
       "      <td>0.0</td>\n",
       "      <td>0.0</td>\n",
       "      <td>0.0</td>\n",
       "      <td>0.0</td>\n",
       "      <td>0.0</td>\n",
       "      <td>0.0</td>\n",
       "      <td>101.0</td>\n",
       "      <td>0.0</td>\n",
       "      <td>206.0</td>\n",
       "      <td>0.0</td>\n",
       "      <td>129.0</td>\n",
       "      <td>207.0</td>\n",
       "      <td>118.110717</td>\n",
       "      <td>0.00000</td>\n",
       "      <td>0.0</td>\n",
       "      <td>0.0</td>\n",
       "      <td>0.0</td>\n",
       "      <td>0.0</td>\n",
       "      <td>0.0</td>\n",
       "      <td>0.0</td>\n",
       "      <td>0.0</td>\n",
       "      <td>14.953657</td>\n",
       "      <td>1594.0</td>\n",
       "      <td>1591.0</td>\n",
       "      <td>1358.0</td>\n",
       "      <td>0.781577</td>\n",
       "      <td>586.183092</td>\n",
       "    </tr>\n",
       "    <tr>\n",
       "      <th>2323</th>\n",
       "      <td>2499</td>\n",
       "      <td>0.434271</td>\n",
       "      <td>0.324209</td>\n",
       "      <td>883.0</td>\n",
       "      <td>4</td>\n",
       "      <td>0.0</td>\n",
       "      <td>0.0</td>\n",
       "      <td>47.0</td>\n",
       "      <td>0.0</td>\n",
       "      <td>0.0</td>\n",
       "      <td>0.0</td>\n",
       "      <td>0.0</td>\n",
       "      <td>0.0</td>\n",
       "      <td>0.0</td>\n",
       "      <td>0.0</td>\n",
       "      <td>0.0</td>\n",
       "      <td>233.0</td>\n",
       "      <td>0.0</td>\n",
       "      <td>126.0</td>\n",
       "      <td>227.0</td>\n",
       "      <td>110.160958</td>\n",
       "      <td>50.00528</td>\n",
       "      <td>0.0</td>\n",
       "      <td>0.0</td>\n",
       "      <td>0.0</td>\n",
       "      <td>0.0</td>\n",
       "      <td>0.0</td>\n",
       "      <td>0.0</td>\n",
       "      <td>0.0</td>\n",
       "      <td>11.336151</td>\n",
       "      <td>1603.0</td>\n",
       "      <td>1569.0</td>\n",
       "      <td>1366.0</td>\n",
       "      <td>0.541944</td>\n",
       "      <td>478.536127</td>\n",
       "    </tr>\n",
       "  </tbody>\n",
       "</table>\n",
       "<p>2324 rows × 35 columns</p>\n",
       "</div>"
      ],
      "text/plain": [
       "       key  Активная мощность  Реактивная мощность  Время нагрева дугой  \\\n",
       "0        1           0.607346             0.428564               1098.0   \n",
       "1        2           0.534852             0.363339                811.0   \n",
       "2        3           0.812728             0.587491                655.0   \n",
       "3        4           0.676622             0.514248                741.0   \n",
       "4        5           0.563238             0.421998                869.0   \n",
       "...    ...                ...                  ...                  ...   \n",
       "2319  2495           0.792033             0.552734                723.0   \n",
       "2320  2496           0.695820             0.478672                940.0   \n",
       "2321  2497           1.201746             0.817364                569.0   \n",
       "2322  2498           0.640462             0.447964                750.0   \n",
       "2323  2499           0.434271             0.324209                883.0   \n",
       "\n",
       "      Число итераций нагрева  Bulk 1  Bulk 2  Bulk 3  Bulk 4  Bulk 5  Bulk 6  \\\n",
       "0                          5     0.0     0.0     0.0    43.0     0.0     0.0   \n",
       "1                          4     0.0     0.0     0.0    73.0     0.0     0.0   \n",
       "2                          5     0.0     0.0     0.0    34.0     0.0     0.0   \n",
       "3                          4     0.0     0.0     0.0    81.0     0.0     0.0   \n",
       "4                          4     0.0     0.0     0.0    78.0     0.0     0.0   \n",
       "...                      ...     ...     ...     ...     ...     ...     ...   \n",
       "2319                       4     0.0     0.0    21.0     0.0     0.0     0.0   \n",
       "2320                       6     0.0     0.0     0.0    63.0     0.0     0.0   \n",
       "2321                       3     0.0     0.0     0.0    85.0     0.0     0.0   \n",
       "2322                       5     0.0     0.0    90.0     0.0     0.0     0.0   \n",
       "2323                       4     0.0     0.0    47.0     0.0     0.0     0.0   \n",
       "\n",
       "      Bulk 7  Bulk 8  Bulk 9  Bulk 10  Bulk 11  Bulk 12  Bulk 13  Bulk 14  \\\n",
       "0        0.0     0.0     0.0      0.0      0.0    206.0      0.0    150.0   \n",
       "1        0.0     0.0     0.0      0.0      0.0    206.0      0.0    149.0   \n",
       "2        0.0     0.0     0.0      0.0      0.0    205.0      0.0    152.0   \n",
       "3        0.0     0.0     0.0      0.0      0.0    207.0      0.0    153.0   \n",
       "4        0.0     0.0     0.0      0.0      0.0    203.0      0.0    151.0   \n",
       "...      ...     ...     ...      ...      ...      ...      ...      ...   \n",
       "2319     0.0     0.0     0.0     90.0      0.0    256.0      0.0    129.0   \n",
       "2320     0.0     0.0     0.0    122.0      0.0    256.0      0.0    129.0   \n",
       "2321     0.0     0.0     0.0      0.0      0.0    230.0      0.0    124.0   \n",
       "2322     0.0     0.0     0.0    101.0      0.0    206.0      0.0    129.0   \n",
       "2323     0.0     0.0     0.0      0.0      0.0    233.0      0.0    126.0   \n",
       "\n",
       "      Bulk 15      Wire 1    Wire 2  Wire 3  Wire 4  Wire 5  Wire 6  Wire 7  \\\n",
       "0       154.0   60.059998   0.00000     0.0     0.0     0.0     0.0     0.0   \n",
       "1       154.0   96.052315   0.00000     0.0     0.0     0.0     0.0     0.0   \n",
       "2       153.0   91.160157   0.00000     0.0     0.0     0.0     0.0     0.0   \n",
       "3       154.0   89.063515   0.00000     0.0     0.0     0.0     0.0     0.0   \n",
       "4       152.0   89.238236   9.11456     0.0     0.0     0.0     0.0     0.0   \n",
       "...       ...         ...       ...     ...     ...     ...     ...     ...   \n",
       "2319    223.0   89.150879   0.00000     0.0     0.0     0.0     0.0     0.0   \n",
       "2320    226.0  114.179527   0.00000     0.0     0.0     0.0     0.0     0.0   \n",
       "2321    226.0   94.086723   9.04800     0.0     0.0     0.0     0.0     0.0   \n",
       "2322    207.0  118.110717   0.00000     0.0     0.0     0.0     0.0     0.0   \n",
       "2323    227.0  110.160958  50.00528     0.0     0.0     0.0     0.0     0.0   \n",
       "\n",
       "      Wire 8  Wire 9      Газ 1  Температура  Начальная температура  \\\n",
       "0        0.0     0.0  29.749986       1613.0                 1571.0   \n",
       "1        0.0     0.0  12.555561       1602.0                 1581.0   \n",
       "2        0.0     0.0  28.554793       1599.0                 1596.0   \n",
       "3        0.0     0.0  18.841219       1625.0                 1601.0   \n",
       "4        0.0     0.0   5.413692       1602.0                 1576.0   \n",
       "...      ...     ...        ...          ...                    ...   \n",
       "2319     0.0     0.0   7.125735       1591.0                 1570.0   \n",
       "2320     0.0     0.0   9.412616       1591.0                 1554.0   \n",
       "2321     0.0     0.0   6.271699       1589.0                 1571.0   \n",
       "2322     0.0     0.0  14.953657       1594.0                 1591.0   \n",
       "2323     0.0     0.0  11.336151       1603.0                 1569.0   \n",
       "\n",
       "      Время между замерами температур  Полная мощность      Работа  \n",
       "0                              1583.0         0.743328  816.174086  \n",
       "1                              1144.0         0.646593  524.386650  \n",
       "2                              1525.0         1.002833  656.855369  \n",
       "3                              1093.0         0.849864  629.749161  \n",
       "4                              1362.0         0.703789  611.592410  \n",
       "...                               ...              ...         ...  \n",
       "2319                           1208.0         0.965832  698.296570  \n",
       "2320                           1569.0         0.844566  793.892042  \n",
       "2321                            824.0         1.453368  826.966317  \n",
       "2322                           1358.0         0.781577  586.183092  \n",
       "2323                           1366.0         0.541944  478.536127  \n",
       "\n",
       "[2324 rows x 35 columns]"
      ]
     },
     "execution_count": 50,
     "metadata": {},
     "output_type": "execute_result"
    }
   ],
   "source": [
    "df"
   ]
  },
  {
   "cell_type": "markdown",
   "id": "2033e390",
   "metadata": {},
   "source": [
    "По требованию закачика должно быть не больше 2332 ключей и не должно быть номеров больше 2500, в нашем итоговом датафрейме получилось 2324 ключа, номер последнего ключа 2499, все условия выполняются."
   ]
  },
  {
   "cell_type": "markdown",
   "id": "f4f45874",
   "metadata": {},
   "source": [
    "Номер ключа нам больше не понадобится, удалим этот столбец:"
   ]
  },
  {
   "cell_type": "code",
   "execution_count": 51,
   "id": "1b9db199",
   "metadata": {},
   "outputs": [],
   "source": [
    "df = df.drop(['key'], axis=1)"
   ]
  },
  {
   "cell_type": "code",
   "execution_count": 52,
   "id": "d44d2e01",
   "metadata": {},
   "outputs": [
    {
     "data": {
      "text/plain": [
       "0.0"
      ]
     },
     "execution_count": 52,
     "metadata": {},
     "output_type": "execute_result"
    }
   ],
   "source": [
    "sum(df['Wire 5'])"
   ]
  },
  {
   "cell_type": "markdown",
   "id": "af1a864c",
   "metadata": {},
   "source": [
    "Столбец wire 5 пустой, этот материал вообще не добавляли, удалим его:"
   ]
  },
  {
   "cell_type": "code",
   "execution_count": 53,
   "id": "0b03f22d",
   "metadata": {},
   "outputs": [
    {
     "data": {
      "text/html": [
       "<div>\n",
       "<style scoped>\n",
       "    .dataframe tbody tr th:only-of-type {\n",
       "        vertical-align: middle;\n",
       "    }\n",
       "\n",
       "    .dataframe tbody tr th {\n",
       "        vertical-align: top;\n",
       "    }\n",
       "\n",
       "    .dataframe thead th {\n",
       "        text-align: right;\n",
       "    }\n",
       "</style>\n",
       "<table border=\"1\" class=\"dataframe\">\n",
       "  <thead>\n",
       "    <tr style=\"text-align: right;\">\n",
       "      <th></th>\n",
       "      <th>Активная мощность</th>\n",
       "      <th>Реактивная мощность</th>\n",
       "      <th>Время нагрева дугой</th>\n",
       "      <th>Число итераций нагрева</th>\n",
       "      <th>Bulk 1</th>\n",
       "      <th>Bulk 2</th>\n",
       "      <th>Bulk 3</th>\n",
       "      <th>Bulk 4</th>\n",
       "      <th>Bulk 5</th>\n",
       "      <th>Bulk 6</th>\n",
       "      <th>Bulk 7</th>\n",
       "      <th>Bulk 8</th>\n",
       "      <th>Bulk 9</th>\n",
       "      <th>Bulk 10</th>\n",
       "      <th>Bulk 11</th>\n",
       "      <th>Bulk 12</th>\n",
       "      <th>Bulk 13</th>\n",
       "      <th>Bulk 14</th>\n",
       "      <th>Bulk 15</th>\n",
       "      <th>Wire 1</th>\n",
       "      <th>Wire 2</th>\n",
       "      <th>Wire 3</th>\n",
       "      <th>Wire 4</th>\n",
       "      <th>Wire 6</th>\n",
       "      <th>Wire 7</th>\n",
       "      <th>Wire 8</th>\n",
       "      <th>Wire 9</th>\n",
       "      <th>Газ 1</th>\n",
       "      <th>Температура</th>\n",
       "      <th>Начальная температура</th>\n",
       "      <th>Время между замерами температур</th>\n",
       "      <th>Полная мощность</th>\n",
       "      <th>Работа</th>\n",
       "    </tr>\n",
       "  </thead>\n",
       "  <tbody>\n",
       "    <tr>\n",
       "      <th>0</th>\n",
       "      <td>0.607346</td>\n",
       "      <td>0.428564</td>\n",
       "      <td>1098.0</td>\n",
       "      <td>5</td>\n",
       "      <td>0.0</td>\n",
       "      <td>0.0</td>\n",
       "      <td>0.0</td>\n",
       "      <td>43.0</td>\n",
       "      <td>0.0</td>\n",
       "      <td>0.0</td>\n",
       "      <td>0.0</td>\n",
       "      <td>0.0</td>\n",
       "      <td>0.0</td>\n",
       "      <td>0.0</td>\n",
       "      <td>0.0</td>\n",
       "      <td>206.0</td>\n",
       "      <td>0.0</td>\n",
       "      <td>150.0</td>\n",
       "      <td>154.0</td>\n",
       "      <td>60.059998</td>\n",
       "      <td>0.00000</td>\n",
       "      <td>0.0</td>\n",
       "      <td>0.0</td>\n",
       "      <td>0.0</td>\n",
       "      <td>0.0</td>\n",
       "      <td>0.0</td>\n",
       "      <td>0.0</td>\n",
       "      <td>29.749986</td>\n",
       "      <td>1613.0</td>\n",
       "      <td>1571.0</td>\n",
       "      <td>1583.0</td>\n",
       "      <td>0.743328</td>\n",
       "      <td>816.174086</td>\n",
       "    </tr>\n",
       "    <tr>\n",
       "      <th>1</th>\n",
       "      <td>0.534852</td>\n",
       "      <td>0.363339</td>\n",
       "      <td>811.0</td>\n",
       "      <td>4</td>\n",
       "      <td>0.0</td>\n",
       "      <td>0.0</td>\n",
       "      <td>0.0</td>\n",
       "      <td>73.0</td>\n",
       "      <td>0.0</td>\n",
       "      <td>0.0</td>\n",
       "      <td>0.0</td>\n",
       "      <td>0.0</td>\n",
       "      <td>0.0</td>\n",
       "      <td>0.0</td>\n",
       "      <td>0.0</td>\n",
       "      <td>206.0</td>\n",
       "      <td>0.0</td>\n",
       "      <td>149.0</td>\n",
       "      <td>154.0</td>\n",
       "      <td>96.052315</td>\n",
       "      <td>0.00000</td>\n",
       "      <td>0.0</td>\n",
       "      <td>0.0</td>\n",
       "      <td>0.0</td>\n",
       "      <td>0.0</td>\n",
       "      <td>0.0</td>\n",
       "      <td>0.0</td>\n",
       "      <td>12.555561</td>\n",
       "      <td>1602.0</td>\n",
       "      <td>1581.0</td>\n",
       "      <td>1144.0</td>\n",
       "      <td>0.646593</td>\n",
       "      <td>524.386650</td>\n",
       "    </tr>\n",
       "    <tr>\n",
       "      <th>2</th>\n",
       "      <td>0.812728</td>\n",
       "      <td>0.587491</td>\n",
       "      <td>655.0</td>\n",
       "      <td>5</td>\n",
       "      <td>0.0</td>\n",
       "      <td>0.0</td>\n",
       "      <td>0.0</td>\n",
       "      <td>34.0</td>\n",
       "      <td>0.0</td>\n",
       "      <td>0.0</td>\n",
       "      <td>0.0</td>\n",
       "      <td>0.0</td>\n",
       "      <td>0.0</td>\n",
       "      <td>0.0</td>\n",
       "      <td>0.0</td>\n",
       "      <td>205.0</td>\n",
       "      <td>0.0</td>\n",
       "      <td>152.0</td>\n",
       "      <td>153.0</td>\n",
       "      <td>91.160157</td>\n",
       "      <td>0.00000</td>\n",
       "      <td>0.0</td>\n",
       "      <td>0.0</td>\n",
       "      <td>0.0</td>\n",
       "      <td>0.0</td>\n",
       "      <td>0.0</td>\n",
       "      <td>0.0</td>\n",
       "      <td>28.554793</td>\n",
       "      <td>1599.0</td>\n",
       "      <td>1596.0</td>\n",
       "      <td>1525.0</td>\n",
       "      <td>1.002833</td>\n",
       "      <td>656.855369</td>\n",
       "    </tr>\n",
       "    <tr>\n",
       "      <th>3</th>\n",
       "      <td>0.676622</td>\n",
       "      <td>0.514248</td>\n",
       "      <td>741.0</td>\n",
       "      <td>4</td>\n",
       "      <td>0.0</td>\n",
       "      <td>0.0</td>\n",
       "      <td>0.0</td>\n",
       "      <td>81.0</td>\n",
       "      <td>0.0</td>\n",
       "      <td>0.0</td>\n",
       "      <td>0.0</td>\n",
       "      <td>0.0</td>\n",
       "      <td>0.0</td>\n",
       "      <td>0.0</td>\n",
       "      <td>0.0</td>\n",
       "      <td>207.0</td>\n",
       "      <td>0.0</td>\n",
       "      <td>153.0</td>\n",
       "      <td>154.0</td>\n",
       "      <td>89.063515</td>\n",
       "      <td>0.00000</td>\n",
       "      <td>0.0</td>\n",
       "      <td>0.0</td>\n",
       "      <td>0.0</td>\n",
       "      <td>0.0</td>\n",
       "      <td>0.0</td>\n",
       "      <td>0.0</td>\n",
       "      <td>18.841219</td>\n",
       "      <td>1625.0</td>\n",
       "      <td>1601.0</td>\n",
       "      <td>1093.0</td>\n",
       "      <td>0.849864</td>\n",
       "      <td>629.749161</td>\n",
       "    </tr>\n",
       "    <tr>\n",
       "      <th>4</th>\n",
       "      <td>0.563238</td>\n",
       "      <td>0.421998</td>\n",
       "      <td>869.0</td>\n",
       "      <td>4</td>\n",
       "      <td>0.0</td>\n",
       "      <td>0.0</td>\n",
       "      <td>0.0</td>\n",
       "      <td>78.0</td>\n",
       "      <td>0.0</td>\n",
       "      <td>0.0</td>\n",
       "      <td>0.0</td>\n",
       "      <td>0.0</td>\n",
       "      <td>0.0</td>\n",
       "      <td>0.0</td>\n",
       "      <td>0.0</td>\n",
       "      <td>203.0</td>\n",
       "      <td>0.0</td>\n",
       "      <td>151.0</td>\n",
       "      <td>152.0</td>\n",
       "      <td>89.238236</td>\n",
       "      <td>9.11456</td>\n",
       "      <td>0.0</td>\n",
       "      <td>0.0</td>\n",
       "      <td>0.0</td>\n",
       "      <td>0.0</td>\n",
       "      <td>0.0</td>\n",
       "      <td>0.0</td>\n",
       "      <td>5.413692</td>\n",
       "      <td>1602.0</td>\n",
       "      <td>1576.0</td>\n",
       "      <td>1362.0</td>\n",
       "      <td>0.703789</td>\n",
       "      <td>611.592410</td>\n",
       "    </tr>\n",
       "  </tbody>\n",
       "</table>\n",
       "</div>"
      ],
      "text/plain": [
       "   Активная мощность  Реактивная мощность  Время нагрева дугой  \\\n",
       "0           0.607346             0.428564               1098.0   \n",
       "1           0.534852             0.363339                811.0   \n",
       "2           0.812728             0.587491                655.0   \n",
       "3           0.676622             0.514248                741.0   \n",
       "4           0.563238             0.421998                869.0   \n",
       "\n",
       "   Число итераций нагрева  Bulk 1  Bulk 2  Bulk 3  Bulk 4  Bulk 5  Bulk 6  \\\n",
       "0                       5     0.0     0.0     0.0    43.0     0.0     0.0   \n",
       "1                       4     0.0     0.0     0.0    73.0     0.0     0.0   \n",
       "2                       5     0.0     0.0     0.0    34.0     0.0     0.0   \n",
       "3                       4     0.0     0.0     0.0    81.0     0.0     0.0   \n",
       "4                       4     0.0     0.0     0.0    78.0     0.0     0.0   \n",
       "\n",
       "   Bulk 7  Bulk 8  Bulk 9  Bulk 10  Bulk 11  Bulk 12  Bulk 13  Bulk 14  \\\n",
       "0     0.0     0.0     0.0      0.0      0.0    206.0      0.0    150.0   \n",
       "1     0.0     0.0     0.0      0.0      0.0    206.0      0.0    149.0   \n",
       "2     0.0     0.0     0.0      0.0      0.0    205.0      0.0    152.0   \n",
       "3     0.0     0.0     0.0      0.0      0.0    207.0      0.0    153.0   \n",
       "4     0.0     0.0     0.0      0.0      0.0    203.0      0.0    151.0   \n",
       "\n",
       "   Bulk 15     Wire 1   Wire 2  Wire 3  Wire 4  Wire 6  Wire 7  Wire 8  \\\n",
       "0    154.0  60.059998  0.00000     0.0     0.0     0.0     0.0     0.0   \n",
       "1    154.0  96.052315  0.00000     0.0     0.0     0.0     0.0     0.0   \n",
       "2    153.0  91.160157  0.00000     0.0     0.0     0.0     0.0     0.0   \n",
       "3    154.0  89.063515  0.00000     0.0     0.0     0.0     0.0     0.0   \n",
       "4    152.0  89.238236  9.11456     0.0     0.0     0.0     0.0     0.0   \n",
       "\n",
       "   Wire 9      Газ 1  Температура  Начальная температура  \\\n",
       "0     0.0  29.749986       1613.0                 1571.0   \n",
       "1     0.0  12.555561       1602.0                 1581.0   \n",
       "2     0.0  28.554793       1599.0                 1596.0   \n",
       "3     0.0  18.841219       1625.0                 1601.0   \n",
       "4     0.0   5.413692       1602.0                 1576.0   \n",
       "\n",
       "   Время между замерами температур  Полная мощность      Работа  \n",
       "0                           1583.0         0.743328  816.174086  \n",
       "1                           1144.0         0.646593  524.386650  \n",
       "2                           1525.0         1.002833  656.855369  \n",
       "3                           1093.0         0.849864  629.749161  \n",
       "4                           1362.0         0.703789  611.592410  "
      ]
     },
     "execution_count": 53,
     "metadata": {},
     "output_type": "execute_result"
    }
   ],
   "source": [
    "df = df.drop(['Wire 5'], axis=1)\n",
    "df.head()"
   ]
  },
  {
   "cell_type": "markdown",
   "id": "52786377",
   "metadata": {},
   "source": [
    "Выше мы видим итоговую таблицу."
   ]
  },
  {
   "cell_type": "markdown",
   "id": "a70d719e",
   "metadata": {},
   "source": [
    "Выведем матрицу корреляций между всеми признаками:"
   ]
  },
  {
   "cell_type": "code",
   "execution_count": 54,
   "id": "99a03411",
   "metadata": {},
   "outputs": [
    {
     "data": {
      "text/plain": [
       "<AxesSubplot:>"
      ]
     },
     "execution_count": 54,
     "metadata": {},
     "output_type": "execute_result"
    },
    {
     "data": {
      "image/png": "[encoded data removed]",
      "text/plain": [
       "<Figure size 1080x792 with 2 Axes>"
      ]
     },
     "metadata": {},
     "output_type": "display_data"
    }
   ],
   "source": [
    "sns.set(rc={'figure.figsize':(15,11)})\n",
    "sns.heatmap(df.corr())"
   ]
  },
  {
   "cell_type": "markdown",
   "id": "664b51e5",
   "metadata": {},
   "source": [
    "Как мы видим, высокая корреляция у активной, реактивной и полной мощностей, что логично. У числа итераций и времени нагрева, что тоже логично. Также выделяются Wire 8 и Bulk 9, это интересно, видимо данные материалы часто добавляют вместе. Да и в целом наблюдается высокая корреляция между некоторыми подаваемыми материалами, но мы не знаем, что это за материалы. У целевого признака - конечной температуры высокая корреляция с временем нагрева дугой. Подадим эти признаки нашим моделям на вход."
   ]
  },
  {
   "cell_type": "markdown",
   "id": "9cc185f4",
   "metadata": {},
   "source": [
    "## Подготовка данных"
   ]
  },
  {
   "cell_type": "markdown",
   "id": "01c82d9b",
   "metadata": {},
   "source": [
    "Разделим наши данные на обучающую (75%) и тестовую (25%) выборки."
   ]
  },
  {
   "cell_type": "code",
   "execution_count": 55,
   "id": "e98ef6c7",
   "metadata": {},
   "outputs": [],
   "source": [
    "train, test = train_test_split(df, test_size=0.25, random_state=150124)"
   ]
  },
  {
   "cell_type": "markdown",
   "id": "59e16e52",
   "metadata": {},
   "source": [
    "Проверим правильность разбиения:"
   ]
  },
  {
   "cell_type": "code",
   "execution_count": 56,
   "id": "816ff789",
   "metadata": {},
   "outputs": [
    {
     "data": {
      "text/plain": [
       "(1743, 581)"
      ]
     },
     "execution_count": 56,
     "metadata": {},
     "output_type": "execute_result"
    }
   ],
   "source": [
    "train.shape[0], test.shape[0]"
   ]
  },
  {
   "cell_type": "markdown",
   "id": "ece461e9",
   "metadata": {},
   "source": [
    "Разбиение выполнено верно, проанализируем тестовую выборку и удалим выбросы:"
   ]
  },
  {
   "cell_type": "code",
   "execution_count": 57,
   "id": "d6debe95",
   "metadata": {},
   "outputs": [
    {
     "data": {
      "text/html": [
       "<div>\n",
       "<style scoped>\n",
       "    .dataframe tbody tr th:only-of-type {\n",
       "        vertical-align: middle;\n",
       "    }\n",
       "\n",
       "    .dataframe tbody tr th {\n",
       "        vertical-align: top;\n",
       "    }\n",
       "\n",
       "    .dataframe thead th {\n",
       "        text-align: right;\n",
       "    }\n",
       "</style>\n",
       "<table border=\"1\" class=\"dataframe\">\n",
       "  <thead>\n",
       "    <tr style=\"text-align: right;\">\n",
       "      <th></th>\n",
       "      <th>Активная мощность</th>\n",
       "      <th>Реактивная мощность</th>\n",
       "      <th>Время нагрева дугой</th>\n",
       "      <th>Число итераций нагрева</th>\n",
       "      <th>Bulk 1</th>\n",
       "      <th>Bulk 2</th>\n",
       "      <th>Bulk 3</th>\n",
       "      <th>Bulk 4</th>\n",
       "      <th>Bulk 5</th>\n",
       "      <th>Bulk 6</th>\n",
       "      <th>Bulk 7</th>\n",
       "      <th>Bulk 8</th>\n",
       "      <th>Bulk 9</th>\n",
       "      <th>Bulk 10</th>\n",
       "      <th>Bulk 11</th>\n",
       "      <th>Bulk 12</th>\n",
       "      <th>Bulk 13</th>\n",
       "      <th>Bulk 14</th>\n",
       "      <th>Bulk 15</th>\n",
       "      <th>Wire 1</th>\n",
       "      <th>Wire 2</th>\n",
       "      <th>Wire 3</th>\n",
       "      <th>Wire 4</th>\n",
       "      <th>Wire 6</th>\n",
       "      <th>Wire 7</th>\n",
       "      <th>Wire 8</th>\n",
       "      <th>Wire 9</th>\n",
       "      <th>Газ 1</th>\n",
       "      <th>Температура</th>\n",
       "      <th>Начальная температура</th>\n",
       "      <th>Время между замерами температур</th>\n",
       "      <th>Полная мощность</th>\n",
       "      <th>Работа</th>\n",
       "    </tr>\n",
       "  </thead>\n",
       "  <tbody>\n",
       "    <tr>\n",
       "      <th>count</th>\n",
       "      <td>1743.000000</td>\n",
       "      <td>1743.000000</td>\n",
       "      <td>1743.000000</td>\n",
       "      <td>1743.000000</td>\n",
       "      <td>1743.000000</td>\n",
       "      <td>1743.000000</td>\n",
       "      <td>1743.000000</td>\n",
       "      <td>1743.000000</td>\n",
       "      <td>1743.000000</td>\n",
       "      <td>1743.000000</td>\n",
       "      <td>1743.000000</td>\n",
       "      <td>1743.000000</td>\n",
       "      <td>1743.000000</td>\n",
       "      <td>1743.000000</td>\n",
       "      <td>1743.000000</td>\n",
       "      <td>1743.000000</td>\n",
       "      <td>1743.000000</td>\n",
       "      <td>1743.000000</td>\n",
       "      <td>1743.000000</td>\n",
       "      <td>1743.000000</td>\n",
       "      <td>1743.000000</td>\n",
       "      <td>1743.000000</td>\n",
       "      <td>1743.000000</td>\n",
       "      <td>1743.000000</td>\n",
       "      <td>1743.000000</td>\n",
       "      <td>1743.000000</td>\n",
       "      <td>1743.000000</td>\n",
       "      <td>1743.000000</td>\n",
       "      <td>1743.000000</td>\n",
       "      <td>1743.000000</td>\n",
       "      <td>1743.000000</td>\n",
       "      <td>1743.000000</td>\n",
       "      <td>1743.000000</td>\n",
       "    </tr>\n",
       "    <tr>\n",
       "      <th>mean</th>\n",
       "      <td>0.664128</td>\n",
       "      <td>0.488610</td>\n",
       "      <td>806.185313</td>\n",
       "      <td>4.684452</td>\n",
       "      <td>3.541021</td>\n",
       "      <td>1.427998</td>\n",
       "      <td>47.657487</td>\n",
       "      <td>37.310958</td>\n",
       "      <td>2.529547</td>\n",
       "      <td>23.773379</td>\n",
       "      <td>2.048193</td>\n",
       "      <td>0.028112</td>\n",
       "      <td>0.556512</td>\n",
       "      <td>4.886403</td>\n",
       "      <td>4.218589</td>\n",
       "      <td>212.176133</td>\n",
       "      <td>1.339644</td>\n",
       "      <td>156.002295</td>\n",
       "      <td>122.092369</td>\n",
       "      <td>102.421988</td>\n",
       "      <td>17.737899</td>\n",
       "      <td>2.665437</td>\n",
       "      <td>0.308473</td>\n",
       "      <td>1.004259</td>\n",
       "      <td>0.008499</td>\n",
       "      <td>0.390113</td>\n",
       "      <td>0.354728</td>\n",
       "      <td>11.429080</td>\n",
       "      <td>1593.271945</td>\n",
       "      <td>1587.274240</td>\n",
       "      <td>1982.954676</td>\n",
       "      <td>0.824748</td>\n",
       "      <td>666.445768</td>\n",
       "    </tr>\n",
       "    <tr>\n",
       "      <th>std</th>\n",
       "      <td>0.129350</td>\n",
       "      <td>0.098599</td>\n",
       "      <td>343.614307</td>\n",
       "      <td>1.632134</td>\n",
       "      <td>12.739481</td>\n",
       "      <td>18.844471</td>\n",
       "      <td>74.988880</td>\n",
       "      <td>58.483944</td>\n",
       "      <td>23.044910</td>\n",
       "      <td>57.770705</td>\n",
       "      <td>29.613429</td>\n",
       "      <td>1.173674</td>\n",
       "      <td>7.011970</td>\n",
       "      <td>20.527508</td>\n",
       "      <td>22.041862</td>\n",
       "      <td>157.299375</td>\n",
       "      <td>16.044981</td>\n",
       "      <td>80.469882</td>\n",
       "      <td>84.195593</td>\n",
       "      <td>43.734387</td>\n",
       "      <td>34.143596</td>\n",
       "      <td>25.343679</td>\n",
       "      <td>4.757444</td>\n",
       "      <td>8.521450</td>\n",
       "      <td>0.237762</td>\n",
       "      <td>4.971451</td>\n",
       "      <td>3.594087</td>\n",
       "      <td>6.476495</td>\n",
       "      <td>11.326059</td>\n",
       "      <td>23.472544</td>\n",
       "      <td>1349.628683</td>\n",
       "      <td>0.161398</td>\n",
       "      <td>315.188453</td>\n",
       "    </tr>\n",
       "    <tr>\n",
       "      <th>min</th>\n",
       "      <td>0.267676</td>\n",
       "      <td>0.196228</td>\n",
       "      <td>57.000000</td>\n",
       "      <td>1.000000</td>\n",
       "      <td>0.000000</td>\n",
       "      <td>0.000000</td>\n",
       "      <td>0.000000</td>\n",
       "      <td>0.000000</td>\n",
       "      <td>0.000000</td>\n",
       "      <td>0.000000</td>\n",
       "      <td>0.000000</td>\n",
       "      <td>0.000000</td>\n",
       "      <td>0.000000</td>\n",
       "      <td>0.000000</td>\n",
       "      <td>0.000000</td>\n",
       "      <td>0.000000</td>\n",
       "      <td>0.000000</td>\n",
       "      <td>0.000000</td>\n",
       "      <td>0.000000</td>\n",
       "      <td>0.000000</td>\n",
       "      <td>0.000000</td>\n",
       "      <td>0.000000</td>\n",
       "      <td>0.000000</td>\n",
       "      <td>0.000000</td>\n",
       "      <td>0.000000</td>\n",
       "      <td>0.000000</td>\n",
       "      <td>0.000000</td>\n",
       "      <td>0.008399</td>\n",
       "      <td>1541.000000</td>\n",
       "      <td>1519.000000</td>\n",
       "      <td>57.000000</td>\n",
       "      <td>0.331897</td>\n",
       "      <td>33.430208</td>\n",
       "    </tr>\n",
       "    <tr>\n",
       "      <th>25%</th>\n",
       "      <td>0.576908</td>\n",
       "      <td>0.418988</td>\n",
       "      <td>578.000000</td>\n",
       "      <td>4.000000</td>\n",
       "      <td>0.000000</td>\n",
       "      <td>0.000000</td>\n",
       "      <td>0.000000</td>\n",
       "      <td>0.000000</td>\n",
       "      <td>0.000000</td>\n",
       "      <td>0.000000</td>\n",
       "      <td>0.000000</td>\n",
       "      <td>0.000000</td>\n",
       "      <td>0.000000</td>\n",
       "      <td>0.000000</td>\n",
       "      <td>0.000000</td>\n",
       "      <td>106.000000</td>\n",
       "      <td>0.000000</td>\n",
       "      <td>108.000000</td>\n",
       "      <td>0.000000</td>\n",
       "      <td>73.201438</td>\n",
       "      <td>0.000000</td>\n",
       "      <td>0.000000</td>\n",
       "      <td>0.000000</td>\n",
       "      <td>0.000000</td>\n",
       "      <td>0.000000</td>\n",
       "      <td>0.000000</td>\n",
       "      <td>0.000000</td>\n",
       "      <td>7.289880</td>\n",
       "      <td>1587.000000</td>\n",
       "      <td>1571.000000</td>\n",
       "      <td>1321.000000</td>\n",
       "      <td>0.715419</td>\n",
       "      <td>455.200850</td>\n",
       "    </tr>\n",
       "    <tr>\n",
       "      <th>50%</th>\n",
       "      <td>0.654441</td>\n",
       "      <td>0.483222</td>\n",
       "      <td>777.000000</td>\n",
       "      <td>5.000000</td>\n",
       "      <td>0.000000</td>\n",
       "      <td>0.000000</td>\n",
       "      <td>0.000000</td>\n",
       "      <td>0.000000</td>\n",
       "      <td>0.000000</td>\n",
       "      <td>0.000000</td>\n",
       "      <td>0.000000</td>\n",
       "      <td>0.000000</td>\n",
       "      <td>0.000000</td>\n",
       "      <td>0.000000</td>\n",
       "      <td>0.000000</td>\n",
       "      <td>206.000000</td>\n",
       "      <td>0.000000</td>\n",
       "      <td>150.000000</td>\n",
       "      <td>112.000000</td>\n",
       "      <td>100.376639</td>\n",
       "      <td>0.000000</td>\n",
       "      <td>0.000000</td>\n",
       "      <td>0.000000</td>\n",
       "      <td>0.000000</td>\n",
       "      <td>0.000000</td>\n",
       "      <td>0.000000</td>\n",
       "      <td>0.000000</td>\n",
       "      <td>10.138850</td>\n",
       "      <td>1593.000000</td>\n",
       "      <td>1587.000000</td>\n",
       "      <td>1738.000000</td>\n",
       "      <td>0.816140</td>\n",
       "      <td>632.723722</td>\n",
       "    </tr>\n",
       "    <tr>\n",
       "      <th>75%</th>\n",
       "      <td>0.742841</td>\n",
       "      <td>0.545841</td>\n",
       "      <td>991.500000</td>\n",
       "      <td>6.000000</td>\n",
       "      <td>0.000000</td>\n",
       "      <td>0.000000</td>\n",
       "      <td>81.000000</td>\n",
       "      <td>77.000000</td>\n",
       "      <td>0.000000</td>\n",
       "      <td>0.000000</td>\n",
       "      <td>0.000000</td>\n",
       "      <td>0.000000</td>\n",
       "      <td>0.000000</td>\n",
       "      <td>0.000000</td>\n",
       "      <td>0.000000</td>\n",
       "      <td>303.500000</td>\n",
       "      <td>0.000000</td>\n",
       "      <td>204.000000</td>\n",
       "      <td>204.000000</td>\n",
       "      <td>127.249199</td>\n",
       "      <td>22.016799</td>\n",
       "      <td>0.000000</td>\n",
       "      <td>0.000000</td>\n",
       "      <td>0.000000</td>\n",
       "      <td>0.000000</td>\n",
       "      <td>0.000000</td>\n",
       "      <td>0.000000</td>\n",
       "      <td>14.223185</td>\n",
       "      <td>1598.000000</td>\n",
       "      <td>1603.000000</td>\n",
       "      <td>2393.000000</td>\n",
       "      <td>0.922150</td>\n",
       "      <td>836.065053</td>\n",
       "    </tr>\n",
       "    <tr>\n",
       "      <th>max</th>\n",
       "      <td>1.243889</td>\n",
       "      <td>0.960763</td>\n",
       "      <td>4189.000000</td>\n",
       "      <td>16.000000</td>\n",
       "      <td>185.000000</td>\n",
       "      <td>282.000000</td>\n",
       "      <td>445.000000</td>\n",
       "      <td>281.000000</td>\n",
       "      <td>603.000000</td>\n",
       "      <td>503.000000</td>\n",
       "      <td>576.000000</td>\n",
       "      <td>49.000000</td>\n",
       "      <td>147.000000</td>\n",
       "      <td>159.000000</td>\n",
       "      <td>313.000000</td>\n",
       "      <td>1849.000000</td>\n",
       "      <td>305.000000</td>\n",
       "      <td>636.000000</td>\n",
       "      <td>405.000000</td>\n",
       "      <td>330.314424</td>\n",
       "      <td>282.780152</td>\n",
       "      <td>385.008668</td>\n",
       "      <td>113.231044</td>\n",
       "      <td>145.139283</td>\n",
       "      <td>8.490040</td>\n",
       "      <td>102.762401</td>\n",
       "      <td>55.000397</td>\n",
       "      <td>77.995040</td>\n",
       "      <td>1653.000000</td>\n",
       "      <td>1660.000000</td>\n",
       "      <td>23485.000000</td>\n",
       "      <td>1.571727</td>\n",
       "      <td>4265.032401</td>\n",
       "    </tr>\n",
       "  </tbody>\n",
       "</table>\n",
       "</div>"
      ],
      "text/plain": [
       "       Активная мощность  Реактивная мощность  Время нагрева дугой  \\\n",
       "count        1743.000000          1743.000000          1743.000000   \n",
       "mean            0.664128             0.488610           806.185313   \n",
       "std             0.129350             0.098599           343.614307   \n",
       "min             0.267676             0.196228            57.000000   \n",
       "25%             0.576908             0.418988           578.000000   \n",
       "50%             0.654441             0.483222           777.000000   \n",
       "75%             0.742841             0.545841           991.500000   \n",
       "max             1.243889             0.960763          4189.000000   \n",
       "\n",
       "       Число итераций нагрева       Bulk 1       Bulk 2       Bulk 3  \\\n",
       "count             1743.000000  1743.000000  1743.000000  1743.000000   \n",
       "mean                 4.684452     3.541021     1.427998    47.657487   \n",
       "std                  1.632134    12.739481    18.844471    74.988880   \n",
       "min                  1.000000     0.000000     0.000000     0.000000   \n",
       "25%                  4.000000     0.000000     0.000000     0.000000   \n",
       "50%                  5.000000     0.000000     0.000000     0.000000   \n",
       "75%                  6.000000     0.000000     0.000000    81.000000   \n",
       "max                 16.000000   185.000000   282.000000   445.000000   \n",
       "\n",
       "            Bulk 4       Bulk 5       Bulk 6       Bulk 7       Bulk 8  \\\n",
       "count  1743.000000  1743.000000  1743.000000  1743.000000  1743.000000   \n",
       "mean     37.310958     2.529547    23.773379     2.048193     0.028112   \n",
       "std      58.483944    23.044910    57.770705    29.613429     1.173674   \n",
       "min       0.000000     0.000000     0.000000     0.000000     0.000000   \n",
       "25%       0.000000     0.000000     0.000000     0.000000     0.000000   \n",
       "50%       0.000000     0.000000     0.000000     0.000000     0.000000   \n",
       "75%      77.000000     0.000000     0.000000     0.000000     0.000000   \n",
       "max     281.000000   603.000000   503.000000   576.000000    49.000000   \n",
       "\n",
       "            Bulk 9      Bulk 10      Bulk 11      Bulk 12      Bulk 13  \\\n",
       "count  1743.000000  1743.000000  1743.000000  1743.000000  1743.000000   \n",
       "mean      0.556512     4.886403     4.218589   212.176133     1.339644   \n",
       "std       7.011970    20.527508    22.041862   157.299375    16.044981   \n",
       "min       0.000000     0.000000     0.000000     0.000000     0.000000   \n",
       "25%       0.000000     0.000000     0.000000   106.000000     0.000000   \n",
       "50%       0.000000     0.000000     0.000000   206.000000     0.000000   \n",
       "75%       0.000000     0.000000     0.000000   303.500000     0.000000   \n",
       "max     147.000000   159.000000   313.000000  1849.000000   305.000000   \n",
       "\n",
       "           Bulk 14      Bulk 15       Wire 1       Wire 2       Wire 3  \\\n",
       "count  1743.000000  1743.000000  1743.000000  1743.000000  1743.000000   \n",
       "mean    156.002295   122.092369   102.421988    17.737899     2.665437   \n",
       "std      80.469882    84.195593    43.734387    34.143596    25.343679   \n",
       "min       0.000000     0.000000     0.000000     0.000000     0.000000   \n",
       "25%     108.000000     0.000000    73.201438     0.000000     0.000000   \n",
       "50%     150.000000   112.000000   100.376639     0.000000     0.000000   \n",
       "75%     204.000000   204.000000   127.249199    22.016799     0.000000   \n",
       "max     636.000000   405.000000   330.314424   282.780152   385.008668   \n",
       "\n",
       "            Wire 4       Wire 6       Wire 7       Wire 8       Wire 9  \\\n",
       "count  1743.000000  1743.000000  1743.000000  1743.000000  1743.000000   \n",
       "mean      0.308473     1.004259     0.008499     0.390113     0.354728   \n",
       "std       4.757444     8.521450     0.237762     4.971451     3.594087   \n",
       "min       0.000000     0.000000     0.000000     0.000000     0.000000   \n",
       "25%       0.000000     0.000000     0.000000     0.000000     0.000000   \n",
       "50%       0.000000     0.000000     0.000000     0.000000     0.000000   \n",
       "75%       0.000000     0.000000     0.000000     0.000000     0.000000   \n",
       "max     113.231044   145.139283     8.490040   102.762401    55.000397   \n",
       "\n",
       "             Газ 1  Температура  Начальная температура  \\\n",
       "count  1743.000000  1743.000000            1743.000000   \n",
       "mean     11.429080  1593.271945            1587.274240   \n",
       "std       6.476495    11.326059              23.472544   \n",
       "min       0.008399  1541.000000            1519.000000   \n",
       "25%       7.289880  1587.000000            1571.000000   \n",
       "50%      10.138850  1593.000000            1587.000000   \n",
       "75%      14.223185  1598.000000            1603.000000   \n",
       "max      77.995040  1653.000000            1660.000000   \n",
       "\n",
       "       Время между замерами температур  Полная мощность       Работа  \n",
       "count                      1743.000000      1743.000000  1743.000000  \n",
       "mean                       1982.954676         0.824748   666.445768  \n",
       "std                        1349.628683         0.161398   315.188453  \n",
       "min                          57.000000         0.331897    33.430208  \n",
       "25%                        1321.000000         0.715419   455.200850  \n",
       "50%                        1738.000000         0.816140   632.723722  \n",
       "75%                        2393.000000         0.922150   836.065053  \n",
       "max                       23485.000000         1.571727  4265.032401  "
      ]
     },
     "execution_count": 57,
     "metadata": {},
     "output_type": "execute_result"
    }
   ],
   "source": [
    "train.describe()"
   ]
  },
  {
   "cell_type": "code",
   "execution_count": 58,
   "id": "a7ec386b",
   "metadata": {},
   "outputs": [
    {
     "data": {
      "image/png": "[encoded data removed]",
      "text/plain": [
       "<Figure size 1600x480 with 1 Axes>"
      ]
     },
     "metadata": {},
     "output_type": "display_data"
    }
   ],
   "source": [
    "import seaborn as sns\n",
    "fig, ax = plt.subplots(figsize=(20,6), dpi= 80)\n",
    "sns.boxplot(data=train[['Активная мощность',\n",
    "                        'Реактивная мощность',\n",
    "                        'Полная мощность',\n",
    "                        'Число итераций нагрева'\n",
    "                        ]],\n",
    "           ax=ax)\n",
    "\n",
    "ax.set_ylim(0, 10)\n",
    "plt.title(\"Признаки\");"
   ]
  },
  {
   "cell_type": "code",
   "execution_count": 59,
   "id": "ade4d7e3",
   "metadata": {},
   "outputs": [
    {
     "data": {
      "image/png": "[encoded data removed]",
      "text/plain": [
       "<Figure size 1600x480 with 1 Axes>"
      ]
     },
     "metadata": {},
     "output_type": "display_data"
    }
   ],
   "source": [
    "import seaborn as sns\n",
    "fig, ax = plt.subplots(figsize=(20,6), dpi= 80)\n",
    "\n",
    "sns.boxplot(data=train[['Время нагрева дугой',\n",
    "                        'Температура',\n",
    "                        'Начальная температура',\n",
    "                        'Время между замерами температур',\n",
    "                        'Работа']],\n",
    "           ax=ax)\n",
    "\n",
    "ax.set_ylim(0, 4000)\n",
    "plt.title(\"Признаки\");"
   ]
  },
  {
   "cell_type": "markdown",
   "id": "24c53ae6",
   "metadata": {},
   "source": [
    "Уменьшим тренировочную выборку, убрав слишком высокие и низкие значения температур:"
   ]
  },
  {
   "cell_type": "code",
   "execution_count": 60,
   "id": "14a75316",
   "metadata": {},
   "outputs": [],
   "source": [
    "train = train[train['Температура']>1570]\n",
    "train = train[train['Температура']<1622]"
   ]
  },
  {
   "cell_type": "code",
   "execution_count": 61,
   "id": "f463dce7",
   "metadata": {},
   "outputs": [
    {
     "data": {
      "text/html": [
       "<div>\n",
       "<style scoped>\n",
       "    .dataframe tbody tr th:only-of-type {\n",
       "        vertical-align: middle;\n",
       "    }\n",
       "\n",
       "    .dataframe tbody tr th {\n",
       "        vertical-align: top;\n",
       "    }\n",
       "\n",
       "    .dataframe thead th {\n",
       "        text-align: right;\n",
       "    }\n",
       "</style>\n",
       "<table border=\"1\" class=\"dataframe\">\n",
       "  <thead>\n",
       "    <tr style=\"text-align: right;\">\n",
       "      <th></th>\n",
       "      <th>Активная мощность</th>\n",
       "      <th>Реактивная мощность</th>\n",
       "      <th>Время нагрева дугой</th>\n",
       "      <th>Число итераций нагрева</th>\n",
       "      <th>Bulk 1</th>\n",
       "      <th>Bulk 2</th>\n",
       "      <th>Bulk 3</th>\n",
       "      <th>Bulk 4</th>\n",
       "      <th>Bulk 5</th>\n",
       "      <th>Bulk 6</th>\n",
       "      <th>Bulk 7</th>\n",
       "      <th>Bulk 8</th>\n",
       "      <th>Bulk 9</th>\n",
       "      <th>Bulk 10</th>\n",
       "      <th>Bulk 11</th>\n",
       "      <th>Bulk 12</th>\n",
       "      <th>Bulk 13</th>\n",
       "      <th>Bulk 14</th>\n",
       "      <th>Bulk 15</th>\n",
       "      <th>Wire 1</th>\n",
       "      <th>Wire 2</th>\n",
       "      <th>Wire 3</th>\n",
       "      <th>Wire 4</th>\n",
       "      <th>Wire 6</th>\n",
       "      <th>Wire 7</th>\n",
       "      <th>Wire 8</th>\n",
       "      <th>Wire 9</th>\n",
       "      <th>Газ 1</th>\n",
       "      <th>Температура</th>\n",
       "      <th>Начальная температура</th>\n",
       "      <th>Время между замерами температур</th>\n",
       "      <th>Полная мощность</th>\n",
       "      <th>Работа</th>\n",
       "    </tr>\n",
       "  </thead>\n",
       "  <tbody>\n",
       "    <tr>\n",
       "      <th>26</th>\n",
       "      <td>0.724562</td>\n",
       "      <td>0.524504</td>\n",
       "      <td>768.0</td>\n",
       "      <td>4</td>\n",
       "      <td>0.0</td>\n",
       "      <td>0.0</td>\n",
       "      <td>0.0</td>\n",
       "      <td>0.0</td>\n",
       "      <td>0.0</td>\n",
       "      <td>0.0</td>\n",
       "      <td>0.0</td>\n",
       "      <td>0.0</td>\n",
       "      <td>0.0</td>\n",
       "      <td>0.0</td>\n",
       "      <td>0.0</td>\n",
       "      <td>205.0</td>\n",
       "      <td>0.0</td>\n",
       "      <td>202.0</td>\n",
       "      <td>153.0</td>\n",
       "      <td>118.241760</td>\n",
       "      <td>30.051842</td>\n",
       "      <td>0.0</td>\n",
       "      <td>0.0</td>\n",
       "      <td>0.0</td>\n",
       "      <td>0.0</td>\n",
       "      <td>0.0</td>\n",
       "      <td>0.0000</td>\n",
       "      <td>10.404299</td>\n",
       "      <td>1604.0</td>\n",
       "      <td>1578.0</td>\n",
       "      <td>1556.0</td>\n",
       "      <td>0.894480</td>\n",
       "      <td>686.960782</td>\n",
       "    </tr>\n",
       "    <tr>\n",
       "      <th>784</th>\n",
       "      <td>0.652198</td>\n",
       "      <td>0.497214</td>\n",
       "      <td>1046.0</td>\n",
       "      <td>6</td>\n",
       "      <td>0.0</td>\n",
       "      <td>0.0</td>\n",
       "      <td>0.0</td>\n",
       "      <td>105.0</td>\n",
       "      <td>0.0</td>\n",
       "      <td>0.0</td>\n",
       "      <td>0.0</td>\n",
       "      <td>0.0</td>\n",
       "      <td>0.0</td>\n",
       "      <td>0.0</td>\n",
       "      <td>0.0</td>\n",
       "      <td>257.0</td>\n",
       "      <td>0.0</td>\n",
       "      <td>100.0</td>\n",
       "      <td>202.0</td>\n",
       "      <td>148.215609</td>\n",
       "      <td>0.000000</td>\n",
       "      <td>0.0</td>\n",
       "      <td>0.0</td>\n",
       "      <td>0.0</td>\n",
       "      <td>0.0</td>\n",
       "      <td>0.0</td>\n",
       "      <td>0.0000</td>\n",
       "      <td>17.836306</td>\n",
       "      <td>1596.0</td>\n",
       "      <td>1568.0</td>\n",
       "      <td>2704.0</td>\n",
       "      <td>0.820113</td>\n",
       "      <td>857.837694</td>\n",
       "    </tr>\n",
       "    <tr>\n",
       "      <th>695</th>\n",
       "      <td>0.707617</td>\n",
       "      <td>0.525585</td>\n",
       "      <td>974.0</td>\n",
       "      <td>5</td>\n",
       "      <td>0.0</td>\n",
       "      <td>0.0</td>\n",
       "      <td>19.0</td>\n",
       "      <td>0.0</td>\n",
       "      <td>0.0</td>\n",
       "      <td>0.0</td>\n",
       "      <td>0.0</td>\n",
       "      <td>0.0</td>\n",
       "      <td>0.0</td>\n",
       "      <td>0.0</td>\n",
       "      <td>0.0</td>\n",
       "      <td>103.0</td>\n",
       "      <td>0.0</td>\n",
       "      <td>256.0</td>\n",
       "      <td>0.0</td>\n",
       "      <td>16.005600</td>\n",
       "      <td>40.203281</td>\n",
       "      <td>0.0</td>\n",
       "      <td>0.0</td>\n",
       "      <td>0.0</td>\n",
       "      <td>0.0</td>\n",
       "      <td>0.0</td>\n",
       "      <td>0.0000</td>\n",
       "      <td>1.367004</td>\n",
       "      <td>1608.0</td>\n",
       "      <td>1577.0</td>\n",
       "      <td>1937.0</td>\n",
       "      <td>0.881454</td>\n",
       "      <td>858.536534</td>\n",
       "    </tr>\n",
       "    <tr>\n",
       "      <th>724</th>\n",
       "      <td>0.555646</td>\n",
       "      <td>0.407964</td>\n",
       "      <td>531.0</td>\n",
       "      <td>4</td>\n",
       "      <td>0.0</td>\n",
       "      <td>0.0</td>\n",
       "      <td>0.0</td>\n",
       "      <td>21.0</td>\n",
       "      <td>0.0</td>\n",
       "      <td>0.0</td>\n",
       "      <td>0.0</td>\n",
       "      <td>0.0</td>\n",
       "      <td>0.0</td>\n",
       "      <td>0.0</td>\n",
       "      <td>0.0</td>\n",
       "      <td>0.0</td>\n",
       "      <td>0.0</td>\n",
       "      <td>0.0</td>\n",
       "      <td>0.0</td>\n",
       "      <td>120.276009</td>\n",
       "      <td>0.000000</td>\n",
       "      <td>0.0</td>\n",
       "      <td>0.0</td>\n",
       "      <td>0.0</td>\n",
       "      <td>0.0</td>\n",
       "      <td>0.0</td>\n",
       "      <td>0.0000</td>\n",
       "      <td>7.464106</td>\n",
       "      <td>1599.0</td>\n",
       "      <td>1592.0</td>\n",
       "      <td>1065.0</td>\n",
       "      <td>0.689331</td>\n",
       "      <td>366.034527</td>\n",
       "    </tr>\n",
       "    <tr>\n",
       "      <th>886</th>\n",
       "      <td>0.732403</td>\n",
       "      <td>0.610455</td>\n",
       "      <td>944.0</td>\n",
       "      <td>5</td>\n",
       "      <td>0.0</td>\n",
       "      <td>0.0</td>\n",
       "      <td>49.0</td>\n",
       "      <td>0.0</td>\n",
       "      <td>0.0</td>\n",
       "      <td>0.0</td>\n",
       "      <td>0.0</td>\n",
       "      <td>0.0</td>\n",
       "      <td>0.0</td>\n",
       "      <td>0.0</td>\n",
       "      <td>0.0</td>\n",
       "      <td>159.0</td>\n",
       "      <td>0.0</td>\n",
       "      <td>123.0</td>\n",
       "      <td>103.0</td>\n",
       "      <td>122.241600</td>\n",
       "      <td>195.225677</td>\n",
       "      <td>0.0</td>\n",
       "      <td>0.0</td>\n",
       "      <td>0.0</td>\n",
       "      <td>0.0</td>\n",
       "      <td>0.0</td>\n",
       "      <td>35.0168</td>\n",
       "      <td>9.127801</td>\n",
       "      <td>1587.0</td>\n",
       "      <td>1561.0</td>\n",
       "      <td>1802.0</td>\n",
       "      <td>0.953451</td>\n",
       "      <td>900.057898</td>\n",
       "    </tr>\n",
       "    <tr>\n",
       "      <th>...</th>\n",
       "      <td>...</td>\n",
       "      <td>...</td>\n",
       "      <td>...</td>\n",
       "      <td>...</td>\n",
       "      <td>...</td>\n",
       "      <td>...</td>\n",
       "      <td>...</td>\n",
       "      <td>...</td>\n",
       "      <td>...</td>\n",
       "      <td>...</td>\n",
       "      <td>...</td>\n",
       "      <td>...</td>\n",
       "      <td>...</td>\n",
       "      <td>...</td>\n",
       "      <td>...</td>\n",
       "      <td>...</td>\n",
       "      <td>...</td>\n",
       "      <td>...</td>\n",
       "      <td>...</td>\n",
       "      <td>...</td>\n",
       "      <td>...</td>\n",
       "      <td>...</td>\n",
       "      <td>...</td>\n",
       "      <td>...</td>\n",
       "      <td>...</td>\n",
       "      <td>...</td>\n",
       "      <td>...</td>\n",
       "      <td>...</td>\n",
       "      <td>...</td>\n",
       "      <td>...</td>\n",
       "      <td>...</td>\n",
       "      <td>...</td>\n",
       "      <td>...</td>\n",
       "    </tr>\n",
       "    <tr>\n",
       "      <th>645</th>\n",
       "      <td>0.651677</td>\n",
       "      <td>0.487988</td>\n",
       "      <td>511.0</td>\n",
       "      <td>4</td>\n",
       "      <td>0.0</td>\n",
       "      <td>0.0</td>\n",
       "      <td>197.0</td>\n",
       "      <td>0.0</td>\n",
       "      <td>0.0</td>\n",
       "      <td>0.0</td>\n",
       "      <td>0.0</td>\n",
       "      <td>0.0</td>\n",
       "      <td>0.0</td>\n",
       "      <td>0.0</td>\n",
       "      <td>0.0</td>\n",
       "      <td>206.0</td>\n",
       "      <td>0.0</td>\n",
       "      <td>153.0</td>\n",
       "      <td>154.0</td>\n",
       "      <td>58.312797</td>\n",
       "      <td>11.189360</td>\n",
       "      <td>0.0</td>\n",
       "      <td>0.0</td>\n",
       "      <td>0.0</td>\n",
       "      <td>0.0</td>\n",
       "      <td>0.0</td>\n",
       "      <td>0.0000</td>\n",
       "      <td>11.435276</td>\n",
       "      <td>1590.0</td>\n",
       "      <td>1594.0</td>\n",
       "      <td>1310.0</td>\n",
       "      <td>0.814134</td>\n",
       "      <td>416.022644</td>\n",
       "    </tr>\n",
       "    <tr>\n",
       "      <th>1505</th>\n",
       "      <td>0.654276</td>\n",
       "      <td>0.517354</td>\n",
       "      <td>192.0</td>\n",
       "      <td>1</td>\n",
       "      <td>0.0</td>\n",
       "      <td>0.0</td>\n",
       "      <td>0.0</td>\n",
       "      <td>0.0</td>\n",
       "      <td>0.0</td>\n",
       "      <td>0.0</td>\n",
       "      <td>0.0</td>\n",
       "      <td>0.0</td>\n",
       "      <td>0.0</td>\n",
       "      <td>0.0</td>\n",
       "      <td>0.0</td>\n",
       "      <td>0.0</td>\n",
       "      <td>0.0</td>\n",
       "      <td>320.0</td>\n",
       "      <td>0.0</td>\n",
       "      <td>24.055201</td>\n",
       "      <td>10.163919</td>\n",
       "      <td>0.0</td>\n",
       "      <td>0.0</td>\n",
       "      <td>0.0</td>\n",
       "      <td>0.0</td>\n",
       "      <td>0.0</td>\n",
       "      <td>0.0000</td>\n",
       "      <td>6.645187</td>\n",
       "      <td>1574.0</td>\n",
       "      <td>1586.0</td>\n",
       "      <td>192.0</td>\n",
       "      <td>0.834106</td>\n",
       "      <td>160.148286</td>\n",
       "    </tr>\n",
       "    <tr>\n",
       "      <th>639</th>\n",
       "      <td>0.732386</td>\n",
       "      <td>0.553894</td>\n",
       "      <td>545.0</td>\n",
       "      <td>4</td>\n",
       "      <td>0.0</td>\n",
       "      <td>0.0</td>\n",
       "      <td>0.0</td>\n",
       "      <td>0.0</td>\n",
       "      <td>0.0</td>\n",
       "      <td>90.0</td>\n",
       "      <td>0.0</td>\n",
       "      <td>0.0</td>\n",
       "      <td>0.0</td>\n",
       "      <td>0.0</td>\n",
       "      <td>0.0</td>\n",
       "      <td>255.0</td>\n",
       "      <td>0.0</td>\n",
       "      <td>154.0</td>\n",
       "      <td>204.0</td>\n",
       "      <td>97.297196</td>\n",
       "      <td>51.332317</td>\n",
       "      <td>0.0</td>\n",
       "      <td>0.0</td>\n",
       "      <td>0.0</td>\n",
       "      <td>0.0</td>\n",
       "      <td>0.0</td>\n",
       "      <td>0.0000</td>\n",
       "      <td>17.532679</td>\n",
       "      <td>1584.0</td>\n",
       "      <td>1631.0</td>\n",
       "      <td>2302.0</td>\n",
       "      <td>0.918253</td>\n",
       "      <td>500.447661</td>\n",
       "    </tr>\n",
       "    <tr>\n",
       "      <th>2052</th>\n",
       "      <td>0.801390</td>\n",
       "      <td>0.568271</td>\n",
       "      <td>687.0</td>\n",
       "      <td>4</td>\n",
       "      <td>0.0</td>\n",
       "      <td>0.0</td>\n",
       "      <td>0.0</td>\n",
       "      <td>154.0</td>\n",
       "      <td>0.0</td>\n",
       "      <td>0.0</td>\n",
       "      <td>0.0</td>\n",
       "      <td>0.0</td>\n",
       "      <td>0.0</td>\n",
       "      <td>0.0</td>\n",
       "      <td>0.0</td>\n",
       "      <td>330.0</td>\n",
       "      <td>0.0</td>\n",
       "      <td>136.0</td>\n",
       "      <td>228.0</td>\n",
       "      <td>118.067039</td>\n",
       "      <td>31.064800</td>\n",
       "      <td>0.0</td>\n",
       "      <td>0.0</td>\n",
       "      <td>0.0</td>\n",
       "      <td>0.0</td>\n",
       "      <td>0.0</td>\n",
       "      <td>0.0000</td>\n",
       "      <td>6.703613</td>\n",
       "      <td>1587.0</td>\n",
       "      <td>1561.0</td>\n",
       "      <td>1396.0</td>\n",
       "      <td>0.982424</td>\n",
       "      <td>674.925379</td>\n",
       "    </tr>\n",
       "    <tr>\n",
       "      <th>2234</th>\n",
       "      <td>0.691672</td>\n",
       "      <td>0.507167</td>\n",
       "      <td>741.0</td>\n",
       "      <td>6</td>\n",
       "      <td>0.0</td>\n",
       "      <td>0.0</td>\n",
       "      <td>0.0</td>\n",
       "      <td>111.0</td>\n",
       "      <td>0.0</td>\n",
       "      <td>0.0</td>\n",
       "      <td>0.0</td>\n",
       "      <td>0.0</td>\n",
       "      <td>0.0</td>\n",
       "      <td>0.0</td>\n",
       "      <td>0.0</td>\n",
       "      <td>157.0</td>\n",
       "      <td>0.0</td>\n",
       "      <td>136.0</td>\n",
       "      <td>104.0</td>\n",
       "      <td>142.222077</td>\n",
       "      <td>11.159200</td>\n",
       "      <td>0.0</td>\n",
       "      <td>0.0</td>\n",
       "      <td>0.0</td>\n",
       "      <td>0.0</td>\n",
       "      <td>0.0</td>\n",
       "      <td>0.0000</td>\n",
       "      <td>11.418124</td>\n",
       "      <td>1587.0</td>\n",
       "      <td>1590.0</td>\n",
       "      <td>2106.0</td>\n",
       "      <td>0.857688</td>\n",
       "      <td>635.546802</td>\n",
       "    </tr>\n",
       "  </tbody>\n",
       "</table>\n",
       "<p>1700 rows × 33 columns</p>\n",
       "</div>"
      ],
      "text/plain": [
       "      Активная мощность  Реактивная мощность  Время нагрева дугой  \\\n",
       "26             0.724562             0.524504                768.0   \n",
       "784            0.652198             0.497214               1046.0   \n",
       "695            0.707617             0.525585                974.0   \n",
       "724            0.555646             0.407964                531.0   \n",
       "886            0.732403             0.610455                944.0   \n",
       "...                 ...                  ...                  ...   \n",
       "645            0.651677             0.487988                511.0   \n",
       "1505           0.654276             0.517354                192.0   \n",
       "639            0.732386             0.553894                545.0   \n",
       "2052           0.801390             0.568271                687.0   \n",
       "2234           0.691672             0.507167                741.0   \n",
       "\n",
       "      Число итераций нагрева  Bulk 1  Bulk 2  Bulk 3  Bulk 4  Bulk 5  Bulk 6  \\\n",
       "26                         4     0.0     0.0     0.0     0.0     0.0     0.0   \n",
       "784                        6     0.0     0.0     0.0   105.0     0.0     0.0   \n",
       "695                        5     0.0     0.0    19.0     0.0     0.0     0.0   \n",
       "724                        4     0.0     0.0     0.0    21.0     0.0     0.0   \n",
       "886                        5     0.0     0.0    49.0     0.0     0.0     0.0   \n",
       "...                      ...     ...     ...     ...     ...     ...     ...   \n",
       "645                        4     0.0     0.0   197.0     0.0     0.0     0.0   \n",
       "1505                       1     0.0     0.0     0.0     0.0     0.0     0.0   \n",
       "639                        4     0.0     0.0     0.0     0.0     0.0    90.0   \n",
       "2052                       4     0.0     0.0     0.0   154.0     0.0     0.0   \n",
       "2234                       6     0.0     0.0     0.0   111.0     0.0     0.0   \n",
       "\n",
       "      Bulk 7  Bulk 8  Bulk 9  Bulk 10  Bulk 11  Bulk 12  Bulk 13  Bulk 14  \\\n",
       "26       0.0     0.0     0.0      0.0      0.0    205.0      0.0    202.0   \n",
       "784      0.0     0.0     0.0      0.0      0.0    257.0      0.0    100.0   \n",
       "695      0.0     0.0     0.0      0.0      0.0    103.0      0.0    256.0   \n",
       "724      0.0     0.0     0.0      0.0      0.0      0.0      0.0      0.0   \n",
       "886      0.0     0.0     0.0      0.0      0.0    159.0      0.0    123.0   \n",
       "...      ...     ...     ...      ...      ...      ...      ...      ...   \n",
       "645      0.0     0.0     0.0      0.0      0.0    206.0      0.0    153.0   \n",
       "1505     0.0     0.0     0.0      0.0      0.0      0.0      0.0    320.0   \n",
       "639      0.0     0.0     0.0      0.0      0.0    255.0      0.0    154.0   \n",
       "2052     0.0     0.0     0.0      0.0      0.0    330.0      0.0    136.0   \n",
       "2234     0.0     0.0     0.0      0.0      0.0    157.0      0.0    136.0   \n",
       "\n",
       "      Bulk 15      Wire 1      Wire 2  Wire 3  Wire 4  Wire 6  Wire 7  Wire 8  \\\n",
       "26      153.0  118.241760   30.051842     0.0     0.0     0.0     0.0     0.0   \n",
       "784     202.0  148.215609    0.000000     0.0     0.0     0.0     0.0     0.0   \n",
       "695       0.0   16.005600   40.203281     0.0     0.0     0.0     0.0     0.0   \n",
       "724       0.0  120.276009    0.000000     0.0     0.0     0.0     0.0     0.0   \n",
       "886     103.0  122.241600  195.225677     0.0     0.0     0.0     0.0     0.0   \n",
       "...       ...         ...         ...     ...     ...     ...     ...     ...   \n",
       "645     154.0   58.312797   11.189360     0.0     0.0     0.0     0.0     0.0   \n",
       "1505      0.0   24.055201   10.163919     0.0     0.0     0.0     0.0     0.0   \n",
       "639     204.0   97.297196   51.332317     0.0     0.0     0.0     0.0     0.0   \n",
       "2052    228.0  118.067039   31.064800     0.0     0.0     0.0     0.0     0.0   \n",
       "2234    104.0  142.222077   11.159200     0.0     0.0     0.0     0.0     0.0   \n",
       "\n",
       "       Wire 9      Газ 1  Температура  Начальная температура  \\\n",
       "26     0.0000  10.404299       1604.0                 1578.0   \n",
       "784    0.0000  17.836306       1596.0                 1568.0   \n",
       "695    0.0000   1.367004       1608.0                 1577.0   \n",
       "724    0.0000   7.464106       1599.0                 1592.0   \n",
       "886   35.0168   9.127801       1587.0                 1561.0   \n",
       "...       ...        ...          ...                    ...   \n",
       "645    0.0000  11.435276       1590.0                 1594.0   \n",
       "1505   0.0000   6.645187       1574.0                 1586.0   \n",
       "639    0.0000  17.532679       1584.0                 1631.0   \n",
       "2052   0.0000   6.703613       1587.0                 1561.0   \n",
       "2234   0.0000  11.418124       1587.0                 1590.0   \n",
       "\n",
       "      Время между замерами температур  Полная мощность      Работа  \n",
       "26                             1556.0         0.894480  686.960782  \n",
       "784                            2704.0         0.820113  857.837694  \n",
       "695                            1937.0         0.881454  858.536534  \n",
       "724                            1065.0         0.689331  366.034527  \n",
       "886                            1802.0         0.953451  900.057898  \n",
       "...                               ...              ...         ...  \n",
       "645                            1310.0         0.814134  416.022644  \n",
       "1505                            192.0         0.834106  160.148286  \n",
       "639                            2302.0         0.918253  500.447661  \n",
       "2052                           1396.0         0.982424  674.925379  \n",
       "2234                           2106.0         0.857688  635.546802  \n",
       "\n",
       "[1700 rows x 33 columns]"
      ]
     },
     "execution_count": 61,
     "metadata": {},
     "output_type": "execute_result"
    }
   ],
   "source": [
    "train"
   ]
  },
  {
   "cell_type": "markdown",
   "id": "15691e59",
   "metadata": {},
   "source": [
    "Предсказать нам нужно столбец `Температура`. Назначим его целевым столбцом."
   ]
  },
  {
   "cell_type": "code",
   "execution_count": 62,
   "id": "0dbba251",
   "metadata": {},
   "outputs": [],
   "source": [
    "features_train = train.drop(['Температура'], axis=1)\n",
    "target_train = train['Температура']\n",
    "features_test = test.drop(['Температура'], axis=1)\n",
    "target_test = test['Температура']"
   ]
  },
  {
   "cell_type": "markdown",
   "id": "7b342014",
   "metadata": {},
   "source": [
    "Отлично, можем приступать к обучению моделей."
   ]
  },
  {
   "cell_type": "markdown",
   "id": "ab58d831",
   "metadata": {},
   "source": [
    "## Обучение моделей машинного обучения"
   ]
  },
  {
   "cell_type": "markdown",
   "id": "4cd7b110",
   "metadata": {},
   "source": [
    "Таким образом, в обучающие признаки вошли следующие столбцы:"
   ]
  },
  {
   "cell_type": "code",
   "execution_count": 63,
   "id": "c8b28610",
   "metadata": {},
   "outputs": [
    {
     "data": {
      "text/plain": [
       "Index(['Активная мощность', 'Реактивная мощность', 'Время нагрева дугой',\n",
       "       'Число итераций нагрева', 'Bulk 1', 'Bulk 2', 'Bulk 3', 'Bulk 4',\n",
       "       'Bulk 5', 'Bulk 6', 'Bulk 7', 'Bulk 8', 'Bulk 9', 'Bulk 10', 'Bulk 11',\n",
       "       'Bulk 12', 'Bulk 13', 'Bulk 14', 'Bulk 15', 'Wire 1', 'Wire 2',\n",
       "       'Wire 3', 'Wire 4', 'Wire 6', 'Wire 7', 'Wire 8', 'Wire 9', 'Газ 1',\n",
       "       'Начальная температура', 'Время между замерами температур',\n",
       "       'Полная мощность', 'Работа'],\n",
       "      dtype='object')"
      ]
     },
     "execution_count": 63,
     "metadata": {},
     "output_type": "execute_result"
    }
   ],
   "source": [
    "features_train.columns"
   ]
  },
  {
   "cell_type": "markdown",
   "id": "e31c9d70",
   "metadata": {},
   "source": [
    "Рассмотрим несколько моделей:"
   ]
  },
  {
   "cell_type": "markdown",
   "id": "f63e7f83",
   "metadata": {},
   "source": [
    "### Дерево решений"
   ]
  },
  {
   "cell_type": "markdown",
   "id": "d140911b",
   "metadata": {},
   "source": [
    "Первой нашей моделью будет простое дерево решений"
   ]
  },
  {
   "cell_type": "markdown",
   "id": "78bcf105",
   "metadata": {},
   "source": [
    "С помощью `TimeSeriesSplit` будем разбивать нашу тренировочную выборку на подвыборки:"
   ]
  },
  {
   "cell_type": "code",
   "execution_count": 64,
   "id": "3e64a660",
   "metadata": {},
   "outputs": [
    {
     "name": "stdout",
     "output_type": "stream",
     "text": [
      "MAE наилучшей модели: 6.693167520392222\n",
      "Глубина дерева = 4\n",
      "CPU times: user 252 ms, sys: 99 µs, total: 252 ms\n",
      "Wall time: 259 ms\n"
     ]
    }
   ],
   "source": [
    "%%time\n",
    "cv = TimeSeriesSplit(n_splits=3).split(features_train)\n",
    "tree_model = DecisionTreeRegressor()\n",
    "tree_parametrs = {'max_depth': range(1, 11),\n",
    "                  'random_state': [150124]}\n",
    "#Применим GridSearchCV с кросс-валидацией\n",
    "tree_grid = GridSearchCV(tree_model, tree_parametrs, scoring='neg_mean_absolute_error', cv=cv)\n",
    "tree_grid.fit(features_train, target_train)\n",
    "\n",
    "print('MAE наилучшей модели:', (tree_grid.best_score_ * (-1)))\n",
    "print('Глубина дерева =', tree_grid.best_params_['max_depth'])"
   ]
  },
  {
   "cell_type": "markdown",
   "id": "f8eeec3d",
   "metadata": {},
   "source": [
    "Неплохое значение метрики при глубине дереве 4, рассмотрим ещё модели."
   ]
  },
  {
   "cell_type": "markdown",
   "id": "be80b3f1",
   "metadata": {},
   "source": [
    "### LightGBM"
   ]
  },
  {
   "cell_type": "markdown",
   "id": "77fed2e7",
   "metadata": {},
   "source": [
    "Следующей нашей моделью будет бустинг:"
   ]
  },
  {
   "cell_type": "code",
   "execution_count": 65,
   "id": "f40eda9a",
   "metadata": {
    "scrolled": true
   },
   "outputs": [
    {
     "name": "stderr",
     "output_type": "stream",
     "text": [
      "/opt/conda/lib/python3.9/site-packages/lightgbm/sklearn.py:736: UserWarning: 'verbose' argument is deprecated and will be removed in a future release of LightGBM. Pass 'log_evaluation()' callback via 'callbacks' argument instead.\n",
      "  _log_warning(\"'verbose' argument is deprecated and will be removed in a future release of LightGBM. \"\n",
      "/opt/conda/lib/python3.9/site-packages/lightgbm/sklearn.py:736: UserWarning: 'verbose' argument is deprecated and will be removed in a future release of LightGBM. Pass 'log_evaluation()' callback via 'callbacks' argument instead.\n",
      "  _log_warning(\"'verbose' argument is deprecated and will be removed in a future release of LightGBM. \"\n",
      "/opt/conda/lib/python3.9/site-packages/lightgbm/sklearn.py:736: UserWarning: 'verbose' argument is deprecated and will be removed in a future release of LightGBM. Pass 'log_evaluation()' callback via 'callbacks' argument instead.\n",
      "  _log_warning(\"'verbose' argument is deprecated and will be removed in a future release of LightGBM. \"\n",
      "/opt/conda/lib/python3.9/site-packages/lightgbm/sklearn.py:736: UserWarning: 'verbose' argument is deprecated and will be removed in a future release of LightGBM. Pass 'log_evaluation()' callback via 'callbacks' argument instead.\n",
      "  _log_warning(\"'verbose' argument is deprecated and will be removed in a future release of LightGBM. \"\n",
      "/opt/conda/lib/python3.9/site-packages/lightgbm/sklearn.py:736: UserWarning: 'verbose' argument is deprecated and will be removed in a future release of LightGBM. Pass 'log_evaluation()' callback via 'callbacks' argument instead.\n",
      "  _log_warning(\"'verbose' argument is deprecated and will be removed in a future release of LightGBM. \"\n",
      "/opt/conda/lib/python3.9/site-packages/lightgbm/sklearn.py:736: UserWarning: 'verbose' argument is deprecated and will be removed in a future release of LightGBM. Pass 'log_evaluation()' callback via 'callbacks' argument instead.\n",
      "  _log_warning(\"'verbose' argument is deprecated and will be removed in a future release of LightGBM. \"\n",
      "/opt/conda/lib/python3.9/site-packages/lightgbm/sklearn.py:736: UserWarning: 'verbose' argument is deprecated and will be removed in a future release of LightGBM. Pass 'log_evaluation()' callback via 'callbacks' argument instead.\n",
      "  _log_warning(\"'verbose' argument is deprecated and will be removed in a future release of LightGBM. \"\n",
      "/opt/conda/lib/python3.9/site-packages/lightgbm/sklearn.py:736: UserWarning: 'verbose' argument is deprecated and will be removed in a future release of LightGBM. Pass 'log_evaluation()' callback via 'callbacks' argument instead.\n",
      "  _log_warning(\"'verbose' argument is deprecated and will be removed in a future release of LightGBM. \"\n",
      "/opt/conda/lib/python3.9/site-packages/lightgbm/sklearn.py:736: UserWarning: 'verbose' argument is deprecated and will be removed in a future release of LightGBM. Pass 'log_evaluation()' callback via 'callbacks' argument instead.\n",
      "  _log_warning(\"'verbose' argument is deprecated and will be removed in a future release of LightGBM. \"\n",
      "/opt/conda/lib/python3.9/site-packages/lightgbm/sklearn.py:736: UserWarning: 'verbose' argument is deprecated and will be removed in a future release of LightGBM. Pass 'log_evaluation()' callback via 'callbacks' argument instead.\n",
      "  _log_warning(\"'verbose' argument is deprecated and will be removed in a future release of LightGBM. \"\n",
      "/opt/conda/lib/python3.9/site-packages/lightgbm/sklearn.py:736: UserWarning: 'verbose' argument is deprecated and will be removed in a future release of LightGBM. Pass 'log_evaluation()' callback via 'callbacks' argument instead.\n",
      "  _log_warning(\"'verbose' argument is deprecated and will be removed in a future release of LightGBM. \"\n",
      "/opt/conda/lib/python3.9/site-packages/lightgbm/sklearn.py:736: UserWarning: 'verbose' argument is deprecated and will be removed in a future release of LightGBM. Pass 'log_evaluation()' callback via 'callbacks' argument instead.\n",
      "  _log_warning(\"'verbose' argument is deprecated and will be removed in a future release of LightGBM. \"\n",
      "/opt/conda/lib/python3.9/site-packages/lightgbm/sklearn.py:736: UserWarning: 'verbose' argument is deprecated and will be removed in a future release of LightGBM. Pass 'log_evaluation()' callback via 'callbacks' argument instead.\n",
      "  _log_warning(\"'verbose' argument is deprecated and will be removed in a future release of LightGBM. \"\n",
      "/opt/conda/lib/python3.9/site-packages/lightgbm/sklearn.py:736: UserWarning: 'verbose' argument is deprecated and will be removed in a future release of LightGBM. Pass 'log_evaluation()' callback via 'callbacks' argument instead.\n",
      "  _log_warning(\"'verbose' argument is deprecated and will be removed in a future release of LightGBM. \"\n",
      "/opt/conda/lib/python3.9/site-packages/lightgbm/sklearn.py:736: UserWarning: 'verbose' argument is deprecated and will be removed in a future release of LightGBM. Pass 'log_evaluation()' callback via 'callbacks' argument instead.\n",
      "  _log_warning(\"'verbose' argument is deprecated and will be removed in a future release of LightGBM. \"\n",
      "/opt/conda/lib/python3.9/site-packages/lightgbm/sklearn.py:736: UserWarning: 'verbose' argument is deprecated and will be removed in a future release of LightGBM. Pass 'log_evaluation()' callback via 'callbacks' argument instead.\n",
      "  _log_warning(\"'verbose' argument is deprecated and will be removed in a future release of LightGBM. \"\n",
      "/opt/conda/lib/python3.9/site-packages/lightgbm/sklearn.py:736: UserWarning: 'verbose' argument is deprecated and will be removed in a future release of LightGBM. Pass 'log_evaluation()' callback via 'callbacks' argument instead.\n",
      "  _log_warning(\"'verbose' argument is deprecated and will be removed in a future release of LightGBM. \"\n",
      "/opt/conda/lib/python3.9/site-packages/lightgbm/sklearn.py:736: UserWarning: 'verbose' argument is deprecated and will be removed in a future release of LightGBM. Pass 'log_evaluation()' callback via 'callbacks' argument instead.\n",
      "  _log_warning(\"'verbose' argument is deprecated and will be removed in a future release of LightGBM. \"\n",
      "/opt/conda/lib/python3.9/site-packages/lightgbm/sklearn.py:736: UserWarning: 'verbose' argument is deprecated and will be removed in a future release of LightGBM. Pass 'log_evaluation()' callback via 'callbacks' argument instead.\n",
      "  _log_warning(\"'verbose' argument is deprecated and will be removed in a future release of LightGBM. \"\n",
      "/opt/conda/lib/python3.9/site-packages/lightgbm/sklearn.py:736: UserWarning: 'verbose' argument is deprecated and will be removed in a future release of LightGBM. Pass 'log_evaluation()' callback via 'callbacks' argument instead.\n",
      "  _log_warning(\"'verbose' argument is deprecated and will be removed in a future release of LightGBM. \"\n",
      "/opt/conda/lib/python3.9/site-packages/lightgbm/sklearn.py:736: UserWarning: 'verbose' argument is deprecated and will be removed in a future release of LightGBM. Pass 'log_evaluation()' callback via 'callbacks' argument instead.\n",
      "  _log_warning(\"'verbose' argument is deprecated and will be removed in a future release of LightGBM. \"\n",
      "/opt/conda/lib/python3.9/site-packages/lightgbm/sklearn.py:736: UserWarning: 'verbose' argument is deprecated and will be removed in a future release of LightGBM. Pass 'log_evaluation()' callback via 'callbacks' argument instead.\n",
      "  _log_warning(\"'verbose' argument is deprecated and will be removed in a future release of LightGBM. \"\n",
      "/opt/conda/lib/python3.9/site-packages/lightgbm/sklearn.py:736: UserWarning: 'verbose' argument is deprecated and will be removed in a future release of LightGBM. Pass 'log_evaluation()' callback via 'callbacks' argument instead.\n",
      "  _log_warning(\"'verbose' argument is deprecated and will be removed in a future release of LightGBM. \"\n",
      "/opt/conda/lib/python3.9/site-packages/lightgbm/sklearn.py:736: UserWarning: 'verbose' argument is deprecated and will be removed in a future release of LightGBM. Pass 'log_evaluation()' callback via 'callbacks' argument instead.\n",
      "  _log_warning(\"'verbose' argument is deprecated and will be removed in a future release of LightGBM. \"\n",
      "/opt/conda/lib/python3.9/site-packages/lightgbm/sklearn.py:736: UserWarning: 'verbose' argument is deprecated and will be removed in a future release of LightGBM. Pass 'log_evaluation()' callback via 'callbacks' argument instead.\n",
      "  _log_warning(\"'verbose' argument is deprecated and will be removed in a future release of LightGBM. \"\n",
      "/opt/conda/lib/python3.9/site-packages/lightgbm/sklearn.py:736: UserWarning: 'verbose' argument is deprecated and will be removed in a future release of LightGBM. Pass 'log_evaluation()' callback via 'callbacks' argument instead.\n",
      "  _log_warning(\"'verbose' argument is deprecated and will be removed in a future release of LightGBM. \"\n",
      "/opt/conda/lib/python3.9/site-packages/lightgbm/sklearn.py:736: UserWarning: 'verbose' argument is deprecated and will be removed in a future release of LightGBM. Pass 'log_evaluation()' callback via 'callbacks' argument instead.\n",
      "  _log_warning(\"'verbose' argument is deprecated and will be removed in a future release of LightGBM. \"\n",
      "/opt/conda/lib/python3.9/site-packages/lightgbm/sklearn.py:736: UserWarning: 'verbose' argument is deprecated and will be removed in a future release of LightGBM. Pass 'log_evaluation()' callback via 'callbacks' argument instead.\n",
      "  _log_warning(\"'verbose' argument is deprecated and will be removed in a future release of LightGBM. \"\n"
     ]
    },
    {
     "name": "stdout",
     "output_type": "stream",
     "text": [
      "CPU times: user 11.3 s, sys: 42.8 ms, total: 11.4 s\n",
      "Wall time: 11.5 s\n"
     ]
    },
    {
     "data": {
      "text/plain": [
       "GridSearchCV(cv=<generator object TimeSeriesSplit.split at 0x7fe4c5d1d120>,\n",
       "             estimator=LGBMRegressor(),\n",
       "             param_grid={'boosting_type': ['gbdt', 'dart', 'goss'],\n",
       "                         'learning_rate': [0.01, 0.03, 0.05],\n",
       "                         'n_estimators': [38], 'num_leaves': [31],\n",
       "                         'random_state': [150124]},\n",
       "             scoring='neg_mean_absolute_error')"
      ]
     },
     "execution_count": 65,
     "metadata": {},
     "output_type": "execute_result"
    }
   ],
   "source": [
    "%%time\n",
    "cv = TimeSeriesSplit(n_splits=3).split(features_train)\n",
    "lgbm_model = LGBMRegressor()\n",
    "lgbm_parametrs = {'boosting_type': ['gbdt', 'dart', 'goss'],\n",
    "                 'learning_rate': [0.01, 0.03, 0.05], #Рассмотрим различные гиперпараметры\n",
    "                 'n_estimators': [38],\n",
    "                 'num_leaves': [31],\n",
    "                 'random_state': [150124]}\n",
    "#Применим GridSearchCV с кросс-валидацией\n",
    "lgbm_grid = GridSearchCV(lgbm_model, lgbm_parametrs, scoring='neg_mean_absolute_error', cv=cv)\n",
    "lgbm_grid.fit(features_train, target_train, verbose=False)"
   ]
  },
  {
   "cell_type": "code",
   "execution_count": 66,
   "id": "8bc877a5",
   "metadata": {},
   "outputs": [
    {
     "name": "stdout",
     "output_type": "stream",
     "text": [
      "MAE для LGBMRegressor: 5.900440967758619\n",
      "boosting_type = gbdt\n",
      "learning_rate = 0.05\n"
     ]
    }
   ],
   "source": [
    "print('MAE для LGBMRegressor:', (lgbm_grid.best_score_ * (-1)))\n",
    "print('boosting_type =', lgbm_grid.best_params_['boosting_type'])\n",
    "print('learning_rate =', lgbm_grid.best_params_['learning_rate'])"
   ]
  },
  {
   "cell_type": "markdown",
   "id": "c0bac477",
   "metadata": {},
   "source": [
    "Отличное значение метрики, но рассмотрим ещё одну модель."
   ]
  },
  {
   "cell_type": "markdown",
   "id": "15a4e7fb",
   "metadata": {},
   "source": [
    "### CatBoost"
   ]
  },
  {
   "cell_type": "markdown",
   "id": "7e34f4e6",
   "metadata": {},
   "source": [
    "И последней нашей моделью будет бустинг, разработанный компанией Яндекс:"
   ]
  },
  {
   "cell_type": "code",
   "execution_count": 67,
   "id": "0b547a3b",
   "metadata": {},
   "outputs": [
    {
     "name": "stdout",
     "output_type": "stream",
     "text": [
      "CPU times: user 29.7 s, sys: 567 ms, total: 30.2 s\n",
      "Wall time: 39 s\n"
     ]
    },
    {
     "data": {
      "text/plain": [
       "GridSearchCV(cv=<generator object TimeSeriesSplit.split at 0x7fe4c5ce3190>,\n",
       "             estimator=<catboost.core.CatBoostRegressor object at 0x7fe4c5d1e910>,\n",
       "             param_grid={'depth': [6], 'learning_rate': [0.01, 0.03, 0.1],\n",
       "                         'random_state': [150124]},\n",
       "             scoring='neg_mean_absolute_error')"
      ]
     },
     "execution_count": 67,
     "metadata": {},
     "output_type": "execute_result"
    }
   ],
   "source": [
    "%%time\n",
    "cv = TimeSeriesSplit(n_splits=3).split(features_train)\n",
    "cat_model = CatBoostRegressor()\n",
    "cat_parametrs = {'learning_rate': [0.01, 0.03, 0.1], #Рассмотрим различные гиперпараметры\n",
    "                 'depth': [6],\n",
    "                 'random_state': [150124]}\n",
    "#Применим GridSearchCV с кросс-валидацией\n",
    "cat_grid = GridSearchCV(cat_model, cat_parametrs, scoring='neg_mean_absolute_error', cv=cv)\n",
    "cat_grid.fit(features_train, target_train, verbose=False)"
   ]
  },
  {
   "cell_type": "code",
   "execution_count": 68,
   "id": "b33631e4",
   "metadata": {},
   "outputs": [
    {
     "name": "stdout",
     "output_type": "stream",
     "text": [
      "MAE наилучшей модели: 5.6910869273144895\n",
      "Коэффициент скорости обучения = 0.03\n",
      "Глубина = 6\n"
     ]
    }
   ],
   "source": [
    "print('MAE наилучшей модели:', (cat_grid.best_score_ * (-1)))\n",
    "print('Коэффициент скорости обучения =', cat_grid.best_params_['learning_rate'])\n",
    "print('Глубина =', cat_grid.best_params_['depth'])"
   ]
  },
  {
   "cell_type": "markdown",
   "id": "ad6bf83b",
   "metadata": {},
   "source": [
    "Это лучшее зачение метрики на кросс-валидации, именно эту модель и будем проверять на тестовой выборке."
   ]
  },
  {
   "cell_type": "markdown",
   "id": "5952a223",
   "metadata": {},
   "source": [
    "## Выбор лучшей модели"
   ]
  },
  {
   "cell_type": "markdown",
   "id": "fcb35050",
   "metadata": {},
   "source": [
    "Лучше всего себя показала модель CatBoost, протестриуем нашу лучшую модель на тестовой выборке:"
   ]
  },
  {
   "cell_type": "code",
   "execution_count": 69,
   "id": "11a44acf",
   "metadata": {},
   "outputs": [
    {
     "name": "stdout",
     "output_type": "stream",
     "text": [
      "MAE CatBoostRegressor на тестовой выборке: 6.05271596683814\n",
      "Значение метрики r2 на тестовой выборке: 0.45884097264657897\n"
     ]
    }
   ],
   "source": [
    "cat_model = CatBoostRegressor(learning_rate=0.03,\n",
    "                              depth=6,\n",
    "                              verbose=False) \n",
    "cat_model.fit(features_train, target_train)\n",
    "cat_predict = cat_model.predict(features_test)\n",
    "\n",
    "print('MAE CatBoostRegressor на тестовой выборке:', mean_absolute_error(target_test, cat_predict))\n",
    "print('Значение метрики r2 на тестовой выборке:', r2_score(target_test, cat_predict))"
   ]
  },
  {
   "cell_type": "markdown",
   "id": "9cfb82a2",
   "metadata": {},
   "source": [
    "Отличное значение MAE, которое выполнят условие заказчика. Дополнительно рассчитали метрику R2 (коэффициент детерминации), которая показывает насколько лучше наша модель может делать предсказания, чем среднее арифметическое. Коэффициент получился 0,46 а это значит что наша модель неплохо умеет предсказывать конечную температуру."
   ]
  },
  {
   "cell_type": "markdown",
   "id": "967ad291",
   "metadata": {},
   "source": [
    "Проведем проверку модели на адекватность:"
   ]
  },
  {
   "cell_type": "code",
   "execution_count": 70,
   "id": "7923c3e1",
   "metadata": {},
   "outputs": [
    {
     "data": {
      "text/plain": [
       "7.903614457831325"
      ]
     },
     "execution_count": 70,
     "metadata": {},
     "output_type": "execute_result"
    }
   ],
   "source": [
    "dummy_model = DummyRegressor(strategy='median')\n",
    "dummy_model.fit(features_train, target_train)\n",
    "mean_absolute_error(target_test, dummy_model.predict(features_test))"
   ]
  },
  {
   "cell_type": "markdown",
   "id": "c2d61941",
   "metadata": {},
   "source": [
    "Dummy модель, которая заполняет все значения медианным значением, имеет метрику MAE 7.9"
   ]
  },
  {
   "cell_type": "markdown",
   "id": "93e5be02",
   "metadata": {},
   "source": [
    "Исследуем важность признаков у лучшей модели:"
   ]
  },
  {
   "cell_type": "code",
   "execution_count": 74,
   "id": "cffb4901",
   "metadata": {
    "scrolled": false
   },
   "outputs": [
    {
     "data": {
      "image/png": "[encoded data removed]",
      "text/plain": [
       "<Figure size 720x504 with 1 Axes>"
      ]
     },
     "metadata": {},
     "output_type": "display_data"
    }
   ],
   "source": [
    "feature_names = features_train.columns \n",
    "model = CatBoostRegressor(learning_rate=0.03,\n",
    "                          depth=6,\n",
    "                          verbose=False,\n",
    "                          random_state=150124)\n",
    "model.fit(features_train, target_train)\n",
    "importances = model.feature_importances_\n",
    "model_importances = pd.Series(importances, index=feature_names)\n",
    "\n",
    "std = np.std([model.feature_importances_ for tree in str(1000)], axis=0)\n",
    "\n",
    "fig, ax = plt.subplots(figsize=(10,7))\n",
    "model_importances.plot.bar(yerr=std, ax=ax)\n",
    "ax.set_title(\"Feature importances\")\n",
    "ax.set_ylabel(\"Mean decrease in impurity\")\n",
    "fig.tight_layout()"
   ]
  },
  {
   "cell_type": "markdown",
   "id": "2433fb5e",
   "metadata": {},
   "source": [
    "Как ранее нам показала тепловая карта, высокая корреляция с целевым признаком у времени нагрева дугой и начальной температурой, и именно эти признаки оказывают наибольшее влияние на прогнозирование модели. Также высокое влияние оказали время между замерами температур и работа, которые кстати напрямую связаны со временеи нагрева дугой."
   ]
  },
  {
   "cell_type": "markdown",
   "id": "e4fb6564",
   "metadata": {},
   "source": [
    "## Общий вывод и рекомендации заказчику"
   ]
  },
  {
   "cell_type": "markdown",
   "id": "ff5ab4bd",
   "metadata": {},
   "source": [
    "В данной работе перед нами стояла задача построить модель, которая умеет определять конечную температуру сплава.  \n",
    "Первым делом была проведена предобработка данных - удалены некоторые ключи, созданы дополнительные признаки и все датафреймы были объединены в один.  \n",
    "Далее мы разделили данные на обучающую и тестовую выборки.  \n",
    "Было обучено несколько моделей, в качестве оценки моделей при помощи кросс-валидации была использована метрика MAE и вот что у нас получилось:    \n",
    "\n",
    "Модель LightGBM обучалась всего **12 секунд**, а значение метрики - **5.900440967758619**,  \n",
    "\n",
    "У модели CatBoost лучшее значение метрики MAE - **5.6910869273144895** и время обучения **40 секунд**,  \n",
    "\n",
    "Быстрее всех обучилось Дерево решений - менее чем за **секунду**, но MAE велика - **6.693167520392222**   \n",
    "\n",
    "Итоговое значение MAE уже на тестовой выборке модели CatBoost получилось: **6.05271596683814**\n",
    "\n",
    "Модель CatBoost отлично прогнозирует конечную температуру сплава и имеет небольшое время обучения. Данную модель можно запускать в производство, она поможет уменьшить потребление электроэнергии и таким образом сэкономить деньги металлургического комбината."
   ]
  },
  {
   "cell_type": "code",
   "execution_count": null,
   "id": "a3f1317a",
   "metadata": {},
   "outputs": [],
   "source": []
  }
 ],
 "metadata": {
  "ExecuteTimeLog": [
   {
    "duration": 47,
    "start_time": "2024-01-15T06:14:47.039Z"
   },
   {
    "duration": 404,
    "start_time": "2024-01-15T06:15:50.217Z"
   },
   {
    "duration": 87,
    "start_time": "2024-01-15T06:15:55.942Z"
   },
   {
    "duration": 18,
    "start_time": "2024-01-15T06:15:59.584Z"
   },
   {
    "duration": 50,
    "start_time": "2024-01-15T06:16:03.940Z"
   },
   {
    "duration": 11,
    "start_time": "2024-01-15T06:16:04.746Z"
   },
   {
    "duration": 48,
    "start_time": "2024-01-15T06:16:15.024Z"
   },
   {
    "duration": 11,
    "start_time": "2024-01-15T06:16:15.494Z"
   },
   {
    "duration": 12,
    "start_time": "2024-01-15T06:16:23.339Z"
   },
   {
    "duration": 48,
    "start_time": "2024-01-15T06:16:24.182Z"
   },
   {
    "duration": 11,
    "start_time": "2024-01-15T06:16:24.570Z"
   },
   {
    "duration": 489,
    "start_time": "2024-01-15T06:19:19.878Z"
   },
   {
    "duration": 20,
    "start_time": "2024-01-15T06:19:23.972Z"
   },
   {
    "duration": 16,
    "start_time": "2024-01-15T06:19:40.891Z"
   },
   {
    "duration": 9,
    "start_time": "2024-01-15T06:19:59.560Z"
   },
   {
    "duration": 10,
    "start_time": "2024-01-15T06:20:06.183Z"
   },
   {
    "duration": 14,
    "start_time": "2024-01-15T06:20:10.275Z"
   },
   {
    "duration": 13,
    "start_time": "2024-01-15T06:20:14.751Z"
   },
   {
    "duration": 371,
    "start_time": "2024-01-15T06:21:08.091Z"
   },
   {
    "duration": 192,
    "start_time": "2024-01-15T06:21:08.464Z"
   },
   {
    "duration": 16,
    "start_time": "2024-01-15T06:21:08.658Z"
   },
   {
    "duration": 381,
    "start_time": "2024-01-16T10:59:07.068Z"
   },
   {
    "duration": 532,
    "start_time": "2024-01-16T10:59:07.451Z"
   },
   {
    "duration": 17,
    "start_time": "2024-01-16T10:59:07.985Z"
   },
   {
    "duration": 18,
    "start_time": "2024-01-16T11:01:13.417Z"
   },
   {
    "duration": 15,
    "start_time": "2024-01-16T11:01:31.405Z"
   },
   {
    "duration": 8,
    "start_time": "2024-01-16T11:02:43.093Z"
   },
   {
    "duration": 7,
    "start_time": "2024-01-16T11:03:07.950Z"
   },
   {
    "duration": 13,
    "start_time": "2024-01-16T11:03:15.144Z"
   },
   {
    "duration": 5,
    "start_time": "2024-01-16T11:03:20.798Z"
   },
   {
    "duration": 5,
    "start_time": "2024-01-16T11:03:29.134Z"
   },
   {
    "duration": 9,
    "start_time": "2024-01-16T11:03:33.966Z"
   },
   {
    "duration": 10,
    "start_time": "2024-01-16T11:03:41.579Z"
   },
   {
    "duration": 13,
    "start_time": "2024-01-16T11:04:20.454Z"
   },
   {
    "duration": 11,
    "start_time": "2024-01-16T11:04:26.609Z"
   },
   {
    "duration": 3,
    "start_time": "2024-01-16T11:13:51.256Z"
   },
   {
    "duration": 2,
    "start_time": "2024-01-16T11:14:36.431Z"
   },
   {
    "duration": 10,
    "start_time": "2024-01-16T11:15:24.710Z"
   },
   {
    "duration": 414,
    "start_time": "2024-01-16T11:15:53.699Z"
   },
   {
    "duration": 188,
    "start_time": "2024-01-16T11:15:54.115Z"
   },
   {
    "duration": 15,
    "start_time": "2024-01-16T11:15:54.305Z"
   },
   {
    "duration": 14,
    "start_time": "2024-01-16T11:15:54.322Z"
   },
   {
    "duration": 19,
    "start_time": "2024-01-16T11:15:54.337Z"
   },
   {
    "duration": 7,
    "start_time": "2024-01-16T11:15:54.358Z"
   },
   {
    "duration": 9,
    "start_time": "2024-01-16T11:15:54.367Z"
   },
   {
    "duration": 20,
    "start_time": "2024-01-16T11:15:54.378Z"
   },
   {
    "duration": 19,
    "start_time": "2024-01-16T11:15:54.400Z"
   },
   {
    "duration": 394,
    "start_time": "2024-01-17T14:43:08.464Z"
   },
   {
    "duration": 501,
    "start_time": "2024-01-17T14:43:08.860Z"
   },
   {
    "duration": 14,
    "start_time": "2024-01-17T14:43:09.365Z"
   },
   {
    "duration": 16,
    "start_time": "2024-01-17T14:43:09.380Z"
   },
   {
    "duration": 13,
    "start_time": "2024-01-17T14:43:09.397Z"
   },
   {
    "duration": 10,
    "start_time": "2024-01-17T14:43:09.411Z"
   },
   {
    "duration": 12,
    "start_time": "2024-01-17T14:43:09.422Z"
   },
   {
    "duration": 24,
    "start_time": "2024-01-17T14:43:09.436Z"
   },
   {
    "duration": 10,
    "start_time": "2024-01-17T14:43:09.462Z"
   },
   {
    "duration": 12,
    "start_time": "2024-01-17T15:14:39.860Z"
   },
   {
    "duration": 6,
    "start_time": "2024-01-17T15:15:10.966Z"
   },
   {
    "duration": 12,
    "start_time": "2024-01-17T15:15:16.410Z"
   },
   {
    "duration": 4,
    "start_time": "2024-01-17T15:16:34.581Z"
   },
   {
    "duration": 12,
    "start_time": "2024-01-17T15:16:36.329Z"
   },
   {
    "duration": 67,
    "start_time": "2024-01-17T15:21:26.089Z"
   },
   {
    "duration": 14,
    "start_time": "2024-01-17T15:21:41.585Z"
   },
   {
    "duration": 2,
    "start_time": "2024-01-17T15:26:32.683Z"
   },
   {
    "duration": 2,
    "start_time": "2024-01-17T15:26:33.226Z"
   },
   {
    "duration": 400,
    "start_time": "2024-01-17T15:27:00.364Z"
   },
   {
    "duration": 184,
    "start_time": "2024-01-17T15:27:00.766Z"
   },
   {
    "duration": 16,
    "start_time": "2024-01-17T15:27:00.952Z"
   },
   {
    "duration": 60,
    "start_time": "2024-01-17T15:27:00.969Z"
   },
   {
    "duration": 40,
    "start_time": "2024-01-17T15:27:01.032Z"
   },
   {
    "duration": 56,
    "start_time": "2024-01-17T15:27:01.074Z"
   },
   {
    "duration": 55,
    "start_time": "2024-01-17T15:27:01.132Z"
   },
   {
    "duration": 61,
    "start_time": "2024-01-17T15:27:01.189Z"
   },
   {
    "duration": 120,
    "start_time": "2024-01-17T15:27:01.252Z"
   },
   {
    "duration": 58,
    "start_time": "2024-01-17T15:27:01.374Z"
   },
   {
    "duration": 29,
    "start_time": "2024-01-17T15:27:01.434Z"
   },
   {
    "duration": 44,
    "start_time": "2024-01-17T15:27:01.464Z"
   },
   {
    "duration": 3,
    "start_time": "2024-01-17T15:58:56.412Z"
   },
   {
    "duration": 65,
    "start_time": "2024-01-17T15:59:14.367Z"
   },
   {
    "duration": 3,
    "start_time": "2024-01-17T15:59:26.239Z"
   },
   {
    "duration": 6,
    "start_time": "2024-01-17T15:59:43.756Z"
   },
   {
    "duration": 399,
    "start_time": "2024-01-17T15:59:59.956Z"
   },
   {
    "duration": 17,
    "start_time": "2024-01-17T16:00:01.933Z"
   },
   {
    "duration": 9,
    "start_time": "2024-01-17T16:00:08.000Z"
   },
   {
    "duration": 7,
    "start_time": "2024-01-17T16:00:15.710Z"
   },
   {
    "duration": 10,
    "start_time": "2024-01-17T16:00:19.500Z"
   },
   {
    "duration": 9,
    "start_time": "2024-01-17T16:00:24.947Z"
   },
   {
    "duration": 7,
    "start_time": "2024-01-17T16:00:43.199Z"
   },
   {
    "duration": 6,
    "start_time": "2024-01-17T16:00:45.602Z"
   },
   {
    "duration": 2,
    "start_time": "2024-01-17T16:00:48.464Z"
   },
   {
    "duration": 7,
    "start_time": "2024-01-17T16:01:01.672Z"
   },
   {
    "duration": 3,
    "start_time": "2024-01-17T16:01:27.608Z"
   },
   {
    "duration": 24,
    "start_time": "2024-01-17T16:01:28.424Z"
   },
   {
    "duration": 49,
    "start_time": "2024-01-17T16:01:35.523Z"
   },
   {
    "duration": 129,
    "start_time": "2024-01-17T16:01:49.542Z"
   },
   {
    "duration": 11,
    "start_time": "2024-01-17T16:02:38.130Z"
   },
   {
    "duration": 51,
    "start_time": "2024-01-17T16:02:45.448Z"
   },
   {
    "duration": 20,
    "start_time": "2024-01-17T16:04:54.260Z"
   },
   {
    "duration": 2,
    "start_time": "2024-01-17T16:05:03.999Z"
   },
   {
    "duration": 2,
    "start_time": "2024-01-17T16:05:27.673Z"
   },
   {
    "duration": 186,
    "start_time": "2024-01-17T16:05:31.158Z"
   },
   {
    "duration": 6,
    "start_time": "2024-01-17T16:05:53.308Z"
   },
   {
    "duration": 55,
    "start_time": "2024-01-17T16:07:20.476Z"
   },
   {
    "duration": 11,
    "start_time": "2024-01-17T16:08:05.425Z"
   },
   {
    "duration": 554,
    "start_time": "2024-01-17T16:08:12.411Z"
   },
   {
    "duration": 2,
    "start_time": "2024-01-17T16:08:12.967Z"
   },
   {
    "duration": 186,
    "start_time": "2024-01-17T16:08:12.971Z"
   },
   {
    "duration": 70,
    "start_time": "2024-01-17T16:08:13.158Z"
   },
   {
    "duration": 0,
    "start_time": "2024-01-17T16:08:13.229Z"
   },
   {
    "duration": 0,
    "start_time": "2024-01-17T16:08:13.231Z"
   },
   {
    "duration": 0,
    "start_time": "2024-01-17T16:08:13.232Z"
   },
   {
    "duration": 0,
    "start_time": "2024-01-17T16:08:13.233Z"
   },
   {
    "duration": 7,
    "start_time": "2024-01-17T16:09:50.770Z"
   },
   {
    "duration": 55,
    "start_time": "2024-01-17T16:10:15.612Z"
   },
   {
    "duration": 2,
    "start_time": "2024-01-17T16:10:20.329Z"
   },
   {
    "duration": 177,
    "start_time": "2024-01-17T16:10:21.313Z"
   },
   {
    "duration": 32,
    "start_time": "2024-01-17T16:10:23.799Z"
   },
   {
    "duration": 11,
    "start_time": "2024-01-17T16:10:40.727Z"
   },
   {
    "duration": 6,
    "start_time": "2024-01-17T16:11:12.313Z"
   },
   {
    "duration": 8,
    "start_time": "2024-01-17T16:11:15.892Z"
   },
   {
    "duration": 71,
    "start_time": "2024-01-17T16:11:18.692Z"
   },
   {
    "duration": 32,
    "start_time": "2024-01-17T16:11:23.616Z"
   },
   {
    "duration": 3,
    "start_time": "2024-01-17T16:11:50.502Z"
   },
   {
    "duration": 7,
    "start_time": "2024-01-17T16:11:52.869Z"
   },
   {
    "duration": 1104,
    "start_time": "2024-01-17T16:13:55.880Z"
   },
   {
    "duration": 46,
    "start_time": "2024-01-17T16:14:12.907Z"
   },
   {
    "duration": 8,
    "start_time": "2024-01-17T16:14:14.973Z"
   },
   {
    "duration": 6,
    "start_time": "2024-01-17T16:14:16.692Z"
   },
   {
    "duration": 46,
    "start_time": "2024-01-17T16:14:20.406Z"
   },
   {
    "duration": 8,
    "start_time": "2024-01-17T16:14:22.147Z"
   },
   {
    "duration": 7,
    "start_time": "2024-01-17T16:15:26.191Z"
   },
   {
    "duration": 177,
    "start_time": "2024-01-17T16:16:36.906Z"
   },
   {
    "duration": 23,
    "start_time": "2024-01-17T16:16:37.374Z"
   },
   {
    "duration": 63,
    "start_time": "2024-01-17T16:16:38.537Z"
   },
   {
    "duration": 625,
    "start_time": "2024-01-17T16:17:15.562Z"
   },
   {
    "duration": 182,
    "start_time": "2024-01-17T16:17:16.189Z"
   },
   {
    "duration": 2,
    "start_time": "2024-01-17T16:17:16.373Z"
   },
   {
    "duration": 60,
    "start_time": "2024-01-17T16:17:16.377Z"
   },
   {
    "duration": 13,
    "start_time": "2024-01-17T16:17:16.439Z"
   },
   {
    "duration": 2,
    "start_time": "2024-01-17T16:17:16.453Z"
   },
   {
    "duration": 5,
    "start_time": "2024-01-17T16:17:16.457Z"
   },
   {
    "duration": 3,
    "start_time": "2024-01-17T16:26:23.158Z"
   },
   {
    "duration": 12,
    "start_time": "2024-01-17T16:26:34.566Z"
   },
   {
    "duration": 74,
    "start_time": "2024-01-17T16:26:40.593Z"
   },
   {
    "duration": 7,
    "start_time": "2024-01-17T16:26:44.633Z"
   },
   {
    "duration": 13,
    "start_time": "2024-01-17T16:26:51.617Z"
   },
   {
    "duration": 54,
    "start_time": "2024-01-17T16:31:44.027Z"
   },
   {
    "duration": 62,
    "start_time": "2024-01-17T16:32:29.568Z"
   },
   {
    "duration": 8,
    "start_time": "2024-01-17T16:32:33.326Z"
   },
   {
    "duration": 77,
    "start_time": "2024-01-17T16:32:36.860Z"
   },
   {
    "duration": 7,
    "start_time": "2024-01-17T16:33:20.989Z"
   },
   {
    "duration": 56,
    "start_time": "2024-01-17T16:33:27.332Z"
   },
   {
    "duration": 11,
    "start_time": "2024-01-17T16:38:44.364Z"
   },
   {
    "duration": 9,
    "start_time": "2024-01-17T16:39:06.058Z"
   },
   {
    "duration": 9,
    "start_time": "2024-01-17T16:39:11.265Z"
   },
   {
    "duration": 10,
    "start_time": "2024-01-17T16:39:26.653Z"
   },
   {
    "duration": 77,
    "start_time": "2024-01-17T16:39:40.533Z"
   },
   {
    "duration": 1147,
    "start_time": "2024-01-17T16:39:45.931Z"
   },
   {
    "duration": 1312,
    "start_time": "2024-01-17T16:40:18.248Z"
   },
   {
    "duration": 1117,
    "start_time": "2024-01-17T16:40:24.238Z"
   },
   {
    "duration": 11,
    "start_time": "2024-01-17T16:40:28.970Z"
   },
   {
    "duration": 3,
    "start_time": "2024-01-17T16:41:43.514Z"
   },
   {
    "duration": 74,
    "start_time": "2024-01-17T16:41:59.994Z"
   },
   {
    "duration": 88,
    "start_time": "2024-01-17T16:42:05.097Z"
   },
   {
    "duration": 85,
    "start_time": "2024-01-17T16:42:14.340Z"
   },
   {
    "duration": 52,
    "start_time": "2024-01-17T16:42:29.485Z"
   },
   {
    "duration": 13,
    "start_time": "2024-01-17T16:43:40.316Z"
   },
   {
    "duration": 8,
    "start_time": "2024-01-17T16:43:45.164Z"
   },
   {
    "duration": 7,
    "start_time": "2024-01-17T16:43:54.306Z"
   },
   {
    "duration": 1089,
    "start_time": "2024-01-17T16:47:27.915Z"
   },
   {
    "duration": 7,
    "start_time": "2024-01-17T16:47:32.477Z"
   },
   {
    "duration": 11,
    "start_time": "2024-01-17T16:47:35.792Z"
   },
   {
    "duration": 11,
    "start_time": "2024-01-17T16:47:55.822Z"
   },
   {
    "duration": 11,
    "start_time": "2024-01-17T16:48:02.605Z"
   },
   {
    "duration": 7,
    "start_time": "2024-01-17T16:50:24.109Z"
   },
   {
    "duration": 15,
    "start_time": "2024-01-17T16:50:26.505Z"
   },
   {
    "duration": 10,
    "start_time": "2024-01-17T16:50:29.317Z"
   },
   {
    "duration": 1321,
    "start_time": "2024-01-17T16:50:41.572Z"
   },
   {
    "duration": 14,
    "start_time": "2024-01-17T16:50:46.968Z"
   },
   {
    "duration": 10,
    "start_time": "2024-01-17T16:50:51.905Z"
   },
   {
    "duration": 13,
    "start_time": "2024-01-17T16:51:03.630Z"
   },
   {
    "duration": 9,
    "start_time": "2024-01-17T16:51:04.171Z"
   },
   {
    "duration": 633,
    "start_time": "2024-01-17T16:51:15.937Z"
   },
   {
    "duration": 184,
    "start_time": "2024-01-17T16:51:16.572Z"
   },
   {
    "duration": 3,
    "start_time": "2024-01-17T16:51:16.757Z"
   },
   {
    "duration": 8,
    "start_time": "2024-01-17T16:51:16.761Z"
   },
   {
    "duration": 74,
    "start_time": "2024-01-17T16:51:16.770Z"
   },
   {
    "duration": 10,
    "start_time": "2024-01-17T16:51:16.853Z"
   },
   {
    "duration": 18,
    "start_time": "2024-01-17T16:51:16.865Z"
   },
   {
    "duration": 10,
    "start_time": "2024-01-17T16:51:16.885Z"
   },
   {
    "duration": 15,
    "start_time": "2024-01-17T16:51:16.896Z"
   },
   {
    "duration": 13,
    "start_time": "2024-01-17T16:51:16.913Z"
   },
   {
    "duration": 24,
    "start_time": "2024-01-17T16:51:16.928Z"
   },
   {
    "duration": 2,
    "start_time": "2024-01-17T16:51:16.954Z"
   },
   {
    "duration": 7,
    "start_time": "2024-01-17T16:51:16.957Z"
   },
   {
    "duration": 11,
    "start_time": "2024-01-17T16:51:16.965Z"
   },
   {
    "duration": 13,
    "start_time": "2024-01-17T16:51:31.511Z"
   },
   {
    "duration": 5,
    "start_time": "2024-01-17T16:51:45.529Z"
   },
   {
    "duration": 4,
    "start_time": "2024-01-17T16:52:58.904Z"
   },
   {
    "duration": 9,
    "start_time": "2024-01-17T16:57:10.487Z"
   },
   {
    "duration": 9,
    "start_time": "2024-01-17T16:57:14.459Z"
   },
   {
    "duration": 74,
    "start_time": "2024-01-17T16:58:07.972Z"
   },
   {
    "duration": 57,
    "start_time": "2024-01-17T16:58:13.113Z"
   },
   {
    "duration": 14,
    "start_time": "2024-01-17T16:59:32.561Z"
   },
   {
    "duration": 11,
    "start_time": "2024-01-17T16:59:39.114Z"
   },
   {
    "duration": 179,
    "start_time": "2024-01-17T17:00:07.965Z"
   },
   {
    "duration": 11,
    "start_time": "2024-01-17T17:00:14.944Z"
   },
   {
    "duration": 10,
    "start_time": "2024-01-17T17:00:28.338Z"
   },
   {
    "duration": 188,
    "start_time": "2024-01-17T17:00:31.387Z"
   },
   {
    "duration": 10,
    "start_time": "2024-01-17T17:00:34.523Z"
   },
   {
    "duration": 13,
    "start_time": "2024-01-17T17:01:09.351Z"
   },
   {
    "duration": 80,
    "start_time": "2024-01-17T17:02:41.691Z"
   },
   {
    "duration": 7,
    "start_time": "2024-01-17T17:02:45.785Z"
   },
   {
    "duration": 12,
    "start_time": "2024-01-17T17:02:53.158Z"
   },
   {
    "duration": 9,
    "start_time": "2024-01-17T17:03:57.961Z"
   },
   {
    "duration": 100,
    "start_time": "2024-01-17T17:04:04.415Z"
   },
   {
    "duration": 11,
    "start_time": "2024-01-17T17:04:06.971Z"
   },
   {
    "duration": 8,
    "start_time": "2024-01-17T17:04:14.378Z"
   },
   {
    "duration": 177,
    "start_time": "2024-01-17T17:04:28.020Z"
   },
   {
    "duration": 4,
    "start_time": "2024-01-17T17:04:31.039Z"
   },
   {
    "duration": 2,
    "start_time": "2024-01-17T17:04:31.725Z"
   },
   {
    "duration": 52,
    "start_time": "2024-01-17T17:04:32.384Z"
   },
   {
    "duration": 12,
    "start_time": "2024-01-17T17:04:42.903Z"
   },
   {
    "duration": 12,
    "start_time": "2024-01-17T17:04:44.095Z"
   },
   {
    "duration": 11,
    "start_time": "2024-01-17T17:04:47.020Z"
   },
   {
    "duration": 11,
    "start_time": "2024-01-17T17:04:47.894Z"
   },
   {
    "duration": 15,
    "start_time": "2024-01-17T17:04:49.632Z"
   },
   {
    "duration": 12,
    "start_time": "2024-01-17T17:04:54.095Z"
   },
   {
    "duration": 3,
    "start_time": "2024-01-17T17:05:10.187Z"
   },
   {
    "duration": 3,
    "start_time": "2024-01-17T17:05:21.962Z"
   },
   {
    "duration": 12,
    "start_time": "2024-01-17T17:07:59.659Z"
   },
   {
    "duration": 15,
    "start_time": "2024-01-17T17:08:30.677Z"
   },
   {
    "duration": 13,
    "start_time": "2024-01-17T17:08:42.203Z"
   },
   {
    "duration": 13,
    "start_time": "2024-01-17T17:08:45.776Z"
   },
   {
    "duration": 618,
    "start_time": "2024-01-17T17:10:49.652Z"
   },
   {
    "duration": 179,
    "start_time": "2024-01-17T17:10:50.272Z"
   },
   {
    "duration": 3,
    "start_time": "2024-01-17T17:10:50.453Z"
   },
   {
    "duration": 29,
    "start_time": "2024-01-17T17:10:50.457Z"
   },
   {
    "duration": 71,
    "start_time": "2024-01-17T17:10:50.488Z"
   },
   {
    "duration": 11,
    "start_time": "2024-01-17T17:10:50.561Z"
   },
   {
    "duration": 14,
    "start_time": "2024-01-17T17:10:50.573Z"
   },
   {
    "duration": 24,
    "start_time": "2024-01-17T17:10:50.589Z"
   },
   {
    "duration": 30,
    "start_time": "2024-01-17T17:10:50.615Z"
   },
   {
    "duration": 14,
    "start_time": "2024-01-17T17:10:50.648Z"
   },
   {
    "duration": 27,
    "start_time": "2024-01-17T17:10:50.663Z"
   },
   {
    "duration": 29,
    "start_time": "2024-01-17T17:10:50.692Z"
   },
   {
    "duration": 25,
    "start_time": "2024-01-17T17:10:50.723Z"
   },
   {
    "duration": 41,
    "start_time": "2024-01-17T17:10:50.750Z"
   },
   {
    "duration": 4,
    "start_time": "2024-01-17T17:16:41.018Z"
   },
   {
    "duration": 4,
    "start_time": "2024-01-17T17:16:44.123Z"
   },
   {
    "duration": 10,
    "start_time": "2024-01-17T17:19:52.144Z"
   },
   {
    "duration": 12,
    "start_time": "2024-01-17T17:20:03.800Z"
   },
   {
    "duration": 6,
    "start_time": "2024-01-17T17:20:18.797Z"
   },
   {
    "duration": 14,
    "start_time": "2024-01-17T17:26:03.067Z"
   },
   {
    "duration": 5,
    "start_time": "2024-01-17T17:26:36.174Z"
   },
   {
    "duration": 14,
    "start_time": "2024-01-17T17:26:43.106Z"
   },
   {
    "duration": 5,
    "start_time": "2024-01-17T17:27:01.472Z"
   },
   {
    "duration": 5,
    "start_time": "2024-01-17T17:27:05.690Z"
   },
   {
    "duration": 6,
    "start_time": "2024-01-17T17:27:10.552Z"
   },
   {
    "duration": 6,
    "start_time": "2024-01-17T17:27:15.235Z"
   },
   {
    "duration": 7,
    "start_time": "2024-01-17T17:27:24.930Z"
   },
   {
    "duration": 12,
    "start_time": "2024-01-17T17:27:31.713Z"
   },
   {
    "duration": 5,
    "start_time": "2024-01-17T17:27:36.580Z"
   },
   {
    "duration": 818,
    "start_time": "2024-01-18T09:32:55.421Z"
   },
   {
    "duration": 538,
    "start_time": "2024-01-18T09:32:56.242Z"
   },
   {
    "duration": 2,
    "start_time": "2024-01-18T09:32:56.782Z"
   },
   {
    "duration": 4,
    "start_time": "2024-01-18T09:32:56.787Z"
   },
   {
    "duration": 66,
    "start_time": "2024-01-18T09:32:56.792Z"
   },
   {
    "duration": 12,
    "start_time": "2024-01-18T09:32:56.860Z"
   },
   {
    "duration": 41,
    "start_time": "2024-01-18T09:32:56.874Z"
   },
   {
    "duration": 11,
    "start_time": "2024-01-18T09:32:56.917Z"
   },
   {
    "duration": 11,
    "start_time": "2024-01-18T09:32:56.929Z"
   },
   {
    "duration": 10,
    "start_time": "2024-01-18T09:32:56.942Z"
   },
   {
    "duration": 4,
    "start_time": "2024-01-18T09:32:56.953Z"
   },
   {
    "duration": 12,
    "start_time": "2024-01-18T09:32:56.958Z"
   },
   {
    "duration": 4,
    "start_time": "2024-01-18T09:32:56.972Z"
   },
   {
    "duration": 6,
    "start_time": "2024-01-18T09:32:56.977Z"
   },
   {
    "duration": 31,
    "start_time": "2024-01-18T09:32:56.984Z"
   },
   {
    "duration": 6,
    "start_time": "2024-01-18T09:34:10.584Z"
   },
   {
    "duration": 72,
    "start_time": "2024-01-18T09:34:20.941Z"
   },
   {
    "duration": 6,
    "start_time": "2024-01-18T09:35:45.640Z"
   },
   {
    "duration": 19,
    "start_time": "2024-01-18T09:36:12.408Z"
   },
   {
    "duration": 12,
    "start_time": "2024-01-18T09:36:16.867Z"
   },
   {
    "duration": 7,
    "start_time": "2024-01-18T09:36:47.728Z"
   },
   {
    "duration": 6,
    "start_time": "2024-01-18T09:37:01.263Z"
   },
   {
    "duration": 14,
    "start_time": "2024-01-18T09:37:49.927Z"
   },
   {
    "duration": 11,
    "start_time": "2024-01-18T09:38:56.366Z"
   },
   {
    "duration": 13,
    "start_time": "2024-01-18T09:39:23.627Z"
   },
   {
    "duration": 21,
    "start_time": "2024-01-18T09:40:02.368Z"
   },
   {
    "duration": 12,
    "start_time": "2024-01-18T09:40:31.301Z"
   },
   {
    "duration": 21,
    "start_time": "2024-01-18T09:42:57.116Z"
   },
   {
    "duration": 26,
    "start_time": "2024-01-18T09:44:31.979Z"
   },
   {
    "duration": 3,
    "start_time": "2024-01-18T09:44:38.399Z"
   },
   {
    "duration": 20,
    "start_time": "2024-01-18T09:45:04.289Z"
   },
   {
    "duration": 17,
    "start_time": "2024-01-18T09:46:04.033Z"
   },
   {
    "duration": 14,
    "start_time": "2024-01-18T09:46:42.344Z"
   },
   {
    "duration": 186,
    "start_time": "2024-01-18T09:47:16.863Z"
   },
   {
    "duration": 3,
    "start_time": "2024-01-18T09:47:19.577Z"
   },
   {
    "duration": 3,
    "start_time": "2024-01-18T09:47:19.827Z"
   },
   {
    "duration": 59,
    "start_time": "2024-01-18T09:47:20.034Z"
   },
   {
    "duration": 12,
    "start_time": "2024-01-18T09:47:22.139Z"
   },
   {
    "duration": 12,
    "start_time": "2024-01-18T09:47:23.197Z"
   },
   {
    "duration": 11,
    "start_time": "2024-01-18T09:47:23.846Z"
   },
   {
    "duration": 16,
    "start_time": "2024-01-18T09:47:24.534Z"
   },
   {
    "duration": 9,
    "start_time": "2024-01-18T09:47:24.965Z"
   },
   {
    "duration": 4,
    "start_time": "2024-01-18T09:47:25.443Z"
   },
   {
    "duration": 9,
    "start_time": "2024-01-18T09:47:26.312Z"
   },
   {
    "duration": 21,
    "start_time": "2024-01-18T09:47:27.676Z"
   },
   {
    "duration": 3,
    "start_time": "2024-01-18T09:47:29.717Z"
   },
   {
    "duration": 16,
    "start_time": "2024-01-18T09:47:31.381Z"
   },
   {
    "duration": 12,
    "start_time": "2024-01-18T09:47:34.187Z"
   },
   {
    "duration": 10,
    "start_time": "2024-01-18T09:47:38.081Z"
   },
   {
    "duration": 9,
    "start_time": "2024-01-18T09:47:59.373Z"
   },
   {
    "duration": 16,
    "start_time": "2024-01-18T09:48:15.698Z"
   },
   {
    "duration": 8,
    "start_time": "2024-01-18T09:48:24.989Z"
   },
   {
    "duration": 7,
    "start_time": "2024-01-18T09:48:32.897Z"
   },
   {
    "duration": 6,
    "start_time": "2024-01-18T09:48:38.590Z"
   },
   {
    "duration": 4,
    "start_time": "2024-01-18T09:51:32.412Z"
   },
   {
    "duration": 13,
    "start_time": "2024-01-18T09:51:36.001Z"
   },
   {
    "duration": 19,
    "start_time": "2024-01-18T09:52:50.650Z"
   },
   {
    "duration": 9,
    "start_time": "2024-01-18T09:55:45.900Z"
   },
   {
    "duration": 8,
    "start_time": "2024-01-18T09:56:18.642Z"
   },
   {
    "duration": 10,
    "start_time": "2024-01-18T09:56:31.139Z"
   },
   {
    "duration": 10,
    "start_time": "2024-01-18T09:56:36.083Z"
   },
   {
    "duration": 8,
    "start_time": "2024-01-18T09:57:37.765Z"
   },
   {
    "duration": 7,
    "start_time": "2024-01-18T09:57:46.699Z"
   },
   {
    "duration": 14,
    "start_time": "2024-01-18T09:57:52.937Z"
   },
   {
    "duration": 18,
    "start_time": "2024-01-18T09:58:03.684Z"
   },
   {
    "duration": 14,
    "start_time": "2024-01-18T09:58:07.644Z"
   },
   {
    "duration": 12,
    "start_time": "2024-01-18T09:58:39.497Z"
   },
   {
    "duration": 14,
    "start_time": "2024-01-18T09:58:47.846Z"
   },
   {
    "duration": 12,
    "start_time": "2024-01-18T09:58:48.710Z"
   },
   {
    "duration": 14,
    "start_time": "2024-01-18T09:59:19.148Z"
   },
   {
    "duration": 10,
    "start_time": "2024-01-18T09:59:23.681Z"
   },
   {
    "duration": 14,
    "start_time": "2024-01-18T09:59:29.452Z"
   },
   {
    "duration": 12,
    "start_time": "2024-01-18T09:59:45.375Z"
   },
   {
    "duration": 957,
    "start_time": "2024-01-18T09:59:53.445Z"
   },
   {
    "duration": 37,
    "start_time": "2024-01-18T10:00:10.515Z"
   },
   {
    "duration": 14,
    "start_time": "2024-01-18T10:00:22.138Z"
   },
   {
    "duration": 10,
    "start_time": "2024-01-18T10:00:32.769Z"
   },
   {
    "duration": 5,
    "start_time": "2024-01-18T10:00:37.697Z"
   },
   {
    "duration": 12,
    "start_time": "2024-01-18T10:00:39.393Z"
   },
   {
    "duration": 14,
    "start_time": "2024-01-18T10:00:48.491Z"
   },
   {
    "duration": 13,
    "start_time": "2024-01-18T10:00:49.290Z"
   },
   {
    "duration": 38,
    "start_time": "2024-01-18T10:02:10.571Z"
   },
   {
    "duration": 20,
    "start_time": "2024-01-18T10:02:38.101Z"
   },
   {
    "duration": 9,
    "start_time": "2024-01-18T10:02:39.713Z"
   },
   {
    "duration": 7,
    "start_time": "2024-01-18T10:02:54.667Z"
   },
   {
    "duration": 7,
    "start_time": "2024-01-18T10:03:14.254Z"
   },
   {
    "duration": 14,
    "start_time": "2024-01-18T10:03:20.719Z"
   },
   {
    "duration": 36,
    "start_time": "2024-01-18T10:04:22.377Z"
   },
   {
    "duration": 18,
    "start_time": "2024-01-18T10:04:26.216Z"
   },
   {
    "duration": 13,
    "start_time": "2024-01-18T10:04:27.310Z"
   },
   {
    "duration": 26,
    "start_time": "2024-01-18T10:04:56.736Z"
   },
   {
    "duration": 25,
    "start_time": "2024-01-18T10:06:20.214Z"
   },
   {
    "duration": 1303,
    "start_time": "2024-01-18T10:08:37.535Z"
   },
   {
    "duration": 1322,
    "start_time": "2024-01-18T10:08:45.969Z"
   },
   {
    "duration": 6,
    "start_time": "2024-01-18T10:08:49.262Z"
   },
   {
    "duration": 29,
    "start_time": "2024-01-18T10:09:04.428Z"
   },
   {
    "duration": 10,
    "start_time": "2024-01-18T10:11:52.192Z"
   },
   {
    "duration": 10,
    "start_time": "2024-01-18T10:12:06.088Z"
   },
   {
    "duration": 20,
    "start_time": "2024-01-18T10:13:32.268Z"
   },
   {
    "duration": 12,
    "start_time": "2024-01-18T10:13:35.298Z"
   },
   {
    "duration": 11,
    "start_time": "2024-01-18T10:13:42.473Z"
   },
   {
    "duration": 11,
    "start_time": "2024-01-18T10:18:53.878Z"
   },
   {
    "duration": 18,
    "start_time": "2024-01-18T10:19:44.512Z"
   },
   {
    "duration": 10,
    "start_time": "2024-01-18T10:20:57.079Z"
   },
   {
    "duration": 15,
    "start_time": "2024-01-18T10:23:13.255Z"
   },
   {
    "duration": 12,
    "start_time": "2024-01-18T10:23:29.714Z"
   },
   {
    "duration": 13,
    "start_time": "2024-01-18T10:23:53.315Z"
   },
   {
    "duration": 10,
    "start_time": "2024-01-18T10:25:05.930Z"
   },
   {
    "duration": 14,
    "start_time": "2024-01-18T10:25:42.353Z"
   },
   {
    "duration": 8,
    "start_time": "2024-01-18T10:26:32.327Z"
   },
   {
    "duration": 8,
    "start_time": "2024-01-18T10:26:35.991Z"
   },
   {
    "duration": 13,
    "start_time": "2024-01-18T10:26:51.243Z"
   },
   {
    "duration": 9,
    "start_time": "2024-01-18T10:28:18.120Z"
   },
   {
    "duration": 7,
    "start_time": "2024-01-18T10:28:50.319Z"
   },
   {
    "duration": 8,
    "start_time": "2024-01-18T10:28:58.218Z"
   },
   {
    "duration": 6,
    "start_time": "2024-01-18T10:29:04.384Z"
   },
   {
    "duration": 6,
    "start_time": "2024-01-18T10:29:08.535Z"
   },
   {
    "duration": 7,
    "start_time": "2024-01-18T10:29:13.053Z"
   },
   {
    "duration": 7,
    "start_time": "2024-01-18T10:29:16.258Z"
   },
   {
    "duration": 8,
    "start_time": "2024-01-18T10:29:30.346Z"
   },
   {
    "duration": 7,
    "start_time": "2024-01-18T10:29:38.818Z"
   },
   {
    "duration": 8,
    "start_time": "2024-01-18T10:30:07.855Z"
   },
   {
    "duration": 10,
    "start_time": "2024-01-18T10:30:49.442Z"
   },
   {
    "duration": 7,
    "start_time": "2024-01-18T10:31:24.111Z"
   },
   {
    "duration": 6,
    "start_time": "2024-01-18T10:31:28.205Z"
   },
   {
    "duration": 13,
    "start_time": "2024-01-18T10:32:04.127Z"
   },
   {
    "duration": 73,
    "start_time": "2024-01-18T10:32:27.384Z"
   },
   {
    "duration": 7,
    "start_time": "2024-01-18T10:32:30.280Z"
   },
   {
    "duration": 11,
    "start_time": "2024-01-18T10:32:32.891Z"
   },
   {
    "duration": 13,
    "start_time": "2024-01-18T10:34:02.103Z"
   },
   {
    "duration": 9,
    "start_time": "2024-01-18T10:34:42.582Z"
   },
   {
    "duration": 11,
    "start_time": "2024-01-18T10:34:54.809Z"
   },
   {
    "duration": 10,
    "start_time": "2024-01-18T10:35:03.063Z"
   },
   {
    "duration": 10,
    "start_time": "2024-01-18T10:35:15.843Z"
   },
   {
    "duration": 9,
    "start_time": "2024-01-18T10:35:19.319Z"
   },
   {
    "duration": 10,
    "start_time": "2024-01-18T10:35:22.439Z"
   },
   {
    "duration": 10,
    "start_time": "2024-01-18T10:35:25.165Z"
   },
   {
    "duration": 10,
    "start_time": "2024-01-18T10:35:28.539Z"
   },
   {
    "duration": 12,
    "start_time": "2024-01-18T10:35:32.853Z"
   },
   {
    "duration": 12,
    "start_time": "2024-01-18T10:35:38.674Z"
   },
   {
    "duration": 11,
    "start_time": "2024-01-18T10:36:03.240Z"
   },
   {
    "duration": 10,
    "start_time": "2024-01-18T10:36:18.875Z"
   },
   {
    "duration": 8,
    "start_time": "2024-01-18T10:36:23.578Z"
   },
   {
    "duration": 10,
    "start_time": "2024-01-18T10:36:38.955Z"
   },
   {
    "duration": 9,
    "start_time": "2024-01-18T10:36:46.266Z"
   },
   {
    "duration": 9,
    "start_time": "2024-01-18T10:36:49.931Z"
   },
   {
    "duration": 10,
    "start_time": "2024-01-18T10:36:57.001Z"
   },
   {
    "duration": 13,
    "start_time": "2024-01-18T10:37:00.803Z"
   },
   {
    "duration": 17,
    "start_time": "2024-01-18T10:37:12.077Z"
   },
   {
    "duration": 18,
    "start_time": "2024-01-18T10:37:21.707Z"
   },
   {
    "duration": 11,
    "start_time": "2024-01-18T10:37:31.696Z"
   },
   {
    "duration": 9,
    "start_time": "2024-01-18T10:37:39.999Z"
   },
   {
    "duration": 11,
    "start_time": "2024-01-18T10:39:04.500Z"
   },
   {
    "duration": 15,
    "start_time": "2024-01-18T10:39:28.044Z"
   },
   {
    "duration": 12,
    "start_time": "2024-01-18T10:39:52.572Z"
   },
   {
    "duration": 5,
    "start_time": "2024-01-18T10:39:56.743Z"
   },
   {
    "duration": 11,
    "start_time": "2024-01-18T10:40:04.670Z"
   },
   {
    "duration": 11,
    "start_time": "2024-01-18T10:40:16.259Z"
   },
   {
    "duration": 6,
    "start_time": "2024-01-18T10:40:41.492Z"
   },
   {
    "duration": 8,
    "start_time": "2024-01-18T10:40:50.387Z"
   },
   {
    "duration": 8,
    "start_time": "2024-01-18T10:40:56.843Z"
   },
   {
    "duration": 6,
    "start_time": "2024-01-18T10:41:03.253Z"
   },
   {
    "duration": 7,
    "start_time": "2024-01-18T10:41:35.034Z"
   },
   {
    "duration": 20,
    "start_time": "2024-01-18T10:42:33.820Z"
   },
   {
    "duration": 12,
    "start_time": "2024-01-18T10:43:32.579Z"
   },
   {
    "duration": 10,
    "start_time": "2024-01-18T10:43:37.871Z"
   },
   {
    "duration": 7,
    "start_time": "2024-01-18T10:43:41.261Z"
   },
   {
    "duration": 13,
    "start_time": "2024-01-18T10:43:43.167Z"
   },
   {
    "duration": 7,
    "start_time": "2024-01-18T10:43:58.762Z"
   },
   {
    "duration": 818,
    "start_time": "2024-01-19T12:00:08.258Z"
   },
   {
    "duration": 533,
    "start_time": "2024-01-19T12:00:09.078Z"
   },
   {
    "duration": 4,
    "start_time": "2024-01-19T12:00:09.612Z"
   },
   {
    "duration": 63,
    "start_time": "2024-01-19T12:00:09.618Z"
   },
   {
    "duration": 132,
    "start_time": "2024-01-19T12:00:09.683Z"
   },
   {
    "duration": 32,
    "start_time": "2024-01-19T12:00:09.818Z"
   },
   {
    "duration": 137,
    "start_time": "2024-01-19T12:00:09.852Z"
   },
   {
    "duration": 12,
    "start_time": "2024-01-19T12:00:09.991Z"
   },
   {
    "duration": 52,
    "start_time": "2024-01-19T12:00:10.004Z"
   },
   {
    "duration": 20,
    "start_time": "2024-01-19T12:00:10.059Z"
   },
   {
    "duration": 27,
    "start_time": "2024-01-19T12:00:10.081Z"
   },
   {
    "duration": 17,
    "start_time": "2024-01-19T12:00:10.109Z"
   },
   {
    "duration": 35,
    "start_time": "2024-01-19T12:00:10.127Z"
   },
   {
    "duration": 18,
    "start_time": "2024-01-19T12:00:10.164Z"
   },
   {
    "duration": 51,
    "start_time": "2024-01-19T12:00:10.184Z"
   },
   {
    "duration": 40,
    "start_time": "2024-01-19T12:00:10.236Z"
   },
   {
    "duration": 33,
    "start_time": "2024-01-19T12:00:10.278Z"
   },
   {
    "duration": 9,
    "start_time": "2024-01-19T12:00:10.312Z"
   },
   {
    "duration": 17,
    "start_time": "2024-01-19T12:00:10.322Z"
   },
   {
    "duration": 24,
    "start_time": "2024-01-19T12:00:10.341Z"
   },
   {
    "duration": 27,
    "start_time": "2024-01-19T12:00:10.367Z"
   },
   {
    "duration": 9,
    "start_time": "2024-01-19T12:00:10.396Z"
   },
   {
    "duration": 19,
    "start_time": "2024-01-19T12:00:10.406Z"
   },
   {
    "duration": 23,
    "start_time": "2024-01-19T12:00:10.427Z"
   },
   {
    "duration": 15,
    "start_time": "2024-01-19T12:00:10.452Z"
   },
   {
    "duration": 20,
    "start_time": "2024-01-19T12:00:10.468Z"
   },
   {
    "duration": 5,
    "start_time": "2024-01-19T12:00:10.490Z"
   },
   {
    "duration": 9,
    "start_time": "2024-01-19T12:00:10.498Z"
   },
   {
    "duration": 6,
    "start_time": "2024-01-19T12:00:10.509Z"
   },
   {
    "duration": 588,
    "start_time": "2024-01-19T12:01:50.571Z"
   },
   {
    "duration": 189,
    "start_time": "2024-01-19T12:01:51.161Z"
   },
   {
    "duration": 3,
    "start_time": "2024-01-19T12:01:51.351Z"
   },
   {
    "duration": 23,
    "start_time": "2024-01-19T12:01:51.357Z"
   },
   {
    "duration": 75,
    "start_time": "2024-01-19T12:01:51.382Z"
   },
   {
    "duration": 12,
    "start_time": "2024-01-19T12:01:51.459Z"
   },
   {
    "duration": 25,
    "start_time": "2024-01-19T12:01:51.472Z"
   },
   {
    "duration": 10,
    "start_time": "2024-01-19T12:01:51.499Z"
   },
   {
    "duration": 22,
    "start_time": "2024-01-19T12:01:51.511Z"
   },
   {
    "duration": 10,
    "start_time": "2024-01-19T12:01:51.544Z"
   },
   {
    "duration": 60,
    "start_time": "2024-01-19T12:01:51.555Z"
   },
   {
    "duration": 52,
    "start_time": "2024-01-19T12:01:51.617Z"
   },
   {
    "duration": 38,
    "start_time": "2024-01-19T12:01:51.670Z"
   },
   {
    "duration": 18,
    "start_time": "2024-01-19T12:01:51.709Z"
   },
   {
    "duration": 35,
    "start_time": "2024-01-19T12:01:51.728Z"
   },
   {
    "duration": 44,
    "start_time": "2024-01-19T12:01:51.764Z"
   },
   {
    "duration": 87,
    "start_time": "2024-01-19T12:01:51.810Z"
   },
   {
    "duration": 8,
    "start_time": "2024-01-19T12:01:51.898Z"
   },
   {
    "duration": 11,
    "start_time": "2024-01-19T12:01:51.908Z"
   },
   {
    "duration": 18,
    "start_time": "2024-01-19T12:01:51.920Z"
   },
   {
    "duration": 21,
    "start_time": "2024-01-19T12:01:51.939Z"
   },
   {
    "duration": 18,
    "start_time": "2024-01-19T12:01:51.961Z"
   },
   {
    "duration": 22,
    "start_time": "2024-01-19T12:01:51.980Z"
   },
   {
    "duration": 9,
    "start_time": "2024-01-19T12:01:52.004Z"
   },
   {
    "duration": 14,
    "start_time": "2024-01-19T12:01:52.015Z"
   },
   {
    "duration": 26,
    "start_time": "2024-01-19T12:01:52.030Z"
   },
   {
    "duration": 89,
    "start_time": "2024-01-19T12:01:52.058Z"
   },
   {
    "duration": 12,
    "start_time": "2024-01-19T12:01:52.151Z"
   },
   {
    "duration": 31,
    "start_time": "2024-01-19T12:01:52.165Z"
   },
   {
    "duration": 18,
    "start_time": "2024-01-19T12:01:52.197Z"
   },
   {
    "duration": 9,
    "start_time": "2024-01-19T12:02:18.842Z"
   },
   {
    "duration": 10,
    "start_time": "2024-01-19T12:04:34.794Z"
   },
   {
    "duration": 8,
    "start_time": "2024-01-19T12:04:41.367Z"
   },
   {
    "duration": 8,
    "start_time": "2024-01-19T12:04:44.856Z"
   },
   {
    "duration": 13,
    "start_time": "2024-01-19T12:04:48.307Z"
   },
   {
    "duration": 9,
    "start_time": "2024-01-19T12:08:01.190Z"
   },
   {
    "duration": 11,
    "start_time": "2024-01-19T12:08:07.043Z"
   },
   {
    "duration": 12,
    "start_time": "2024-01-19T12:08:20.161Z"
   },
   {
    "duration": 9,
    "start_time": "2024-01-19T12:08:46.433Z"
   },
   {
    "duration": 12,
    "start_time": "2024-01-19T12:08:53.417Z"
   },
   {
    "duration": 12,
    "start_time": "2024-01-19T12:09:07.185Z"
   },
   {
    "duration": 14,
    "start_time": "2024-01-19T12:09:58.870Z"
   },
   {
    "duration": 19,
    "start_time": "2024-01-19T12:10:02.825Z"
   },
   {
    "duration": 7,
    "start_time": "2024-01-19T12:10:17.373Z"
   },
   {
    "duration": 20,
    "start_time": "2024-01-19T12:11:04.035Z"
   },
   {
    "duration": 10,
    "start_time": "2024-01-19T12:11:15.001Z"
   },
   {
    "duration": 9,
    "start_time": "2024-01-19T12:11:19.491Z"
   },
   {
    "duration": 8,
    "start_time": "2024-01-19T12:11:21.426Z"
   },
   {
    "duration": 15,
    "start_time": "2024-01-19T12:11:31.620Z"
   },
   {
    "duration": 694,
    "start_time": "2024-01-19T12:11:43.411Z"
   },
   {
    "duration": 191,
    "start_time": "2024-01-19T12:11:44.107Z"
   },
   {
    "duration": 2,
    "start_time": "2024-01-19T12:11:44.300Z"
   },
   {
    "duration": 7,
    "start_time": "2024-01-19T12:11:44.304Z"
   },
   {
    "duration": 73,
    "start_time": "2024-01-19T12:11:44.312Z"
   },
   {
    "duration": 12,
    "start_time": "2024-01-19T12:11:44.386Z"
   },
   {
    "duration": 25,
    "start_time": "2024-01-19T12:11:44.399Z"
   },
   {
    "duration": 25,
    "start_time": "2024-01-19T12:11:44.426Z"
   },
   {
    "duration": 11,
    "start_time": "2024-01-19T12:11:44.453Z"
   },
   {
    "duration": 11,
    "start_time": "2024-01-19T12:11:44.466Z"
   },
   {
    "duration": 10,
    "start_time": "2024-01-19T12:11:44.478Z"
   },
   {
    "duration": 13,
    "start_time": "2024-01-19T12:11:44.489Z"
   },
   {
    "duration": 37,
    "start_time": "2024-01-19T12:11:44.503Z"
   },
   {
    "duration": 5,
    "start_time": "2024-01-19T12:11:44.545Z"
   },
   {
    "duration": 20,
    "start_time": "2024-01-19T12:11:44.551Z"
   },
   {
    "duration": 16,
    "start_time": "2024-01-19T12:11:44.572Z"
   },
   {
    "duration": 23,
    "start_time": "2024-01-19T12:11:44.590Z"
   },
   {
    "duration": 36,
    "start_time": "2024-01-19T12:11:44.614Z"
   },
   {
    "duration": 21,
    "start_time": "2024-01-19T12:11:44.651Z"
   },
   {
    "duration": 13,
    "start_time": "2024-01-19T12:11:44.674Z"
   },
   {
    "duration": 12,
    "start_time": "2024-01-19T12:11:44.689Z"
   },
   {
    "duration": 7,
    "start_time": "2024-01-19T12:11:44.703Z"
   },
   {
    "duration": 9,
    "start_time": "2024-01-19T12:11:44.711Z"
   },
   {
    "duration": 7,
    "start_time": "2024-01-19T12:11:44.744Z"
   },
   {
    "duration": 10,
    "start_time": "2024-01-19T12:11:44.752Z"
   },
   {
    "duration": 16,
    "start_time": "2024-01-19T12:11:44.763Z"
   },
   {
    "duration": 13,
    "start_time": "2024-01-19T12:11:44.781Z"
   },
   {
    "duration": 18,
    "start_time": "2024-01-19T12:11:44.797Z"
   },
   {
    "duration": 4,
    "start_time": "2024-01-19T12:11:44.816Z"
   },
   {
    "duration": 2,
    "start_time": "2024-01-19T12:11:44.845Z"
   },
   {
    "duration": 16,
    "start_time": "2024-01-19T12:11:44.849Z"
   },
   {
    "duration": 11,
    "start_time": "2024-01-19T12:13:01.001Z"
   },
   {
    "duration": 14,
    "start_time": "2024-01-19T12:13:07.191Z"
   },
   {
    "duration": 6,
    "start_time": "2024-01-19T12:13:52.673Z"
   },
   {
    "duration": 7,
    "start_time": "2024-01-19T12:13:57.239Z"
   },
   {
    "duration": 6,
    "start_time": "2024-01-19T12:17:33.184Z"
   },
   {
    "duration": 10,
    "start_time": "2024-01-19T12:17:38.839Z"
   },
   {
    "duration": 13,
    "start_time": "2024-01-19T12:17:46.625Z"
   },
   {
    "duration": 18,
    "start_time": "2024-01-19T12:25:26.262Z"
   },
   {
    "duration": 7,
    "start_time": "2024-01-19T12:26:27.514Z"
   },
   {
    "duration": 6,
    "start_time": "2024-01-19T12:26:47.590Z"
   },
   {
    "duration": 9,
    "start_time": "2024-01-19T12:37:16.476Z"
   },
   {
    "duration": 7,
    "start_time": "2024-01-19T12:37:43.636Z"
   },
   {
    "duration": 10,
    "start_time": "2024-01-19T12:37:46.941Z"
   },
   {
    "duration": 11,
    "start_time": "2024-01-19T12:38:11.374Z"
   },
   {
    "duration": 9,
    "start_time": "2024-01-19T12:38:22.965Z"
   },
   {
    "duration": 5,
    "start_time": "2024-01-19T12:38:38.836Z"
   },
   {
    "duration": 9,
    "start_time": "2024-01-19T12:38:43.468Z"
   },
   {
    "duration": 9,
    "start_time": "2024-01-19T12:38:57.861Z"
   },
   {
    "duration": 7,
    "start_time": "2024-01-19T12:39:08.908Z"
   },
   {
    "duration": 7,
    "start_time": "2024-01-19T12:39:38.006Z"
   },
   {
    "duration": 3,
    "start_time": "2024-01-19T12:39:42.040Z"
   },
   {
    "duration": 5,
    "start_time": "2024-01-19T12:39:42.887Z"
   },
   {
    "duration": 1177,
    "start_time": "2024-01-19T12:39:45.283Z"
   },
   {
    "duration": 997,
    "start_time": "2024-01-19T12:39:50.964Z"
   },
   {
    "duration": 5,
    "start_time": "2024-01-19T12:39:59.242Z"
   },
   {
    "duration": 8,
    "start_time": "2024-01-19T12:40:01.431Z"
   },
   {
    "duration": 6,
    "start_time": "2024-01-19T12:40:03.476Z"
   },
   {
    "duration": 3,
    "start_time": "2024-01-19T12:40:07.942Z"
   },
   {
    "duration": 5,
    "start_time": "2024-01-19T12:40:11.092Z"
   },
   {
    "duration": 11,
    "start_time": "2024-01-19T12:40:43.215Z"
   },
   {
    "duration": 5,
    "start_time": "2024-01-19T12:40:51.956Z"
   },
   {
    "duration": 4,
    "start_time": "2024-01-19T12:41:09.268Z"
   },
   {
    "duration": 10,
    "start_time": "2024-01-19T12:41:14.492Z"
   },
   {
    "duration": 9,
    "start_time": "2024-01-19T12:41:38.466Z"
   },
   {
    "duration": 14,
    "start_time": "2024-01-19T12:45:54.818Z"
   },
   {
    "duration": 13,
    "start_time": "2024-01-19T12:45:58.227Z"
   },
   {
    "duration": 10,
    "start_time": "2024-01-19T12:46:01.712Z"
   },
   {
    "duration": 8,
    "start_time": "2024-01-19T12:46:12.730Z"
   },
   {
    "duration": 5,
    "start_time": "2024-01-19T12:46:23.191Z"
   },
   {
    "duration": 6,
    "start_time": "2024-01-19T12:46:25.367Z"
   },
   {
    "duration": 6,
    "start_time": "2024-01-19T12:46:29.984Z"
   },
   {
    "duration": 6,
    "start_time": "2024-01-19T12:46:44.528Z"
   },
   {
    "duration": 5,
    "start_time": "2024-01-19T12:46:58.170Z"
   },
   {
    "duration": 5,
    "start_time": "2024-01-19T12:47:07.934Z"
   },
   {
    "duration": 8,
    "start_time": "2024-01-19T12:48:11.508Z"
   },
   {
    "duration": 17,
    "start_time": "2024-01-19T12:48:27.178Z"
   },
   {
    "duration": 13,
    "start_time": "2024-01-19T12:48:29.519Z"
   },
   {
    "duration": 14,
    "start_time": "2024-01-19T12:49:30.077Z"
   },
   {
    "duration": 10,
    "start_time": "2024-01-19T12:49:45.142Z"
   },
   {
    "duration": 7,
    "start_time": "2024-01-19T12:50:10.430Z"
   },
   {
    "duration": 13,
    "start_time": "2024-01-19T12:50:13.586Z"
   },
   {
    "duration": 18,
    "start_time": "2024-01-19T12:50:42.479Z"
   },
   {
    "duration": 18,
    "start_time": "2024-01-19T12:50:44.631Z"
   },
   {
    "duration": 14,
    "start_time": "2024-01-19T12:50:51.974Z"
   },
   {
    "duration": 666,
    "start_time": "2024-01-19T12:50:58.625Z"
   },
   {
    "duration": 192,
    "start_time": "2024-01-19T12:50:59.292Z"
   },
   {
    "duration": 3,
    "start_time": "2024-01-19T12:50:59.486Z"
   },
   {
    "duration": 6,
    "start_time": "2024-01-19T12:50:59.491Z"
   },
   {
    "duration": 67,
    "start_time": "2024-01-19T12:50:59.499Z"
   },
   {
    "duration": 11,
    "start_time": "2024-01-19T12:50:59.568Z"
   },
   {
    "duration": 28,
    "start_time": "2024-01-19T12:50:59.580Z"
   },
   {
    "duration": 18,
    "start_time": "2024-01-19T12:50:59.610Z"
   },
   {
    "duration": 22,
    "start_time": "2024-01-19T12:50:59.630Z"
   },
   {
    "duration": 16,
    "start_time": "2024-01-19T12:50:59.655Z"
   },
   {
    "duration": 12,
    "start_time": "2024-01-19T12:50:59.672Z"
   },
   {
    "duration": 10,
    "start_time": "2024-01-19T12:50:59.685Z"
   },
   {
    "duration": 19,
    "start_time": "2024-01-19T12:50:59.696Z"
   },
   {
    "duration": 34,
    "start_time": "2024-01-19T12:50:59.717Z"
   },
   {
    "duration": 12,
    "start_time": "2024-01-19T12:50:59.753Z"
   },
   {
    "duration": 18,
    "start_time": "2024-01-19T12:50:59.766Z"
   },
   {
    "duration": 17,
    "start_time": "2024-01-19T12:50:59.786Z"
   },
   {
    "duration": 51,
    "start_time": "2024-01-19T12:50:59.805Z"
   },
   {
    "duration": 12,
    "start_time": "2024-01-19T12:50:59.858Z"
   },
   {
    "duration": 13,
    "start_time": "2024-01-19T12:50:59.872Z"
   },
   {
    "duration": 20,
    "start_time": "2024-01-19T12:50:59.887Z"
   },
   {
    "duration": 36,
    "start_time": "2024-01-19T12:50:59.909Z"
   },
   {
    "duration": 9,
    "start_time": "2024-01-19T12:50:59.947Z"
   },
   {
    "duration": 17,
    "start_time": "2024-01-19T12:50:59.958Z"
   },
   {
    "duration": 7,
    "start_time": "2024-01-19T12:50:59.977Z"
   },
   {
    "duration": 8,
    "start_time": "2024-01-19T12:50:59.986Z"
   },
   {
    "duration": 19,
    "start_time": "2024-01-19T12:50:59.996Z"
   },
   {
    "duration": 19,
    "start_time": "2024-01-19T12:51:00.045Z"
   },
   {
    "duration": 85,
    "start_time": "2024-01-19T12:51:00.066Z"
   },
   {
    "duration": 43,
    "start_time": "2024-01-19T12:51:00.153Z"
   },
   {
    "duration": 83,
    "start_time": "2024-01-19T12:51:00.198Z"
   },
   {
    "duration": 36,
    "start_time": "2024-01-19T12:51:00.283Z"
   },
   {
    "duration": 293,
    "start_time": "2024-01-19T12:51:00.321Z"
   },
   {
    "duration": 14,
    "start_time": "2024-01-19T12:51:26.602Z"
   },
   {
    "duration": 12,
    "start_time": "2024-01-19T12:51:29.008Z"
   },
   {
    "duration": 11,
    "start_time": "2024-01-19T12:51:41.053Z"
   },
   {
    "duration": 17,
    "start_time": "2024-01-19T12:52:12.454Z"
   },
   {
    "duration": 15,
    "start_time": "2024-01-19T12:52:14.479Z"
   },
   {
    "duration": 7,
    "start_time": "2024-01-19T12:52:20.919Z"
   },
   {
    "duration": 11,
    "start_time": "2024-01-19T12:52:22.745Z"
   },
   {
    "duration": 615,
    "start_time": "2024-01-19T12:52:36.403Z"
   },
   {
    "duration": 204,
    "start_time": "2024-01-19T12:52:37.019Z"
   },
   {
    "duration": 4,
    "start_time": "2024-01-19T12:52:37.224Z"
   },
   {
    "duration": 12,
    "start_time": "2024-01-19T12:52:37.230Z"
   },
   {
    "duration": 116,
    "start_time": "2024-01-19T12:52:37.244Z"
   },
   {
    "duration": 18,
    "start_time": "2024-01-19T12:52:37.362Z"
   },
   {
    "duration": 15,
    "start_time": "2024-01-19T12:52:37.381Z"
   },
   {
    "duration": 22,
    "start_time": "2024-01-19T12:52:37.397Z"
   },
   {
    "duration": 26,
    "start_time": "2024-01-19T12:52:37.421Z"
   },
   {
    "duration": 18,
    "start_time": "2024-01-19T12:52:37.450Z"
   },
   {
    "duration": 6,
    "start_time": "2024-01-19T12:52:37.470Z"
   },
   {
    "duration": 17,
    "start_time": "2024-01-19T12:52:37.477Z"
   },
   {
    "duration": 42,
    "start_time": "2024-01-19T12:52:37.496Z"
   },
   {
    "duration": 36,
    "start_time": "2024-01-19T12:52:37.540Z"
   },
   {
    "duration": 11,
    "start_time": "2024-01-19T12:52:37.577Z"
   },
   {
    "duration": 34,
    "start_time": "2024-01-19T12:52:37.589Z"
   },
   {
    "duration": 25,
    "start_time": "2024-01-19T12:52:37.625Z"
   },
   {
    "duration": 39,
    "start_time": "2024-01-19T12:52:37.652Z"
   },
   {
    "duration": 77,
    "start_time": "2024-01-19T12:52:37.693Z"
   },
   {
    "duration": 25,
    "start_time": "2024-01-19T12:52:37.771Z"
   },
   {
    "duration": 19,
    "start_time": "2024-01-19T12:52:37.798Z"
   },
   {
    "duration": 34,
    "start_time": "2024-01-19T12:52:37.819Z"
   },
   {
    "duration": 10,
    "start_time": "2024-01-19T12:52:37.855Z"
   },
   {
    "duration": 17,
    "start_time": "2024-01-19T12:52:37.867Z"
   },
   {
    "duration": 9,
    "start_time": "2024-01-19T12:52:37.886Z"
   },
   {
    "duration": 12,
    "start_time": "2024-01-19T12:52:37.897Z"
   },
   {
    "duration": 7,
    "start_time": "2024-01-19T12:52:37.911Z"
   },
   {
    "duration": 30,
    "start_time": "2024-01-19T12:52:37.921Z"
   },
   {
    "duration": 16,
    "start_time": "2024-01-19T12:52:37.955Z"
   },
   {
    "duration": 32,
    "start_time": "2024-01-19T12:52:37.972Z"
   },
   {
    "duration": 20,
    "start_time": "2024-01-19T12:52:38.005Z"
   },
   {
    "duration": 18,
    "start_time": "2024-01-19T12:52:38.027Z"
   },
   {
    "duration": 21,
    "start_time": "2024-01-19T12:52:38.047Z"
   },
   {
    "duration": 10,
    "start_time": "2024-01-19T12:53:39.182Z"
   },
   {
    "duration": 18,
    "start_time": "2024-01-19T12:54:04.361Z"
   },
   {
    "duration": 8,
    "start_time": "2024-01-19T12:54:24.435Z"
   },
   {
    "duration": 3,
    "start_time": "2024-01-19T12:54:43.221Z"
   },
   {
    "duration": 13,
    "start_time": "2024-01-19T12:55:10.590Z"
   },
   {
    "duration": 6,
    "start_time": "2024-01-19T12:55:16.795Z"
   },
   {
    "duration": 671,
    "start_time": "2024-01-19T12:55:26.208Z"
   },
   {
    "duration": 193,
    "start_time": "2024-01-19T12:55:26.880Z"
   },
   {
    "duration": 3,
    "start_time": "2024-01-19T12:55:27.075Z"
   },
   {
    "duration": 52,
    "start_time": "2024-01-19T12:55:27.080Z"
   },
   {
    "duration": 123,
    "start_time": "2024-01-19T12:55:27.134Z"
   },
   {
    "duration": 188,
    "start_time": "2024-01-19T12:55:27.259Z"
   },
   {
    "duration": 94,
    "start_time": "2024-01-19T12:55:27.448Z"
   },
   {
    "duration": 56,
    "start_time": "2024-01-19T12:55:27.544Z"
   },
   {
    "duration": 34,
    "start_time": "2024-01-19T12:55:27.602Z"
   },
   {
    "duration": 57,
    "start_time": "2024-01-19T12:55:27.641Z"
   },
   {
    "duration": 32,
    "start_time": "2024-01-19T12:55:27.699Z"
   },
   {
    "duration": 129,
    "start_time": "2024-01-19T12:55:27.732Z"
   },
   {
    "duration": 54,
    "start_time": "2024-01-19T12:55:27.862Z"
   },
   {
    "duration": 48,
    "start_time": "2024-01-19T12:55:27.917Z"
   },
   {
    "duration": 44,
    "start_time": "2024-01-19T12:55:27.967Z"
   },
   {
    "duration": 56,
    "start_time": "2024-01-19T12:55:28.013Z"
   },
   {
    "duration": 37,
    "start_time": "2024-01-19T12:55:28.071Z"
   },
   {
    "duration": 71,
    "start_time": "2024-01-19T12:55:28.111Z"
   },
   {
    "duration": 19,
    "start_time": "2024-01-19T12:55:28.184Z"
   },
   {
    "duration": 30,
    "start_time": "2024-01-19T12:55:28.205Z"
   },
   {
    "duration": 27,
    "start_time": "2024-01-19T12:55:28.237Z"
   },
   {
    "duration": 32,
    "start_time": "2024-01-19T12:55:28.266Z"
   },
   {
    "duration": 17,
    "start_time": "2024-01-19T12:55:28.300Z"
   },
   {
    "duration": 31,
    "start_time": "2024-01-19T12:55:28.320Z"
   },
   {
    "duration": 27,
    "start_time": "2024-01-19T12:55:28.353Z"
   },
   {
    "duration": 63,
    "start_time": "2024-01-19T12:55:28.382Z"
   },
   {
    "duration": 40,
    "start_time": "2024-01-19T12:55:28.447Z"
   },
   {
    "duration": 19,
    "start_time": "2024-01-19T12:55:28.491Z"
   },
   {
    "duration": 42,
    "start_time": "2024-01-19T12:55:28.512Z"
   },
   {
    "duration": 21,
    "start_time": "2024-01-19T12:55:28.556Z"
   },
   {
    "duration": 24,
    "start_time": "2024-01-19T12:55:28.579Z"
   },
   {
    "duration": 31,
    "start_time": "2024-01-19T12:55:28.605Z"
   },
   {
    "duration": 21,
    "start_time": "2024-01-19T12:55:28.637Z"
   },
   {
    "duration": 27,
    "start_time": "2024-01-19T12:55:28.660Z"
   },
   {
    "duration": 31,
    "start_time": "2024-01-19T12:55:28.689Z"
   },
   {
    "duration": 103,
    "start_time": "2024-01-19T12:55:28.722Z"
   },
   {
    "duration": 53,
    "start_time": "2024-01-19T12:55:28.827Z"
   },
   {
    "duration": 11,
    "start_time": "2024-01-19T12:56:39.955Z"
   },
   {
    "duration": 14,
    "start_time": "2024-01-19T12:59:18.029Z"
   },
   {
    "duration": 12,
    "start_time": "2024-01-19T13:03:19.017Z"
   },
   {
    "duration": 26,
    "start_time": "2024-01-19T13:03:27.478Z"
   },
   {
    "duration": 31,
    "start_time": "2024-01-19T13:04:59.027Z"
   },
   {
    "duration": 9,
    "start_time": "2024-01-19T13:06:22.833Z"
   },
   {
    "duration": 43,
    "start_time": "2024-01-19T13:06:25.916Z"
   },
   {
    "duration": 17,
    "start_time": "2024-01-19T13:06:35.723Z"
   },
   {
    "duration": 35,
    "start_time": "2024-01-19T13:06:42.142Z"
   },
   {
    "duration": 84,
    "start_time": "2024-01-19T13:07:50.035Z"
   },
   {
    "duration": 142,
    "start_time": "2024-01-19T13:07:53.927Z"
   },
   {
    "duration": 87,
    "start_time": "2024-01-19T13:08:04.006Z"
   },
   {
    "duration": 93,
    "start_time": "2024-01-19T13:08:06.412Z"
   },
   {
    "duration": 9,
    "start_time": "2024-01-19T13:08:21.789Z"
   },
   {
    "duration": 33,
    "start_time": "2024-01-19T13:08:22.955Z"
   },
   {
    "duration": 17,
    "start_time": "2024-01-19T13:08:51.757Z"
   },
   {
    "duration": 40,
    "start_time": "2024-01-19T13:08:52.946Z"
   },
   {
    "duration": 2,
    "start_time": "2024-01-19T13:09:43.068Z"
   },
   {
    "duration": 41,
    "start_time": "2024-01-19T13:09:50.934Z"
   },
   {
    "duration": 27,
    "start_time": "2024-01-19T13:11:00.111Z"
   },
   {
    "duration": 22,
    "start_time": "2024-01-19T13:19:26.783Z"
   },
   {
    "duration": 41,
    "start_time": "2024-01-19T13:19:27.359Z"
   },
   {
    "duration": 642,
    "start_time": "2024-01-19T13:19:44.575Z"
   },
   {
    "duration": 2,
    "start_time": "2024-01-19T13:19:45.219Z"
   },
   {
    "duration": 362,
    "start_time": "2024-01-19T13:19:45.223Z"
   },
   {
    "duration": 3,
    "start_time": "2024-01-19T13:19:45.587Z"
   },
   {
    "duration": 8,
    "start_time": "2024-01-19T13:19:45.591Z"
   },
   {
    "duration": 70,
    "start_time": "2024-01-19T13:19:45.600Z"
   },
   {
    "duration": 11,
    "start_time": "2024-01-19T13:19:45.672Z"
   },
   {
    "duration": 30,
    "start_time": "2024-01-19T13:19:45.684Z"
   },
   {
    "duration": 44,
    "start_time": "2024-01-19T13:19:45.715Z"
   },
   {
    "duration": 25,
    "start_time": "2024-01-19T13:19:45.763Z"
   },
   {
    "duration": 15,
    "start_time": "2024-01-19T13:19:45.790Z"
   },
   {
    "duration": 20,
    "start_time": "2024-01-19T13:19:45.806Z"
   },
   {
    "duration": 25,
    "start_time": "2024-01-19T13:19:45.827Z"
   },
   {
    "duration": 11,
    "start_time": "2024-01-19T13:19:45.853Z"
   },
   {
    "duration": 24,
    "start_time": "2024-01-19T13:19:45.866Z"
   },
   {
    "duration": 29,
    "start_time": "2024-01-19T13:19:45.891Z"
   },
   {
    "duration": 28,
    "start_time": "2024-01-19T13:19:45.922Z"
   },
   {
    "duration": 40,
    "start_time": "2024-01-19T13:19:45.951Z"
   },
   {
    "duration": 44,
    "start_time": "2024-01-19T13:19:45.993Z"
   },
   {
    "duration": 20,
    "start_time": "2024-01-19T13:19:46.039Z"
   },
   {
    "duration": 31,
    "start_time": "2024-01-19T13:19:46.065Z"
   },
   {
    "duration": 27,
    "start_time": "2024-01-19T13:19:46.098Z"
   },
   {
    "duration": 30,
    "start_time": "2024-01-19T13:19:46.127Z"
   },
   {
    "duration": 26,
    "start_time": "2024-01-19T13:19:46.159Z"
   },
   {
    "duration": 12,
    "start_time": "2024-01-19T13:19:46.187Z"
   },
   {
    "duration": 32,
    "start_time": "2024-01-19T13:19:46.201Z"
   },
   {
    "duration": 31,
    "start_time": "2024-01-19T13:19:46.234Z"
   },
   {
    "duration": 19,
    "start_time": "2024-01-19T13:19:46.270Z"
   },
   {
    "duration": 14,
    "start_time": "2024-01-19T13:19:46.291Z"
   },
   {
    "duration": 18,
    "start_time": "2024-01-19T13:19:46.307Z"
   },
   {
    "duration": 34,
    "start_time": "2024-01-19T13:19:46.327Z"
   },
   {
    "duration": 16,
    "start_time": "2024-01-19T13:19:46.363Z"
   },
   {
    "duration": 10,
    "start_time": "2024-01-19T13:19:46.381Z"
   },
   {
    "duration": 18,
    "start_time": "2024-01-19T13:19:46.392Z"
   },
   {
    "duration": 45,
    "start_time": "2024-01-19T13:19:46.412Z"
   },
   {
    "duration": 19,
    "start_time": "2024-01-19T13:19:46.458Z"
   },
   {
    "duration": 38,
    "start_time": "2024-01-19T13:19:46.478Z"
   },
   {
    "duration": 35,
    "start_time": "2024-01-19T13:19:46.518Z"
   },
   {
    "duration": 50,
    "start_time": "2024-01-19T13:19:46.555Z"
   },
   {
    "duration": 2,
    "start_time": "2024-01-19T13:19:46.607Z"
   },
   {
    "duration": 24,
    "start_time": "2024-01-19T13:19:46.610Z"
   },
   {
    "duration": 7,
    "start_time": "2024-01-19T13:19:46.635Z"
   },
   {
    "duration": 7,
    "start_time": "2024-01-19T13:22:28.101Z"
   },
   {
    "duration": 5,
    "start_time": "2024-01-19T13:22:32.417Z"
   },
   {
    "duration": 884,
    "start_time": "2024-01-20T11:48:46.995Z"
   },
   {
    "duration": 3,
    "start_time": "2024-01-20T11:48:47.881Z"
   },
   {
    "duration": 557,
    "start_time": "2024-01-20T11:48:47.886Z"
   },
   {
    "duration": 3,
    "start_time": "2024-01-20T11:48:48.445Z"
   },
   {
    "duration": 5,
    "start_time": "2024-01-20T11:48:48.449Z"
   },
   {
    "duration": 76,
    "start_time": "2024-01-20T11:48:48.456Z"
   },
   {
    "duration": 13,
    "start_time": "2024-01-20T11:48:48.534Z"
   },
   {
    "duration": 16,
    "start_time": "2024-01-20T11:48:48.548Z"
   },
   {
    "duration": 12,
    "start_time": "2024-01-20T11:48:48.592Z"
   },
   {
    "duration": 11,
    "start_time": "2024-01-20T11:48:48.609Z"
   },
   {
    "duration": 15,
    "start_time": "2024-01-20T11:48:48.622Z"
   },
   {
    "duration": 5,
    "start_time": "2024-01-20T11:48:48.639Z"
   },
   {
    "duration": 10,
    "start_time": "2024-01-20T11:48:48.645Z"
   },
   {
    "duration": 35,
    "start_time": "2024-01-20T11:48:48.656Z"
   },
   {
    "duration": 12,
    "start_time": "2024-01-20T11:48:48.693Z"
   },
   {
    "duration": 21,
    "start_time": "2024-01-20T11:48:48.707Z"
   },
   {
    "duration": 3,
    "start_time": "2024-01-20T11:48:48.729Z"
   },
   {
    "duration": 24,
    "start_time": "2024-01-20T11:48:48.733Z"
   },
   {
    "duration": 39,
    "start_time": "2024-01-20T11:48:48.758Z"
   },
   {
    "duration": 13,
    "start_time": "2024-01-20T11:48:48.799Z"
   },
   {
    "duration": 29,
    "start_time": "2024-01-20T11:48:48.814Z"
   },
   {
    "duration": 23,
    "start_time": "2024-01-20T11:48:48.844Z"
   },
   {
    "duration": 11,
    "start_time": "2024-01-20T11:48:48.868Z"
   },
   {
    "duration": 30,
    "start_time": "2024-01-20T11:48:48.880Z"
   },
   {
    "duration": 8,
    "start_time": "2024-01-20T11:48:48.912Z"
   },
   {
    "duration": 10,
    "start_time": "2024-01-20T11:48:48.921Z"
   },
   {
    "duration": 41,
    "start_time": "2024-01-20T11:48:48.932Z"
   },
   {
    "duration": 23,
    "start_time": "2024-01-20T11:48:48.977Z"
   },
   {
    "duration": 9,
    "start_time": "2024-01-20T11:48:49.001Z"
   },
   {
    "duration": 12,
    "start_time": "2024-01-20T11:48:49.012Z"
   },
   {
    "duration": 16,
    "start_time": "2024-01-20T11:48:49.026Z"
   },
   {
    "duration": 15,
    "start_time": "2024-01-20T11:48:49.044Z"
   },
   {
    "duration": 4,
    "start_time": "2024-01-20T11:48:49.061Z"
   },
   {
    "duration": 14,
    "start_time": "2024-01-20T11:48:49.092Z"
   },
   {
    "duration": 12,
    "start_time": "2024-01-20T11:48:49.108Z"
   },
   {
    "duration": 9,
    "start_time": "2024-01-20T11:48:49.122Z"
   },
   {
    "duration": 34,
    "start_time": "2024-01-20T11:48:49.133Z"
   },
   {
    "duration": 19,
    "start_time": "2024-01-20T11:48:49.191Z"
   },
   {
    "duration": 46,
    "start_time": "2024-01-20T11:48:49.212Z"
   },
   {
    "duration": 3,
    "start_time": "2024-01-20T11:48:49.259Z"
   },
   {
    "duration": 8,
    "start_time": "2024-01-20T11:48:49.263Z"
   },
   {
    "duration": 2,
    "start_time": "2024-01-20T11:48:49.292Z"
   },
   {
    "duration": 4,
    "start_time": "2024-01-20T11:49:07.466Z"
   },
   {
    "duration": 49,
    "start_time": "2024-01-20T11:49:10.316Z"
   },
   {
    "duration": 1025,
    "start_time": "2024-01-20T11:51:56.916Z"
   },
   {
    "duration": 5,
    "start_time": "2024-01-20T11:52:01.812Z"
   },
   {
    "duration": 46,
    "start_time": "2024-01-20T11:52:04.183Z"
   },
   {
    "duration": 15,
    "start_time": "2024-01-20T11:52:21.128Z"
   },
   {
    "duration": 45,
    "start_time": "2024-01-20T11:52:30.722Z"
   },
   {
    "duration": 5,
    "start_time": "2024-01-20T11:53:31.321Z"
   },
   {
    "duration": 45,
    "start_time": "2024-01-20T11:53:33.320Z"
   },
   {
    "duration": 12,
    "start_time": "2024-01-20T11:55:56.481Z"
   },
   {
    "duration": 43,
    "start_time": "2024-01-20T11:56:22.808Z"
   },
   {
    "duration": 7,
    "start_time": "2024-01-20T11:56:43.994Z"
   },
   {
    "duration": 3,
    "start_time": "2024-01-20T11:57:23.230Z"
   },
   {
    "duration": 56,
    "start_time": "2024-01-20T11:57:25.159Z"
   },
   {
    "duration": 5,
    "start_time": "2024-01-20T11:58:02.607Z"
   },
   {
    "duration": 46,
    "start_time": "2024-01-20T11:58:05.727Z"
   },
   {
    "duration": 31,
    "start_time": "2024-01-20T11:58:10.496Z"
   },
   {
    "duration": 46,
    "start_time": "2024-01-20T11:59:57.005Z"
   },
   {
    "duration": 43,
    "start_time": "2024-01-20T12:00:09.212Z"
   },
   {
    "duration": 40,
    "start_time": "2024-01-20T12:00:17.704Z"
   },
   {
    "duration": 4,
    "start_time": "2024-01-20T12:00:23.595Z"
   },
   {
    "duration": 4,
    "start_time": "2024-01-20T12:01:06.244Z"
   },
   {
    "duration": 30,
    "start_time": "2024-01-20T12:01:13.239Z"
   },
   {
    "duration": 4,
    "start_time": "2024-01-20T12:04:04.397Z"
   },
   {
    "duration": 30,
    "start_time": "2024-01-20T12:04:08.072Z"
   },
   {
    "duration": 41,
    "start_time": "2024-01-20T12:10:43.779Z"
   },
   {
    "duration": 35,
    "start_time": "2024-01-20T12:11:31.131Z"
   },
   {
    "duration": 44,
    "start_time": "2024-01-20T12:12:04.251Z"
   },
   {
    "duration": 42,
    "start_time": "2024-01-20T12:14:26.488Z"
   },
   {
    "duration": 15,
    "start_time": "2024-01-20T12:14:34.516Z"
   },
   {
    "duration": 12,
    "start_time": "2024-01-20T12:14:36.568Z"
   },
   {
    "duration": 12,
    "start_time": "2024-01-20T12:14:39.403Z"
   },
   {
    "duration": 725,
    "start_time": "2024-01-20T12:14:54.664Z"
   },
   {
    "duration": 3,
    "start_time": "2024-01-20T12:14:55.391Z"
   },
   {
    "duration": 204,
    "start_time": "2024-01-20T12:14:55.395Z"
   },
   {
    "duration": 3,
    "start_time": "2024-01-20T12:14:55.602Z"
   },
   {
    "duration": 26,
    "start_time": "2024-01-20T12:14:55.606Z"
   },
   {
    "duration": 74,
    "start_time": "2024-01-20T12:14:55.634Z"
   },
   {
    "duration": 13,
    "start_time": "2024-01-20T12:14:55.710Z"
   },
   {
    "duration": 22,
    "start_time": "2024-01-20T12:14:55.725Z"
   },
   {
    "duration": 12,
    "start_time": "2024-01-20T12:14:55.749Z"
   },
   {
    "duration": 32,
    "start_time": "2024-01-20T12:14:55.764Z"
   },
   {
    "duration": 12,
    "start_time": "2024-01-20T12:14:55.798Z"
   },
   {
    "duration": 4,
    "start_time": "2024-01-20T12:14:55.812Z"
   },
   {
    "duration": 20,
    "start_time": "2024-01-20T12:14:55.818Z"
   },
   {
    "duration": 16,
    "start_time": "2024-01-20T12:14:55.840Z"
   },
   {
    "duration": 15,
    "start_time": "2024-01-20T12:14:55.863Z"
   },
   {
    "duration": 31,
    "start_time": "2024-01-20T12:14:55.879Z"
   },
   {
    "duration": 3,
    "start_time": "2024-01-20T12:14:55.912Z"
   },
   {
    "duration": 33,
    "start_time": "2024-01-20T12:14:55.917Z"
   },
   {
    "duration": 25,
    "start_time": "2024-01-20T12:14:55.952Z"
   },
   {
    "duration": 20,
    "start_time": "2024-01-20T12:14:55.979Z"
   },
   {
    "duration": 10,
    "start_time": "2024-01-20T12:14:56.001Z"
   },
   {
    "duration": 21,
    "start_time": "2024-01-20T12:14:56.012Z"
   },
   {
    "duration": 36,
    "start_time": "2024-01-20T12:14:56.035Z"
   },
   {
    "duration": 29,
    "start_time": "2024-01-20T12:14:56.073Z"
   },
   {
    "duration": 17,
    "start_time": "2024-01-20T12:14:56.104Z"
   },
   {
    "duration": 9,
    "start_time": "2024-01-20T12:14:56.123Z"
   },
   {
    "duration": 26,
    "start_time": "2024-01-20T12:14:56.134Z"
   },
   {
    "duration": 14,
    "start_time": "2024-01-20T12:14:56.165Z"
   },
   {
    "duration": 25,
    "start_time": "2024-01-20T12:14:56.180Z"
   },
   {
    "duration": 14,
    "start_time": "2024-01-20T12:14:56.207Z"
   },
   {
    "duration": 24,
    "start_time": "2024-01-20T12:14:56.223Z"
   },
   {
    "duration": 49,
    "start_time": "2024-01-20T12:14:56.249Z"
   },
   {
    "duration": 16,
    "start_time": "2024-01-20T12:14:56.299Z"
   },
   {
    "duration": 42,
    "start_time": "2024-01-20T12:14:56.316Z"
   },
   {
    "duration": 27,
    "start_time": "2024-01-20T12:14:56.360Z"
   },
   {
    "duration": 23,
    "start_time": "2024-01-20T12:14:56.389Z"
   },
   {
    "duration": 36,
    "start_time": "2024-01-20T12:14:56.413Z"
   },
   {
    "duration": 43,
    "start_time": "2024-01-20T12:14:56.450Z"
   },
   {
    "duration": 74,
    "start_time": "2024-01-20T12:14:56.495Z"
   },
   {
    "duration": 11,
    "start_time": "2024-01-20T12:14:56.571Z"
   },
   {
    "duration": 29,
    "start_time": "2024-01-20T12:14:56.583Z"
   },
   {
    "duration": 46,
    "start_time": "2024-01-20T12:14:56.614Z"
   },
   {
    "duration": 56,
    "start_time": "2024-01-20T12:14:56.662Z"
   },
   {
    "duration": 23,
    "start_time": "2024-01-20T12:14:56.720Z"
   },
   {
    "duration": 59,
    "start_time": "2024-01-20T12:14:56.745Z"
   },
   {
    "duration": 18,
    "start_time": "2024-01-20T12:14:56.806Z"
   },
   {
    "duration": 86,
    "start_time": "2024-01-20T12:14:56.826Z"
   },
   {
    "duration": 48,
    "start_time": "2024-01-20T12:14:56.914Z"
   },
   {
    "duration": 2,
    "start_time": "2024-01-20T12:14:56.964Z"
   },
   {
    "duration": 51,
    "start_time": "2024-01-20T12:14:56.968Z"
   },
   {
    "duration": 4,
    "start_time": "2024-01-20T12:18:25.489Z"
   },
   {
    "duration": 41,
    "start_time": "2024-01-20T12:18:29.453Z"
   },
   {
    "duration": 6,
    "start_time": "2024-01-20T12:18:51.932Z"
   },
   {
    "duration": 727,
    "start_time": "2024-01-20T12:21:41.003Z"
   },
   {
    "duration": 5,
    "start_time": "2024-01-20T12:21:45.841Z"
   },
   {
    "duration": 41,
    "start_time": "2024-01-20T12:21:49.271Z"
   },
   {
    "duration": 4,
    "start_time": "2024-01-20T12:22:17.756Z"
   },
   {
    "duration": 1496,
    "start_time": "2024-01-20T12:23:21.872Z"
   },
   {
    "duration": 3,
    "start_time": "2024-01-20T12:23:23.370Z"
   },
   {
    "duration": 194,
    "start_time": "2024-01-20T12:23:23.375Z"
   },
   {
    "duration": 2,
    "start_time": "2024-01-20T12:23:23.572Z"
   },
   {
    "duration": 19,
    "start_time": "2024-01-20T12:23:23.576Z"
   },
   {
    "duration": 94,
    "start_time": "2024-01-20T12:23:23.597Z"
   },
   {
    "duration": 13,
    "start_time": "2024-01-20T12:23:23.692Z"
   },
   {
    "duration": 12,
    "start_time": "2024-01-20T12:23:23.707Z"
   },
   {
    "duration": 33,
    "start_time": "2024-01-20T12:23:23.721Z"
   },
   {
    "duration": 12,
    "start_time": "2024-01-20T12:23:23.756Z"
   },
   {
    "duration": 12,
    "start_time": "2024-01-20T12:23:23.770Z"
   },
   {
    "duration": 17,
    "start_time": "2024-01-20T12:23:23.784Z"
   },
   {
    "duration": 14,
    "start_time": "2024-01-20T12:23:23.803Z"
   },
   {
    "duration": 9,
    "start_time": "2024-01-20T12:23:23.819Z"
   },
   {
    "duration": 17,
    "start_time": "2024-01-20T12:23:23.830Z"
   },
   {
    "duration": 44,
    "start_time": "2024-01-20T12:23:23.848Z"
   },
   {
    "duration": 3,
    "start_time": "2024-01-20T12:23:23.893Z"
   },
   {
    "duration": 22,
    "start_time": "2024-01-20T12:23:23.898Z"
   },
   {
    "duration": 19,
    "start_time": "2024-01-20T12:23:23.922Z"
   },
   {
    "duration": 16,
    "start_time": "2024-01-20T12:23:23.942Z"
   },
   {
    "duration": 33,
    "start_time": "2024-01-20T12:23:23.960Z"
   },
   {
    "duration": 31,
    "start_time": "2024-01-20T12:23:23.995Z"
   },
   {
    "duration": 23,
    "start_time": "2024-01-20T12:23:24.028Z"
   },
   {
    "duration": 47,
    "start_time": "2024-01-20T12:23:24.053Z"
   },
   {
    "duration": 9,
    "start_time": "2024-01-20T12:23:24.101Z"
   },
   {
    "duration": 27,
    "start_time": "2024-01-20T12:23:24.112Z"
   },
   {
    "duration": 51,
    "start_time": "2024-01-20T12:23:24.141Z"
   },
   {
    "duration": 17,
    "start_time": "2024-01-20T12:23:24.196Z"
   },
   {
    "duration": 7,
    "start_time": "2024-01-20T12:23:24.215Z"
   },
   {
    "duration": 11,
    "start_time": "2024-01-20T12:23:24.224Z"
   },
   {
    "duration": 18,
    "start_time": "2024-01-20T12:23:24.237Z"
   },
   {
    "duration": 45,
    "start_time": "2024-01-20T12:23:24.257Z"
   },
   {
    "duration": 3,
    "start_time": "2024-01-20T12:23:24.304Z"
   },
   {
    "duration": 15,
    "start_time": "2024-01-20T12:23:24.309Z"
   },
   {
    "duration": 22,
    "start_time": "2024-01-20T12:23:24.326Z"
   },
   {
    "duration": 8,
    "start_time": "2024-01-20T12:23:24.349Z"
   },
   {
    "duration": 43,
    "start_time": "2024-01-20T12:23:24.359Z"
   },
   {
    "duration": 19,
    "start_time": "2024-01-20T12:23:24.403Z"
   },
   {
    "duration": 46,
    "start_time": "2024-01-20T12:23:24.423Z"
   },
   {
    "duration": 22,
    "start_time": "2024-01-20T12:23:24.471Z"
   },
   {
    "duration": 9,
    "start_time": "2024-01-20T12:23:24.495Z"
   },
   {
    "duration": 30,
    "start_time": "2024-01-20T12:23:24.506Z"
   },
   {
    "duration": 47,
    "start_time": "2024-01-20T12:23:24.537Z"
   },
   {
    "duration": 4,
    "start_time": "2024-01-20T12:23:24.586Z"
   },
   {
    "duration": 15,
    "start_time": "2024-01-20T12:23:24.591Z"
   },
   {
    "duration": 9,
    "start_time": "2024-01-20T12:23:24.608Z"
   },
   {
    "duration": 49,
    "start_time": "2024-01-20T12:23:24.619Z"
   },
   {
    "duration": 32,
    "start_time": "2024-01-20T12:23:24.670Z"
   },
   {
    "duration": 4,
    "start_time": "2024-01-20T12:23:24.704Z"
   },
   {
    "duration": 19,
    "start_time": "2024-01-20T12:23:24.709Z"
   },
   {
    "duration": 12,
    "start_time": "2024-01-20T12:23:24.730Z"
   },
   {
    "duration": 1443,
    "start_time": "2024-01-21T12:38:57.065Z"
   },
   {
    "duration": 3,
    "start_time": "2024-01-21T12:38:58.509Z"
   },
   {
    "duration": 562,
    "start_time": "2024-01-21T12:38:58.513Z"
   },
   {
    "duration": 3,
    "start_time": "2024-01-21T12:38:59.077Z"
   },
   {
    "duration": 24,
    "start_time": "2024-01-21T12:38:59.081Z"
   },
   {
    "duration": 82,
    "start_time": "2024-01-21T12:38:59.107Z"
   },
   {
    "duration": 11,
    "start_time": "2024-01-21T12:38:59.190Z"
   },
   {
    "duration": 40,
    "start_time": "2024-01-21T12:38:59.202Z"
   },
   {
    "duration": 33,
    "start_time": "2024-01-21T12:38:59.245Z"
   },
   {
    "duration": 33,
    "start_time": "2024-01-21T12:38:59.280Z"
   },
   {
    "duration": 29,
    "start_time": "2024-01-21T12:38:59.314Z"
   },
   {
    "duration": 20,
    "start_time": "2024-01-21T12:38:59.345Z"
   },
   {
    "duration": 31,
    "start_time": "2024-01-21T12:38:59.366Z"
   },
   {
    "duration": 30,
    "start_time": "2024-01-21T12:38:59.398Z"
   },
   {
    "duration": 33,
    "start_time": "2024-01-21T12:38:59.429Z"
   },
   {
    "duration": 30,
    "start_time": "2024-01-21T12:38:59.463Z"
   },
   {
    "duration": 12,
    "start_time": "2024-01-21T12:38:59.495Z"
   },
   {
    "duration": 31,
    "start_time": "2024-01-21T12:38:59.508Z"
   },
   {
    "duration": 15,
    "start_time": "2024-01-21T12:38:59.540Z"
   },
   {
    "duration": 22,
    "start_time": "2024-01-21T12:38:59.556Z"
   },
   {
    "duration": 11,
    "start_time": "2024-01-21T12:38:59.580Z"
   },
   {
    "duration": 11,
    "start_time": "2024-01-21T12:38:59.592Z"
   },
   {
    "duration": 15,
    "start_time": "2024-01-21T12:38:59.604Z"
   },
   {
    "duration": 15,
    "start_time": "2024-01-21T12:38:59.621Z"
   },
   {
    "duration": 20,
    "start_time": "2024-01-21T12:38:59.637Z"
   },
   {
    "duration": 10,
    "start_time": "2024-01-21T12:38:59.658Z"
   },
   {
    "duration": 11,
    "start_time": "2024-01-21T12:38:59.670Z"
   },
   {
    "duration": 5,
    "start_time": "2024-01-21T12:38:59.684Z"
   },
   {
    "duration": 7,
    "start_time": "2024-01-21T12:38:59.690Z"
   },
   {
    "duration": 8,
    "start_time": "2024-01-21T12:38:59.699Z"
   },
   {
    "duration": 12,
    "start_time": "2024-01-21T12:38:59.708Z"
   },
   {
    "duration": 8,
    "start_time": "2024-01-21T12:38:59.722Z"
   },
   {
    "duration": 14,
    "start_time": "2024-01-21T12:38:59.731Z"
   },
   {
    "duration": 15,
    "start_time": "2024-01-21T12:38:59.746Z"
   },
   {
    "duration": 23,
    "start_time": "2024-01-21T12:38:59.762Z"
   },
   {
    "duration": 6,
    "start_time": "2024-01-21T12:38:59.786Z"
   },
   {
    "duration": 26,
    "start_time": "2024-01-21T12:38:59.793Z"
   },
   {
    "duration": 25,
    "start_time": "2024-01-21T12:38:59.820Z"
   },
   {
    "duration": 37,
    "start_time": "2024-01-21T12:38:59.847Z"
   },
   {
    "duration": 3,
    "start_time": "2024-01-21T12:38:59.885Z"
   },
   {
    "duration": 13,
    "start_time": "2024-01-21T12:38:59.889Z"
   },
   {
    "duration": 7,
    "start_time": "2024-01-21T12:38:59.903Z"
   },
   {
    "duration": 34,
    "start_time": "2024-01-21T12:38:59.911Z"
   },
   {
    "duration": 4,
    "start_time": "2024-01-21T12:38:59.946Z"
   },
   {
    "duration": 12,
    "start_time": "2024-01-21T12:38:59.951Z"
   },
   {
    "duration": 5,
    "start_time": "2024-01-21T12:38:59.964Z"
   },
   {
    "duration": 39,
    "start_time": "2024-01-21T12:38:59.970Z"
   },
   {
    "duration": 35,
    "start_time": "2024-01-21T12:39:00.010Z"
   },
   {
    "duration": 17,
    "start_time": "2024-01-21T12:39:00.047Z"
   },
   {
    "duration": 28,
    "start_time": "2024-01-21T12:39:00.065Z"
   },
   {
    "duration": 47,
    "start_time": "2024-01-21T12:39:00.094Z"
   },
   {
    "duration": 166,
    "start_time": "2024-01-21T12:44:13.093Z"
   },
   {
    "duration": 6,
    "start_time": "2024-01-21T12:44:16.002Z"
   },
   {
    "duration": 6,
    "start_time": "2024-01-21T12:44:30.595Z"
   },
   {
    "duration": 1206,
    "start_time": "2024-01-21T12:45:42.591Z"
   },
   {
    "duration": 3,
    "start_time": "2024-01-21T12:45:43.798Z"
   },
   {
    "duration": 213,
    "start_time": "2024-01-21T12:45:43.802Z"
   },
   {
    "duration": 2,
    "start_time": "2024-01-21T12:45:44.017Z"
   },
   {
    "duration": 22,
    "start_time": "2024-01-21T12:45:44.022Z"
   },
   {
    "duration": 63,
    "start_time": "2024-01-21T12:45:44.046Z"
   },
   {
    "duration": 10,
    "start_time": "2024-01-21T12:45:44.111Z"
   },
   {
    "duration": 11,
    "start_time": "2024-01-21T12:45:44.146Z"
   },
   {
    "duration": 27,
    "start_time": "2024-01-21T12:45:44.158Z"
   },
   {
    "duration": 37,
    "start_time": "2024-01-21T12:45:44.187Z"
   },
   {
    "duration": 24,
    "start_time": "2024-01-21T12:45:44.226Z"
   },
   {
    "duration": 15,
    "start_time": "2024-01-21T12:45:44.252Z"
   },
   {
    "duration": 29,
    "start_time": "2024-01-21T12:45:44.269Z"
   },
   {
    "duration": 25,
    "start_time": "2024-01-21T12:45:44.299Z"
   },
   {
    "duration": 55,
    "start_time": "2024-01-21T12:45:44.325Z"
   },
   {
    "duration": 43,
    "start_time": "2024-01-21T12:45:44.381Z"
   },
   {
    "duration": 25,
    "start_time": "2024-01-21T12:45:44.425Z"
   },
   {
    "duration": 35,
    "start_time": "2024-01-21T12:45:44.452Z"
   },
   {
    "duration": 27,
    "start_time": "2024-01-21T12:45:44.489Z"
   },
   {
    "duration": 25,
    "start_time": "2024-01-21T12:45:44.517Z"
   },
   {
    "duration": 27,
    "start_time": "2024-01-21T12:45:44.543Z"
   },
   {
    "duration": 31,
    "start_time": "2024-01-21T12:45:44.572Z"
   },
   {
    "duration": 41,
    "start_time": "2024-01-21T12:45:44.605Z"
   },
   {
    "duration": 29,
    "start_time": "2024-01-21T12:45:44.647Z"
   },
   {
    "duration": 6,
    "start_time": "2024-01-21T12:45:44.678Z"
   },
   {
    "duration": 28,
    "start_time": "2024-01-21T12:45:44.686Z"
   },
   {
    "duration": 22,
    "start_time": "2024-01-21T12:45:44.715Z"
   },
   {
    "duration": 41,
    "start_time": "2024-01-21T12:45:44.740Z"
   },
   {
    "duration": 36,
    "start_time": "2024-01-21T12:45:44.783Z"
   },
   {
    "duration": 27,
    "start_time": "2024-01-21T12:45:44.820Z"
   },
   {
    "duration": 18,
    "start_time": "2024-01-21T12:45:44.849Z"
   },
   {
    "duration": 34,
    "start_time": "2024-01-21T12:45:44.868Z"
   },
   {
    "duration": 41,
    "start_time": "2024-01-21T12:45:44.903Z"
   },
   {
    "duration": 55,
    "start_time": "2024-01-21T12:45:44.945Z"
   },
   {
    "duration": 47,
    "start_time": "2024-01-21T12:45:45.002Z"
   },
   {
    "duration": 100,
    "start_time": "2024-01-21T12:45:45.050Z"
   },
   {
    "duration": 52,
    "start_time": "2024-01-21T12:45:45.152Z"
   },
   {
    "duration": 49,
    "start_time": "2024-01-21T12:45:45.206Z"
   },
   {
    "duration": 52,
    "start_time": "2024-01-21T12:45:45.257Z"
   },
   {
    "duration": 80,
    "start_time": "2024-01-21T12:45:45.310Z"
   },
   {
    "duration": 3,
    "start_time": "2024-01-21T12:45:45.391Z"
   },
   {
    "duration": 43,
    "start_time": "2024-01-21T12:45:45.395Z"
   },
   {
    "duration": 31,
    "start_time": "2024-01-21T12:45:45.439Z"
   },
   {
    "duration": 49,
    "start_time": "2024-01-21T12:45:45.472Z"
   },
   {
    "duration": 6,
    "start_time": "2024-01-21T12:45:45.522Z"
   },
   {
    "duration": 33,
    "start_time": "2024-01-21T12:45:45.529Z"
   },
   {
    "duration": 14,
    "start_time": "2024-01-21T12:45:45.564Z"
   },
   {
    "duration": 42,
    "start_time": "2024-01-21T12:45:45.579Z"
   },
   {
    "duration": 27,
    "start_time": "2024-01-21T12:45:45.622Z"
   },
   {
    "duration": 4,
    "start_time": "2024-01-21T12:45:45.650Z"
   },
   {
    "duration": 21,
    "start_time": "2024-01-21T12:45:45.655Z"
   },
   {
    "duration": 27,
    "start_time": "2024-01-21T12:45:45.677Z"
   },
   {
    "duration": 68,
    "start_time": "2024-01-21T12:49:05.570Z"
   },
   {
    "duration": 93,
    "start_time": "2024-01-21T12:49:16.158Z"
   },
   {
    "duration": 1256,
    "start_time": "2024-01-21T12:49:47.335Z"
   },
   {
    "duration": 2,
    "start_time": "2024-01-21T12:49:48.593Z"
   },
   {
    "duration": 191,
    "start_time": "2024-01-21T12:49:48.597Z"
   },
   {
    "duration": 3,
    "start_time": "2024-01-21T12:49:48.790Z"
   },
   {
    "duration": 5,
    "start_time": "2024-01-21T12:49:48.794Z"
   },
   {
    "duration": 60,
    "start_time": "2024-01-21T12:49:48.800Z"
   },
   {
    "duration": 10,
    "start_time": "2024-01-21T12:49:48.861Z"
   },
   {
    "duration": 13,
    "start_time": "2024-01-21T12:49:48.873Z"
   },
   {
    "duration": 14,
    "start_time": "2024-01-21T12:49:48.887Z"
   },
   {
    "duration": 10,
    "start_time": "2024-01-21T12:49:48.903Z"
   },
   {
    "duration": 31,
    "start_time": "2024-01-21T12:49:48.914Z"
   },
   {
    "duration": 4,
    "start_time": "2024-01-21T12:49:48.946Z"
   },
   {
    "duration": 9,
    "start_time": "2024-01-21T12:49:48.951Z"
   },
   {
    "duration": 3,
    "start_time": "2024-01-21T12:49:48.961Z"
   },
   {
    "duration": 11,
    "start_time": "2024-01-21T12:49:48.965Z"
   },
   {
    "duration": 18,
    "start_time": "2024-01-21T12:49:48.978Z"
   },
   {
    "duration": 4,
    "start_time": "2024-01-21T12:49:48.997Z"
   },
   {
    "duration": 19,
    "start_time": "2024-01-21T12:49:49.002Z"
   },
   {
    "duration": 34,
    "start_time": "2024-01-21T12:49:49.022Z"
   },
   {
    "duration": 30,
    "start_time": "2024-01-21T12:49:49.057Z"
   },
   {
    "duration": 10,
    "start_time": "2024-01-21T12:49:49.088Z"
   },
   {
    "duration": 16,
    "start_time": "2024-01-21T12:49:49.100Z"
   },
   {
    "duration": 25,
    "start_time": "2024-01-21T12:49:49.117Z"
   },
   {
    "duration": 16,
    "start_time": "2024-01-21T12:49:49.143Z"
   },
   {
    "duration": 10,
    "start_time": "2024-01-21T12:49:49.160Z"
   },
   {
    "duration": 28,
    "start_time": "2024-01-21T12:49:49.171Z"
   },
   {
    "duration": 23,
    "start_time": "2024-01-21T12:49:49.200Z"
   },
   {
    "duration": 14,
    "start_time": "2024-01-21T12:49:49.226Z"
   },
   {
    "duration": 15,
    "start_time": "2024-01-21T12:49:49.242Z"
   },
   {
    "duration": 11,
    "start_time": "2024-01-21T12:49:49.258Z"
   },
   {
    "duration": 16,
    "start_time": "2024-01-21T12:49:49.271Z"
   },
   {
    "duration": 19,
    "start_time": "2024-01-21T12:49:49.288Z"
   },
   {
    "duration": 11,
    "start_time": "2024-01-21T12:49:49.308Z"
   },
   {
    "duration": 8,
    "start_time": "2024-01-21T12:49:49.320Z"
   },
   {
    "duration": 24,
    "start_time": "2024-01-21T12:49:49.329Z"
   },
   {
    "duration": 12,
    "start_time": "2024-01-21T12:49:49.355Z"
   },
   {
    "duration": 7,
    "start_time": "2024-01-21T12:49:49.368Z"
   },
   {
    "duration": 29,
    "start_time": "2024-01-21T12:49:49.376Z"
   },
   {
    "duration": 16,
    "start_time": "2024-01-21T12:49:49.407Z"
   },
   {
    "duration": 61,
    "start_time": "2024-01-21T12:49:49.424Z"
   },
   {
    "duration": 2,
    "start_time": "2024-01-21T12:49:49.487Z"
   },
   {
    "duration": 14,
    "start_time": "2024-01-21T12:49:49.490Z"
   },
   {
    "duration": 28,
    "start_time": "2024-01-21T12:49:49.506Z"
   },
   {
    "duration": 38,
    "start_time": "2024-01-21T12:49:49.535Z"
   },
   {
    "duration": 4,
    "start_time": "2024-01-21T12:49:49.574Z"
   },
   {
    "duration": 5,
    "start_time": "2024-01-21T12:49:49.579Z"
   },
   {
    "duration": 5,
    "start_time": "2024-01-21T12:49:49.586Z"
   },
   {
    "duration": 44,
    "start_time": "2024-01-21T12:49:49.592Z"
   },
   {
    "duration": 33,
    "start_time": "2024-01-21T12:49:49.637Z"
   },
   {
    "duration": 3,
    "start_time": "2024-01-21T12:49:49.671Z"
   },
   {
    "duration": 14,
    "start_time": "2024-01-21T12:49:49.676Z"
   },
   {
    "duration": 6,
    "start_time": "2024-01-21T12:49:49.691Z"
   },
   {
    "duration": 2,
    "start_time": "2024-01-21T12:51:06.046Z"
   },
   {
    "duration": 96,
    "start_time": "2024-01-21T13:01:27.071Z"
   },
   {
    "duration": 3,
    "start_time": "2024-01-21T13:01:42.540Z"
   },
   {
    "duration": 13,
    "start_time": "2024-01-21T13:01:47.261Z"
   },
   {
    "duration": 3,
    "start_time": "2024-01-21T13:02:01.501Z"
   },
   {
    "duration": 6,
    "start_time": "2024-01-21T13:02:07.268Z"
   },
   {
    "duration": 5,
    "start_time": "2024-01-21T13:02:14.378Z"
   },
   {
    "duration": 5,
    "start_time": "2024-01-21T13:02:20.239Z"
   },
   {
    "duration": 1374,
    "start_time": "2024-01-21T13:02:41.066Z"
   },
   {
    "duration": 3,
    "start_time": "2024-01-21T13:02:42.442Z"
   },
   {
    "duration": 214,
    "start_time": "2024-01-21T13:02:42.447Z"
   },
   {
    "duration": 4,
    "start_time": "2024-01-21T13:02:42.663Z"
   },
   {
    "duration": 31,
    "start_time": "2024-01-21T13:02:42.669Z"
   },
   {
    "duration": 87,
    "start_time": "2024-01-21T13:02:42.701Z"
   },
   {
    "duration": 12,
    "start_time": "2024-01-21T13:02:42.790Z"
   },
   {
    "duration": 44,
    "start_time": "2024-01-21T13:02:42.804Z"
   },
   {
    "duration": 17,
    "start_time": "2024-01-21T13:02:42.850Z"
   },
   {
    "duration": 10,
    "start_time": "2024-01-21T13:02:42.869Z"
   },
   {
    "duration": 13,
    "start_time": "2024-01-21T13:02:42.881Z"
   },
   {
    "duration": 9,
    "start_time": "2024-01-21T13:02:42.895Z"
   },
   {
    "duration": 21,
    "start_time": "2024-01-21T13:02:42.906Z"
   },
   {
    "duration": 3,
    "start_time": "2024-01-21T13:02:42.929Z"
   },
   {
    "duration": 11,
    "start_time": "2024-01-21T13:02:42.946Z"
   },
   {
    "duration": 28,
    "start_time": "2024-01-21T13:02:42.959Z"
   },
   {
    "duration": 35,
    "start_time": "2024-01-21T13:02:42.988Z"
   },
   {
    "duration": 18,
    "start_time": "2024-01-21T13:02:43.025Z"
   },
   {
    "duration": 38,
    "start_time": "2024-01-21T13:02:43.044Z"
   },
   {
    "duration": 8,
    "start_time": "2024-01-21T13:02:43.084Z"
   },
   {
    "duration": 25,
    "start_time": "2024-01-21T13:02:43.093Z"
   },
   {
    "duration": 14,
    "start_time": "2024-01-21T13:02:43.120Z"
   },
   {
    "duration": 14,
    "start_time": "2024-01-21T13:02:43.136Z"
   },
   {
    "duration": 12,
    "start_time": "2024-01-21T13:02:43.152Z"
   },
   {
    "duration": 17,
    "start_time": "2024-01-21T13:02:43.166Z"
   },
   {
    "duration": 10,
    "start_time": "2024-01-21T13:02:43.185Z"
   },
   {
    "duration": 7,
    "start_time": "2024-01-21T13:02:43.197Z"
   },
   {
    "duration": 7,
    "start_time": "2024-01-21T13:02:43.209Z"
   },
   {
    "duration": 8,
    "start_time": "2024-01-21T13:02:43.218Z"
   },
   {
    "duration": 25,
    "start_time": "2024-01-21T13:02:43.228Z"
   },
   {
    "duration": 54,
    "start_time": "2024-01-21T13:02:43.255Z"
   },
   {
    "duration": 25,
    "start_time": "2024-01-21T13:02:43.310Z"
   },
   {
    "duration": 18,
    "start_time": "2024-01-21T13:02:43.336Z"
   },
   {
    "duration": 12,
    "start_time": "2024-01-21T13:02:43.356Z"
   },
   {
    "duration": 15,
    "start_time": "2024-01-21T13:02:43.370Z"
   },
   {
    "duration": 28,
    "start_time": "2024-01-21T13:02:43.386Z"
   },
   {
    "duration": 27,
    "start_time": "2024-01-21T13:02:43.415Z"
   },
   {
    "duration": 37,
    "start_time": "2024-01-21T13:02:43.444Z"
   },
   {
    "duration": 19,
    "start_time": "2024-01-21T13:02:43.483Z"
   },
   {
    "duration": 54,
    "start_time": "2024-01-21T13:02:43.503Z"
   },
   {
    "duration": 4,
    "start_time": "2024-01-21T13:02:43.558Z"
   },
   {
    "duration": 16,
    "start_time": "2024-01-21T13:02:43.563Z"
   },
   {
    "duration": 13,
    "start_time": "2024-01-21T13:02:43.580Z"
   },
   {
    "duration": 50,
    "start_time": "2024-01-21T13:02:43.595Z"
   },
   {
    "duration": 12,
    "start_time": "2024-01-21T13:02:43.647Z"
   },
   {
    "duration": 67,
    "start_time": "2024-01-21T13:02:43.660Z"
   },
   {
    "duration": 13,
    "start_time": "2024-01-21T13:02:43.733Z"
   },
   {
    "duration": 67,
    "start_time": "2024-01-21T13:02:43.747Z"
   },
   {
    "duration": 41,
    "start_time": "2024-01-21T13:02:43.816Z"
   },
   {
    "duration": 4,
    "start_time": "2024-01-21T13:02:43.859Z"
   },
   {
    "duration": 9,
    "start_time": "2024-01-21T13:02:43.864Z"
   },
   {
    "duration": 5,
    "start_time": "2024-01-21T13:02:43.875Z"
   },
   {
    "duration": 5,
    "start_time": "2024-01-21T13:02:43.882Z"
   },
   {
    "duration": 1438,
    "start_time": "2024-01-22T06:33:23.752Z"
   },
   {
    "duration": 8,
    "start_time": "2024-01-22T06:33:25.193Z"
   },
   {
    "duration": 566,
    "start_time": "2024-01-22T06:33:25.206Z"
   },
   {
    "duration": 3,
    "start_time": "2024-01-22T06:33:25.774Z"
   },
   {
    "duration": 23,
    "start_time": "2024-01-22T06:33:25.778Z"
   },
   {
    "duration": 64,
    "start_time": "2024-01-22T06:33:25.806Z"
   },
   {
    "duration": 10,
    "start_time": "2024-01-22T06:33:25.872Z"
   },
   {
    "duration": 13,
    "start_time": "2024-01-22T06:33:25.901Z"
   },
   {
    "duration": 23,
    "start_time": "2024-01-22T06:33:25.916Z"
   },
   {
    "duration": 10,
    "start_time": "2024-01-22T06:33:25.942Z"
   },
   {
    "duration": 10,
    "start_time": "2024-01-22T06:33:25.953Z"
   },
   {
    "duration": 3,
    "start_time": "2024-01-22T06:33:25.964Z"
   },
   {
    "duration": 15,
    "start_time": "2024-01-22T06:33:25.968Z"
   },
   {
    "duration": 21,
    "start_time": "2024-01-22T06:33:25.985Z"
   },
   {
    "duration": 30,
    "start_time": "2024-01-22T06:33:26.007Z"
   },
   {
    "duration": 23,
    "start_time": "2024-01-22T06:33:26.039Z"
   },
   {
    "duration": 25,
    "start_time": "2024-01-22T06:33:26.064Z"
   },
   {
    "duration": 30,
    "start_time": "2024-01-22T06:33:26.090Z"
   },
   {
    "duration": 11,
    "start_time": "2024-01-22T06:33:26.122Z"
   },
   {
    "duration": 10,
    "start_time": "2024-01-22T06:33:26.134Z"
   },
   {
    "duration": 9,
    "start_time": "2024-01-22T06:33:26.146Z"
   },
   {
    "duration": 16,
    "start_time": "2024-01-22T06:33:26.156Z"
   },
   {
    "duration": 10,
    "start_time": "2024-01-22T06:33:26.173Z"
   },
   {
    "duration": 20,
    "start_time": "2024-01-22T06:33:26.185Z"
   },
   {
    "duration": 7,
    "start_time": "2024-01-22T06:33:26.206Z"
   },
   {
    "duration": 17,
    "start_time": "2024-01-22T06:33:26.214Z"
   },
   {
    "duration": 23,
    "start_time": "2024-01-22T06:33:26.232Z"
   },
   {
    "duration": 6,
    "start_time": "2024-01-22T06:33:26.259Z"
   },
   {
    "duration": 4,
    "start_time": "2024-01-22T06:33:26.267Z"
   },
   {
    "duration": 108,
    "start_time": "2024-01-22T06:33:26.272Z"
   },
   {
    "duration": 0,
    "start_time": "2024-01-22T06:33:26.381Z"
   },
   {
    "duration": 0,
    "start_time": "2024-01-22T06:33:26.383Z"
   },
   {
    "duration": 0,
    "start_time": "2024-01-22T06:33:26.384Z"
   },
   {
    "duration": 0,
    "start_time": "2024-01-22T06:33:26.385Z"
   },
   {
    "duration": 0,
    "start_time": "2024-01-22T06:33:26.387Z"
   },
   {
    "duration": 0,
    "start_time": "2024-01-22T06:33:26.393Z"
   },
   {
    "duration": 0,
    "start_time": "2024-01-22T06:33:26.394Z"
   },
   {
    "duration": 0,
    "start_time": "2024-01-22T06:33:26.394Z"
   },
   {
    "duration": 0,
    "start_time": "2024-01-22T06:33:26.395Z"
   },
   {
    "duration": 0,
    "start_time": "2024-01-22T06:33:26.397Z"
   },
   {
    "duration": 0,
    "start_time": "2024-01-22T06:33:26.398Z"
   },
   {
    "duration": 0,
    "start_time": "2024-01-22T06:33:26.399Z"
   },
   {
    "duration": 0,
    "start_time": "2024-01-22T06:33:26.400Z"
   },
   {
    "duration": 0,
    "start_time": "2024-01-22T06:33:26.401Z"
   },
   {
    "duration": 0,
    "start_time": "2024-01-22T06:33:26.402Z"
   },
   {
    "duration": 1,
    "start_time": "2024-01-22T06:33:26.403Z"
   },
   {
    "duration": 0,
    "start_time": "2024-01-22T06:33:26.405Z"
   },
   {
    "duration": 0,
    "start_time": "2024-01-22T06:33:26.406Z"
   },
   {
    "duration": 0,
    "start_time": "2024-01-22T06:33:26.407Z"
   },
   {
    "duration": 0,
    "start_time": "2024-01-22T06:33:26.408Z"
   },
   {
    "duration": 0,
    "start_time": "2024-01-22T06:33:26.409Z"
   },
   {
    "duration": 0,
    "start_time": "2024-01-22T06:33:26.411Z"
   },
   {
    "duration": 0,
    "start_time": "2024-01-22T06:33:26.411Z"
   },
   {
    "duration": 1280,
    "start_time": "2024-01-22T06:33:43.214Z"
   },
   {
    "duration": 3,
    "start_time": "2024-01-22T06:33:44.506Z"
   },
   {
    "duration": 217,
    "start_time": "2024-01-22T06:33:44.510Z"
   },
   {
    "duration": 2,
    "start_time": "2024-01-22T06:33:44.729Z"
   },
   {
    "duration": 5,
    "start_time": "2024-01-22T06:33:44.733Z"
   },
   {
    "duration": 70,
    "start_time": "2024-01-22T06:33:44.739Z"
   },
   {
    "duration": 12,
    "start_time": "2024-01-22T06:33:44.810Z"
   },
   {
    "duration": 12,
    "start_time": "2024-01-22T06:33:44.823Z"
   },
   {
    "duration": 20,
    "start_time": "2024-01-22T06:33:44.836Z"
   },
   {
    "duration": 16,
    "start_time": "2024-01-22T06:33:44.858Z"
   },
   {
    "duration": 9,
    "start_time": "2024-01-22T06:33:44.875Z"
   },
   {
    "duration": 20,
    "start_time": "2024-01-22T06:33:44.885Z"
   },
   {
    "duration": 8,
    "start_time": "2024-01-22T06:33:44.907Z"
   },
   {
    "duration": 3,
    "start_time": "2024-01-22T06:33:44.918Z"
   },
   {
    "duration": 14,
    "start_time": "2024-01-22T06:33:44.923Z"
   },
   {
    "duration": 30,
    "start_time": "2024-01-22T06:33:44.939Z"
   },
   {
    "duration": 4,
    "start_time": "2024-01-22T06:33:44.971Z"
   },
   {
    "duration": 34,
    "start_time": "2024-01-22T06:33:44.977Z"
   },
   {
    "duration": 12,
    "start_time": "2024-01-22T06:33:45.013Z"
   },
   {
    "duration": 49,
    "start_time": "2024-01-22T06:33:45.026Z"
   },
   {
    "duration": 58,
    "start_time": "2024-01-22T06:33:45.076Z"
   },
   {
    "duration": 33,
    "start_time": "2024-01-22T06:33:45.136Z"
   },
   {
    "duration": 77,
    "start_time": "2024-01-22T06:33:45.171Z"
   },
   {
    "duration": 61,
    "start_time": "2024-01-22T06:33:45.250Z"
   },
   {
    "duration": 22,
    "start_time": "2024-01-22T06:33:45.313Z"
   },
   {
    "duration": 11,
    "start_time": "2024-01-22T06:33:45.337Z"
   },
   {
    "duration": 12,
    "start_time": "2024-01-22T06:33:45.349Z"
   },
   {
    "duration": 26,
    "start_time": "2024-01-22T06:33:45.362Z"
   },
   {
    "duration": 19,
    "start_time": "2024-01-22T06:33:45.389Z"
   },
   {
    "duration": 13,
    "start_time": "2024-01-22T06:33:45.410Z"
   },
   {
    "duration": 30,
    "start_time": "2024-01-22T06:33:45.425Z"
   },
   {
    "duration": 15,
    "start_time": "2024-01-22T06:33:45.457Z"
   },
   {
    "duration": 15,
    "start_time": "2024-01-22T06:33:45.474Z"
   },
   {
    "duration": 16,
    "start_time": "2024-01-22T06:33:45.490Z"
   },
   {
    "duration": 36,
    "start_time": "2024-01-22T06:33:45.507Z"
   },
   {
    "duration": 13,
    "start_time": "2024-01-22T06:33:45.545Z"
   },
   {
    "duration": 20,
    "start_time": "2024-01-22T06:33:45.559Z"
   },
   {
    "duration": 51,
    "start_time": "2024-01-22T06:33:45.581Z"
   },
   {
    "duration": 25,
    "start_time": "2024-01-22T06:33:45.633Z"
   },
   {
    "duration": 47,
    "start_time": "2024-01-22T06:33:45.660Z"
   },
   {
    "duration": 3,
    "start_time": "2024-01-22T06:33:45.710Z"
   },
   {
    "duration": 36,
    "start_time": "2024-01-22T06:33:45.715Z"
   },
   {
    "duration": 30,
    "start_time": "2024-01-22T06:33:45.753Z"
   },
   {
    "duration": 51,
    "start_time": "2024-01-22T06:33:45.784Z"
   },
   {
    "duration": 3,
    "start_time": "2024-01-22T06:33:45.837Z"
   },
   {
    "duration": 29,
    "start_time": "2024-01-22T06:33:45.842Z"
   },
   {
    "duration": 11,
    "start_time": "2024-01-22T06:33:45.873Z"
   },
   {
    "duration": 57,
    "start_time": "2024-01-22T06:33:45.886Z"
   },
   {
    "duration": 31,
    "start_time": "2024-01-22T06:33:45.944Z"
   },
   {
    "duration": 4,
    "start_time": "2024-01-22T06:33:45.976Z"
   },
   {
    "duration": 34,
    "start_time": "2024-01-22T06:33:45.981Z"
   },
   {
    "duration": 15,
    "start_time": "2024-01-22T06:33:46.017Z"
   },
   {
    "duration": 33,
    "start_time": "2024-01-22T06:33:46.033Z"
   },
   {
    "duration": 89,
    "start_time": "2024-01-22T06:38:06.990Z"
   },
   {
    "duration": 125,
    "start_time": "2024-01-22T06:56:38.986Z"
   },
   {
    "duration": 133,
    "start_time": "2024-01-22T06:58:22.129Z"
   },
   {
    "duration": 18,
    "start_time": "2024-01-22T06:58:28.937Z"
   },
   {
    "duration": 6,
    "start_time": "2024-01-22T07:00:13.600Z"
   },
   {
    "duration": 266,
    "start_time": "2024-01-22T07:00:19.652Z"
   },
   {
    "duration": 268,
    "start_time": "2024-01-22T07:00:40.277Z"
   },
   {
    "duration": 263,
    "start_time": "2024-01-22T07:00:48.831Z"
   },
   {
    "duration": 5,
    "start_time": "2024-01-22T07:02:14.773Z"
   },
   {
    "duration": 265,
    "start_time": "2024-01-22T07:03:03.819Z"
   },
   {
    "duration": 253,
    "start_time": "2024-01-22T07:03:07.077Z"
   },
   {
    "duration": 294,
    "start_time": "2024-01-22T07:03:08.185Z"
   },
   {
    "duration": 12,
    "start_time": "2024-01-22T07:03:50.093Z"
   },
   {
    "duration": 3,
    "start_time": "2024-01-22T07:06:04.841Z"
   },
   {
    "duration": 48425,
    "start_time": "2024-01-22T07:07:58.430Z"
   },
   {
    "duration": 1494,
    "start_time": "2024-01-22T07:08:54.466Z"
   },
   {
    "duration": 3,
    "start_time": "2024-01-22T07:08:55.962Z"
   },
   {
    "duration": 247,
    "start_time": "2024-01-22T07:08:55.966Z"
   },
   {
    "duration": 3,
    "start_time": "2024-01-22T07:08:56.215Z"
   },
   {
    "duration": 5,
    "start_time": "2024-01-22T07:08:56.219Z"
   },
   {
    "duration": 85,
    "start_time": "2024-01-22T07:08:56.225Z"
   },
   {
    "duration": 12,
    "start_time": "2024-01-22T07:08:56.312Z"
   },
   {
    "duration": 37,
    "start_time": "2024-01-22T07:08:56.325Z"
   },
   {
    "duration": 20,
    "start_time": "2024-01-22T07:08:56.364Z"
   },
   {
    "duration": 28,
    "start_time": "2024-01-22T07:08:56.386Z"
   },
   {
    "duration": 10,
    "start_time": "2024-01-22T07:08:56.416Z"
   },
   {
    "duration": 24,
    "start_time": "2024-01-22T07:08:56.427Z"
   },
   {
    "duration": 23,
    "start_time": "2024-01-22T07:08:56.453Z"
   },
   {
    "duration": 10,
    "start_time": "2024-01-22T07:08:56.477Z"
   },
   {
    "duration": 25,
    "start_time": "2024-01-22T07:08:56.488Z"
   },
   {
    "duration": 28,
    "start_time": "2024-01-22T07:08:56.514Z"
   },
   {
    "duration": 8,
    "start_time": "2024-01-22T07:08:56.543Z"
   },
   {
    "duration": 20,
    "start_time": "2024-01-22T07:08:56.552Z"
   },
   {
    "duration": 32,
    "start_time": "2024-01-22T07:08:56.573Z"
   },
   {
    "duration": 56,
    "start_time": "2024-01-22T07:08:56.606Z"
   },
   {
    "duration": 17,
    "start_time": "2024-01-22T07:08:56.664Z"
   },
   {
    "duration": 39,
    "start_time": "2024-01-22T07:08:56.682Z"
   },
   {
    "duration": 20,
    "start_time": "2024-01-22T07:08:56.722Z"
   },
   {
    "duration": 21,
    "start_time": "2024-01-22T07:08:56.744Z"
   },
   {
    "duration": 38,
    "start_time": "2024-01-22T07:08:56.767Z"
   },
   {
    "duration": 42,
    "start_time": "2024-01-22T07:08:56.807Z"
   },
   {
    "duration": 31,
    "start_time": "2024-01-22T07:08:56.850Z"
   },
   {
    "duration": 20,
    "start_time": "2024-01-22T07:08:56.884Z"
   },
   {
    "duration": 17,
    "start_time": "2024-01-22T07:08:56.906Z"
   },
   {
    "duration": 34,
    "start_time": "2024-01-22T07:08:56.925Z"
   },
   {
    "duration": 26,
    "start_time": "2024-01-22T07:08:56.961Z"
   },
   {
    "duration": 43,
    "start_time": "2024-01-22T07:08:56.989Z"
   },
   {
    "duration": 27,
    "start_time": "2024-01-22T07:08:57.033Z"
   },
   {
    "duration": 14,
    "start_time": "2024-01-22T07:08:57.061Z"
   },
   {
    "duration": 48,
    "start_time": "2024-01-22T07:08:57.076Z"
   },
   {
    "duration": 40,
    "start_time": "2024-01-22T07:08:57.125Z"
   },
   {
    "duration": 19,
    "start_time": "2024-01-22T07:08:57.166Z"
   },
   {
    "duration": 53,
    "start_time": "2024-01-22T07:08:57.186Z"
   },
   {
    "duration": 35,
    "start_time": "2024-01-22T07:08:57.241Z"
   },
   {
    "duration": 63,
    "start_time": "2024-01-22T07:08:57.278Z"
   },
   {
    "duration": 9,
    "start_time": "2024-01-22T07:08:57.343Z"
   },
   {
    "duration": 53,
    "start_time": "2024-01-22T07:08:57.353Z"
   },
   {
    "duration": 32,
    "start_time": "2024-01-22T07:08:57.408Z"
   },
   {
    "duration": 66,
    "start_time": "2024-01-22T07:08:57.441Z"
   },
   {
    "duration": 29,
    "start_time": "2024-01-22T07:08:57.509Z"
   },
   {
    "duration": 22,
    "start_time": "2024-01-22T07:08:57.540Z"
   },
   {
    "duration": 24,
    "start_time": "2024-01-22T07:08:57.563Z"
   },
   {
    "duration": 72,
    "start_time": "2024-01-22T07:08:57.588Z"
   },
   {
    "duration": 28,
    "start_time": "2024-01-22T07:08:57.661Z"
   },
   {
    "duration": 15,
    "start_time": "2024-01-22T07:08:57.691Z"
   },
   {
    "duration": 8,
    "start_time": "2024-01-22T07:08:57.707Z"
   },
   {
    "duration": 12,
    "start_time": "2024-01-22T07:08:57.716Z"
   },
   {
    "duration": 280,
    "start_time": "2024-01-22T07:08:57.730Z"
   },
   {
    "duration": 161522,
    "start_time": "2024-01-22T07:08:58.011Z"
   },
   {
    "duration": 13,
    "start_time": "2024-01-22T07:11:39.535Z"
   },
   {
    "duration": 0,
    "start_time": "2024-01-22T07:11:39.550Z"
   },
   {
    "duration": 1615,
    "start_time": "2024-01-22T07:11:42.161Z"
   },
   {
    "duration": 2,
    "start_time": "2024-01-22T07:11:43.778Z"
   },
   {
    "duration": 212,
    "start_time": "2024-01-22T07:11:43.781Z"
   },
   {
    "duration": 5,
    "start_time": "2024-01-22T07:11:44.002Z"
   },
   {
    "duration": 7,
    "start_time": "2024-01-22T07:11:44.009Z"
   },
   {
    "duration": 89,
    "start_time": "2024-01-22T07:11:44.017Z"
   },
   {
    "duration": 12,
    "start_time": "2024-01-22T07:11:44.108Z"
   },
   {
    "duration": 24,
    "start_time": "2024-01-22T07:11:44.122Z"
   },
   {
    "duration": 40,
    "start_time": "2024-01-22T07:11:44.148Z"
   },
   {
    "duration": 29,
    "start_time": "2024-01-22T07:11:44.191Z"
   },
   {
    "duration": 21,
    "start_time": "2024-01-22T07:11:44.222Z"
   },
   {
    "duration": 20,
    "start_time": "2024-01-22T07:11:44.245Z"
   },
   {
    "duration": 43,
    "start_time": "2024-01-22T07:11:44.266Z"
   },
   {
    "duration": 18,
    "start_time": "2024-01-22T07:11:44.310Z"
   },
   {
    "duration": 39,
    "start_time": "2024-01-22T07:11:44.330Z"
   },
   {
    "duration": 37,
    "start_time": "2024-01-22T07:11:44.370Z"
   },
   {
    "duration": 5,
    "start_time": "2024-01-22T07:11:44.408Z"
   },
   {
    "duration": 49,
    "start_time": "2024-01-22T07:11:44.415Z"
   },
   {
    "duration": 31,
    "start_time": "2024-01-22T07:11:44.465Z"
   },
   {
    "duration": 18,
    "start_time": "2024-01-22T07:11:44.497Z"
   },
   {
    "duration": 11,
    "start_time": "2024-01-22T07:11:44.516Z"
   },
   {
    "duration": 17,
    "start_time": "2024-01-22T07:11:44.528Z"
   },
   {
    "duration": 22,
    "start_time": "2024-01-22T07:11:44.546Z"
   },
   {
    "duration": 21,
    "start_time": "2024-01-22T07:11:44.570Z"
   },
   {
    "duration": 17,
    "start_time": "2024-01-22T07:11:44.593Z"
   },
   {
    "duration": 45,
    "start_time": "2024-01-22T07:11:44.613Z"
   },
   {
    "duration": 31,
    "start_time": "2024-01-22T07:11:44.659Z"
   },
   {
    "duration": 41,
    "start_time": "2024-01-22T07:11:44.694Z"
   },
   {
    "duration": 20,
    "start_time": "2024-01-22T07:11:44.737Z"
   },
   {
    "duration": 33,
    "start_time": "2024-01-22T07:11:44.759Z"
   },
   {
    "duration": 22,
    "start_time": "2024-01-22T07:11:44.794Z"
   },
   {
    "duration": 21,
    "start_time": "2024-01-22T07:11:44.818Z"
   },
   {
    "duration": 15,
    "start_time": "2024-01-22T07:11:44.841Z"
   },
   {
    "duration": 16,
    "start_time": "2024-01-22T07:11:44.858Z"
   },
   {
    "duration": 33,
    "start_time": "2024-01-22T07:11:44.875Z"
   },
   {
    "duration": 12,
    "start_time": "2024-01-22T07:11:44.909Z"
   },
   {
    "duration": 19,
    "start_time": "2024-01-22T07:11:44.923Z"
   },
   {
    "duration": 34,
    "start_time": "2024-01-22T07:11:44.943Z"
   },
   {
    "duration": 27,
    "start_time": "2024-01-22T07:11:44.978Z"
   },
   {
    "duration": 48,
    "start_time": "2024-01-22T07:11:45.006Z"
   },
   {
    "duration": 25,
    "start_time": "2024-01-22T07:11:45.056Z"
   },
   {
    "duration": 73,
    "start_time": "2024-01-22T07:11:45.083Z"
   },
   {
    "duration": 48,
    "start_time": "2024-01-22T07:11:45.157Z"
   },
   {
    "duration": 97,
    "start_time": "2024-01-22T07:11:45.207Z"
   },
   {
    "duration": 16,
    "start_time": "2024-01-22T07:11:45.307Z"
   },
   {
    "duration": 58,
    "start_time": "2024-01-22T07:11:45.324Z"
   },
   {
    "duration": 106,
    "start_time": "2024-01-22T07:11:45.383Z"
   },
   {
    "duration": 81,
    "start_time": "2024-01-22T07:11:45.490Z"
   },
   {
    "duration": 41,
    "start_time": "2024-01-22T07:11:45.573Z"
   },
   {
    "duration": 4,
    "start_time": "2024-01-22T07:11:45.616Z"
   },
   {
    "duration": 23,
    "start_time": "2024-01-22T07:11:45.622Z"
   },
   {
    "duration": 21,
    "start_time": "2024-01-22T07:11:45.646Z"
   },
   {
    "duration": 151,
    "start_time": "2024-01-22T07:11:45.669Z"
   },
   {
    "duration": 0,
    "start_time": "2024-01-22T07:11:45.822Z"
   },
   {
    "duration": 0,
    "start_time": "2024-01-22T07:11:45.823Z"
   },
   {
    "duration": 0,
    "start_time": "2024-01-22T07:11:45.825Z"
   },
   {
    "duration": 94,
    "start_time": "2024-01-22T07:11:51.630Z"
   },
   {
    "duration": 98,
    "start_time": "2024-01-22T07:11:56.736Z"
   },
   {
    "duration": 13,
    "start_time": "2024-01-22T07:12:04.553Z"
   },
   {
    "duration": 279,
    "start_time": "2024-01-22T07:12:14.972Z"
   },
   {
    "duration": 269,
    "start_time": "2024-01-22T07:12:16.932Z"
   },
   {
    "duration": 1407,
    "start_time": "2024-01-22T07:12:44.136Z"
   },
   {
    "duration": 2,
    "start_time": "2024-01-22T07:12:45.545Z"
   },
   {
    "duration": 264,
    "start_time": "2024-01-22T07:12:45.549Z"
   },
   {
    "duration": 2,
    "start_time": "2024-01-22T07:12:45.815Z"
   },
   {
    "duration": 18,
    "start_time": "2024-01-22T07:12:45.819Z"
   },
   {
    "duration": 73,
    "start_time": "2024-01-22T07:12:45.838Z"
   },
   {
    "duration": 12,
    "start_time": "2024-01-22T07:12:45.913Z"
   },
   {
    "duration": 38,
    "start_time": "2024-01-22T07:12:45.927Z"
   },
   {
    "duration": 13,
    "start_time": "2024-01-22T07:12:45.966Z"
   },
   {
    "duration": 22,
    "start_time": "2024-01-22T07:12:45.983Z"
   },
   {
    "duration": 13,
    "start_time": "2024-01-22T07:12:46.007Z"
   },
   {
    "duration": 9,
    "start_time": "2024-01-22T07:12:46.022Z"
   },
   {
    "duration": 12,
    "start_time": "2024-01-22T07:12:46.032Z"
   },
   {
    "duration": 8,
    "start_time": "2024-01-22T07:12:46.046Z"
   },
   {
    "duration": 17,
    "start_time": "2024-01-22T07:12:46.056Z"
   },
   {
    "duration": 44,
    "start_time": "2024-01-22T07:12:46.075Z"
   },
   {
    "duration": 20,
    "start_time": "2024-01-22T07:12:46.121Z"
   },
   {
    "duration": 38,
    "start_time": "2024-01-22T07:12:46.142Z"
   },
   {
    "duration": 35,
    "start_time": "2024-01-22T07:12:46.182Z"
   },
   {
    "duration": 25,
    "start_time": "2024-01-22T07:12:46.219Z"
   },
   {
    "duration": 22,
    "start_time": "2024-01-22T07:12:46.246Z"
   },
   {
    "duration": 41,
    "start_time": "2024-01-22T07:12:46.270Z"
   },
   {
    "duration": 10,
    "start_time": "2024-01-22T07:12:46.313Z"
   },
   {
    "duration": 23,
    "start_time": "2024-01-22T07:12:46.325Z"
   },
   {
    "duration": 13,
    "start_time": "2024-01-22T07:12:46.349Z"
   },
   {
    "duration": 26,
    "start_time": "2024-01-22T07:12:46.363Z"
   },
   {
    "duration": 20,
    "start_time": "2024-01-22T07:12:46.390Z"
   },
   {
    "duration": 7,
    "start_time": "2024-01-22T07:12:46.414Z"
   },
   {
    "duration": 15,
    "start_time": "2024-01-22T07:12:46.422Z"
   },
   {
    "duration": 19,
    "start_time": "2024-01-22T07:12:46.438Z"
   },
   {
    "duration": 27,
    "start_time": "2024-01-22T07:12:46.458Z"
   },
   {
    "duration": 67,
    "start_time": "2024-01-22T07:12:46.486Z"
   },
   {
    "duration": 16,
    "start_time": "2024-01-22T07:12:46.554Z"
   },
   {
    "duration": 9,
    "start_time": "2024-01-22T07:12:46.572Z"
   },
   {
    "duration": 46,
    "start_time": "2024-01-22T07:12:46.582Z"
   },
   {
    "duration": 29,
    "start_time": "2024-01-22T07:12:46.629Z"
   },
   {
    "duration": 51,
    "start_time": "2024-01-22T07:12:46.660Z"
   },
   {
    "duration": 88,
    "start_time": "2024-01-22T07:12:46.713Z"
   },
   {
    "duration": 31,
    "start_time": "2024-01-22T07:12:46.802Z"
   },
   {
    "duration": 51,
    "start_time": "2024-01-22T07:12:46.834Z"
   },
   {
    "duration": 3,
    "start_time": "2024-01-22T07:12:46.886Z"
   },
   {
    "duration": 18,
    "start_time": "2024-01-22T07:12:46.891Z"
   },
   {
    "duration": 14,
    "start_time": "2024-01-22T07:12:46.911Z"
   },
   {
    "duration": 47,
    "start_time": "2024-01-22T07:12:46.926Z"
   },
   {
    "duration": 5,
    "start_time": "2024-01-22T07:12:46.974Z"
   },
   {
    "duration": 10,
    "start_time": "2024-01-22T07:12:46.981Z"
   },
   {
    "duration": 18,
    "start_time": "2024-01-22T07:12:46.992Z"
   },
   {
    "duration": 57,
    "start_time": "2024-01-22T07:12:47.012Z"
   },
   {
    "duration": 40,
    "start_time": "2024-01-22T07:12:47.070Z"
   },
   {
    "duration": 4,
    "start_time": "2024-01-22T07:12:47.111Z"
   },
   {
    "duration": 13,
    "start_time": "2024-01-22T07:12:47.117Z"
   },
   {
    "duration": 20,
    "start_time": "2024-01-22T07:12:47.131Z"
   },
   {
    "duration": 305,
    "start_time": "2024-01-22T07:12:47.152Z"
   },
   {
    "duration": 244114,
    "start_time": "2024-01-22T07:12:47.458Z"
   },
   {
    "duration": 10,
    "start_time": "2024-01-22T07:16:51.574Z"
   },
   {
    "duration": 15,
    "start_time": "2024-01-22T07:16:51.586Z"
   },
   {
    "duration": 2670,
    "start_time": "2024-01-22T07:16:51.609Z"
   },
   {
    "duration": 2885,
    "start_time": "2024-01-22T07:17:29.748Z"
   },
   {
    "duration": 2803,
    "start_time": "2024-01-22T07:18:56.363Z"
   },
   {
    "duration": 2880,
    "start_time": "2024-01-22T07:19:04.506Z"
   },
   {
    "duration": 2666,
    "start_time": "2024-01-22T07:19:12.970Z"
   },
   {
    "duration": 244241,
    "start_time": "2024-01-22T07:19:39.592Z"
   },
   {
    "duration": 7,
    "start_time": "2024-01-22T07:23:43.835Z"
   },
   {
    "duration": 2828,
    "start_time": "2024-01-22T07:23:51.673Z"
   },
   {
    "duration": 4463,
    "start_time": "2024-01-22T07:24:41.256Z"
   },
   {
    "duration": 27,
    "start_time": "2024-01-22T07:29:02.083Z"
   },
   {
    "duration": 2753,
    "start_time": "2024-01-22T07:29:09.560Z"
   },
   {
    "duration": 2911,
    "start_time": "2024-01-22T07:33:34.748Z"
   },
   {
    "duration": 2696,
    "start_time": "2024-01-22T07:33:40.872Z"
   },
   {
    "duration": 39040,
    "start_time": "2024-01-22T07:33:49.219Z"
   },
   {
    "duration": 4959,
    "start_time": "2024-01-22T07:34:33.006Z"
   },
   {
    "duration": 4952,
    "start_time": "2024-01-22T07:34:41.905Z"
   },
   {
    "duration": 5119,
    "start_time": "2024-01-22T07:34:50.548Z"
   },
   {
    "duration": 2877,
    "start_time": "2024-01-22T07:35:00.272Z"
   },
   {
    "duration": 608259,
    "start_time": "2024-01-22T07:37:21.259Z"
   },
   {
    "duration": 7,
    "start_time": "2024-01-22T07:47:29.520Z"
   },
   {
    "duration": 2903,
    "start_time": "2024-01-22T08:03:33.048Z"
   },
   {
    "duration": 5127,
    "start_time": "2024-01-22T08:03:41.185Z"
   },
   {
    "duration": 67,
    "start_time": "2024-01-22T08:04:24.356Z"
   },
   {
    "duration": 78,
    "start_time": "2024-01-22T08:04:33.929Z"
   },
   {
    "duration": 43927,
    "start_time": "2024-01-22T08:04:38.631Z"
   },
   {
    "duration": 6,
    "start_time": "2024-01-22T08:05:22.560Z"
   },
   {
    "duration": 5238,
    "start_time": "2024-01-22T08:05:28.606Z"
   },
   {
    "duration": 2917,
    "start_time": "2024-01-22T08:05:38.292Z"
   },
   {
    "duration": 13,
    "start_time": "2024-01-22T08:08:33.026Z"
   },
   {
    "duration": 2607,
    "start_time": "2024-01-22T08:08:34.506Z"
   },
   {
    "duration": 94,
    "start_time": "2024-01-22T08:10:09.658Z"
   },
   {
    "duration": 621,
    "start_time": "2024-01-22T08:10:13.033Z"
   },
   {
    "duration": 571,
    "start_time": "2024-01-22T08:10:18.870Z"
   },
   {
    "duration": 9,
    "start_time": "2024-01-22T08:10:28.778Z"
   },
   {
    "duration": 3296,
    "start_time": "2024-01-22T08:12:00.167Z"
   },
   {
    "duration": 2997,
    "start_time": "2024-01-22T08:12:08.681Z"
   },
   {
    "duration": 3053,
    "start_time": "2024-01-22T08:12:15.868Z"
   },
   {
    "duration": 10,
    "start_time": "2024-01-22T08:12:30.907Z"
   },
   {
    "duration": 2648,
    "start_time": "2024-01-22T08:12:36.035Z"
   },
   {
    "duration": 4060,
    "start_time": "2024-01-22T08:13:43.405Z"
   },
   {
    "duration": 12,
    "start_time": "2024-01-22T08:14:10.170Z"
   },
   {
    "duration": 81046,
    "start_time": "2024-01-22T08:16:11.220Z"
   },
   {
    "duration": 7,
    "start_time": "2024-01-22T08:17:32.268Z"
   },
   {
    "duration": 2989,
    "start_time": "2024-01-22T08:17:59.544Z"
   },
   {
    "duration": 4032,
    "start_time": "2024-01-22T08:18:06.098Z"
   },
   {
    "duration": 7210,
    "start_time": "2024-01-22T08:18:16.498Z"
   },
   {
    "duration": 2426,
    "start_time": "2024-01-22T08:18:35.634Z"
   },
   {
    "duration": 2912,
    "start_time": "2024-01-22T08:18:41.978Z"
   },
   {
    "duration": 4,
    "start_time": "2024-01-22T08:21:29.865Z"
   },
   {
    "duration": 3,
    "start_time": "2024-01-22T08:22:28.420Z"
   },
   {
    "duration": 131,
    "start_time": "2024-01-22T08:22:53.923Z"
   },
   {
    "duration": 3,
    "start_time": "2024-01-22T08:23:04.020Z"
   },
   {
    "duration": 11657,
    "start_time": "2024-01-22T08:23:04.981Z"
   },
   {
    "duration": 14,
    "start_time": "2024-01-22T08:24:39.493Z"
   },
   {
    "duration": 22172,
    "start_time": "2024-01-22T08:24:41.042Z"
   },
   {
    "duration": 11,
    "start_time": "2024-01-22T08:25:03.216Z"
   },
   {
    "duration": 44107,
    "start_time": "2024-01-22T08:25:49.132Z"
   },
   {
    "duration": 7,
    "start_time": "2024-01-22T08:26:33.241Z"
   },
   {
    "duration": 3591,
    "start_time": "2024-01-22T08:27:11.559Z"
   },
   {
    "duration": 5309,
    "start_time": "2024-01-22T08:27:18.423Z"
   },
   {
    "duration": 5133,
    "start_time": "2024-01-22T08:27:43.606Z"
   },
   {
    "duration": 6090,
    "start_time": "2024-01-22T08:27:51.215Z"
   },
   {
    "duration": 5220,
    "start_time": "2024-01-22T08:28:00.817Z"
   },
   {
    "duration": 5202,
    "start_time": "2024-01-22T08:28:09.981Z"
   },
   {
    "duration": 5104,
    "start_time": "2024-01-22T08:28:17.570Z"
   },
   {
    "duration": 5233,
    "start_time": "2024-01-22T08:28:28.682Z"
   },
   {
    "duration": 5237,
    "start_time": "2024-01-22T08:28:36.844Z"
   },
   {
    "duration": 2896,
    "start_time": "2024-01-22T08:28:45.909Z"
   },
   {
    "duration": 6082,
    "start_time": "2024-01-22T08:28:50.717Z"
   },
   {
    "duration": 2700,
    "start_time": "2024-01-22T08:29:04.215Z"
   },
   {
    "duration": 2726,
    "start_time": "2024-01-22T08:29:09.890Z"
   },
   {
    "duration": 24,
    "start_time": "2024-01-22T08:30:06.511Z"
   },
   {
    "duration": 6304,
    "start_time": "2024-01-22T08:30:13.519Z"
   },
   {
    "duration": 74,
    "start_time": "2024-01-22T08:30:19.825Z"
   },
   {
    "duration": 77,
    "start_time": "2024-01-22T08:31:56.467Z"
   },
   {
    "duration": 4,
    "start_time": "2024-01-22T08:31:56.781Z"
   },
   {
    "duration": 323,
    "start_time": "2024-01-22T08:32:00.846Z"
   },
   {
    "duration": 19867,
    "start_time": "2024-01-22T08:32:07.462Z"
   },
   {
    "duration": 3,
    "start_time": "2024-01-22T08:32:27.332Z"
   },
   {
    "duration": 5724,
    "start_time": "2024-01-22T08:32:34.089Z"
   },
   {
    "duration": 4,
    "start_time": "2024-01-22T08:32:39.815Z"
   },
   {
    "duration": 4587,
    "start_time": "2024-01-22T08:32:49.614Z"
   },
   {
    "duration": 4,
    "start_time": "2024-01-22T08:32:54.207Z"
   },
   {
    "duration": 1499,
    "start_time": "2024-01-22T08:33:02.507Z"
   },
   {
    "duration": 4,
    "start_time": "2024-01-22T08:33:04.008Z"
   },
   {
    "duration": 1851,
    "start_time": "2024-01-22T08:33:09.262Z"
   },
   {
    "duration": 5,
    "start_time": "2024-01-22T08:33:11.115Z"
   },
   {
    "duration": 1828,
    "start_time": "2024-01-22T08:33:25.483Z"
   },
   {
    "duration": 4,
    "start_time": "2024-01-22T08:33:27.313Z"
   },
   {
    "duration": 5284,
    "start_time": "2024-01-22T08:33:33.032Z"
   },
   {
    "duration": 4,
    "start_time": "2024-01-22T08:33:38.317Z"
   },
   {
    "duration": 6511,
    "start_time": "2024-01-22T08:33:52.308Z"
   },
   {
    "duration": 4,
    "start_time": "2024-01-22T08:33:58.897Z"
   },
   {
    "duration": 53,
    "start_time": "2024-01-22T08:34:25.136Z"
   },
   {
    "duration": 14,
    "start_time": "2024-01-22T08:34:31.113Z"
   },
   {
    "duration": 4,
    "start_time": "2024-01-22T08:34:32.460Z"
   },
   {
    "duration": 4079,
    "start_time": "2024-01-22T08:34:40.617Z"
   },
   {
    "duration": 6,
    "start_time": "2024-01-22T08:34:44.702Z"
   },
   {
    "duration": 4155,
    "start_time": "2024-01-22T08:35:05.547Z"
   },
   {
    "duration": 4,
    "start_time": "2024-01-22T08:35:09.711Z"
   },
   {
    "duration": 6839,
    "start_time": "2024-01-22T08:35:17.179Z"
   },
   {
    "duration": 86,
    "start_time": "2024-01-22T08:35:24.019Z"
   },
   {
    "duration": 4890,
    "start_time": "2024-01-22T08:35:40.905Z"
   },
   {
    "duration": 8,
    "start_time": "2024-01-22T08:35:45.797Z"
   },
   {
    "duration": 3963,
    "start_time": "2024-01-22T08:35:55.750Z"
   },
   {
    "duration": 4,
    "start_time": "2024-01-22T08:35:59.717Z"
   },
   {
    "duration": 4516,
    "start_time": "2024-01-22T08:36:51.308Z"
   },
   {
    "duration": 12,
    "start_time": "2024-01-22T08:36:55.894Z"
   },
   {
    "duration": 8021,
    "start_time": "2024-01-22T08:37:02.689Z"
   },
   {
    "duration": 3,
    "start_time": "2024-01-22T08:37:10.715Z"
   },
   {
    "duration": 3125,
    "start_time": "2024-01-22T08:37:31.677Z"
   },
   {
    "duration": 5,
    "start_time": "2024-01-22T08:37:34.807Z"
   },
   {
    "duration": 7632,
    "start_time": "2024-01-22T08:37:38.865Z"
   },
   {
    "duration": 6,
    "start_time": "2024-01-22T08:37:46.499Z"
   },
   {
    "duration": 6074,
    "start_time": "2024-01-22T08:37:51.631Z"
   },
   {
    "duration": 4,
    "start_time": "2024-01-22T08:37:57.708Z"
   },
   {
    "duration": 8736,
    "start_time": "2024-01-22T08:38:06.064Z"
   },
   {
    "duration": 5,
    "start_time": "2024-01-22T08:38:14.810Z"
   },
   {
    "duration": 8425,
    "start_time": "2024-01-22T08:38:21.485Z"
   },
   {
    "duration": 4,
    "start_time": "2024-01-22T08:38:31.910Z"
   },
   {
    "duration": 13,
    "start_time": "2024-01-22T08:50:39.407Z"
   },
   {
    "duration": 14,
    "start_time": "2024-01-22T08:50:50.394Z"
   },
   {
    "duration": 3,
    "start_time": "2024-01-22T08:51:35.940Z"
   },
   {
    "duration": 23,
    "start_time": "2024-01-22T08:53:06.637Z"
   },
   {
    "duration": 4,
    "start_time": "2024-01-22T08:53:07.721Z"
   },
   {
    "duration": 14,
    "start_time": "2024-01-22T08:56:22.532Z"
   },
   {
    "duration": 4,
    "start_time": "2024-01-22T08:56:22.935Z"
   },
   {
    "duration": 20,
    "start_time": "2024-01-22T08:56:25.992Z"
   },
   {
    "duration": 3,
    "start_time": "2024-01-22T08:56:26.306Z"
   },
   {
    "duration": 10,
    "start_time": "2024-01-22T08:56:33.386Z"
   },
   {
    "duration": 4,
    "start_time": "2024-01-22T08:56:33.595Z"
   },
   {
    "duration": 83,
    "start_time": "2024-01-22T08:59:51.261Z"
   },
   {
    "duration": 47518,
    "start_time": "2024-01-22T09:00:01.319Z"
   },
   {
    "duration": 9,
    "start_time": "2024-01-22T09:02:19.154Z"
   },
   {
    "duration": 5474,
    "start_time": "2024-01-22T09:02:30.058Z"
   },
   {
    "duration": 28307,
    "start_time": "2024-01-22T09:03:07.634Z"
   },
   {
    "duration": 5569,
    "start_time": "2024-01-22T09:03:37.376Z"
   },
   {
    "duration": 75372,
    "start_time": "2024-01-22T09:03:51.941Z"
   },
   {
    "duration": 18,
    "start_time": "2024-01-22T09:06:15.583Z"
   },
   {
    "duration": 10,
    "start_time": "2024-01-22T09:08:22.415Z"
   },
   {
    "duration": 167395,
    "start_time": "2024-01-22T09:09:07.813Z"
   },
   {
    "duration": 93,
    "start_time": "2024-01-22T09:11:55.210Z"
   },
   {
    "duration": 5000,
    "start_time": "2024-01-22T09:12:25.405Z"
   },
   {
    "duration": 13,
    "start_time": "2024-01-22T09:12:30.406Z"
   },
   {
    "duration": 3,
    "start_time": "2024-01-22T09:12:42.482Z"
   },
   {
    "duration": 5,
    "start_time": "2024-01-22T09:12:46.063Z"
   },
   {
    "duration": 10492,
    "start_time": "2024-01-22T09:12:47.608Z"
   },
   {
    "duration": 7,
    "start_time": "2024-01-22T09:12:58.102Z"
   },
   {
    "duration": 7661,
    "start_time": "2024-01-22T09:13:00.543Z"
   },
   {
    "duration": 8,
    "start_time": "2024-01-22T09:13:08.207Z"
   },
   {
    "duration": 21,
    "start_time": "2024-01-22T09:13:11.221Z"
   },
   {
    "duration": 2903,
    "start_time": "2024-01-22T09:13:21.709Z"
   },
   {
    "duration": 4,
    "start_time": "2024-01-22T09:13:24.615Z"
   },
   {
    "duration": 10770,
    "start_time": "2024-01-22T09:13:40.741Z"
   },
   {
    "duration": 6,
    "start_time": "2024-01-22T09:13:51.513Z"
   },
   {
    "duration": 4976,
    "start_time": "2024-01-22T09:14:01.234Z"
   },
   {
    "duration": 5,
    "start_time": "2024-01-22T09:14:06.212Z"
   },
   {
    "duration": 17,
    "start_time": "2024-01-22T09:15:30.452Z"
   },
   {
    "duration": 19,
    "start_time": "2024-01-22T09:15:36.681Z"
   },
   {
    "duration": 9982,
    "start_time": "2024-01-22T09:17:05.413Z"
   },
   {
    "duration": 4227,
    "start_time": "2024-01-22T09:17:30.282Z"
   },
   {
    "duration": 10491,
    "start_time": "2024-01-22T09:17:37.518Z"
   },
   {
    "duration": 5283,
    "start_time": "2024-01-22T09:19:05.313Z"
   },
   {
    "duration": 6967,
    "start_time": "2024-01-22T09:19:22.934Z"
   },
   {
    "duration": 6302,
    "start_time": "2024-01-22T09:19:33.307Z"
   },
   {
    "duration": 5951,
    "start_time": "2024-01-22T09:19:46.075Z"
   },
   {
    "duration": 3134,
    "start_time": "2024-01-22T09:20:04.182Z"
   },
   {
    "duration": 1500,
    "start_time": "2024-01-22T09:20:27.232Z"
   },
   {
    "duration": 2,
    "start_time": "2024-01-22T09:20:28.734Z"
   },
   {
    "duration": 217,
    "start_time": "2024-01-22T09:20:28.738Z"
   },
   {
    "duration": 3,
    "start_time": "2024-01-22T09:20:28.957Z"
   },
   {
    "duration": 6,
    "start_time": "2024-01-22T09:20:28.961Z"
   },
   {
    "duration": 95,
    "start_time": "2024-01-22T09:20:28.969Z"
   },
   {
    "duration": 40,
    "start_time": "2024-01-22T09:20:29.066Z"
   },
   {
    "duration": 24,
    "start_time": "2024-01-22T09:20:29.107Z"
   },
   {
    "duration": 25,
    "start_time": "2024-01-22T09:20:29.133Z"
   },
   {
    "duration": 11,
    "start_time": "2024-01-22T09:20:29.161Z"
   },
   {
    "duration": 12,
    "start_time": "2024-01-22T09:20:29.174Z"
   },
   {
    "duration": 5,
    "start_time": "2024-01-22T09:20:29.187Z"
   },
   {
    "duration": 10,
    "start_time": "2024-01-22T09:20:29.194Z"
   },
   {
    "duration": 10,
    "start_time": "2024-01-22T09:20:29.205Z"
   },
   {
    "duration": 23,
    "start_time": "2024-01-22T09:20:29.216Z"
   },
   {
    "duration": 20,
    "start_time": "2024-01-22T09:20:29.240Z"
   },
   {
    "duration": 3,
    "start_time": "2024-01-22T09:20:29.262Z"
   },
   {
    "duration": 46,
    "start_time": "2024-01-22T09:20:29.266Z"
   },
   {
    "duration": 13,
    "start_time": "2024-01-22T09:20:29.314Z"
   },
   {
    "duration": 23,
    "start_time": "2024-01-22T09:20:29.329Z"
   },
   {
    "duration": 15,
    "start_time": "2024-01-22T09:20:29.354Z"
   },
   {
    "duration": 10,
    "start_time": "2024-01-22T09:20:29.371Z"
   },
   {
    "duration": 31,
    "start_time": "2024-01-22T09:20:29.394Z"
   },
   {
    "duration": 13,
    "start_time": "2024-01-22T09:20:29.426Z"
   },
   {
    "duration": 42,
    "start_time": "2024-01-22T09:20:29.440Z"
   },
   {
    "duration": 30,
    "start_time": "2024-01-22T09:20:29.484Z"
   },
   {
    "duration": 14,
    "start_time": "2024-01-22T09:20:29.516Z"
   },
   {
    "duration": 16,
    "start_time": "2024-01-22T09:20:29.533Z"
   },
   {
    "duration": 60,
    "start_time": "2024-01-22T09:20:29.551Z"
   },
   {
    "duration": 17,
    "start_time": "2024-01-22T09:20:29.613Z"
   },
   {
    "duration": 18,
    "start_time": "2024-01-22T09:20:29.632Z"
   },
   {
    "duration": 16,
    "start_time": "2024-01-22T09:20:29.652Z"
   },
   {
    "duration": 46,
    "start_time": "2024-01-22T09:20:29.670Z"
   },
   {
    "duration": 14,
    "start_time": "2024-01-22T09:20:29.717Z"
   },
   {
    "duration": 18,
    "start_time": "2024-01-22T09:20:29.732Z"
   },
   {
    "duration": 15,
    "start_time": "2024-01-22T09:20:29.751Z"
   },
   {
    "duration": 15,
    "start_time": "2024-01-22T09:20:29.768Z"
   },
   {
    "duration": 55,
    "start_time": "2024-01-22T09:20:29.784Z"
   },
   {
    "duration": 21,
    "start_time": "2024-01-22T09:20:29.841Z"
   },
   {
    "duration": 57,
    "start_time": "2024-01-22T09:20:29.863Z"
   },
   {
    "duration": 3,
    "start_time": "2024-01-22T09:20:29.922Z"
   },
   {
    "duration": 10,
    "start_time": "2024-01-22T09:20:29.926Z"
   },
   {
    "duration": 16,
    "start_time": "2024-01-22T09:20:29.937Z"
   },
   {
    "duration": 46,
    "start_time": "2024-01-22T09:20:29.955Z"
   },
   {
    "duration": 5,
    "start_time": "2024-01-22T09:20:30.002Z"
   },
   {
    "duration": 50,
    "start_time": "2024-01-22T09:20:30.008Z"
   },
   {
    "duration": 57,
    "start_time": "2024-01-22T09:20:30.060Z"
   },
   {
    "duration": 159,
    "start_time": "2024-01-22T09:20:30.119Z"
   },
   {
    "duration": 75,
    "start_time": "2024-01-22T09:20:30.279Z"
   },
   {
    "duration": 21,
    "start_time": "2024-01-22T09:20:30.356Z"
   },
   {
    "duration": 22,
    "start_time": "2024-01-22T09:20:30.379Z"
   },
   {
    "duration": 7,
    "start_time": "2024-01-22T09:20:30.404Z"
   },
   {
    "duration": 318,
    "start_time": "2024-01-22T09:20:30.413Z"
   },
   {
    "duration": 199176,
    "start_time": "2024-01-22T09:20:30.733Z"
   },
   {
    "duration": 95,
    "start_time": "2024-01-22T09:23:49.910Z"
   },
   {
    "duration": 45251,
    "start_time": "2024-01-22T09:23:50.008Z"
   },
   {
    "duration": 7,
    "start_time": "2024-01-22T09:24:35.260Z"
   },
   {
    "duration": 5139,
    "start_time": "2024-01-22T09:24:35.269Z"
   },
   {
    "duration": 5594,
    "start_time": "2024-01-22T09:24:40.409Z"
   },
   {
    "duration": 6,
    "start_time": "2024-01-22T09:24:46.005Z"
   },
   {
    "duration": 7459,
    "start_time": "2024-01-22T09:24:53.659Z"
   },
   {
    "duration": 4879,
    "start_time": "2024-01-22T09:25:16.028Z"
   },
   {
    "duration": 557,
    "start_time": "2024-01-22T09:25:27.049Z"
   },
   {
    "duration": 6018,
    "start_time": "2024-01-22T09:25:31.612Z"
   },
   {
    "duration": 17633,
    "start_time": "2024-01-22T09:25:42.183Z"
   },
   {
    "duration": 7812,
    "start_time": "2024-01-22T09:26:11.094Z"
   },
   {
    "duration": 9920,
    "start_time": "2024-01-22T09:26:23.996Z"
   },
   {
    "duration": 6807,
    "start_time": "2024-01-22T09:26:37.706Z"
   },
   {
    "duration": 5502,
    "start_time": "2024-01-22T09:26:50.012Z"
   },
   {
    "duration": 5146,
    "start_time": "2024-01-22T09:27:02.769Z"
   },
   {
    "duration": 3456,
    "start_time": "2024-01-22T09:27:13.349Z"
   },
   {
    "duration": 2644,
    "start_time": "2024-01-22T09:27:20.980Z"
   },
   {
    "duration": 6904,
    "start_time": "2024-01-22T09:27:28.410Z"
   },
   {
    "duration": 43,
    "start_time": "2024-01-22T09:30:40.178Z"
   },
   {
    "duration": 5,
    "start_time": "2024-01-22T09:32:06.006Z"
   },
   {
    "duration": 1013,
    "start_time": "2024-01-22T09:32:23.706Z"
   },
   {
    "duration": 43,
    "start_time": "2024-01-22T09:32:29.873Z"
   },
   {
    "duration": 989,
    "start_time": "2024-01-22T09:32:34.535Z"
   },
   {
    "duration": 972,
    "start_time": "2024-01-22T09:32:41.706Z"
   },
   {
    "duration": 41,
    "start_time": "2024-01-22T09:32:46.204Z"
   },
   {
    "duration": 12,
    "start_time": "2024-01-22T09:33:52.268Z"
   },
   {
    "duration": 11,
    "start_time": "2024-01-22T09:33:57.771Z"
   },
   {
    "duration": 5,
    "start_time": "2024-01-22T09:36:03.332Z"
   },
   {
    "duration": 9,
    "start_time": "2024-01-22T09:36:19.954Z"
   },
   {
    "duration": 21,
    "start_time": "2024-01-22T09:36:27.986Z"
   },
   {
    "duration": 9,
    "start_time": "2024-01-22T09:37:36.560Z"
   },
   {
    "duration": 7,
    "start_time": "2024-01-22T09:37:42.983Z"
   },
   {
    "duration": 10,
    "start_time": "2024-01-22T09:37:46.158Z"
   },
   {
    "duration": 11,
    "start_time": "2024-01-22T09:38:08.038Z"
   },
   {
    "duration": 5,
    "start_time": "2024-01-22T09:40:08.506Z"
   },
   {
    "duration": 41,
    "start_time": "2024-01-22T09:40:14.915Z"
   },
   {
    "duration": 5,
    "start_time": "2024-01-22T09:41:06.686Z"
   },
   {
    "duration": 4,
    "start_time": "2024-01-22T09:41:07.906Z"
   },
   {
    "duration": 41,
    "start_time": "2024-01-22T09:41:09.708Z"
   },
   {
    "duration": 8,
    "start_time": "2024-01-22T09:41:12.666Z"
   },
   {
    "duration": 267,
    "start_time": "2024-01-22T09:41:19.810Z"
   },
   {
    "duration": 46,
    "start_time": "2024-01-22T09:41:46.364Z"
   },
   {
    "duration": 5,
    "start_time": "2024-01-22T09:42:33.161Z"
   },
   {
    "duration": 9,
    "start_time": "2024-01-22T09:42:58.298Z"
   },
   {
    "duration": 6,
    "start_time": "2024-01-22T09:43:15.242Z"
   },
   {
    "duration": 6,
    "start_time": "2024-01-22T09:43:22.385Z"
   },
   {
    "duration": 6,
    "start_time": "2024-01-22T09:43:35.506Z"
   },
   {
    "duration": 300,
    "start_time": "2024-01-22T09:44:16.463Z"
   },
   {
    "duration": 272,
    "start_time": "2024-01-22T09:44:27.820Z"
   },
   {
    "duration": 267,
    "start_time": "2024-01-22T09:44:32.738Z"
   },
   {
    "duration": 55,
    "start_time": "2024-01-22T09:44:50.052Z"
   },
   {
    "duration": 59,
    "start_time": "2024-01-22T09:45:48.891Z"
   },
   {
    "duration": 3,
    "start_time": "2024-01-22T09:45:55.651Z"
   },
   {
    "duration": 5,
    "start_time": "2024-01-22T09:46:04.666Z"
   },
   {
    "duration": 39,
    "start_time": "2024-01-22T09:46:07.850Z"
   },
   {
    "duration": 5,
    "start_time": "2024-01-22T09:46:13.415Z"
   },
   {
    "duration": 5,
    "start_time": "2024-01-22T09:46:14.932Z"
   },
   {
    "duration": 275,
    "start_time": "2024-01-22T09:46:18.617Z"
   },
   {
    "duration": 44411,
    "start_time": "2024-01-22T09:46:33.106Z"
   },
   {
    "duration": 7,
    "start_time": "2024-01-22T09:47:17.519Z"
   },
   {
    "duration": 5239,
    "start_time": "2024-01-22T09:47:25.907Z"
   },
   {
    "duration": 5,
    "start_time": "2024-01-22T09:48:15.075Z"
   },
   {
    "duration": 4,
    "start_time": "2024-01-22T09:48:15.386Z"
   },
   {
    "duration": 11,
    "start_time": "2024-01-22T09:48:20.028Z"
   },
   {
    "duration": 89,
    "start_time": "2024-01-22T09:48:26.724Z"
   },
   {
    "duration": 8,
    "start_time": "2024-01-22T09:48:35.665Z"
   },
   {
    "duration": 5,
    "start_time": "2024-01-22T09:49:09.669Z"
   },
   {
    "duration": 5,
    "start_time": "2024-01-22T09:49:21.648Z"
   },
   {
    "duration": 317,
    "start_time": "2024-01-22T09:49:26.047Z"
   },
   {
    "duration": 4,
    "start_time": "2024-01-22T09:49:51.042Z"
   },
   {
    "duration": 39,
    "start_time": "2024-01-22T09:49:54.335Z"
   },
   {
    "duration": 19,
    "start_time": "2024-01-22T09:49:58.188Z"
   },
   {
    "duration": 4,
    "start_time": "2024-01-22T09:50:04.412Z"
   },
   {
    "duration": 4,
    "start_time": "2024-01-22T09:50:05.075Z"
   },
   {
    "duration": 19,
    "start_time": "2024-01-22T09:50:06.688Z"
   },
   {
    "duration": 5,
    "start_time": "2024-01-22T09:50:08.466Z"
   },
   {
    "duration": 6,
    "start_time": "2024-01-22T09:50:08.966Z"
   },
   {
    "duration": 264,
    "start_time": "2024-01-22T09:50:11.916Z"
   },
   {
    "duration": 5024,
    "start_time": "2024-01-22T09:50:22.986Z"
   },
   {
    "duration": 5,
    "start_time": "2024-01-22T09:50:38.908Z"
   },
   {
    "duration": 40,
    "start_time": "2024-01-22T09:50:40.826Z"
   },
   {
    "duration": 5,
    "start_time": "2024-01-22T09:50:43.406Z"
   },
   {
    "duration": 5,
    "start_time": "2024-01-22T09:50:44.001Z"
   },
   {
    "duration": 8,
    "start_time": "2024-01-22T09:50:44.319Z"
   },
   {
    "duration": 5,
    "start_time": "2024-01-22T09:50:46.486Z"
   },
   {
    "duration": 5,
    "start_time": "2024-01-22T09:50:47.016Z"
   },
   {
    "duration": 261,
    "start_time": "2024-01-22T09:50:48.506Z"
   },
   {
    "duration": 4984,
    "start_time": "2024-01-22T09:50:54.955Z"
   },
   {
    "duration": 6234,
    "start_time": "2024-01-22T09:51:37.870Z"
   },
   {
    "duration": 1385,
    "start_time": "2024-01-22T10:00:15.507Z"
   },
   {
    "duration": 13,
    "start_time": "2024-01-22T10:00:16.894Z"
   },
   {
    "duration": 245,
    "start_time": "2024-01-22T10:00:16.909Z"
   },
   {
    "duration": 3,
    "start_time": "2024-01-22T10:00:17.156Z"
   },
   {
    "duration": 47,
    "start_time": "2024-01-22T10:00:17.160Z"
   },
   {
    "duration": 100,
    "start_time": "2024-01-22T10:00:17.209Z"
   },
   {
    "duration": 12,
    "start_time": "2024-01-22T10:00:17.310Z"
   },
   {
    "duration": 43,
    "start_time": "2024-01-22T10:00:17.323Z"
   },
   {
    "duration": 44,
    "start_time": "2024-01-22T10:00:17.367Z"
   },
   {
    "duration": 52,
    "start_time": "2024-01-22T10:00:17.414Z"
   },
   {
    "duration": 59,
    "start_time": "2024-01-22T10:00:17.468Z"
   },
   {
    "duration": 53,
    "start_time": "2024-01-22T10:00:17.529Z"
   },
   {
    "duration": 41,
    "start_time": "2024-01-22T10:00:17.584Z"
   },
   {
    "duration": 60,
    "start_time": "2024-01-22T10:00:17.626Z"
   },
   {
    "duration": 56,
    "start_time": "2024-01-22T10:00:17.687Z"
   },
   {
    "duration": 71,
    "start_time": "2024-01-22T10:00:17.745Z"
   },
   {
    "duration": 60,
    "start_time": "2024-01-22T10:00:17.817Z"
   },
   {
    "duration": 57,
    "start_time": "2024-01-22T10:00:17.878Z"
   },
   {
    "duration": 54,
    "start_time": "2024-01-22T10:00:17.937Z"
   },
   {
    "duration": 38,
    "start_time": "2024-01-22T10:00:17.993Z"
   },
   {
    "duration": 35,
    "start_time": "2024-01-22T10:00:18.033Z"
   },
   {
    "duration": 55,
    "start_time": "2024-01-22T10:00:18.069Z"
   },
   {
    "duration": 51,
    "start_time": "2024-01-22T10:00:18.125Z"
   },
   {
    "duration": 57,
    "start_time": "2024-01-22T10:00:18.178Z"
   },
   {
    "duration": 31,
    "start_time": "2024-01-22T10:00:18.237Z"
   },
   {
    "duration": 38,
    "start_time": "2024-01-22T10:00:18.270Z"
   },
   {
    "duration": 39,
    "start_time": "2024-01-22T10:00:18.310Z"
   },
   {
    "duration": 33,
    "start_time": "2024-01-22T10:00:18.353Z"
   },
   {
    "duration": 32,
    "start_time": "2024-01-22T10:00:18.388Z"
   },
   {
    "duration": 42,
    "start_time": "2024-01-22T10:00:18.422Z"
   },
   {
    "duration": 51,
    "start_time": "2024-01-22T10:00:18.465Z"
   },
   {
    "duration": 43,
    "start_time": "2024-01-22T10:00:18.517Z"
   },
   {
    "duration": 37,
    "start_time": "2024-01-22T10:00:18.562Z"
   },
   {
    "duration": 39,
    "start_time": "2024-01-22T10:00:18.601Z"
   },
   {
    "duration": 28,
    "start_time": "2024-01-22T10:00:18.642Z"
   },
   {
    "duration": 52,
    "start_time": "2024-01-22T10:00:18.672Z"
   },
   {
    "duration": 39,
    "start_time": "2024-01-22T10:00:18.726Z"
   },
   {
    "duration": 62,
    "start_time": "2024-01-22T10:00:18.767Z"
   },
   {
    "duration": 34,
    "start_time": "2024-01-22T10:00:18.831Z"
   },
   {
    "duration": 63,
    "start_time": "2024-01-22T10:00:18.866Z"
   },
   {
    "duration": 3,
    "start_time": "2024-01-22T10:00:18.932Z"
   },
   {
    "duration": 25,
    "start_time": "2024-01-22T10:00:18.936Z"
   },
   {
    "duration": 36,
    "start_time": "2024-01-22T10:00:18.962Z"
   },
   {
    "duration": 65,
    "start_time": "2024-01-22T10:00:18.999Z"
   },
   {
    "duration": 42,
    "start_time": "2024-01-22T10:00:19.066Z"
   },
   {
    "duration": 29,
    "start_time": "2024-01-22T10:00:19.109Z"
   },
   {
    "duration": 33,
    "start_time": "2024-01-22T10:00:19.139Z"
   },
   {
    "duration": 80,
    "start_time": "2024-01-22T10:00:19.174Z"
   },
   {
    "duration": 31,
    "start_time": "2024-01-22T10:00:19.255Z"
   },
   {
    "duration": 21,
    "start_time": "2024-01-22T10:00:19.287Z"
   },
   {
    "duration": 39,
    "start_time": "2024-01-22T10:00:19.310Z"
   },
   {
    "duration": 31,
    "start_time": "2024-01-22T10:00:19.350Z"
   },
   {
    "duration": 64,
    "start_time": "2024-01-22T10:00:19.383Z"
   },
   {
    "duration": 82,
    "start_time": "2024-01-22T10:00:19.449Z"
   },
   {
    "duration": 316,
    "start_time": "2024-01-22T10:00:19.532Z"
   },
   {
    "duration": 164345,
    "start_time": "2024-01-22T10:00:19.849Z"
   },
   {
    "duration": 22,
    "start_time": "2024-01-22T10:03:04.196Z"
   },
   {
    "duration": 43532,
    "start_time": "2024-01-22T10:03:04.219Z"
   },
   {
    "duration": 8,
    "start_time": "2024-01-22T10:03:47.753Z"
   },
   {
    "duration": 4877,
    "start_time": "2024-01-22T10:03:47.762Z"
   },
   {
    "duration": 5973,
    "start_time": "2024-01-22T10:03:52.641Z"
   },
   {
    "duration": 87,
    "start_time": "2024-01-22T10:03:58.618Z"
   },
   {
    "duration": 4508,
    "start_time": "2024-01-22T10:05:50.593Z"
   },
   {
    "duration": 4532,
    "start_time": "2024-01-22T10:06:06.573Z"
   },
   {
    "duration": 46,
    "start_time": "2024-01-23T14:10:39.251Z"
   },
   {
    "duration": 1524,
    "start_time": "2024-01-23T14:10:43.111Z"
   },
   {
    "duration": 3,
    "start_time": "2024-01-23T14:10:44.637Z"
   },
   {
    "duration": 538,
    "start_time": "2024-01-23T14:10:44.641Z"
   },
   {
    "duration": 3,
    "start_time": "2024-01-23T14:10:45.181Z"
   },
   {
    "duration": 54,
    "start_time": "2024-01-23T14:10:45.185Z"
   },
   {
    "duration": 108,
    "start_time": "2024-01-23T14:10:45.240Z"
   },
   {
    "duration": 11,
    "start_time": "2024-01-23T14:10:45.350Z"
   },
   {
    "duration": 28,
    "start_time": "2024-01-23T14:10:45.362Z"
   },
   {
    "duration": 10,
    "start_time": "2024-01-23T14:10:45.392Z"
   },
   {
    "duration": 14,
    "start_time": "2024-01-23T14:10:45.404Z"
   },
   {
    "duration": 11,
    "start_time": "2024-01-23T14:10:45.420Z"
   },
   {
    "duration": 18,
    "start_time": "2024-01-23T14:10:45.432Z"
   },
   {
    "duration": 31,
    "start_time": "2024-01-23T14:10:45.451Z"
   },
   {
    "duration": 13,
    "start_time": "2024-01-23T14:10:45.484Z"
   },
   {
    "duration": 24,
    "start_time": "2024-01-23T14:10:45.499Z"
   },
   {
    "duration": 20,
    "start_time": "2024-01-23T14:10:45.525Z"
   },
   {
    "duration": 21,
    "start_time": "2024-01-23T14:10:45.547Z"
   },
   {
    "duration": 30,
    "start_time": "2024-01-23T14:10:45.570Z"
   },
   {
    "duration": 15,
    "start_time": "2024-01-23T14:10:45.601Z"
   },
   {
    "duration": 20,
    "start_time": "2024-01-23T14:10:45.618Z"
   },
   {
    "duration": 8,
    "start_time": "2024-01-23T14:10:45.639Z"
   },
   {
    "duration": 9,
    "start_time": "2024-01-23T14:10:45.649Z"
   },
   {
    "duration": 11,
    "start_time": "2024-01-23T14:10:45.659Z"
   },
   {
    "duration": 18,
    "start_time": "2024-01-23T14:10:45.671Z"
   },
   {
    "duration": 6,
    "start_time": "2024-01-23T14:10:45.690Z"
   },
   {
    "duration": 12,
    "start_time": "2024-01-23T14:10:45.697Z"
   },
   {
    "duration": 15,
    "start_time": "2024-01-23T14:10:45.710Z"
   },
   {
    "duration": 5,
    "start_time": "2024-01-23T14:10:45.728Z"
   },
   {
    "duration": 3,
    "start_time": "2024-01-23T14:10:45.735Z"
   },
   {
    "duration": 23,
    "start_time": "2024-01-23T14:10:45.740Z"
   },
   {
    "duration": 14,
    "start_time": "2024-01-23T14:10:45.765Z"
   },
   {
    "duration": 22,
    "start_time": "2024-01-23T14:10:45.780Z"
   },
   {
    "duration": 18,
    "start_time": "2024-01-23T14:10:45.804Z"
   },
   {
    "duration": 8,
    "start_time": "2024-01-23T14:10:45.824Z"
   },
   {
    "duration": 31,
    "start_time": "2024-01-23T14:10:45.833Z"
   },
   {
    "duration": 25,
    "start_time": "2024-01-23T14:10:45.866Z"
   },
   {
    "duration": 7,
    "start_time": "2024-01-23T14:10:45.893Z"
   },
   {
    "duration": 28,
    "start_time": "2024-01-23T14:10:45.901Z"
   },
   {
    "duration": 16,
    "start_time": "2024-01-23T14:10:45.930Z"
   },
   {
    "duration": 53,
    "start_time": "2024-01-23T14:10:45.958Z"
   },
   {
    "duration": 3,
    "start_time": "2024-01-23T14:10:46.013Z"
   },
   {
    "duration": 28,
    "start_time": "2024-01-23T14:10:46.017Z"
   },
   {
    "duration": 10,
    "start_time": "2024-01-23T14:10:46.046Z"
   },
   {
    "duration": 36,
    "start_time": "2024-01-23T14:10:46.057Z"
   },
   {
    "duration": 4,
    "start_time": "2024-01-23T14:10:46.094Z"
   },
   {
    "duration": 5,
    "start_time": "2024-01-23T14:10:46.099Z"
   },
   {
    "duration": 4,
    "start_time": "2024-01-23T14:10:46.105Z"
   },
   {
    "duration": 49,
    "start_time": "2024-01-23T14:10:46.110Z"
   },
   {
    "duration": 29,
    "start_time": "2024-01-23T14:10:46.161Z"
   },
   {
    "duration": 4,
    "start_time": "2024-01-23T14:10:46.191Z"
   },
   {
    "duration": 3,
    "start_time": "2024-01-23T14:10:46.197Z"
   },
   {
    "duration": 12,
    "start_time": "2024-01-23T14:10:46.201Z"
   },
   {
    "duration": 7,
    "start_time": "2024-01-23T14:10:46.215Z"
   },
   {
    "duration": 58,
    "start_time": "2024-01-23T14:10:46.223Z"
   },
   {
    "duration": 5,
    "start_time": "2024-01-23T14:10:46.282Z"
   },
   {
    "duration": 266,
    "start_time": "2024-01-23T14:10:46.288Z"
   },
   {
    "duration": 7375,
    "start_time": "2024-01-23T14:10:46.559Z"
   },
   {
    "duration": 12,
    "start_time": "2024-01-23T14:10:53.936Z"
   },
   {
    "duration": 0,
    "start_time": "2024-01-23T14:10:53.950Z"
   },
   {
    "duration": 0,
    "start_time": "2024-01-23T14:10:53.951Z"
   },
   {
    "duration": 0,
    "start_time": "2024-01-23T14:10:53.952Z"
   },
   {
    "duration": 0,
    "start_time": "2024-01-23T14:10:53.954Z"
   },
   {
    "duration": 0,
    "start_time": "2024-01-23T14:10:53.955Z"
   },
   {
    "duration": 89,
    "start_time": "2024-01-23T14:15:49.297Z"
   },
   {
    "duration": 5,
    "start_time": "2024-01-23T14:16:01.583Z"
   },
   {
    "duration": 4,
    "start_time": "2024-01-23T14:16:02.291Z"
   },
   {
    "duration": 91,
    "start_time": "2024-01-23T14:16:03.131Z"
   },
   {
    "duration": 40,
    "start_time": "2024-01-23T14:43:04.105Z"
   },
   {
    "duration": 5,
    "start_time": "2024-01-23T14:43:05.419Z"
   },
   {
    "duration": 253,
    "start_time": "2024-01-23T14:43:06.743Z"
   },
   {
    "duration": 108,
    "start_time": "2024-01-23T14:44:01.495Z"
   },
   {
    "duration": 5,
    "start_time": "2024-01-23T14:44:04.455Z"
   },
   {
    "duration": 6,
    "start_time": "2024-01-23T14:44:10.936Z"
   },
   {
    "duration": 6,
    "start_time": "2024-01-23T14:44:18.683Z"
   },
   {
    "duration": 5,
    "start_time": "2024-01-23T14:44:23.531Z"
   },
   {
    "duration": 5,
    "start_time": "2024-01-23T14:45:04.860Z"
   },
   {
    "duration": 4,
    "start_time": "2024-01-23T14:45:21.475Z"
   },
   {
    "duration": 39,
    "start_time": "2024-01-23T14:45:22.583Z"
   },
   {
    "duration": 5,
    "start_time": "2024-01-23T14:45:24.854Z"
   },
   {
    "duration": 251,
    "start_time": "2024-01-23T14:45:27.589Z"
   },
   {
    "duration": 5,
    "start_time": "2024-01-23T14:45:38.888Z"
   },
   {
    "duration": 5,
    "start_time": "2024-01-23T14:45:39.592Z"
   },
   {
    "duration": 82,
    "start_time": "2024-01-23T14:45:40.836Z"
   },
   {
    "duration": 36,
    "start_time": "2024-01-23T14:45:45.595Z"
   },
   {
    "duration": 5,
    "start_time": "2024-01-23T14:45:47.475Z"
   },
   {
    "duration": 260,
    "start_time": "2024-01-23T14:45:48.684Z"
   },
   {
    "duration": 6,
    "start_time": "2024-01-23T14:46:03.174Z"
   },
   {
    "duration": 6,
    "start_time": "2024-01-23T14:46:17.805Z"
   },
   {
    "duration": 6,
    "start_time": "2024-01-23T14:46:34.702Z"
   },
   {
    "duration": 41,
    "start_time": "2024-01-23T14:46:36.007Z"
   },
   {
    "duration": 4,
    "start_time": "2024-01-23T14:46:37.804Z"
   },
   {
    "duration": 250,
    "start_time": "2024-01-23T14:46:39.147Z"
   },
   {
    "duration": 5,
    "start_time": "2024-01-23T14:46:44.675Z"
   },
   {
    "duration": 4,
    "start_time": "2024-01-23T14:46:45.343Z"
   },
   {
    "duration": 93,
    "start_time": "2024-01-23T14:46:47.051Z"
   },
   {
    "duration": 39,
    "start_time": "2024-01-23T14:47:19.199Z"
   },
   {
    "duration": 259,
    "start_time": "2024-01-23T14:47:39.786Z"
   },
   {
    "duration": 36,
    "start_time": "2024-01-23T14:47:43.257Z"
   },
   {
    "duration": 5,
    "start_time": "2024-01-23T14:47:44.395Z"
   },
   {
    "duration": 262,
    "start_time": "2024-01-23T14:47:45.394Z"
   },
   {
    "duration": 8,
    "start_time": "2024-01-23T14:47:55.830Z"
   },
   {
    "duration": 6,
    "start_time": "2024-01-23T14:48:29.302Z"
   },
   {
    "duration": 5,
    "start_time": "2024-01-23T14:48:40.705Z"
   },
   {
    "duration": 43,
    "start_time": "2024-01-23T14:48:41.560Z"
   },
   {
    "duration": 5,
    "start_time": "2024-01-23T14:48:44.414Z"
   },
   {
    "duration": 249,
    "start_time": "2024-01-23T14:48:45.668Z"
   },
   {
    "duration": 4,
    "start_time": "2024-01-23T14:48:59.586Z"
   },
   {
    "duration": 5,
    "start_time": "2024-01-23T14:49:00.245Z"
   },
   {
    "duration": 37,
    "start_time": "2024-01-23T14:49:05.813Z"
   },
   {
    "duration": 5,
    "start_time": "2024-01-23T14:49:07.352Z"
   },
   {
    "duration": 249,
    "start_time": "2024-01-23T14:49:08.508Z"
   },
   {
    "duration": 5,
    "start_time": "2024-01-23T14:49:15.304Z"
   },
   {
    "duration": 4,
    "start_time": "2024-01-23T14:49:16.020Z"
   },
   {
    "duration": 83,
    "start_time": "2024-01-23T14:49:17.452Z"
   },
   {
    "duration": 4,
    "start_time": "2024-01-23T14:49:18.685Z"
   },
   {
    "duration": 5,
    "start_time": "2024-01-23T14:49:20.967Z"
   },
   {
    "duration": 38,
    "start_time": "2024-01-23T14:49:22.350Z"
   },
   {
    "duration": 4,
    "start_time": "2024-01-23T14:49:24.387Z"
   },
   {
    "duration": 240,
    "start_time": "2024-01-23T14:49:25.990Z"
   },
   {
    "duration": 5,
    "start_time": "2024-01-23T14:49:41.802Z"
   },
   {
    "duration": 4,
    "start_time": "2024-01-23T14:49:42.695Z"
   },
   {
    "duration": 5,
    "start_time": "2024-01-23T14:49:44.786Z"
   },
   {
    "duration": 43,
    "start_time": "2024-01-23T14:49:46.964Z"
   },
   {
    "duration": 5,
    "start_time": "2024-01-23T14:49:48.641Z"
   },
   {
    "duration": 244,
    "start_time": "2024-01-23T14:49:49.845Z"
   },
   {
    "duration": 4,
    "start_time": "2024-01-23T14:49:58.095Z"
   },
   {
    "duration": 4,
    "start_time": "2024-01-23T14:49:59.218Z"
   },
   {
    "duration": 5,
    "start_time": "2024-01-23T14:50:02.600Z"
   },
   {
    "duration": 40,
    "start_time": "2024-01-23T14:50:03.678Z"
   },
   {
    "duration": 5,
    "start_time": "2024-01-23T14:50:05.106Z"
   },
   {
    "duration": 249,
    "start_time": "2024-01-23T14:50:06.450Z"
   },
   {
    "duration": 12867,
    "start_time": "2024-01-23T14:50:09.396Z"
   },
   {
    "duration": 11,
    "start_time": "2024-01-23T14:50:22.264Z"
   },
   {
    "duration": 39520,
    "start_time": "2024-01-23T14:50:22.276Z"
   },
   {
    "duration": 7,
    "start_time": "2024-01-23T14:51:01.798Z"
   },
   {
    "duration": 4464,
    "start_time": "2024-01-23T14:51:01.807Z"
   },
   {
    "duration": 395,
    "start_time": "2024-01-23T14:51:06.272Z"
   },
   {
    "duration": 6,
    "start_time": "2024-01-23T14:51:06.668Z"
   },
   {
    "duration": 5,
    "start_time": "2024-01-23T14:51:32.460Z"
   },
   {
    "duration": 37,
    "start_time": "2024-01-23T14:51:34.458Z"
   },
   {
    "duration": 254,
    "start_time": "2024-01-23T14:51:38.508Z"
   },
   {
    "duration": 5,
    "start_time": "2024-01-23T14:51:41.388Z"
   },
   {
    "duration": 241,
    "start_time": "2024-01-23T14:51:42.362Z"
   },
   {
    "duration": 4358,
    "start_time": "2024-01-23T14:51:49.119Z"
   },
   {
    "duration": 391,
    "start_time": "2024-01-23T14:51:53.478Z"
   },
   {
    "duration": 1604,
    "start_time": "2024-01-23T20:07:34.391Z"
   },
   {
    "duration": 3,
    "start_time": "2024-01-23T20:07:37.282Z"
   },
   {
    "duration": 540,
    "start_time": "2024-01-23T20:07:37.506Z"
   },
   {
    "duration": 2,
    "start_time": "2024-01-23T20:07:38.048Z"
   },
   {
    "duration": 7,
    "start_time": "2024-01-23T20:07:38.052Z"
   },
   {
    "duration": 83,
    "start_time": "2024-01-23T20:07:38.061Z"
   },
   {
    "duration": 12,
    "start_time": "2024-01-23T20:07:39.038Z"
   },
   {
    "duration": 12,
    "start_time": "2024-01-23T20:07:39.218Z"
   },
   {
    "duration": 13,
    "start_time": "2024-01-23T20:07:39.597Z"
   },
   {
    "duration": 10,
    "start_time": "2024-01-23T20:07:39.817Z"
   },
   {
    "duration": 10,
    "start_time": "2024-01-23T20:07:40.205Z"
   },
   {
    "duration": 5,
    "start_time": "2024-01-23T20:07:40.616Z"
   },
   {
    "duration": 8,
    "start_time": "2024-01-23T20:07:41.565Z"
   },
   {
    "duration": 3,
    "start_time": "2024-01-23T20:07:41.820Z"
   },
   {
    "duration": 11,
    "start_time": "2024-01-23T20:07:42.040Z"
   },
   {
    "duration": 21,
    "start_time": "2024-01-23T20:07:42.917Z"
   },
   {
    "duration": 3,
    "start_time": "2024-01-23T20:07:43.366Z"
   },
   {
    "duration": 16,
    "start_time": "2024-01-23T20:07:43.736Z"
   },
   {
    "duration": 12,
    "start_time": "2024-01-23T20:07:43.926Z"
   },
   {
    "duration": 7,
    "start_time": "2024-01-23T20:07:44.859Z"
   },
   {
    "duration": 8,
    "start_time": "2024-01-23T20:07:45.239Z"
   },
   {
    "duration": 9,
    "start_time": "2024-01-23T20:07:45.443Z"
   },
   {
    "duration": 11,
    "start_time": "2024-01-23T20:07:46.672Z"
   },
   {
    "duration": 12,
    "start_time": "2024-01-23T20:07:46.921Z"
   },
   {
    "duration": 7,
    "start_time": "2024-01-23T20:07:47.990Z"
   },
   {
    "duration": 9,
    "start_time": "2024-01-23T20:07:48.914Z"
   },
   {
    "duration": 6,
    "start_time": "2024-01-23T20:07:49.154Z"
   },
   {
    "duration": 7,
    "start_time": "2024-01-23T20:07:49.572Z"
   },
   {
    "duration": 4,
    "start_time": "2024-01-23T20:07:50.687Z"
   },
   {
    "duration": 9,
    "start_time": "2024-01-23T20:07:51.404Z"
   },
   {
    "duration": 12,
    "start_time": "2024-01-23T20:07:53.719Z"
   },
   {
    "duration": 17,
    "start_time": "2024-01-23T20:07:54.712Z"
   },
   {
    "duration": 9,
    "start_time": "2024-01-23T20:07:54.998Z"
   },
   {
    "duration": 4,
    "start_time": "2024-01-23T20:07:56.075Z"
   },
   {
    "duration": 14,
    "start_time": "2024-01-23T20:07:56.819Z"
   },
   {
    "duration": 12,
    "start_time": "2024-01-23T20:07:57.064Z"
   },
   {
    "duration": 8,
    "start_time": "2024-01-23T20:07:58.162Z"
   },
   {
    "duration": 38,
    "start_time": "2024-01-23T20:07:59.857Z"
   },
   {
    "duration": 17,
    "start_time": "2024-01-23T20:08:00.243Z"
   },
   {
    "duration": 47,
    "start_time": "2024-01-23T20:08:00.626Z"
   },
   {
    "duration": 4,
    "start_time": "2024-01-23T20:08:02.221Z"
   },
   {
    "duration": 5,
    "start_time": "2024-01-23T20:08:02.712Z"
   },
   {
    "duration": 5,
    "start_time": "2024-01-23T20:08:03.944Z"
   },
   {
    "duration": 31,
    "start_time": "2024-01-23T20:08:04.174Z"
   },
   {
    "duration": 5,
    "start_time": "2024-01-23T20:08:06.845Z"
   },
   {
    "duration": 5,
    "start_time": "2024-01-23T20:08:07.870Z"
   },
   {
    "duration": 4,
    "start_time": "2024-01-23T20:08:10.246Z"
   },
   {
    "duration": 40,
    "start_time": "2024-01-23T20:08:12.355Z"
   },
   {
    "duration": 32,
    "start_time": "2024-01-23T20:08:14.091Z"
   },
   {
    "duration": 6,
    "start_time": "2024-01-23T20:08:15.812Z"
   },
   {
    "duration": 4,
    "start_time": "2024-01-23T20:08:16.542Z"
   },
   {
    "duration": 40,
    "start_time": "2024-01-23T20:08:28.131Z"
   },
   {
    "duration": 4,
    "start_time": "2024-01-23T20:08:30.983Z"
   },
   {
    "duration": 4702,
    "start_time": "2024-01-23T20:08:44.314Z"
   },
   {
    "duration": 5,
    "start_time": "2024-01-23T20:08:58.655Z"
   },
   {
    "duration": 5,
    "start_time": "2024-01-23T20:09:01.699Z"
   },
   {
    "duration": 4593,
    "start_time": "2024-01-23T20:09:06.110Z"
   },
   {
    "duration": 5,
    "start_time": "2024-01-23T20:09:17.095Z"
   },
   {
    "duration": 4,
    "start_time": "2024-01-23T20:09:17.797Z"
   },
   {
    "duration": 88,
    "start_time": "2024-01-23T20:09:18.967Z"
   },
   {
    "duration": 7,
    "start_time": "2024-01-23T20:09:24.700Z"
   },
   {
    "duration": 5,
    "start_time": "2024-01-23T20:09:44.158Z"
   },
   {
    "duration": 6,
    "start_time": "2024-01-23T20:10:00.503Z"
   },
   {
    "duration": 5,
    "start_time": "2024-01-23T20:10:10.683Z"
   },
   {
    "duration": 38,
    "start_time": "2024-01-23T20:10:13.420Z"
   },
   {
    "duration": 5,
    "start_time": "2024-01-23T20:10:14.902Z"
   },
   {
    "duration": 4321,
    "start_time": "2024-01-23T20:10:19.985Z"
   },
   {
    "duration": 5,
    "start_time": "2024-01-23T20:10:37.073Z"
   },
   {
    "duration": 3,
    "start_time": "2024-01-23T20:10:38.076Z"
   },
   {
    "duration": 83,
    "start_time": "2024-01-23T20:10:39.063Z"
   },
   {
    "duration": 4,
    "start_time": "2024-01-23T20:10:43.354Z"
   },
   {
    "duration": 37,
    "start_time": "2024-01-23T20:10:54.563Z"
   },
   {
    "duration": 5,
    "start_time": "2024-01-23T20:11:02.875Z"
   },
   {
    "duration": 4406,
    "start_time": "2024-01-23T20:11:09.979Z"
   },
   {
    "duration": 5,
    "start_time": "2024-01-23T20:11:27.942Z"
   },
   {
    "duration": 6,
    "start_time": "2024-01-23T20:11:29.386Z"
   },
   {
    "duration": 5,
    "start_time": "2024-01-23T20:11:29.792Z"
   },
   {
    "duration": 38,
    "start_time": "2024-01-23T20:11:37.509Z"
   },
   {
    "duration": 5,
    "start_time": "2024-01-23T20:11:39.756Z"
   },
   {
    "duration": 7229,
    "start_time": "2024-01-23T20:11:42.267Z"
   },
   {
    "duration": 4494,
    "start_time": "2024-01-23T20:11:56.623Z"
   },
   {
    "duration": 5,
    "start_time": "2024-01-23T20:12:24.711Z"
   },
   {
    "duration": 4,
    "start_time": "2024-01-23T20:12:25.284Z"
   },
   {
    "duration": 87,
    "start_time": "2024-01-23T20:12:26.377Z"
   },
   {
    "duration": 6,
    "start_time": "2024-01-23T20:12:28.983Z"
   },
   {
    "duration": 4,
    "start_time": "2024-01-23T20:12:33.767Z"
   },
   {
    "duration": 38,
    "start_time": "2024-01-23T20:12:35.124Z"
   },
   {
    "duration": 5,
    "start_time": "2024-01-23T20:12:37.026Z"
   },
   {
    "duration": 4611,
    "start_time": "2024-01-23T20:12:42.443Z"
   },
   {
    "duration": 715,
    "start_time": "2024-01-23T20:12:47.056Z"
   },
   {
    "duration": 5,
    "start_time": "2024-01-23T20:12:54.434Z"
   },
   {
    "duration": 4,
    "start_time": "2024-01-23T20:12:55.403Z"
   },
   {
    "duration": 6,
    "start_time": "2024-01-23T20:13:06.947Z"
   },
   {
    "duration": 7,
    "start_time": "2024-01-23T20:13:08.012Z"
   },
   {
    "duration": 5,
    "start_time": "2024-01-23T20:13:09.298Z"
   },
   {
    "duration": 53,
    "start_time": "2024-01-23T20:13:11.815Z"
   },
   {
    "duration": 5,
    "start_time": "2024-01-23T20:13:13.387Z"
   },
   {
    "duration": 4350,
    "start_time": "2024-01-23T20:13:17.750Z"
   },
   {
    "duration": 773,
    "start_time": "2024-01-23T20:13:22.101Z"
   },
   {
    "duration": 5,
    "start_time": "2024-01-23T20:13:33.530Z"
   },
   {
    "duration": 3,
    "start_time": "2024-01-23T20:13:34.232Z"
   },
   {
    "duration": 88,
    "start_time": "2024-01-23T20:13:35.920Z"
   },
   {
    "duration": 6,
    "start_time": "2024-01-23T20:13:49.781Z"
   },
   {
    "duration": 6,
    "start_time": "2024-01-23T20:14:15.040Z"
   },
   {
    "duration": 5,
    "start_time": "2024-01-23T20:14:25.852Z"
   },
   {
    "duration": 3,
    "start_time": "2024-01-23T20:14:26.826Z"
   },
   {
    "duration": 83,
    "start_time": "2024-01-23T20:14:28.064Z"
   },
   {
    "duration": 6,
    "start_time": "2024-01-23T20:14:29.191Z"
   },
   {
    "duration": 5,
    "start_time": "2024-01-23T20:14:30.381Z"
   },
   {
    "duration": 8,
    "start_time": "2024-01-23T20:14:31.398Z"
   },
   {
    "duration": 5,
    "start_time": "2024-01-23T20:14:36.036Z"
   },
   {
    "duration": 38,
    "start_time": "2024-01-23T20:14:37.240Z"
   },
   {
    "duration": 5,
    "start_time": "2024-01-23T20:14:39.198Z"
   },
   {
    "duration": 283,
    "start_time": "2024-01-23T20:14:45.889Z"
   },
   {
    "duration": 4250,
    "start_time": "2024-01-23T20:14:50.828Z"
   },
   {
    "duration": 493,
    "start_time": "2024-01-23T20:14:57.495Z"
   },
   {
    "duration": 4,
    "start_time": "2024-01-23T20:15:10.694Z"
   },
   {
    "duration": 4,
    "start_time": "2024-01-23T20:15:11.259Z"
   },
   {
    "duration": 81,
    "start_time": "2024-01-23T20:15:12.592Z"
   },
   {
    "duration": 5,
    "start_time": "2024-01-23T20:15:13.370Z"
   },
   {
    "duration": 39,
    "start_time": "2024-01-23T20:15:20.604Z"
   },
   {
    "duration": 4,
    "start_time": "2024-01-23T20:15:22.516Z"
   },
   {
    "duration": 4436,
    "start_time": "2024-01-23T20:15:26.059Z"
   },
   {
    "duration": 611,
    "start_time": "2024-01-23T20:15:30.665Z"
   },
   {
    "duration": 6,
    "start_time": "2024-01-23T20:16:05.587Z"
   },
   {
    "duration": 6,
    "start_time": "2024-01-23T20:16:34.395Z"
   },
   {
    "duration": 4,
    "start_time": "2024-01-23T20:16:40.058Z"
   },
   {
    "duration": 40,
    "start_time": "2024-01-23T20:16:41.645Z"
   },
   {
    "duration": 5,
    "start_time": "2024-01-23T20:16:43.760Z"
   },
   {
    "duration": 255,
    "start_time": "2024-01-23T20:16:46.606Z"
   },
   {
    "duration": 4444,
    "start_time": "2024-01-23T20:16:50.411Z"
   },
   {
    "duration": 455,
    "start_time": "2024-01-23T20:16:56.815Z"
   },
   {
    "duration": 6,
    "start_time": "2024-01-23T20:17:18.530Z"
   },
   {
    "duration": 7,
    "start_time": "2024-01-23T20:17:32.532Z"
   },
   {
    "duration": 7,
    "start_time": "2024-01-23T20:17:38.763Z"
   },
   {
    "duration": 6,
    "start_time": "2024-01-23T20:17:51.139Z"
   },
   {
    "duration": 5,
    "start_time": "2024-01-23T20:18:01.089Z"
   },
   {
    "duration": 4,
    "start_time": "2024-01-23T20:18:02.112Z"
   },
   {
    "duration": 84,
    "start_time": "2024-01-23T20:18:02.975Z"
   },
   {
    "duration": 5,
    "start_time": "2024-01-23T20:18:14.003Z"
   },
   {
    "duration": 39,
    "start_time": "2024-01-23T20:18:14.713Z"
   },
   {
    "duration": 5,
    "start_time": "2024-01-23T20:18:17.059Z"
   },
   {
    "duration": 253,
    "start_time": "2024-01-23T20:18:19.549Z"
   },
   {
    "duration": 4560,
    "start_time": "2024-01-23T20:18:22.964Z"
   },
   {
    "duration": 647,
    "start_time": "2024-01-23T20:18:27.526Z"
   },
   {
    "duration": 6,
    "start_time": "2024-01-23T20:18:34.441Z"
   },
   {
    "duration": 5,
    "start_time": "2024-01-23T20:18:35.825Z"
   },
   {
    "duration": 39,
    "start_time": "2024-01-23T20:18:38.018Z"
   },
   {
    "duration": 5,
    "start_time": "2024-01-23T20:18:40.297Z"
   },
   {
    "duration": 4369,
    "start_time": "2024-01-23T20:18:43.744Z"
   },
   {
    "duration": 565,
    "start_time": "2024-01-23T20:18:48.115Z"
   },
   {
    "duration": 4,
    "start_time": "2024-01-23T20:19:14.729Z"
   },
   {
    "duration": 4,
    "start_time": "2024-01-23T20:19:15.351Z"
   },
   {
    "duration": 84,
    "start_time": "2024-01-23T20:19:16.669Z"
   },
   {
    "duration": 5,
    "start_time": "2024-01-23T20:19:23.021Z"
   },
   {
    "duration": 38,
    "start_time": "2024-01-23T20:19:23.765Z"
   },
   {
    "duration": 5,
    "start_time": "2024-01-23T20:19:25.372Z"
   },
   {
    "duration": 4567,
    "start_time": "2024-01-23T20:19:28.621Z"
   },
   {
    "duration": 583,
    "start_time": "2024-01-23T20:19:33.190Z"
   },
   {
    "duration": 5,
    "start_time": "2024-01-23T20:19:41.069Z"
   },
   {
    "duration": 5,
    "start_time": "2024-01-23T20:19:42.301Z"
   },
   {
    "duration": 39,
    "start_time": "2024-01-23T20:19:44.305Z"
   },
   {
    "duration": 245,
    "start_time": "2024-01-23T20:19:46.779Z"
   },
   {
    "duration": 4412,
    "start_time": "2024-01-23T20:19:51.632Z"
   },
   {
    "duration": 725,
    "start_time": "2024-01-23T20:19:56.046Z"
   },
   {
    "duration": 5,
    "start_time": "2024-01-23T20:20:28.510Z"
   },
   {
    "duration": 3,
    "start_time": "2024-01-23T20:20:29.138Z"
   },
   {
    "duration": 81,
    "start_time": "2024-01-23T20:20:30.178Z"
   },
   {
    "duration": 5,
    "start_time": "2024-01-23T20:20:32.607Z"
   },
   {
    "duration": 46,
    "start_time": "2024-01-23T20:20:38.646Z"
   },
   {
    "duration": 5,
    "start_time": "2024-01-23T20:20:40.052Z"
   },
   {
    "duration": 252,
    "start_time": "2024-01-23T20:20:43.338Z"
   },
   {
    "duration": 4309,
    "start_time": "2024-01-23T20:20:46.317Z"
   },
   {
    "duration": 452,
    "start_time": "2024-01-23T20:20:50.628Z"
   },
   {
    "duration": 6,
    "start_time": "2024-01-23T20:21:15.436Z"
   },
   {
    "duration": 7,
    "start_time": "2024-01-23T20:21:31.215Z"
   },
   {
    "duration": 5,
    "start_time": "2024-01-23T20:21:43.671Z"
   },
   {
    "duration": 4,
    "start_time": "2024-01-23T20:21:44.449Z"
   },
   {
    "duration": 82,
    "start_time": "2024-01-23T20:21:45.427Z"
   },
   {
    "duration": 5,
    "start_time": "2024-01-23T20:21:49.187Z"
   },
   {
    "duration": 38,
    "start_time": "2024-01-23T20:21:49.841Z"
   },
   {
    "duration": 5,
    "start_time": "2024-01-23T20:21:51.618Z"
   },
   {
    "duration": 262,
    "start_time": "2024-01-23T20:21:54.544Z"
   },
   {
    "duration": 4850,
    "start_time": "2024-01-23T20:21:57.964Z"
   },
   {
    "duration": 7253,
    "start_time": "2024-01-23T20:22:02.816Z"
   },
   {
    "duration": 5,
    "start_time": "2024-01-23T20:22:15.791Z"
   },
   {
    "duration": 5,
    "start_time": "2024-01-23T20:22:18.062Z"
   },
   {
    "duration": 40,
    "start_time": "2024-01-23T20:22:21.777Z"
   },
   {
    "duration": 5,
    "start_time": "2024-01-23T20:22:23.848Z"
   },
   {
    "duration": 255,
    "start_time": "2024-01-23T20:22:25.223Z"
   },
   {
    "duration": 4327,
    "start_time": "2024-01-23T20:22:29.010Z"
   },
   {
    "duration": 432,
    "start_time": "2024-01-23T20:22:33.339Z"
   },
   {
    "duration": 1323,
    "start_time": "2024-01-23T20:29:12.889Z"
   },
   {
    "duration": 0,
    "start_time": "2024-01-23T20:29:14.214Z"
   },
   {
    "duration": 4,
    "start_time": "2024-01-23T20:31:20.191Z"
   },
   {
    "duration": 13,
    "start_time": "2024-01-23T20:31:23.130Z"
   },
   {
    "duration": 1457,
    "start_time": "2024-01-23T20:31:57.867Z"
   },
   {
    "duration": 0,
    "start_time": "2024-01-23T20:31:59.326Z"
   },
   {
    "duration": 5,
    "start_time": "2024-01-23T20:32:11.747Z"
   },
   {
    "duration": 13,
    "start_time": "2024-01-23T20:32:13.314Z"
   },
   {
    "duration": 1382,
    "start_time": "2024-01-23T20:34:47.661Z"
   },
   {
    "duration": 2,
    "start_time": "2024-01-23T20:34:49.045Z"
   },
   {
    "duration": 224,
    "start_time": "2024-01-23T20:34:49.049Z"
   },
   {
    "duration": 3,
    "start_time": "2024-01-23T20:34:49.275Z"
   },
   {
    "duration": 13,
    "start_time": "2024-01-23T20:34:49.279Z"
   },
   {
    "duration": 81,
    "start_time": "2024-01-23T20:34:49.293Z"
   },
   {
    "duration": 11,
    "start_time": "2024-01-23T20:34:49.375Z"
   },
   {
    "duration": 16,
    "start_time": "2024-01-23T20:34:49.388Z"
   },
   {
    "duration": 10,
    "start_time": "2024-01-23T20:34:49.405Z"
   },
   {
    "duration": 26,
    "start_time": "2024-01-23T20:34:49.418Z"
   },
   {
    "duration": 22,
    "start_time": "2024-01-23T20:34:49.446Z"
   },
   {
    "duration": 3,
    "start_time": "2024-01-23T20:34:49.470Z"
   },
   {
    "duration": 16,
    "start_time": "2024-01-23T20:34:49.475Z"
   },
   {
    "duration": 6,
    "start_time": "2024-01-23T20:34:49.492Z"
   },
   {
    "duration": 17,
    "start_time": "2024-01-23T20:34:49.499Z"
   },
   {
    "duration": 8,
    "start_time": "2024-01-23T20:34:49.517Z"
   },
   {
    "duration": 7,
    "start_time": "2024-01-23T20:34:49.526Z"
   },
   {
    "duration": 44,
    "start_time": "2024-01-23T20:34:49.534Z"
   },
   {
    "duration": 4,
    "start_time": "2024-01-23T20:34:49.579Z"
   },
   {
    "duration": 22,
    "start_time": "2024-01-23T20:34:49.585Z"
   },
   {
    "duration": 12,
    "start_time": "2024-01-23T20:34:49.608Z"
   },
   {
    "duration": 14,
    "start_time": "2024-01-23T20:34:49.622Z"
   },
   {
    "duration": 21,
    "start_time": "2024-01-23T20:34:49.637Z"
   },
   {
    "duration": 14,
    "start_time": "2024-01-23T20:34:49.660Z"
   },
   {
    "duration": 18,
    "start_time": "2024-01-23T20:34:49.675Z"
   },
   {
    "duration": 13,
    "start_time": "2024-01-23T20:34:49.695Z"
   },
   {
    "duration": 6,
    "start_time": "2024-01-23T20:34:49.710Z"
   },
   {
    "duration": 9,
    "start_time": "2024-01-23T20:34:49.719Z"
   },
   {
    "duration": 24,
    "start_time": "2024-01-23T20:34:49.730Z"
   },
   {
    "duration": 16,
    "start_time": "2024-01-23T20:34:49.755Z"
   },
   {
    "duration": 21,
    "start_time": "2024-01-23T20:34:49.772Z"
   },
   {
    "duration": 37,
    "start_time": "2024-01-23T20:34:49.795Z"
   },
   {
    "duration": 22,
    "start_time": "2024-01-23T20:34:49.834Z"
   },
   {
    "duration": 25,
    "start_time": "2024-01-23T20:34:49.857Z"
   },
   {
    "duration": 28,
    "start_time": "2024-01-23T20:34:49.883Z"
   },
   {
    "duration": 10,
    "start_time": "2024-01-23T20:34:49.913Z"
   },
   {
    "duration": 18,
    "start_time": "2024-01-23T20:34:49.924Z"
   },
   {
    "duration": 17,
    "start_time": "2024-01-23T20:34:49.943Z"
   },
   {
    "duration": 18,
    "start_time": "2024-01-23T20:34:49.961Z"
   },
   {
    "duration": 39,
    "start_time": "2024-01-23T20:34:49.980Z"
   },
   {
    "duration": 35,
    "start_time": "2024-01-23T20:34:50.020Z"
   },
   {
    "duration": 55,
    "start_time": "2024-01-23T20:34:50.057Z"
   },
   {
    "duration": 3,
    "start_time": "2024-01-23T20:34:50.114Z"
   },
   {
    "duration": 28,
    "start_time": "2024-01-23T20:34:50.118Z"
   },
   {
    "duration": 18,
    "start_time": "2024-01-23T20:34:50.147Z"
   },
   {
    "duration": 40,
    "start_time": "2024-01-23T20:34:50.166Z"
   },
   {
    "duration": 4,
    "start_time": "2024-01-23T20:34:50.207Z"
   },
   {
    "duration": 15,
    "start_time": "2024-01-23T20:34:50.212Z"
   },
   {
    "duration": 1746,
    "start_time": "2024-01-23T20:34:50.229Z"
   },
   {
    "duration": 0,
    "start_time": "2024-01-23T20:34:51.976Z"
   },
   {
    "duration": 0,
    "start_time": "2024-01-23T20:34:51.978Z"
   },
   {
    "duration": 0,
    "start_time": "2024-01-23T20:34:51.979Z"
   },
   {
    "duration": 0,
    "start_time": "2024-01-23T20:34:51.980Z"
   },
   {
    "duration": 0,
    "start_time": "2024-01-23T20:34:51.981Z"
   },
   {
    "duration": 0,
    "start_time": "2024-01-23T20:34:51.982Z"
   },
   {
    "duration": 0,
    "start_time": "2024-01-23T20:34:51.983Z"
   },
   {
    "duration": 0,
    "start_time": "2024-01-23T20:34:51.984Z"
   },
   {
    "duration": 0,
    "start_time": "2024-01-23T20:34:51.985Z"
   },
   {
    "duration": 0,
    "start_time": "2024-01-23T20:34:51.986Z"
   },
   {
    "duration": 0,
    "start_time": "2024-01-23T20:34:51.988Z"
   },
   {
    "duration": 0,
    "start_time": "2024-01-23T20:34:51.989Z"
   },
   {
    "duration": 0,
    "start_time": "2024-01-23T20:34:51.990Z"
   },
   {
    "duration": 0,
    "start_time": "2024-01-23T20:34:51.991Z"
   },
   {
    "duration": 0,
    "start_time": "2024-01-23T20:34:51.992Z"
   },
   {
    "duration": 0,
    "start_time": "2024-01-23T20:34:51.993Z"
   },
   {
    "duration": 12,
    "start_time": "2024-01-23T20:35:15.234Z"
   },
   {
    "duration": 5,
    "start_time": "2024-01-23T20:36:12.109Z"
   },
   {
    "duration": 42,
    "start_time": "2024-01-23T20:36:13.051Z"
   },
   {
    "duration": 31,
    "start_time": "2024-01-23T20:36:24.347Z"
   },
   {
    "duration": 4,
    "start_time": "2024-01-23T20:36:41.755Z"
   },
   {
    "duration": 4,
    "start_time": "2024-01-23T20:36:42.408Z"
   },
   {
    "duration": 86,
    "start_time": "2024-01-23T20:36:49.369Z"
   },
   {
    "duration": 6,
    "start_time": "2024-01-23T20:36:50.906Z"
   },
   {
    "duration": 273,
    "start_time": "2024-01-23T20:36:53.386Z"
   },
   {
    "duration": 5059,
    "start_time": "2024-01-23T20:36:58.911Z"
   },
   {
    "duration": 1050,
    "start_time": "2024-01-23T20:37:05.326Z"
   },
   {
    "duration": 5,
    "start_time": "2024-01-23T20:38:07.551Z"
   },
   {
    "duration": 267,
    "start_time": "2024-01-23T20:38:10.271Z"
   },
   {
    "duration": 4672,
    "start_time": "2024-01-23T20:38:14.184Z"
   },
   {
    "duration": 713,
    "start_time": "2024-01-23T20:38:18.858Z"
   },
   {
    "duration": 84,
    "start_time": "2024-01-23T20:38:34.192Z"
   },
   {
    "duration": 5,
    "start_time": "2024-01-23T20:38:40.313Z"
   },
   {
    "duration": 267,
    "start_time": "2024-01-23T20:38:43.251Z"
   },
   {
    "duration": 4701,
    "start_time": "2024-01-23T20:38:45.782Z"
   },
   {
    "duration": 584,
    "start_time": "2024-01-23T20:38:50.485Z"
   },
   {
    "duration": 5,
    "start_time": "2024-01-23T20:39:03.338Z"
   },
   {
    "duration": 40,
    "start_time": "2024-01-23T20:39:05.225Z"
   },
   {
    "duration": 4,
    "start_time": "2024-01-23T20:39:07.386Z"
   },
   {
    "duration": 280,
    "start_time": "2024-01-23T20:39:09.213Z"
   },
   {
    "duration": 4812,
    "start_time": "2024-01-23T20:39:12.503Z"
   },
   {
    "duration": 418,
    "start_time": "2024-01-23T20:39:18.947Z"
   },
   {
    "duration": 4,
    "start_time": "2024-01-23T20:44:02.841Z"
   },
   {
    "duration": 17,
    "start_time": "2024-01-23T20:44:14.462Z"
   },
   {
    "duration": 2,
    "start_time": "2024-01-23T20:44:21.834Z"
   },
   {
    "duration": 184,
    "start_time": "2024-01-23T20:44:22.212Z"
   },
   {
    "duration": 2,
    "start_time": "2024-01-23T20:44:23.518Z"
   },
   {
    "duration": 3,
    "start_time": "2024-01-23T20:44:23.820Z"
   },
   {
    "duration": 57,
    "start_time": "2024-01-23T20:44:24.010Z"
   },
   {
    "duration": 12,
    "start_time": "2024-01-23T20:44:26.784Z"
   },
   {
    "duration": 15,
    "start_time": "2024-01-23T20:44:29.145Z"
   },
   {
    "duration": 16,
    "start_time": "2024-01-23T20:44:29.609Z"
   },
   {
    "duration": 10,
    "start_time": "2024-01-23T20:44:29.804Z"
   },
   {
    "duration": 9,
    "start_time": "2024-01-23T20:44:31.028Z"
   },
   {
    "duration": 4,
    "start_time": "2024-01-23T20:44:32.520Z"
   },
   {
    "duration": 13,
    "start_time": "2024-01-23T20:44:32.720Z"
   },
   {
    "duration": 5,
    "start_time": "2024-01-23T20:44:34.352Z"
   },
   {
    "duration": 3,
    "start_time": "2024-01-23T20:44:35.515Z"
   },
   {
    "duration": 17,
    "start_time": "2024-01-23T20:44:35.866Z"
   },
   {
    "duration": 14,
    "start_time": "2024-01-23T20:44:50.066Z"
   },
   {
    "duration": 4,
    "start_time": "2024-01-23T20:45:01.989Z"
   },
   {
    "duration": 16,
    "start_time": "2024-01-23T20:45:05.571Z"
   },
   {
    "duration": 8,
    "start_time": "2024-01-23T20:45:08.912Z"
   },
   {
    "duration": 4,
    "start_time": "2024-01-23T20:45:12.076Z"
   },
   {
    "duration": 16,
    "start_time": "2024-01-23T20:45:12.775Z"
   },
   {
    "duration": 3,
    "start_time": "2024-01-23T20:45:57.828Z"
   },
   {
    "duration": 3,
    "start_time": "2024-01-23T20:45:58.205Z"
   },
   {
    "duration": 184,
    "start_time": "2024-01-23T20:45:58.370Z"
   },
   {
    "duration": 3,
    "start_time": "2024-01-23T20:45:58.556Z"
   },
   {
    "duration": 3,
    "start_time": "2024-01-23T20:45:58.686Z"
   },
   {
    "duration": 60,
    "start_time": "2024-01-23T20:45:58.841Z"
   },
   {
    "duration": 11,
    "start_time": "2024-01-23T20:45:59.659Z"
   },
   {
    "duration": 11,
    "start_time": "2024-01-23T20:45:59.828Z"
   },
   {
    "duration": 12,
    "start_time": "2024-01-23T20:46:00.171Z"
   },
   {
    "duration": 10,
    "start_time": "2024-01-23T20:46:00.336Z"
   },
   {
    "duration": 9,
    "start_time": "2024-01-23T20:46:00.722Z"
   },
   {
    "duration": 4,
    "start_time": "2024-01-23T20:46:01.098Z"
   },
   {
    "duration": 15,
    "start_time": "2024-01-23T20:46:01.301Z"
   },
   {
    "duration": 6,
    "start_time": "2024-01-23T20:46:02.856Z"
   },
   {
    "duration": 3,
    "start_time": "2024-01-23T20:46:03.941Z"
   },
   {
    "duration": 14,
    "start_time": "2024-01-23T20:46:04.786Z"
   },
   {
    "duration": 10,
    "start_time": "2024-01-23T20:46:06.601Z"
   },
   {
    "duration": 4,
    "start_time": "2024-01-23T20:46:07.361Z"
   },
   {
    "duration": 14,
    "start_time": "2024-01-23T20:46:07.766Z"
   },
   {
    "duration": 1341,
    "start_time": "2024-01-23T20:46:29.796Z"
   },
   {
    "duration": 3,
    "start_time": "2024-01-23T20:46:31.138Z"
   },
   {
    "duration": 230,
    "start_time": "2024-01-23T20:46:31.142Z"
   },
   {
    "duration": 3,
    "start_time": "2024-01-23T20:46:31.374Z"
   },
   {
    "duration": 34,
    "start_time": "2024-01-23T20:46:31.379Z"
   },
   {
    "duration": 92,
    "start_time": "2024-01-23T20:46:31.414Z"
   },
   {
    "duration": 10,
    "start_time": "2024-01-23T20:46:31.508Z"
   },
   {
    "duration": 42,
    "start_time": "2024-01-23T20:46:31.520Z"
   },
   {
    "duration": 25,
    "start_time": "2024-01-23T20:46:31.564Z"
   },
   {
    "duration": 39,
    "start_time": "2024-01-23T20:46:31.592Z"
   },
   {
    "duration": 32,
    "start_time": "2024-01-23T20:46:31.633Z"
   },
   {
    "duration": 21,
    "start_time": "2024-01-23T20:46:31.667Z"
   },
   {
    "duration": 41,
    "start_time": "2024-01-23T20:46:31.689Z"
   },
   {
    "duration": 38,
    "start_time": "2024-01-23T20:46:31.731Z"
   },
   {
    "duration": 33,
    "start_time": "2024-01-23T20:46:31.770Z"
   },
   {
    "duration": 33,
    "start_time": "2024-01-23T20:46:31.805Z"
   },
   {
    "duration": 34,
    "start_time": "2024-01-23T20:46:31.839Z"
   },
   {
    "duration": 40,
    "start_time": "2024-01-23T20:46:31.874Z"
   },
   {
    "duration": 86,
    "start_time": "2024-01-23T20:46:31.916Z"
   },
   {
    "duration": 53,
    "start_time": "2024-01-23T20:46:32.004Z"
   },
   {
    "duration": 16,
    "start_time": "2024-01-23T20:46:32.059Z"
   },
   {
    "duration": 37,
    "start_time": "2024-01-23T20:46:32.077Z"
   },
   {
    "duration": 33,
    "start_time": "2024-01-23T20:46:32.115Z"
   },
   {
    "duration": 28,
    "start_time": "2024-01-23T20:46:32.150Z"
   },
   {
    "duration": 37,
    "start_time": "2024-01-23T20:46:32.179Z"
   },
   {
    "duration": 34,
    "start_time": "2024-01-23T20:46:32.217Z"
   },
   {
    "duration": 39,
    "start_time": "2024-01-23T20:46:32.253Z"
   },
   {
    "duration": 32,
    "start_time": "2024-01-23T20:46:32.295Z"
   },
   {
    "duration": 28,
    "start_time": "2024-01-23T20:46:32.329Z"
   },
   {
    "duration": 35,
    "start_time": "2024-01-23T20:46:32.359Z"
   },
   {
    "duration": 24,
    "start_time": "2024-01-23T20:46:32.396Z"
   },
   {
    "duration": 33,
    "start_time": "2024-01-23T20:46:32.421Z"
   },
   {
    "duration": 23,
    "start_time": "2024-01-23T20:46:32.455Z"
   },
   {
    "duration": 28,
    "start_time": "2024-01-23T20:46:32.480Z"
   },
   {
    "duration": 25,
    "start_time": "2024-01-23T20:46:32.509Z"
   },
   {
    "duration": 42,
    "start_time": "2024-01-23T20:46:32.535Z"
   },
   {
    "duration": 26,
    "start_time": "2024-01-23T20:46:32.579Z"
   },
   {
    "duration": 13,
    "start_time": "2024-01-23T20:46:32.606Z"
   },
   {
    "duration": 41,
    "start_time": "2024-01-23T20:46:32.620Z"
   },
   {
    "duration": 33,
    "start_time": "2024-01-23T20:46:32.662Z"
   },
   {
    "duration": 23,
    "start_time": "2024-01-23T20:46:32.696Z"
   },
   {
    "duration": 56,
    "start_time": "2024-01-23T20:46:32.720Z"
   },
   {
    "duration": 40,
    "start_time": "2024-01-23T20:46:32.778Z"
   },
   {
    "duration": 57,
    "start_time": "2024-01-23T20:46:32.819Z"
   },
   {
    "duration": 3,
    "start_time": "2024-01-23T20:46:32.877Z"
   },
   {
    "duration": 19,
    "start_time": "2024-01-23T20:46:32.882Z"
   },
   {
    "duration": 35,
    "start_time": "2024-01-23T20:46:32.902Z"
   },
   {
    "duration": 57,
    "start_time": "2024-01-23T20:46:32.938Z"
   },
   {
    "duration": 19,
    "start_time": "2024-01-23T20:46:32.997Z"
   },
   {
    "duration": 22,
    "start_time": "2024-01-23T20:46:33.017Z"
   },
   {
    "duration": 9,
    "start_time": "2024-01-23T20:46:33.040Z"
   },
   {
    "duration": 71,
    "start_time": "2024-01-23T20:46:33.051Z"
   },
   {
    "duration": 32,
    "start_time": "2024-01-23T20:46:33.124Z"
   },
   {
    "duration": 4,
    "start_time": "2024-01-23T20:46:33.157Z"
   },
   {
    "duration": 32,
    "start_time": "2024-01-23T20:46:33.165Z"
   },
   {
    "duration": 99,
    "start_time": "2024-01-23T20:46:33.198Z"
   },
   {
    "duration": 5,
    "start_time": "2024-01-23T20:46:33.298Z"
   },
   {
    "duration": 51,
    "start_time": "2024-01-23T20:46:33.305Z"
   },
   {
    "duration": 10,
    "start_time": "2024-01-23T20:46:33.357Z"
   },
   {
    "duration": 307,
    "start_time": "2024-01-23T20:46:33.368Z"
   },
   {
    "duration": 6104,
    "start_time": "2024-01-23T20:46:33.676Z"
   },
   {
    "duration": 16,
    "start_time": "2024-01-23T20:46:39.781Z"
   },
   {
    "duration": 0,
    "start_time": "2024-01-23T20:46:39.799Z"
   },
   {
    "duration": 0,
    "start_time": "2024-01-23T20:46:39.803Z"
   },
   {
    "duration": 0,
    "start_time": "2024-01-23T20:46:39.804Z"
   },
   {
    "duration": 0,
    "start_time": "2024-01-23T20:46:39.806Z"
   },
   {
    "duration": 0,
    "start_time": "2024-01-23T20:46:39.807Z"
   },
   {
    "duration": 4647,
    "start_time": "2024-01-23T20:47:07.885Z"
   },
   {
    "duration": 481,
    "start_time": "2024-01-23T20:47:13.784Z"
   },
   {
    "duration": 80,
    "start_time": "2024-01-23T20:48:01.865Z"
   },
   {
    "duration": 26,
    "start_time": "2024-01-23T20:48:04.501Z"
   },
   {
    "duration": 24,
    "start_time": "2024-01-23T20:48:35.341Z"
   },
   {
    "duration": 33,
    "start_time": "2024-01-23T20:48:39.131Z"
   },
   {
    "duration": 25,
    "start_time": "2024-01-23T20:48:43.673Z"
   },
   {
    "duration": 23,
    "start_time": "2024-01-23T20:48:48.016Z"
   },
   {
    "duration": 24,
    "start_time": "2024-01-23T20:48:50.762Z"
   },
   {
    "duration": 6,
    "start_time": "2024-01-23T20:51:42.970Z"
   },
   {
    "duration": 1346,
    "start_time": "2024-01-23T20:51:52.617Z"
   },
   {
    "duration": 3,
    "start_time": "2024-01-23T20:51:53.965Z"
   },
   {
    "duration": 213,
    "start_time": "2024-01-23T20:51:53.969Z"
   },
   {
    "duration": 3,
    "start_time": "2024-01-23T20:51:54.183Z"
   },
   {
    "duration": 7,
    "start_time": "2024-01-23T20:51:54.187Z"
   },
   {
    "duration": 91,
    "start_time": "2024-01-23T20:51:54.195Z"
   },
   {
    "duration": 12,
    "start_time": "2024-01-23T20:51:54.287Z"
   },
   {
    "duration": 25,
    "start_time": "2024-01-23T20:51:54.301Z"
   },
   {
    "duration": 20,
    "start_time": "2024-01-23T20:51:54.327Z"
   },
   {
    "duration": 22,
    "start_time": "2024-01-23T20:51:54.350Z"
   },
   {
    "duration": 10,
    "start_time": "2024-01-23T20:51:54.374Z"
   },
   {
    "duration": 3,
    "start_time": "2024-01-23T20:51:54.386Z"
   },
   {
    "duration": 14,
    "start_time": "2024-01-23T20:51:54.391Z"
   },
   {
    "duration": 7,
    "start_time": "2024-01-23T20:51:54.407Z"
   },
   {
    "duration": 6,
    "start_time": "2024-01-23T20:51:54.416Z"
   },
   {
    "duration": 11,
    "start_time": "2024-01-23T20:51:54.424Z"
   },
   {
    "duration": 31,
    "start_time": "2024-01-23T20:51:54.436Z"
   },
   {
    "duration": 17,
    "start_time": "2024-01-23T20:51:54.469Z"
   },
   {
    "duration": 18,
    "start_time": "2024-01-23T20:51:54.488Z"
   },
   {
    "duration": 2,
    "start_time": "2024-01-23T20:51:54.508Z"
   },
   {
    "duration": 25,
    "start_time": "2024-01-23T20:51:54.512Z"
   },
   {
    "duration": 21,
    "start_time": "2024-01-23T20:51:54.538Z"
   },
   {
    "duration": 6,
    "start_time": "2024-01-23T20:51:54.565Z"
   },
   {
    "duration": 15,
    "start_time": "2024-01-23T20:51:54.573Z"
   },
   {
    "duration": 14,
    "start_time": "2024-01-23T20:51:54.589Z"
   },
   {
    "duration": 18,
    "start_time": "2024-01-23T20:51:54.604Z"
   },
   {
    "duration": 27,
    "start_time": "2024-01-23T20:51:54.623Z"
   },
   {
    "duration": 8,
    "start_time": "2024-01-23T20:51:54.654Z"
   },
   {
    "duration": 11,
    "start_time": "2024-01-23T20:51:54.664Z"
   },
   {
    "duration": 7,
    "start_time": "2024-01-23T20:51:54.677Z"
   },
   {
    "duration": 21,
    "start_time": "2024-01-23T20:51:54.686Z"
   },
   {
    "duration": 4,
    "start_time": "2024-01-23T20:51:54.708Z"
   },
   {
    "duration": 13,
    "start_time": "2024-01-23T20:51:54.714Z"
   },
   {
    "duration": 12,
    "start_time": "2024-01-23T20:51:54.729Z"
   },
   {
    "duration": 17,
    "start_time": "2024-01-23T20:51:54.743Z"
   },
   {
    "duration": 12,
    "start_time": "2024-01-23T20:51:54.762Z"
   },
   {
    "duration": 2,
    "start_time": "2024-01-23T20:51:54.776Z"
   },
   {
    "duration": 23,
    "start_time": "2024-01-23T20:51:54.779Z"
   },
   {
    "duration": 15,
    "start_time": "2024-01-23T20:51:54.803Z"
   },
   {
    "duration": 9,
    "start_time": "2024-01-23T20:51:54.820Z"
   },
   {
    "duration": 36,
    "start_time": "2024-01-23T20:51:54.830Z"
   },
   {
    "duration": 19,
    "start_time": "2024-01-23T20:51:54.868Z"
   },
   {
    "duration": 42,
    "start_time": "2024-01-23T20:51:54.888Z"
   },
   {
    "duration": 3,
    "start_time": "2024-01-23T20:51:54.932Z"
   },
   {
    "duration": 12,
    "start_time": "2024-01-23T20:51:54.936Z"
   },
   {
    "duration": 9,
    "start_time": "2024-01-23T20:51:54.965Z"
   },
   {
    "duration": 65,
    "start_time": "2024-01-23T20:51:54.976Z"
   },
   {
    "duration": 19,
    "start_time": "2024-01-23T20:51:55.042Z"
   },
   {
    "duration": 40,
    "start_time": "2024-01-23T20:51:55.063Z"
   },
   {
    "duration": 28,
    "start_time": "2024-01-23T20:51:55.104Z"
   },
   {
    "duration": 69,
    "start_time": "2024-01-23T20:51:55.133Z"
   },
   {
    "duration": 30,
    "start_time": "2024-01-23T20:51:55.203Z"
   },
   {
    "duration": 5,
    "start_time": "2024-01-23T20:51:55.235Z"
   },
   {
    "duration": 15,
    "start_time": "2024-01-23T20:51:55.241Z"
   },
   {
    "duration": 94,
    "start_time": "2024-01-23T20:51:55.266Z"
   },
   {
    "duration": 7,
    "start_time": "2024-01-23T20:51:55.361Z"
   },
   {
    "duration": 52,
    "start_time": "2024-01-23T20:51:55.370Z"
   },
   {
    "duration": 19,
    "start_time": "2024-01-23T20:51:55.423Z"
   },
   {
    "duration": 302,
    "start_time": "2024-01-23T20:51:55.443Z"
   },
   {
    "duration": 13725,
    "start_time": "2024-01-23T20:51:55.747Z"
   },
   {
    "duration": 8,
    "start_time": "2024-01-23T20:52:09.474Z"
   },
   {
    "duration": 41620,
    "start_time": "2024-01-23T20:52:09.484Z"
   },
   {
    "duration": 7,
    "start_time": "2024-01-23T20:52:51.105Z"
   },
   {
    "duration": 4713,
    "start_time": "2024-01-23T20:52:51.114Z"
   },
   {
    "duration": 547,
    "start_time": "2024-01-23T20:52:55.829Z"
   },
   {
    "duration": 5,
    "start_time": "2024-01-23T20:52:56.377Z"
   },
   {
    "duration": 4636,
    "start_time": "2024-01-23T20:54:23.079Z"
   },
   {
    "duration": 5,
    "start_time": "2024-01-23T20:54:44.027Z"
   },
   {
    "duration": 4,
    "start_time": "2024-01-23T20:54:45.130Z"
   },
   {
    "duration": 90,
    "start_time": "2024-01-23T20:54:46.157Z"
   },
   {
    "duration": 41,
    "start_time": "2024-01-23T20:54:48.580Z"
   },
   {
    "duration": 6,
    "start_time": "2024-01-23T20:54:50.225Z"
   },
   {
    "duration": 287,
    "start_time": "2024-01-23T20:54:51.944Z"
   },
   {
    "duration": 4892,
    "start_time": "2024-01-23T20:54:58.112Z"
   },
   {
    "duration": 4715,
    "start_time": "2024-01-23T20:55:05.589Z"
   },
   {
    "duration": 4702,
    "start_time": "2024-01-23T20:55:11.365Z"
   },
   {
    "duration": 74,
    "start_time": "2024-01-23T20:55:42.998Z"
   },
   {
    "duration": 75,
    "start_time": "2024-01-23T20:55:46.123Z"
   },
   {
    "duration": 6,
    "start_time": "2024-01-23T20:55:47.929Z"
   },
   {
    "duration": 6,
    "start_time": "2024-01-23T20:55:54.530Z"
   },
   {
    "duration": 117,
    "start_time": "2024-01-23T20:56:01.086Z"
   },
   {
    "duration": 6,
    "start_time": "2024-01-23T20:56:05.943Z"
   },
   {
    "duration": 6,
    "start_time": "2024-01-23T20:56:22.686Z"
   },
   {
    "duration": 5,
    "start_time": "2024-01-23T20:56:30.926Z"
   },
   {
    "duration": 42,
    "start_time": "2024-01-23T20:56:31.855Z"
   },
   {
    "duration": 5,
    "start_time": "2024-01-23T20:56:35.410Z"
   },
   {
    "duration": 42,
    "start_time": "2024-01-23T20:56:37.168Z"
   },
   {
    "duration": 5,
    "start_time": "2024-01-23T20:56:39.088Z"
   },
   {
    "duration": 4797,
    "start_time": "2024-01-23T20:56:43.461Z"
   },
   {
    "duration": 4666,
    "start_time": "2024-01-23T20:56:51.708Z"
   },
   {
    "duration": 5,
    "start_time": "2024-01-23T20:57:15.130Z"
   },
   {
    "duration": 4,
    "start_time": "2024-01-23T20:57:16.103Z"
   },
   {
    "duration": 87,
    "start_time": "2024-01-23T20:57:16.868Z"
   },
   {
    "duration": 5,
    "start_time": "2024-01-23T20:57:18.448Z"
   },
   {
    "duration": 42,
    "start_time": "2024-01-23T20:57:19.684Z"
   },
   {
    "duration": 5,
    "start_time": "2024-01-23T20:57:21.150Z"
   },
   {
    "duration": 276,
    "start_time": "2024-01-23T20:57:23.726Z"
   },
   {
    "duration": 5338,
    "start_time": "2024-01-23T20:57:26.726Z"
   },
   {
    "duration": 4642,
    "start_time": "2024-01-23T21:02:06.032Z"
   },
   {
    "duration": 640,
    "start_time": "2024-01-23T21:05:47.161Z"
   },
   {
    "duration": 532,
    "start_time": "2024-01-23T21:06:39.322Z"
   },
   {
    "duration": 109,
    "start_time": "2024-01-23T21:06:46.428Z"
   },
   {
    "duration": 1314,
    "start_time": "2024-01-23T21:06:55.938Z"
   },
   {
    "duration": 1271,
    "start_time": "2024-01-23T21:07:25.438Z"
   },
   {
    "duration": 9,
    "start_time": "2024-01-23T21:07:39.817Z"
   },
   {
    "duration": 659,
    "start_time": "2024-01-23T21:07:43.852Z"
   },
   {
    "duration": 136,
    "start_time": "2024-01-23T21:08:18.965Z"
   },
   {
    "duration": 220,
    "start_time": "2024-01-23T21:09:23.799Z"
   },
   {
    "duration": 340,
    "start_time": "2024-01-23T21:09:32.013Z"
   },
   {
    "duration": 152,
    "start_time": "2024-01-23T21:10:21.968Z"
   },
   {
    "duration": 120,
    "start_time": "2024-01-23T21:10:28.570Z"
   },
   {
    "duration": 122,
    "start_time": "2024-01-23T21:10:38.905Z"
   },
   {
    "duration": 136,
    "start_time": "2024-01-23T21:10:45.807Z"
   },
   {
    "duration": 215,
    "start_time": "2024-01-23T21:11:03.016Z"
   },
   {
    "duration": 143,
    "start_time": "2024-01-23T21:11:52.600Z"
   },
   {
    "duration": 208,
    "start_time": "2024-01-23T21:12:06.724Z"
   },
   {
    "duration": 149,
    "start_time": "2024-01-23T21:12:49.704Z"
   },
   {
    "duration": 195,
    "start_time": "2024-01-23T21:12:59.272Z"
   },
   {
    "duration": 87,
    "start_time": "2024-01-23T21:14:54.236Z"
   },
   {
    "duration": 9,
    "start_time": "2024-01-23T21:15:25.480Z"
   },
   {
    "duration": 11,
    "start_time": "2024-01-23T21:16:04.542Z"
   },
   {
    "duration": 10,
    "start_time": "2024-01-23T21:16:13.476Z"
   },
   {
    "duration": 15,
    "start_time": "2024-01-23T21:16:25.921Z"
   },
   {
    "duration": 325,
    "start_time": "2024-01-23T21:17:07.962Z"
   },
   {
    "duration": 144,
    "start_time": "2024-01-23T21:17:29.033Z"
   },
   {
    "duration": 185,
    "start_time": "2024-01-23T21:17:35.840Z"
   },
   {
    "duration": 281,
    "start_time": "2024-01-23T21:17:49.121Z"
   },
   {
    "duration": 286,
    "start_time": "2024-01-23T21:17:56.784Z"
   },
   {
    "duration": 12,
    "start_time": "2024-01-23T21:18:36.237Z"
   },
   {
    "duration": 24,
    "start_time": "2024-01-23T21:18:40.426Z"
   },
   {
    "duration": 13,
    "start_time": "2024-01-23T21:19:16.558Z"
   },
   {
    "duration": 20,
    "start_time": "2024-01-23T21:19:18.714Z"
   },
   {
    "duration": 266,
    "start_time": "2024-01-23T21:19:23.135Z"
   },
   {
    "duration": 140,
    "start_time": "2024-01-23T21:19:28.454Z"
   },
   {
    "duration": 449,
    "start_time": "2024-01-23T21:19:35.722Z"
   },
   {
    "duration": 185,
    "start_time": "2024-01-23T21:19:39.247Z"
   },
   {
    "duration": 199,
    "start_time": "2024-01-23T21:19:46.986Z"
   },
   {
    "duration": 202,
    "start_time": "2024-01-23T21:19:50.655Z"
   },
   {
    "duration": 174,
    "start_time": "2024-01-23T21:20:37.485Z"
   },
   {
    "duration": 193,
    "start_time": "2024-01-23T21:20:42.612Z"
   },
   {
    "duration": 159,
    "start_time": "2024-01-23T21:20:47.144Z"
   },
   {
    "duration": 1455,
    "start_time": "2024-01-23T21:21:34.562Z"
   },
   {
    "duration": 3,
    "start_time": "2024-01-23T21:21:36.019Z"
   },
   {
    "duration": 199,
    "start_time": "2024-01-23T21:21:36.023Z"
   },
   {
    "duration": 3,
    "start_time": "2024-01-23T21:21:36.224Z"
   },
   {
    "duration": 18,
    "start_time": "2024-01-23T21:21:36.228Z"
   },
   {
    "duration": 67,
    "start_time": "2024-01-23T21:21:36.248Z"
   },
   {
    "duration": 12,
    "start_time": "2024-01-23T21:21:36.317Z"
   },
   {
    "duration": 44,
    "start_time": "2024-01-23T21:21:36.330Z"
   },
   {
    "duration": 17,
    "start_time": "2024-01-23T21:21:36.376Z"
   },
   {
    "duration": 17,
    "start_time": "2024-01-23T21:21:36.395Z"
   },
   {
    "duration": 11,
    "start_time": "2024-01-23T21:21:36.414Z"
   },
   {
    "duration": 4,
    "start_time": "2024-01-23T21:21:36.427Z"
   },
   {
    "duration": 34,
    "start_time": "2024-01-23T21:21:36.433Z"
   },
   {
    "duration": 16,
    "start_time": "2024-01-23T21:21:36.469Z"
   },
   {
    "duration": 12,
    "start_time": "2024-01-23T21:21:36.487Z"
   },
   {
    "duration": 3,
    "start_time": "2024-01-23T21:21:36.501Z"
   },
   {
    "duration": 21,
    "start_time": "2024-01-23T21:21:36.506Z"
   },
   {
    "duration": 37,
    "start_time": "2024-01-23T21:21:36.528Z"
   },
   {
    "duration": 4,
    "start_time": "2024-01-23T21:21:36.567Z"
   },
   {
    "duration": 19,
    "start_time": "2024-01-23T21:21:36.573Z"
   },
   {
    "duration": 14,
    "start_time": "2024-01-23T21:21:36.594Z"
   },
   {
    "duration": 12,
    "start_time": "2024-01-23T21:21:36.610Z"
   },
   {
    "duration": 43,
    "start_time": "2024-01-23T21:21:36.624Z"
   },
   {
    "duration": 13,
    "start_time": "2024-01-23T21:21:36.669Z"
   },
   {
    "duration": 19,
    "start_time": "2024-01-23T21:21:36.684Z"
   },
   {
    "duration": 14,
    "start_time": "2024-01-23T21:21:36.705Z"
   },
   {
    "duration": 8,
    "start_time": "2024-01-23T21:21:36.721Z"
   },
   {
    "duration": 34,
    "start_time": "2024-01-23T21:21:36.732Z"
   },
   {
    "duration": 7,
    "start_time": "2024-01-23T21:21:36.768Z"
   },
   {
    "duration": 6,
    "start_time": "2024-01-23T21:21:36.777Z"
   },
   {
    "duration": 6,
    "start_time": "2024-01-23T21:21:36.784Z"
   },
   {
    "duration": 18,
    "start_time": "2024-01-23T21:21:36.792Z"
   },
   {
    "duration": 16,
    "start_time": "2024-01-23T21:21:36.812Z"
   },
   {
    "duration": 19,
    "start_time": "2024-01-23T21:21:36.829Z"
   },
   {
    "duration": 22,
    "start_time": "2024-01-23T21:21:36.850Z"
   },
   {
    "duration": 2,
    "start_time": "2024-01-23T21:21:36.874Z"
   },
   {
    "duration": 17,
    "start_time": "2024-01-23T21:21:36.877Z"
   },
   {
    "duration": 14,
    "start_time": "2024-01-23T21:21:36.895Z"
   },
   {
    "duration": 6,
    "start_time": "2024-01-23T21:21:36.911Z"
   },
   {
    "duration": 48,
    "start_time": "2024-01-23T21:21:36.918Z"
   },
   {
    "duration": 17,
    "start_time": "2024-01-23T21:21:36.968Z"
   },
   {
    "duration": 44,
    "start_time": "2024-01-23T21:21:36.986Z"
   },
   {
    "duration": 3,
    "start_time": "2024-01-23T21:21:37.031Z"
   },
   {
    "duration": 9,
    "start_time": "2024-01-23T21:21:37.035Z"
   },
   {
    "duration": 28,
    "start_time": "2024-01-23T21:21:37.046Z"
   },
   {
    "duration": 38,
    "start_time": "2024-01-23T21:21:37.075Z"
   },
   {
    "duration": 4,
    "start_time": "2024-01-23T21:21:37.114Z"
   },
   {
    "duration": 14,
    "start_time": "2024-01-23T21:21:37.119Z"
   },
   {
    "duration": 12,
    "start_time": "2024-01-23T21:21:37.134Z"
   },
   {
    "duration": 50,
    "start_time": "2024-01-23T21:21:37.147Z"
   },
   {
    "duration": 30,
    "start_time": "2024-01-23T21:21:37.198Z"
   },
   {
    "duration": 3,
    "start_time": "2024-01-23T21:21:37.230Z"
   },
   {
    "duration": 13,
    "start_time": "2024-01-23T21:21:37.235Z"
   },
   {
    "duration": 98,
    "start_time": "2024-01-23T21:21:37.249Z"
   },
   {
    "duration": 207,
    "start_time": "2024-01-23T21:21:37.348Z"
   },
   {
    "duration": 219,
    "start_time": "2024-01-23T21:21:37.557Z"
   },
   {
    "duration": 5,
    "start_time": "2024-01-23T21:21:37.778Z"
   },
   {
    "duration": 43,
    "start_time": "2024-01-23T21:21:37.784Z"
   },
   {
    "duration": 5,
    "start_time": "2024-01-23T21:21:37.828Z"
   },
   {
    "duration": 361,
    "start_time": "2024-01-23T21:21:37.834Z"
   },
   {
    "duration": 16177,
    "start_time": "2024-01-23T21:21:38.197Z"
   },
   {
    "duration": 91,
    "start_time": "2024-01-23T21:21:54.376Z"
   },
   {
    "duration": 43126,
    "start_time": "2024-01-23T21:21:54.468Z"
   },
   {
    "duration": 7,
    "start_time": "2024-01-23T21:22:37.595Z"
   },
   {
    "duration": 4820,
    "start_time": "2024-01-23T21:22:37.603Z"
   },
   {
    "duration": 6,
    "start_time": "2024-01-23T21:22:42.425Z"
   },
   {
    "duration": 6,
    "start_time": "2024-01-23T21:27:40.581Z"
   },
   {
    "duration": 9,
    "start_time": "2024-01-23T21:27:45.163Z"
   },
   {
    "duration": 4,
    "start_time": "2024-01-23T21:28:07.944Z"
   },
   {
    "duration": 5,
    "start_time": "2024-01-23T21:28:10.953Z"
   },
   {
    "duration": 51,
    "start_time": "2024-01-24T09:13:38.591Z"
   },
   {
    "duration": 1674,
    "start_time": "2024-01-24T09:13:42.795Z"
   },
   {
    "duration": 3,
    "start_time": "2024-01-24T09:13:44.471Z"
   },
   {
    "duration": 545,
    "start_time": "2024-01-24T09:13:44.475Z"
   },
   {
    "duration": 2,
    "start_time": "2024-01-24T09:13:45.023Z"
   },
   {
    "duration": 42,
    "start_time": "2024-01-24T09:13:45.027Z"
   },
   {
    "duration": 118,
    "start_time": "2024-01-24T09:13:45.071Z"
   },
   {
    "duration": 29,
    "start_time": "2024-01-24T09:13:45.191Z"
   },
   {
    "duration": 65,
    "start_time": "2024-01-24T09:13:45.222Z"
   },
   {
    "duration": 42,
    "start_time": "2024-01-24T09:13:45.288Z"
   },
   {
    "duration": 43,
    "start_time": "2024-01-24T09:13:45.333Z"
   },
   {
    "duration": 30,
    "start_time": "2024-01-24T09:13:45.378Z"
   },
   {
    "duration": 23,
    "start_time": "2024-01-24T09:13:45.410Z"
   },
   {
    "duration": 70,
    "start_time": "2024-01-24T09:13:45.435Z"
   },
   {
    "duration": 26,
    "start_time": "2024-01-24T09:13:45.507Z"
   },
   {
    "duration": 19,
    "start_time": "2024-01-24T09:13:45.535Z"
   },
   {
    "duration": 16,
    "start_time": "2024-01-24T09:13:45.556Z"
   },
   {
    "duration": 43,
    "start_time": "2024-01-24T09:13:45.573Z"
   },
   {
    "duration": 29,
    "start_time": "2024-01-24T09:13:45.618Z"
   },
   {
    "duration": 29,
    "start_time": "2024-01-24T09:13:45.649Z"
   },
   {
    "duration": 56,
    "start_time": "2024-01-24T09:13:45.680Z"
   },
   {
    "duration": 82,
    "start_time": "2024-01-24T09:13:45.738Z"
   },
   {
    "duration": 39,
    "start_time": "2024-01-24T09:13:45.821Z"
   },
   {
    "duration": 29,
    "start_time": "2024-01-24T09:13:45.861Z"
   },
   {
    "duration": 19,
    "start_time": "2024-01-24T09:13:45.891Z"
   },
   {
    "duration": 18,
    "start_time": "2024-01-24T09:13:45.911Z"
   },
   {
    "duration": 47,
    "start_time": "2024-01-24T09:13:45.930Z"
   },
   {
    "duration": 20,
    "start_time": "2024-01-24T09:13:45.979Z"
   },
   {
    "duration": 39,
    "start_time": "2024-01-24T09:13:46.003Z"
   },
   {
    "duration": 16,
    "start_time": "2024-01-24T09:13:46.043Z"
   },
   {
    "duration": 29,
    "start_time": "2024-01-24T09:13:46.061Z"
   },
   {
    "duration": 4,
    "start_time": "2024-01-24T09:13:46.091Z"
   },
   {
    "duration": 30,
    "start_time": "2024-01-24T09:13:46.097Z"
   },
   {
    "duration": 12,
    "start_time": "2024-01-24T09:13:46.129Z"
   },
   {
    "duration": 34,
    "start_time": "2024-01-24T09:13:46.143Z"
   },
   {
    "duration": 12,
    "start_time": "2024-01-24T09:13:46.179Z"
   },
   {
    "duration": 34,
    "start_time": "2024-01-24T09:13:46.192Z"
   },
   {
    "duration": 25,
    "start_time": "2024-01-24T09:13:46.227Z"
   },
   {
    "duration": 22,
    "start_time": "2024-01-24T09:13:46.253Z"
   },
   {
    "duration": 11,
    "start_time": "2024-01-24T09:13:46.276Z"
   },
   {
    "duration": 52,
    "start_time": "2024-01-24T09:13:46.288Z"
   },
   {
    "duration": 58,
    "start_time": "2024-01-24T09:13:46.342Z"
   },
   {
    "duration": 54,
    "start_time": "2024-01-24T09:13:46.401Z"
   },
   {
    "duration": 4,
    "start_time": "2024-01-24T09:13:46.457Z"
   },
   {
    "duration": 24,
    "start_time": "2024-01-24T09:13:46.463Z"
   },
   {
    "duration": 28,
    "start_time": "2024-01-24T09:13:46.489Z"
   },
   {
    "duration": 39,
    "start_time": "2024-01-24T09:13:46.518Z"
   },
   {
    "duration": 5,
    "start_time": "2024-01-24T09:13:46.558Z"
   },
   {
    "duration": 17,
    "start_time": "2024-01-24T09:13:46.564Z"
   },
   {
    "duration": 11,
    "start_time": "2024-01-24T09:13:46.583Z"
   },
   {
    "duration": 48,
    "start_time": "2024-01-24T09:13:46.596Z"
   },
   {
    "duration": 37,
    "start_time": "2024-01-24T09:13:46.645Z"
   },
   {
    "duration": 4,
    "start_time": "2024-01-24T09:13:46.684Z"
   },
   {
    "duration": 15,
    "start_time": "2024-01-24T09:13:46.689Z"
   },
   {
    "duration": 104,
    "start_time": "2024-01-24T09:13:46.706Z"
   },
   {
    "duration": 212,
    "start_time": "2024-01-24T09:13:46.812Z"
   },
   {
    "duration": 232,
    "start_time": "2024-01-24T09:13:47.026Z"
   },
   {
    "duration": 5,
    "start_time": "2024-01-24T09:13:47.260Z"
   },
   {
    "duration": 55,
    "start_time": "2024-01-24T09:13:47.267Z"
   },
   {
    "duration": 5,
    "start_time": "2024-01-24T09:13:47.324Z"
   },
   {
    "duration": 381,
    "start_time": "2024-01-24T09:13:47.331Z"
   },
   {
    "duration": 4189,
    "start_time": "2024-01-24T09:13:47.717Z"
   },
   {
    "duration": 13,
    "start_time": "2024-01-24T09:13:51.908Z"
   },
   {
    "duration": 0,
    "start_time": "2024-01-24T09:13:51.923Z"
   },
   {
    "duration": 0,
    "start_time": "2024-01-24T09:13:51.925Z"
   },
   {
    "duration": 0,
    "start_time": "2024-01-24T09:13:51.926Z"
   },
   {
    "duration": 0,
    "start_time": "2024-01-24T09:13:51.927Z"
   },
   {
    "duration": 5,
    "start_time": "2024-01-24T09:13:59.562Z"
   },
   {
    "duration": 5,
    "start_time": "2024-01-24T09:14:00.314Z"
   },
   {
    "duration": 101,
    "start_time": "2024-01-24T09:14:01.543Z"
   },
   {
    "duration": 204,
    "start_time": "2024-01-24T09:14:03.500Z"
   },
   {
    "duration": 234,
    "start_time": "2024-01-24T09:14:04.259Z"
   },
   {
    "duration": 6,
    "start_time": "2024-01-24T09:14:15.495Z"
   },
   {
    "duration": 7,
    "start_time": "2024-01-24T09:14:27.335Z"
   },
   {
    "duration": 7,
    "start_time": "2024-01-24T09:14:32.384Z"
   },
   {
    "duration": 7,
    "start_time": "2024-01-24T09:14:50.294Z"
   },
   {
    "duration": 6,
    "start_time": "2024-01-24T09:16:04.390Z"
   },
   {
    "duration": 45,
    "start_time": "2024-01-24T09:16:06.611Z"
   },
   {
    "duration": 5,
    "start_time": "2024-01-24T09:16:10.327Z"
   },
   {
    "duration": 299,
    "start_time": "2024-01-24T09:16:12.014Z"
   },
   {
    "duration": 7428,
    "start_time": "2024-01-24T09:16:17.700Z"
   },
   {
    "duration": 6,
    "start_time": "2024-01-24T09:16:54.122Z"
   },
   {
    "duration": 4,
    "start_time": "2024-01-24T09:16:54.632Z"
   },
   {
    "duration": 96,
    "start_time": "2024-01-24T09:16:55.604Z"
   },
   {
    "duration": 183,
    "start_time": "2024-01-24T09:16:56.219Z"
   },
   {
    "duration": 210,
    "start_time": "2024-01-24T09:16:57.073Z"
   },
   {
    "duration": 9,
    "start_time": "2024-01-24T09:16:59.647Z"
   },
   {
    "duration": 5,
    "start_time": "2024-01-24T09:17:00.815Z"
   },
   {
    "duration": 47,
    "start_time": "2024-01-24T09:17:02.485Z"
   },
   {
    "duration": 5,
    "start_time": "2024-01-24T09:17:03.551Z"
   },
   {
    "duration": 298,
    "start_time": "2024-01-24T09:17:04.875Z"
   },
   {
    "duration": 4848,
    "start_time": "2024-01-24T09:17:08.298Z"
   },
   {
    "duration": 1555,
    "start_time": "2024-01-24T09:17:47.594Z"
   },
   {
    "duration": 2,
    "start_time": "2024-01-24T09:17:49.151Z"
   },
   {
    "duration": 193,
    "start_time": "2024-01-24T09:17:49.155Z"
   },
   {
    "duration": 3,
    "start_time": "2024-01-24T09:17:49.350Z"
   },
   {
    "duration": 20,
    "start_time": "2024-01-24T09:17:49.354Z"
   },
   {
    "duration": 72,
    "start_time": "2024-01-24T09:17:49.375Z"
   },
   {
    "duration": 11,
    "start_time": "2024-01-24T09:17:49.448Z"
   },
   {
    "duration": 21,
    "start_time": "2024-01-24T09:17:49.461Z"
   },
   {
    "duration": 34,
    "start_time": "2024-01-24T09:17:49.484Z"
   },
   {
    "duration": 10,
    "start_time": "2024-01-24T09:17:49.520Z"
   },
   {
    "duration": 22,
    "start_time": "2024-01-24T09:17:49.532Z"
   },
   {
    "duration": 8,
    "start_time": "2024-01-24T09:17:49.556Z"
   },
   {
    "duration": 37,
    "start_time": "2024-01-24T09:17:49.566Z"
   },
   {
    "duration": 29,
    "start_time": "2024-01-24T09:17:49.605Z"
   },
   {
    "duration": 19,
    "start_time": "2024-01-24T09:17:49.636Z"
   },
   {
    "duration": 4,
    "start_time": "2024-01-24T09:17:49.656Z"
   },
   {
    "duration": 20,
    "start_time": "2024-01-24T09:17:49.661Z"
   },
   {
    "duration": 22,
    "start_time": "2024-01-24T09:17:49.683Z"
   },
   {
    "duration": 3,
    "start_time": "2024-01-24T09:17:49.706Z"
   },
   {
    "duration": 33,
    "start_time": "2024-01-24T09:17:49.718Z"
   },
   {
    "duration": 19,
    "start_time": "2024-01-24T09:17:49.752Z"
   },
   {
    "duration": 16,
    "start_time": "2024-01-24T09:17:49.773Z"
   },
   {
    "duration": 25,
    "start_time": "2024-01-24T09:17:49.791Z"
   },
   {
    "duration": 21,
    "start_time": "2024-01-24T09:17:49.817Z"
   },
   {
    "duration": 13,
    "start_time": "2024-01-24T09:17:49.840Z"
   },
   {
    "duration": 12,
    "start_time": "2024-01-24T09:17:49.854Z"
   },
   {
    "duration": 17,
    "start_time": "2024-01-24T09:17:49.868Z"
   },
   {
    "duration": 20,
    "start_time": "2024-01-24T09:17:49.889Z"
   },
   {
    "duration": 16,
    "start_time": "2024-01-24T09:17:49.911Z"
   },
   {
    "duration": 29,
    "start_time": "2024-01-24T09:17:49.928Z"
   },
   {
    "duration": 21,
    "start_time": "2024-01-24T09:17:49.959Z"
   },
   {
    "duration": 19,
    "start_time": "2024-01-24T09:17:49.982Z"
   },
   {
    "duration": 28,
    "start_time": "2024-01-24T09:17:50.003Z"
   },
   {
    "duration": 42,
    "start_time": "2024-01-24T09:17:50.033Z"
   },
   {
    "duration": 33,
    "start_time": "2024-01-24T09:17:50.077Z"
   },
   {
    "duration": 13,
    "start_time": "2024-01-24T09:17:50.111Z"
   },
   {
    "duration": 38,
    "start_time": "2024-01-24T09:17:50.126Z"
   },
   {
    "duration": 44,
    "start_time": "2024-01-24T09:17:50.166Z"
   },
   {
    "duration": 23,
    "start_time": "2024-01-24T09:17:50.212Z"
   },
   {
    "duration": 57,
    "start_time": "2024-01-24T09:17:50.236Z"
   },
   {
    "duration": 40,
    "start_time": "2024-01-24T09:17:50.295Z"
   },
   {
    "duration": 44,
    "start_time": "2024-01-24T09:17:50.336Z"
   },
   {
    "duration": 5,
    "start_time": "2024-01-24T09:17:50.382Z"
   },
   {
    "duration": 31,
    "start_time": "2024-01-24T09:17:50.388Z"
   },
   {
    "duration": 19,
    "start_time": "2024-01-24T09:17:50.421Z"
   },
   {
    "duration": 57,
    "start_time": "2024-01-24T09:17:50.441Z"
   },
   {
    "duration": 17,
    "start_time": "2024-01-24T09:17:50.499Z"
   },
   {
    "duration": 21,
    "start_time": "2024-01-24T09:17:50.518Z"
   },
   {
    "duration": 17,
    "start_time": "2024-01-24T09:17:50.540Z"
   },
   {
    "duration": 50,
    "start_time": "2024-01-24T09:17:50.559Z"
   },
   {
    "duration": 37,
    "start_time": "2024-01-24T09:17:50.611Z"
   },
   {
    "duration": 5,
    "start_time": "2024-01-24T09:17:50.649Z"
   },
   {
    "duration": 14,
    "start_time": "2024-01-24T09:17:50.655Z"
   },
   {
    "duration": 116,
    "start_time": "2024-01-24T09:17:50.670Z"
   },
   {
    "duration": 225,
    "start_time": "2024-01-24T09:17:50.788Z"
   },
   {
    "duration": 227,
    "start_time": "2024-01-24T09:17:51.018Z"
   },
   {
    "duration": 5,
    "start_time": "2024-01-24T09:17:51.247Z"
   },
   {
    "duration": 51,
    "start_time": "2024-01-24T09:17:51.254Z"
   },
   {
    "duration": 13,
    "start_time": "2024-01-24T09:17:51.306Z"
   },
   {
    "duration": 384,
    "start_time": "2024-01-24T09:17:51.321Z"
   },
   {
    "duration": 1441525,
    "start_time": "2024-01-24T09:17:51.707Z"
   },
   {
    "duration": 84,
    "start_time": "2024-01-24T09:41:53.234Z"
   },
   {
    "duration": 50467,
    "start_time": "2024-01-24T09:41:53.321Z"
   },
   {
    "duration": 7,
    "start_time": "2024-01-24T09:42:43.789Z"
   },
   {
    "duration": 6038,
    "start_time": "2024-01-24T09:42:43.797Z"
   },
   {
    "duration": 10,
    "start_time": "2024-01-24T09:42:49.837Z"
   },
   {
    "duration": 1473,
    "start_time": "2024-01-24T09:56:41.767Z"
   },
   {
    "duration": 3,
    "start_time": "2024-01-24T09:56:43.242Z"
   },
   {
    "duration": 214,
    "start_time": "2024-01-24T09:56:43.247Z"
   },
   {
    "duration": 3,
    "start_time": "2024-01-24T09:56:43.464Z"
   },
   {
    "duration": 22,
    "start_time": "2024-01-24T09:56:43.469Z"
   },
   {
    "duration": 170,
    "start_time": "2024-01-24T09:56:43.493Z"
   },
   {
    "duration": 13,
    "start_time": "2024-01-24T09:56:43.665Z"
   },
   {
    "duration": 49,
    "start_time": "2024-01-24T09:56:43.679Z"
   },
   {
    "duration": 11,
    "start_time": "2024-01-24T09:56:43.730Z"
   },
   {
    "duration": 37,
    "start_time": "2024-01-24T09:56:43.745Z"
   },
   {
    "duration": 28,
    "start_time": "2024-01-24T09:56:43.784Z"
   },
   {
    "duration": 38,
    "start_time": "2024-01-24T09:56:43.813Z"
   },
   {
    "duration": 30,
    "start_time": "2024-01-24T09:56:43.853Z"
   },
   {
    "duration": 31,
    "start_time": "2024-01-24T09:56:43.885Z"
   },
   {
    "duration": 39,
    "start_time": "2024-01-24T09:56:43.918Z"
   },
   {
    "duration": 13,
    "start_time": "2024-01-24T09:56:43.959Z"
   },
   {
    "duration": 50,
    "start_time": "2024-01-24T09:56:43.973Z"
   },
   {
    "duration": 54,
    "start_time": "2024-01-24T09:56:44.025Z"
   },
   {
    "duration": 14,
    "start_time": "2024-01-24T09:56:44.081Z"
   },
   {
    "duration": 35,
    "start_time": "2024-01-24T09:56:44.097Z"
   },
   {
    "duration": 28,
    "start_time": "2024-01-24T09:56:44.134Z"
   },
   {
    "duration": 48,
    "start_time": "2024-01-24T09:56:44.163Z"
   },
   {
    "duration": 47,
    "start_time": "2024-01-24T09:56:44.212Z"
   },
   {
    "duration": 16,
    "start_time": "2024-01-24T09:56:44.260Z"
   },
   {
    "duration": 42,
    "start_time": "2024-01-24T09:56:44.277Z"
   },
   {
    "duration": 31,
    "start_time": "2024-01-24T09:56:44.320Z"
   },
   {
    "duration": 18,
    "start_time": "2024-01-24T09:56:44.353Z"
   },
   {
    "duration": 36,
    "start_time": "2024-01-24T09:56:44.375Z"
   },
   {
    "duration": 16,
    "start_time": "2024-01-24T09:56:44.413Z"
   },
   {
    "duration": 29,
    "start_time": "2024-01-24T09:56:44.431Z"
   },
   {
    "duration": 23,
    "start_time": "2024-01-24T09:56:44.462Z"
   },
   {
    "duration": 30,
    "start_time": "2024-01-24T09:56:44.486Z"
   },
   {
    "duration": 14,
    "start_time": "2024-01-24T09:56:44.517Z"
   },
   {
    "duration": 26,
    "start_time": "2024-01-24T09:56:44.532Z"
   },
   {
    "duration": 24,
    "start_time": "2024-01-24T09:56:44.559Z"
   },
   {
    "duration": 5,
    "start_time": "2024-01-24T09:56:44.585Z"
   },
   {
    "duration": 46,
    "start_time": "2024-01-24T09:56:44.592Z"
   },
   {
    "duration": 53,
    "start_time": "2024-01-24T09:56:44.640Z"
   },
   {
    "duration": 76,
    "start_time": "2024-01-24T09:56:44.694Z"
   },
   {
    "duration": 75,
    "start_time": "2024-01-24T09:56:44.772Z"
   },
   {
    "duration": 68,
    "start_time": "2024-01-24T09:56:44.849Z"
   },
   {
    "duration": 81,
    "start_time": "2024-01-24T09:56:44.919Z"
   },
   {
    "duration": 3,
    "start_time": "2024-01-24T09:56:45.002Z"
   },
   {
    "duration": 59,
    "start_time": "2024-01-24T09:56:45.007Z"
   },
   {
    "duration": 33,
    "start_time": "2024-01-24T09:56:45.068Z"
   },
   {
    "duration": 59,
    "start_time": "2024-01-24T09:56:45.103Z"
   },
   {
    "duration": 65,
    "start_time": "2024-01-24T09:56:45.165Z"
   },
   {
    "duration": 60,
    "start_time": "2024-01-24T09:56:45.232Z"
   },
   {
    "duration": 40,
    "start_time": "2024-01-24T09:56:45.294Z"
   },
   {
    "duration": 78,
    "start_time": "2024-01-24T09:56:45.336Z"
   },
   {
    "duration": 34,
    "start_time": "2024-01-24T09:56:45.415Z"
   },
   {
    "duration": 21,
    "start_time": "2024-01-24T09:56:45.451Z"
   },
   {
    "duration": 29,
    "start_time": "2024-01-24T09:56:45.473Z"
   },
   {
    "duration": 117,
    "start_time": "2024-01-24T09:56:45.504Z"
   },
   {
    "duration": 254,
    "start_time": "2024-01-24T09:56:45.622Z"
   },
   {
    "duration": 237,
    "start_time": "2024-01-24T09:56:45.878Z"
   },
   {
    "duration": 6,
    "start_time": "2024-01-24T09:56:46.116Z"
   },
   {
    "duration": 80,
    "start_time": "2024-01-24T09:56:46.124Z"
   },
   {
    "duration": 6,
    "start_time": "2024-01-24T09:56:46.205Z"
   },
   {
    "duration": 420,
    "start_time": "2024-01-24T09:56:46.212Z"
   },
   {
    "duration": 963113,
    "start_time": "2024-01-24T09:56:46.634Z"
   },
   {
    "duration": 18,
    "start_time": "2024-01-24T10:12:49.819Z"
   },
   {
    "duration": 47652,
    "start_time": "2024-01-24T10:12:49.839Z"
   },
   {
    "duration": 7,
    "start_time": "2024-01-24T10:13:37.492Z"
   },
   {
    "duration": 5556,
    "start_time": "2024-01-24T10:13:37.501Z"
   },
   {
    "duration": 6,
    "start_time": "2024-01-24T10:13:43.058Z"
   },
   {
    "duration": 138,
    "start_time": "2024-01-24T10:13:43.068Z"
   },
   {
    "duration": 41,
    "start_time": "2024-01-24T10:14:36.854Z"
   },
   {
    "duration": 4,
    "start_time": "2024-01-24T10:14:46.565Z"
   },
   {
    "duration": 317,
    "start_time": "2024-01-24T10:15:37.880Z"
   },
   {
    "duration": 1508,
    "start_time": "2024-01-24T10:17:11.115Z"
   },
   {
    "duration": 3,
    "start_time": "2024-01-24T10:17:12.625Z"
   },
   {
    "duration": 210,
    "start_time": "2024-01-24T10:17:12.629Z"
   },
   {
    "duration": 3,
    "start_time": "2024-01-24T10:17:12.841Z"
   },
   {
    "duration": 36,
    "start_time": "2024-01-24T10:17:12.845Z"
   },
   {
    "duration": 94,
    "start_time": "2024-01-24T10:17:12.882Z"
   },
   {
    "duration": 42,
    "start_time": "2024-01-24T10:17:12.977Z"
   },
   {
    "duration": 30,
    "start_time": "2024-01-24T10:17:13.021Z"
   },
   {
    "duration": 65,
    "start_time": "2024-01-24T10:17:13.052Z"
   },
   {
    "duration": 61,
    "start_time": "2024-01-24T10:17:13.122Z"
   },
   {
    "duration": 39,
    "start_time": "2024-01-24T10:17:13.185Z"
   },
   {
    "duration": 29,
    "start_time": "2024-01-24T10:17:13.226Z"
   },
   {
    "duration": 46,
    "start_time": "2024-01-24T10:17:13.257Z"
   },
   {
    "duration": 46,
    "start_time": "2024-01-24T10:17:13.305Z"
   },
   {
    "duration": 43,
    "start_time": "2024-01-24T10:17:13.353Z"
   },
   {
    "duration": 48,
    "start_time": "2024-01-24T10:17:13.397Z"
   },
   {
    "duration": 93,
    "start_time": "2024-01-24T10:17:13.446Z"
   },
   {
    "duration": 44,
    "start_time": "2024-01-24T10:17:13.541Z"
   },
   {
    "duration": 71,
    "start_time": "2024-01-24T10:17:13.587Z"
   },
   {
    "duration": 56,
    "start_time": "2024-01-24T10:17:13.659Z"
   },
   {
    "duration": 55,
    "start_time": "2024-01-24T10:17:13.717Z"
   },
   {
    "duration": 65,
    "start_time": "2024-01-24T10:17:13.774Z"
   },
   {
    "duration": 26,
    "start_time": "2024-01-24T10:17:13.841Z"
   },
   {
    "duration": 56,
    "start_time": "2024-01-24T10:17:13.869Z"
   },
   {
    "duration": 52,
    "start_time": "2024-01-24T10:17:13.927Z"
   },
   {
    "duration": 113,
    "start_time": "2024-01-24T10:17:13.980Z"
   },
   {
    "duration": 25,
    "start_time": "2024-01-24T10:17:14.095Z"
   },
   {
    "duration": 29,
    "start_time": "2024-01-24T10:17:14.124Z"
   },
   {
    "duration": 27,
    "start_time": "2024-01-24T10:17:14.155Z"
   },
   {
    "duration": 29,
    "start_time": "2024-01-24T10:17:14.184Z"
   },
   {
    "duration": 45,
    "start_time": "2024-01-24T10:17:14.215Z"
   },
   {
    "duration": 47,
    "start_time": "2024-01-24T10:17:14.261Z"
   },
   {
    "duration": 33,
    "start_time": "2024-01-24T10:17:14.310Z"
   },
   {
    "duration": 46,
    "start_time": "2024-01-24T10:17:14.344Z"
   },
   {
    "duration": 44,
    "start_time": "2024-01-24T10:17:14.392Z"
   },
   {
    "duration": 46,
    "start_time": "2024-01-24T10:17:14.438Z"
   },
   {
    "duration": 45,
    "start_time": "2024-01-24T10:17:14.485Z"
   },
   {
    "duration": 34,
    "start_time": "2024-01-24T10:17:14.531Z"
   },
   {
    "duration": 28,
    "start_time": "2024-01-24T10:17:14.567Z"
   },
   {
    "duration": 57,
    "start_time": "2024-01-24T10:17:14.597Z"
   },
   {
    "duration": 27,
    "start_time": "2024-01-24T10:17:14.655Z"
   },
   {
    "duration": 67,
    "start_time": "2024-01-24T10:17:14.684Z"
   },
   {
    "duration": 3,
    "start_time": "2024-01-24T10:17:14.753Z"
   },
   {
    "duration": 35,
    "start_time": "2024-01-24T10:17:14.757Z"
   },
   {
    "duration": 16,
    "start_time": "2024-01-24T10:17:14.793Z"
   },
   {
    "duration": 52,
    "start_time": "2024-01-24T10:17:14.811Z"
   },
   {
    "duration": 29,
    "start_time": "2024-01-24T10:17:14.864Z"
   },
   {
    "duration": 14,
    "start_time": "2024-01-24T10:17:14.894Z"
   },
   {
    "duration": 57,
    "start_time": "2024-01-24T10:17:14.910Z"
   },
   {
    "duration": 66,
    "start_time": "2024-01-24T10:17:14.969Z"
   },
   {
    "duration": 54,
    "start_time": "2024-01-24T10:17:15.037Z"
   },
   {
    "duration": 28,
    "start_time": "2024-01-24T10:17:15.093Z"
   },
   {
    "duration": 32,
    "start_time": "2024-01-24T10:17:15.122Z"
   },
   {
    "duration": 130,
    "start_time": "2024-01-24T10:17:15.156Z"
   },
   {
    "duration": 218,
    "start_time": "2024-01-24T10:17:15.288Z"
   },
   {
    "duration": 235,
    "start_time": "2024-01-24T10:17:15.508Z"
   },
   {
    "duration": 6,
    "start_time": "2024-01-24T10:17:15.745Z"
   },
   {
    "duration": 100,
    "start_time": "2024-01-24T10:17:15.753Z"
   },
   {
    "duration": 12,
    "start_time": "2024-01-24T10:17:15.855Z"
   },
   {
    "duration": 16,
    "start_time": "2024-01-24T10:17:15.869Z"
   },
   {
    "duration": 392,
    "start_time": "2024-01-24T10:17:15.887Z"
   },
   {
    "duration": 1505352,
    "start_time": "2024-01-24T10:17:16.281Z"
   },
   {
    "duration": 11,
    "start_time": "2024-01-24T10:42:21.635Z"
   },
   {
    "duration": 47772,
    "start_time": "2024-01-24T10:42:21.647Z"
   },
   {
    "duration": 15,
    "start_time": "2024-01-24T10:43:09.421Z"
   },
   {
    "duration": 5972,
    "start_time": "2024-01-24T10:43:09.441Z"
   },
   {
    "duration": 8,
    "start_time": "2024-01-24T10:43:15.415Z"
   },
   {
    "duration": 89,
    "start_time": "2024-01-24T19:43:26.155Z"
   },
   {
    "duration": 1488,
    "start_time": "2024-01-24T19:43:32.264Z"
   },
   {
    "duration": 3,
    "start_time": "2024-01-24T19:43:33.754Z"
   },
   {
    "duration": 543,
    "start_time": "2024-01-24T19:43:33.758Z"
   },
   {
    "duration": 3,
    "start_time": "2024-01-24T19:43:34.303Z"
   },
   {
    "duration": 6,
    "start_time": "2024-01-24T19:43:34.307Z"
   },
   {
    "duration": 62,
    "start_time": "2024-01-24T19:43:34.315Z"
   },
   {
    "duration": 18,
    "start_time": "2024-01-24T19:43:34.378Z"
   },
   {
    "duration": 24,
    "start_time": "2024-01-24T19:43:34.398Z"
   },
   {
    "duration": 12,
    "start_time": "2024-01-24T19:43:34.424Z"
   },
   {
    "duration": 12,
    "start_time": "2024-01-24T19:43:34.439Z"
   },
   {
    "duration": 27,
    "start_time": "2024-01-24T19:43:34.452Z"
   },
   {
    "duration": 4,
    "start_time": "2024-01-24T19:43:34.487Z"
   },
   {
    "duration": 17,
    "start_time": "2024-01-24T19:43:34.493Z"
   },
   {
    "duration": 7,
    "start_time": "2024-01-24T19:43:34.511Z"
   },
   {
    "duration": 9,
    "start_time": "2024-01-24T19:43:34.520Z"
   },
   {
    "duration": 4,
    "start_time": "2024-01-24T19:43:34.530Z"
   },
   {
    "duration": 16,
    "start_time": "2024-01-24T19:43:34.535Z"
   },
   {
    "duration": 45,
    "start_time": "2024-01-24T19:43:34.552Z"
   },
   {
    "duration": 3,
    "start_time": "2024-01-24T19:43:34.599Z"
   },
   {
    "duration": 17,
    "start_time": "2024-01-24T19:43:34.604Z"
   },
   {
    "duration": 15,
    "start_time": "2024-01-24T19:43:34.623Z"
   },
   {
    "duration": 7,
    "start_time": "2024-01-24T19:43:34.639Z"
   },
   {
    "duration": 18,
    "start_time": "2024-01-24T19:43:34.647Z"
   },
   {
    "duration": 8,
    "start_time": "2024-01-24T19:43:34.667Z"
   },
   {
    "duration": 10,
    "start_time": "2024-01-24T19:43:34.687Z"
   },
   {
    "duration": 11,
    "start_time": "2024-01-24T19:43:34.698Z"
   },
   {
    "duration": 6,
    "start_time": "2024-01-24T19:43:34.710Z"
   },
   {
    "duration": 7,
    "start_time": "2024-01-24T19:43:34.720Z"
   },
   {
    "duration": 17,
    "start_time": "2024-01-24T19:43:34.729Z"
   },
   {
    "duration": 6,
    "start_time": "2024-01-24T19:43:34.747Z"
   },
   {
    "duration": 3,
    "start_time": "2024-01-24T19:43:34.755Z"
   },
   {
    "duration": 33,
    "start_time": "2024-01-24T19:43:34.759Z"
   },
   {
    "duration": 13,
    "start_time": "2024-01-24T19:43:34.794Z"
   },
   {
    "duration": 16,
    "start_time": "2024-01-24T19:43:34.808Z"
   },
   {
    "duration": 11,
    "start_time": "2024-01-24T19:43:34.825Z"
   },
   {
    "duration": 4,
    "start_time": "2024-01-24T19:43:34.838Z"
   },
   {
    "duration": 12,
    "start_time": "2024-01-24T19:43:34.843Z"
   },
   {
    "duration": 36,
    "start_time": "2024-01-24T19:43:34.857Z"
   },
   {
    "duration": 6,
    "start_time": "2024-01-24T19:43:34.894Z"
   },
   {
    "duration": 31,
    "start_time": "2024-01-24T19:43:34.902Z"
   },
   {
    "duration": 16,
    "start_time": "2024-01-24T19:43:34.934Z"
   },
   {
    "duration": 59,
    "start_time": "2024-01-24T19:43:34.951Z"
   },
   {
    "duration": 3,
    "start_time": "2024-01-24T19:43:35.011Z"
   },
   {
    "duration": 52,
    "start_time": "2024-01-24T19:43:35.015Z"
   },
   {
    "duration": 17,
    "start_time": "2024-01-24T19:43:35.069Z"
   },
   {
    "duration": 59,
    "start_time": "2024-01-24T19:43:35.088Z"
   },
   {
    "duration": 4,
    "start_time": "2024-01-24T19:43:35.149Z"
   },
   {
    "duration": 10,
    "start_time": "2024-01-24T19:43:35.154Z"
   },
   {
    "duration": 20,
    "start_time": "2024-01-24T19:43:35.165Z"
   },
   {
    "duration": 43,
    "start_time": "2024-01-24T19:43:35.186Z"
   },
   {
    "duration": 34,
    "start_time": "2024-01-24T19:43:35.231Z"
   },
   {
    "duration": 4,
    "start_time": "2024-01-24T19:43:35.266Z"
   },
   {
    "duration": 17,
    "start_time": "2024-01-24T19:43:35.271Z"
   },
   {
    "duration": 81,
    "start_time": "2024-01-24T19:43:35.289Z"
   },
   {
    "duration": 205,
    "start_time": "2024-01-24T19:43:35.372Z"
   },
   {
    "duration": 192,
    "start_time": "2024-01-24T19:43:35.578Z"
   },
   {
    "duration": 5,
    "start_time": "2024-01-24T19:43:35.771Z"
   },
   {
    "duration": 45,
    "start_time": "2024-01-24T19:43:35.777Z"
   },
   {
    "duration": 5,
    "start_time": "2024-01-24T19:43:35.823Z"
   },
   {
    "duration": 17,
    "start_time": "2024-01-24T19:43:35.829Z"
   },
   {
    "duration": 327,
    "start_time": "2024-01-24T19:43:35.847Z"
   },
   {
    "duration": 1723,
    "start_time": "2024-01-24T19:43:36.175Z"
   },
   {
    "duration": 11,
    "start_time": "2024-01-24T19:43:37.900Z"
   },
   {
    "duration": 0,
    "start_time": "2024-01-24T19:43:37.913Z"
   },
   {
    "duration": 0,
    "start_time": "2024-01-24T19:43:37.914Z"
   },
   {
    "duration": 1,
    "start_time": "2024-01-24T19:43:37.914Z"
   },
   {
    "duration": 0,
    "start_time": "2024-01-24T19:43:37.915Z"
   },
   {
    "duration": 1274,
    "start_time": "2024-01-24T19:43:58.141Z"
   },
   {
    "duration": 3,
    "start_time": "2024-01-24T19:43:59.417Z"
   },
   {
    "duration": 188,
    "start_time": "2024-01-24T19:43:59.421Z"
   },
   {
    "duration": 2,
    "start_time": "2024-01-24T19:43:59.611Z"
   },
   {
    "duration": 5,
    "start_time": "2024-01-24T19:43:59.614Z"
   },
   {
    "duration": 61,
    "start_time": "2024-01-24T19:43:59.620Z"
   },
   {
    "duration": 11,
    "start_time": "2024-01-24T19:43:59.687Z"
   },
   {
    "duration": 14,
    "start_time": "2024-01-24T19:43:59.699Z"
   },
   {
    "duration": 10,
    "start_time": "2024-01-24T19:43:59.715Z"
   },
   {
    "duration": 8,
    "start_time": "2024-01-24T19:43:59.727Z"
   },
   {
    "duration": 9,
    "start_time": "2024-01-24T19:43:59.736Z"
   },
   {
    "duration": 3,
    "start_time": "2024-01-24T19:43:59.746Z"
   },
   {
    "duration": 44,
    "start_time": "2024-01-24T19:43:59.750Z"
   },
   {
    "duration": 5,
    "start_time": "2024-01-24T19:43:59.796Z"
   },
   {
    "duration": 8,
    "start_time": "2024-01-24T19:43:59.802Z"
   },
   {
    "duration": 2,
    "start_time": "2024-01-24T19:43:59.812Z"
   },
   {
    "duration": 22,
    "start_time": "2024-01-24T19:43:59.815Z"
   },
   {
    "duration": 18,
    "start_time": "2024-01-24T19:43:59.839Z"
   },
   {
    "duration": 5,
    "start_time": "2024-01-24T19:43:59.858Z"
   },
   {
    "duration": 33,
    "start_time": "2024-01-24T19:43:59.864Z"
   },
   {
    "duration": 10,
    "start_time": "2024-01-24T19:43:59.898Z"
   },
   {
    "duration": 6,
    "start_time": "2024-01-24T19:43:59.909Z"
   },
   {
    "duration": 13,
    "start_time": "2024-01-24T19:43:59.917Z"
   },
   {
    "duration": 9,
    "start_time": "2024-01-24T19:43:59.931Z"
   },
   {
    "duration": 8,
    "start_time": "2024-01-24T19:43:59.941Z"
   },
   {
    "duration": 8,
    "start_time": "2024-01-24T19:43:59.950Z"
   },
   {
    "duration": 32,
    "start_time": "2024-01-24T19:43:59.959Z"
   },
   {
    "duration": 8,
    "start_time": "2024-01-24T19:43:59.994Z"
   },
   {
    "duration": 43,
    "start_time": "2024-01-24T19:44:00.004Z"
   },
   {
    "duration": 43,
    "start_time": "2024-01-24T19:44:00.048Z"
   },
   {
    "duration": 28,
    "start_time": "2024-01-24T19:44:00.092Z"
   },
   {
    "duration": 27,
    "start_time": "2024-01-24T19:44:00.123Z"
   },
   {
    "duration": 30,
    "start_time": "2024-01-24T19:44:00.151Z"
   },
   {
    "duration": 59,
    "start_time": "2024-01-24T19:44:00.183Z"
   },
   {
    "duration": 65,
    "start_time": "2024-01-24T19:44:00.243Z"
   },
   {
    "duration": 53,
    "start_time": "2024-01-24T19:44:00.310Z"
   },
   {
    "duration": 41,
    "start_time": "2024-01-24T19:44:00.365Z"
   },
   {
    "duration": 34,
    "start_time": "2024-01-24T19:44:00.408Z"
   },
   {
    "duration": 32,
    "start_time": "2024-01-24T19:44:00.444Z"
   },
   {
    "duration": 43,
    "start_time": "2024-01-24T19:44:00.478Z"
   },
   {
    "duration": 28,
    "start_time": "2024-01-24T19:44:00.523Z"
   },
   {
    "duration": 43,
    "start_time": "2024-01-24T19:44:00.552Z"
   },
   {
    "duration": 7,
    "start_time": "2024-01-24T19:44:00.597Z"
   },
   {
    "duration": 25,
    "start_time": "2024-01-24T19:44:00.606Z"
   },
   {
    "duration": 15,
    "start_time": "2024-01-24T19:44:00.633Z"
   },
   {
    "duration": 60,
    "start_time": "2024-01-24T19:44:00.649Z"
   },
   {
    "duration": 18,
    "start_time": "2024-01-24T19:44:00.710Z"
   },
   {
    "duration": 12,
    "start_time": "2024-01-24T19:44:00.729Z"
   },
   {
    "duration": 45,
    "start_time": "2024-01-24T19:44:00.743Z"
   },
   {
    "duration": 94,
    "start_time": "2024-01-24T19:44:00.790Z"
   },
   {
    "duration": 49,
    "start_time": "2024-01-24T19:44:00.886Z"
   },
   {
    "duration": 12,
    "start_time": "2024-01-24T19:44:00.936Z"
   },
   {
    "duration": 48,
    "start_time": "2024-01-24T19:44:00.949Z"
   },
   {
    "duration": 133,
    "start_time": "2024-01-24T19:44:00.999Z"
   },
   {
    "duration": 232,
    "start_time": "2024-01-24T19:44:01.134Z"
   },
   {
    "duration": 197,
    "start_time": "2024-01-24T19:44:01.367Z"
   },
   {
    "duration": 4,
    "start_time": "2024-01-24T19:44:01.566Z"
   },
   {
    "duration": 98,
    "start_time": "2024-01-24T19:44:01.571Z"
   },
   {
    "duration": 46,
    "start_time": "2024-01-24T19:44:01.671Z"
   },
   {
    "duration": 31,
    "start_time": "2024-01-24T19:44:01.719Z"
   },
   {
    "duration": 359,
    "start_time": "2024-01-24T19:44:01.751Z"
   },
   {
    "duration": 13988,
    "start_time": "2024-01-24T19:44:02.112Z"
   },
   {
    "duration": 94,
    "start_time": "2024-01-24T19:44:16.101Z"
   },
   {
    "duration": 38981,
    "start_time": "2024-01-24T19:44:16.196Z"
   },
   {
    "duration": 6,
    "start_time": "2024-01-24T19:44:55.178Z"
   },
   {
    "duration": 4436,
    "start_time": "2024-01-24T19:44:55.186Z"
   },
   {
    "duration": 5,
    "start_time": "2024-01-24T19:44:59.623Z"
   },
   {
    "duration": 410,
    "start_time": "2024-01-24T19:45:16.070Z"
   },
   {
    "duration": 263,
    "start_time": "2024-01-24T19:45:48.518Z"
   },
   {
    "duration": 1582,
    "start_time": "2024-01-27T10:23:08.344Z"
   },
   {
    "duration": 3,
    "start_time": "2024-01-27T10:23:10.637Z"
   },
   {
    "duration": 530,
    "start_time": "2024-01-27T10:23:11.070Z"
   },
   {
    "duration": 3,
    "start_time": "2024-01-27T10:23:11.602Z"
   },
   {
    "duration": 36,
    "start_time": "2024-01-27T10:23:11.606Z"
   },
   {
    "duration": 58,
    "start_time": "2024-01-27T10:23:11.987Z"
   },
   {
    "duration": 16,
    "start_time": "2024-01-27T10:23:12.183Z"
   },
   {
    "duration": 12,
    "start_time": "2024-01-27T10:23:12.239Z"
   },
   {
    "duration": 10,
    "start_time": "2024-01-27T10:23:12.308Z"
   },
   {
    "duration": 9,
    "start_time": "2024-01-27T10:23:12.500Z"
   },
   {
    "duration": 9,
    "start_time": "2024-01-27T10:23:13.034Z"
   },
   {
    "duration": 4,
    "start_time": "2024-01-27T10:23:13.114Z"
   },
   {
    "duration": 11,
    "start_time": "2024-01-27T10:23:13.175Z"
   },
   {
    "duration": 5,
    "start_time": "2024-01-27T10:23:13.246Z"
   },
   {
    "duration": 9,
    "start_time": "2024-01-27T10:23:13.338Z"
   },
   {
    "duration": 4,
    "start_time": "2024-01-27T10:23:13.374Z"
   },
   {
    "duration": 13,
    "start_time": "2024-01-27T10:23:13.406Z"
   },
   {
    "duration": 19,
    "start_time": "2024-01-27T10:23:13.471Z"
   },
   {
    "duration": 3,
    "start_time": "2024-01-27T10:23:13.558Z"
   },
   {
    "duration": 15,
    "start_time": "2024-01-27T10:23:13.621Z"
   },
   {
    "duration": 19,
    "start_time": "2024-01-27T10:23:13.656Z"
   },
   {
    "duration": 7,
    "start_time": "2024-01-27T10:23:13.720Z"
   },
   {
    "duration": 8,
    "start_time": "2024-01-27T10:23:13.782Z"
   },
   {
    "duration": 8,
    "start_time": "2024-01-27T10:23:13.840Z"
   },
   {
    "duration": 9,
    "start_time": "2024-01-27T10:23:13.928Z"
   },
   {
    "duration": 10,
    "start_time": "2024-01-27T10:23:13.989Z"
   },
   {
    "duration": 7,
    "start_time": "2024-01-27T10:23:14.063Z"
   },
   {
    "duration": 8,
    "start_time": "2024-01-27T10:23:14.122Z"
   },
   {
    "duration": 6,
    "start_time": "2024-01-27T10:23:14.944Z"
   },
   {
    "duration": 6,
    "start_time": "2024-01-27T10:23:15.731Z"
   },
   {
    "duration": 3,
    "start_time": "2024-01-27T10:23:16.155Z"
   },
   {
    "duration": 8,
    "start_time": "2024-01-27T10:23:16.534Z"
   },
   {
    "duration": 10,
    "start_time": "2024-01-27T10:23:16.760Z"
   },
   {
    "duration": 14,
    "start_time": "2024-01-27T10:23:17.208Z"
   },
   {
    "duration": 8,
    "start_time": "2024-01-27T10:23:17.528Z"
   },
   {
    "duration": 2,
    "start_time": "2024-01-27T10:23:18.267Z"
   },
   {
    "duration": 12,
    "start_time": "2024-01-27T10:23:18.953Z"
   },
   {
    "duration": 22,
    "start_time": "2024-01-27T10:23:18.987Z"
   },
   {
    "duration": 7,
    "start_time": "2024-01-27T10:23:19.074Z"
   },
   {
    "duration": 28,
    "start_time": "2024-01-27T10:23:19.227Z"
   },
   {
    "duration": 16,
    "start_time": "2024-01-27T10:23:19.291Z"
   },
   {
    "duration": 40,
    "start_time": "2024-01-27T10:23:19.375Z"
   },
   {
    "duration": 3,
    "start_time": "2024-01-27T10:23:19.535Z"
   },
   {
    "duration": 5,
    "start_time": "2024-01-27T10:23:20.508Z"
   },
   {
    "duration": 5,
    "start_time": "2024-01-27T10:23:21.432Z"
   },
   {
    "duration": 29,
    "start_time": "2024-01-27T10:23:21.867Z"
   },
   {
    "duration": 5,
    "start_time": "2024-01-27T10:23:22.879Z"
   },
   {
    "duration": 4,
    "start_time": "2024-01-27T10:23:23.418Z"
   },
   {
    "duration": 3,
    "start_time": "2024-01-27T10:23:23.938Z"
   },
   {
    "duration": 39,
    "start_time": "2024-01-27T10:23:25.257Z"
   },
   {
    "duration": 29,
    "start_time": "2024-01-27T10:23:29.170Z"
   },
   {
    "duration": 472,
    "start_time": "2024-01-27T10:24:09.540Z"
   },
   {
    "duration": 48,
    "start_time": "2024-01-27T10:24:47.894Z"
   },
   {
    "duration": 5,
    "start_time": "2024-01-27T10:26:31.567Z"
   },
   {
    "duration": 5,
    "start_time": "2024-01-27T10:26:37.861Z"
   },
   {
    "duration": 4,
    "start_time": "2024-01-27T10:26:47.557Z"
   },
   {
    "duration": 4,
    "start_time": "2024-01-27T10:26:50.143Z"
   },
   {
    "duration": 4,
    "start_time": "2024-01-27T10:26:52.139Z"
   },
   {
    "duration": 4,
    "start_time": "2024-01-27T10:26:55.339Z"
   },
   {
    "duration": 4,
    "start_time": "2024-01-27T10:26:57.650Z"
   },
   {
    "duration": 4,
    "start_time": "2024-01-27T10:26:59.712Z"
   },
   {
    "duration": 3,
    "start_time": "2024-01-27T10:27:01.655Z"
   },
   {
    "duration": 4,
    "start_time": "2024-01-27T10:27:04.235Z"
   },
   {
    "duration": 3,
    "start_time": "2024-01-27T10:27:08.080Z"
   },
   {
    "duration": 4,
    "start_time": "2024-01-27T10:27:54.748Z"
   },
   {
    "duration": 121,
    "start_time": "2024-01-27T10:28:38.106Z"
   },
   {
    "duration": 27,
    "start_time": "2024-01-27T10:28:50.045Z"
   },
   {
    "duration": 4,
    "start_time": "2024-01-27T10:28:54.133Z"
   },
   {
    "duration": 438,
    "start_time": "2024-01-27T10:28:58.350Z"
   },
   {
    "duration": 52,
    "start_time": "2024-01-27T10:29:07.689Z"
   },
   {
    "duration": 4707,
    "start_time": "2024-01-27T10:29:54.223Z"
   },
   {
    "duration": 538,
    "start_time": "2024-01-27T10:31:31.436Z"
   },
   {
    "duration": 903,
    "start_time": "2024-01-27T10:32:14.297Z"
   },
   {
    "duration": 924,
    "start_time": "2024-01-27T10:33:08.724Z"
   },
   {
    "duration": 949,
    "start_time": "2024-01-27T10:33:15.506Z"
   },
   {
    "duration": 5299,
    "start_time": "2024-01-27T10:33:20.087Z"
   },
   {
    "duration": 954,
    "start_time": "2024-01-27T10:33:31.191Z"
   },
   {
    "duration": 988,
    "start_time": "2024-01-27T10:33:37.829Z"
   },
   {
    "duration": 1021,
    "start_time": "2024-01-27T10:33:45.854Z"
   },
   {
    "duration": 971,
    "start_time": "2024-01-27T10:33:55.574Z"
   },
   {
    "duration": 965,
    "start_time": "2024-01-27T10:34:03.023Z"
   },
   {
    "duration": 1087,
    "start_time": "2024-01-27T10:39:55.345Z"
   },
   {
    "duration": 937,
    "start_time": "2024-01-27T10:40:05.459Z"
   },
   {
    "duration": 1297,
    "start_time": "2024-01-27T10:44:40.069Z"
   },
   {
    "duration": 3,
    "start_time": "2024-01-27T10:44:41.368Z"
   },
   {
    "duration": 187,
    "start_time": "2024-01-27T10:44:41.372Z"
   },
   {
    "duration": 3,
    "start_time": "2024-01-27T10:44:41.561Z"
   },
   {
    "duration": 6,
    "start_time": "2024-01-27T10:44:41.566Z"
   },
   {
    "duration": 72,
    "start_time": "2024-01-27T10:44:41.573Z"
   },
   {
    "duration": 11,
    "start_time": "2024-01-27T10:44:41.646Z"
   },
   {
    "duration": 17,
    "start_time": "2024-01-27T10:44:41.658Z"
   },
   {
    "duration": 11,
    "start_time": "2024-01-27T10:44:41.676Z"
   },
   {
    "duration": 8,
    "start_time": "2024-01-27T10:44:41.690Z"
   },
   {
    "duration": 9,
    "start_time": "2024-01-27T10:44:41.700Z"
   },
   {
    "duration": 4,
    "start_time": "2024-01-27T10:44:41.710Z"
   },
   {
    "duration": 35,
    "start_time": "2024-01-27T10:44:41.716Z"
   },
   {
    "duration": 8,
    "start_time": "2024-01-27T10:44:41.753Z"
   },
   {
    "duration": 9,
    "start_time": "2024-01-27T10:44:41.762Z"
   },
   {
    "duration": 10,
    "start_time": "2024-01-27T10:44:41.772Z"
   },
   {
    "duration": 20,
    "start_time": "2024-01-27T10:44:41.784Z"
   },
   {
    "duration": 21,
    "start_time": "2024-01-27T10:44:41.805Z"
   },
   {
    "duration": 18,
    "start_time": "2024-01-27T10:44:41.827Z"
   },
   {
    "duration": 32,
    "start_time": "2024-01-27T10:44:41.846Z"
   },
   {
    "duration": 13,
    "start_time": "2024-01-27T10:44:41.880Z"
   },
   {
    "duration": 10,
    "start_time": "2024-01-27T10:44:41.895Z"
   },
   {
    "duration": 9,
    "start_time": "2024-01-27T10:44:41.906Z"
   },
   {
    "duration": 13,
    "start_time": "2024-01-27T10:44:41.917Z"
   },
   {
    "duration": 16,
    "start_time": "2024-01-27T10:44:41.931Z"
   },
   {
    "duration": 22,
    "start_time": "2024-01-27T10:44:41.948Z"
   },
   {
    "duration": 5,
    "start_time": "2024-01-27T10:44:41.971Z"
   },
   {
    "duration": 8,
    "start_time": "2024-01-27T10:44:41.980Z"
   },
   {
    "duration": 6,
    "start_time": "2024-01-27T10:44:41.989Z"
   },
   {
    "duration": 7,
    "start_time": "2024-01-27T10:44:41.996Z"
   },
   {
    "duration": 10,
    "start_time": "2024-01-27T10:44:42.004Z"
   },
   {
    "duration": 14,
    "start_time": "2024-01-27T10:44:42.015Z"
   },
   {
    "duration": 10,
    "start_time": "2024-01-27T10:44:42.030Z"
   },
   {
    "duration": 13,
    "start_time": "2024-01-27T10:44:42.045Z"
   },
   {
    "duration": 12,
    "start_time": "2024-01-27T10:44:42.059Z"
   },
   {
    "duration": 9,
    "start_time": "2024-01-27T10:44:42.072Z"
   },
   {
    "duration": 13,
    "start_time": "2024-01-27T10:44:42.082Z"
   },
   {
    "duration": 17,
    "start_time": "2024-01-27T10:44:42.097Z"
   },
   {
    "duration": 16,
    "start_time": "2024-01-27T10:44:42.116Z"
   },
   {
    "duration": 27,
    "start_time": "2024-01-27T10:44:42.133Z"
   },
   {
    "duration": 14,
    "start_time": "2024-01-27T10:44:42.162Z"
   },
   {
    "duration": 38,
    "start_time": "2024-01-27T10:44:42.177Z"
   },
   {
    "duration": 2,
    "start_time": "2024-01-27T10:44:42.216Z"
   },
   {
    "duration": 8,
    "start_time": "2024-01-27T10:44:42.219Z"
   },
   {
    "duration": 4,
    "start_time": "2024-01-27T10:44:42.244Z"
   },
   {
    "duration": 32,
    "start_time": "2024-01-27T10:44:42.250Z"
   },
   {
    "duration": 7,
    "start_time": "2024-01-27T10:44:42.284Z"
   },
   {
    "duration": 4,
    "start_time": "2024-01-27T10:44:42.293Z"
   },
   {
    "duration": 6,
    "start_time": "2024-01-27T10:44:42.299Z"
   },
   {
    "duration": 48,
    "start_time": "2024-01-27T10:44:42.306Z"
   },
   {
    "duration": 5,
    "start_time": "2024-01-27T10:44:42.356Z"
   },
   {
    "duration": 15,
    "start_time": "2024-01-27T10:44:42.362Z"
   },
   {
    "duration": 31,
    "start_time": "2024-01-27T10:44:42.378Z"
   },
   {
    "duration": 975,
    "start_time": "2024-01-27T10:44:42.411Z"
   },
   {
    "duration": 4,
    "start_time": "2024-01-27T10:44:43.388Z"
   },
   {
    "duration": 5,
    "start_time": "2024-01-27T10:44:43.393Z"
   },
   {
    "duration": 100,
    "start_time": "2024-01-27T10:44:43.399Z"
   },
   {
    "duration": 174,
    "start_time": "2024-01-27T10:44:43.501Z"
   },
   {
    "duration": 252,
    "start_time": "2024-01-27T10:44:43.677Z"
   },
   {
    "duration": 5,
    "start_time": "2024-01-27T10:44:43.930Z"
   },
   {
    "duration": 49,
    "start_time": "2024-01-27T10:44:43.936Z"
   },
   {
    "duration": 52,
    "start_time": "2024-01-27T10:44:43.986Z"
   },
   {
    "duration": 9,
    "start_time": "2024-01-27T10:44:44.039Z"
   },
   {
    "duration": 255,
    "start_time": "2024-01-27T10:44:44.049Z"
   },
   {
    "duration": 12445,
    "start_time": "2024-01-27T10:44:44.306Z"
   },
   {
    "duration": 16,
    "start_time": "2024-01-27T10:44:56.752Z"
   },
   {
    "duration": 40018,
    "start_time": "2024-01-27T10:44:56.846Z"
   },
   {
    "duration": 7,
    "start_time": "2024-01-27T10:45:36.866Z"
   },
   {
    "duration": 5247,
    "start_time": "2024-01-27T10:45:36.874Z"
   },
   {
    "duration": 5,
    "start_time": "2024-01-27T10:45:42.122Z"
   },
   {
    "duration": 253,
    "start_time": "2024-01-27T10:50:42.070Z"
   },
   {
    "duration": 40,
    "start_time": "2024-01-27T10:52:11.650Z"
   },
   {
    "duration": 248,
    "start_time": "2024-01-27T10:52:22.537Z"
   },
   {
    "duration": 250,
    "start_time": "2024-01-27T10:52:34.853Z"
   },
   {
    "duration": 266,
    "start_time": "2024-01-27T10:52:39.605Z"
   },
   {
    "duration": 3,
    "start_time": "2024-01-27T10:53:04.058Z"
   },
   {
    "duration": 3,
    "start_time": "2024-01-27T10:53:14.186Z"
   },
   {
    "duration": 4309,
    "start_time": "2024-01-27T10:53:26.456Z"
   },
   {
    "duration": 87,
    "start_time": "2024-01-27T10:53:55.203Z"
   },
   {
    "duration": 89,
    "start_time": "2024-01-27T10:53:59.056Z"
   },
   {
    "duration": 1318,
    "start_time": "2024-01-27T10:56:30.369Z"
   },
   {
    "duration": 3,
    "start_time": "2024-01-27T10:56:31.688Z"
   },
   {
    "duration": 219,
    "start_time": "2024-01-27T10:56:31.692Z"
   },
   {
    "duration": 2,
    "start_time": "2024-01-27T10:56:31.913Z"
   },
   {
    "duration": 36,
    "start_time": "2024-01-27T10:56:31.916Z"
   },
   {
    "duration": 139,
    "start_time": "2024-01-27T10:56:31.954Z"
   },
   {
    "duration": 155,
    "start_time": "2024-01-27T10:56:32.094Z"
   },
   {
    "duration": 36,
    "start_time": "2024-01-27T10:56:32.250Z"
   },
   {
    "duration": 215,
    "start_time": "2024-01-27T10:56:32.287Z"
   },
   {
    "duration": 232,
    "start_time": "2024-01-27T10:56:32.504Z"
   },
   {
    "duration": 29,
    "start_time": "2024-01-27T10:56:32.737Z"
   },
   {
    "duration": 12,
    "start_time": "2024-01-27T10:56:32.767Z"
   },
   {
    "duration": 25,
    "start_time": "2024-01-27T10:56:32.781Z"
   },
   {
    "duration": 23,
    "start_time": "2024-01-27T10:56:32.808Z"
   },
   {
    "duration": 19,
    "start_time": "2024-01-27T10:56:32.832Z"
   },
   {
    "duration": 6,
    "start_time": "2024-01-27T10:56:32.853Z"
   },
   {
    "duration": 15,
    "start_time": "2024-01-27T10:56:32.860Z"
   },
   {
    "duration": 52,
    "start_time": "2024-01-27T10:56:32.876Z"
   },
   {
    "duration": 25,
    "start_time": "2024-01-27T10:56:32.929Z"
   },
   {
    "duration": 25,
    "start_time": "2024-01-27T10:56:32.956Z"
   },
   {
    "duration": 41,
    "start_time": "2024-01-27T10:56:32.982Z"
   },
   {
    "duration": 50,
    "start_time": "2024-01-27T10:56:33.025Z"
   },
   {
    "duration": 16,
    "start_time": "2024-01-27T10:56:33.077Z"
   },
   {
    "duration": 21,
    "start_time": "2024-01-27T10:56:33.094Z"
   },
   {
    "duration": 27,
    "start_time": "2024-01-27T10:56:33.116Z"
   },
   {
    "duration": 35,
    "start_time": "2024-01-27T10:56:33.144Z"
   },
   {
    "duration": 9,
    "start_time": "2024-01-27T10:56:33.180Z"
   },
   {
    "duration": 19,
    "start_time": "2024-01-27T10:56:33.192Z"
   },
   {
    "duration": 20,
    "start_time": "2024-01-27T10:56:33.212Z"
   },
   {
    "duration": 14,
    "start_time": "2024-01-27T10:56:33.234Z"
   },
   {
    "duration": 16,
    "start_time": "2024-01-27T10:56:33.249Z"
   },
   {
    "duration": 19,
    "start_time": "2024-01-27T10:56:33.266Z"
   },
   {
    "duration": 9,
    "start_time": "2024-01-27T10:56:33.287Z"
   },
   {
    "duration": 16,
    "start_time": "2024-01-27T10:56:33.297Z"
   },
   {
    "duration": 27,
    "start_time": "2024-01-27T10:56:33.314Z"
   },
   {
    "duration": 6,
    "start_time": "2024-01-27T10:56:33.342Z"
   },
   {
    "duration": 18,
    "start_time": "2024-01-27T10:56:33.349Z"
   },
   {
    "duration": 12,
    "start_time": "2024-01-27T10:56:33.368Z"
   },
   {
    "duration": 18,
    "start_time": "2024-01-27T10:56:33.382Z"
   },
   {
    "duration": 36,
    "start_time": "2024-01-27T10:56:33.402Z"
   },
   {
    "duration": 15,
    "start_time": "2024-01-27T10:56:33.439Z"
   },
   {
    "duration": 48,
    "start_time": "2024-01-27T10:56:33.455Z"
   },
   {
    "duration": 3,
    "start_time": "2024-01-27T10:56:33.504Z"
   },
   {
    "duration": 26,
    "start_time": "2024-01-27T10:56:33.508Z"
   },
   {
    "duration": 6,
    "start_time": "2024-01-27T10:56:33.535Z"
   },
   {
    "duration": 34,
    "start_time": "2024-01-27T10:56:33.542Z"
   },
   {
    "duration": 25,
    "start_time": "2024-01-27T10:56:33.577Z"
   },
   {
    "duration": 13,
    "start_time": "2024-01-27T10:56:33.603Z"
   },
   {
    "duration": 12,
    "start_time": "2024-01-27T10:56:33.618Z"
   },
   {
    "duration": 50,
    "start_time": "2024-01-27T10:56:33.631Z"
   },
   {
    "duration": 3,
    "start_time": "2024-01-27T10:56:33.683Z"
   },
   {
    "duration": 11,
    "start_time": "2024-01-27T10:56:33.687Z"
   },
   {
    "duration": 40,
    "start_time": "2024-01-27T10:56:33.699Z"
   },
   {
    "duration": 950,
    "start_time": "2024-01-27T10:56:33.740Z"
   },
   {
    "duration": 4,
    "start_time": "2024-01-27T10:56:34.691Z"
   },
   {
    "duration": 5,
    "start_time": "2024-01-27T10:56:34.697Z"
   },
   {
    "duration": 81,
    "start_time": "2024-01-27T10:56:34.702Z"
   },
   {
    "duration": 168,
    "start_time": "2024-01-27T10:56:34.784Z"
   },
   {
    "duration": 248,
    "start_time": "2024-01-27T10:56:34.953Z"
   },
   {
    "duration": 4,
    "start_time": "2024-01-27T10:56:35.202Z"
   },
   {
    "duration": 47,
    "start_time": "2024-01-27T10:56:35.208Z"
   },
   {
    "duration": 4,
    "start_time": "2024-01-27T10:56:35.256Z"
   },
   {
    "duration": 7,
    "start_time": "2024-01-27T10:56:35.261Z"
   },
   {
    "duration": 265,
    "start_time": "2024-01-27T10:56:35.269Z"
   },
   {
    "duration": 11517,
    "start_time": "2024-01-27T10:56:35.535Z"
   },
   {
    "duration": 4,
    "start_time": "2024-01-27T10:56:47.054Z"
   },
   {
    "duration": 38979,
    "start_time": "2024-01-27T10:56:47.059Z"
   },
   {
    "duration": 4,
    "start_time": "2024-01-27T10:57:26.039Z"
   },
   {
    "duration": 4420,
    "start_time": "2024-01-27T10:57:26.044Z"
   },
   {
    "duration": 4,
    "start_time": "2024-01-27T10:57:30.466Z"
   },
   {
    "duration": 101,
    "start_time": "2024-01-27T11:02:04.261Z"
   },
   {
    "duration": 5029,
    "start_time": "2024-01-27T11:03:13.892Z"
   },
   {
    "duration": 4977,
    "start_time": "2024-01-27T11:04:29.539Z"
   },
   {
    "duration": 4778,
    "start_time": "2024-01-27T11:06:46.033Z"
   }
  ],
  "kernelspec": {
   "display_name": "Python 3 (ipykernel)",
   "language": "python",
   "name": "python3"
  },
  "language_info": {
   "codemirror_mode": {
    "name": "ipython",
    "version": 3
   },
   "file_extension": ".py",
   "mimetype": "text/x-python",
   "name": "python",
   "nbconvert_exporter": "python",
   "pygments_lexer": "ipython3",
   "version": "3.10.9"
  },
  "toc": {
   "base_numbering": 1,
   "nav_menu": {},
   "number_sections": true,
   "sideBar": true,
   "skip_h1_title": true,
   "title_cell": "Table of Contents",
   "title_sidebar": "Contents",
   "toc_cell": false,
   "toc_position": {
    "height": "calc(100% - 180px)",
    "left": "10px",
    "top": "150px",
    "width": "265px"
   },
   "toc_section_display": true,
   "toc_window_display": true
  }
 },
 "nbformat": 4,
 "nbformat_minor": 5
}
